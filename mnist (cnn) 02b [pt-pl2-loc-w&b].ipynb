{
 "cells": [
  {
   "cell_type": "markdown",
   "metadata": {},
   "source": [
    "validation dataset is split from train (main) dataset\n",
    "\n",
    "validation dataset =/= test dataset\n",
    "\n",
    "added wandb !!!"
   ]
  },
  {
   "cell_type": "code",
   "execution_count": 1,
   "metadata": {},
   "outputs": [],
   "source": [
    "from pipeline02 import *\n",
    "\n",
    "from PIL import Image"
   ]
  },
  {
   "cell_type": "code",
   "execution_count": 2,
   "metadata": {},
   "outputs": [],
   "source": [
    "RANDOM_SEED = 1\n",
    "BATCH_SIZE = 32\n",
    "EPOCHS = 10\n",
    "LEARNING_RATE = 0.001"
   ]
  },
  {
   "cell_type": "code",
   "execution_count": 3,
   "metadata": {},
   "outputs": [],
   "source": [
    "pl = Pipeline(task='classification', optimizer=torch.optim.Adam, loss_fn=nn.CrossEntropyLoss(), \n",
    "              random_seed=RANDOM_SEED, \n",
    "              batch_size=BATCH_SIZE, \n",
    "              epochs=EPOCHS,\n",
    "              learning_rate=LEARNING_RATE, \n",
    "              wandb_log=True, progressbar=True)"
   ]
  },
  {
   "cell_type": "code",
   "execution_count": 4,
   "metadata": {},
   "outputs": [],
   "source": [
    "transform = transforms.Compose(\n",
    "    [transforms.ToTensor(),\n",
    "    # transforms.Normalize((0.5,), (0.5,)),\n",
    "])"
   ]
  },
  {
   "cell_type": "code",
   "execution_count": 5,
   "metadata": {},
   "outputs": [
    {
     "name": "stdout",
     "output_type": "stream",
     "text": [
      "main dataset size: 60000\n",
      "test dataset size: 10000\n",
      "train dataset size: 50000\n",
      "validation dataset size: 10000\n"
     ]
    }
   ],
   "source": [
    "pl.load_mnist(root_for_data='../pytorch/MNIST_data/', transform=transform)"
   ]
  },
  {
   "cell_type": "code",
   "execution_count": 6,
   "metadata": {},
   "outputs": [],
   "source": [
    "X = next(iter(pl.train_loader))"
   ]
  },
  {
   "cell_type": "code",
   "execution_count": 7,
   "metadata": {},
   "outputs": [
    {
     "data": {
      "text/plain": [
       "torch.Size([32, 1, 28, 28])"
      ]
     },
     "execution_count": 7,
     "metadata": {},
     "output_type": "execute_result"
    }
   ],
   "source": [
    "X[0].shape"
   ]
  },
  {
   "cell_type": "code",
   "execution_count": 8,
   "metadata": {},
   "outputs": [
    {
     "data": {
      "text/plain": [
       "<matplotlib.image.AxesImage at 0x283397b1d30>"
      ]
     },
     "execution_count": 8,
     "metadata": {},
     "output_type": "execute_result"
    },
    {
     "data": {
      "image/png": "[encoded data removed]",
      "text/plain": [
       "<Figure size 432x288 with 1 Axes>"
      ]
     },
     "metadata": {
      "needs_background": "light"
     },
     "output_type": "display_data"
    }
   ],
   "source": [
    "plt.imshow(X[0][2].view(28,28), cmap='gray')"
   ]
  },
  {
   "cell_type": "code",
   "execution_count": 9,
   "metadata": {},
   "outputs": [
    {
     "name": "stderr",
     "output_type": "stream",
     "text": [
      "wandb: Currently logged in as: teamtom (use `wandb login --relogin` to force relogin)\n"
     ]
    },
    {
     "data": {
      "text/plain": [
       "True"
      ]
     },
     "execution_count": 9,
     "metadata": {},
     "output_type": "execute_result"
    }
   ],
   "source": [
    "wandb.login()"
   ]
  },
  {
   "cell_type": "code",
   "execution_count": 10,
   "metadata": {},
   "outputs": [
    {
     "data": {
      "text/html": [
       "\n",
       "                Tracking run with wandb version 0.10.31<br/>\n",
       "                Syncing run <strong style=\"color:#cdcd00\">easy-field-8</strong> to <a href=\"https://wandb.ai\" target=\"_blank\">Weights & Biases</a> <a href=\"https://docs.wandb.com/integrations/jupyter.html\" target=\"_blank\">(Documentation)</a>.<br/>\n",
       "                Project page: <a href=\"https://wandb.ai/teamtom/mnist-with-pipeline%2Bwandb\" target=\"_blank\">https://wandb.ai/teamtom/mnist-with-pipeline%2Bwandb</a><br/>\n",
       "                Run page: <a href=\"https://wandb.ai/teamtom/mnist-with-pipeline%2Bwandb/runs/vgpp9db2\" target=\"_blank\">https://wandb.ai/teamtom/mnist-with-pipeline%2Bwandb/runs/vgpp9db2</a><br/>\n",
       "                Run data is saved locally in <code>c:\\python\\anaconda_base\\pytorch-tutorial\\wandb\\run-20211010_212750-vgpp9db2</code><br/><br/>\n",
       "            "
      ],
      "text/plain": [
       "<IPython.core.display.HTML object>"
      ]
     },
     "metadata": {},
     "output_type": "display_data"
    },
    {
     "data": {
      "text/html": [
       "<h1>Run(vgpp9db2)</h1><iframe src=\"https://wandb.ai/teamtom/mnist-with-pipeline%2Bwandb/runs/vgpp9db2\" style=\"border:none;width:100%;height:400px\"></iframe>"
      ],
      "text/plain": [
       "<wandb.sdk.wandb_run.Run at 0x2833be56e80>"
      ]
     },
     "execution_count": 10,
     "metadata": {},
     "output_type": "execute_result"
    }
   ],
   "source": [
    "wandb.init(project='mnist-with-pipeline+wandb')"
   ]
  },
  {
   "cell_type": "code",
   "execution_count": 11,
   "metadata": {},
   "outputs": [],
   "source": [
    "cnf = wandb.config\n",
    "cnf.update({\n",
    "    \"random_seed\" : RANDOM_SEED, \"epochs\" : EPOCHS, \"batch_size\": BATCH_SIZE, \"learning_rate\" : LEARNING_RATE\n",
    "})"
   ]
  },
  {
   "cell_type": "code",
   "execution_count": 12,
   "metadata": {},
   "outputs": [
    {
     "name": "stderr",
     "output_type": "stream",
     "text": [
      "Training  : 100%|#################################################################################################| 1563/1563 [00:43<00:00, 36.23batch/s]\n",
      "Validation: 100%|###################################################################################################| 313/313 [00:03<00:00, 80.82batch/s]\n",
      "Training  :   0%|2                                                                                                   | 4/1563 [00:00<00:39, 39.04batch/s]"
     ]
    },
    {
     "name": "stdout",
     "output_type": "stream",
     "text": [
      "| Epoch: 0001 | Train Loss: 0.176 | Train Acc: 94.58% | Val. Loss: 0.056 | Val. Acc: 98.15% |\n"
     ]
    },
    {
     "name": "stderr",
     "output_type": "stream",
     "text": [
      "Training  : 100%|#################################################################################################| 1563/1563 [00:43<00:00, 35.82batch/s]\n",
      "Validation: 100%|###################################################################################################| 313/313 [00:03<00:00, 80.00batch/s]\n",
      "Training  :   0%|2                                                                                                   | 4/1563 [00:00<00:47, 32.96batch/s]"
     ]
    },
    {
     "name": "stdout",
     "output_type": "stream",
     "text": [
      "| Epoch: 0002 | Train Loss: 0.050 | Train Acc: 98.46% | Val. Loss: 0.044 | Val. Acc: 98.52% |\n"
     ]
    },
    {
     "name": "stderr",
     "output_type": "stream",
     "text": [
      "Training  : 100%|#################################################################################################| 1563/1563 [00:44<00:00, 35.12batch/s]\n",
      "Validation: 100%|###################################################################################################| 313/313 [00:05<00:00, 60.91batch/s]\n",
      "Training  :   0%|1                                                                                                   | 3/1563 [00:00<01:13, 21.16batch/s]"
     ]
    },
    {
     "name": "stdout",
     "output_type": "stream",
     "text": [
      "| Epoch: 0003 | Train Loss: 0.035 | Train Acc: 98.89% | Val. Loss: 0.047 | Val. Acc: 98.69% |\n"
     ]
    },
    {
     "name": "stderr",
     "output_type": "stream",
     "text": [
      "Training  : 100%|#################################################################################################| 1563/1563 [00:45<00:00, 34.43batch/s]\n",
      "Validation: 100%|###################################################################################################| 313/313 [00:04<00:00, 76.58batch/s]\n",
      "Training  :   0%|2                                                                                                   | 4/1563 [00:00<00:40, 38.21batch/s]"
     ]
    },
    {
     "name": "stdout",
     "output_type": "stream",
     "text": [
      "| Epoch: 0004 | Train Loss: 0.026 | Train Acc: 99.16% | Val. Loss: 0.035 | Val. Acc: 98.75% |\n"
     ]
    },
    {
     "name": "stderr",
     "output_type": "stream",
     "text": [
      "Training  : 100%|#################################################################################################| 1563/1563 [00:42<00:00, 36.64batch/s]\n",
      "Validation: 100%|###################################################################################################| 313/313 [00:03<00:00, 80.31batch/s]\n",
      "Training  :   0%|2                                                                                                   | 4/1563 [00:00<00:44, 35.15batch/s]"
     ]
    },
    {
     "name": "stdout",
     "output_type": "stream",
     "text": [
      "| Epoch: 0005 | Train Loss: 0.019 | Train Acc: 99.38% | Val. Loss: 0.040 | Val. Acc: 98.68% |\n"
     ]
    },
    {
     "name": "stderr",
     "output_type": "stream",
     "text": [
      "Training  : 100%|#################################################################################################| 1563/1563 [00:44<00:00, 35.20batch/s]\n",
      "Validation: 100%|###################################################################################################| 313/313 [00:03<00:00, 79.19batch/s]\n",
      "Training  :   0%|2                                                                                                   | 4/1563 [00:00<00:40, 38.25batch/s]"
     ]
    },
    {
     "name": "stdout",
     "output_type": "stream",
     "text": [
      "| Epoch: 0006 | Train Loss: 0.014 | Train Acc: 99.53% | Val. Loss: 0.039 | Val. Acc: 98.83% |\n"
     ]
    },
    {
     "name": "stderr",
     "output_type": "stream",
     "text": [
      "Training  : 100%|#################################################################################################| 1563/1563 [00:44<00:00, 34.74batch/s]\n",
      "Validation: 100%|###################################################################################################| 313/313 [00:03<00:00, 80.08batch/s]\n",
      "Training  :   0%|1                                                                                                   | 2/1563 [00:00<01:22, 18.82batch/s]"
     ]
    },
    {
     "name": "stdout",
     "output_type": "stream",
     "text": [
      "| Epoch: 0007 | Train Loss: 0.012 | Train Acc: 99.60% | Val. Loss: 0.046 | Val. Acc: 98.64% |\n"
     ]
    },
    {
     "name": "stderr",
     "output_type": "stream",
     "text": [
      "Training  : 100%|#################################################################################################| 1563/1563 [00:44<00:00, 35.07batch/s]\n",
      "Validation: 100%|###################################################################################################| 313/313 [00:03<00:00, 79.87batch/s]\n",
      "Training  :   0%|2                                                                                                   | 4/1563 [00:00<00:42, 37.10batch/s]"
     ]
    },
    {
     "name": "stdout",
     "output_type": "stream",
     "text": [
      "| Epoch: 0008 | Train Loss: 0.010 | Train Acc: 99.66% | Val. Loss: 0.038 | Val. Acc: 98.92% |\n"
     ]
    },
    {
     "name": "stderr",
     "output_type": "stream",
     "text": [
      "Training  : 100%|#################################################################################################| 1563/1563 [00:47<00:00, 33.18batch/s]\n",
      "Validation: 100%|###################################################################################################| 313/313 [00:04<00:00, 71.81batch/s]\n",
      "Training  :   0%|2                                                                                                   | 4/1563 [00:00<00:45, 33.90batch/s]"
     ]
    },
    {
     "name": "stdout",
     "output_type": "stream",
     "text": [
      "| Epoch: 0009 | Train Loss: 0.008 | Train Acc: 99.74% | Val. Loss: 0.046 | Val. Acc: 98.77% |\n"
     ]
    },
    {
     "name": "stderr",
     "output_type": "stream",
     "text": [
      "Training  : 100%|#################################################################################################| 1563/1563 [00:48<00:00, 32.46batch/s]\n",
      "Validation: 100%|###################################################################################################| 313/313 [00:05<00:00, 61.47batch/s]\n"
     ]
    },
    {
     "name": "stdout",
     "output_type": "stream",
     "text": [
      "| Epoch: 0010 | Train Loss: 0.007 | Train Acc: 99.76% | Val. Loss: 0.041 | Val. Acc: 99.02% |\n",
      "Wall time: 8min 10s\n"
     ]
    }
   ],
   "source": [
    "%%time\n",
    "\n",
    "model = nn.Sequential(\n",
    "        nn.Conv2d(1, 16, kernel_size=3, padding=1, stride=1),\n",
    "        nn.ReLU(),\n",
    "            # nn.Dropout(0.2),\n",
    "        nn.MaxPool2d(2, 2),\n",
    "        nn.Conv2d(16, 64, kernel_size=3, padding=1, stride=1),\n",
    "        nn.ReLU(),\n",
    "            # nn.Dropout(0.2),\n",
    "        nn.MaxPool2d(2, 2),\n",
    "            # nn.Conv2d(64, 128, kernel_size=3, padding=1, stride=1),\n",
    "            # nn.ReLU(),\n",
    "            # nn.Dropout(0.2),\n",
    "            # nn.MaxPool2d(2, 2),\n",
    "        nn.Flatten(), \n",
    "        nn.Linear(64 * 7 * 7, 128), # 28x28 images\n",
    "        nn.ReLU(),\n",
    "            # nn.Linear(128, 64),\n",
    "            # nn.ReLU(),\n",
    "        nn.Linear(128, 10)\n",
    "    ).to(pl.device)\n",
    "    \n",
    "history = pl.fit(model)"
   ]
  },
  {
   "cell_type": "code",
   "execution_count": 13,
   "metadata": {},
   "outputs": [
    {
     "name": "stderr",
     "output_type": "stream",
     "text": [
      "C:\\Users\\teamt\\AppData\\Roaming\\Python\\Python38\\site-packages\\plotly\\matplotlylib\\renderer.py:409: UserWarning:\n",
      "\n",
      "Bummer! Plotly can currently only draw Line2D objects from matplotlib that are in 'data' coordinates!\n",
      "\n",
      "C:\\Users\\teamt\\AppData\\Roaming\\Python\\Python38\\site-packages\\plotly\\matplotlylib\\renderer.py:511: UserWarning:\n",
      "\n",
      "I found a path object that I don't think is part of a bar chart. Ignoring.\n",
      "\n"
     ]
    }
   ],
   "source": [
    "pl.show_history(history)"
   ]
  },
  {
   "cell_type": "code",
   "execution_count": 14,
   "metadata": {},
   "outputs": [
    {
     "name": "stdout",
     "output_type": "stream",
     "text": [
      "              precision    recall  f1-score   support\n",
      "\n",
      "           0       0.99      1.00      0.99       980\n",
      "           1       1.00      1.00      1.00      1135\n",
      "           2       0.99      0.99      0.99      1032\n",
      "           3       0.99      0.99      0.99      1010\n",
      "           4       0.99      1.00      0.99       982\n",
      "           5       0.99      0.99      0.99       892\n",
      "           6       0.99      0.99      0.99       958\n",
      "           7       0.99      0.99      0.99      1028\n",
      "           8       0.98      0.99      0.99       974\n",
      "           9       0.99      0.98      0.98      1009\n",
      "\n",
      "    accuracy                           0.99     10000\n",
      "   macro avg       0.99      0.99      0.99     10000\n",
      "weighted avg       0.99      0.99      0.99     10000\n",
      "\n",
      "\n",
      "\n",
      "Accuracy Score: 0.9909\n",
      "\n",
      "\n",
      "Confusion Matrix:\n",
      "\n",
      " [[ 977    0    0    0    0    0    0    1    2    0]\n",
      " [   0 1134    0    0    1    0    0    0    0    0]\n",
      " [   0    0 1023    3    0    0    1    5    0    0]\n",
      " [   0    0    1 1002    0    2    0    1    3    1]\n",
      " [   0    0    1    0  980    0    0    0    0    1]\n",
      " [   1    0    0    6    0  881    3    0    1    0]\n",
      " [   3    2    1    0    1    1  949    0    1    0]\n",
      " [   1    3    6    0    0    0    0 1014    2    2]\n",
      " [   2    0    1    1    1    0    1    2  965    1]\n",
      " [   0    0    0    0   11    4    0    4    6  984]] \n",
      "\n",
      "\n"
     ]
    },
    {
     "data": {
      "image/png": "[encoded data removed]",
      "text/plain": [
       "<Figure size 432x288 with 2 Axes>"
      ]
     },
     "metadata": {
      "needs_background": "light"
     },
     "output_type": "display_data"
    },
    {
     "name": "stdout",
     "output_type": "stream",
     "text": [
      "\n",
      "\n",
      "Matthews correlation coefficient (MCC): 0.9898884667789948\n"
     ]
    }
   ],
   "source": [
    "acc_score, mcc = pl.show_metrics(model, pl.test_loader, heatmap=True)"
   ]
  },
  {
   "cell_type": "code",
   "execution_count": 15,
   "metadata": {},
   "outputs": [
    {
     "data": {
      "text/html": [
       "<br/>Waiting for W&B process to finish, PID 20084<br/>Program ended successfully."
      ],
      "text/plain": [
       "<IPython.core.display.HTML object>"
      ]
     },
     "metadata": {},
     "output_type": "display_data"
    },
    {
     "data": {
      "application/vnd.jupyter.widget-view+json": {
       "model_id": "6a98d9bcd5244d368b5a285664f7bc01",
       "version_major": 2,
       "version_minor": 0
      },
      "text/plain": [
       "VBox(children=(Label(value=' 0.01MB of 0.01MB uploaded (0.00MB deduped)\\r'), FloatProgress(value=1.0, max=1.0)…"
      ]
     },
     "metadata": {},
     "output_type": "display_data"
    },
    {
     "data": {
      "text/html": [
       "Find user logs for this run at: <code>c:\\python\\anaconda_base\\pytorch-tutorial\\wandb\\run-20211010_212750-vgpp9db2\\logs\\debug.log</code>"
      ],
      "text/plain": [
       "<IPython.core.display.HTML object>"
      ]
     },
     "metadata": {},
     "output_type": "display_data"
    },
    {
     "data": {
      "text/html": [
       "Find internal logs for this run at: <code>c:\\python\\anaconda_base\\pytorch-tutorial\\wandb\\run-20211010_212750-vgpp9db2\\logs\\debug-internal.log</code>"
      ],
      "text/plain": [
       "<IPython.core.display.HTML object>"
      ]
     },
     "metadata": {},
     "output_type": "display_data"
    },
    {
     "data": {
      "text/html": [
       "<h3>Run summary:</h3><br/><style>\n",
       "    table.wandb td:nth-child(1) { padding: 0 10px; text-align: right }\n",
       "    </style><table class=\"wandb\">\n",
       "<tr><td>train_loss</td><td>0.00687</td></tr><tr><td>train_acc</td><td>0.99764</td></tr><tr><td>valid_loss</td><td>0.04078</td></tr><tr><td>valid_acc</td><td>0.99022</td></tr><tr><td>lr</td><td>0.001</td></tr><tr><td>epoch_time</td><td>53.24331</td></tr><tr><td>_runtime</td><td>499</td></tr><tr><td>_timestamp</td><td>1633894570</td></tr><tr><td>_step</td><td>10</td></tr><tr><td>accuracy</td><td>0.9909</td></tr><tr><td>MCC</td><td>0.98989</td></tr></table>"
      ],
      "text/plain": [
       "<IPython.core.display.HTML object>"
      ]
     },
     "metadata": {},
     "output_type": "display_data"
    },
    {
     "data": {
      "text/html": [
       "<h3>Run history:</h3><br/><style>\n",
       "    table.wandb td:nth-child(1) { padding: 0 10px; text-align: right }\n",
       "    </style><table class=\"wandb\">\n",
       "<tr><td>train_loss</td><td>█▃▂▂▂▁▁▁▁▁</td></tr><tr><td>train_acc</td><td>▁▆▇▇▇█████</td></tr><tr><td>valid_loss</td><td>█▄▅▁▃▂▅▂▅▃</td></tr><tr><td>valid_acc</td><td>▁▄▅▆▅▆▅▇▆█</td></tr><tr><td>lr</td><td>▁▁▁▁▁▁▁▁▁▁</td></tr><tr><td>epoch_time</td><td>▁▂▄▄▁▃▃▃▆█</td></tr><tr><td>_runtime</td><td>▁▂▃▃▄▅▆▆▇██</td></tr><tr><td>_timestamp</td><td>▁▂▃▃▄▅▆▆▇██</td></tr><tr><td>_step</td><td>▁▂▂▃▄▅▅▆▇▇█</td></tr></table><br/>"
      ],
      "text/plain": [
       "<IPython.core.display.HTML object>"
      ]
     },
     "metadata": {},
     "output_type": "display_data"
    },
    {
     "data": {
      "text/html": [
       "Synced 5 W&B file(s), 1 media file(s), 0 artifact file(s) and 0 other file(s)"
      ],
      "text/plain": [
       "<IPython.core.display.HTML object>"
      ]
     },
     "metadata": {},
     "output_type": "display_data"
    },
    {
     "data": {
      "text/html": [
       "\n",
       "                    <br/>Synced <strong style=\"color:#cdcd00\">easy-field-8</strong>: <a href=\"https://wandb.ai/teamtom/mnist-with-pipeline%2Bwandb/runs/vgpp9db2\" target=\"_blank\">https://wandb.ai/teamtom/mnist-with-pipeline%2Bwandb/runs/vgpp9db2</a><br/>\n",
       "                "
      ],
      "text/plain": [
       "<IPython.core.display.HTML object>"
      ]
     },
     "metadata": {},
     "output_type": "display_data"
    }
   ],
   "source": [
    "wandb.run.summary[\"accuracy\"] = acc_score\n",
    "wandb.run.summary[\"MCC\"] = mcc\n",
    "\n",
    "wandb.finish()"
   ]
  }
 ],
 "metadata": {
  "kernelspec": {
   "display_name": "main",
   "language": "python",
   "name": "main"
  },
  "language_info": {
   "codemirror_mode": {
    "name": "ipython",
    "version": 3
   },
   "file_extension": ".py",
   "mimetype": "text/x-python",
   "name": "python",
   "nbconvert_exporter": "python",
   "pygments_lexer": "ipython3",
   "version": "3.8.8"
  }
 },
 "nbformat": 4,
 "nbformat_minor": 4
}
