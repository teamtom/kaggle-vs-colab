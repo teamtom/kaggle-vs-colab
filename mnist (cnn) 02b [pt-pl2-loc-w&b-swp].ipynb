{
 "cells": [
  {
   "cell_type": "code",
   "execution_count": 1,
   "metadata": {},
   "outputs": [],
   "source": [
    "from pipeline02 import *"
   ]
  },
  {
   "cell_type": "code",
   "execution_count": 2,
   "metadata": {},
   "outputs": [
    {
     "name": "stderr",
     "output_type": "stream",
     "text": [
      "wandb: Currently logged in as: teamtom (use `wandb login --relogin` to force relogin)\n"
     ]
    },
    {
     "data": {
      "text/plain": [
       "True"
      ]
     },
     "execution_count": 2,
     "metadata": {},
     "output_type": "execute_result"
    }
   ],
   "source": [
    "wandb.login()"
   ]
  },
  {
   "cell_type": "code",
   "execution_count": 3,
   "metadata": {},
   "outputs": [
    {
     "name": "stdout",
     "output_type": "stream",
     "text": [
      "Create sweep with ID: wkfg063y\n",
      "Sweep URL: https://wandb.ai/teamtom/mnist-with-pipeline%2Bwandb/sweeps/wkfg063y\n"
     ]
    }
   ],
   "source": [
    "sweep_config = {\n",
    "    'method': 'grid',\n",
    "    'metric': {\n",
    "        'name': 'acc',\n",
    "        'goal': 'maximize'   \n",
    "        }\n",
    "    }\n",
    "\n",
    "parameters_dict = {\n",
    "    'learning_rate': {\n",
    "        'values': [0.001, 0.002, 0.003]\n",
    "        }\n",
    "    }\n",
    "\n",
    "sweep_config['parameters'] = parameters_dict\n",
    "\n",
    "sweep_id = wandb.sweep(sweep_config, project=\"mnist-with-pipeline+wandb\")"
   ]
  },
  {
   "cell_type": "markdown",
   "metadata": {},
   "source": [
    "## data preparation"
   ]
  },
  {
   "cell_type": "code",
   "execution_count": 4,
   "metadata": {},
   "outputs": [],
   "source": [
    "RANDOM_SEED = 1\n",
    "BATCH_SIZE = 32\n",
    "EPOCHS = 10\n",
    "# LEARNING_RATE = 0.001"
   ]
  },
  {
   "cell_type": "code",
   "execution_count": 5,
   "metadata": {},
   "outputs": [],
   "source": [
    "pl = Pipeline(task='classification', optimizer=torch.optim.Adam, loss_fn=nn.CrossEntropyLoss(), \n",
    "              random_seed=RANDOM_SEED, \n",
    "              batch_size=BATCH_SIZE, \n",
    "              epochs=EPOCHS,\n",
    "              # learning_rate=LEARNING_RATE, \n",
    "              wandb_log=True, progressbar=True)"
   ]
  },
  {
   "cell_type": "code",
   "execution_count": 6,
   "metadata": {},
   "outputs": [],
   "source": [
    "transform = transforms.Compose(\n",
    "    [transforms.ToTensor(),\n",
    "    # transforms.Normalize((0.5,), (0.5,)),\n",
    "])"
   ]
  },
  {
   "cell_type": "code",
   "execution_count": 7,
   "metadata": {},
   "outputs": [
    {
     "name": "stdout",
     "output_type": "stream",
     "text": [
      "main dataset size: 60000\n",
      "test dataset size: 10000\n",
      "train dataset size: 50000\n",
      "validation dataset size: 10000\n"
     ]
    }
   ],
   "source": [
    "pl.load_mnist(root_for_data='../pytorch/MNIST_data/', transform=transform)"
   ]
  },
  {
   "cell_type": "code",
   "execution_count": 8,
   "metadata": {},
   "outputs": [],
   "source": [
    "def sweep_me(config=None):\n",
    "    \n",
    "    with wandb.init(config=config):\n",
    "        config = wandb.config\n",
    "        \n",
    "        # pl.threshold = config.threshold\n",
    "        # pl.epochs = config.epochs\n",
    "        pl.learning_rate = config.learning_rate\n",
    "        # pl.batch_size = config.batch_size\n",
    "        \n",
    "        model = nn.Sequential(\n",
    "            nn.Conv2d(1, 16, kernel_size=3, padding=1, stride=1),\n",
    "            nn.ReLU(),\n",
    "                # nn.Dropout(0.2),\n",
    "            nn.MaxPool2d(2, 2),\n",
    "            nn.Conv2d(16, 64, kernel_size=3, padding=1, stride=1),\n",
    "            nn.ReLU(),\n",
    "                # nn.Dropout(0.2),\n",
    "            nn.MaxPool2d(2, 2),\n",
    "                # nn.Conv2d(64, 128, kernel_size=3, padding=1, stride=1),\n",
    "                # nn.ReLU(),\n",
    "                # nn.Dropout(0.2),\n",
    "                # nn.MaxPool2d(2, 2),\n",
    "            nn.Flatten(), \n",
    "            nn.Linear(64 * 7 * 7, 128), # 28x28 images\n",
    "            nn.ReLU(),\n",
    "                # nn.Linear(128, 64),\n",
    "                # nn.ReLU(),\n",
    "            nn.Linear(128, 10)\n",
    "        ).to(pl.device)\n",
    "        \n",
    "        history = pl.fit(model)\n",
    "        \n",
    "        acc, mcc = pl.show_metrics(model, pl.test_loader, supress_print=True)\n",
    "        \n",
    "        wandb.run.summary[\"accuracy\"] = acc"
   ]
  },
  {
   "cell_type": "code",
   "execution_count": 9,
   "metadata": {},
   "outputs": [
    {
     "name": "stderr",
     "output_type": "stream",
     "text": [
      "wandb: Agent Starting Run: 6ycmnuox with config:\n",
      "wandb: \tlearning_rate: 0.001\n",
      "wandb: wandb version 0.12.4 is available!  To upgrade, please run:\n",
      "wandb:  $ pip install wandb --upgrade\n"
     ]
    },
    {
     "data": {
      "text/html": [
       "\n",
       "                Tracking run with wandb version 0.10.31<br/>\n",
       "                Syncing run <strong style=\"color:#cdcd00\">fresh-sweep-1</strong> to <a href=\"https://wandb.ai\" target=\"_blank\">Weights & Biases</a> <a href=\"https://docs.wandb.com/integrations/jupyter.html\" target=\"_blank\">(Documentation)</a>.<br/>\n",
       "                Project page: <a href=\"https://wandb.ai/teamtom/mnist-with-pipeline%2Bwandb\" target=\"_blank\">https://wandb.ai/teamtom/mnist-with-pipeline%2Bwandb</a><br/>\n",
       "                Sweep page: <a href=\"https://wandb.ai/teamtom/mnist-with-pipeline%2Bwandb/sweeps/wkfg063y\" target=\"_blank\">https://wandb.ai/teamtom/mnist-with-pipeline%2Bwandb/sweeps/wkfg063y</a><br/>\n",
       "Run page: <a href=\"https://wandb.ai/teamtom/mnist-with-pipeline%2Bwandb/runs/6ycmnuox\" target=\"_blank\">https://wandb.ai/teamtom/mnist-with-pipeline%2Bwandb/runs/6ycmnuox</a><br/>\n",
       "                Run data is saved locally in <code>c:\\python\\anaconda_base\\pytorch-tutorial\\wandb\\run-20211011_090529-6ycmnuox</code><br/><br/>\n",
       "            "
      ],
      "text/plain": [
       "<IPython.core.display.HTML object>"
      ]
     },
     "metadata": {},
     "output_type": "display_data"
    },
    {
     "name": "stderr",
     "output_type": "stream",
     "text": [
      "Training  : 100%|#################################################################################################| 1563/1563 [00:44<00:00, 35.49batch/s]\n",
      "Validation: 100%|###################################################################################################| 313/313 [00:04<00:00, 76.54batch/s]\n",
      "Training  :   0%|2                                                                                                   | 4/1563 [00:00<00:45, 34.58batch/s]"
     ]
    },
    {
     "name": "stdout",
     "output_type": "stream",
     "text": [
      "| Epoch: 0001 | Train Loss: 0.179 | Train Acc: 94.49% | Val. Loss: 0.065 | Val. Acc: 97.99% |\n"
     ]
    },
    {
     "name": "stderr",
     "output_type": "stream",
     "text": [
      "Training  : 100%|#################################################################################################| 1563/1563 [00:45<00:00, 34.07batch/s]\n",
      "Validation: 100%|###################################################################################################| 313/313 [00:04<00:00, 74.48batch/s]\n",
      "Training  :   0%|2                                                                                                   | 4/1563 [00:00<00:41, 37.48batch/s]"
     ]
    },
    {
     "name": "stdout",
     "output_type": "stream",
     "text": [
      "| Epoch: 0002 | Train Loss: 0.054 | Train Acc: 98.37% | Val. Loss: 0.045 | Val. Acc: 98.50% |\n"
     ]
    },
    {
     "name": "stderr",
     "output_type": "stream",
     "text": [
      "Training  : 100%|#################################################################################################| 1563/1563 [00:46<00:00, 33.53batch/s]\n",
      "Validation: 100%|###################################################################################################| 313/313 [00:04<00:00, 75.28batch/s]\n",
      "Training  :   0%|2                                                                                                   | 4/1563 [00:00<00:45, 34.24batch/s]"
     ]
    },
    {
     "name": "stdout",
     "output_type": "stream",
     "text": [
      "| Epoch: 0003 | Train Loss: 0.037 | Train Acc: 98.82% | Val. Loss: 0.038 | Val. Acc: 98.80% |\n"
     ]
    },
    {
     "name": "stderr",
     "output_type": "stream",
     "text": [
      "Training  : 100%|#################################################################################################| 1563/1563 [00:46<00:00, 33.55batch/s]\n",
      "Validation: 100%|###################################################################################################| 313/313 [00:04<00:00, 76.30batch/s]\n",
      "Training  :   0%|2                                                                                                   | 4/1563 [00:00<00:57, 27.16batch/s]"
     ]
    },
    {
     "name": "stdout",
     "output_type": "stream",
     "text": [
      "| Epoch: 0004 | Train Loss: 0.028 | Train Acc: 99.07% | Val. Loss: 0.045 | Val. Acc: 98.55% |\n"
     ]
    },
    {
     "name": "stderr",
     "output_type": "stream",
     "text": [
      "Training  : 100%|#################################################################################################| 1563/1563 [00:46<00:00, 33.83batch/s]\n",
      "Validation: 100%|###################################################################################################| 313/313 [00:04<00:00, 74.89batch/s]\n",
      "Training  :   0%|2                                                                                                   | 4/1563 [00:00<00:47, 32.89batch/s]"
     ]
    },
    {
     "name": "stdout",
     "output_type": "stream",
     "text": [
      "| Epoch: 0005 | Train Loss: 0.022 | Train Acc: 99.28% | Val. Loss: 0.049 | Val. Acc: 98.52% |\n"
     ]
    },
    {
     "name": "stderr",
     "output_type": "stream",
     "text": [
      "Training  : 100%|#################################################################################################| 1563/1563 [00:46<00:00, 33.73batch/s]\n",
      "Validation: 100%|###################################################################################################| 313/313 [00:04<00:00, 66.21batch/s]\n",
      "Training  :   0%|1                                                                                                   | 3/1563 [00:00<00:56, 27.37batch/s]"
     ]
    },
    {
     "name": "stdout",
     "output_type": "stream",
     "text": [
      "| Epoch: 0006 | Train Loss: 0.016 | Train Acc: 99.51% | Val. Loss: 0.038 | Val. Acc: 98.77% |\n"
     ]
    },
    {
     "name": "stderr",
     "output_type": "stream",
     "text": [
      "Training  : 100%|#################################################################################################| 1563/1563 [00:47<00:00, 33.11batch/s]\n",
      "Validation: 100%|###################################################################################################| 313/313 [00:04<00:00, 72.15batch/s]\n",
      "Training  :   0%|1                                                                                                   | 2/1563 [00:00<01:26, 18.09batch/s]"
     ]
    },
    {
     "name": "stdout",
     "output_type": "stream",
     "text": [
      "| Epoch: 0007 | Train Loss: 0.013 | Train Acc: 99.60% | Val. Loss: 0.041 | Val. Acc: 98.79% |\n"
     ]
    },
    {
     "name": "stderr",
     "output_type": "stream",
     "text": [
      "Training  : 100%|#################################################################################################| 1563/1563 [00:58<00:00, 26.71batch/s]\n",
      "Validation: 100%|###################################################################################################| 313/313 [00:05<00:00, 55.78batch/s]\n",
      "Training  :   0%|3                                                                                                   | 6/1563 [00:00<00:55, 28.24batch/s]"
     ]
    },
    {
     "name": "stdout",
     "output_type": "stream",
     "text": [
      "| Epoch: 0008 | Train Loss: 0.010 | Train Acc: 99.66% | Val. Loss: 0.049 | Val. Acc: 98.62% |\n"
     ]
    },
    {
     "name": "stderr",
     "output_type": "stream",
     "text": [
      "Training  : 100%|#################################################################################################| 1563/1563 [00:58<00:00, 26.52batch/s]\n",
      "Validation: 100%|###################################################################################################| 313/313 [00:05<00:00, 55.99batch/s]\n",
      "Training  :   0%|1                                                                                                   | 3/1563 [00:00<00:53, 29.10batch/s]"
     ]
    },
    {
     "name": "stdout",
     "output_type": "stream",
     "text": [
      "| Epoch: 0009 | Train Loss: 0.009 | Train Acc: 99.70% | Val. Loss: 0.040 | Val. Acc: 98.92% |\n"
     ]
    },
    {
     "name": "stderr",
     "output_type": "stream",
     "text": [
      "Training  : 100%|#################################################################################################| 1563/1563 [00:59<00:00, 26.32batch/s]\n",
      "Validation: 100%|###################################################################################################| 313/313 [00:05<00:00, 56.13batch/s]\n"
     ]
    },
    {
     "name": "stdout",
     "output_type": "stream",
     "text": [
      "| Epoch: 0010 | Train Loss: 0.007 | Train Acc: 99.77% | Val. Loss: 0.045 | Val. Acc: 98.87% |\n"
     ]
    },
    {
     "data": {
      "text/html": [
       "<br/>Waiting for W&B process to finish, PID 24744<br/>Program ended successfully."
      ],
      "text/plain": [
       "<IPython.core.display.HTML object>"
      ]
     },
     "metadata": {},
     "output_type": "display_data"
    },
    {
     "data": {
      "application/vnd.jupyter.widget-view+json": {
       "model_id": "eb82139a139d467186f3c14b0b25dbc1",
       "version_major": 2,
       "version_minor": 0
      },
      "text/plain": [
       "VBox(children=(Label(value=' 0.00MB of 0.00MB uploaded (0.00MB deduped)\\r'), FloatProgress(value=1.0, max=1.0)…"
      ]
     },
     "metadata": {},
     "output_type": "display_data"
    },
    {
     "data": {
      "text/html": [
       "Find user logs for this run at: <code>c:\\python\\anaconda_base\\pytorch-tutorial\\wandb\\run-20211011_090529-6ycmnuox\\logs\\debug.log</code>"
      ],
      "text/plain": [
       "<IPython.core.display.HTML object>"
      ]
     },
     "metadata": {},
     "output_type": "display_data"
    },
    {
     "data": {
      "text/html": [
       "Find internal logs for this run at: <code>c:\\python\\anaconda_base\\pytorch-tutorial\\wandb\\run-20211011_090529-6ycmnuox\\logs\\debug-internal.log</code>"
      ],
      "text/plain": [
       "<IPython.core.display.HTML object>"
      ]
     },
     "metadata": {},
     "output_type": "display_data"
    },
    {
     "data": {
      "text/html": [
       "<h3>Run summary:</h3><br/><style>\n",
       "    table.wandb td:nth-child(1) { padding: 0 10px; text-align: right }\n",
       "    </style><table class=\"wandb\">\n",
       "<tr><td>train_loss</td><td>0.00704</td></tr><tr><td>train_acc</td><td>0.99768</td></tr><tr><td>valid_loss</td><td>0.04479</td></tr><tr><td>valid_acc</td><td>0.98872</td></tr><tr><td>lr</td><td>0.001</td></tr><tr><td>epoch_time</td><td>64.98002</td></tr><tr><td>_runtime</td><td>551</td></tr><tr><td>_timestamp</td><td>1633936481</td></tr><tr><td>_step</td><td>9</td></tr><tr><td>accuracy</td><td>0.9874</td></tr></table>"
      ],
      "text/plain": [
       "<IPython.core.display.HTML object>"
      ]
     },
     "metadata": {},
     "output_type": "display_data"
    },
    {
     "data": {
      "text/html": [
       "<h3>Run history:</h3><br/><style>\n",
       "    table.wandb td:nth-child(1) { padding: 0 10px; text-align: right }\n",
       "    </style><table class=\"wandb\">\n",
       "<tr><td>train_loss</td><td>█▃▂▂▂▁▁▁▁▁</td></tr><tr><td>train_acc</td><td>▁▆▇▇▇█████</td></tr><tr><td>valid_loss</td><td>█▃▁▃▄▁▂▄▂▃</td></tr><tr><td>valid_acc</td><td>▁▅▇▅▅▇▇▆██</td></tr><tr><td>lr</td><td>▁▁▁▁▁▁▁▁▁▁</td></tr><tr><td>epoch_time</td><td>▁▂▂▂▂▂▂███</td></tr><tr><td>_runtime</td><td>▁▂▂▃▄▅▅▆▇█</td></tr><tr><td>_timestamp</td><td>▁▂▂▃▄▅▅▆▇█</td></tr><tr><td>_step</td><td>▁▂▃▃▄▅▆▆▇█</td></tr></table><br/>"
      ],
      "text/plain": [
       "<IPython.core.display.HTML object>"
      ]
     },
     "metadata": {},
     "output_type": "display_data"
    },
    {
     "data": {
      "text/html": [
       "Synced 5 W&B file(s), 0 media file(s), 0 artifact file(s) and 0 other file(s)"
      ],
      "text/plain": [
       "<IPython.core.display.HTML object>"
      ]
     },
     "metadata": {},
     "output_type": "display_data"
    },
    {
     "data": {
      "text/html": [
       "\n",
       "                    <br/>Synced <strong style=\"color:#cdcd00\">fresh-sweep-1</strong>: <a href=\"https://wandb.ai/teamtom/mnist-with-pipeline%2Bwandb/runs/6ycmnuox\" target=\"_blank\">https://wandb.ai/teamtom/mnist-with-pipeline%2Bwandb/runs/6ycmnuox</a><br/>\n",
       "                "
      ],
      "text/plain": [
       "<IPython.core.display.HTML object>"
      ]
     },
     "metadata": {},
     "output_type": "display_data"
    },
    {
     "name": "stderr",
     "output_type": "stream",
     "text": [
      "wandb: Agent Starting Run: pw7f8o4h with config:\n",
      "wandb: \tlearning_rate: 0.002\n",
      "wandb: wandb version 0.12.4 is available!  To upgrade, please run:\n",
      "wandb:  $ pip install wandb --upgrade\n"
     ]
    },
    {
     "data": {
      "text/html": [
       "\n",
       "                Tracking run with wandb version 0.10.31<br/>\n",
       "                Syncing run <strong style=\"color:#cdcd00\">absurd-sweep-2</strong> to <a href=\"https://wandb.ai\" target=\"_blank\">Weights & Biases</a> <a href=\"https://docs.wandb.com/integrations/jupyter.html\" target=\"_blank\">(Documentation)</a>.<br/>\n",
       "                Project page: <a href=\"https://wandb.ai/teamtom/mnist-with-pipeline%2Bwandb\" target=\"_blank\">https://wandb.ai/teamtom/mnist-with-pipeline%2Bwandb</a><br/>\n",
       "                Sweep page: <a href=\"https://wandb.ai/teamtom/mnist-with-pipeline%2Bwandb/sweeps/wkfg063y\" target=\"_blank\">https://wandb.ai/teamtom/mnist-with-pipeline%2Bwandb/sweeps/wkfg063y</a><br/>\n",
       "Run page: <a href=\"https://wandb.ai/teamtom/mnist-with-pipeline%2Bwandb/runs/pw7f8o4h\" target=\"_blank\">https://wandb.ai/teamtom/mnist-with-pipeline%2Bwandb/runs/pw7f8o4h</a><br/>\n",
       "                Run data is saved locally in <code>c:\\python\\anaconda_base\\pytorch-tutorial\\wandb\\run-20211011_091450-pw7f8o4h</code><br/><br/>\n",
       "            "
      ],
      "text/plain": [
       "<IPython.core.display.HTML object>"
      ]
     },
     "metadata": {},
     "output_type": "display_data"
    },
    {
     "name": "stderr",
     "output_type": "stream",
     "text": [
      "Training  : 100%|#################################################################################################| 1563/1563 [00:59<00:00, 26.12batch/s]\n",
      "Validation: 100%|###################################################################################################| 313/313 [00:05<00:00, 55.73batch/s]\n",
      "Training  :   0%|1                                                                                                   | 2/1563 [00:00<01:30, 17.17batch/s]"
     ]
    },
    {
     "name": "stdout",
     "output_type": "stream",
     "text": [
      "| Epoch: 0001 | Train Loss: 0.143 | Train Acc: 95.62% | Val. Loss: 0.068 | Val. Acc: 97.87% |\n"
     ]
    },
    {
     "name": "stderr",
     "output_type": "stream",
     "text": [
      "Training  : 100%|#################################################################################################| 1563/1563 [00:51<00:00, 30.30batch/s]\n",
      "Validation: 100%|###################################################################################################| 313/313 [00:04<00:00, 75.40batch/s]\n",
      "Training  :   0%|1                                                                                                   | 3/1563 [00:00<00:56, 27.47batch/s]"
     ]
    },
    {
     "name": "stdout",
     "output_type": "stream",
     "text": [
      "| Epoch: 0002 | Train Loss: 0.049 | Train Acc: 98.48% | Val. Loss: 0.040 | Val. Acc: 98.72% |\n"
     ]
    },
    {
     "name": "stderr",
     "output_type": "stream",
     "text": [
      "Training  : 100%|#################################################################################################| 1563/1563 [00:45<00:00, 34.36batch/s]\n",
      "Validation: 100%|###################################################################################################| 313/313 [00:04<00:00, 75.08batch/s]\n",
      "Training  :   0%|1                                                                                                   | 3/1563 [00:00<00:59, 26.07batch/s]"
     ]
    },
    {
     "name": "stdout",
     "output_type": "stream",
     "text": [
      "| Epoch: 0003 | Train Loss: 0.033 | Train Acc: 99.00% | Val. Loss: 0.044 | Val. Acc: 98.65% |\n"
     ]
    },
    {
     "name": "stderr",
     "output_type": "stream",
     "text": [
      "Training  : 100%|#################################################################################################| 1563/1563 [00:45<00:00, 34.32batch/s]\n",
      "Validation: 100%|###################################################################################################| 313/313 [00:04<00:00, 75.91batch/s]\n",
      "Training  :   0%|2                                                                                                   | 4/1563 [00:00<00:47, 32.63batch/s]"
     ]
    },
    {
     "name": "stdout",
     "output_type": "stream",
     "text": [
      "| Epoch: 0004 | Train Loss: 0.026 | Train Acc: 99.15% | Val. Loss: 0.050 | Val. Acc: 98.35% |\n"
     ]
    },
    {
     "name": "stderr",
     "output_type": "stream",
     "text": [
      "Training  : 100%|#################################################################################################| 1563/1563 [00:45<00:00, 34.42batch/s]\n",
      "Validation: 100%|###################################################################################################| 313/313 [00:04<00:00, 76.27batch/s]\n",
      "Training  :   0%|2                                                                                                   | 4/1563 [00:00<00:44, 35.09batch/s]"
     ]
    },
    {
     "name": "stdout",
     "output_type": "stream",
     "text": [
      "| Epoch: 0005 | Train Loss: 0.019 | Train Acc: 99.40% | Val. Loss: 0.043 | Val. Acc: 98.77% |\n"
     ]
    },
    {
     "name": "stderr",
     "output_type": "stream",
     "text": [
      "Training  : 100%|#################################################################################################| 1563/1563 [00:45<00:00, 34.33batch/s]\n",
      "Validation: 100%|###################################################################################################| 313/313 [00:04<00:00, 76.77batch/s]\n",
      "Training  :   0%|2                                                                                                   | 4/1563 [00:00<00:46, 33.27batch/s]"
     ]
    },
    {
     "name": "stdout",
     "output_type": "stream",
     "text": [
      "| Epoch: 0006 | Train Loss: 0.015 | Train Acc: 99.49% | Val. Loss: 0.044 | Val. Acc: 98.85% |\n"
     ]
    },
    {
     "name": "stderr",
     "output_type": "stream",
     "text": [
      "Training  : 100%|#################################################################################################| 1563/1563 [00:45<00:00, 34.29batch/s]\n",
      "Validation: 100%|###################################################################################################| 313/313 [00:04<00:00, 76.43batch/s]\n",
      "Training  :   0%|2                                                                                                   | 4/1563 [00:00<00:44, 34.93batch/s]"
     ]
    },
    {
     "name": "stdout",
     "output_type": "stream",
     "text": [
      "| Epoch: 0007 | Train Loss: 0.013 | Train Acc: 99.56% | Val. Loss: 0.041 | Val. Acc: 98.91% |\n"
     ]
    },
    {
     "name": "stderr",
     "output_type": "stream",
     "text": [
      "Training  : 100%|#################################################################################################| 1563/1563 [00:45<00:00, 34.10batch/s]\n",
      "Validation: 100%|###################################################################################################| 313/313 [00:04<00:00, 76.77batch/s]\n",
      "Training  :   0%|1                                                                                                   | 2/1563 [00:00<01:21, 19.17batch/s]"
     ]
    },
    {
     "name": "stdout",
     "output_type": "stream",
     "text": [
      "| Epoch: 0008 | Train Loss: 0.013 | Train Acc: 99.58% | Val. Loss: 0.045 | Val. Acc: 98.87% |\n"
     ]
    },
    {
     "name": "stderr",
     "output_type": "stream",
     "text": [
      "Training  : 100%|#################################################################################################| 1563/1563 [00:45<00:00, 34.28batch/s]\n",
      "Validation: 100%|###################################################################################################| 313/313 [00:04<00:00, 76.55batch/s]\n",
      "Training  :   0%|2                                                                                                   | 4/1563 [00:00<00:45, 34.24batch/s]"
     ]
    },
    {
     "name": "stdout",
     "output_type": "stream",
     "text": [
      "| Epoch: 0009 | Train Loss: 0.011 | Train Acc: 99.64% | Val. Loss: 0.045 | Val. Acc: 99.06% |\n"
     ]
    },
    {
     "name": "stderr",
     "output_type": "stream",
     "text": [
      "Training  : 100%|#################################################################################################| 1563/1563 [00:45<00:00, 34.34batch/s]\n",
      "Validation: 100%|###################################################################################################| 313/313 [00:04<00:00, 75.81batch/s]\n"
     ]
    },
    {
     "name": "stdout",
     "output_type": "stream",
     "text": [
      "| Epoch: 0010 | Train Loss: 0.008 | Train Acc: 99.72% | Val. Loss: 0.057 | Val. Acc: 98.81% |\n"
     ]
    },
    {
     "data": {
      "text/html": [
       "<br/>Waiting for W&B process to finish, PID 24516<br/>Program ended successfully."
      ],
      "text/plain": [
       "<IPython.core.display.HTML object>"
      ]
     },
     "metadata": {},
     "output_type": "display_data"
    },
    {
     "data": {
      "application/vnd.jupyter.widget-view+json": {
       "model_id": "0afe1e6f9e634cb9a23b13389ad1987b",
       "version_major": 2,
       "version_minor": 0
      },
      "text/plain": [
       "VBox(children=(Label(value=' 0.00MB of 0.00MB uploaded (0.00MB deduped)\\r'), FloatProgress(value=1.0, max=1.0)…"
      ]
     },
     "metadata": {},
     "output_type": "display_data"
    },
    {
     "data": {
      "text/html": [
       "Find user logs for this run at: <code>c:\\python\\anaconda_base\\pytorch-tutorial\\wandb\\run-20211011_091450-pw7f8o4h\\logs\\debug.log</code>"
      ],
      "text/plain": [
       "<IPython.core.display.HTML object>"
      ]
     },
     "metadata": {},
     "output_type": "display_data"
    },
    {
     "data": {
      "text/html": [
       "Find internal logs for this run at: <code>c:\\python\\anaconda_base\\pytorch-tutorial\\wandb\\run-20211011_091450-pw7f8o4h\\logs\\debug-internal.log</code>"
      ],
      "text/plain": [
       "<IPython.core.display.HTML object>"
      ]
     },
     "metadata": {},
     "output_type": "display_data"
    },
    {
     "data": {
      "text/html": [
       "<h3>Run summary:</h3><br/><style>\n",
       "    table.wandb td:nth-child(1) { padding: 0 10px; text-align: right }\n",
       "    </style><table class=\"wandb\">\n",
       "<tr><td>train_loss</td><td>0.00832</td></tr><tr><td>train_acc</td><td>0.99718</td></tr><tr><td>valid_loss</td><td>0.05732</td></tr><tr><td>valid_acc</td><td>0.98812</td></tr><tr><td>lr</td><td>0.002</td></tr><tr><td>epoch_time</td><td>49.65204</td></tr><tr><td>_runtime</td><td>521</td></tr><tr><td>_timestamp</td><td>1633937011</td></tr><tr><td>_step</td><td>9</td></tr><tr><td>accuracy</td><td>0.9879</td></tr></table>"
      ],
      "text/plain": [
       "<IPython.core.display.HTML object>"
      ]
     },
     "metadata": {},
     "output_type": "display_data"
    },
    {
     "data": {
      "text/html": [
       "<h3>Run history:</h3><br/><style>\n",
       "    table.wandb td:nth-child(1) { padding: 0 10px; text-align: right }\n",
       "    </style><table class=\"wandb\">\n",
       "<tr><td>train_loss</td><td>█▃▂▂▂▁▁▁▁▁</td></tr><tr><td>train_acc</td><td>▁▆▇▇▇█████</td></tr><tr><td>valid_loss</td><td>█▁▂▃▂▂▁▂▂▅</td></tr><tr><td>valid_acc</td><td>▁▆▆▄▆▇▇▇█▇</td></tr><tr><td>lr</td><td>▁▁▁▁▁▁▁▁▁▁</td></tr><tr><td>epoch_time</td><td>█▄▁▁▁▁▁▁▁▁</td></tr><tr><td>_runtime</td><td>▁▂▃▃▄▅▆▆▇█</td></tr><tr><td>_timestamp</td><td>▁▂▃▃▄▅▆▆▇█</td></tr><tr><td>_step</td><td>▁▂▃▃▄▅▆▆▇█</td></tr></table><br/>"
      ],
      "text/plain": [
       "<IPython.core.display.HTML object>"
      ]
     },
     "metadata": {},
     "output_type": "display_data"
    },
    {
     "data": {
      "text/html": [
       "Synced 5 W&B file(s), 0 media file(s), 0 artifact file(s) and 0 other file(s)"
      ],
      "text/plain": [
       "<IPython.core.display.HTML object>"
      ]
     },
     "metadata": {},
     "output_type": "display_data"
    },
    {
     "data": {
      "text/html": [
       "\n",
       "                    <br/>Synced <strong style=\"color:#cdcd00\">absurd-sweep-2</strong>: <a href=\"https://wandb.ai/teamtom/mnist-with-pipeline%2Bwandb/runs/pw7f8o4h\" target=\"_blank\">https://wandb.ai/teamtom/mnist-with-pipeline%2Bwandb/runs/pw7f8o4h</a><br/>\n",
       "                "
      ],
      "text/plain": [
       "<IPython.core.display.HTML object>"
      ]
     },
     "metadata": {},
     "output_type": "display_data"
    },
    {
     "name": "stderr",
     "output_type": "stream",
     "text": [
      "wandb: Agent Starting Run: y4c1f633 with config:\n",
      "wandb: \tlearning_rate: 0.003\n",
      "wandb: wandb version 0.12.4 is available!  To upgrade, please run:\n",
      "wandb:  $ pip install wandb --upgrade\n"
     ]
    },
    {
     "data": {
      "text/html": [
       "\n",
       "                Tracking run with wandb version 0.10.31<br/>\n",
       "                Syncing run <strong style=\"color:#cdcd00\">frosty-sweep-3</strong> to <a href=\"https://wandb.ai\" target=\"_blank\">Weights & Biases</a> <a href=\"https://docs.wandb.com/integrations/jupyter.html\" target=\"_blank\">(Documentation)</a>.<br/>\n",
       "                Project page: <a href=\"https://wandb.ai/teamtom/mnist-with-pipeline%2Bwandb\" target=\"_blank\">https://wandb.ai/teamtom/mnist-with-pipeline%2Bwandb</a><br/>\n",
       "                Sweep page: <a href=\"https://wandb.ai/teamtom/mnist-with-pipeline%2Bwandb/sweeps/wkfg063y\" target=\"_blank\">https://wandb.ai/teamtom/mnist-with-pipeline%2Bwandb/sweeps/wkfg063y</a><br/>\n",
       "Run page: <a href=\"https://wandb.ai/teamtom/mnist-with-pipeline%2Bwandb/runs/y4c1f633\" target=\"_blank\">https://wandb.ai/teamtom/mnist-with-pipeline%2Bwandb/runs/y4c1f633</a><br/>\n",
       "                Run data is saved locally in <code>c:\\python\\anaconda_base\\pytorch-tutorial\\wandb\\run-20211011_092339-y4c1f633</code><br/><br/>\n",
       "            "
      ],
      "text/plain": [
       "<IPython.core.display.HTML object>"
      ]
     },
     "metadata": {},
     "output_type": "display_data"
    },
    {
     "name": "stderr",
     "output_type": "stream",
     "text": [
      "Training  : 100%|#################################################################################################| 1563/1563 [00:45<00:00, 34.25batch/s]\n",
      "Validation: 100%|###################################################################################################| 313/313 [00:04<00:00, 73.26batch/s]\n",
      "Training  :   0%|2                                                                                                   | 4/1563 [00:00<00:41, 37.55batch/s]"
     ]
    },
    {
     "name": "stdout",
     "output_type": "stream",
     "text": [
      "| Epoch: 0001 | Train Loss: 0.136 | Train Acc: 95.76% | Val. Loss: 0.060 | Val. Acc: 98.12% |\n"
     ]
    },
    {
     "name": "stderr",
     "output_type": "stream",
     "text": [
      "Training  : 100%|#################################################################################################| 1563/1563 [00:45<00:00, 34.17batch/s]\n",
      "Validation: 100%|###################################################################################################| 313/313 [00:04<00:00, 74.40batch/s]\n",
      "Training  :   0%|2                                                                                                   | 4/1563 [00:00<00:41, 37.69batch/s]"
     ]
    },
    {
     "name": "stdout",
     "output_type": "stream",
     "text": [
      "| Epoch: 0002 | Train Loss: 0.050 | Train Acc: 98.40% | Val. Loss: 0.042 | Val. Acc: 98.71% |\n"
     ]
    },
    {
     "name": "stderr",
     "output_type": "stream",
     "text": [
      "Training  : 100%|#################################################################################################| 1563/1563 [00:45<00:00, 34.09batch/s]\n",
      "Validation: 100%|###################################################################################################| 313/313 [00:04<00:00, 75.12batch/s]\n",
      "Training  :   0%|2                                                                                                   | 4/1563 [00:00<00:58, 26.63batch/s]"
     ]
    },
    {
     "name": "stdout",
     "output_type": "stream",
     "text": [
      "| Epoch: 0003 | Train Loss: 0.033 | Train Acc: 98.96% | Val. Loss: 0.047 | Val. Acc: 98.52% |\n"
     ]
    },
    {
     "name": "stderr",
     "output_type": "stream",
     "text": [
      "Training  : 100%|#################################################################################################| 1563/1563 [00:47<00:00, 33.05batch/s]\n",
      "Validation: 100%|###################################################################################################| 313/313 [00:04<00:00, 74.95batch/s]\n",
      "Training  :   0%|2                                                                                                   | 4/1563 [00:00<00:48, 32.34batch/s]"
     ]
    },
    {
     "name": "stdout",
     "output_type": "stream",
     "text": [
      "| Epoch: 0004 | Train Loss: 0.026 | Train Acc: 99.15% | Val. Loss: 0.044 | Val. Acc: 98.75% |\n"
     ]
    },
    {
     "name": "stderr",
     "output_type": "stream",
     "text": [
      "Training  : 100%|#################################################################################################| 1563/1563 [00:46<00:00, 33.95batch/s]\n",
      "Validation: 100%|###################################################################################################| 313/313 [00:04<00:00, 75.41batch/s]\n",
      "Training  :   0%|2                                                                                                   | 4/1563 [00:00<01:03, 24.57batch/s]"
     ]
    },
    {
     "name": "stdout",
     "output_type": "stream",
     "text": [
      "| Epoch: 0005 | Train Loss: 0.022 | Train Acc: 99.33% | Val. Loss: 0.066 | Val. Acc: 98.28% |\n"
     ]
    },
    {
     "name": "stderr",
     "output_type": "stream",
     "text": [
      "Training  : 100%|#################################################################################################| 1563/1563 [00:45<00:00, 34.14batch/s]\n",
      "Validation: 100%|###################################################################################################| 313/313 [00:04<00:00, 77.07batch/s]\n",
      "Training  :   0%|2                                                                                                   | 4/1563 [00:00<00:41, 37.47batch/s]"
     ]
    },
    {
     "name": "stdout",
     "output_type": "stream",
     "text": [
      "| Epoch: 0006 | Train Loss: 0.018 | Train Acc: 99.44% | Val. Loss: 0.052 | Val. Acc: 98.58% |\n"
     ]
    },
    {
     "name": "stderr",
     "output_type": "stream",
     "text": [
      "Training  : 100%|#################################################################################################| 1563/1563 [00:45<00:00, 34.26batch/s]\n",
      "Validation: 100%|###################################################################################################| 313/313 [00:04<00:00, 75.24batch/s]\n",
      "Training  :   0%|1                                                                                                   | 3/1563 [00:00<00:54, 28.44batch/s]"
     ]
    },
    {
     "name": "stdout",
     "output_type": "stream",
     "text": [
      "| Epoch: 0007 | Train Loss: 0.017 | Train Acc: 99.48% | Val. Loss: 0.042 | Val. Acc: 98.99% |\n"
     ]
    },
    {
     "name": "stderr",
     "output_type": "stream",
     "text": [
      "Training  : 100%|#################################################################################################| 1563/1563 [00:46<00:00, 33.80batch/s]\n",
      "Validation: 100%|###################################################################################################| 313/313 [00:04<00:00, 74.95batch/s]\n",
      "Training  :   0%|2                                                                                                   | 4/1563 [00:00<00:47, 32.61batch/s]"
     ]
    },
    {
     "name": "stdout",
     "output_type": "stream",
     "text": [
      "| Epoch: 0008 | Train Loss: 0.014 | Train Acc: 99.56% | Val. Loss: 0.042 | Val. Acc: 98.97% |\n"
     ]
    },
    {
     "name": "stderr",
     "output_type": "stream",
     "text": [
      "Training  : 100%|#################################################################################################| 1563/1563 [00:46<00:00, 33.81batch/s]\n",
      "Validation: 100%|###################################################################################################| 313/313 [00:04<00:00, 77.11batch/s]\n",
      "Training  :   0%|1                                                                                                   | 3/1563 [00:00<01:00, 25.92batch/s]"
     ]
    },
    {
     "name": "stdout",
     "output_type": "stream",
     "text": [
      "| Epoch: 0009 | Train Loss: 0.015 | Train Acc: 99.55% | Val. Loss: 0.063 | Val. Acc: 98.57% |\n"
     ]
    },
    {
     "name": "stderr",
     "output_type": "stream",
     "text": [
      "Training  : 100%|#################################################################################################| 1563/1563 [00:46<00:00, 33.81batch/s]\n",
      "Validation: 100%|###################################################################################################| 313/313 [00:04<00:00, 75.65batch/s]\n"
     ]
    },
    {
     "name": "stdout",
     "output_type": "stream",
     "text": [
      "| Epoch: 0010 | Train Loss: 0.011 | Train Acc: 99.63% | Val. Loss: 0.065 | Val. Acc: 98.70% |\n"
     ]
    },
    {
     "data": {
      "text/html": [
       "<br/>Waiting for W&B process to finish, PID 25324<br/>Program ended successfully."
      ],
      "text/plain": [
       "<IPython.core.display.HTML object>"
      ]
     },
     "metadata": {},
     "output_type": "display_data"
    },
    {
     "data": {
      "application/vnd.jupyter.widget-view+json": {
       "model_id": "c7d267193e734654b05287ed56cb6448",
       "version_major": 2,
       "version_minor": 0
      },
      "text/plain": [
       "VBox(children=(Label(value=' 0.00MB of 0.00MB uploaded (0.00MB deduped)\\r'), FloatProgress(value=1.0, max=1.0)…"
      ]
     },
     "metadata": {},
     "output_type": "display_data"
    },
    {
     "data": {
      "text/html": [
       "Find user logs for this run at: <code>c:\\python\\anaconda_base\\pytorch-tutorial\\wandb\\run-20211011_092339-y4c1f633\\logs\\debug.log</code>"
      ],
      "text/plain": [
       "<IPython.core.display.HTML object>"
      ]
     },
     "metadata": {},
     "output_type": "display_data"
    },
    {
     "data": {
      "text/html": [
       "Find internal logs for this run at: <code>c:\\python\\anaconda_base\\pytorch-tutorial\\wandb\\run-20211011_092339-y4c1f633\\logs\\debug-internal.log</code>"
      ],
      "text/plain": [
       "<IPython.core.display.HTML object>"
      ]
     },
     "metadata": {},
     "output_type": "display_data"
    },
    {
     "data": {
      "text/html": [
       "<h3>Run summary:</h3><br/><style>\n",
       "    table.wandb td:nth-child(1) { padding: 0 10px; text-align: right }\n",
       "    </style><table class=\"wandb\">\n",
       "<tr><td>train_loss</td><td>0.01125</td></tr><tr><td>train_acc</td><td>0.99634</td></tr><tr><td>valid_loss</td><td>0.06529</td></tr><tr><td>valid_acc</td><td>0.98702</td></tr><tr><td>lr</td><td>0.003</td></tr><tr><td>epoch_time</td><td>50.37816</td></tr><tr><td>_runtime</td><td>504</td></tr><tr><td>_timestamp</td><td>1633937524</td></tr><tr><td>_step</td><td>9</td></tr><tr><td>accuracy</td><td>0.9865</td></tr></table>"
      ],
      "text/plain": [
       "<IPython.core.display.HTML object>"
      ]
     },
     "metadata": {},
     "output_type": "display_data"
    },
    {
     "data": {
      "text/html": [
       "<h3>Run history:</h3><br/><style>\n",
       "    table.wandb td:nth-child(1) { padding: 0 10px; text-align: right }\n",
       "    </style><table class=\"wandb\">\n",
       "<tr><td>train_loss</td><td>█▃▂▂▂▁▁▁▁▁</td></tr><tr><td>train_acc</td><td>▁▆▇▇▇█████</td></tr><tr><td>valid_loss</td><td>▆▁▂▂█▄▁▁▇█</td></tr><tr><td>valid_acc</td><td>▁▆▄▆▂▅██▅▆</td></tr><tr><td>lr</td><td>▁▁▁▁▁▁▁▁▁▁</td></tr><tr><td>epoch_time</td><td>▂▂▂█▃▁▁▄▃▃</td></tr><tr><td>_runtime</td><td>▁▂▃▃▄▅▆▆▇█</td></tr><tr><td>_timestamp</td><td>▁▂▃▃▄▅▆▆▇█</td></tr><tr><td>_step</td><td>▁▂▃▃▄▅▆▆▇█</td></tr></table><br/>"
      ],
      "text/plain": [
       "<IPython.core.display.HTML object>"
      ]
     },
     "metadata": {},
     "output_type": "display_data"
    },
    {
     "data": {
      "text/html": [
       "Synced 5 W&B file(s), 0 media file(s), 0 artifact file(s) and 0 other file(s)"
      ],
      "text/plain": [
       "<IPython.core.display.HTML object>"
      ]
     },
     "metadata": {},
     "output_type": "display_data"
    },
    {
     "data": {
      "text/html": [
       "\n",
       "                    <br/>Synced <strong style=\"color:#cdcd00\">frosty-sweep-3</strong>: <a href=\"https://wandb.ai/teamtom/mnist-with-pipeline%2Bwandb/runs/y4c1f633\" target=\"_blank\">https://wandb.ai/teamtom/mnist-with-pipeline%2Bwandb/runs/y4c1f633</a><br/>\n",
       "                "
      ],
      "text/plain": [
       "<IPython.core.display.HTML object>"
      ]
     },
     "metadata": {},
     "output_type": "display_data"
    },
    {
     "name": "stderr",
     "output_type": "stream",
     "text": [
      "wandb: Sweep Agent: Waiting for job.\n",
      "wandb: Sweep Agent: Exiting.\n"
     ]
    }
   ],
   "source": [
    "wandb.agent(sweep_id, sweep_me)"
   ]
  }
 ],
 "metadata": {
  "kernelspec": {
   "display_name": "main",
   "language": "python",
   "name": "main"
  },
  "language_info": {
   "codemirror_mode": {
    "name": "ipython",
    "version": 3
   },
   "file_extension": ".py",
   "mimetype": "text/x-python",
   "name": "python",
   "nbconvert_exporter": "python",
   "pygments_lexer": "ipython3",
   "version": "3.8.8"
  }
 },
 "nbformat": 4,
 "nbformat_minor": 4
}
