{
 "cells": [
  {
   "cell_type": "code",
   "execution_count": 1,
   "metadata": {},
   "outputs": [],
   "source": [
    "from pipeline02 import *"
   ]
  },
  {
   "cell_type": "code",
   "execution_count": 2,
   "metadata": {},
   "outputs": [
    {
     "name": "stderr",
     "output_type": "stream",
     "text": [
      "wandb: Currently logged in as: teamtom (use `wandb login --relogin` to force relogin)\n"
     ]
    },
    {
     "data": {
      "text/plain": [
       "True"
      ]
     },
     "execution_count": 2,
     "metadata": {},
     "output_type": "execute_result"
    }
   ],
   "source": [
    "wandb.login()"
   ]
  },
  {
   "cell_type": "code",
   "execution_count": 6,
   "metadata": {},
   "outputs": [
    {
     "name": "stdout",
     "output_type": "stream",
     "text": [
      "Create sweep with ID: d22sfkpk\n",
      "Sweep URL: https://wandb.ai/teamtom/churn-class-imbalance-with-treshold01/sweeps/d22sfkpk\n"
     ]
    }
   ],
   "source": [
    "sweep_config = {\n",
    "    'method': 'grid',\n",
    "    'metric': {\n",
    "        'name': 'f1',\n",
    "        'goal': 'maximize'   \n",
    "        }\n",
    "    }\n",
    "\n",
    "parameters_dict = {\n",
    "    'epochs': {\n",
    "        'value' : 100\n",
    "        },\n",
    "    'learning_rate': {\n",
    "        'values': [0.01, .005, 0.001, .005, 0.0001]\n",
    "        },\n",
    "    'batch_size': {\n",
    "        'value': 32\n",
    "        },\n",
    "    'threshold': {\n",
    "        'values': [0.2, 0.21578947368421053, 0.23157894736842105, 0.2473684210526316, 0.26315789473684215, 0.2789473684210526, 0.2947368421052632, \n",
    "                 0.3105263157894737, 0.3263157894736842, 0.34210526315789475, 0.35789473684210527, 0.37368421052631584, 0.3894736842105263, \n",
    "                 0.4052631578947369, 0.4210526315789474, 0.4368421052631579, 0.45263157894736844, 0.46842105263157896, 0.4842105263157895, 0.5]\n",
    "        }\n",
    "    }\n",
    "\n",
    "sweep_config['parameters'] = parameters_dict\n",
    "\n",
    "sweep_id = wandb.sweep(sweep_config, project=\"churn-class-imbalance-with-treshold01\")"
   ]
  },
  {
   "cell_type": "code",
   "execution_count": 7,
   "metadata": {},
   "outputs": [
    {
     "name": "stdout",
     "output_type": "stream",
     "text": [
      "7963 2037\n",
      "3.9091801669121256\n"
     ]
    }
   ],
   "source": [
    "df = pd.read_csv('..\\Churn_Modelling.csv')\n",
    "\n",
    "df.Gender.replace({'Female':0, 'Male':1}, inplace=True)\n",
    "\n",
    "# class imbalance\n",
    "class0_num = df[df.Exited==0]['Exited'].count()\n",
    "class1_num = df[df.Exited==1]['Exited'].count()\n",
    "print(class0_num, class1_num)\n",
    "print(class0_num / class1_num)\n",
    "\n",
    "df_inputs = df[['CreditScore', 'Gender', 'Age','Tenure','Balance','NumOfProducts','HasCrCard', 'IsActiveMember','EstimatedSalary']]\n",
    "df_targets = df[['Exited']]"
   ]
  },
  {
   "cell_type": "code",
   "execution_count": 8,
   "metadata": {},
   "outputs": [],
   "source": [
    "pl = Pipeline(task='classification', optimizer=torch.optim.Adam, loss_fn=F.binary_cross_entropy, wandb_log=True )"
   ]
  },
  {
   "cell_type": "code",
   "execution_count": 9,
   "metadata": {},
   "outputs": [
    {
     "data": {
      "text/plain": [
       "device(type='cpu')"
      ]
     },
     "execution_count": 9,
     "metadata": {},
     "output_type": "execute_result"
    }
   ],
   "source": [
    "pl.device"
   ]
  },
  {
   "cell_type": "code",
   "execution_count": 10,
   "metadata": {},
   "outputs": [],
   "source": [
    "def sweep_me(config=None):\n",
    "    \n",
    "    with wandb.init(config=config):\n",
    "        config = wandb.config\n",
    "        \n",
    "        pl.threshold = config.threshold\n",
    "        pl.epochs = config.epochs\n",
    "        pl.learning_rate = config.learning_rate\n",
    "        pl.batch_size = config.batch_size\n",
    "\n",
    "        pl.load_tabular_data(df_inputs.values, df_targets.values, split=[0.9, 0.9], stratify=True)\n",
    "        \n",
    "        model = nn.Sequential(\n",
    "            nn.Linear(9,1),\n",
    "            # nn.Linear(14,32),\n",
    "            # nn.ReLU(),\n",
    "            # nn.Linear(32,16),\n",
    "            # nn.ReLU(),\n",
    "            # nn.Linear(16,1),\n",
    "            nn.Sigmoid()\n",
    "        ).to(pl.device)\n",
    "        \n",
    "        history = pl.fit(model, show_nth_epoch=10)\n",
    "        \n",
    "        acc, precision, recall, f1 = pl.show_metrics(model, pl.test_loader, supress_print=True)\n",
    "        \n",
    "        wandb.run.summary[\"accuracy\"] = acc\n",
    "        wandb.run.summary[\"prec\"] = precision\n",
    "        wandb.run.summary[\"recall\"] = recall\n",
    "        wandb.run.summary[\"f1\"] = f1"
   ]
  },
  {
   "cell_type": "code",
   "execution_count": 11,
   "metadata": {},
   "outputs": [
    {
     "name": "stderr",
     "output_type": "stream",
     "text": [
      "wandb: Agent Starting Run: 6o4tq9js with config:\n",
      "wandb: \tbatch_size: 32\n",
      "wandb: \tepochs: 100\n",
      "wandb: \tlearning_rate: 0.01\n",
      "wandb: \tthreshold: 0.2\n",
      "wandb: wandb version 0.12.3 is available!  To upgrade, please run:\n",
      "wandb:  $ pip install wandb --upgrade\n"
     ]
    },
    {
     "data": {
      "text/html": [
       "\n",
       "                Tracking run with wandb version 0.10.31<br/>\n",
       "                Syncing run <strong style=\"color:#cdcd00\">eager-sweep-1</strong> to <a href=\"https://wandb.ai\" target=\"_blank\">Weights & Biases</a> <a href=\"https://docs.wandb.com/integrations/jupyter.html\" target=\"_blank\">(Documentation)</a>.<br/>\n",
       "                Project page: <a href=\"https://wandb.ai/teamtom/churn-class-imbalance-with-treshold01\" target=\"_blank\">https://wandb.ai/teamtom/churn-class-imbalance-with-treshold01</a><br/>\n",
       "                Sweep page: <a href=\"https://wandb.ai/teamtom/churn-class-imbalance-with-treshold01/sweeps/d22sfkpk\" target=\"_blank\">https://wandb.ai/teamtom/churn-class-imbalance-with-treshold01/sweeps/d22sfkpk</a><br/>\n",
       "Run page: <a href=\"https://wandb.ai/teamtom/churn-class-imbalance-with-treshold01/runs/6o4tq9js\" target=\"_blank\">https://wandb.ai/teamtom/churn-class-imbalance-with-treshold01/runs/6o4tq9js</a><br/>\n",
       "                Run data is saved locally in <code>c:\\python\\anaconda_base\\pytorch-tutorial\\wandb\\run-20211003_214917-6o4tq9js</code><br/><br/>\n",
       "            "
      ],
      "text/plain": [
       "<IPython.core.display.HTML object>"
      ]
     },
     "metadata": {},
     "output_type": "display_data"
    },
    {
     "name": "stdout",
     "output_type": "stream",
     "text": [
      "dataset size: 10000\n",
      "dataset samples shape: torch.Size([10000, 9])\n",
      "dataset classes shape: torch.Size([10000, 1])\n",
      "| Epoch: 0010 | Train Loss: 0.440 | Train Acc: 66.87% | Val. Loss: 0.454 | Val. Acc: 65.52% |\n",
      "| Epoch: 0020 | Train Loss: 0.441 | Train Acc: 67.78% | Val. Loss: 0.427 | Val. Acc: 65.09% |\n",
      "| Epoch: 0030 | Train Loss: 0.438 | Train Acc: 67.89% | Val. Loss: 0.416 | Val. Acc: 72.63% |\n",
      "| Epoch: 0040 | Train Loss: 0.440 | Train Acc: 68.18% | Val. Loss: 0.420 | Val. Acc: 66.27% |\n",
      "| Epoch: 0050 | Train Loss: 0.440 | Train Acc: 68.47% | Val. Loss: 0.446 | Val. Acc: 70.80% |\n",
      "| Epoch: 0060 | Train Loss: 0.438 | Train Acc: 67.80% | Val. Loss: 0.424 | Val. Acc: 64.55% |\n",
      "| Epoch: 0070 | Train Loss: 0.439 | Train Acc: 67.94% | Val. Loss: 0.422 | Val. Acc: 66.59% |\n",
      "| Epoch: 0080 | Train Loss: 0.439 | Train Acc: 68.33% | Val. Loss: 0.430 | Val. Acc: 68.32% |\n",
      "| Epoch: 0090 | Train Loss: 0.439 | Train Acc: 68.59% | Val. Loss: 0.427 | Val. Acc: 70.04% |\n",
      "| Epoch: 0100 | Train Loss: 0.438 | Train Acc: 67.91% | Val. Loss: 0.432 | Val. Acc: 67.35% |\n"
     ]
    },
    {
     "data": {
      "text/html": [
       "<br/>Waiting for W&B process to finish, PID 24676<br/>Program ended successfully."
      ],
      "text/plain": [
       "<IPython.core.display.HTML object>"
      ]
     },
     "metadata": {},
     "output_type": "display_data"
    },
    {
     "data": {
      "application/vnd.jupyter.widget-view+json": {
       "model_id": "71138d86681d4bc9ba154d8a24c659a8",
       "version_major": 2,
       "version_minor": 0
      },
      "text/plain": [
       "VBox(children=(Label(value=' 0.00MB of 0.00MB uploaded (0.00MB deduped)\\r'), FloatProgress(value=1.0, max=1.0)…"
      ]
     },
     "metadata": {},
     "output_type": "display_data"
    },
    {
     "data": {
      "text/html": [
       "Find user logs for this run at: <code>c:\\python\\anaconda_base\\pytorch-tutorial\\wandb\\run-20211003_214917-6o4tq9js\\logs\\debug.log</code>"
      ],
      "text/plain": [
       "<IPython.core.display.HTML object>"
      ]
     },
     "metadata": {},
     "output_type": "display_data"
    },
    {
     "data": {
      "text/html": [
       "Find internal logs for this run at: <code>c:\\python\\anaconda_base\\pytorch-tutorial\\wandb\\run-20211003_214917-6o4tq9js\\logs\\debug-internal.log</code>"
      ],
      "text/plain": [
       "<IPython.core.display.HTML object>"
      ]
     },
     "metadata": {},
     "output_type": "display_data"
    },
    {
     "data": {
      "text/html": [
       "<h3>Run summary:</h3><br/><style>\n",
       "    table.wandb td:nth-child(1) { padding: 0 10px; text-align: right }\n",
       "    </style><table class=\"wandb\">\n",
       "<tr><td>train_loss</td><td>0.43812</td></tr><tr><td>train_acc</td><td>0.67913</td></tr><tr><td>valid_loss</td><td>0.43221</td></tr><tr><td>valid_acc</td><td>0.67349</td></tr><tr><td>lr</td><td>0.01</td></tr><tr><td>epoch_time</td><td>0.20322</td></tr><tr><td>_runtime</td><td>31</td></tr><tr><td>_timestamp</td><td>1633290589</td></tr><tr><td>_step</td><td>99</td></tr><tr><td>accuracy</td><td>0.671</td></tr><tr><td>prec</td><td>0.3494</td></tr><tr><td>recall</td><td>0.71078</td></tr><tr><td>f1</td><td>0.4685</td></tr></table>"
      ],
      "text/plain": [
       "<IPython.core.display.HTML object>"
      ]
     },
     "metadata": {},
     "output_type": "display_data"
    },
    {
     "data": {
      "text/html": [
       "<h3>Run history:</h3><br/><style>\n",
       "    table.wandb td:nth-child(1) { padding: 0 10px; text-align: right }\n",
       "    </style><table class=\"wandb\">\n",
       "<tr><td>train_loss</td><td>█▃▂▁▁▁▁▁▁▁▁▁▁▁▁▁▁▁▁▁▁▁▁▁▁▁▁▁▁▁▁▁▁▁▁▁▁▁▁▁</td></tr><tr><td>train_acc</td><td>▁▆▇▇▇███████████████████████████████████</td></tr><tr><td>valid_loss</td><td>█▃▃▂▂▁▂▃▂▂▃▃▁▂▃▁▁▁▃▁▂▄▁▄▁▂▃▁▄▂▃▁▁▄▃▂▁▂▃▃</td></tr><tr><td>valid_acc</td><td>▁▃▆▆▆▇▇▇▆▆▆▇▆▆▇▇▇▇▆▇█▆▇▅▇▇▇▇▇▇▇▇▇▇█▇▇▆▇▆</td></tr><tr><td>lr</td><td>▁▁▁▁▁▁▁▁▁▁▁▁▁▁▁▁▁▁▁▁▁▁▁▁▁▁▁▁▁▁▁▁▁▁▁▁▁▁▁▁</td></tr><tr><td>epoch_time</td><td>▅▇▆▆▇▇▆▆▆▅▄▆▆▆▇▄▆▆▆▇▆▆▆▇▄▇▄▆█▇▄▆▇▃▁▂▄▂▂▃</td></tr><tr><td>_runtime</td><td>▁▁▁▂▂▂▂▂▂▃▃▃▃▃▄▄▄▄▄▄▅▅▅▅▅▆▆▆▆▆▆▇▇▇▇▇▇▇██</td></tr><tr><td>_timestamp</td><td>▁▁▁▂▂▂▂▂▂▃▃▃▃▃▄▄▄▄▄▄▅▅▅▅▅▆▆▆▆▆▆▇▇▇▇▇▇▇██</td></tr><tr><td>_step</td><td>▁▁▁▁▂▂▂▂▂▃▃▃▃▃▃▄▄▄▄▄▅▅▅▅▅▅▆▆▆▆▆▇▇▇▇▇▇███</td></tr></table><br/>"
      ],
      "text/plain": [
       "<IPython.core.display.HTML object>"
      ]
     },
     "metadata": {},
     "output_type": "display_data"
    },
    {
     "data": {
      "text/html": [
       "Synced 5 W&B file(s), 0 media file(s), 0 artifact file(s) and 0 other file(s)"
      ],
      "text/plain": [
       "<IPython.core.display.HTML object>"
      ]
     },
     "metadata": {},
     "output_type": "display_data"
    },
    {
     "data": {
      "text/html": [
       "\n",
       "                    <br/>Synced <strong style=\"color:#cdcd00\">eager-sweep-1</strong>: <a href=\"https://wandb.ai/teamtom/churn-class-imbalance-with-treshold01/runs/6o4tq9js\" target=\"_blank\">https://wandb.ai/teamtom/churn-class-imbalance-with-treshold01/runs/6o4tq9js</a><br/>\n",
       "                "
      ],
      "text/plain": [
       "<IPython.core.display.HTML object>"
      ]
     },
     "metadata": {},
     "output_type": "display_data"
    },
    {
     "name": "stderr",
     "output_type": "stream",
     "text": [
      "wandb: Agent Starting Run: q3p35031 with config:\n",
      "wandb: \tbatch_size: 32\n",
      "wandb: \tepochs: 100\n",
      "wandb: \tlearning_rate: 0.01\n",
      "wandb: \tthreshold: 0.21578947368421053\n",
      "wandb: wandb version 0.12.3 is available!  To upgrade, please run:\n",
      "wandb:  $ pip install wandb --upgrade\n"
     ]
    },
    {
     "data": {
      "text/html": [
       "\n",
       "                Tracking run with wandb version 0.10.31<br/>\n",
       "                Syncing run <strong style=\"color:#cdcd00\">light-sweep-2</strong> to <a href=\"https://wandb.ai\" target=\"_blank\">Weights & Biases</a> <a href=\"https://docs.wandb.com/integrations/jupyter.html\" target=\"_blank\">(Documentation)</a>.<br/>\n",
       "                Project page: <a href=\"https://wandb.ai/teamtom/churn-class-imbalance-with-treshold01\" target=\"_blank\">https://wandb.ai/teamtom/churn-class-imbalance-with-treshold01</a><br/>\n",
       "                Sweep page: <a href=\"https://wandb.ai/teamtom/churn-class-imbalance-with-treshold01/sweeps/d22sfkpk\" target=\"_blank\">https://wandb.ai/teamtom/churn-class-imbalance-with-treshold01/sweeps/d22sfkpk</a><br/>\n",
       "Run page: <a href=\"https://wandb.ai/teamtom/churn-class-imbalance-with-treshold01/runs/q3p35031\" target=\"_blank\">https://wandb.ai/teamtom/churn-class-imbalance-with-treshold01/runs/q3p35031</a><br/>\n",
       "                Run data is saved locally in <code>c:\\python\\anaconda_base\\pytorch-tutorial\\wandb\\run-20211003_214952-q3p35031</code><br/><br/>\n",
       "            "
      ],
      "text/plain": [
       "<IPython.core.display.HTML object>"
      ]
     },
     "metadata": {},
     "output_type": "display_data"
    },
    {
     "name": "stdout",
     "output_type": "stream",
     "text": [
      "dataset size: 10000\n",
      "dataset samples shape: torch.Size([10000, 9])\n",
      "dataset classes shape: torch.Size([10000, 1])\n",
      "| Epoch: 0010 | Train Loss: 0.440 | Train Acc: 69.64% | Val. Loss: 0.418 | Val. Acc: 71.44% |\n",
      "| Epoch: 0020 | Train Loss: 0.443 | Train Acc: 69.62% | Val. Loss: 0.425 | Val. Acc: 68.10% |\n",
      "| Epoch: 0030 | Train Loss: 0.438 | Train Acc: 70.93% | Val. Loss: 0.425 | Val. Acc: 69.29% |\n",
      "| Epoch: 0040 | Train Loss: 0.438 | Train Acc: 70.77% | Val. Loss: 0.433 | Val. Acc: 72.95% |\n",
      "| Epoch: 0050 | Train Loss: 0.438 | Train Acc: 70.90% | Val. Loss: 0.435 | Val. Acc: 71.44% |\n",
      "| Epoch: 0060 | Train Loss: 0.439 | Train Acc: 70.41% | Val. Loss: 0.421 | Val. Acc: 68.43% |\n",
      "| Epoch: 0070 | Train Loss: 0.439 | Train Acc: 70.63% | Val. Loss: 0.435 | Val. Acc: 71.44% |\n",
      "| Epoch: 0080 | Train Loss: 0.438 | Train Acc: 70.50% | Val. Loss: 0.419 | Val. Acc: 70.47% |\n",
      "| Epoch: 0090 | Train Loss: 0.438 | Train Acc: 70.68% | Val. Loss: 0.428 | Val. Acc: 68.53% |\n",
      "| Epoch: 0100 | Train Loss: 0.441 | Train Acc: 70.74% | Val. Loss: 0.421 | Val. Acc: 69.18% |\n"
     ]
    },
    {
     "data": {
      "text/html": [
       "<br/>Waiting for W&B process to finish, PID 11928<br/>Program ended successfully."
      ],
      "text/plain": [
       "<IPython.core.display.HTML object>"
      ]
     },
     "metadata": {},
     "output_type": "display_data"
    },
    {
     "data": {
      "application/vnd.jupyter.widget-view+json": {
       "model_id": "9acb416af46b4a938dcef431dafd0045",
       "version_major": 2,
       "version_minor": 0
      },
      "text/plain": [
       "VBox(children=(Label(value=' 0.00MB of 0.00MB uploaded (0.00MB deduped)\\r'), FloatProgress(value=1.0, max=1.0)…"
      ]
     },
     "metadata": {},
     "output_type": "display_data"
    },
    {
     "data": {
      "text/html": [
       "Find user logs for this run at: <code>c:\\python\\anaconda_base\\pytorch-tutorial\\wandb\\run-20211003_214952-q3p35031\\logs\\debug.log</code>"
      ],
      "text/plain": [
       "<IPython.core.display.HTML object>"
      ]
     },
     "metadata": {},
     "output_type": "display_data"
    },
    {
     "data": {
      "text/html": [
       "Find internal logs for this run at: <code>c:\\python\\anaconda_base\\pytorch-tutorial\\wandb\\run-20211003_214952-q3p35031\\logs\\debug-internal.log</code>"
      ],
      "text/plain": [
       "<IPython.core.display.HTML object>"
      ]
     },
     "metadata": {},
     "output_type": "display_data"
    },
    {
     "data": {
      "text/html": [
       "<h3>Run summary:</h3><br/><style>\n",
       "    table.wandb td:nth-child(1) { padding: 0 10px; text-align: right }\n",
       "    </style><table class=\"wandb\">\n",
       "<tr><td>train_loss</td><td>0.44074</td></tr><tr><td>train_acc</td><td>0.70743</td></tr><tr><td>valid_loss</td><td>0.42123</td></tr><tr><td>valid_acc</td><td>0.69181</td></tr><tr><td>lr</td><td>0.01</td></tr><tr><td>epoch_time</td><td>0.32802</td></tr><tr><td>_runtime</td><td>27</td></tr><tr><td>_timestamp</td><td>1633290621</td></tr><tr><td>_step</td><td>99</td></tr><tr><td>accuracy</td><td>0.699</td></tr><tr><td>prec</td><td>0.37067</td></tr><tr><td>recall</td><td>0.68137</td></tr><tr><td>f1</td><td>0.48014</td></tr></table>"
      ],
      "text/plain": [
       "<IPython.core.display.HTML object>"
      ]
     },
     "metadata": {},
     "output_type": "display_data"
    },
    {
     "data": {
      "text/html": [
       "<h3>Run history:</h3><br/><style>\n",
       "    table.wandb td:nth-child(1) { padding: 0 10px; text-align: right }\n",
       "    </style><table class=\"wandb\">\n",
       "<tr><td>train_loss</td><td>█▄▂▂▁▁▁▁▁▁▁▁▁▁▁▁▁▁▁▁▁▁▁▁▁▁▁▁▁▁▁▁▁▁▁▁▁▁▁▁</td></tr><tr><td>train_acc</td><td>▁▅▆▇▇▇███████████▇██████████████████████</td></tr><tr><td>valid_loss</td><td>█▅▃▄▃▃▂▂▃▃▃▃▁▃▂▅▂▁▁▃▁▂▃▂▂▂▃▂▂▄▂▃▃▂▁▂▁▂▂▂</td></tr><tr><td>valid_acc</td><td>▆▄▃▁▂▆▅▇▅▇▇▆▆▁▅▇▃█▇▇▇▅▇█▄▅▆▅▅▆█▆▆▇▆█▇█▅▅</td></tr><tr><td>lr</td><td>▁▁▁▁▁▁▁▁▁▁▁▁▁▁▁▁▁▁▁▁▁▁▁▁▁▁▁▁▁▁▁▁▁▁▁▁▁▁▁▁</td></tr><tr><td>epoch_time</td><td>▆▄▆▆▆▅▅▆▆▅▄▆▅▇▇▅▄▇▆▅▅▆▇▅▆▃▄▄▂▁▃▂▂▂▃▃▁▃▆█</td></tr><tr><td>_runtime</td><td>▁▁▁▂▂▂▂▂▃▃▃▃▃▄▄▄▄▄▅▅▅▅▅▅▆▆▆▆▆▇▇▇▇▇▇▇▇███</td></tr><tr><td>_timestamp</td><td>▁▁▁▂▂▂▂▂▃▃▃▃▃▄▄▄▄▄▅▅▅▅▅▅▆▆▆▆▆▇▇▇▇▇▇▇▇███</td></tr><tr><td>_step</td><td>▁▁▁▁▂▂▂▂▂▃▃▃▃▃▃▄▄▄▄▄▅▅▅▅▅▅▆▆▆▆▆▇▇▇▇▇▇███</td></tr></table><br/>"
      ],
      "text/plain": [
       "<IPython.core.display.HTML object>"
      ]
     },
     "metadata": {},
     "output_type": "display_data"
    },
    {
     "data": {
      "text/html": [
       "Synced 5 W&B file(s), 0 media file(s), 0 artifact file(s) and 0 other file(s)"
      ],
      "text/plain": [
       "<IPython.core.display.HTML object>"
      ]
     },
     "metadata": {},
     "output_type": "display_data"
    },
    {
     "data": {
      "text/html": [
       "\n",
       "                    <br/>Synced <strong style=\"color:#cdcd00\">light-sweep-2</strong>: <a href=\"https://wandb.ai/teamtom/churn-class-imbalance-with-treshold01/runs/q3p35031\" target=\"_blank\">https://wandb.ai/teamtom/churn-class-imbalance-with-treshold01/runs/q3p35031</a><br/>\n",
       "                "
      ],
      "text/plain": [
       "<IPython.core.display.HTML object>"
      ]
     },
     "metadata": {},
     "output_type": "display_data"
    },
    {
     "name": "stderr",
     "output_type": "stream",
     "text": [
      "wandb: Agent Starting Run: f98v0pob with config:\n",
      "wandb: \tbatch_size: 32\n",
      "wandb: \tepochs: 100\n",
      "wandb: \tlearning_rate: 0.01\n",
      "wandb: \tthreshold: 0.23157894736842105\n",
      "wandb: wandb version 0.12.3 is available!  To upgrade, please run:\n",
      "wandb:  $ pip install wandb --upgrade\n"
     ]
    },
    {
     "data": {
      "text/html": [
       "\n",
       "                Tracking run with wandb version 0.10.31<br/>\n",
       "                Syncing run <strong style=\"color:#cdcd00\">dainty-sweep-3</strong> to <a href=\"https://wandb.ai\" target=\"_blank\">Weights & Biases</a> <a href=\"https://docs.wandb.com/integrations/jupyter.html\" target=\"_blank\">(Documentation)</a>.<br/>\n",
       "                Project page: <a href=\"https://wandb.ai/teamtom/churn-class-imbalance-with-treshold01\" target=\"_blank\">https://wandb.ai/teamtom/churn-class-imbalance-with-treshold01</a><br/>\n",
       "                Sweep page: <a href=\"https://wandb.ai/teamtom/churn-class-imbalance-with-treshold01/sweeps/d22sfkpk\" target=\"_blank\">https://wandb.ai/teamtom/churn-class-imbalance-with-treshold01/sweeps/d22sfkpk</a><br/>\n",
       "Run page: <a href=\"https://wandb.ai/teamtom/churn-class-imbalance-with-treshold01/runs/f98v0pob\" target=\"_blank\">https://wandb.ai/teamtom/churn-class-imbalance-with-treshold01/runs/f98v0pob</a><br/>\n",
       "                Run data is saved locally in <code>c:\\python\\anaconda_base\\pytorch-tutorial\\wandb\\run-20211003_215026-f98v0pob</code><br/><br/>\n",
       "            "
      ],
      "text/plain": [
       "<IPython.core.display.HTML object>"
      ]
     },
     "metadata": {},
     "output_type": "display_data"
    },
    {
     "name": "stdout",
     "output_type": "stream",
     "text": [
      "dataset size: 10000\n",
      "dataset samples shape: torch.Size([10000, 9])\n",
      "dataset classes shape: torch.Size([10000, 1])\n",
      "| Epoch: 0010 | Train Loss: 0.441 | Train Acc: 71.44% | Val. Loss: 0.427 | Val. Acc: 70.04% |\n",
      "| Epoch: 0020 | Train Loss: 0.439 | Train Acc: 71.85% | Val. Loss: 0.422 | Val. Acc: 69.40% |\n",
      "| Epoch: 0030 | Train Loss: 0.441 | Train Acc: 72.40% | Val. Loss: 0.434 | Val. Acc: 69.18% |\n",
      "| Epoch: 0040 | Train Loss: 0.438 | Train Acc: 72.29% | Val. Loss: 0.418 | Val. Acc: 73.49% |\n",
      "| Epoch: 0050 | Train Loss: 0.439 | Train Acc: 72.76% | Val. Loss: 0.422 | Val. Acc: 72.52% |\n",
      "| Epoch: 0060 | Train Loss: 0.438 | Train Acc: 72.59% | Val. Loss: 0.432 | Val. Acc: 69.29% |\n",
      "| Epoch: 0070 | Train Loss: 0.440 | Train Acc: 71.88% | Val. Loss: 0.434 | Val. Acc: 68.21% |\n",
      "| Epoch: 0080 | Train Loss: 0.440 | Train Acc: 72.60% | Val. Loss: 0.419 | Val. Acc: 71.01% |\n",
      "| Epoch: 0090 | Train Loss: 0.438 | Train Acc: 72.18% | Val. Loss: 0.428 | Val. Acc: 73.81% |\n",
      "| Epoch: 0100 | Train Loss: 0.439 | Train Acc: 72.45% | Val. Loss: 0.420 | Val. Acc: 73.49% |\n"
     ]
    },
    {
     "data": {
      "text/html": [
       "<br/>Waiting for W&B process to finish, PID 19504<br/>Program ended successfully."
      ],
      "text/plain": [
       "<IPython.core.display.HTML object>"
      ]
     },
     "metadata": {},
     "output_type": "display_data"
    },
    {
     "data": {
      "application/vnd.jupyter.widget-view+json": {
       "model_id": "946be6b9807648c2a7077e48855e97e3",
       "version_major": 2,
       "version_minor": 0
      },
      "text/plain": [
       "VBox(children=(Label(value=' 0.00MB of 0.00MB uploaded (0.00MB deduped)\\r'), FloatProgress(value=1.0, max=1.0)…"
      ]
     },
     "metadata": {},
     "output_type": "display_data"
    },
    {
     "data": {
      "text/html": [
       "Find user logs for this run at: <code>c:\\python\\anaconda_base\\pytorch-tutorial\\wandb\\run-20211003_215026-f98v0pob\\logs\\debug.log</code>"
      ],
      "text/plain": [
       "<IPython.core.display.HTML object>"
      ]
     },
     "metadata": {},
     "output_type": "display_data"
    },
    {
     "data": {
      "text/html": [
       "Find internal logs for this run at: <code>c:\\python\\anaconda_base\\pytorch-tutorial\\wandb\\run-20211003_215026-f98v0pob\\logs\\debug-internal.log</code>"
      ],
      "text/plain": [
       "<IPython.core.display.HTML object>"
      ]
     },
     "metadata": {},
     "output_type": "display_data"
    },
    {
     "data": {
      "text/html": [
       "<h3>Run summary:</h3><br/><style>\n",
       "    table.wandb td:nth-child(1) { padding: 0 10px; text-align: right }\n",
       "    </style><table class=\"wandb\">\n",
       "<tr><td>train_loss</td><td>0.43915</td></tr><tr><td>train_acc</td><td>0.72453</td></tr><tr><td>valid_loss</td><td>0.42027</td></tr><tr><td>valid_acc</td><td>0.73491</td></tr><tr><td>lr</td><td>0.01</td></tr><tr><td>epoch_time</td><td>0.35472</td></tr><tr><td>_runtime</td><td>29</td></tr><tr><td>_timestamp</td><td>1633290656</td></tr><tr><td>_step</td><td>99</td></tr><tr><td>accuracy</td><td>0.733</td></tr><tr><td>prec</td><td>0.40248</td></tr><tr><td>recall</td><td>0.63725</td></tr><tr><td>f1</td><td>0.49336</td></tr></table>"
      ],
      "text/plain": [
       "<IPython.core.display.HTML object>"
      ]
     },
     "metadata": {},
     "output_type": "display_data"
    },
    {
     "data": {
      "text/html": [
       "<h3>Run history:</h3><br/><style>\n",
       "    table.wandb td:nth-child(1) { padding: 0 10px; text-align: right }\n",
       "    </style><table class=\"wandb\">\n",
       "<tr><td>train_loss</td><td>█▃▂▂▁▁▁▁▁▁▁▁▁▁▁▁▁▁▁▁▁▂▁▂▁▁▁▁▁▁▁▁▁▁▁▁▂▁▁▁</td></tr><tr><td>train_acc</td><td>▁▅▆▇▇▇██▇████████████▇█▇█████████▇██▇███</td></tr><tr><td>valid_loss</td><td>▇▄█▄▂▂▂▃▁▂▄▃▂▅▃▂▃▃▅▄▂▆▃▃▁▅▁▃▁▃▁▂▁▄▁▂▂▂▁▂</td></tr><tr><td>valid_acc</td><td>▅▁▄▆▆▆▅▆▇▆▆▇▆██▆█▇▆█▄█▆▆█▄▇▆█▆█▆▇▄█▅▆█▇█</td></tr><tr><td>lr</td><td>▁▁▁▁▁▁▁▁▁▁▁▁▁▁▁▁▁▁▁▁▁▁▁▁▁▁▁▁▁▁▁▁▁▁▁▁▁▁▁▁</td></tr><tr><td>epoch_time</td><td>▄▃▄▅▃▄▆▄▆▃▃▄▃▄▄▁▃▄█▄▄▄▄▅▅▂▁▁▃▃▁▂▂▂▂▂▂▁▂▅</td></tr><tr><td>_runtime</td><td>▁▁▂▂▂▂▂▃▃▃▃▃▃▄▄▄▄▄▅▅▅▅▅▆▆▆▆▆▆▇▇▇▇▇▇▇████</td></tr><tr><td>_timestamp</td><td>▁▁▂▂▂▂▂▃▃▃▃▃▃▄▄▄▄▄▅▅▅▅▅▆▆▆▆▆▆▇▇▇▇▇▇▇████</td></tr><tr><td>_step</td><td>▁▁▁▁▂▂▂▂▂▃▃▃▃▃▃▄▄▄▄▄▅▅▅▅▅▅▆▆▆▆▆▇▇▇▇▇▇███</td></tr></table><br/>"
      ],
      "text/plain": [
       "<IPython.core.display.HTML object>"
      ]
     },
     "metadata": {},
     "output_type": "display_data"
    },
    {
     "data": {
      "text/html": [
       "Synced 5 W&B file(s), 0 media file(s), 0 artifact file(s) and 0 other file(s)"
      ],
      "text/plain": [
       "<IPython.core.display.HTML object>"
      ]
     },
     "metadata": {},
     "output_type": "display_data"
    },
    {
     "data": {
      "text/html": [
       "\n",
       "                    <br/>Synced <strong style=\"color:#cdcd00\">dainty-sweep-3</strong>: <a href=\"https://wandb.ai/teamtom/churn-class-imbalance-with-treshold01/runs/f98v0pob\" target=\"_blank\">https://wandb.ai/teamtom/churn-class-imbalance-with-treshold01/runs/f98v0pob</a><br/>\n",
       "                "
      ],
      "text/plain": [
       "<IPython.core.display.HTML object>"
      ]
     },
     "metadata": {},
     "output_type": "display_data"
    },
    {
     "name": "stderr",
     "output_type": "stream",
     "text": [
      "wandb: Agent Starting Run: j50jsmjr with config:\n",
      "wandb: \tbatch_size: 32\n",
      "wandb: \tepochs: 100\n",
      "wandb: \tlearning_rate: 0.01\n",
      "wandb: \tthreshold: 0.2473684210526316\n",
      "wandb: wandb version 0.12.3 is available!  To upgrade, please run:\n",
      "wandb:  $ pip install wandb --upgrade\n"
     ]
    },
    {
     "data": {
      "text/html": [
       "\n",
       "                Tracking run with wandb version 0.10.31<br/>\n",
       "                Syncing run <strong style=\"color:#cdcd00\">magic-sweep-4</strong> to <a href=\"https://wandb.ai\" target=\"_blank\">Weights & Biases</a> <a href=\"https://docs.wandb.com/integrations/jupyter.html\" target=\"_blank\">(Documentation)</a>.<br/>\n",
       "                Project page: <a href=\"https://wandb.ai/teamtom/churn-class-imbalance-with-treshold01\" target=\"_blank\">https://wandb.ai/teamtom/churn-class-imbalance-with-treshold01</a><br/>\n",
       "                Sweep page: <a href=\"https://wandb.ai/teamtom/churn-class-imbalance-with-treshold01/sweeps/d22sfkpk\" target=\"_blank\">https://wandb.ai/teamtom/churn-class-imbalance-with-treshold01/sweeps/d22sfkpk</a><br/>\n",
       "Run page: <a href=\"https://wandb.ai/teamtom/churn-class-imbalance-with-treshold01/runs/j50jsmjr\" target=\"_blank\">https://wandb.ai/teamtom/churn-class-imbalance-with-treshold01/runs/j50jsmjr</a><br/>\n",
       "                Run data is saved locally in <code>c:\\python\\anaconda_base\\pytorch-tutorial\\wandb\\run-20211003_215101-j50jsmjr</code><br/><br/>\n",
       "            "
      ],
      "text/plain": [
       "<IPython.core.display.HTML object>"
      ]
     },
     "metadata": {},
     "output_type": "display_data"
    },
    {
     "name": "stdout",
     "output_type": "stream",
     "text": [
      "dataset size: 10000\n",
      "dataset samples shape: torch.Size([10000, 9])\n",
      "dataset classes shape: torch.Size([10000, 1])\n",
      "| Epoch: 0010 | Train Loss: 0.440 | Train Acc: 73.04% | Val. Loss: 0.426 | Val. Acc: 71.88% |\n",
      "| Epoch: 0020 | Train Loss: 0.440 | Train Acc: 73.17% | Val. Loss: 0.421 | Val. Acc: 71.98% |\n",
      "| Epoch: 0030 | Train Loss: 0.438 | Train Acc: 73.78% | Val. Loss: 0.428 | Val. Acc: 72.63% |\n",
      "| Epoch: 0040 | Train Loss: 0.440 | Train Acc: 74.18% | Val. Loss: 0.435 | Val. Acc: 70.15% |\n",
      "| Epoch: 0050 | Train Loss: 0.439 | Train Acc: 73.71% | Val. Loss: 0.433 | Val. Acc: 72.95% |\n",
      "| Epoch: 0060 | Train Loss: 0.440 | Train Acc: 73.70% | Val. Loss: 0.431 | Val. Acc: 71.88% |\n",
      "| Epoch: 0070 | Train Loss: 0.439 | Train Acc: 74.00% | Val. Loss: 0.421 | Val. Acc: 72.84% |\n",
      "| Epoch: 0080 | Train Loss: 0.440 | Train Acc: 73.50% | Val. Loss: 0.417 | Val. Acc: 73.71% |\n",
      "| Epoch: 0090 | Train Loss: 0.439 | Train Acc: 73.91% | Val. Loss: 0.435 | Val. Acc: 71.12% |\n",
      "| Epoch: 0100 | Train Loss: 0.439 | Train Acc: 73.75% | Val. Loss: 0.444 | Val. Acc: 71.55% |\n"
     ]
    },
    {
     "data": {
      "text/html": [
       "<br/>Waiting for W&B process to finish, PID 13360<br/>Program ended successfully."
      ],
      "text/plain": [
       "<IPython.core.display.HTML object>"
      ]
     },
     "metadata": {},
     "output_type": "display_data"
    },
    {
     "data": {
      "application/vnd.jupyter.widget-view+json": {
       "model_id": "caf5aa8920f14741bb9fc0892b322707",
       "version_major": 2,
       "version_minor": 0
      },
      "text/plain": [
       "VBox(children=(Label(value=' 0.00MB of 0.00MB uploaded (0.00MB deduped)\\r'), FloatProgress(value=1.0, max=1.0)…"
      ]
     },
     "metadata": {},
     "output_type": "display_data"
    },
    {
     "data": {
      "text/html": [
       "Find user logs for this run at: <code>c:\\python\\anaconda_base\\pytorch-tutorial\\wandb\\run-20211003_215101-j50jsmjr\\logs\\debug.log</code>"
      ],
      "text/plain": [
       "<IPython.core.display.HTML object>"
      ]
     },
     "metadata": {},
     "output_type": "display_data"
    },
    {
     "data": {
      "text/html": [
       "Find internal logs for this run at: <code>c:\\python\\anaconda_base\\pytorch-tutorial\\wandb\\run-20211003_215101-j50jsmjr\\logs\\debug-internal.log</code>"
      ],
      "text/plain": [
       "<IPython.core.display.HTML object>"
      ]
     },
     "metadata": {},
     "output_type": "display_data"
    },
    {
     "data": {
      "text/html": [
       "<h3>Run summary:</h3><br/><style>\n",
       "    table.wandb td:nth-child(1) { padding: 0 10px; text-align: right }\n",
       "    </style><table class=\"wandb\">\n",
       "<tr><td>train_loss</td><td>0.43898</td></tr><tr><td>train_acc</td><td>0.73745</td></tr><tr><td>valid_loss</td><td>0.44409</td></tr><tr><td>valid_acc</td><td>0.71552</td></tr><tr><td>lr</td><td>0.01</td></tr><tr><td>epoch_time</td><td>0.17564</td></tr><tr><td>_runtime</td><td>29</td></tr><tr><td>_timestamp</td><td>1633290690</td></tr><tr><td>_step</td><td>99</td></tr><tr><td>accuracy</td><td>0.73</td></tr><tr><td>prec</td><td>0.4</td></tr><tr><td>recall</td><td>0.64706</td></tr><tr><td>f1</td><td>0.49438</td></tr></table>"
      ],
      "text/plain": [
       "<IPython.core.display.HTML object>"
      ]
     },
     "metadata": {},
     "output_type": "display_data"
    },
    {
     "data": {
      "text/html": [
       "<h3>Run history:</h3><br/><style>\n",
       "    table.wandb td:nth-child(1) { padding: 0 10px; text-align: right }\n",
       "    </style><table class=\"wandb\">\n",
       "<tr><td>train_loss</td><td>█▃▂▂▁▁▁▁▁▁▁▁▁▁▁▁▁▁▁▁▁▁▁▁▁▁▁▁▁▁▁▁▁▁▁▁▁▁▁▁</td></tr><tr><td>train_acc</td><td>▁▆▇▇▇▇▇▇███████▇████████▇█████████▇▇████</td></tr><tr><td>valid_loss</td><td>█▄▂▂▃▃▁▂▅▅▅▇▁▃▂▁▃▂▃▂▂▂▃▂▁▁▂▂▂▅▄▂▂▂▁▂▃▁▁▅</td></tr><tr><td>valid_acc</td><td>▄▁▆▇▆▆▇▆▅▅▅▆▆▇▅▇▇█▆▅▆▇▆▅█▇▇▇▅▃▆▆▆▆██▄▆█▅</td></tr><tr><td>lr</td><td>▁▁▁▁▁▁▁▁▁▁▁▁▁▁▁▁▁▁▁▁▁▁▁▁▁▁▁▁▁▁▁▁▁▁▁▁▁▁▁▁</td></tr><tr><td>epoch_time</td><td>▂▂▄▃▅▄▅▅▅▅▄▃▃▄▄▄▆▅▅█▄▅▆▅▅▆▅▄▂▂▃▃▁▃▂▂▂▂▁▁</td></tr><tr><td>_runtime</td><td>▁▁▁▂▂▂▂▂▃▃▃▃▃▄▄▄▄▄▄▅▅▅▅▅▆▆▆▆▆▆▇▇▇▇▇▇▇███</td></tr><tr><td>_timestamp</td><td>▁▁▁▂▂▂▂▂▃▃▃▃▃▄▄▄▄▄▄▅▅▅▅▅▆▆▆▆▆▆▇▇▇▇▇▇▇███</td></tr><tr><td>_step</td><td>▁▁▁▁▂▂▂▂▂▃▃▃▃▃▃▄▄▄▄▄▅▅▅▅▅▅▆▆▆▆▆▇▇▇▇▇▇███</td></tr></table><br/>"
      ],
      "text/plain": [
       "<IPython.core.display.HTML object>"
      ]
     },
     "metadata": {},
     "output_type": "display_data"
    },
    {
     "data": {
      "text/html": [
       "Synced 5 W&B file(s), 0 media file(s), 0 artifact file(s) and 0 other file(s)"
      ],
      "text/plain": [
       "<IPython.core.display.HTML object>"
      ]
     },
     "metadata": {},
     "output_type": "display_data"
    },
    {
     "data": {
      "text/html": [
       "\n",
       "                    <br/>Synced <strong style=\"color:#cdcd00\">magic-sweep-4</strong>: <a href=\"https://wandb.ai/teamtom/churn-class-imbalance-with-treshold01/runs/j50jsmjr\" target=\"_blank\">https://wandb.ai/teamtom/churn-class-imbalance-with-treshold01/runs/j50jsmjr</a><br/>\n",
       "                "
      ],
      "text/plain": [
       "<IPython.core.display.HTML object>"
      ]
     },
     "metadata": {},
     "output_type": "display_data"
    },
    {
     "name": "stderr",
     "output_type": "stream",
     "text": [
      "wandb: Agent Starting Run: 0b8i6lrs with config:\n",
      "wandb: \tbatch_size: 32\n",
      "wandb: \tepochs: 100\n",
      "wandb: \tlearning_rate: 0.01\n",
      "wandb: \tthreshold: 0.26315789473684215\n",
      "wandb: wandb version 0.12.3 is available!  To upgrade, please run:\n",
      "wandb:  $ pip install wandb --upgrade\n"
     ]
    },
    {
     "data": {
      "text/html": [
       "\n",
       "                Tracking run with wandb version 0.10.31<br/>\n",
       "                Syncing run <strong style=\"color:#cdcd00\">woven-sweep-5</strong> to <a href=\"https://wandb.ai\" target=\"_blank\">Weights & Biases</a> <a href=\"https://docs.wandb.com/integrations/jupyter.html\" target=\"_blank\">(Documentation)</a>.<br/>\n",
       "                Project page: <a href=\"https://wandb.ai/teamtom/churn-class-imbalance-with-treshold01\" target=\"_blank\">https://wandb.ai/teamtom/churn-class-imbalance-with-treshold01</a><br/>\n",
       "                Sweep page: <a href=\"https://wandb.ai/teamtom/churn-class-imbalance-with-treshold01/sweeps/d22sfkpk\" target=\"_blank\">https://wandb.ai/teamtom/churn-class-imbalance-with-treshold01/sweeps/d22sfkpk</a><br/>\n",
       "Run page: <a href=\"https://wandb.ai/teamtom/churn-class-imbalance-with-treshold01/runs/0b8i6lrs\" target=\"_blank\">https://wandb.ai/teamtom/churn-class-imbalance-with-treshold01/runs/0b8i6lrs</a><br/>\n",
       "                Run data is saved locally in <code>c:\\python\\anaconda_base\\pytorch-tutorial\\wandb\\run-20211003_215135-0b8i6lrs</code><br/><br/>\n",
       "            "
      ],
      "text/plain": [
       "<IPython.core.display.HTML object>"
      ]
     },
     "metadata": {},
     "output_type": "display_data"
    },
    {
     "name": "stdout",
     "output_type": "stream",
     "text": [
      "dataset size: 10000\n",
      "dataset samples shape: torch.Size([10000, 9])\n",
      "dataset classes shape: torch.Size([10000, 1])\n",
      "| Epoch: 0010 | Train Loss: 0.440 | Train Acc: 74.31% | Val. Loss: 0.421 | Val. Acc: 75.00% |\n",
      "| Epoch: 0020 | Train Loss: 0.439 | Train Acc: 74.99% | Val. Loss: 0.427 | Val. Acc: 74.14% |\n",
      "| Epoch: 0030 | Train Loss: 0.442 | Train Acc: 75.05% | Val. Loss: 0.421 | Val. Acc: 74.25% |\n",
      "| Epoch: 0040 | Train Loss: 0.438 | Train Acc: 75.00% | Val. Loss: 0.417 | Val. Acc: 75.11% |\n",
      "| Epoch: 0050 | Train Loss: 0.438 | Train Acc: 74.93% | Val. Loss: 0.422 | Val. Acc: 73.71% |\n",
      "| Epoch: 0060 | Train Loss: 0.440 | Train Acc: 74.42% | Val. Loss: 0.425 | Val. Acc: 74.89% |\n",
      "| Epoch: 0070 | Train Loss: 0.440 | Train Acc: 74.91% | Val. Loss: 0.419 | Val. Acc: 74.78% |\n",
      "| Epoch: 0080 | Train Loss: 0.439 | Train Acc: 75.14% | Val. Loss: 0.434 | Val. Acc: 72.52% |\n",
      "| Epoch: 0090 | Train Loss: 0.439 | Train Acc: 75.15% | Val. Loss: 0.431 | Val. Acc: 73.06% |\n",
      "| Epoch: 0100 | Train Loss: 0.442 | Train Acc: 74.84% | Val. Loss: 0.417 | Val. Acc: 75.43% |\n"
     ]
    },
    {
     "data": {
      "text/html": [
       "<br/>Waiting for W&B process to finish, PID 19620<br/>Program ended successfully."
      ],
      "text/plain": [
       "<IPython.core.display.HTML object>"
      ]
     },
     "metadata": {},
     "output_type": "display_data"
    },
    {
     "data": {
      "application/vnd.jupyter.widget-view+json": {
       "model_id": "a0118dfedb2d48a2acfca1d66b1a8067",
       "version_major": 2,
       "version_minor": 0
      },
      "text/plain": [
       "VBox(children=(Label(value=' 0.00MB of 0.00MB uploaded (0.00MB deduped)\\r'), FloatProgress(value=1.0, max=1.0)…"
      ]
     },
     "metadata": {},
     "output_type": "display_data"
    },
    {
     "data": {
      "text/html": [
       "Find user logs for this run at: <code>c:\\python\\anaconda_base\\pytorch-tutorial\\wandb\\run-20211003_215135-0b8i6lrs\\logs\\debug.log</code>"
      ],
      "text/plain": [
       "<IPython.core.display.HTML object>"
      ]
     },
     "metadata": {},
     "output_type": "display_data"
    },
    {
     "data": {
      "text/html": [
       "Find internal logs for this run at: <code>c:\\python\\anaconda_base\\pytorch-tutorial\\wandb\\run-20211003_215135-0b8i6lrs\\logs\\debug-internal.log</code>"
      ],
      "text/plain": [
       "<IPython.core.display.HTML object>"
      ]
     },
     "metadata": {},
     "output_type": "display_data"
    },
    {
     "data": {
      "text/html": [
       "<h3>Run summary:</h3><br/><style>\n",
       "    table.wandb td:nth-child(1) { padding: 0 10px; text-align: right }\n",
       "    </style><table class=\"wandb\">\n",
       "<tr><td>train_loss</td><td>0.44183</td></tr><tr><td>train_acc</td><td>0.7484</td></tr><tr><td>valid_loss</td><td>0.41685</td></tr><tr><td>valid_acc</td><td>0.75431</td></tr><tr><td>lr</td><td>0.01</td></tr><tr><td>epoch_time</td><td>0.21534</td></tr><tr><td>_runtime</td><td>29</td></tr><tr><td>_timestamp</td><td>1633290724</td></tr><tr><td>_step</td><td>99</td></tr><tr><td>accuracy</td><td>0.776</td></tr><tr><td>prec</td><td>0.45902</td></tr><tr><td>recall</td><td>0.54902</td></tr><tr><td>f1</td><td>0.5</td></tr></table>"
      ],
      "text/plain": [
       "<IPython.core.display.HTML object>"
      ]
     },
     "metadata": {},
     "output_type": "display_data"
    },
    {
     "data": {
      "text/html": [
       "<h3>Run history:</h3><br/><style>\n",
       "    table.wandb td:nth-child(1) { padding: 0 10px; text-align: right }\n",
       "    </style><table class=\"wandb\">\n",
       "<tr><td>train_loss</td><td>█▃▂▁▁▁▁▁▁▁▁▁▁▁▁▁▁▁▁▁▁▁▁▁▁▁▁▁▁▁▁▁▁▁▁▁▁▁▁▁</td></tr><tr><td>train_acc</td><td>▁▆▇▇▇██▇████████████████████████████████</td></tr><tr><td>valid_loss</td><td>█▆▃▂▂▁▃▄▃▁▁▃▂▃▃▃▅▄▂▃▂▁▁▂▃▂▄▂▄▄▃▂▂▃▄▄▂▁▁▁</td></tr><tr><td>valid_acc</td><td>▄▂▄▅▆▆▁▆▂▆▅▄▅▅▇▄█▄▆▄▇▆▇▅█▅▆▅▃▅▆▇▄▇▄▆▃█▅▇</td></tr><tr><td>lr</td><td>▁▁▁▁▁▁▁▁▁▁▁▁▁▁▁▁▁▁▁▁▁▁▁▁▁▁▁▁▁▁▁▁▁▁▁▁▁▁▁▁</td></tr><tr><td>epoch_time</td><td>▅▆▇▆▆▆▄▄▆▆▅▆▆▇▇▇▆▅▅▅▆▇▇▇█▃▃▁▄▃▆▃▃▂▆▃▂▃▂▂</td></tr><tr><td>_runtime</td><td>▁▁▂▂▂▂▂▂▃▃▃▃▃▄▄▄▄▄▄▅▅▅▅▅▆▆▆▆▆▆▇▇▇▇▇▇▇███</td></tr><tr><td>_timestamp</td><td>▁▁▂▂▂▂▂▂▃▃▃▃▃▄▄▄▄▄▄▅▅▅▅▅▆▆▆▆▆▆▇▇▇▇▇▇▇███</td></tr><tr><td>_step</td><td>▁▁▁▁▂▂▂▂▂▃▃▃▃▃▃▄▄▄▄▄▅▅▅▅▅▅▆▆▆▆▆▇▇▇▇▇▇███</td></tr></table><br/>"
      ],
      "text/plain": [
       "<IPython.core.display.HTML object>"
      ]
     },
     "metadata": {},
     "output_type": "display_data"
    },
    {
     "data": {
      "text/html": [
       "Synced 5 W&B file(s), 0 media file(s), 0 artifact file(s) and 0 other file(s)"
      ],
      "text/plain": [
       "<IPython.core.display.HTML object>"
      ]
     },
     "metadata": {},
     "output_type": "display_data"
    },
    {
     "data": {
      "text/html": [
       "\n",
       "                    <br/>Synced <strong style=\"color:#cdcd00\">woven-sweep-5</strong>: <a href=\"https://wandb.ai/teamtom/churn-class-imbalance-with-treshold01/runs/0b8i6lrs\" target=\"_blank\">https://wandb.ai/teamtom/churn-class-imbalance-with-treshold01/runs/0b8i6lrs</a><br/>\n",
       "                "
      ],
      "text/plain": [
       "<IPython.core.display.HTML object>"
      ]
     },
     "metadata": {},
     "output_type": "display_data"
    },
    {
     "name": "stderr",
     "output_type": "stream",
     "text": [
      "wandb: Agent Starting Run: po5aw2qj with config:\n",
      "wandb: \tbatch_size: 32\n",
      "wandb: \tepochs: 100\n",
      "wandb: \tlearning_rate: 0.01\n",
      "wandb: \tthreshold: 0.2789473684210526\n",
      "wandb: wandb version 0.12.3 is available!  To upgrade, please run:\n",
      "wandb:  $ pip install wandb --upgrade\n"
     ]
    },
    {
     "data": {
      "text/html": [
       "\n",
       "                Tracking run with wandb version 0.10.31<br/>\n",
       "                Syncing run <strong style=\"color:#cdcd00\">polar-sweep-6</strong> to <a href=\"https://wandb.ai\" target=\"_blank\">Weights & Biases</a> <a href=\"https://docs.wandb.com/integrations/jupyter.html\" target=\"_blank\">(Documentation)</a>.<br/>\n",
       "                Project page: <a href=\"https://wandb.ai/teamtom/churn-class-imbalance-with-treshold01\" target=\"_blank\">https://wandb.ai/teamtom/churn-class-imbalance-with-treshold01</a><br/>\n",
       "                Sweep page: <a href=\"https://wandb.ai/teamtom/churn-class-imbalance-with-treshold01/sweeps/d22sfkpk\" target=\"_blank\">https://wandb.ai/teamtom/churn-class-imbalance-with-treshold01/sweeps/d22sfkpk</a><br/>\n",
       "Run page: <a href=\"https://wandb.ai/teamtom/churn-class-imbalance-with-treshold01/runs/po5aw2qj\" target=\"_blank\">https://wandb.ai/teamtom/churn-class-imbalance-with-treshold01/runs/po5aw2qj</a><br/>\n",
       "                Run data is saved locally in <code>c:\\python\\anaconda_base\\pytorch-tutorial\\wandb\\run-20211003_215209-po5aw2qj</code><br/><br/>\n",
       "            "
      ],
      "text/plain": [
       "<IPython.core.display.HTML object>"
      ]
     },
     "metadata": {},
     "output_type": "display_data"
    },
    {
     "name": "stdout",
     "output_type": "stream",
     "text": [
      "dataset size: 10000\n",
      "dataset samples shape: torch.Size([10000, 9])\n",
      "dataset classes shape: torch.Size([10000, 1])\n",
      "| Epoch: 0010 | Train Loss: 0.442 | Train Acc: 75.46% | Val. Loss: 0.426 | Val. Acc: 75.97% |\n",
      "| Epoch: 0020 | Train Loss: 0.440 | Train Acc: 75.97% | Val. Loss: 0.416 | Val. Acc: 76.62% |\n",
      "| Epoch: 0030 | Train Loss: 0.439 | Train Acc: 75.90% | Val. Loss: 0.416 | Val. Acc: 77.37% |\n",
      "| Epoch: 0040 | Train Loss: 0.438 | Train Acc: 76.40% | Val. Loss: 0.420 | Val. Acc: 73.60% |\n",
      "| Epoch: 0050 | Train Loss: 0.441 | Train Acc: 76.19% | Val. Loss: 0.424 | Val. Acc: 74.68% |\n",
      "| Epoch: 0060 | Train Loss: 0.439 | Train Acc: 76.39% | Val. Loss: 0.419 | Val. Acc: 77.69% |\n",
      "| Epoch: 0070 | Train Loss: 0.441 | Train Acc: 75.82% | Val. Loss: 0.423 | Val. Acc: 74.57% |\n",
      "| Epoch: 0080 | Train Loss: 0.440 | Train Acc: 76.19% | Val. Loss: 0.430 | Val. Acc: 74.89% |\n",
      "| Epoch: 0090 | Train Loss: 0.438 | Train Acc: 76.01% | Val. Loss: 0.429 | Val. Acc: 76.08% |\n",
      "| Epoch: 0100 | Train Loss: 0.439 | Train Acc: 76.00% | Val. Loss: 0.422 | Val. Acc: 74.25% |\n"
     ]
    },
    {
     "data": {
      "text/html": [
       "<br/>Waiting for W&B process to finish, PID 22788<br/>Program ended successfully."
      ],
      "text/plain": [
       "<IPython.core.display.HTML object>"
      ]
     },
     "metadata": {},
     "output_type": "display_data"
    },
    {
     "data": {
      "application/vnd.jupyter.widget-view+json": {
       "model_id": "7b7d56a577e340a79e4cadd5c0abed0d",
       "version_major": 2,
       "version_minor": 0
      },
      "text/plain": [
       "VBox(children=(Label(value=' 0.00MB of 0.00MB uploaded (0.00MB deduped)\\r'), FloatProgress(value=1.0, max=1.0)…"
      ]
     },
     "metadata": {},
     "output_type": "display_data"
    },
    {
     "data": {
      "text/html": [
       "Find user logs for this run at: <code>c:\\python\\anaconda_base\\pytorch-tutorial\\wandb\\run-20211003_215209-po5aw2qj\\logs\\debug.log</code>"
      ],
      "text/plain": [
       "<IPython.core.display.HTML object>"
      ]
     },
     "metadata": {},
     "output_type": "display_data"
    },
    {
     "data": {
      "text/html": [
       "Find internal logs for this run at: <code>c:\\python\\anaconda_base\\pytorch-tutorial\\wandb\\run-20211003_215209-po5aw2qj\\logs\\debug-internal.log</code>"
      ],
      "text/plain": [
       "<IPython.core.display.HTML object>"
      ]
     },
     "metadata": {},
     "output_type": "display_data"
    },
    {
     "data": {
      "text/html": [
       "<h3>Run summary:</h3><br/><style>\n",
       "    table.wandb td:nth-child(1) { padding: 0 10px; text-align: right }\n",
       "    </style><table class=\"wandb\">\n",
       "<tr><td>train_loss</td><td>0.43859</td></tr><tr><td>train_acc</td><td>0.75997</td></tr><tr><td>valid_loss</td><td>0.42177</td></tr><tr><td>valid_acc</td><td>0.74246</td></tr><tr><td>lr</td><td>0.01</td></tr><tr><td>epoch_time</td><td>0.18041</td></tr><tr><td>_runtime</td><td>30</td></tr><tr><td>_timestamp</td><td>1633290759</td></tr><tr><td>_step</td><td>99</td></tr><tr><td>accuracy</td><td>0.774</td></tr><tr><td>prec</td><td>0.45703</td></tr><tr><td>recall</td><td>0.57353</td></tr><tr><td>f1</td><td>0.5087</td></tr></table>"
      ],
      "text/plain": [
       "<IPython.core.display.HTML object>"
      ]
     },
     "metadata": {},
     "output_type": "display_data"
    },
    {
     "data": {
      "text/html": [
       "<h3>Run history:</h3><br/><style>\n",
       "    table.wandb td:nth-child(1) { padding: 0 10px; text-align: right }\n",
       "    </style><table class=\"wandb\">\n",
       "<tr><td>train_loss</td><td>█▃▂▁▁▁▁▁▁▁▁▁▁▁▁▁▁▁▁▁▁▁▁▁▁▁▁▁▁▁▁▁▁▁▁▁▁▁▁▁</td></tr><tr><td>train_acc</td><td>▁▆▇▇▇█▇██▇▇███▇▇▇▇▇█▇████▇▇▇███▇▇██▇▇██▇</td></tr><tr><td>valid_loss</td><td>█▇▄▃▃▄▄▃▃▂▂▂▂▁▂▃▁▆▃▁▄▁▆▂▃▁▁▂▃▄▁▂▁▁▁▃▄▂▄▂</td></tr><tr><td>valid_acc</td><td>▄▆▅▆▁▃▃▃▄▅▄▃▇▄▇▅▄▄▂▅█▄▂▅▄▅▅▄▂▂▅▆▅▅▆▂▄▄▂▃</td></tr><tr><td>lr</td><td>▁▁▁▁▁▁▁▁▁▁▁▁▁▁▁▁▁▁▁▁▁▁▁▁▁▁▁▁▁▁▁▁▁▁▁▁▁▁▁▁</td></tr><tr><td>epoch_time</td><td>▃▆▄▄▃▄▄▄▄█▃▅▄▅▅▇▅▄▅▄▅▄▅▂▂▁▅▃▃▃▃▁▁▂▂▁▂▂▂▁</td></tr><tr><td>_runtime</td><td>▁▁▂▂▂▂▂▂▃▃▃▃▃▄▄▄▄▄▅▅▅▅▅▆▆▆▆▆▆▆▇▇▇▇▇▇▇███</td></tr><tr><td>_timestamp</td><td>▁▁▂▂▂▂▂▂▃▃▃▃▃▄▄▄▄▄▅▅▅▅▅▆▆▆▆▆▆▆▇▇▇▇▇▇▇███</td></tr><tr><td>_step</td><td>▁▁▁▁▂▂▂▂▂▃▃▃▃▃▃▄▄▄▄▄▅▅▅▅▅▅▆▆▆▆▆▇▇▇▇▇▇███</td></tr></table><br/>"
      ],
      "text/plain": [
       "<IPython.core.display.HTML object>"
      ]
     },
     "metadata": {},
     "output_type": "display_data"
    },
    {
     "data": {
      "text/html": [
       "Synced 5 W&B file(s), 0 media file(s), 0 artifact file(s) and 0 other file(s)"
      ],
      "text/plain": [
       "<IPython.core.display.HTML object>"
      ]
     },
     "metadata": {},
     "output_type": "display_data"
    },
    {
     "data": {
      "text/html": [
       "\n",
       "                    <br/>Synced <strong style=\"color:#cdcd00\">polar-sweep-6</strong>: <a href=\"https://wandb.ai/teamtom/churn-class-imbalance-with-treshold01/runs/po5aw2qj\" target=\"_blank\">https://wandb.ai/teamtom/churn-class-imbalance-with-treshold01/runs/po5aw2qj</a><br/>\n",
       "                "
      ],
      "text/plain": [
       "<IPython.core.display.HTML object>"
      ]
     },
     "metadata": {},
     "output_type": "display_data"
    },
    {
     "name": "stderr",
     "output_type": "stream",
     "text": [
      "wandb: Agent Starting Run: it1kxlyf with config:\n",
      "wandb: \tbatch_size: 32\n",
      "wandb: \tepochs: 100\n",
      "wandb: \tlearning_rate: 0.01\n",
      "wandb: \tthreshold: 0.2947368421052632\n",
      "wandb: wandb version 0.12.3 is available!  To upgrade, please run:\n",
      "wandb:  $ pip install wandb --upgrade\n"
     ]
    },
    {
     "data": {
      "text/html": [
       "\n",
       "                Tracking run with wandb version 0.10.31<br/>\n",
       "                Syncing run <strong style=\"color:#cdcd00\">northern-sweep-7</strong> to <a href=\"https://wandb.ai\" target=\"_blank\">Weights & Biases</a> <a href=\"https://docs.wandb.com/integrations/jupyter.html\" target=\"_blank\">(Documentation)</a>.<br/>\n",
       "                Project page: <a href=\"https://wandb.ai/teamtom/churn-class-imbalance-with-treshold01\" target=\"_blank\">https://wandb.ai/teamtom/churn-class-imbalance-with-treshold01</a><br/>\n",
       "                Sweep page: <a href=\"https://wandb.ai/teamtom/churn-class-imbalance-with-treshold01/sweeps/d22sfkpk\" target=\"_blank\">https://wandb.ai/teamtom/churn-class-imbalance-with-treshold01/sweeps/d22sfkpk</a><br/>\n",
       "Run page: <a href=\"https://wandb.ai/teamtom/churn-class-imbalance-with-treshold01/runs/it1kxlyf\" target=\"_blank\">https://wandb.ai/teamtom/churn-class-imbalance-with-treshold01/runs/it1kxlyf</a><br/>\n",
       "                Run data is saved locally in <code>c:\\python\\anaconda_base\\pytorch-tutorial\\wandb\\run-20211003_215244-it1kxlyf</code><br/><br/>\n",
       "            "
      ],
      "text/plain": [
       "<IPython.core.display.HTML object>"
      ]
     },
     "metadata": {},
     "output_type": "display_data"
    },
    {
     "name": "stdout",
     "output_type": "stream",
     "text": [
      "dataset size: 10000\n",
      "dataset samples shape: torch.Size([10000, 9])\n",
      "dataset classes shape: torch.Size([10000, 1])\n",
      "| Epoch: 0010 | Train Loss: 0.439 | Train Acc: 76.25% | Val. Loss: 0.451 | Val. Acc: 77.05% |\n",
      "| Epoch: 0020 | Train Loss: 0.439 | Train Acc: 76.88% | Val. Loss: 0.421 | Val. Acc: 75.75% |\n",
      "| Epoch: 0030 | Train Loss: 0.440 | Train Acc: 77.28% | Val. Loss: 0.426 | Val. Acc: 77.05% |\n",
      "| Epoch: 0040 | Train Loss: 0.439 | Train Acc: 76.91% | Val. Loss: 0.420 | Val. Acc: 75.00% |\n",
      "| Epoch: 0050 | Train Loss: 0.439 | Train Acc: 76.89% | Val. Loss: 0.417 | Val. Acc: 77.69% |\n",
      "| Epoch: 0060 | Train Loss: 0.440 | Train Acc: 76.75% | Val. Loss: 0.427 | Val. Acc: 76.83% |\n",
      "| Epoch: 0070 | Train Loss: 0.438 | Train Acc: 77.01% | Val. Loss: 0.421 | Val. Acc: 75.97% |\n",
      "| Epoch: 0080 | Train Loss: 0.441 | Train Acc: 77.05% | Val. Loss: 0.427 | Val. Acc: 76.19% |\n",
      "| Epoch: 0090 | Train Loss: 0.438 | Train Acc: 77.20% | Val. Loss: 0.417 | Val. Acc: 77.91% |\n",
      "| Epoch: 0100 | Train Loss: 0.438 | Train Acc: 77.28% | Val. Loss: 0.418 | Val. Acc: 75.65% |\n"
     ]
    },
    {
     "data": {
      "text/html": [
       "<br/>Waiting for W&B process to finish, PID 24812<br/>Program ended successfully."
      ],
      "text/plain": [
       "<IPython.core.display.HTML object>"
      ]
     },
     "metadata": {},
     "output_type": "display_data"
    },
    {
     "data": {
      "application/vnd.jupyter.widget-view+json": {
       "model_id": "d3136914dc0d4f8291d6566ed4148d24",
       "version_major": 2,
       "version_minor": 0
      },
      "text/plain": [
       "VBox(children=(Label(value=' 0.00MB of 0.00MB uploaded (0.00MB deduped)\\r'), FloatProgress(value=1.0, max=1.0)…"
      ]
     },
     "metadata": {},
     "output_type": "display_data"
    },
    {
     "data": {
      "text/html": [
       "Find user logs for this run at: <code>c:\\python\\anaconda_base\\pytorch-tutorial\\wandb\\run-20211003_215244-it1kxlyf\\logs\\debug.log</code>"
      ],
      "text/plain": [
       "<IPython.core.display.HTML object>"
      ]
     },
     "metadata": {},
     "output_type": "display_data"
    },
    {
     "data": {
      "text/html": [
       "Find internal logs for this run at: <code>c:\\python\\anaconda_base\\pytorch-tutorial\\wandb\\run-20211003_215244-it1kxlyf\\logs\\debug-internal.log</code>"
      ],
      "text/plain": [
       "<IPython.core.display.HTML object>"
      ]
     },
     "metadata": {},
     "output_type": "display_data"
    },
    {
     "data": {
      "text/html": [
       "<h3>Run summary:</h3><br/><style>\n",
       "    table.wandb td:nth-child(1) { padding: 0 10px; text-align: right }\n",
       "    </style><table class=\"wandb\">\n",
       "<tr><td>train_loss</td><td>0.43795</td></tr><tr><td>train_acc</td><td>0.77276</td></tr><tr><td>valid_loss</td><td>0.41782</td></tr><tr><td>valid_acc</td><td>0.75647</td></tr><tr><td>lr</td><td>0.01</td></tr><tr><td>epoch_time</td><td>0.18628</td></tr><tr><td>_runtime</td><td>29</td></tr><tr><td>_timestamp</td><td>1633290793</td></tr><tr><td>_step</td><td>99</td></tr><tr><td>accuracy</td><td>0.774</td></tr><tr><td>prec</td><td>0.45528</td></tr><tr><td>recall</td><td>0.54902</td></tr><tr><td>f1</td><td>0.49778</td></tr></table>"
      ],
      "text/plain": [
       "<IPython.core.display.HTML object>"
      ]
     },
     "metadata": {},
     "output_type": "display_data"
    },
    {
     "data": {
      "text/html": [
       "<h3>Run history:</h3><br/><style>\n",
       "    table.wandb td:nth-child(1) { padding: 0 10px; text-align: right }\n",
       "    </style><table class=\"wandb\">\n",
       "<tr><td>train_loss</td><td>█▃▂▁▁▁▁▁▁▁▁▁▁▁▁▁▁▁▁▁▁▁▁▁▁▁▁▁▁▁▁▁▁▁▁▁▁▁▁▁</td></tr><tr><td>train_acc</td><td>▁▇▇▇▇▇██▇███▇██████▇██████████▇█▇▇█▇▇▇██</td></tr><tr><td>valid_loss</td><td>█▅▂▃▄▄▃▄▁▁▂▂▄▁▂▁▁▂▂▁▄▃▃▃▂▃▂▁▂▁▄▂▁▂▃▂▂▁▃▁</td></tr><tr><td>valid_acc</td><td>▂▄▄▃▆▂▅▄▅▅▅▄▁▃▃▄▆▄▃▄▃▅▁▂▃▃▂▄▂▄▅▃▅▄▄▄▆█▂▃</td></tr><tr><td>lr</td><td>▁▁▁▁▁▁▁▁▁▁▁▁▁▁▁▁▁▁▁▁▁▁▁▁▁▁▁▁▁▁▁▁▁▁▁▁▁▁▁▁</td></tr><tr><td>epoch_time</td><td>▄▄▄▅█▅▅▄▄▅▅▅▅▆▅▅▁▂▁▂█▆▄▆▅▆▆█▂▂▂▅▂▁▃▄▃▂▂▁</td></tr><tr><td>_runtime</td><td>▁▁▁▂▂▂▂▂▃▃▃▃▃▄▄▄▄▄▄▅▅▅▅▅▅▆▆▆▆▆▇▇▇▇▇▇▇███</td></tr><tr><td>_timestamp</td><td>▁▁▁▂▂▂▂▂▃▃▃▃▃▄▄▄▄▄▄▅▅▅▅▅▅▆▆▆▆▆▇▇▇▇▇▇▇███</td></tr><tr><td>_step</td><td>▁▁▁▁▂▂▂▂▂▃▃▃▃▃▃▄▄▄▄▄▅▅▅▅▅▅▆▆▆▆▆▇▇▇▇▇▇███</td></tr></table><br/>"
      ],
      "text/plain": [
       "<IPython.core.display.HTML object>"
      ]
     },
     "metadata": {},
     "output_type": "display_data"
    },
    {
     "data": {
      "text/html": [
       "Synced 5 W&B file(s), 0 media file(s), 0 artifact file(s) and 0 other file(s)"
      ],
      "text/plain": [
       "<IPython.core.display.HTML object>"
      ]
     },
     "metadata": {},
     "output_type": "display_data"
    },
    {
     "data": {
      "text/html": [
       "\n",
       "                    <br/>Synced <strong style=\"color:#cdcd00\">northern-sweep-7</strong>: <a href=\"https://wandb.ai/teamtom/churn-class-imbalance-with-treshold01/runs/it1kxlyf\" target=\"_blank\">https://wandb.ai/teamtom/churn-class-imbalance-with-treshold01/runs/it1kxlyf</a><br/>\n",
       "                "
      ],
      "text/plain": [
       "<IPython.core.display.HTML object>"
      ]
     },
     "metadata": {},
     "output_type": "display_data"
    },
    {
     "name": "stderr",
     "output_type": "stream",
     "text": [
      "wandb: Agent Starting Run: 047c2udq with config:\n",
      "wandb: \tbatch_size: 32\n",
      "wandb: \tepochs: 100\n",
      "wandb: \tlearning_rate: 0.01\n",
      "wandb: \tthreshold: 0.3105263157894737\n",
      "wandb: wandb version 0.12.3 is available!  To upgrade, please run:\n",
      "wandb:  $ pip install wandb --upgrade\n"
     ]
    },
    {
     "data": {
      "text/html": [
       "\n",
       "                Tracking run with wandb version 0.10.31<br/>\n",
       "                Syncing run <strong style=\"color:#cdcd00\">comic-sweep-8</strong> to <a href=\"https://wandb.ai\" target=\"_blank\">Weights & Biases</a> <a href=\"https://docs.wandb.com/integrations/jupyter.html\" target=\"_blank\">(Documentation)</a>.<br/>\n",
       "                Project page: <a href=\"https://wandb.ai/teamtom/churn-class-imbalance-with-treshold01\" target=\"_blank\">https://wandb.ai/teamtom/churn-class-imbalance-with-treshold01</a><br/>\n",
       "                Sweep page: <a href=\"https://wandb.ai/teamtom/churn-class-imbalance-with-treshold01/sweeps/d22sfkpk\" target=\"_blank\">https://wandb.ai/teamtom/churn-class-imbalance-with-treshold01/sweeps/d22sfkpk</a><br/>\n",
       "Run page: <a href=\"https://wandb.ai/teamtom/churn-class-imbalance-with-treshold01/runs/047c2udq\" target=\"_blank\">https://wandb.ai/teamtom/churn-class-imbalance-with-treshold01/runs/047c2udq</a><br/>\n",
       "                Run data is saved locally in <code>c:\\python\\anaconda_base\\pytorch-tutorial\\wandb\\run-20211003_215318-047c2udq</code><br/><br/>\n",
       "            "
      ],
      "text/plain": [
       "<IPython.core.display.HTML object>"
      ]
     },
     "metadata": {},
     "output_type": "display_data"
    },
    {
     "name": "stdout",
     "output_type": "stream",
     "text": [
      "dataset size: 10000\n",
      "dataset samples shape: torch.Size([10000, 9])\n",
      "dataset classes shape: torch.Size([10000, 1])\n",
      "| Epoch: 0010 | Train Loss: 0.439 | Train Acc: 77.29% | Val. Loss: 0.438 | Val. Acc: 78.02% |\n",
      "| Epoch: 0020 | Train Loss: 0.438 | Train Acc: 77.76% | Val. Loss: 0.438 | Val. Acc: 76.08% |\n",
      "| Epoch: 0030 | Train Loss: 0.439 | Train Acc: 77.76% | Val. Loss: 0.425 | Val. Acc: 76.62% |\n",
      "| Epoch: 0040 | Train Loss: 0.440 | Train Acc: 77.67% | Val. Loss: 0.419 | Val. Acc: 78.02% |\n",
      "| Epoch: 0050 | Train Loss: 0.440 | Train Acc: 77.60% | Val. Loss: 0.427 | Val. Acc: 75.65% |\n",
      "| Epoch: 0060 | Train Loss: 0.437 | Train Acc: 77.95% | Val. Loss: 0.424 | Val. Acc: 74.89% |\n",
      "| Epoch: 0070 | Train Loss: 0.439 | Train Acc: 77.62% | Val. Loss: 0.430 | Val. Acc: 75.97% |\n",
      "| Epoch: 0080 | Train Loss: 0.438 | Train Acc: 77.60% | Val. Loss: 0.427 | Val. Acc: 77.26% |\n",
      "| Epoch: 0090 | Train Loss: 0.439 | Train Acc: 77.90% | Val. Loss: 0.431 | Val. Acc: 76.19% |\n",
      "| Epoch: 0100 | Train Loss: 0.438 | Train Acc: 77.78% | Val. Loss: 0.425 | Val. Acc: 76.19% |\n"
     ]
    },
    {
     "data": {
      "text/html": [
       "<br/>Waiting for W&B process to finish, PID 26088<br/>Program ended successfully."
      ],
      "text/plain": [
       "<IPython.core.display.HTML object>"
      ]
     },
     "metadata": {},
     "output_type": "display_data"
    },
    {
     "data": {
      "application/vnd.jupyter.widget-view+json": {
       "model_id": "ad880c9182454abd956fb1ffdfa40f2a",
       "version_major": 2,
       "version_minor": 0
      },
      "text/plain": [
       "VBox(children=(Label(value=' 0.00MB of 0.00MB uploaded (0.00MB deduped)\\r'), FloatProgress(value=1.0, max=1.0)…"
      ]
     },
     "metadata": {},
     "output_type": "display_data"
    },
    {
     "data": {
      "text/html": [
       "Find user logs for this run at: <code>c:\\python\\anaconda_base\\pytorch-tutorial\\wandb\\run-20211003_215318-047c2udq\\logs\\debug.log</code>"
      ],
      "text/plain": [
       "<IPython.core.display.HTML object>"
      ]
     },
     "metadata": {},
     "output_type": "display_data"
    },
    {
     "data": {
      "text/html": [
       "Find internal logs for this run at: <code>c:\\python\\anaconda_base\\pytorch-tutorial\\wandb\\run-20211003_215318-047c2udq\\logs\\debug-internal.log</code>"
      ],
      "text/plain": [
       "<IPython.core.display.HTML object>"
      ]
     },
     "metadata": {},
     "output_type": "display_data"
    },
    {
     "data": {
      "text/html": [
       "<h3>Run summary:</h3><br/><style>\n",
       "    table.wandb td:nth-child(1) { padding: 0 10px; text-align: right }\n",
       "    </style><table class=\"wandb\">\n",
       "<tr><td>train_loss</td><td>0.43811</td></tr><tr><td>train_acc</td><td>0.77781</td></tr><tr><td>valid_loss</td><td>0.42465</td></tr><tr><td>valid_acc</td><td>0.76185</td></tr><tr><td>lr</td><td>0.01</td></tr><tr><td>epoch_time</td><td>0.29627</td></tr><tr><td>_runtime</td><td>29</td></tr><tr><td>_timestamp</td><td>1633290827</td></tr><tr><td>_step</td><td>99</td></tr><tr><td>accuracy</td><td>0.793</td></tr><tr><td>prec</td><td>0.49275</td></tr><tr><td>recall</td><td>0.5</td></tr><tr><td>f1</td><td>0.49635</td></tr></table>"
      ],
      "text/plain": [
       "<IPython.core.display.HTML object>"
      ]
     },
     "metadata": {},
     "output_type": "display_data"
    },
    {
     "data": {
      "text/html": [
       "<h3>Run history:</h3><br/><style>\n",
       "    table.wandb td:nth-child(1) { padding: 0 10px; text-align: right }\n",
       "    </style><table class=\"wandb\">\n",
       "<tr><td>train_loss</td><td>█▃▂▁▁▁▁▁▁▁▁▁▁▁▁▁▁▁▂▁▁▁▁▁▁▁▁▁▁▁▁▁▁▂▁▁▁▁▂▁</td></tr><tr><td>train_acc</td><td>▁▆▇▇█▇▇██▇███▇▇▇██▇▇█▇██▇██▇▇██▇███▇▇▇▇█</td></tr><tr><td>valid_loss</td><td>██▅▂▄▂▅▄▄▃▂▄▂▁▃▂▂▂▃▃▂▁▂▂▃▄▃▄▁▂▄▁▁▁▁▁▆▁▄▂</td></tr><tr><td>valid_acc</td><td>▆▇▅▄▅▇▂▇▇▅▄▃▂▇▅▇█▃▆▆▅▅▇▄▆▃▃▁▆▂▅█▅▇▅█▅▇▆▄</td></tr><tr><td>lr</td><td>▁▁▁▁▁▁▁▁▁▁▁▁▁▁▁▁▁▁▁▁▁▁▁▁▁▁▁▁▁▁▁▁▁▁▁▁▁▁▁▁</td></tr><tr><td>epoch_time</td><td>▅▄▇▃▄▅▄▄█▄▄▄▃▆█▁▃▁▃▃▃▄▃▅█▃▄▁▂▂▁▁▁▂▂▂▁▁▂▄</td></tr><tr><td>_runtime</td><td>▁▁▁▂▂▂▂▂▃▃▃▃▃▃▄▄▄▄▅▅▅▅▅▅▆▆▆▆▆▆▇▇▇▇▇▇▇▇██</td></tr><tr><td>_timestamp</td><td>▁▁▁▂▂▂▂▂▃▃▃▃▃▃▄▄▄▄▅▅▅▅▅▅▆▆▆▆▆▆▇▇▇▇▇▇▇▇██</td></tr><tr><td>_step</td><td>▁▁▁▁▂▂▂▂▂▃▃▃▃▃▃▄▄▄▄▄▅▅▅▅▅▅▆▆▆▆▆▇▇▇▇▇▇███</td></tr></table><br/>"
      ],
      "text/plain": [
       "<IPython.core.display.HTML object>"
      ]
     },
     "metadata": {},
     "output_type": "display_data"
    },
    {
     "data": {
      "text/html": [
       "Synced 5 W&B file(s), 0 media file(s), 0 artifact file(s) and 0 other file(s)"
      ],
      "text/plain": [
       "<IPython.core.display.HTML object>"
      ]
     },
     "metadata": {},
     "output_type": "display_data"
    },
    {
     "data": {
      "text/html": [
       "\n",
       "                    <br/>Synced <strong style=\"color:#cdcd00\">comic-sweep-8</strong>: <a href=\"https://wandb.ai/teamtom/churn-class-imbalance-with-treshold01/runs/047c2udq\" target=\"_blank\">https://wandb.ai/teamtom/churn-class-imbalance-with-treshold01/runs/047c2udq</a><br/>\n",
       "                "
      ],
      "text/plain": [
       "<IPython.core.display.HTML object>"
      ]
     },
     "metadata": {},
     "output_type": "display_data"
    },
    {
     "name": "stderr",
     "output_type": "stream",
     "text": [
      "wandb: Agent Starting Run: k4ltf4tw with config:\n",
      "wandb: \tbatch_size: 32\n",
      "wandb: \tepochs: 100\n",
      "wandb: \tlearning_rate: 0.01\n",
      "wandb: \tthreshold: 0.3263157894736842\n",
      "wandb: wandb version 0.12.3 is available!  To upgrade, please run:\n",
      "wandb:  $ pip install wandb --upgrade\n"
     ]
    },
    {
     "data": {
      "text/html": [
       "\n",
       "                Tracking run with wandb version 0.10.31<br/>\n",
       "                Syncing run <strong style=\"color:#cdcd00\">soft-sweep-9</strong> to <a href=\"https://wandb.ai\" target=\"_blank\">Weights & Biases</a> <a href=\"https://docs.wandb.com/integrations/jupyter.html\" target=\"_blank\">(Documentation)</a>.<br/>\n",
       "                Project page: <a href=\"https://wandb.ai/teamtom/churn-class-imbalance-with-treshold01\" target=\"_blank\">https://wandb.ai/teamtom/churn-class-imbalance-with-treshold01</a><br/>\n",
       "                Sweep page: <a href=\"https://wandb.ai/teamtom/churn-class-imbalance-with-treshold01/sweeps/d22sfkpk\" target=\"_blank\">https://wandb.ai/teamtom/churn-class-imbalance-with-treshold01/sweeps/d22sfkpk</a><br/>\n",
       "Run page: <a href=\"https://wandb.ai/teamtom/churn-class-imbalance-with-treshold01/runs/k4ltf4tw\" target=\"_blank\">https://wandb.ai/teamtom/churn-class-imbalance-with-treshold01/runs/k4ltf4tw</a><br/>\n",
       "                Run data is saved locally in <code>c:\\python\\anaconda_base\\pytorch-tutorial\\wandb\\run-20211003_215351-k4ltf4tw</code><br/><br/>\n",
       "            "
      ],
      "text/plain": [
       "<IPython.core.display.HTML object>"
      ]
     },
     "metadata": {},
     "output_type": "display_data"
    },
    {
     "name": "stdout",
     "output_type": "stream",
     "text": [
      "dataset size: 10000\n",
      "dataset samples shape: torch.Size([10000, 9])\n",
      "dataset classes shape: torch.Size([10000, 1])\n",
      "| Epoch: 0010 | Train Loss: 0.440 | Train Acc: 78.46% | Val. Loss: 0.431 | Val. Acc: 78.02% |\n",
      "| Epoch: 0020 | Train Loss: 0.440 | Train Acc: 78.30% | Val. Loss: 0.420 | Val. Acc: 78.34% |\n",
      "| Epoch: 0030 | Train Loss: 0.438 | Train Acc: 78.36% | Val. Loss: 0.420 | Val. Acc: 77.80% |\n",
      "| Epoch: 0040 | Train Loss: 0.439 | Train Acc: 78.41% | Val. Loss: 0.426 | Val. Acc: 77.37% |\n",
      "| Epoch: 0050 | Train Loss: 0.439 | Train Acc: 78.30% | Val. Loss: 0.420 | Val. Acc: 77.59% |\n",
      "| Epoch: 0060 | Train Loss: 0.441 | Train Acc: 78.41% | Val. Loss: 0.429 | Val. Acc: 76.51% |\n",
      "| Epoch: 0070 | Train Loss: 0.440 | Train Acc: 78.33% | Val. Loss: 0.449 | Val. Acc: 78.23% |\n",
      "| Epoch: 0080 | Train Loss: 0.440 | Train Acc: 78.38% | Val. Loss: 0.426 | Val. Acc: 77.59% |\n",
      "| Epoch: 0090 | Train Loss: 0.438 | Train Acc: 78.08% | Val. Loss: 0.420 | Val. Acc: 79.74% |\n",
      "| Epoch: 0100 | Train Loss: 0.438 | Train Acc: 78.56% | Val. Loss: 0.423 | Val. Acc: 78.99% |\n"
     ]
    },
    {
     "data": {
      "text/html": [
       "<br/>Waiting for W&B process to finish, PID 16024<br/>Program ended successfully."
      ],
      "text/plain": [
       "<IPython.core.display.HTML object>"
      ]
     },
     "metadata": {},
     "output_type": "display_data"
    },
    {
     "data": {
      "application/vnd.jupyter.widget-view+json": {
       "model_id": "b8ea78d35dee4e0d8c9bb21a0b5fd33f",
       "version_major": 2,
       "version_minor": 0
      },
      "text/plain": [
       "VBox(children=(Label(value=' 0.00MB of 0.00MB uploaded (0.00MB deduped)\\r'), FloatProgress(value=1.0, max=1.0)…"
      ]
     },
     "metadata": {},
     "output_type": "display_data"
    },
    {
     "data": {
      "text/html": [
       "Find user logs for this run at: <code>c:\\python\\anaconda_base\\pytorch-tutorial\\wandb\\run-20211003_215351-k4ltf4tw\\logs\\debug.log</code>"
      ],
      "text/plain": [
       "<IPython.core.display.HTML object>"
      ]
     },
     "metadata": {},
     "output_type": "display_data"
    },
    {
     "data": {
      "text/html": [
       "Find internal logs for this run at: <code>c:\\python\\anaconda_base\\pytorch-tutorial\\wandb\\run-20211003_215351-k4ltf4tw\\logs\\debug-internal.log</code>"
      ],
      "text/plain": [
       "<IPython.core.display.HTML object>"
      ]
     },
     "metadata": {},
     "output_type": "display_data"
    },
    {
     "data": {
      "text/html": [
       "<h3>Run summary:</h3><br/><style>\n",
       "    table.wandb td:nth-child(1) { padding: 0 10px; text-align: right }\n",
       "    </style><table class=\"wandb\">\n",
       "<tr><td>train_loss</td><td>0.43803</td></tr><tr><td>train_acc</td><td>0.78556</td></tr><tr><td>valid_loss</td><td>0.4228</td></tr><tr><td>valid_acc</td><td>0.78987</td></tr><tr><td>lr</td><td>0.01</td></tr><tr><td>epoch_time</td><td>0.31816</td></tr><tr><td>_runtime</td><td>31</td></tr><tr><td>_timestamp</td><td>1633290862</td></tr><tr><td>_step</td><td>99</td></tr><tr><td>accuracy</td><td>0.806</td></tr><tr><td>prec</td><td>0.52907</td></tr><tr><td>recall</td><td>0.44608</td></tr><tr><td>f1</td><td>0.48404</td></tr></table>"
      ],
      "text/plain": [
       "<IPython.core.display.HTML object>"
      ]
     },
     "metadata": {},
     "output_type": "display_data"
    },
    {
     "data": {
      "text/html": [
       "<h3>Run history:</h3><br/><style>\n",
       "    table.wandb td:nth-child(1) { padding: 0 10px; text-align: right }\n",
       "    </style><table class=\"wandb\">\n",
       "<tr><td>train_loss</td><td>█▃▂▁▁▁▁▁▁▂▁▁▁▁▁▁▁▁▁▁▁▁▁▁▁▁▁▁▂▁▁▁▁▁▁▁▁▁▁▁</td></tr><tr><td>train_acc</td><td>▁█▇▆▆▇▇▇▇▇▇▇▇█▇▇▆▇▇▇▇▇▇▇▇▇▇▇▇▇▇██▇▇█▇█▇▇</td></tr><tr><td>valid_loss</td><td>█▆▃▃▃▁▅▃▃▄▁▂▂▁▃▄▄▂▁▃▃▄▃▄▁▁▂▃▅▁▂▃▄▄▁▂▂▂▂▂</td></tr><tr><td>valid_acc</td><td>▆▄▆▅▅▅▁▆▅▆▇▅▄▆▆▁▇▇▆▅▃▆█▃█▆▅▅▄▇▇▃▄▅█▄▆▇▇▇</td></tr><tr><td>lr</td><td>▁▁▁▁▁▁▁▁▁▁▁▁▁▁▁▁▁▁▁▁▁▁▁▁▁▁▁▁▁▁▁▁▁▁▁▁▁▁▁▁</td></tr><tr><td>epoch_time</td><td>▂▃▂▃▃▃▄█▄▃▄▃▅▄▃▅▃▂▁▃▃▃▂▄▄▄▃▄▂▁▁▁▁▃▂▂▂▂▂▄</td></tr><tr><td>_runtime</td><td>▁▁▁▁▂▂▂▂▂▃▃▃▃▄▄▄▄▄▄▅▅▅▅▅▅▆▆▆▆▆▇▇▇▇▇▇▇███</td></tr><tr><td>_timestamp</td><td>▁▁▁▁▂▂▂▂▂▃▃▃▃▄▄▄▄▄▄▅▅▅▅▅▅▆▆▆▆▆▇▇▇▇▇▇▇███</td></tr><tr><td>_step</td><td>▁▁▁▁▂▂▂▂▂▃▃▃▃▃▃▄▄▄▄▄▅▅▅▅▅▅▆▆▆▆▆▇▇▇▇▇▇███</td></tr></table><br/>"
      ],
      "text/plain": [
       "<IPython.core.display.HTML object>"
      ]
     },
     "metadata": {},
     "output_type": "display_data"
    },
    {
     "data": {
      "text/html": [
       "Synced 5 W&B file(s), 0 media file(s), 0 artifact file(s) and 0 other file(s)"
      ],
      "text/plain": [
       "<IPython.core.display.HTML object>"
      ]
     },
     "metadata": {},
     "output_type": "display_data"
    },
    {
     "data": {
      "text/html": [
       "\n",
       "                    <br/>Synced <strong style=\"color:#cdcd00\">soft-sweep-9</strong>: <a href=\"https://wandb.ai/teamtom/churn-class-imbalance-with-treshold01/runs/k4ltf4tw\" target=\"_blank\">https://wandb.ai/teamtom/churn-class-imbalance-with-treshold01/runs/k4ltf4tw</a><br/>\n",
       "                "
      ],
      "text/plain": [
       "<IPython.core.display.HTML object>"
      ]
     },
     "metadata": {},
     "output_type": "display_data"
    },
    {
     "name": "stderr",
     "output_type": "stream",
     "text": [
      "wandb: Agent Starting Run: md1zm49i with config:\n",
      "wandb: \tbatch_size: 32\n",
      "wandb: \tepochs: 100\n",
      "wandb: \tlearning_rate: 0.01\n",
      "wandb: \tthreshold: 0.34210526315789475\n",
      "wandb: wandb version 0.12.3 is available!  To upgrade, please run:\n",
      "wandb:  $ pip install wandb --upgrade\n"
     ]
    },
    {
     "data": {
      "text/html": [
       "\n",
       "                Tracking run with wandb version 0.10.31<br/>\n",
       "                Syncing run <strong style=\"color:#cdcd00\">whole-sweep-10</strong> to <a href=\"https://wandb.ai\" target=\"_blank\">Weights & Biases</a> <a href=\"https://docs.wandb.com/integrations/jupyter.html\" target=\"_blank\">(Documentation)</a>.<br/>\n",
       "                Project page: <a href=\"https://wandb.ai/teamtom/churn-class-imbalance-with-treshold01\" target=\"_blank\">https://wandb.ai/teamtom/churn-class-imbalance-with-treshold01</a><br/>\n",
       "                Sweep page: <a href=\"https://wandb.ai/teamtom/churn-class-imbalance-with-treshold01/sweeps/d22sfkpk\" target=\"_blank\">https://wandb.ai/teamtom/churn-class-imbalance-with-treshold01/sweeps/d22sfkpk</a><br/>\n",
       "Run page: <a href=\"https://wandb.ai/teamtom/churn-class-imbalance-with-treshold01/runs/md1zm49i\" target=\"_blank\">https://wandb.ai/teamtom/churn-class-imbalance-with-treshold01/runs/md1zm49i</a><br/>\n",
       "                Run data is saved locally in <code>c:\\python\\anaconda_base\\pytorch-tutorial\\wandb\\run-20211003_215427-md1zm49i</code><br/><br/>\n",
       "            "
      ],
      "text/plain": [
       "<IPython.core.display.HTML object>"
      ]
     },
     "metadata": {},
     "output_type": "display_data"
    },
    {
     "name": "stdout",
     "output_type": "stream",
     "text": [
      "dataset size: 10000\n",
      "dataset samples shape: torch.Size([10000, 9])\n",
      "dataset classes shape: torch.Size([10000, 1])\n",
      "| Epoch: 0010 | Train Loss: 0.442 | Train Acc: 78.95% | Val. Loss: 0.422 | Val. Acc: 78.45% |\n",
      "| Epoch: 0020 | Train Loss: 0.440 | Train Acc: 79.11% | Val. Loss: 0.417 | Val. Acc: 79.96% |\n",
      "| Epoch: 0030 | Train Loss: 0.440 | Train Acc: 79.12% | Val. Loss: 0.419 | Val. Acc: 78.77% |\n",
      "| Epoch: 0040 | Train Loss: 0.439 | Train Acc: 79.11% | Val. Loss: 0.427 | Val. Acc: 77.80% |\n",
      "| Epoch: 0050 | Train Loss: 0.439 | Train Acc: 79.31% | Val. Loss: 0.429 | Val. Acc: 78.45% |\n",
      "| Epoch: 0060 | Train Loss: 0.440 | Train Acc: 78.80% | Val. Loss: 0.434 | Val. Acc: 76.29% |\n",
      "| Epoch: 0070 | Train Loss: 0.439 | Train Acc: 79.06% | Val. Loss: 0.433 | Val. Acc: 76.83% |\n",
      "| Epoch: 0080 | Train Loss: 0.439 | Train Acc: 78.89% | Val. Loss: 0.440 | Val. Acc: 77.91% |\n",
      "| Epoch: 0090 | Train Loss: 0.438 | Train Acc: 78.95% | Val. Loss: 0.430 | Val. Acc: 76.40% |\n",
      "| Epoch: 0100 | Train Loss: 0.438 | Train Acc: 79.08% | Val. Loss: 0.450 | Val. Acc: 76.94% |\n"
     ]
    },
    {
     "data": {
      "text/html": [
       "<br/>Waiting for W&B process to finish, PID 21288<br/>Program ended successfully."
      ],
      "text/plain": [
       "<IPython.core.display.HTML object>"
      ]
     },
     "metadata": {},
     "output_type": "display_data"
    },
    {
     "data": {
      "application/vnd.jupyter.widget-view+json": {
       "model_id": "a7e45cbafa8b4fd48599dc75c055e258",
       "version_major": 2,
       "version_minor": 0
      },
      "text/plain": [
       "VBox(children=(Label(value=' 0.00MB of 0.00MB uploaded (0.00MB deduped)\\r'), FloatProgress(value=1.0, max=1.0)…"
      ]
     },
     "metadata": {},
     "output_type": "display_data"
    },
    {
     "data": {
      "text/html": [
       "Find user logs for this run at: <code>c:\\python\\anaconda_base\\pytorch-tutorial\\wandb\\run-20211003_215427-md1zm49i\\logs\\debug.log</code>"
      ],
      "text/plain": [
       "<IPython.core.display.HTML object>"
      ]
     },
     "metadata": {},
     "output_type": "display_data"
    },
    {
     "data": {
      "text/html": [
       "Find internal logs for this run at: <code>c:\\python\\anaconda_base\\pytorch-tutorial\\wandb\\run-20211003_215427-md1zm49i\\logs\\debug-internal.log</code>"
      ],
      "text/plain": [
       "<IPython.core.display.HTML object>"
      ]
     },
     "metadata": {},
     "output_type": "display_data"
    },
    {
     "data": {
      "text/html": [
       "<h3>Run summary:</h3><br/><style>\n",
       "    table.wandb td:nth-child(1) { padding: 0 10px; text-align: right }\n",
       "    </style><table class=\"wandb\">\n",
       "<tr><td>train_loss</td><td>0.4375</td></tr><tr><td>train_acc</td><td>0.79085</td></tr><tr><td>valid_loss</td><td>0.45048</td></tr><tr><td>valid_acc</td><td>0.7694</td></tr><tr><td>lr</td><td>0.01</td></tr><tr><td>epoch_time</td><td>0.23193</td></tr><tr><td>_runtime</td><td>29</td></tr><tr><td>_timestamp</td><td>1633290896</td></tr><tr><td>_step</td><td>99</td></tr><tr><td>accuracy</td><td>0.8</td></tr><tr><td>prec</td><td>0.51053</td></tr><tr><td>recall</td><td>0.47549</td></tr><tr><td>f1</td><td>0.49239</td></tr></table>"
      ],
      "text/plain": [
       "<IPython.core.display.HTML object>"
      ]
     },
     "metadata": {},
     "output_type": "display_data"
    },
    {
     "data": {
      "text/html": [
       "<h3>Run history:</h3><br/><style>\n",
       "    table.wandb td:nth-child(1) { padding: 0 10px; text-align: right }\n",
       "    </style><table class=\"wandb\">\n",
       "<tr><td>train_loss</td><td>█▃▂▂▁▁▁▁▁▁▁▁▁▁▁▁▁▁▁▁▁▁▁▁▁▁▁▁▁▁▁▁▁▁▁▁▁▁▁▁</td></tr><tr><td>train_acc</td><td>▁▇▇▇▇████▇█▇█▇████▇██▇█▇▇███████▇███████</td></tr><tr><td>valid_loss</td><td>█▆▃▃▃▃▁▂▂▁▃▁▁▄▃▃▂▃▁▃▂▁▃▄▅▅▁▂▄▁▂▂▂▂▅▂▁▃▃▇</td></tr><tr><td>valid_acc</td><td>▆▇█▄▅▃▅▂▂▄▃▅▆▁▅▁▇█▃▅▇▅▅▄▅█▄▄▁▆▃▂▂▅▄▂▅▂▃▁</td></tr><tr><td>lr</td><td>▁▁▁▁▁▁▁▁▁▁▁▁▁▁▁▁▁▁▁▁▁▁▁▁▁▁▁▁▁▁▁▁▁▁▁▁▁▁▁▁</td></tr><tr><td>epoch_time</td><td>▂▁▆▄▅▄▄▅▃▆▄▄▃▄▄▄▆▅▄▄▄▄▄█▄▄▅▄▄▂▂▁▁▃▂▂▂▁▃▃</td></tr><tr><td>_runtime</td><td>▁▁▁▂▂▂▂▂▃▃▃▃▃▄▄▄▄▄▄▅▅▅▅▅▅▆▆▆▆▆▇▇▇▇▇▇▇███</td></tr><tr><td>_timestamp</td><td>▁▁▁▂▂▂▂▂▃▃▃▃▃▄▄▄▄▄▄▅▅▅▅▅▅▆▆▆▆▆▇▇▇▇▇▇▇███</td></tr><tr><td>_step</td><td>▁▁▁▁▂▂▂▂▂▃▃▃▃▃▃▄▄▄▄▄▅▅▅▅▅▅▆▆▆▆▆▇▇▇▇▇▇███</td></tr></table><br/>"
      ],
      "text/plain": [
       "<IPython.core.display.HTML object>"
      ]
     },
     "metadata": {},
     "output_type": "display_data"
    },
    {
     "data": {
      "text/html": [
       "Synced 5 W&B file(s), 0 media file(s), 0 artifact file(s) and 0 other file(s)"
      ],
      "text/plain": [
       "<IPython.core.display.HTML object>"
      ]
     },
     "metadata": {},
     "output_type": "display_data"
    },
    {
     "data": {
      "text/html": [
       "\n",
       "                    <br/>Synced <strong style=\"color:#cdcd00\">whole-sweep-10</strong>: <a href=\"https://wandb.ai/teamtom/churn-class-imbalance-with-treshold01/runs/md1zm49i\" target=\"_blank\">https://wandb.ai/teamtom/churn-class-imbalance-with-treshold01/runs/md1zm49i</a><br/>\n",
       "                "
      ],
      "text/plain": [
       "<IPython.core.display.HTML object>"
      ]
     },
     "metadata": {},
     "output_type": "display_data"
    },
    {
     "name": "stderr",
     "output_type": "stream",
     "text": [
      "wandb: Agent Starting Run: 4k4k1t3t with config:\n",
      "wandb: \tbatch_size: 32\n",
      "wandb: \tepochs: 100\n",
      "wandb: \tlearning_rate: 0.01\n",
      "wandb: \tthreshold: 0.35789473684210527\n",
      "wandb: wandb version 0.12.3 is available!  To upgrade, please run:\n",
      "wandb:  $ pip install wandb --upgrade\n"
     ]
    },
    {
     "data": {
      "text/html": [
       "\n",
       "                Tracking run with wandb version 0.10.31<br/>\n",
       "                Syncing run <strong style=\"color:#cdcd00\">still-sweep-11</strong> to <a href=\"https://wandb.ai\" target=\"_blank\">Weights & Biases</a> <a href=\"https://docs.wandb.com/integrations/jupyter.html\" target=\"_blank\">(Documentation)</a>.<br/>\n",
       "                Project page: <a href=\"https://wandb.ai/teamtom/churn-class-imbalance-with-treshold01\" target=\"_blank\">https://wandb.ai/teamtom/churn-class-imbalance-with-treshold01</a><br/>\n",
       "                Sweep page: <a href=\"https://wandb.ai/teamtom/churn-class-imbalance-with-treshold01/sweeps/d22sfkpk\" target=\"_blank\">https://wandb.ai/teamtom/churn-class-imbalance-with-treshold01/sweeps/d22sfkpk</a><br/>\n",
       "Run page: <a href=\"https://wandb.ai/teamtom/churn-class-imbalance-with-treshold01/runs/4k4k1t3t\" target=\"_blank\">https://wandb.ai/teamtom/churn-class-imbalance-with-treshold01/runs/4k4k1t3t</a><br/>\n",
       "                Run data is saved locally in <code>c:\\python\\anaconda_base\\pytorch-tutorial\\wandb\\run-20211003_215501-4k4k1t3t</code><br/><br/>\n",
       "            "
      ],
      "text/plain": [
       "<IPython.core.display.HTML object>"
      ]
     },
     "metadata": {},
     "output_type": "display_data"
    },
    {
     "name": "stdout",
     "output_type": "stream",
     "text": [
      "dataset size: 10000\n",
      "dataset samples shape: torch.Size([10000, 9])\n",
      "dataset classes shape: torch.Size([10000, 1])\n",
      "| Epoch: 0010 | Train Loss: 0.440 | Train Acc: 79.48% | Val. Loss: 0.429 | Val. Acc: 80.50% |\n",
      "| Epoch: 0020 | Train Loss: 0.438 | Train Acc: 79.52% | Val. Loss: 0.421 | Val. Acc: 80.06% |\n",
      "| Epoch: 0030 | Train Loss: 0.440 | Train Acc: 79.22% | Val. Loss: 0.417 | Val. Acc: 80.06% |\n",
      "| Epoch: 0040 | Train Loss: 0.439 | Train Acc: 79.40% | Val. Loss: 0.452 | Val. Acc: 78.12% |\n",
      "| Epoch: 0050 | Train Loss: 0.438 | Train Acc: 79.59% | Val. Loss: 0.435 | Val. Acc: 79.42% |\n",
      "| Epoch: 0060 | Train Loss: 0.438 | Train Acc: 79.66% | Val. Loss: 0.417 | Val. Acc: 80.39% |\n",
      "| Epoch: 0070 | Train Loss: 0.438 | Train Acc: 79.52% | Val. Loss: 0.424 | Val. Acc: 79.20% |\n",
      "| Epoch: 0080 | Train Loss: 0.438 | Train Acc: 79.28% | Val. Loss: 0.450 | Val. Acc: 79.53% |\n",
      "| Epoch: 0090 | Train Loss: 0.440 | Train Acc: 79.53% | Val. Loss: 0.422 | Val. Acc: 78.23% |\n",
      "| Epoch: 0100 | Train Loss: 0.438 | Train Acc: 79.55% | Val. Loss: 0.417 | Val. Acc: 80.93% |\n"
     ]
    },
    {
     "data": {
      "text/html": [
       "<br/>Waiting for W&B process to finish, PID 8532<br/>Program ended successfully."
      ],
      "text/plain": [
       "<IPython.core.display.HTML object>"
      ]
     },
     "metadata": {},
     "output_type": "display_data"
    },
    {
     "data": {
      "application/vnd.jupyter.widget-view+json": {
       "model_id": "98a4475b40014fdeab9e821b8d036495",
       "version_major": 2,
       "version_minor": 0
      },
      "text/plain": [
       "VBox(children=(Label(value=' 0.00MB of 0.00MB uploaded (0.00MB deduped)\\r'), FloatProgress(value=1.0, max=1.0)…"
      ]
     },
     "metadata": {},
     "output_type": "display_data"
    },
    {
     "data": {
      "text/html": [
       "Find user logs for this run at: <code>c:\\python\\anaconda_base\\pytorch-tutorial\\wandb\\run-20211003_215501-4k4k1t3t\\logs\\debug.log</code>"
      ],
      "text/plain": [
       "<IPython.core.display.HTML object>"
      ]
     },
     "metadata": {},
     "output_type": "display_data"
    },
    {
     "data": {
      "text/html": [
       "Find internal logs for this run at: <code>c:\\python\\anaconda_base\\pytorch-tutorial\\wandb\\run-20211003_215501-4k4k1t3t\\logs\\debug-internal.log</code>"
      ],
      "text/plain": [
       "<IPython.core.display.HTML object>"
      ]
     },
     "metadata": {},
     "output_type": "display_data"
    },
    {
     "data": {
      "text/html": [
       "<h3>Run summary:</h3><br/><style>\n",
       "    table.wandb td:nth-child(1) { padding: 0 10px; text-align: right }\n",
       "    </style><table class=\"wandb\">\n",
       "<tr><td>train_loss</td><td>0.43843</td></tr><tr><td>train_acc</td><td>0.79552</td></tr><tr><td>valid_loss</td><td>0.41677</td></tr><tr><td>valid_acc</td><td>0.80927</td></tr><tr><td>lr</td><td>0.01</td></tr><tr><td>epoch_time</td><td>0.17564</td></tr><tr><td>_runtime</td><td>30</td></tr><tr><td>_timestamp</td><td>1633290931</td></tr><tr><td>_step</td><td>99</td></tr><tr><td>accuracy</td><td>0.822</td></tr><tr><td>prec</td><td>0.61017</td></tr><tr><td>recall</td><td>0.35294</td></tr><tr><td>f1</td><td>0.4472</td></tr></table>"
      ],
      "text/plain": [
       "<IPython.core.display.HTML object>"
      ]
     },
     "metadata": {},
     "output_type": "display_data"
    },
    {
     "data": {
      "text/html": [
       "<h3>Run history:</h3><br/><style>\n",
       "    table.wandb td:nth-child(1) { padding: 0 10px; text-align: right }\n",
       "    </style><table class=\"wandb\">\n",
       "<tr><td>train_loss</td><td>█▃▂▁▁▁▁▁▁▁▁▁▁▁▁▁▁▁▁▁▁▁▁▁▁▁▁▁▁▁▁▁▁▁▁▁▁▁▁▁</td></tr><tr><td>train_acc</td><td>▁▇███▇▇▇██▇█████▇█▇██▇▇████▇██▇██▇▇██▇██</td></tr><tr><td>valid_loss</td><td>█▃▂▃▂▂▃▂▃▃▁▂▂▁▂▂▂▄▂▂▂▃▂▁▃▄▄▄▂▂▁▁▁▂▂▂▂▂▂▁</td></tr><tr><td>valid_acc</td><td>▅██▄▂▃▅▄▄▂▆▄▄▇▅▄▄▅▁▃▆▂▃▄▅▃▄█▅▃▅▅▇▇▄▃▅▃▄█</td></tr><tr><td>lr</td><td>▁▁▁▁▁▁▁▁▁▁▁▁▁▁▁▁▁▁▁▁▁▁▁▁▁▁▁▁▁▁▁▁▁▁▁▁▁▁▁▁</td></tr><tr><td>epoch_time</td><td>▃▃▃▃▄▄▄▃▄▃▃▄▄▄▅▃▁█▂▂▄▃▃▆▃▄▃▄▂▃▂▂▂▂▂▂▂▂▂▁</td></tr><tr><td>_runtime</td><td>▁▁▁▂▂▂▂▃▃▃▃▃▃▄▄▄▄▅▅▅▅▅▅▅▅▆▆▆▇▇▇▇▇▇▇▇▇███</td></tr><tr><td>_timestamp</td><td>▁▁▁▂▂▂▂▃▃▃▃▃▃▄▄▄▄▅▅▅▅▅▅▅▅▆▆▆▇▇▇▇▇▇▇▇▇███</td></tr><tr><td>_step</td><td>▁▁▁▁▂▂▂▂▂▃▃▃▃▃▃▄▄▄▄▄▅▅▅▅▅▅▆▆▆▆▆▇▇▇▇▇▇███</td></tr></table><br/>"
      ],
      "text/plain": [
       "<IPython.core.display.HTML object>"
      ]
     },
     "metadata": {},
     "output_type": "display_data"
    },
    {
     "data": {
      "text/html": [
       "Synced 5 W&B file(s), 0 media file(s), 0 artifact file(s) and 0 other file(s)"
      ],
      "text/plain": [
       "<IPython.core.display.HTML object>"
      ]
     },
     "metadata": {},
     "output_type": "display_data"
    },
    {
     "data": {
      "text/html": [
       "\n",
       "                    <br/>Synced <strong style=\"color:#cdcd00\">still-sweep-11</strong>: <a href=\"https://wandb.ai/teamtom/churn-class-imbalance-with-treshold01/runs/4k4k1t3t\" target=\"_blank\">https://wandb.ai/teamtom/churn-class-imbalance-with-treshold01/runs/4k4k1t3t</a><br/>\n",
       "                "
      ],
      "text/plain": [
       "<IPython.core.display.HTML object>"
      ]
     },
     "metadata": {},
     "output_type": "display_data"
    },
    {
     "name": "stderr",
     "output_type": "stream",
     "text": [
      "wandb: Agent Starting Run: ouoi2edy with config:\n",
      "wandb: \tbatch_size: 32\n",
      "wandb: \tepochs: 100\n",
      "wandb: \tlearning_rate: 0.01\n",
      "wandb: \tthreshold: 0.37368421052631584\n",
      "wandb: wandb version 0.12.3 is available!  To upgrade, please run:\n",
      "wandb:  $ pip install wandb --upgrade\n"
     ]
    },
    {
     "data": {
      "text/html": [
       "\n",
       "                Tracking run with wandb version 0.10.31<br/>\n",
       "                Syncing run <strong style=\"color:#cdcd00\">misty-sweep-12</strong> to <a href=\"https://wandb.ai\" target=\"_blank\">Weights & Biases</a> <a href=\"https://docs.wandb.com/integrations/jupyter.html\" target=\"_blank\">(Documentation)</a>.<br/>\n",
       "                Project page: <a href=\"https://wandb.ai/teamtom/churn-class-imbalance-with-treshold01\" target=\"_blank\">https://wandb.ai/teamtom/churn-class-imbalance-with-treshold01</a><br/>\n",
       "                Sweep page: <a href=\"https://wandb.ai/teamtom/churn-class-imbalance-with-treshold01/sweeps/d22sfkpk\" target=\"_blank\">https://wandb.ai/teamtom/churn-class-imbalance-with-treshold01/sweeps/d22sfkpk</a><br/>\n",
       "Run page: <a href=\"https://wandb.ai/teamtom/churn-class-imbalance-with-treshold01/runs/ouoi2edy\" target=\"_blank\">https://wandb.ai/teamtom/churn-class-imbalance-with-treshold01/runs/ouoi2edy</a><br/>\n",
       "                Run data is saved locally in <code>c:\\python\\anaconda_base\\pytorch-tutorial\\wandb\\run-20211003_215536-ouoi2edy</code><br/><br/>\n",
       "            "
      ],
      "text/plain": [
       "<IPython.core.display.HTML object>"
      ]
     },
     "metadata": {},
     "output_type": "display_data"
    },
    {
     "name": "stdout",
     "output_type": "stream",
     "text": [
      "dataset size: 10000\n",
      "dataset samples shape: torch.Size([10000, 9])\n",
      "dataset classes shape: torch.Size([10000, 1])\n",
      "| Epoch: 0010 | Train Loss: 0.439 | Train Acc: 80.23% | Val. Loss: 0.421 | Val. Acc: 82.44% |\n",
      "| Epoch: 0020 | Train Loss: 0.439 | Train Acc: 79.93% | Val. Loss: 0.426 | Val. Acc: 79.96% |\n",
      "| Epoch: 0030 | Train Loss: 0.439 | Train Acc: 79.88% | Val. Loss: 0.423 | Val. Acc: 79.96% |\n",
      "| Epoch: 0040 | Train Loss: 0.438 | Train Acc: 79.63% | Val. Loss: 0.419 | Val. Acc: 80.71% |\n",
      "| Epoch: 0050 | Train Loss: 0.439 | Train Acc: 79.81% | Val. Loss: 0.417 | Val. Acc: 80.50% |\n",
      "| Epoch: 0060 | Train Loss: 0.438 | Train Acc: 79.77% | Val. Loss: 0.426 | Val. Acc: 79.74% |\n",
      "| Epoch: 0070 | Train Loss: 0.440 | Train Acc: 79.74% | Val. Loss: 0.416 | Val. Acc: 80.06% |\n",
      "| Epoch: 0080 | Train Loss: 0.439 | Train Acc: 80.01% | Val. Loss: 0.416 | Val. Acc: 79.85% |\n",
      "| Epoch: 0090 | Train Loss: 0.439 | Train Acc: 79.87% | Val. Loss: 0.433 | Val. Acc: 79.09% |\n",
      "| Epoch: 0100 | Train Loss: 0.441 | Train Acc: 79.98% | Val. Loss: 0.431 | Val. Acc: 78.56% |\n"
     ]
    },
    {
     "data": {
      "text/html": [
       "<br/>Waiting for W&B process to finish, PID 21536<br/>Program ended successfully."
      ],
      "text/plain": [
       "<IPython.core.display.HTML object>"
      ]
     },
     "metadata": {},
     "output_type": "display_data"
    },
    {
     "data": {
      "application/vnd.jupyter.widget-view+json": {
       "model_id": "70de8545cce044888f06ce99f34b3a45",
       "version_major": 2,
       "version_minor": 0
      },
      "text/plain": [
       "VBox(children=(Label(value=' 0.00MB of 0.00MB uploaded (0.00MB deduped)\\r'), FloatProgress(value=1.0, max=1.0)…"
      ]
     },
     "metadata": {},
     "output_type": "display_data"
    },
    {
     "data": {
      "text/html": [
       "Find user logs for this run at: <code>c:\\python\\anaconda_base\\pytorch-tutorial\\wandb\\run-20211003_215536-ouoi2edy\\logs\\debug.log</code>"
      ],
      "text/plain": [
       "<IPython.core.display.HTML object>"
      ]
     },
     "metadata": {},
     "output_type": "display_data"
    },
    {
     "data": {
      "text/html": [
       "Find internal logs for this run at: <code>c:\\python\\anaconda_base\\pytorch-tutorial\\wandb\\run-20211003_215536-ouoi2edy\\logs\\debug-internal.log</code>"
      ],
      "text/plain": [
       "<IPython.core.display.HTML object>"
      ]
     },
     "metadata": {},
     "output_type": "display_data"
    },
    {
     "data": {
      "text/html": [
       "<h3>Run summary:</h3><br/><style>\n",
       "    table.wandb td:nth-child(1) { padding: 0 10px; text-align: right }\n",
       "    </style><table class=\"wandb\">\n",
       "<tr><td>train_loss</td><td>0.44112</td></tr><tr><td>train_acc</td><td>0.79983</td></tr><tr><td>valid_loss</td><td>0.43062</td></tr><tr><td>valid_acc</td><td>0.78556</td></tr><tr><td>lr</td><td>0.01</td></tr><tr><td>epoch_time</td><td>0.21722</td></tr><tr><td>_runtime</td><td>29</td></tr><tr><td>_timestamp</td><td>1633290965</td></tr><tr><td>_step</td><td>99</td></tr><tr><td>accuracy</td><td>0.809</td></tr><tr><td>prec</td><td>0.53714</td></tr><tr><td>recall</td><td>0.46078</td></tr><tr><td>f1</td><td>0.49604</td></tr></table>"
      ],
      "text/plain": [
       "<IPython.core.display.HTML object>"
      ]
     },
     "metadata": {},
     "output_type": "display_data"
    },
    {
     "data": {
      "text/html": [
       "<h3>Run history:</h3><br/><style>\n",
       "    table.wandb td:nth-child(1) { padding: 0 10px; text-align: right }\n",
       "    </style><table class=\"wandb\">\n",
       "<tr><td>train_loss</td><td>█▃▂▁▁▁▁▁▁▁▁▁▁▁▁▁▁▁▁▁▁▁▁▁▁▁▂▁▁▁▁▁▁▁▁▁▁▁▁▁</td></tr><tr><td>train_acc</td><td>▁▆▇█▇▇▇▇▇▇▇█▆▇▆▇▇▇▇▇▇▇▇▇▆▇▆▇█▇▇▆▇▆▇▇▇▆▇▇</td></tr><tr><td>valid_loss</td><td>█▆▅▄▃▃▅▃▄▁▂▃▁▁▂▃▄▂▂▃▂▁▃▃▃▂▃▂▁▁▃▂▂▃▃▄▄▂▁▃</td></tr><tr><td>valid_acc</td><td>▅▃▃█▃▆▅▁▃▆▅▃▄▅▆▁▄▅▅▃▄▆▁▄▅▅▃▄▄█▁▃▁▅▄▅▄▄▅▂</td></tr><tr><td>lr</td><td>▁▁▁▁▁▁▁▁▁▁▁▁▁▁▁▁▁▁▁▁▁▁▁▁▁▁▁▁▁▁▁▁▁▁▁▁▁▁▁▁</td></tr><tr><td>epoch_time</td><td>▅▇▅▇▆▅▇▇▆▆▆▆██▇▅▄▂▁▇▆▆██▇▇▆▄▅▂▂▃▂▂▃▁▃▃▆▃</td></tr><tr><td>_runtime</td><td>▁▁▂▂▂▂▂▂▃▃▃▃▃▄▄▄▄▄▄▅▅▅▅▅▅▆▆▆▆▆▇▇▇▇▇▇▇▇██</td></tr><tr><td>_timestamp</td><td>▁▁▂▂▂▂▂▂▃▃▃▃▃▄▄▄▄▄▄▅▅▅▅▅▅▆▆▆▆▆▇▇▇▇▇▇▇▇██</td></tr><tr><td>_step</td><td>▁▁▁▁▂▂▂▂▂▃▃▃▃▃▃▄▄▄▄▄▅▅▅▅▅▅▆▆▆▆▆▇▇▇▇▇▇███</td></tr></table><br/>"
      ],
      "text/plain": [
       "<IPython.core.display.HTML object>"
      ]
     },
     "metadata": {},
     "output_type": "display_data"
    },
    {
     "data": {
      "text/html": [
       "Synced 5 W&B file(s), 0 media file(s), 0 artifact file(s) and 0 other file(s)"
      ],
      "text/plain": [
       "<IPython.core.display.HTML object>"
      ]
     },
     "metadata": {},
     "output_type": "display_data"
    },
    {
     "data": {
      "text/html": [
       "\n",
       "                    <br/>Synced <strong style=\"color:#cdcd00\">misty-sweep-12</strong>: <a href=\"https://wandb.ai/teamtom/churn-class-imbalance-with-treshold01/runs/ouoi2edy\" target=\"_blank\">https://wandb.ai/teamtom/churn-class-imbalance-with-treshold01/runs/ouoi2edy</a><br/>\n",
       "                "
      ],
      "text/plain": [
       "<IPython.core.display.HTML object>"
      ]
     },
     "metadata": {},
     "output_type": "display_data"
    },
    {
     "name": "stderr",
     "output_type": "stream",
     "text": [
      "wandb: Agent Starting Run: 046jge38 with config:\n",
      "wandb: \tbatch_size: 32\n",
      "wandb: \tepochs: 100\n",
      "wandb: \tlearning_rate: 0.01\n",
      "wandb: \tthreshold: 0.3894736842105263\n",
      "wandb: wandb version 0.12.3 is available!  To upgrade, please run:\n",
      "wandb:  $ pip install wandb --upgrade\n"
     ]
    },
    {
     "data": {
      "text/html": [
       "\n",
       "                Tracking run with wandb version 0.10.31<br/>\n",
       "                Syncing run <strong style=\"color:#cdcd00\">dark-sweep-13</strong> to <a href=\"https://wandb.ai\" target=\"_blank\">Weights & Biases</a> <a href=\"https://docs.wandb.com/integrations/jupyter.html\" target=\"_blank\">(Documentation)</a>.<br/>\n",
       "                Project page: <a href=\"https://wandb.ai/teamtom/churn-class-imbalance-with-treshold01\" target=\"_blank\">https://wandb.ai/teamtom/churn-class-imbalance-with-treshold01</a><br/>\n",
       "                Sweep page: <a href=\"https://wandb.ai/teamtom/churn-class-imbalance-with-treshold01/sweeps/d22sfkpk\" target=\"_blank\">https://wandb.ai/teamtom/churn-class-imbalance-with-treshold01/sweeps/d22sfkpk</a><br/>\n",
       "Run page: <a href=\"https://wandb.ai/teamtom/churn-class-imbalance-with-treshold01/runs/046jge38\" target=\"_blank\">https://wandb.ai/teamtom/churn-class-imbalance-with-treshold01/runs/046jge38</a><br/>\n",
       "                Run data is saved locally in <code>c:\\python\\anaconda_base\\pytorch-tutorial\\wandb\\run-20211003_215610-046jge38</code><br/><br/>\n",
       "            "
      ],
      "text/plain": [
       "<IPython.core.display.HTML object>"
      ]
     },
     "metadata": {},
     "output_type": "display_data"
    },
    {
     "name": "stdout",
     "output_type": "stream",
     "text": [
      "dataset size: 10000\n",
      "dataset samples shape: torch.Size([10000, 9])\n",
      "dataset classes shape: torch.Size([10000, 1])\n",
      "| Epoch: 0010 | Train Loss: 0.440 | Train Acc: 80.61% | Val. Loss: 0.436 | Val. Acc: 78.12% |\n",
      "| Epoch: 0020 | Train Loss: 0.438 | Train Acc: 80.25% | Val. Loss: 0.420 | Val. Acc: 82.33% |\n",
      "| Epoch: 0030 | Train Loss: 0.441 | Train Acc: 80.17% | Val. Loss: 0.420 | Val. Acc: 80.39% |\n",
      "| Epoch: 0040 | Train Loss: 0.438 | Train Acc: 80.13% | Val. Loss: 0.433 | Val. Acc: 78.02% |\n",
      "| Epoch: 0050 | Train Loss: 0.438 | Train Acc: 80.44% | Val. Loss: 0.419 | Val. Acc: 79.96% |\n",
      "| Epoch: 0060 | Train Loss: 0.440 | Train Acc: 80.06% | Val. Loss: 0.431 | Val. Acc: 80.60% |\n",
      "| Epoch: 0070 | Train Loss: 0.438 | Train Acc: 80.35% | Val. Loss: 0.423 | Val. Acc: 81.68% |\n",
      "| Epoch: 0080 | Train Loss: 0.440 | Train Acc: 80.17% | Val. Loss: 0.423 | Val. Acc: 79.96% |\n",
      "| Epoch: 0090 | Train Loss: 0.438 | Train Acc: 80.30% | Val. Loss: 0.429 | Val. Acc: 79.85% |\n",
      "| Epoch: 0100 | Train Loss: 0.440 | Train Acc: 80.08% | Val. Loss: 0.427 | Val. Acc: 80.60% |\n"
     ]
    },
    {
     "data": {
      "text/html": [
       "<br/>Waiting for W&B process to finish, PID 25864<br/>Program ended successfully."
      ],
      "text/plain": [
       "<IPython.core.display.HTML object>"
      ]
     },
     "metadata": {},
     "output_type": "display_data"
    },
    {
     "data": {
      "application/vnd.jupyter.widget-view+json": {
       "model_id": "4020108725454270ac7aef74aaa98f09",
       "version_major": 2,
       "version_minor": 0
      },
      "text/plain": [
       "VBox(children=(Label(value=' 0.00MB of 0.00MB uploaded (0.00MB deduped)\\r'), FloatProgress(value=1.0, max=1.0)…"
      ]
     },
     "metadata": {},
     "output_type": "display_data"
    },
    {
     "data": {
      "text/html": [
       "Find user logs for this run at: <code>c:\\python\\anaconda_base\\pytorch-tutorial\\wandb\\run-20211003_215610-046jge38\\logs\\debug.log</code>"
      ],
      "text/plain": [
       "<IPython.core.display.HTML object>"
      ]
     },
     "metadata": {},
     "output_type": "display_data"
    },
    {
     "data": {
      "text/html": [
       "Find internal logs for this run at: <code>c:\\python\\anaconda_base\\pytorch-tutorial\\wandb\\run-20211003_215610-046jge38\\logs\\debug-internal.log</code>"
      ],
      "text/plain": [
       "<IPython.core.display.HTML object>"
      ]
     },
     "metadata": {},
     "output_type": "display_data"
    },
    {
     "data": {
      "text/html": [
       "<h3>Run summary:</h3><br/><style>\n",
       "    table.wandb td:nth-child(1) { padding: 0 10px; text-align: right }\n",
       "    </style><table class=\"wandb\">\n",
       "<tr><td>train_loss</td><td>0.43999</td></tr><tr><td>train_acc</td><td>0.80081</td></tr><tr><td>valid_loss</td><td>0.42725</td></tr><tr><td>valid_acc</td><td>0.80603</td></tr><tr><td>lr</td><td>0.01</td></tr><tr><td>epoch_time</td><td>0.20027</td></tr><tr><td>_runtime</td><td>29</td></tr><tr><td>_timestamp</td><td>1633290999</td></tr><tr><td>_step</td><td>99</td></tr><tr><td>accuracy</td><td>0.822</td></tr><tr><td>prec</td><td>0.62745</td></tr><tr><td>recall</td><td>0.31373</td></tr><tr><td>f1</td><td>0.4183</td></tr></table>"
      ],
      "text/plain": [
       "<IPython.core.display.HTML object>"
      ]
     },
     "metadata": {},
     "output_type": "display_data"
    },
    {
     "data": {
      "text/html": [
       "<h3>Run history:</h3><br/><style>\n",
       "    table.wandb td:nth-child(1) { padding: 0 10px; text-align: right }\n",
       "    </style><table class=\"wandb\">\n",
       "<tr><td>train_loss</td><td>█▃▂▁▁▁▁▁▁▁▁▁▁▁▁▁▁▁▁▁▁▁▁▁▁▁▁▁▁▁▁▁▁▁▁▁▁▁▁▁</td></tr><tr><td>train_acc</td><td>▁██████████████████████████████▇████████</td></tr><tr><td>valid_loss</td><td>█▅▂▃▁▃▁▄▃▁▃▁▁▄▁▂▁▂▃▃▁▃▁▂▂▁▃▃▁▄▂▂▂▂▂▂▃▂▄▂</td></tr><tr><td>valid_acc</td><td>▅▅▇▇█▄▅▄▃▆▃▆▇▄▆▄▅▅▁▂▅▅▇▃▅▆▃▅▆▂▃▇▃▆█▄▄▅▅▅</td></tr><tr><td>lr</td><td>▁▁▁▁▁▁▁▁▁▁▁▁▁▁▁▁▁▁▁▁▁▁▁▁▁▁▁▁▁▁▁▁▁▁▁▁▁▁▁▁</td></tr><tr><td>epoch_time</td><td>▆▆▅▆▇▇▄▅▆▄▇▇▆▆██▇▅▆▆▇▅▅▅▅▇▁▁▂▂▂▂▃▁▂▇▃▁▂▂</td></tr><tr><td>_runtime</td><td>▁▁▁▂▂▂▂▂▃▃▃▃▃▃▄▄▄▅▅▅▅▅▅▆▆▆▆▆▆▇▇▇▇▇▇▇▇███</td></tr><tr><td>_timestamp</td><td>▁▁▁▂▂▂▂▂▃▃▃▃▃▃▄▄▄▅▅▅▅▅▅▆▆▆▆▆▆▇▇▇▇▇▇▇▇███</td></tr><tr><td>_step</td><td>▁▁▁▁▂▂▂▂▂▃▃▃▃▃▃▄▄▄▄▄▅▅▅▅▅▅▆▆▆▆▆▇▇▇▇▇▇███</td></tr></table><br/>"
      ],
      "text/plain": [
       "<IPython.core.display.HTML object>"
      ]
     },
     "metadata": {},
     "output_type": "display_data"
    },
    {
     "data": {
      "text/html": [
       "Synced 5 W&B file(s), 0 media file(s), 0 artifact file(s) and 0 other file(s)"
      ],
      "text/plain": [
       "<IPython.core.display.HTML object>"
      ]
     },
     "metadata": {},
     "output_type": "display_data"
    },
    {
     "data": {
      "text/html": [
       "\n",
       "                    <br/>Synced <strong style=\"color:#cdcd00\">dark-sweep-13</strong>: <a href=\"https://wandb.ai/teamtom/churn-class-imbalance-with-treshold01/runs/046jge38\" target=\"_blank\">https://wandb.ai/teamtom/churn-class-imbalance-with-treshold01/runs/046jge38</a><br/>\n",
       "                "
      ],
      "text/plain": [
       "<IPython.core.display.HTML object>"
      ]
     },
     "metadata": {},
     "output_type": "display_data"
    },
    {
     "name": "stderr",
     "output_type": "stream",
     "text": [
      "wandb: Agent Starting Run: q1m4os1l with config:\n",
      "wandb: \tbatch_size: 32\n",
      "wandb: \tepochs: 100\n",
      "wandb: \tlearning_rate: 0.01\n",
      "wandb: \tthreshold: 0.4052631578947369\n",
      "wandb: wandb version 0.12.3 is available!  To upgrade, please run:\n",
      "wandb:  $ pip install wandb --upgrade\n"
     ]
    },
    {
     "data": {
      "text/html": [
       "\n",
       "                Tracking run with wandb version 0.10.31<br/>\n",
       "                Syncing run <strong style=\"color:#cdcd00\">smooth-sweep-14</strong> to <a href=\"https://wandb.ai\" target=\"_blank\">Weights & Biases</a> <a href=\"https://docs.wandb.com/integrations/jupyter.html\" target=\"_blank\">(Documentation)</a>.<br/>\n",
       "                Project page: <a href=\"https://wandb.ai/teamtom/churn-class-imbalance-with-treshold01\" target=\"_blank\">https://wandb.ai/teamtom/churn-class-imbalance-with-treshold01</a><br/>\n",
       "                Sweep page: <a href=\"https://wandb.ai/teamtom/churn-class-imbalance-with-treshold01/sweeps/d22sfkpk\" target=\"_blank\">https://wandb.ai/teamtom/churn-class-imbalance-with-treshold01/sweeps/d22sfkpk</a><br/>\n",
       "Run page: <a href=\"https://wandb.ai/teamtom/churn-class-imbalance-with-treshold01/runs/q1m4os1l\" target=\"_blank\">https://wandb.ai/teamtom/churn-class-imbalance-with-treshold01/runs/q1m4os1l</a><br/>\n",
       "                Run data is saved locally in <code>c:\\python\\anaconda_base\\pytorch-tutorial\\wandb\\run-20211003_215644-q1m4os1l</code><br/><br/>\n",
       "            "
      ],
      "text/plain": [
       "<IPython.core.display.HTML object>"
      ]
     },
     "metadata": {},
     "output_type": "display_data"
    },
    {
     "name": "stdout",
     "output_type": "stream",
     "text": [
      "dataset size: 10000\n",
      "dataset samples shape: torch.Size([10000, 9])\n",
      "dataset classes shape: torch.Size([10000, 1])\n",
      "| Epoch: 0010 | Train Loss: 0.439 | Train Acc: 80.50% | Val. Loss: 0.421 | Val. Acc: 82.54% |\n",
      "| Epoch: 0020 | Train Loss: 0.438 | Train Acc: 80.57% | Val. Loss: 0.430 | Val. Acc: 81.68% |\n",
      "| Epoch: 0030 | Train Loss: 0.441 | Train Acc: 80.11% | Val. Loss: 0.417 | Val. Acc: 81.68% |\n",
      "| Epoch: 0040 | Train Loss: 0.439 | Train Acc: 80.44% | Val. Loss: 0.420 | Val. Acc: 80.93% |\n",
      "| Epoch: 0050 | Train Loss: 0.438 | Train Acc: 80.57% | Val. Loss: 0.418 | Val. Acc: 81.79% |\n",
      "| Epoch: 0060 | Train Loss: 0.440 | Train Acc: 80.35% | Val. Loss: 0.418 | Val. Acc: 81.03% |\n",
      "| Epoch: 0070 | Train Loss: 0.442 | Train Acc: 80.22% | Val. Loss: 0.423 | Val. Acc: 81.25% |\n",
      "| Epoch: 0080 | Train Loss: 0.439 | Train Acc: 80.49% | Val. Loss: 0.423 | Val. Acc: 82.00% |\n",
      "| Epoch: 0090 | Train Loss: 0.441 | Train Acc: 80.46% | Val. Loss: 0.425 | Val. Acc: 79.96% |\n",
      "| Epoch: 0100 | Train Loss: 0.439 | Train Acc: 80.51% | Val. Loss: 0.431 | Val. Acc: 79.63% |\n"
     ]
    },
    {
     "data": {
      "text/html": [
       "<br/>Waiting for W&B process to finish, PID 26224<br/>Program ended successfully."
      ],
      "text/plain": [
       "<IPython.core.display.HTML object>"
      ]
     },
     "metadata": {},
     "output_type": "display_data"
    },
    {
     "data": {
      "application/vnd.jupyter.widget-view+json": {
       "model_id": "154aeb32b176490080210de21ada6aea",
       "version_major": 2,
       "version_minor": 0
      },
      "text/plain": [
       "VBox(children=(Label(value=' 0.00MB of 0.00MB uploaded (0.00MB deduped)\\r'), FloatProgress(value=1.0, max=1.0)…"
      ]
     },
     "metadata": {},
     "output_type": "display_data"
    },
    {
     "data": {
      "text/html": [
       "Find user logs for this run at: <code>c:\\python\\anaconda_base\\pytorch-tutorial\\wandb\\run-20211003_215644-q1m4os1l\\logs\\debug.log</code>"
      ],
      "text/plain": [
       "<IPython.core.display.HTML object>"
      ]
     },
     "metadata": {},
     "output_type": "display_data"
    },
    {
     "data": {
      "text/html": [
       "Find internal logs for this run at: <code>c:\\python\\anaconda_base\\pytorch-tutorial\\wandb\\run-20211003_215644-q1m4os1l\\logs\\debug-internal.log</code>"
      ],
      "text/plain": [
       "<IPython.core.display.HTML object>"
      ]
     },
     "metadata": {},
     "output_type": "display_data"
    },
    {
     "data": {
      "text/html": [
       "<h3>Run summary:</h3><br/><style>\n",
       "    table.wandb td:nth-child(1) { padding: 0 10px; text-align: right }\n",
       "    </style><table class=\"wandb\">\n",
       "<tr><td>train_loss</td><td>0.43938</td></tr><tr><td>train_acc</td><td>0.80512</td></tr><tr><td>valid_loss</td><td>0.43064</td></tr><tr><td>valid_acc</td><td>0.79634</td></tr><tr><td>lr</td><td>0.01</td></tr><tr><td>epoch_time</td><td>0.20212</td></tr><tr><td>_runtime</td><td>28</td></tr><tr><td>_timestamp</td><td>1633291033</td></tr><tr><td>_step</td><td>99</td></tr><tr><td>accuracy</td><td>0.821</td></tr><tr><td>prec</td><td>0.6</td></tr><tr><td>recall</td><td>0.36765</td></tr><tr><td>f1</td><td>0.45593</td></tr></table>"
      ],
      "text/plain": [
       "<IPython.core.display.HTML object>"
      ]
     },
     "metadata": {},
     "output_type": "display_data"
    },
    {
     "data": {
      "text/html": [
       "<h3>Run history:</h3><br/><style>\n",
       "    table.wandb td:nth-child(1) { padding: 0 10px; text-align: right }\n",
       "    </style><table class=\"wandb\">\n",
       "<tr><td>train_loss</td><td>█▃▂▁▁▁▁▁▁▁▁▁▁▁▁▁▁▁▁▁▁▁▁▁▁▁▁▁▁▁▁▁▁▁▁▁▁▁▁▁</td></tr><tr><td>train_acc</td><td>▁████▇██▇█▇█▇█▇███▇████▇███████▇███▇████</td></tr><tr><td>valid_loss</td><td>█▅▂▃▁▆▂▁▂▄▂▂▃▁▄▂▃▂▁▂▂▂▂▂▁▂▂▂▁▂▂▁▂▂▂▂▁▄▂▃</td></tr><tr><td>valid_acc</td><td>▁▅▇▇█▄▄▆▄▃▄▅▁▅▄▅▄▅▆▄▅▅▃▆▅▄▅▆▅▃▅▅▅▄▃▆▄▁▅▃</td></tr><tr><td>lr</td><td>▁▁▁▁▁▁▁▁▁▁▁▁▁▁▁▁▁▁▁▁▁▁▁▁▁▁▁▁▁▁▁▁▁▁▁▁▁▁▁▁</td></tr><tr><td>epoch_time</td><td>▂▄▅▆▆▆▆▇▅▆▆▆▇▅▇█▆█▇▅▆▆▅▇▇▇▇▁▂▃▄▃▂▂▂▂▂▂▁▂</td></tr><tr><td>_runtime</td><td>▁▁▁▁▂▂▂▂▂▃▃▃▃▃▄▄▄▄▅▅▅▅▅▆▆▆▆▆▆▇▇▇▇▇▇▇▇███</td></tr><tr><td>_timestamp</td><td>▁▁▁▁▂▂▂▂▂▃▃▃▃▃▄▄▄▄▅▅▅▅▅▆▆▆▆▆▆▇▇▇▇▇▇▇▇███</td></tr><tr><td>_step</td><td>▁▁▁▁▂▂▂▂▂▃▃▃▃▃▃▄▄▄▄▄▅▅▅▅▅▅▆▆▆▆▆▇▇▇▇▇▇███</td></tr></table><br/>"
      ],
      "text/plain": [
       "<IPython.core.display.HTML object>"
      ]
     },
     "metadata": {},
     "output_type": "display_data"
    },
    {
     "data": {
      "text/html": [
       "Synced 5 W&B file(s), 0 media file(s), 0 artifact file(s) and 0 other file(s)"
      ],
      "text/plain": [
       "<IPython.core.display.HTML object>"
      ]
     },
     "metadata": {},
     "output_type": "display_data"
    },
    {
     "data": {
      "text/html": [
       "\n",
       "                    <br/>Synced <strong style=\"color:#cdcd00\">smooth-sweep-14</strong>: <a href=\"https://wandb.ai/teamtom/churn-class-imbalance-with-treshold01/runs/q1m4os1l\" target=\"_blank\">https://wandb.ai/teamtom/churn-class-imbalance-with-treshold01/runs/q1m4os1l</a><br/>\n",
       "                "
      ],
      "text/plain": [
       "<IPython.core.display.HTML object>"
      ]
     },
     "metadata": {},
     "output_type": "display_data"
    },
    {
     "name": "stderr",
     "output_type": "stream",
     "text": [
      "wandb: Agent Starting Run: zk6ao0ip with config:\n",
      "wandb: \tbatch_size: 32\n",
      "wandb: \tepochs: 100\n",
      "wandb: \tlearning_rate: 0.01\n",
      "wandb: \tthreshold: 0.4210526315789474\n",
      "wandb: wandb version 0.12.3 is available!  To upgrade, please run:\n",
      "wandb:  $ pip install wandb --upgrade\n"
     ]
    },
    {
     "data": {
      "text/html": [
       "\n",
       "                Tracking run with wandb version 0.10.31<br/>\n",
       "                Syncing run <strong style=\"color:#cdcd00\">mild-sweep-15</strong> to <a href=\"https://wandb.ai\" target=\"_blank\">Weights & Biases</a> <a href=\"https://docs.wandb.com/integrations/jupyter.html\" target=\"_blank\">(Documentation)</a>.<br/>\n",
       "                Project page: <a href=\"https://wandb.ai/teamtom/churn-class-imbalance-with-treshold01\" target=\"_blank\">https://wandb.ai/teamtom/churn-class-imbalance-with-treshold01</a><br/>\n",
       "                Sweep page: <a href=\"https://wandb.ai/teamtom/churn-class-imbalance-with-treshold01/sweeps/d22sfkpk\" target=\"_blank\">https://wandb.ai/teamtom/churn-class-imbalance-with-treshold01/sweeps/d22sfkpk</a><br/>\n",
       "Run page: <a href=\"https://wandb.ai/teamtom/churn-class-imbalance-with-treshold01/runs/zk6ao0ip\" target=\"_blank\">https://wandb.ai/teamtom/churn-class-imbalance-with-treshold01/runs/zk6ao0ip</a><br/>\n",
       "                Run data is saved locally in <code>c:\\python\\anaconda_base\\pytorch-tutorial\\wandb\\run-20211003_215717-zk6ao0ip</code><br/><br/>\n",
       "            "
      ],
      "text/plain": [
       "<IPython.core.display.HTML object>"
      ]
     },
     "metadata": {},
     "output_type": "display_data"
    },
    {
     "name": "stdout",
     "output_type": "stream",
     "text": [
      "dataset size: 10000\n",
      "dataset samples shape: torch.Size([10000, 9])\n",
      "dataset classes shape: torch.Size([10000, 1])\n",
      "| Epoch: 0010 | Train Loss: 0.440 | Train Acc: 80.51% | Val. Loss: 0.449 | Val. Acc: 81.36% |\n",
      "| Epoch: 0020 | Train Loss: 0.438 | Train Acc: 80.54% | Val. Loss: 0.430 | Val. Acc: 81.25% |\n",
      "| Epoch: 0030 | Train Loss: 0.439 | Train Acc: 80.55% | Val. Loss: 0.432 | Val. Acc: 79.85% |\n",
      "| Epoch: 0040 | Train Loss: 0.440 | Train Acc: 80.40% | Val. Loss: 0.420 | Val. Acc: 81.03% |\n",
      "| Epoch: 0050 | Train Loss: 0.441 | Train Acc: 80.57% | Val. Loss: 0.431 | Val. Acc: 79.85% |\n",
      "| Epoch: 0060 | Train Loss: 0.438 | Train Acc: 80.60% | Val. Loss: 0.435 | Val. Acc: 80.39% |\n",
      "| Epoch: 0070 | Train Loss: 0.440 | Train Acc: 80.25% | Val. Loss: 0.424 | Val. Acc: 80.60% |\n",
      "| Epoch: 0080 | Train Loss: 0.439 | Train Acc: 80.31% | Val. Loss: 0.419 | Val. Acc: 82.11% |\n",
      "| Epoch: 0090 | Train Loss: 0.442 | Train Acc: 80.50% | Val. Loss: 0.435 | Val. Acc: 79.53% |\n",
      "| Epoch: 0100 | Train Loss: 0.438 | Train Acc: 80.43% | Val. Loss: 0.427 | Val. Acc: 79.63% |\n"
     ]
    },
    {
     "data": {
      "text/html": [
       "<br/>Waiting for W&B process to finish, PID 16612<br/>Program ended successfully."
      ],
      "text/plain": [
       "<IPython.core.display.HTML object>"
      ]
     },
     "metadata": {},
     "output_type": "display_data"
    },
    {
     "data": {
      "application/vnd.jupyter.widget-view+json": {
       "model_id": "460609e4b4174f7087d487ad06553329",
       "version_major": 2,
       "version_minor": 0
      },
      "text/plain": [
       "VBox(children=(Label(value=' 0.00MB of 0.00MB uploaded (0.00MB deduped)\\r'), FloatProgress(value=1.0, max=1.0)…"
      ]
     },
     "metadata": {},
     "output_type": "display_data"
    },
    {
     "data": {
      "text/html": [
       "Find user logs for this run at: <code>c:\\python\\anaconda_base\\pytorch-tutorial\\wandb\\run-20211003_215717-zk6ao0ip\\logs\\debug.log</code>"
      ],
      "text/plain": [
       "<IPython.core.display.HTML object>"
      ]
     },
     "metadata": {},
     "output_type": "display_data"
    },
    {
     "data": {
      "text/html": [
       "Find internal logs for this run at: <code>c:\\python\\anaconda_base\\pytorch-tutorial\\wandb\\run-20211003_215717-zk6ao0ip\\logs\\debug-internal.log</code>"
      ],
      "text/plain": [
       "<IPython.core.display.HTML object>"
      ]
     },
     "metadata": {},
     "output_type": "display_data"
    },
    {
     "data": {
      "text/html": [
       "<h3>Run summary:</h3><br/><style>\n",
       "    table.wandb td:nth-child(1) { padding: 0 10px; text-align: right }\n",
       "    </style><table class=\"wandb\">\n",
       "<tr><td>train_loss</td><td>0.43822</td></tr><tr><td>train_acc</td><td>0.80426</td></tr><tr><td>valid_loss</td><td>0.42716</td></tr><tr><td>valid_acc</td><td>0.79634</td></tr><tr><td>lr</td><td>0.01</td></tr><tr><td>epoch_time</td><td>0.21524</td></tr><tr><td>_runtime</td><td>28</td></tr><tr><td>_timestamp</td><td>1633291066</td></tr><tr><td>_step</td><td>99</td></tr><tr><td>accuracy</td><td>0.82</td></tr><tr><td>prec</td><td>0.59836</td></tr><tr><td>recall</td><td>0.35784</td></tr><tr><td>f1</td><td>0.44785</td></tr></table>"
      ],
      "text/plain": [
       "<IPython.core.display.HTML object>"
      ]
     },
     "metadata": {},
     "output_type": "display_data"
    },
    {
     "data": {
      "text/html": [
       "<h3>Run history:</h3><br/><style>\n",
       "    table.wandb td:nth-child(1) { padding: 0 10px; text-align: right }\n",
       "    </style><table class=\"wandb\">\n",
       "<tr><td>train_loss</td><td>█▃▂▂▁▁▁▁▁▁▁▁▁▁▁▁▁▁▁▁▁▁▁▁▁▁▁▁▁▁▁▁▁▁▁▁▁▁▁▁</td></tr><tr><td>train_acc</td><td>▁████▇████▇██▇███▇████▇███▇███████▇██▇▇▇</td></tr><tr><td>valid_loss</td><td>█▄▃▃▁▃▁▂▃▁▄▃▁▃▁▄▃▂▃▃▃▁▂▄▁▂▃▃▁▄▁▁▁▃▂▆▂▃▁▂</td></tr><tr><td>valid_acc</td><td>▁▆▆█▇▅▇▇▆▅▂▃▆▂▇▅▄▅▄▃▅▅▆▄▇▇▅▃▆▃▆▇▇▃▅▃▅▃▅▃</td></tr><tr><td>lr</td><td>▁▁▁▁▁▁▁▁▁▁▁▁▁▁▁▁▁▁▁▁▁▁▁▁▁▁▁▁▁▁▁▁▁▁▁▁▁▁▁▁</td></tr><tr><td>epoch_time</td><td>▅▄▄▄▆█▅▄▄▄▃▄▅▅▅▅▆▄▄▃▃▄▅▄▅▄▅▃▂▁▂▂▁▂▁▁▂▂▁▂</td></tr><tr><td>_runtime</td><td>▁▁▁▂▂▂▂▂▃▃▃▃▃▄▄▄▄▅▅▅▅▅▅▆▆▆▆▆▇▇▇▇▇▇▇▇▇███</td></tr><tr><td>_timestamp</td><td>▁▁▁▂▂▂▂▂▃▃▃▃▃▄▄▄▄▅▅▅▅▅▅▆▆▆▆▆▇▇▇▇▇▇▇▇▇███</td></tr><tr><td>_step</td><td>▁▁▁▁▂▂▂▂▂▃▃▃▃▃▃▄▄▄▄▄▅▅▅▅▅▅▆▆▆▆▆▇▇▇▇▇▇███</td></tr></table><br/>"
      ],
      "text/plain": [
       "<IPython.core.display.HTML object>"
      ]
     },
     "metadata": {},
     "output_type": "display_data"
    },
    {
     "data": {
      "text/html": [
       "Synced 5 W&B file(s), 0 media file(s), 0 artifact file(s) and 0 other file(s)"
      ],
      "text/plain": [
       "<IPython.core.display.HTML object>"
      ]
     },
     "metadata": {},
     "output_type": "display_data"
    },
    {
     "data": {
      "text/html": [
       "\n",
       "                    <br/>Synced <strong style=\"color:#cdcd00\">mild-sweep-15</strong>: <a href=\"https://wandb.ai/teamtom/churn-class-imbalance-with-treshold01/runs/zk6ao0ip\" target=\"_blank\">https://wandb.ai/teamtom/churn-class-imbalance-with-treshold01/runs/zk6ao0ip</a><br/>\n",
       "                "
      ],
      "text/plain": [
       "<IPython.core.display.HTML object>"
      ]
     },
     "metadata": {},
     "output_type": "display_data"
    },
    {
     "name": "stderr",
     "output_type": "stream",
     "text": [
      "wandb: Agent Starting Run: uex6jhz6 with config:\n",
      "wandb: \tbatch_size: 32\n",
      "wandb: \tepochs: 100\n",
      "wandb: \tlearning_rate: 0.01\n",
      "wandb: \tthreshold: 0.4368421052631579\n",
      "wandb: wandb version 0.12.3 is available!  To upgrade, please run:\n",
      "wandb:  $ pip install wandb --upgrade\n"
     ]
    },
    {
     "data": {
      "text/html": [
       "\n",
       "                Tracking run with wandb version 0.10.31<br/>\n",
       "                Syncing run <strong style=\"color:#cdcd00\">ancient-sweep-16</strong> to <a href=\"https://wandb.ai\" target=\"_blank\">Weights & Biases</a> <a href=\"https://docs.wandb.com/integrations/jupyter.html\" target=\"_blank\">(Documentation)</a>.<br/>\n",
       "                Project page: <a href=\"https://wandb.ai/teamtom/churn-class-imbalance-with-treshold01\" target=\"_blank\">https://wandb.ai/teamtom/churn-class-imbalance-with-treshold01</a><br/>\n",
       "                Sweep page: <a href=\"https://wandb.ai/teamtom/churn-class-imbalance-with-treshold01/sweeps/d22sfkpk\" target=\"_blank\">https://wandb.ai/teamtom/churn-class-imbalance-with-treshold01/sweeps/d22sfkpk</a><br/>\n",
       "Run page: <a href=\"https://wandb.ai/teamtom/churn-class-imbalance-with-treshold01/runs/uex6jhz6\" target=\"_blank\">https://wandb.ai/teamtom/churn-class-imbalance-with-treshold01/runs/uex6jhz6</a><br/>\n",
       "                Run data is saved locally in <code>c:\\python\\anaconda_base\\pytorch-tutorial\\wandb\\run-20211003_215751-uex6jhz6</code><br/><br/>\n",
       "            "
      ],
      "text/plain": [
       "<IPython.core.display.HTML object>"
      ]
     },
     "metadata": {},
     "output_type": "display_data"
    },
    {
     "name": "stdout",
     "output_type": "stream",
     "text": [
      "dataset size: 10000\n",
      "dataset samples shape: torch.Size([10000, 9])\n",
      "dataset classes shape: torch.Size([10000, 1])\n",
      "| Epoch: 0010 | Train Loss: 0.439 | Train Acc: 80.94% | Val. Loss: 0.429 | Val. Acc: 82.76% |\n",
      "| Epoch: 0020 | Train Loss: 0.438 | Train Acc: 80.66% | Val. Loss: 0.436 | Val. Acc: 80.39% |\n",
      "| Epoch: 0030 | Train Loss: 0.442 | Train Acc: 80.40% | Val. Loss: 0.420 | Val. Acc: 82.00% |\n",
      "| Epoch: 0040 | Train Loss: 0.439 | Train Acc: 80.43% | Val. Loss: 0.435 | Val. Acc: 80.93% |\n",
      "| Epoch: 0050 | Train Loss: 0.440 | Train Acc: 80.65% | Val. Loss: 0.419 | Val. Acc: 82.11% |\n",
      "| Epoch: 0060 | Train Loss: 0.440 | Train Acc: 80.52% | Val. Loss: 0.421 | Val. Acc: 82.00% |\n",
      "| Epoch: 0070 | Train Loss: 0.440 | Train Acc: 80.59% | Val. Loss: 0.421 | Val. Acc: 81.90% |\n",
      "| Epoch: 0080 | Train Loss: 0.439 | Train Acc: 80.46% | Val. Loss: 0.420 | Val. Acc: 82.00% |\n",
      "| Epoch: 0090 | Train Loss: 0.441 | Train Acc: 80.59% | Val. Loss: 0.421 | Val. Acc: 81.47% |\n",
      "| Epoch: 0100 | Train Loss: 0.440 | Train Acc: 80.39% | Val. Loss: 0.419 | Val. Acc: 81.90% |\n"
     ]
    },
    {
     "data": {
      "text/html": [
       "<br/>Waiting for W&B process to finish, PID 25540<br/>Program ended successfully."
      ],
      "text/plain": [
       "<IPython.core.display.HTML object>"
      ]
     },
     "metadata": {},
     "output_type": "display_data"
    },
    {
     "data": {
      "application/vnd.jupyter.widget-view+json": {
       "model_id": "f02cd2d3e1b24481805e54bf545afdeb",
       "version_major": 2,
       "version_minor": 0
      },
      "text/plain": [
       "VBox(children=(Label(value=' 0.00MB of 0.00MB uploaded (0.00MB deduped)\\r'), FloatProgress(value=1.0, max=1.0)…"
      ]
     },
     "metadata": {},
     "output_type": "display_data"
    },
    {
     "data": {
      "text/html": [
       "Find user logs for this run at: <code>c:\\python\\anaconda_base\\pytorch-tutorial\\wandb\\run-20211003_215751-uex6jhz6\\logs\\debug.log</code>"
      ],
      "text/plain": [
       "<IPython.core.display.HTML object>"
      ]
     },
     "metadata": {},
     "output_type": "display_data"
    },
    {
     "data": {
      "text/html": [
       "Find internal logs for this run at: <code>c:\\python\\anaconda_base\\pytorch-tutorial\\wandb\\run-20211003_215751-uex6jhz6\\logs\\debug-internal.log</code>"
      ],
      "text/plain": [
       "<IPython.core.display.HTML object>"
      ]
     },
     "metadata": {},
     "output_type": "display_data"
    },
    {
     "data": {
      "text/html": [
       "<h3>Run summary:</h3><br/><style>\n",
       "    table.wandb td:nth-child(1) { padding: 0 10px; text-align: right }\n",
       "    </style><table class=\"wandb\">\n",
       "<tr><td>train_loss</td><td>0.44034</td></tr><tr><td>train_acc</td><td>0.80389</td></tr><tr><td>valid_loss</td><td>0.41895</td></tr><tr><td>valid_acc</td><td>0.81897</td></tr><tr><td>lr</td><td>0.01</td></tr><tr><td>epoch_time</td><td>0.21519</td></tr><tr><td>_runtime</td><td>29</td></tr><tr><td>_timestamp</td><td>1633291101</td></tr><tr><td>_step</td><td>99</td></tr><tr><td>accuracy</td><td>0.811</td></tr><tr><td>prec</td><td>0.61194</td></tr><tr><td>recall</td><td>0.20098</td></tr><tr><td>f1</td><td>0.30258</td></tr></table>"
      ],
      "text/plain": [
       "<IPython.core.display.HTML object>"
      ]
     },
     "metadata": {},
     "output_type": "display_data"
    },
    {
     "data": {
      "text/html": [
       "<h3>Run history:</h3><br/><style>\n",
       "    table.wandb td:nth-child(1) { padding: 0 10px; text-align: right }\n",
       "    </style><table class=\"wandb\">\n",
       "<tr><td>train_loss</td><td>█▃▂▁▁▁▁▁▁▁▁▁▁▁▁▁▁▁▁▁▁▂▁▁▁▁▁▁▁▁▁▁▁▁▁▁▁▁▁▁</td></tr><tr><td>train_acc</td><td>▁▇██▇▇█▇▇█▇███▇▇▇▇▇▇▇▇▇█▇▇▇█▇▇█▇█▇▇▇▇▇▇▇</td></tr><tr><td>valid_loss</td><td>█▆▄▅▂▂▂▄▂▁▄▂▄▁▄▂▃▂▂▂▁▃▁▁▄▃▃▂▅▂▂▅▁▃▂▄▅▂▃▂</td></tr><tr><td>valid_acc</td><td>▃▅▇▄█▆▇▄▇▇▂▆▅▆▄▆▄▆▇▆▇▆▆▇▅▅▅▇▁▅▆▄▇▅▆▅▃▆▁▆</td></tr><tr><td>lr</td><td>▁▁▁▁▁▁▁▁▁▁▁▁▁▁▁▁▁▁▁▁▁▁▁▁▁▁▁▁▁▁▁▁▁▁▁▁▁▁▁▁</td></tr><tr><td>epoch_time</td><td>▃▄▄▄▅▃▄▄▄▃▃▄▃▃▄▄▇▃▂▄▃▃█▄▃▃▃▁▂▁▁▃▁▂▂▂▁▂▁▂</td></tr><tr><td>_runtime</td><td>▁▁▂▂▂▂▂▂▃▃▃▃▃▄▄▄▄▅▅▅▅▅▅▆▆▆▆▆▆▇▇▇▇▇▇▇████</td></tr><tr><td>_timestamp</td><td>▁▁▂▂▂▂▂▂▃▃▃▃▃▄▄▄▄▅▅▅▅▅▅▆▆▆▆▆▆▇▇▇▇▇▇▇████</td></tr><tr><td>_step</td><td>▁▁▁▁▂▂▂▂▂▃▃▃▃▃▃▄▄▄▄▄▅▅▅▅▅▅▆▆▆▆▆▇▇▇▇▇▇███</td></tr></table><br/>"
      ],
      "text/plain": [
       "<IPython.core.display.HTML object>"
      ]
     },
     "metadata": {},
     "output_type": "display_data"
    },
    {
     "data": {
      "text/html": [
       "Synced 5 W&B file(s), 0 media file(s), 0 artifact file(s) and 0 other file(s)"
      ],
      "text/plain": [
       "<IPython.core.display.HTML object>"
      ]
     },
     "metadata": {},
     "output_type": "display_data"
    },
    {
     "data": {
      "text/html": [
       "\n",
       "                    <br/>Synced <strong style=\"color:#cdcd00\">ancient-sweep-16</strong>: <a href=\"https://wandb.ai/teamtom/churn-class-imbalance-with-treshold01/runs/uex6jhz6\" target=\"_blank\">https://wandb.ai/teamtom/churn-class-imbalance-with-treshold01/runs/uex6jhz6</a><br/>\n",
       "                "
      ],
      "text/plain": [
       "<IPython.core.display.HTML object>"
      ]
     },
     "metadata": {},
     "output_type": "display_data"
    },
    {
     "name": "stderr",
     "output_type": "stream",
     "text": [
      "wandb: Agent Starting Run: ubcikkrg with config:\n",
      "wandb: \tbatch_size: 32\n",
      "wandb: \tepochs: 100\n",
      "wandb: \tlearning_rate: 0.01\n",
      "wandb: \tthreshold: 0.4526315789473685\n",
      "wandb: wandb version 0.12.3 is available!  To upgrade, please run:\n",
      "wandb:  $ pip install wandb --upgrade\n"
     ]
    },
    {
     "data": {
      "text/html": [
       "\n",
       "                Tracking run with wandb version 0.10.31<br/>\n",
       "                Syncing run <strong style=\"color:#cdcd00\">flowing-sweep-17</strong> to <a href=\"https://wandb.ai\" target=\"_blank\">Weights & Biases</a> <a href=\"https://docs.wandb.com/integrations/jupyter.html\" target=\"_blank\">(Documentation)</a>.<br/>\n",
       "                Project page: <a href=\"https://wandb.ai/teamtom/churn-class-imbalance-with-treshold01\" target=\"_blank\">https://wandb.ai/teamtom/churn-class-imbalance-with-treshold01</a><br/>\n",
       "                Sweep page: <a href=\"https://wandb.ai/teamtom/churn-class-imbalance-with-treshold01/sweeps/d22sfkpk\" target=\"_blank\">https://wandb.ai/teamtom/churn-class-imbalance-with-treshold01/sweeps/d22sfkpk</a><br/>\n",
       "Run page: <a href=\"https://wandb.ai/teamtom/churn-class-imbalance-with-treshold01/runs/ubcikkrg\" target=\"_blank\">https://wandb.ai/teamtom/churn-class-imbalance-with-treshold01/runs/ubcikkrg</a><br/>\n",
       "                Run data is saved locally in <code>c:\\python\\anaconda_base\\pytorch-tutorial\\wandb\\run-20211003_215828-ubcikkrg</code><br/><br/>\n",
       "            "
      ],
      "text/plain": [
       "<IPython.core.display.HTML object>"
      ]
     },
     "metadata": {},
     "output_type": "display_data"
    },
    {
     "name": "stdout",
     "output_type": "stream",
     "text": [
      "dataset size: 10000\n",
      "dataset samples shape: torch.Size([10000, 9])\n",
      "dataset classes shape: torch.Size([10000, 1])\n",
      "| Epoch: 0010 | Train Loss: 0.441 | Train Acc: 80.72% | Val. Loss: 0.417 | Val. Acc: 82.65% |\n",
      "| Epoch: 0020 | Train Loss: 0.439 | Train Acc: 80.55% | Val. Loss: 0.421 | Val. Acc: 81.90% |\n",
      "| Epoch: 0030 | Train Loss: 0.438 | Train Acc: 80.43% | Val. Loss: 0.427 | Val. Acc: 81.03% |\n",
      "| Epoch: 0040 | Train Loss: 0.439 | Train Acc: 80.54% | Val. Loss: 0.434 | Val. Acc: 80.39% |\n",
      "| Epoch: 0050 | Train Loss: 0.439 | Train Acc: 80.57% | Val. Loss: 0.422 | Val. Acc: 82.00% |\n",
      "| Epoch: 0060 | Train Loss: 0.438 | Train Acc: 80.57% | Val. Loss: 0.422 | Val. Acc: 81.90% |\n",
      "| Epoch: 0070 | Train Loss: 0.439 | Train Acc: 80.52% | Val. Loss: 0.421 | Val. Acc: 81.03% |\n",
      "| Epoch: 0080 | Train Loss: 0.439 | Train Acc: 80.51% | Val. Loss: 0.428 | Val. Acc: 81.25% |\n",
      "| Epoch: 0090 | Train Loss: 0.438 | Train Acc: 80.70% | Val. Loss: 0.431 | Val. Acc: 81.36% |\n",
      "| Epoch: 0100 | Train Loss: 0.440 | Train Acc: 80.44% | Val. Loss: 0.418 | Val. Acc: 82.22% |\n"
     ]
    },
    {
     "data": {
      "text/html": [
       "<br/>Waiting for W&B process to finish, PID 21264<br/>Program ended successfully."
      ],
      "text/plain": [
       "<IPython.core.display.HTML object>"
      ]
     },
     "metadata": {},
     "output_type": "display_data"
    },
    {
     "data": {
      "application/vnd.jupyter.widget-view+json": {
       "model_id": "e33bc5c23d8e4593a3ef40047d5c3a56",
       "version_major": 2,
       "version_minor": 0
      },
      "text/plain": [
       "VBox(children=(Label(value=' 0.00MB of 0.00MB uploaded (0.00MB deduped)\\r'), FloatProgress(value=1.0, max=1.0)…"
      ]
     },
     "metadata": {},
     "output_type": "display_data"
    },
    {
     "data": {
      "text/html": [
       "Find user logs for this run at: <code>c:\\python\\anaconda_base\\pytorch-tutorial\\wandb\\run-20211003_215828-ubcikkrg\\logs\\debug.log</code>"
      ],
      "text/plain": [
       "<IPython.core.display.HTML object>"
      ]
     },
     "metadata": {},
     "output_type": "display_data"
    },
    {
     "data": {
      "text/html": [
       "Find internal logs for this run at: <code>c:\\python\\anaconda_base\\pytorch-tutorial\\wandb\\run-20211003_215828-ubcikkrg\\logs\\debug-internal.log</code>"
      ],
      "text/plain": [
       "<IPython.core.display.HTML object>"
      ]
     },
     "metadata": {},
     "output_type": "display_data"
    },
    {
     "data": {
      "text/html": [
       "<h3>Run summary:</h3><br/><style>\n",
       "    table.wandb td:nth-child(1) { padding: 0 10px; text-align: right }\n",
       "    </style><table class=\"wandb\">\n",
       "<tr><td>train_loss</td><td>0.43988</td></tr><tr><td>train_acc</td><td>0.80438</td></tr><tr><td>valid_loss</td><td>0.41805</td></tr><tr><td>valid_acc</td><td>0.8222</td></tr><tr><td>lr</td><td>0.01</td></tr><tr><td>epoch_time</td><td>0.21405</td></tr><tr><td>_runtime</td><td>30</td></tr><tr><td>_timestamp</td><td>1633291139</td></tr><tr><td>_step</td><td>99</td></tr><tr><td>accuracy</td><td>0.818</td></tr><tr><td>prec</td><td>0.6375</td></tr><tr><td>recall</td><td>0.25</td></tr><tr><td>f1</td><td>0.35915</td></tr></table>"
      ],
      "text/plain": [
       "<IPython.core.display.HTML object>"
      ]
     },
     "metadata": {},
     "output_type": "display_data"
    },
    {
     "data": {
      "text/html": [
       "<h3>Run history:</h3><br/><style>\n",
       "    table.wandb td:nth-child(1) { padding: 0 10px; text-align: right }\n",
       "    </style><table class=\"wandb\">\n",
       "<tr><td>train_loss</td><td>█▃▂▂▁▁▁▁▁▁▁▁▁▁▁▁▁▁▁▁▁▁▁▁▁▁▁▁▁▁▁▁▁▁▁▁▁▂▁▁</td></tr><tr><td>train_acc</td><td>▁█▇▇▇▆▆▇▇▅▇▆▇▅▅▆▆▅▅▅▅▆▆▆▅▆▅▆▆▅▅▇▆▆▆▆▅▅▆▅</td></tr><tr><td>valid_loss</td><td>█▄▄▄▂▃▃▄▄▂▅▂▂▁▇▁▃▄▂▂▁▁▃▃▄▂▄▂▄▄▂▂▁▄▃▁▃▃▁▁</td></tr><tr><td>valid_acc</td><td>▁▅▆▇█▆▅▆▄▇▃▆█▇▄▇▆▄▆▆▇█▆▅▄▇▅▆▆▄▅▇▇▅▆▇▅▄██</td></tr><tr><td>lr</td><td>▁▁▁▁▁▁▁▁▁▁▁▁▁▁▁▁▁▁▁▁▁▁▁▁▁▁▁▁▁▁▁▁▁▁▁▁▁▁▁▁</td></tr><tr><td>epoch_time</td><td>▄▄▆▅▆▅▃▄▅▄▄▅▅▅▅▇▇▅▅▆▆█▇▅▂▃▂▁▁▁▄▂▁▂▂▂▂▁▂▂</td></tr><tr><td>_runtime</td><td>▁▁▁▂▂▂▂▂▂▃▃▃▃▃▄▄▄▄▅▅▅▅▅▆▆▆▆▆▆▇▇▇▇▇▇▇████</td></tr><tr><td>_timestamp</td><td>▁▁▁▂▂▂▂▂▂▃▃▃▃▃▄▄▄▄▅▅▅▅▅▆▆▆▆▆▆▇▇▇▇▇▇▇████</td></tr><tr><td>_step</td><td>▁▁▁▁▂▂▂▂▂▃▃▃▃▃▃▄▄▄▄▄▅▅▅▅▅▅▆▆▆▆▆▇▇▇▇▇▇███</td></tr></table><br/>"
      ],
      "text/plain": [
       "<IPython.core.display.HTML object>"
      ]
     },
     "metadata": {},
     "output_type": "display_data"
    },
    {
     "data": {
      "text/html": [
       "Synced 5 W&B file(s), 0 media file(s), 0 artifact file(s) and 0 other file(s)"
      ],
      "text/plain": [
       "<IPython.core.display.HTML object>"
      ]
     },
     "metadata": {},
     "output_type": "display_data"
    },
    {
     "data": {
      "text/html": [
       "\n",
       "                    <br/>Synced <strong style=\"color:#cdcd00\">flowing-sweep-17</strong>: <a href=\"https://wandb.ai/teamtom/churn-class-imbalance-with-treshold01/runs/ubcikkrg\" target=\"_blank\">https://wandb.ai/teamtom/churn-class-imbalance-with-treshold01/runs/ubcikkrg</a><br/>\n",
       "                "
      ],
      "text/plain": [
       "<IPython.core.display.HTML object>"
      ]
     },
     "metadata": {},
     "output_type": "display_data"
    },
    {
     "name": "stderr",
     "output_type": "stream",
     "text": [
      "wandb: Agent Starting Run: wpiufdeh with config:\n",
      "wandb: \tbatch_size: 32\n",
      "wandb: \tepochs: 100\n",
      "wandb: \tlearning_rate: 0.01\n",
      "wandb: \tthreshold: 0.46842105263157896\n",
      "wandb: wandb version 0.12.3 is available!  To upgrade, please run:\n",
      "wandb:  $ pip install wandb --upgrade\n"
     ]
    },
    {
     "data": {
      "text/html": [
       "\n",
       "                Tracking run with wandb version 0.10.31<br/>\n",
       "                Syncing run <strong style=\"color:#cdcd00\">lemon-sweep-18</strong> to <a href=\"https://wandb.ai\" target=\"_blank\">Weights & Biases</a> <a href=\"https://docs.wandb.com/integrations/jupyter.html\" target=\"_blank\">(Documentation)</a>.<br/>\n",
       "                Project page: <a href=\"https://wandb.ai/teamtom/churn-class-imbalance-with-treshold01\" target=\"_blank\">https://wandb.ai/teamtom/churn-class-imbalance-with-treshold01</a><br/>\n",
       "                Sweep page: <a href=\"https://wandb.ai/teamtom/churn-class-imbalance-with-treshold01/sweeps/d22sfkpk\" target=\"_blank\">https://wandb.ai/teamtom/churn-class-imbalance-with-treshold01/sweeps/d22sfkpk</a><br/>\n",
       "Run page: <a href=\"https://wandb.ai/teamtom/churn-class-imbalance-with-treshold01/runs/wpiufdeh\" target=\"_blank\">https://wandb.ai/teamtom/churn-class-imbalance-with-treshold01/runs/wpiufdeh</a><br/>\n",
       "                Run data is saved locally in <code>c:\\python\\anaconda_base\\pytorch-tutorial\\wandb\\run-20211003_215906-wpiufdeh</code><br/><br/>\n",
       "            "
      ],
      "text/plain": [
       "<IPython.core.display.HTML object>"
      ]
     },
     "metadata": {},
     "output_type": "display_data"
    },
    {
     "name": "stdout",
     "output_type": "stream",
     "text": [
      "dataset size: 10000\n",
      "dataset samples shape: torch.Size([10000, 9])\n",
      "dataset classes shape: torch.Size([10000, 1])\n",
      "| Epoch: 0010 | Train Loss: 0.442 | Train Acc: 80.66% | Val. Loss: 0.426 | Val. Acc: 82.33% |\n",
      "| Epoch: 0020 | Train Loss: 0.440 | Train Acc: 80.46% | Val. Loss: 0.428 | Val. Acc: 82.00% |\n",
      "| Epoch: 0030 | Train Loss: 0.439 | Train Acc: 80.36% | Val. Loss: 0.420 | Val. Acc: 82.65% |\n",
      "| Epoch: 0040 | Train Loss: 0.439 | Train Acc: 80.84% | Val. Loss: 0.418 | Val. Acc: 82.00% |\n",
      "| Epoch: 0050 | Train Loss: 0.439 | Train Acc: 80.41% | Val. Loss: 0.424 | Val. Acc: 81.90% |\n",
      "| Epoch: 0060 | Train Loss: 0.438 | Train Acc: 80.67% | Val. Loss: 0.420 | Val. Acc: 82.65% |\n",
      "| Epoch: 0070 | Train Loss: 0.441 | Train Acc: 80.33% | Val. Loss: 0.426 | Val. Acc: 80.82% |\n",
      "| Epoch: 0080 | Train Loss: 0.439 | Train Acc: 80.50% | Val. Loss: 0.425 | Val. Acc: 81.36% |\n",
      "| Epoch: 0090 | Train Loss: 0.439 | Train Acc: 80.41% | Val. Loss: 0.428 | Val. Acc: 81.25% |\n",
      "| Epoch: 0100 | Train Loss: 0.442 | Train Acc: 80.38% | Val. Loss: 0.437 | Val. Acc: 80.71% |\n"
     ]
    },
    {
     "data": {
      "text/html": [
       "<br/>Waiting for W&B process to finish, PID 9676<br/>Program ended successfully."
      ],
      "text/plain": [
       "<IPython.core.display.HTML object>"
      ]
     },
     "metadata": {},
     "output_type": "display_data"
    },
    {
     "data": {
      "application/vnd.jupyter.widget-view+json": {
       "model_id": "f159a5d0ba6344778ba75e62691d21be",
       "version_major": 2,
       "version_minor": 0
      },
      "text/plain": [
       "VBox(children=(Label(value=' 0.00MB of 0.00MB uploaded (0.00MB deduped)\\r'), FloatProgress(value=1.0, max=1.0)…"
      ]
     },
     "metadata": {},
     "output_type": "display_data"
    },
    {
     "data": {
      "text/html": [
       "Find user logs for this run at: <code>c:\\python\\anaconda_base\\pytorch-tutorial\\wandb\\run-20211003_215906-wpiufdeh\\logs\\debug.log</code>"
      ],
      "text/plain": [
       "<IPython.core.display.HTML object>"
      ]
     },
     "metadata": {},
     "output_type": "display_data"
    },
    {
     "data": {
      "text/html": [
       "Find internal logs for this run at: <code>c:\\python\\anaconda_base\\pytorch-tutorial\\wandb\\run-20211003_215906-wpiufdeh\\logs\\debug-internal.log</code>"
      ],
      "text/plain": [
       "<IPython.core.display.HTML object>"
      ]
     },
     "metadata": {},
     "output_type": "display_data"
    },
    {
     "data": {
      "text/html": [
       "<h3>Run summary:</h3><br/><style>\n",
       "    table.wandb td:nth-child(1) { padding: 0 10px; text-align: right }\n",
       "    </style><table class=\"wandb\">\n",
       "<tr><td>train_loss</td><td>0.44175</td></tr><tr><td>train_acc</td><td>0.80376</td></tr><tr><td>valid_loss</td><td>0.43709</td></tr><tr><td>valid_acc</td><td>0.80711</td></tr><tr><td>lr</td><td>0.01</td></tr><tr><td>epoch_time</td><td>0.20302</td></tr><tr><td>_runtime</td><td>29</td></tr><tr><td>_timestamp</td><td>1633291176</td></tr><tr><td>_step</td><td>99</td></tr><tr><td>accuracy</td><td>0.815</td></tr><tr><td>prec</td><td>0.62025</td></tr><tr><td>recall</td><td>0.2402</td></tr><tr><td>f1</td><td>0.34629</td></tr></table>"
      ],
      "text/plain": [
       "<IPython.core.display.HTML object>"
      ]
     },
     "metadata": {},
     "output_type": "display_data"
    },
    {
     "data": {
      "text/html": [
       "<h3>Run history:</h3><br/><style>\n",
       "    table.wandb td:nth-child(1) { padding: 0 10px; text-align: right }\n",
       "    </style><table class=\"wandb\">\n",
       "<tr><td>train_loss</td><td>█▃▂▁▂▁▁▁▁▁▁▁▁▁▁▁▁▁▁▁▁▁▁▁▁▁▁▁▁▁▁▁▁▁▁▁▁▁▁▂</td></tr><tr><td>train_acc</td><td>▁▆▇█▆▆▆▆▆▇▅▇▆▅▆▅▅▅▅▆▆▆▇▆▅▆▅▅▆▆▆▇▅▇▆▆▆▅▆▅</td></tr><tr><td>valid_loss</td><td>█▆▃▃▂▃▁▄▂▃▄▃▂▁▄▂▅▆▁▁▂▃▃▃▃▄▄▂▂▂▁▃▃▃▂▂▄▂▂▄</td></tr><tr><td>valid_acc</td><td>▂▄▅▆▇▄▇▅█▅▃▅▆▆▄▇▁▃█▆▆▄▅▄▄▅▄▇▆▆▇▅▄▅▇▃▄▅▇▄</td></tr><tr><td>lr</td><td>▁▁▁▁▁▁▁▁▁▁▁▁▁▁▁▁▁▁▁▁▁▁▁▁▁▁▁▁▁▁▁▁▁▁▁▁▁▁▁▁</td></tr><tr><td>epoch_time</td><td>▅▆▆▆█▆▇▁▃▆▆▆▅▆▆▇▆▆▆▆▆▅▇▆█▇▅▃▂▄▃▂▄▂▃▄▄▂▃▂</td></tr><tr><td>_runtime</td><td>▁▁▂▂▂▂▂▂▃▃▃▃▃▃▄▄▄▄▅▅▅▅▅▆▆▆▆▆▆▇▇▇▇▇▇▇████</td></tr><tr><td>_timestamp</td><td>▁▁▂▂▂▂▂▂▃▃▃▃▃▃▄▄▄▄▅▅▅▅▅▆▆▆▆▆▆▇▇▇▇▇▇▇████</td></tr><tr><td>_step</td><td>▁▁▁▁▂▂▂▂▂▃▃▃▃▃▃▄▄▄▄▄▅▅▅▅▅▅▆▆▆▆▆▇▇▇▇▇▇███</td></tr></table><br/>"
      ],
      "text/plain": [
       "<IPython.core.display.HTML object>"
      ]
     },
     "metadata": {},
     "output_type": "display_data"
    },
    {
     "data": {
      "text/html": [
       "Synced 5 W&B file(s), 0 media file(s), 0 artifact file(s) and 0 other file(s)"
      ],
      "text/plain": [
       "<IPython.core.display.HTML object>"
      ]
     },
     "metadata": {},
     "output_type": "display_data"
    },
    {
     "data": {
      "text/html": [
       "\n",
       "                    <br/>Synced <strong style=\"color:#cdcd00\">lemon-sweep-18</strong>: <a href=\"https://wandb.ai/teamtom/churn-class-imbalance-with-treshold01/runs/wpiufdeh\" target=\"_blank\">https://wandb.ai/teamtom/churn-class-imbalance-with-treshold01/runs/wpiufdeh</a><br/>\n",
       "                "
      ],
      "text/plain": [
       "<IPython.core.display.HTML object>"
      ]
     },
     "metadata": {},
     "output_type": "display_data"
    },
    {
     "name": "stderr",
     "output_type": "stream",
     "text": [
      "wandb: Agent Starting Run: xwbfyllj with config:\n",
      "wandb: \tbatch_size: 32\n",
      "wandb: \tepochs: 100\n",
      "wandb: \tlearning_rate: 0.01\n",
      "wandb: \tthreshold: 0.4842105263157895\n",
      "wandb: wandb version 0.12.3 is available!  To upgrade, please run:\n",
      "wandb:  $ pip install wandb --upgrade\n"
     ]
    },
    {
     "data": {
      "text/html": [
       "\n",
       "                Tracking run with wandb version 0.10.31<br/>\n",
       "                Syncing run <strong style=\"color:#cdcd00\">restful-sweep-19</strong> to <a href=\"https://wandb.ai\" target=\"_blank\">Weights & Biases</a> <a href=\"https://docs.wandb.com/integrations/jupyter.html\" target=\"_blank\">(Documentation)</a>.<br/>\n",
       "                Project page: <a href=\"https://wandb.ai/teamtom/churn-class-imbalance-with-treshold01\" target=\"_blank\">https://wandb.ai/teamtom/churn-class-imbalance-with-treshold01</a><br/>\n",
       "                Sweep page: <a href=\"https://wandb.ai/teamtom/churn-class-imbalance-with-treshold01/sweeps/d22sfkpk\" target=\"_blank\">https://wandb.ai/teamtom/churn-class-imbalance-with-treshold01/sweeps/d22sfkpk</a><br/>\n",
       "Run page: <a href=\"https://wandb.ai/teamtom/churn-class-imbalance-with-treshold01/runs/xwbfyllj\" target=\"_blank\">https://wandb.ai/teamtom/churn-class-imbalance-with-treshold01/runs/xwbfyllj</a><br/>\n",
       "                Run data is saved locally in <code>c:\\python\\anaconda_base\\pytorch-tutorial\\wandb\\run-20211003_215942-xwbfyllj</code><br/><br/>\n",
       "            "
      ],
      "text/plain": [
       "<IPython.core.display.HTML object>"
      ]
     },
     "metadata": {},
     "output_type": "display_data"
    },
    {
     "name": "stdout",
     "output_type": "stream",
     "text": [
      "dataset size: 10000\n",
      "dataset samples shape: torch.Size([10000, 9])\n",
      "dataset classes shape: torch.Size([10000, 1])\n",
      "| Epoch: 0010 | Train Loss: 0.440 | Train Acc: 80.70% | Val. Loss: 0.430 | Val. Acc: 81.03% |\n",
      "| Epoch: 0020 | Train Loss: 0.438 | Train Acc: 80.73% | Val. Loss: 0.417 | Val. Acc: 82.54% |\n",
      "| Epoch: 0030 | Train Loss: 0.439 | Train Acc: 80.39% | Val. Loss: 0.426 | Val. Acc: 82.22% |\n",
      "| Epoch: 0040 | Train Loss: 0.441 | Train Acc: 80.41% | Val. Loss: 0.426 | Val. Acc: 81.79% |\n",
      "| Epoch: 0050 | Train Loss: 0.438 | Train Acc: 80.49% | Val. Loss: 0.426 | Val. Acc: 81.25% |\n",
      "| Epoch: 0060 | Train Loss: 0.439 | Train Acc: 80.29% | Val. Loss: 0.433 | Val. Acc: 81.03% |\n",
      "| Epoch: 0070 | Train Loss: 0.438 | Train Acc: 80.52% | Val. Loss: 0.441 | Val. Acc: 82.11% |\n",
      "| Epoch: 0080 | Train Loss: 0.440 | Train Acc: 80.29% | Val. Loss: 0.420 | Val. Acc: 82.33% |\n",
      "| Epoch: 0090 | Train Loss: 0.440 | Train Acc: 80.56% | Val. Loss: 0.424 | Val. Acc: 81.68% |\n",
      "| Epoch: 0100 | Train Loss: 0.440 | Train Acc: 80.35% | Val. Loss: 0.437 | Val. Acc: 80.39% |\n"
     ]
    },
    {
     "data": {
      "text/html": [
       "<br/>Waiting for W&B process to finish, PID 20652<br/>Program ended successfully."
      ],
      "text/plain": [
       "<IPython.core.display.HTML object>"
      ]
     },
     "metadata": {},
     "output_type": "display_data"
    },
    {
     "data": {
      "application/vnd.jupyter.widget-view+json": {
       "model_id": "5b1b35d0a72241388ebb6255131933fc",
       "version_major": 2,
       "version_minor": 0
      },
      "text/plain": [
       "VBox(children=(Label(value=' 0.00MB of 0.00MB uploaded (0.00MB deduped)\\r'), FloatProgress(value=1.0, max=1.0)…"
      ]
     },
     "metadata": {},
     "output_type": "display_data"
    },
    {
     "data": {
      "text/html": [
       "Find user logs for this run at: <code>c:\\python\\anaconda_base\\pytorch-tutorial\\wandb\\run-20211003_215942-xwbfyllj\\logs\\debug.log</code>"
      ],
      "text/plain": [
       "<IPython.core.display.HTML object>"
      ]
     },
     "metadata": {},
     "output_type": "display_data"
    },
    {
     "data": {
      "text/html": [
       "Find internal logs for this run at: <code>c:\\python\\anaconda_base\\pytorch-tutorial\\wandb\\run-20211003_215942-xwbfyllj\\logs\\debug-internal.log</code>"
      ],
      "text/plain": [
       "<IPython.core.display.HTML object>"
      ]
     },
     "metadata": {},
     "output_type": "display_data"
    },
    {
     "data": {
      "text/html": [
       "<h3>Run summary:</h3><br/><style>\n",
       "    table.wandb td:nth-child(1) { padding: 0 10px; text-align: right }\n",
       "    </style><table class=\"wandb\">\n",
       "<tr><td>train_loss</td><td>0.44028</td></tr><tr><td>train_acc</td><td>0.80352</td></tr><tr><td>valid_loss</td><td>0.43728</td></tr><tr><td>valid_acc</td><td>0.80388</td></tr><tr><td>lr</td><td>0.01</td></tr><tr><td>epoch_time</td><td>0.41118</td></tr><tr><td>_runtime</td><td>29</td></tr><tr><td>_timestamp</td><td>1633291211</td></tr><tr><td>_step</td><td>99</td></tr><tr><td>accuracy</td><td>0.815</td></tr><tr><td>prec</td><td>0.64179</td></tr><tr><td>recall</td><td>0.21078</td></tr><tr><td>f1</td><td>0.31734</td></tr></table>"
      ],
      "text/plain": [
       "<IPython.core.display.HTML object>"
      ]
     },
     "metadata": {},
     "output_type": "display_data"
    },
    {
     "data": {
      "text/html": [
       "<h3>Run history:</h3><br/><style>\n",
       "    table.wandb td:nth-child(1) { padding: 0 10px; text-align: right }\n",
       "    </style><table class=\"wandb\">\n",
       "<tr><td>train_loss</td><td>█▃▂▂▁▁▂▁▁▁▁▁▁▁▁▁▁▂▁▁▁▁▁▁▁▁▁▁▁▁▂▁▁▁▁▂▁▁▁▁</td></tr><tr><td>train_acc</td><td>▁█▇▇█▆▆▆▆▇█▆▆▆▆▆█▅▅▆▇▇▆▅█▆▇▆▆▅▅▆▆▇▇▆▆█▆▆</td></tr><tr><td>valid_loss</td><td>█▄▅▃▁▂▃▂▂▃▄▅▅▂▂▃▄▃▃▂▁▁▂▃▂▅▂▁▃▂▂▃▅▁▁▂▁▂▂▄</td></tr><tr><td>valid_acc</td><td>▁▅▆▆▇▇▅█▇▆▆▅▄▇▆▆▅▆▆▇▇▆▇▆▇▅▇▇▅▇▇▅▆██▆█▆▇▄</td></tr><tr><td>lr</td><td>▁▁▁▁▁▁▁▁▁▁▁▁▁▁▁▁▁▁▁▁▁▁▁▁▁▁▁▁▁▁▁▁▁▁▁▁▁▁▁▁</td></tr><tr><td>epoch_time</td><td>▃▃▄▃▄▄▄▄▃▃▃▃▄▄▄▅▂▃█▃▆▃▄▃▄▁▂▁▂▁▁▁▂▂▂▂▂▂▁▇</td></tr><tr><td>_runtime</td><td>▁▁▂▂▂▂▂▂▃▃▃▃▃▄▄▄▄▄▅▅▅▅▅▆▆▆▆▆▆▆▇▇▇▇▇▇▇███</td></tr><tr><td>_timestamp</td><td>▁▁▂▂▂▂▂▂▃▃▃▃▃▄▄▄▄▄▅▅▅▅▅▆▆▆▆▆▆▆▇▇▇▇▇▇▇███</td></tr><tr><td>_step</td><td>▁▁▁▁▂▂▂▂▂▃▃▃▃▃▃▄▄▄▄▄▅▅▅▅▅▅▆▆▆▆▆▇▇▇▇▇▇███</td></tr></table><br/>"
      ],
      "text/plain": [
       "<IPython.core.display.HTML object>"
      ]
     },
     "metadata": {},
     "output_type": "display_data"
    },
    {
     "data": {
      "text/html": [
       "Synced 5 W&B file(s), 0 media file(s), 0 artifact file(s) and 0 other file(s)"
      ],
      "text/plain": [
       "<IPython.core.display.HTML object>"
      ]
     },
     "metadata": {},
     "output_type": "display_data"
    },
    {
     "data": {
      "text/html": [
       "\n",
       "                    <br/>Synced <strong style=\"color:#cdcd00\">restful-sweep-19</strong>: <a href=\"https://wandb.ai/teamtom/churn-class-imbalance-with-treshold01/runs/xwbfyllj\" target=\"_blank\">https://wandb.ai/teamtom/churn-class-imbalance-with-treshold01/runs/xwbfyllj</a><br/>\n",
       "                "
      ],
      "text/plain": [
       "<IPython.core.display.HTML object>"
      ]
     },
     "metadata": {},
     "output_type": "display_data"
    },
    {
     "name": "stderr",
     "output_type": "stream",
     "text": [
      "wandb: Agent Starting Run: n8x7t5zh with config:\n",
      "wandb: \tbatch_size: 32\n",
      "wandb: \tepochs: 100\n",
      "wandb: \tlearning_rate: 0.01\n",
      "wandb: \tthreshold: 0.5\n",
      "wandb: wandb version 0.12.3 is available!  To upgrade, please run:\n",
      "wandb:  $ pip install wandb --upgrade\n"
     ]
    },
    {
     "data": {
      "text/html": [
       "\n",
       "                Tracking run with wandb version 0.10.31<br/>\n",
       "                Syncing run <strong style=\"color:#cdcd00\">eager-sweep-20</strong> to <a href=\"https://wandb.ai\" target=\"_blank\">Weights & Biases</a> <a href=\"https://docs.wandb.com/integrations/jupyter.html\" target=\"_blank\">(Documentation)</a>.<br/>\n",
       "                Project page: <a href=\"https://wandb.ai/teamtom/churn-class-imbalance-with-treshold01\" target=\"_blank\">https://wandb.ai/teamtom/churn-class-imbalance-with-treshold01</a><br/>\n",
       "                Sweep page: <a href=\"https://wandb.ai/teamtom/churn-class-imbalance-with-treshold01/sweeps/d22sfkpk\" target=\"_blank\">https://wandb.ai/teamtom/churn-class-imbalance-with-treshold01/sweeps/d22sfkpk</a><br/>\n",
       "Run page: <a href=\"https://wandb.ai/teamtom/churn-class-imbalance-with-treshold01/runs/n8x7t5zh\" target=\"_blank\">https://wandb.ai/teamtom/churn-class-imbalance-with-treshold01/runs/n8x7t5zh</a><br/>\n",
       "                Run data is saved locally in <code>c:\\python\\anaconda_base\\pytorch-tutorial\\wandb\\run-20211003_220015-n8x7t5zh</code><br/><br/>\n",
       "            "
      ],
      "text/plain": [
       "<IPython.core.display.HTML object>"
      ]
     },
     "metadata": {},
     "output_type": "display_data"
    },
    {
     "name": "stdout",
     "output_type": "stream",
     "text": [
      "dataset size: 10000\n",
      "dataset samples shape: torch.Size([10000, 9])\n",
      "dataset classes shape: torch.Size([10000, 1])\n",
      "| Epoch: 0010 | Train Loss: 0.441 | Train Acc: 80.62% | Val. Loss: 0.429 | Val. Acc: 81.79% |\n",
      "| Epoch: 0020 | Train Loss: 0.438 | Train Acc: 80.47% | Val. Loss: 0.425 | Val. Acc: 82.87% |\n",
      "| Epoch: 0030 | Train Loss: 0.439 | Train Acc: 80.50% | Val. Loss: 0.428 | Val. Acc: 81.25% |\n",
      "| Epoch: 0040 | Train Loss: 0.439 | Train Acc: 80.29% | Val. Loss: 0.422 | Val. Acc: 82.76% |\n",
      "| Epoch: 0050 | Train Loss: 0.438 | Train Acc: 80.52% | Val. Loss: 0.416 | Val. Acc: 81.90% |\n",
      "| Epoch: 0060 | Train Loss: 0.439 | Train Acc: 80.44% | Val. Loss: 0.426 | Val. Acc: 81.57% |\n",
      "| Epoch: 0070 | Train Loss: 0.437 | Train Acc: 80.43% | Val. Loss: 0.427 | Val. Acc: 81.36% |\n",
      "| Epoch: 0080 | Train Loss: 0.438 | Train Acc: 80.75% | Val. Loss: 0.417 | Val. Acc: 82.65% |\n",
      "| Epoch: 0090 | Train Loss: 0.440 | Train Acc: 80.41% | Val. Loss: 0.423 | Val. Acc: 82.54% |\n",
      "| Epoch: 0100 | Train Loss: 0.439 | Train Acc: 80.44% | Val. Loss: 0.425 | Val. Acc: 81.79% |\n"
     ]
    },
    {
     "data": {
      "text/html": [
       "<br/>Waiting for W&B process to finish, PID 19788<br/>Program ended successfully."
      ],
      "text/plain": [
       "<IPython.core.display.HTML object>"
      ]
     },
     "metadata": {},
     "output_type": "display_data"
    },
    {
     "data": {
      "application/vnd.jupyter.widget-view+json": {
       "model_id": "3c706583d0a74f798fadc48b2afdf226",
       "version_major": 2,
       "version_minor": 0
      },
      "text/plain": [
       "VBox(children=(Label(value=' 0.00MB of 0.00MB uploaded (0.00MB deduped)\\r'), FloatProgress(value=1.0, max=1.0)…"
      ]
     },
     "metadata": {},
     "output_type": "display_data"
    },
    {
     "data": {
      "text/html": [
       "Find user logs for this run at: <code>c:\\python\\anaconda_base\\pytorch-tutorial\\wandb\\run-20211003_220015-n8x7t5zh\\logs\\debug.log</code>"
      ],
      "text/plain": [
       "<IPython.core.display.HTML object>"
      ]
     },
     "metadata": {},
     "output_type": "display_data"
    },
    {
     "data": {
      "text/html": [
       "Find internal logs for this run at: <code>c:\\python\\anaconda_base\\pytorch-tutorial\\wandb\\run-20211003_220015-n8x7t5zh\\logs\\debug-internal.log</code>"
      ],
      "text/plain": [
       "<IPython.core.display.HTML object>"
      ]
     },
     "metadata": {},
     "output_type": "display_data"
    },
    {
     "data": {
      "text/html": [
       "<h3>Run summary:</h3><br/><style>\n",
       "    table.wandb td:nth-child(1) { padding: 0 10px; text-align: right }\n",
       "    </style><table class=\"wandb\">\n",
       "<tr><td>train_loss</td><td>0.43925</td></tr><tr><td>train_acc</td><td>0.80438</td></tr><tr><td>valid_loss</td><td>0.42467</td></tr><tr><td>valid_acc</td><td>0.81789</td></tr><tr><td>lr</td><td>0.01</td></tr><tr><td>epoch_time</td><td>0.19801</td></tr><tr><td>_runtime</td><td>29</td></tr><tr><td>_timestamp</td><td>1633291245</td></tr><tr><td>_step</td><td>99</td></tr><tr><td>accuracy</td><td>0.817</td></tr><tr><td>prec</td><td>0.69811</td></tr><tr><td>recall</td><td>0.18137</td></tr><tr><td>f1</td><td>0.28794</td></tr></table>"
      ],
      "text/plain": [
       "<IPython.core.display.HTML object>"
      ]
     },
     "metadata": {},
     "output_type": "display_data"
    },
    {
     "data": {
      "text/html": [
       "<h3>Run history:</h3><br/><style>\n",
       "    table.wandb td:nth-child(1) { padding: 0 10px; text-align: right }\n",
       "    </style><table class=\"wandb\">\n",
       "<tr><td>train_loss</td><td>█▃▂▁▁▁▁▁▁▂▁▁▁▁▁▁▁▁▁▁▁▁▁▁▂▂▁▁▁▁▁▂▁▁▁▁▁▁▁▁</td></tr><tr><td>train_acc</td><td>▁███▇█▇█▅▅▇▇▆▇▇▅▇▆▇▇▅▅▆▆▄▅▆▇▅▆▅▆▅▆▅▆▆▇▆▆</td></tr><tr><td>valid_loss</td><td>█▃▃▂▂▁▂▃▁▃▃▁▁▂▄▅▃▃▃▂▂▆▂▁▂▂▁▃▄▂▂▁▃▃▄▂▄▂▂▂</td></tr><tr><td>valid_acc</td><td>▁▆▆█▇▇█▇▇▆▅█▇█▅▅▆▄▆▇▅▅▆▇▆█▇▅▇▆▇▇▅▆▄█▆▇█▆</td></tr><tr><td>lr</td><td>▁▁▁▁▁▁▁▁▁▁▁▁▁▁▁▁▁▁▁▁▁▁▁▁▁▁▁▁▁▁▁▁▁▁▁▁▁▁▁▁</td></tr><tr><td>epoch_time</td><td>▅▆▅▆▇▆▄█▅▆▅▄▅▆▄▅▂▃▁▇▆▄▄▆▆▇▄▃▇▃▂▂▃▃▇▄▂▂▂▂</td></tr><tr><td>_runtime</td><td>▁▁▂▂▂▂▂▃▃▃▃▃▃▄▄▄▄▄▄▅▅▅▅▅▆▆▆▆▆▆▇▇▇▇▇▇▇███</td></tr><tr><td>_timestamp</td><td>▁▁▂▂▂▂▂▃▃▃▃▃▃▄▄▄▄▄▄▅▅▅▅▅▆▆▆▆▆▆▇▇▇▇▇▇▇███</td></tr><tr><td>_step</td><td>▁▁▁▁▂▂▂▂▂▃▃▃▃▃▃▄▄▄▄▄▅▅▅▅▅▅▆▆▆▆▆▇▇▇▇▇▇███</td></tr></table><br/>"
      ],
      "text/plain": [
       "<IPython.core.display.HTML object>"
      ]
     },
     "metadata": {},
     "output_type": "display_data"
    },
    {
     "data": {
      "text/html": [
       "Synced 5 W&B file(s), 0 media file(s), 0 artifact file(s) and 0 other file(s)"
      ],
      "text/plain": [
       "<IPython.core.display.HTML object>"
      ]
     },
     "metadata": {},
     "output_type": "display_data"
    },
    {
     "data": {
      "text/html": [
       "\n",
       "                    <br/>Synced <strong style=\"color:#cdcd00\">eager-sweep-20</strong>: <a href=\"https://wandb.ai/teamtom/churn-class-imbalance-with-treshold01/runs/n8x7t5zh\" target=\"_blank\">https://wandb.ai/teamtom/churn-class-imbalance-with-treshold01/runs/n8x7t5zh</a><br/>\n",
       "                "
      ],
      "text/plain": [
       "<IPython.core.display.HTML object>"
      ]
     },
     "metadata": {},
     "output_type": "display_data"
    },
    {
     "name": "stderr",
     "output_type": "stream",
     "text": [
      "wandb: Agent Starting Run: z5kkkcb1 with config:\n",
      "wandb: \tbatch_size: 32\n",
      "wandb: \tepochs: 100\n",
      "wandb: \tlearning_rate: 0.005\n",
      "wandb: \tthreshold: 0.2\n",
      "wandb: wandb version 0.12.3 is available!  To upgrade, please run:\n",
      "wandb:  $ pip install wandb --upgrade\n"
     ]
    },
    {
     "data": {
      "text/html": [
       "\n",
       "                Tracking run with wandb version 0.10.31<br/>\n",
       "                Syncing run <strong style=\"color:#cdcd00\">solar-sweep-21</strong> to <a href=\"https://wandb.ai\" target=\"_blank\">Weights & Biases</a> <a href=\"https://docs.wandb.com/integrations/jupyter.html\" target=\"_blank\">(Documentation)</a>.<br/>\n",
       "                Project page: <a href=\"https://wandb.ai/teamtom/churn-class-imbalance-with-treshold01\" target=\"_blank\">https://wandb.ai/teamtom/churn-class-imbalance-with-treshold01</a><br/>\n",
       "                Sweep page: <a href=\"https://wandb.ai/teamtom/churn-class-imbalance-with-treshold01/sweeps/d22sfkpk\" target=\"_blank\">https://wandb.ai/teamtom/churn-class-imbalance-with-treshold01/sweeps/d22sfkpk</a><br/>\n",
       "Run page: <a href=\"https://wandb.ai/teamtom/churn-class-imbalance-with-treshold01/runs/z5kkkcb1\" target=\"_blank\">https://wandb.ai/teamtom/churn-class-imbalance-with-treshold01/runs/z5kkkcb1</a><br/>\n",
       "                Run data is saved locally in <code>c:\\python\\anaconda_base\\pytorch-tutorial\\wandb\\run-20211003_220118-z5kkkcb1</code><br/><br/>\n",
       "            "
      ],
      "text/plain": [
       "<IPython.core.display.HTML object>"
      ]
     },
     "metadata": {},
     "output_type": "display_data"
    },
    {
     "name": "stdout",
     "output_type": "stream",
     "text": [
      "dataset size: 10000\n",
      "dataset samples shape: torch.Size([10000, 9])\n",
      "dataset classes shape: torch.Size([10000, 1])\n",
      "| Epoch: 0010 | Train Loss: 0.444 | Train Acc: 64.78% | Val. Loss: 0.426 | Val. Acc: 65.09% |\n",
      "| Epoch: 0020 | Train Loss: 0.439 | Train Acc: 66.99% | Val. Loss: 0.431 | Val. Acc: 67.78% |\n",
      "| Epoch: 0030 | Train Loss: 0.439 | Train Acc: 68.22% | Val. Loss: 0.417 | Val. Acc: 69.50% |\n",
      "| Epoch: 0040 | Train Loss: 0.438 | Train Acc: 67.72% | Val. Loss: 0.423 | Val. Acc: 68.10% |\n",
      "| Epoch: 0050 | Train Loss: 0.438 | Train Acc: 67.84% | Val. Loss: 0.418 | Val. Acc: 68.53% |\n",
      "| Epoch: 0060 | Train Loss: 0.439 | Train Acc: 68.11% | Val. Loss: 0.448 | Val. Acc: 68.43% |\n",
      "| Epoch: 0070 | Train Loss: 0.440 | Train Acc: 68.65% | Val. Loss: 0.431 | Val. Acc: 66.70% |\n",
      "| Epoch: 0080 | Train Loss: 0.438 | Train Acc: 68.64% | Val. Loss: 0.431 | Val. Acc: 66.59% |\n",
      "| Epoch: 0090 | Train Loss: 0.437 | Train Acc: 68.50% | Val. Loss: 0.427 | Val. Acc: 70.47% |\n",
      "| Epoch: 0100 | Train Loss: 0.438 | Train Acc: 68.68% | Val. Loss: 0.444 | Val. Acc: 65.62% |\n"
     ]
    },
    {
     "data": {
      "text/html": [
       "<br/>Waiting for W&B process to finish, PID 24704<br/>Program ended successfully."
      ],
      "text/plain": [
       "<IPython.core.display.HTML object>"
      ]
     },
     "metadata": {},
     "output_type": "display_data"
    },
    {
     "data": {
      "application/vnd.jupyter.widget-view+json": {
       "model_id": "36533284df8741af8035aea897664cc7",
       "version_major": 2,
       "version_minor": 0
      },
      "text/plain": [
       "VBox(children=(Label(value=' 0.00MB of 0.00MB uploaded (0.00MB deduped)\\r'), FloatProgress(value=1.0, max=1.0)…"
      ]
     },
     "metadata": {},
     "output_type": "display_data"
    },
    {
     "data": {
      "text/html": [
       "Find user logs for this run at: <code>c:\\python\\anaconda_base\\pytorch-tutorial\\wandb\\run-20211003_220118-z5kkkcb1\\logs\\debug.log</code>"
      ],
      "text/plain": [
       "<IPython.core.display.HTML object>"
      ]
     },
     "metadata": {},
     "output_type": "display_data"
    },
    {
     "data": {
      "text/html": [
       "Find internal logs for this run at: <code>c:\\python\\anaconda_base\\pytorch-tutorial\\wandb\\run-20211003_220118-z5kkkcb1\\logs\\debug-internal.log</code>"
      ],
      "text/plain": [
       "<IPython.core.display.HTML object>"
      ]
     },
     "metadata": {},
     "output_type": "display_data"
    },
    {
     "data": {
      "text/html": [
       "<h3>Run summary:</h3><br/><style>\n",
       "    table.wandb td:nth-child(1) { padding: 0 10px; text-align: right }\n",
       "    </style><table class=\"wandb\">\n",
       "<tr><td>train_loss</td><td>0.43795</td></tr><tr><td>train_acc</td><td>0.68676</td></tr><tr><td>valid_loss</td><td>0.44418</td></tr><tr><td>valid_acc</td><td>0.65625</td></tr><tr><td>lr</td><td>0.005</td></tr><tr><td>epoch_time</td><td>0.24245</td></tr><tr><td>_runtime</td><td>28</td></tr><tr><td>_timestamp</td><td>1633291306</td></tr><tr><td>_step</td><td>99</td></tr><tr><td>accuracy</td><td>0.675</td></tr><tr><td>prec</td><td>0.3528</td></tr><tr><td>recall</td><td>0.71078</td></tr><tr><td>f1</td><td>0.47154</td></tr></table>"
      ],
      "text/plain": [
       "<IPython.core.display.HTML object>"
      ]
     },
     "metadata": {},
     "output_type": "display_data"
    },
    {
     "data": {
      "text/html": [
       "<h3>Run history:</h3><br/><style>\n",
       "    table.wandb td:nth-child(1) { padding: 0 10px; text-align: right }\n",
       "    </style><table class=\"wandb\">\n",
       "<tr><td>train_loss</td><td>█▅▃▂▂▂▁▁▁▁▁▁▁▁▁▁▁▁▁▁▁▁▁▁▁▁▁▁▁▁▁▁▁▁▁▁▁▁▁▁</td></tr><tr><td>train_acc</td><td>▁▅▆▆▇▇▇▇▇███████████████████████████████</td></tr><tr><td>valid_loss</td><td>██▄▄▃▆▂▂▃▂▂▂▃▃▂▂▁▂▁▄▁▁▃▂▃▁▃▂▃▃▄▁▁▂▂▂▁▂▁▄</td></tr><tr><td>valid_acc</td><td>▂▁▂▄▅▅▄▆▇▅▄▆▆▇▇▅▇▆▅▅▇▆▅▇▇▆▅▆▆▄▆▇█▆▇▇▅██▅</td></tr><tr><td>lr</td><td>▁▁▁▁▁▁▁▁▁▁▁▁▁▁▁▁▁▁▁▁▁▁▁▁▁▁▁▁▁▁▁▁▁▁▁▁▁▁▁▁</td></tr><tr><td>epoch_time</td><td>▃▄▃▃█▄▃▆▃▃▃▃▂▄▃▃▃▂▁▃▃▃▃▄▄▃▄▃▂▁▁▁▂▁▄▁▂▂▂▂</td></tr><tr><td>_runtime</td><td>▁▁▂▂▂▂▂▃▃▃▃▃▃▄▄▄▄▅▅▅▅▅▅▆▆▆▆▆▆▇▇▇▇▇▇▇████</td></tr><tr><td>_timestamp</td><td>▁▁▂▂▂▂▂▃▃▃▃▃▃▄▄▄▄▅▅▅▅▅▅▆▆▆▆▆▆▇▇▇▇▇▇▇████</td></tr><tr><td>_step</td><td>▁▁▁▁▂▂▂▂▂▃▃▃▃▃▃▄▄▄▄▄▅▅▅▅▅▅▆▆▆▆▆▇▇▇▇▇▇███</td></tr></table><br/>"
      ],
      "text/plain": [
       "<IPython.core.display.HTML object>"
      ]
     },
     "metadata": {},
     "output_type": "display_data"
    },
    {
     "data": {
      "text/html": [
       "Synced 5 W&B file(s), 0 media file(s), 0 artifact file(s) and 0 other file(s)"
      ],
      "text/plain": [
       "<IPython.core.display.HTML object>"
      ]
     },
     "metadata": {},
     "output_type": "display_data"
    },
    {
     "data": {
      "text/html": [
       "\n",
       "                    <br/>Synced <strong style=\"color:#cdcd00\">solar-sweep-21</strong>: <a href=\"https://wandb.ai/teamtom/churn-class-imbalance-with-treshold01/runs/z5kkkcb1\" target=\"_blank\">https://wandb.ai/teamtom/churn-class-imbalance-with-treshold01/runs/z5kkkcb1</a><br/>\n",
       "                "
      ],
      "text/plain": [
       "<IPython.core.display.HTML object>"
      ]
     },
     "metadata": {},
     "output_type": "display_data"
    },
    {
     "name": "stderr",
     "output_type": "stream",
     "text": [
      "wandb: Agent Starting Run: kbkvja82 with config:\n",
      "wandb: \tbatch_size: 32\n",
      "wandb: \tepochs: 100\n",
      "wandb: \tlearning_rate: 0.005\n",
      "wandb: \tthreshold: 0.21578947368421053\n",
      "wandb: wandb version 0.12.3 is available!  To upgrade, please run:\n",
      "wandb:  $ pip install wandb --upgrade\n"
     ]
    },
    {
     "data": {
      "text/html": [
       "\n",
       "                Tracking run with wandb version 0.10.31<br/>\n",
       "                Syncing run <strong style=\"color:#cdcd00\">rare-sweep-22</strong> to <a href=\"https://wandb.ai\" target=\"_blank\">Weights & Biases</a> <a href=\"https://docs.wandb.com/integrations/jupyter.html\" target=\"_blank\">(Documentation)</a>.<br/>\n",
       "                Project page: <a href=\"https://wandb.ai/teamtom/churn-class-imbalance-with-treshold01\" target=\"_blank\">https://wandb.ai/teamtom/churn-class-imbalance-with-treshold01</a><br/>\n",
       "                Sweep page: <a href=\"https://wandb.ai/teamtom/churn-class-imbalance-with-treshold01/sweeps/d22sfkpk\" target=\"_blank\">https://wandb.ai/teamtom/churn-class-imbalance-with-treshold01/sweeps/d22sfkpk</a><br/>\n",
       "Run page: <a href=\"https://wandb.ai/teamtom/churn-class-imbalance-with-treshold01/runs/kbkvja82\" target=\"_blank\">https://wandb.ai/teamtom/churn-class-imbalance-with-treshold01/runs/kbkvja82</a><br/>\n",
       "                Run data is saved locally in <code>c:\\python\\anaconda_base\\pytorch-tutorial\\wandb\\run-20211003_220151-kbkvja82</code><br/><br/>\n",
       "            "
      ],
      "text/plain": [
       "<IPython.core.display.HTML object>"
      ]
     },
     "metadata": {},
     "output_type": "display_data"
    },
    {
     "name": "stdout",
     "output_type": "stream",
     "text": [
      "dataset size: 10000\n",
      "dataset samples shape: torch.Size([10000, 9])\n",
      "dataset classes shape: torch.Size([10000, 1])\n",
      "| Epoch: 0010 | Train Loss: 0.445 | Train Acc: 66.95% | Val. Loss: 0.433 | Val. Acc: 70.80% |\n",
      "| Epoch: 0020 | Train Loss: 0.439 | Train Acc: 69.25% | Val. Loss: 0.447 | Val. Acc: 70.58% |\n",
      "| Epoch: 0030 | Train Loss: 0.439 | Train Acc: 69.78% | Val. Loss: 0.443 | Val. Acc: 68.53% |\n",
      "| Epoch: 0040 | Train Loss: 0.437 | Train Acc: 70.10% | Val. Loss: 0.420 | Val. Acc: 69.61% |\n",
      "| Epoch: 0050 | Train Loss: 0.439 | Train Acc: 70.57% | Val. Loss: 0.417 | Val. Acc: 71.01% |\n",
      "| Epoch: 0060 | Train Loss: 0.439 | Train Acc: 70.63% | Val. Loss: 0.424 | Val. Acc: 68.97% |\n",
      "| Epoch: 0070 | Train Loss: 0.440 | Train Acc: 70.66% | Val. Loss: 0.421 | Val. Acc: 70.58% |\n",
      "| Epoch: 0080 | Train Loss: 0.437 | Train Acc: 70.64% | Val. Loss: 0.417 | Val. Acc: 70.91% |\n",
      "| Epoch: 0090 | Train Loss: 0.442 | Train Acc: 70.41% | Val. Loss: 0.424 | Val. Acc: 68.64% |\n",
      "| Epoch: 0100 | Train Loss: 0.437 | Train Acc: 70.19% | Val. Loss: 0.418 | Val. Acc: 70.15% |\n"
     ]
    },
    {
     "data": {
      "text/html": [
       "<br/>Waiting for W&B process to finish, PID 4548<br/>Program ended successfully."
      ],
      "text/plain": [
       "<IPython.core.display.HTML object>"
      ]
     },
     "metadata": {},
     "output_type": "display_data"
    },
    {
     "data": {
      "application/vnd.jupyter.widget-view+json": {
       "model_id": "e3fd2a8452e04999b55516a8931946f0",
       "version_major": 2,
       "version_minor": 0
      },
      "text/plain": [
       "VBox(children=(Label(value=' 0.00MB of 0.00MB uploaded (0.00MB deduped)\\r'), FloatProgress(value=1.0, max=1.0)…"
      ]
     },
     "metadata": {},
     "output_type": "display_data"
    },
    {
     "data": {
      "text/html": [
       "Find user logs for this run at: <code>c:\\python\\anaconda_base\\pytorch-tutorial\\wandb\\run-20211003_220151-kbkvja82\\logs\\debug.log</code>"
      ],
      "text/plain": [
       "<IPython.core.display.HTML object>"
      ]
     },
     "metadata": {},
     "output_type": "display_data"
    },
    {
     "data": {
      "text/html": [
       "Find internal logs for this run at: <code>c:\\python\\anaconda_base\\pytorch-tutorial\\wandb\\run-20211003_220151-kbkvja82\\logs\\debug-internal.log</code>"
      ],
      "text/plain": [
       "<IPython.core.display.HTML object>"
      ]
     },
     "metadata": {},
     "output_type": "display_data"
    },
    {
     "data": {
      "text/html": [
       "<h3>Run summary:</h3><br/><style>\n",
       "    table.wandb td:nth-child(1) { padding: 0 10px; text-align: right }\n",
       "    </style><table class=\"wandb\">\n",
       "<tr><td>train_loss</td><td>0.43717</td></tr><tr><td>train_acc</td><td>0.70189</td></tr><tr><td>valid_loss</td><td>0.41793</td></tr><tr><td>valid_acc</td><td>0.70151</td></tr><tr><td>lr</td><td>0.005</td></tr><tr><td>epoch_time</td><td>0.21813</td></tr><tr><td>_runtime</td><td>28</td></tr><tr><td>_timestamp</td><td>1633291339</td></tr><tr><td>_step</td><td>99</td></tr><tr><td>accuracy</td><td>0.716</td></tr><tr><td>prec</td><td>0.38636</td></tr><tr><td>recall</td><td>0.66667</td></tr><tr><td>f1</td><td>0.48921</td></tr></table>"
      ],
      "text/plain": [
       "<IPython.core.display.HTML object>"
      ]
     },
     "metadata": {},
     "output_type": "display_data"
    },
    {
     "data": {
      "text/html": [
       "<h3>Run history:</h3><br/><style>\n",
       "    table.wandb td:nth-child(1) { padding: 0 10px; text-align: right }\n",
       "    </style><table class=\"wandb\">\n",
       "<tr><td>train_loss</td><td>█▄▃▂▂▁▁▁▁▁▁▁▁▁▁▁▁▁▁▁▁▁▂▁▁▁▁▁▁▁▁▁▁▁▁▁▁▁▁▁</td></tr><tr><td>train_acc</td><td>▁▆▆▆▇▇▇▇▇██▇████████████████████████████</td></tr><tr><td>valid_loss</td><td>█▅▃▂▂▂▂▃▂▃▁▂▃▂▁▂▂▂▁▁▁▁▃▂▃▁▁▃▂▂▁▂▁▂▂▁▂▁▁▁</td></tr><tr><td>valid_acc</td><td>▂▁▁▅▆▂▄▄▆▄▆▅▅▆▆▇▆▅▆▅▆▅▄▆▅▆▆▆▃▅█▅▇▅▅▆▆▆▇▆</td></tr><tr><td>lr</td><td>▁▁▁▁▁▁▁▁▁▁▁▁▁▁▁▁▁▁▁▁▁▁▁▁▁▁▁▁▁▁▁▁▁▁▁▁▁▁▁▁</td></tr><tr><td>epoch_time</td><td>▅▄▆▅█▅▅▅▆▆▃▄▇▆▇▇▇▁▆▆▇▆▆▅▇▆▇▁▂▂▁▂▂▂▂▂▃▁▂▃</td></tr><tr><td>_runtime</td><td>▁▁▂▂▂▂▂▂▃▃▃▃▃▄▄▄▄▅▅▅▅▅▅▆▆▆▆▆▇▇▇▇▇▇▇▇████</td></tr><tr><td>_timestamp</td><td>▁▁▂▂▂▂▂▂▃▃▃▃▃▄▄▄▄▅▅▅▅▅▅▆▆▆▆▆▇▇▇▇▇▇▇▇████</td></tr><tr><td>_step</td><td>▁▁▁▁▂▂▂▂▂▃▃▃▃▃▃▄▄▄▄▄▅▅▅▅▅▅▆▆▆▆▆▇▇▇▇▇▇███</td></tr></table><br/>"
      ],
      "text/plain": [
       "<IPython.core.display.HTML object>"
      ]
     },
     "metadata": {},
     "output_type": "display_data"
    },
    {
     "data": {
      "text/html": [
       "Synced 5 W&B file(s), 0 media file(s), 0 artifact file(s) and 0 other file(s)"
      ],
      "text/plain": [
       "<IPython.core.display.HTML object>"
      ]
     },
     "metadata": {},
     "output_type": "display_data"
    },
    {
     "data": {
      "text/html": [
       "\n",
       "                    <br/>Synced <strong style=\"color:#cdcd00\">rare-sweep-22</strong>: <a href=\"https://wandb.ai/teamtom/churn-class-imbalance-with-treshold01/runs/kbkvja82\" target=\"_blank\">https://wandb.ai/teamtom/churn-class-imbalance-with-treshold01/runs/kbkvja82</a><br/>\n",
       "                "
      ],
      "text/plain": [
       "<IPython.core.display.HTML object>"
      ]
     },
     "metadata": {},
     "output_type": "display_data"
    },
    {
     "name": "stderr",
     "output_type": "stream",
     "text": [
      "wandb: Agent Starting Run: kspx0cw6 with config:\n",
      "wandb: \tbatch_size: 32\n",
      "wandb: \tepochs: 100\n",
      "wandb: \tlearning_rate: 0.005\n",
      "wandb: \tthreshold: 0.23157894736842105\n",
      "wandb: wandb version 0.12.3 is available!  To upgrade, please run:\n",
      "wandb:  $ pip install wandb --upgrade\n"
     ]
    },
    {
     "data": {
      "text/html": [
       "\n",
       "                Tracking run with wandb version 0.10.31<br/>\n",
       "                Syncing run <strong style=\"color:#cdcd00\">effortless-sweep-23</strong> to <a href=\"https://wandb.ai\" target=\"_blank\">Weights & Biases</a> <a href=\"https://docs.wandb.com/integrations/jupyter.html\" target=\"_blank\">(Documentation)</a>.<br/>\n",
       "                Project page: <a href=\"https://wandb.ai/teamtom/churn-class-imbalance-with-treshold01\" target=\"_blank\">https://wandb.ai/teamtom/churn-class-imbalance-with-treshold01</a><br/>\n",
       "                Sweep page: <a href=\"https://wandb.ai/teamtom/churn-class-imbalance-with-treshold01/sweeps/d22sfkpk\" target=\"_blank\">https://wandb.ai/teamtom/churn-class-imbalance-with-treshold01/sweeps/d22sfkpk</a><br/>\n",
       "Run page: <a href=\"https://wandb.ai/teamtom/churn-class-imbalance-with-treshold01/runs/kspx0cw6\" target=\"_blank\">https://wandb.ai/teamtom/churn-class-imbalance-with-treshold01/runs/kspx0cw6</a><br/>\n",
       "                Run data is saved locally in <code>c:\\python\\anaconda_base\\pytorch-tutorial\\wandb\\run-20211003_220225-kspx0cw6</code><br/><br/>\n",
       "            "
      ],
      "text/plain": [
       "<IPython.core.display.HTML object>"
      ]
     },
     "metadata": {},
     "output_type": "display_data"
    },
    {
     "name": "stdout",
     "output_type": "stream",
     "text": [
      "dataset size: 10000\n",
      "dataset samples shape: torch.Size([10000, 9])\n",
      "dataset classes shape: torch.Size([10000, 1])\n",
      "| Epoch: 0010 | Train Loss: 0.444 | Train Acc: 69.77% | Val. Loss: 0.444 | Val. Acc: 71.98% |\n",
      "| Epoch: 0020 | Train Loss: 0.440 | Train Acc: 71.03% | Val. Loss: 0.436 | Val. Acc: 68.21% |\n",
      "| Epoch: 0030 | Train Loss: 0.438 | Train Acc: 71.97% | Val. Loss: 0.419 | Val. Acc: 70.69% |\n",
      "| Epoch: 0040 | Train Loss: 0.438 | Train Acc: 72.13% | Val. Loss: 0.421 | Val. Acc: 71.12% |\n",
      "| Epoch: 0050 | Train Loss: 0.437 | Train Acc: 72.40% | Val. Loss: 0.426 | Val. Acc: 71.98% |\n",
      "| Epoch: 0060 | Train Loss: 0.437 | Train Acc: 72.29% | Val. Loss: 0.417 | Val. Acc: 72.74% |\n",
      "| Epoch: 0070 | Train Loss: 0.439 | Train Acc: 72.50% | Val. Loss: 0.442 | Val. Acc: 68.97% |\n",
      "| Epoch: 0080 | Train Loss: 0.438 | Train Acc: 72.06% | Val. Loss: 0.432 | Val. Acc: 73.28% |\n",
      "| Epoch: 0090 | Train Loss: 0.437 | Train Acc: 71.96% | Val. Loss: 0.420 | Val. Acc: 74.14% |\n",
      "| Epoch: 0100 | Train Loss: 0.437 | Train Acc: 72.34% | Val. Loss: 0.425 | Val. Acc: 72.52% |\n"
     ]
    },
    {
     "data": {
      "text/html": [
       "<br/>Waiting for W&B process to finish, PID 18944<br/>Program ended successfully."
      ],
      "text/plain": [
       "<IPython.core.display.HTML object>"
      ]
     },
     "metadata": {},
     "output_type": "display_data"
    },
    {
     "data": {
      "application/vnd.jupyter.widget-view+json": {
       "model_id": "16706d60d02541ce9196cf5bee66bf8a",
       "version_major": 2,
       "version_minor": 0
      },
      "text/plain": [
       "VBox(children=(Label(value=' 0.00MB of 0.00MB uploaded (0.00MB deduped)\\r'), FloatProgress(value=1.0, max=1.0)…"
      ]
     },
     "metadata": {},
     "output_type": "display_data"
    },
    {
     "data": {
      "text/html": [
       "Find user logs for this run at: <code>c:\\python\\anaconda_base\\pytorch-tutorial\\wandb\\run-20211003_220225-kspx0cw6\\logs\\debug.log</code>"
      ],
      "text/plain": [
       "<IPython.core.display.HTML object>"
      ]
     },
     "metadata": {},
     "output_type": "display_data"
    },
    {
     "data": {
      "text/html": [
       "Find internal logs for this run at: <code>c:\\python\\anaconda_base\\pytorch-tutorial\\wandb\\run-20211003_220225-kspx0cw6\\logs\\debug-internal.log</code>"
      ],
      "text/plain": [
       "<IPython.core.display.HTML object>"
      ]
     },
     "metadata": {},
     "output_type": "display_data"
    },
    {
     "data": {
      "text/html": [
       "<h3>Run summary:</h3><br/><style>\n",
       "    table.wandb td:nth-child(1) { padding: 0 10px; text-align: right }\n",
       "    </style><table class=\"wandb\">\n",
       "<tr><td>train_loss</td><td>0.4373</td></tr><tr><td>train_acc</td><td>0.72343</td></tr><tr><td>valid_loss</td><td>0.42453</td></tr><tr><td>valid_acc</td><td>0.72522</td></tr><tr><td>lr</td><td>0.005</td></tr><tr><td>epoch_time</td><td>0.19026</td></tr><tr><td>_runtime</td><td>29</td></tr><tr><td>_timestamp</td><td>1633291374</td></tr><tr><td>_step</td><td>99</td></tr><tr><td>accuracy</td><td>0.73</td></tr><tr><td>prec</td><td>0.39815</td></tr><tr><td>recall</td><td>0.63235</td></tr><tr><td>f1</td><td>0.48864</td></tr></table>"
      ],
      "text/plain": [
       "<IPython.core.display.HTML object>"
      ]
     },
     "metadata": {},
     "output_type": "display_data"
    },
    {
     "data": {
      "text/html": [
       "<h3>Run history:</h3><br/><style>\n",
       "    table.wandb td:nth-child(1) { padding: 0 10px; text-align: right }\n",
       "    </style><table class=\"wandb\">\n",
       "<tr><td>train_loss</td><td>█▄▂▂▂▁▂▁▁▁▁▁▁▁▁▁▁▁▁▁▁▁▁▁▁▁▁▁▁▁▁▁▁▁▁▁▁▁▁▁</td></tr><tr><td>train_acc</td><td>▁▆▇▇▇▇▇▇████████████████████████████████</td></tr><tr><td>valid_loss</td><td>█▄▄▄▂▂▄▃▂▂▂▂▂▂▂▁▂▁▂▂▂▂▃▁▃▂▃▂▄▂▂▃▂▁▅▂▂▂▂▂</td></tr><tr><td>valid_acc</td><td>▁▄▄▆▆▆▆▆▆▇▆▆▇▇▆▇▆▇▆▇▇▆█▆▆▇▇█▆▇▇▇▇█▇█▇▇▇▇</td></tr><tr><td>lr</td><td>▁▁▁▁▁▁▁▁▁▁▁▁▁▁▁▁▁▁▁▁▁▁▁▁▁▁▁▁▁▁▁▁▁▁▁▁▁▁▁▁</td></tr><tr><td>epoch_time</td><td>▃▅▅█▅▄▆▆▇▅▄▅▄▄▄▅▆▆▇▆▅▅▆▆▄▅▂▁▂▃▃▃▂▂▁▂▂▁▂▁</td></tr><tr><td>_runtime</td><td>▁▁▂▂▂▂▂▂▃▃▃▃▃▄▄▄▄▄▅▅▅▅▅▆▆▆▆▆▆▇▇▇▇▇▇▇████</td></tr><tr><td>_timestamp</td><td>▁▁▂▂▂▂▂▂▃▃▃▃▃▄▄▄▄▄▅▅▅▅▅▆▆▆▆▆▆▇▇▇▇▇▇▇████</td></tr><tr><td>_step</td><td>▁▁▁▁▂▂▂▂▂▃▃▃▃▃▃▄▄▄▄▄▅▅▅▅▅▅▆▆▆▆▆▇▇▇▇▇▇███</td></tr></table><br/>"
      ],
      "text/plain": [
       "<IPython.core.display.HTML object>"
      ]
     },
     "metadata": {},
     "output_type": "display_data"
    },
    {
     "data": {
      "text/html": [
       "Synced 5 W&B file(s), 0 media file(s), 0 artifact file(s) and 0 other file(s)"
      ],
      "text/plain": [
       "<IPython.core.display.HTML object>"
      ]
     },
     "metadata": {},
     "output_type": "display_data"
    },
    {
     "data": {
      "text/html": [
       "\n",
       "                    <br/>Synced <strong style=\"color:#cdcd00\">effortless-sweep-23</strong>: <a href=\"https://wandb.ai/teamtom/churn-class-imbalance-with-treshold01/runs/kspx0cw6\" target=\"_blank\">https://wandb.ai/teamtom/churn-class-imbalance-with-treshold01/runs/kspx0cw6</a><br/>\n",
       "                "
      ],
      "text/plain": [
       "<IPython.core.display.HTML object>"
      ]
     },
     "metadata": {},
     "output_type": "display_data"
    },
    {
     "name": "stderr",
     "output_type": "stream",
     "text": [
      "wandb: Agent Starting Run: 1zbbxzqv with config:\n",
      "wandb: \tbatch_size: 32\n",
      "wandb: \tepochs: 100\n",
      "wandb: \tlearning_rate: 0.005\n",
      "wandb: \tthreshold: 0.2473684210526316\n",
      "wandb: wandb version 0.12.3 is available!  To upgrade, please run:\n",
      "wandb:  $ pip install wandb --upgrade\n"
     ]
    },
    {
     "data": {
      "text/html": [
       "\n",
       "                Tracking run with wandb version 0.10.31<br/>\n",
       "                Syncing run <strong style=\"color:#cdcd00\">vital-sweep-24</strong> to <a href=\"https://wandb.ai\" target=\"_blank\">Weights & Biases</a> <a href=\"https://docs.wandb.com/integrations/jupyter.html\" target=\"_blank\">(Documentation)</a>.<br/>\n",
       "                Project page: <a href=\"https://wandb.ai/teamtom/churn-class-imbalance-with-treshold01\" target=\"_blank\">https://wandb.ai/teamtom/churn-class-imbalance-with-treshold01</a><br/>\n",
       "                Sweep page: <a href=\"https://wandb.ai/teamtom/churn-class-imbalance-with-treshold01/sweeps/d22sfkpk\" target=\"_blank\">https://wandb.ai/teamtom/churn-class-imbalance-with-treshold01/sweeps/d22sfkpk</a><br/>\n",
       "Run page: <a href=\"https://wandb.ai/teamtom/churn-class-imbalance-with-treshold01/runs/1zbbxzqv\" target=\"_blank\">https://wandb.ai/teamtom/churn-class-imbalance-with-treshold01/runs/1zbbxzqv</a><br/>\n",
       "                Run data is saved locally in <code>c:\\python\\anaconda_base\\pytorch-tutorial\\wandb\\run-20211003_220259-1zbbxzqv</code><br/><br/>\n",
       "            "
      ],
      "text/plain": [
       "<IPython.core.display.HTML object>"
      ]
     },
     "metadata": {},
     "output_type": "display_data"
    },
    {
     "name": "stdout",
     "output_type": "stream",
     "text": [
      "dataset size: 10000\n",
      "dataset samples shape: torch.Size([10000, 9])\n",
      "dataset classes shape: torch.Size([10000, 1])\n",
      "| Epoch: 0010 | Train Loss: 0.447 | Train Acc: 71.60% | Val. Loss: 0.428 | Val. Acc: 72.63% |\n",
      "| Epoch: 0020 | Train Loss: 0.439 | Train Acc: 72.93% | Val. Loss: 0.427 | Val. Acc: 72.84% |\n",
      "| Epoch: 0030 | Train Loss: 0.439 | Train Acc: 73.35% | Val. Loss: 0.418 | Val. Acc: 74.89% |\n",
      "| Epoch: 0040 | Train Loss: 0.438 | Train Acc: 73.28% | Val. Loss: 0.438 | Val. Acc: 74.25% |\n",
      "| Epoch: 0050 | Train Loss: 0.441 | Train Acc: 73.49% | Val. Loss: 0.450 | Val. Acc: 74.35% |\n",
      "| Epoch: 0060 | Train Loss: 0.437 | Train Acc: 74.02% | Val. Loss: 0.425 | Val. Acc: 75.97% |\n",
      "| Epoch: 0070 | Train Loss: 0.439 | Train Acc: 73.27% | Val. Loss: 0.427 | Val. Acc: 73.71% |\n",
      "| Epoch: 0080 | Train Loss: 0.437 | Train Acc: 73.61% | Val. Loss: 0.439 | Val. Acc: 71.44% |\n",
      "| Epoch: 0090 | Train Loss: 0.438 | Train Acc: 73.55% | Val. Loss: 0.419 | Val. Acc: 73.81% |\n",
      "| Epoch: 0100 | Train Loss: 0.440 | Train Acc: 73.93% | Val. Loss: 0.416 | Val. Acc: 74.35% |\n"
     ]
    },
    {
     "data": {
      "text/html": [
       "<br/>Waiting for W&B process to finish, PID 24256<br/>Program ended successfully."
      ],
      "text/plain": [
       "<IPython.core.display.HTML object>"
      ]
     },
     "metadata": {},
     "output_type": "display_data"
    },
    {
     "data": {
      "application/vnd.jupyter.widget-view+json": {
       "model_id": "0bf282dff56f4277bc65299192424ec4",
       "version_major": 2,
       "version_minor": 0
      },
      "text/plain": [
       "VBox(children=(Label(value=' 0.00MB of 0.00MB uploaded (0.00MB deduped)\\r'), FloatProgress(value=1.0, max=1.0)…"
      ]
     },
     "metadata": {},
     "output_type": "display_data"
    },
    {
     "data": {
      "text/html": [
       "Find user logs for this run at: <code>c:\\python\\anaconda_base\\pytorch-tutorial\\wandb\\run-20211003_220259-1zbbxzqv\\logs\\debug.log</code>"
      ],
      "text/plain": [
       "<IPython.core.display.HTML object>"
      ]
     },
     "metadata": {},
     "output_type": "display_data"
    },
    {
     "data": {
      "text/html": [
       "Find internal logs for this run at: <code>c:\\python\\anaconda_base\\pytorch-tutorial\\wandb\\run-20211003_220259-1zbbxzqv\\logs\\debug-internal.log</code>"
      ],
      "text/plain": [
       "<IPython.core.display.HTML object>"
      ]
     },
     "metadata": {},
     "output_type": "display_data"
    },
    {
     "data": {
      "text/html": [
       "<h3>Run summary:</h3><br/><style>\n",
       "    table.wandb td:nth-child(1) { padding: 0 10px; text-align: right }\n",
       "    </style><table class=\"wandb\">\n",
       "<tr><td>train_loss</td><td>0.44008</td></tr><tr><td>train_acc</td><td>0.7393</td></tr><tr><td>valid_loss</td><td>0.41564</td></tr><tr><td>valid_acc</td><td>0.74353</td></tr><tr><td>lr</td><td>0.005</td></tr><tr><td>epoch_time</td><td>0.22687</td></tr><tr><td>_runtime</td><td>29</td></tr><tr><td>_timestamp</td><td>1633291409</td></tr><tr><td>_step</td><td>99</td></tr><tr><td>accuracy</td><td>0.749</td></tr><tr><td>prec</td><td>0.4214</td></tr><tr><td>recall</td><td>0.61765</td></tr><tr><td>f1</td><td>0.50099</td></tr></table>"
      ],
      "text/plain": [
       "<IPython.core.display.HTML object>"
      ]
     },
     "metadata": {},
     "output_type": "display_data"
    },
    {
     "data": {
      "text/html": [
       "<h3>Run history:</h3><br/><style>\n",
       "    table.wandb td:nth-child(1) { padding: 0 10px; text-align: right }\n",
       "    </style><table class=\"wandb\">\n",
       "<tr><td>train_loss</td><td>█▄▂▂▂▁▁▁▁▁▁▁▁▁▁▁▁▁▁▁▁▁▁▁▁▁▁▁▁▁▁▁▁▁▁▁▁▁▁▁</td></tr><tr><td>train_acc</td><td>▁▇▇▇▇▇██████████████████████████████████</td></tr><tr><td>valid_loss</td><td>█▄▃▄▂▂▂▂▂▂▂▃▂▂▃▂▁▁▂▂▃▂▁▂▂▁▂▂▃▃▃▃▁▁▂▂▁▁▂▁</td></tr><tr><td>valid_acc</td><td>▁▆▆▇▇▆▅▇█▇▇▇▆▆▇▆▆█▆▇▇▇▇▇▇▆▇▅▅▆▆▄▇█▆▄▇█▇█</td></tr><tr><td>lr</td><td>▁▁▁▁▁▁▁▁▁▁▁▁▁▁▁▁▁▁▁▁▁▁▁▁▁▁▁▁▁▁▁▁▁▁▁▁▁▁▁▁</td></tr><tr><td>epoch_time</td><td>▄█▄▄▅▄▅▅▅▄▆▇▆▄▅▄▁▂▁▁▄▅▅▄▄▄▅▃▃▁▂▅▃▂▂▂▁▂▄▂</td></tr><tr><td>_runtime</td><td>▁▁▂▂▂▂▂▂▃▃▃▃▃▄▄▄▄▄▄▅▅▅▅▅▅▆▆▆▆▆▇▇▇▇▇▇▇███</td></tr><tr><td>_timestamp</td><td>▁▁▂▂▂▂▂▂▃▃▃▃▃▄▄▄▄▄▄▅▅▅▅▅▅▆▆▆▆▆▇▇▇▇▇▇▇███</td></tr><tr><td>_step</td><td>▁▁▁▁▂▂▂▂▂▃▃▃▃▃▃▄▄▄▄▄▅▅▅▅▅▅▆▆▆▆▆▇▇▇▇▇▇███</td></tr></table><br/>"
      ],
      "text/plain": [
       "<IPython.core.display.HTML object>"
      ]
     },
     "metadata": {},
     "output_type": "display_data"
    },
    {
     "data": {
      "text/html": [
       "Synced 5 W&B file(s), 0 media file(s), 0 artifact file(s) and 0 other file(s)"
      ],
      "text/plain": [
       "<IPython.core.display.HTML object>"
      ]
     },
     "metadata": {},
     "output_type": "display_data"
    },
    {
     "data": {
      "text/html": [
       "\n",
       "                    <br/>Synced <strong style=\"color:#cdcd00\">vital-sweep-24</strong>: <a href=\"https://wandb.ai/teamtom/churn-class-imbalance-with-treshold01/runs/1zbbxzqv\" target=\"_blank\">https://wandb.ai/teamtom/churn-class-imbalance-with-treshold01/runs/1zbbxzqv</a><br/>\n",
       "                "
      ],
      "text/plain": [
       "<IPython.core.display.HTML object>"
      ]
     },
     "metadata": {},
     "output_type": "display_data"
    },
    {
     "name": "stderr",
     "output_type": "stream",
     "text": [
      "wandb: Agent Starting Run: ssx6elw8 with config:\n",
      "wandb: \tbatch_size: 32\n",
      "wandb: \tepochs: 100\n",
      "wandb: \tlearning_rate: 0.005\n",
      "wandb: \tthreshold: 0.26315789473684215\n",
      "wandb: wandb version 0.12.3 is available!  To upgrade, please run:\n",
      "wandb:  $ pip install wandb --upgrade\n"
     ]
    },
    {
     "data": {
      "text/html": [
       "\n",
       "                Tracking run with wandb version 0.10.31<br/>\n",
       "                Syncing run <strong style=\"color:#cdcd00\">firm-sweep-25</strong> to <a href=\"https://wandb.ai\" target=\"_blank\">Weights & Biases</a> <a href=\"https://docs.wandb.com/integrations/jupyter.html\" target=\"_blank\">(Documentation)</a>.<br/>\n",
       "                Project page: <a href=\"https://wandb.ai/teamtom/churn-class-imbalance-with-treshold01\" target=\"_blank\">https://wandb.ai/teamtom/churn-class-imbalance-with-treshold01</a><br/>\n",
       "                Sweep page: <a href=\"https://wandb.ai/teamtom/churn-class-imbalance-with-treshold01/sweeps/d22sfkpk\" target=\"_blank\">https://wandb.ai/teamtom/churn-class-imbalance-with-treshold01/sweeps/d22sfkpk</a><br/>\n",
       "Run page: <a href=\"https://wandb.ai/teamtom/churn-class-imbalance-with-treshold01/runs/ssx6elw8\" target=\"_blank\">https://wandb.ai/teamtom/churn-class-imbalance-with-treshold01/runs/ssx6elw8</a><br/>\n",
       "                Run data is saved locally in <code>c:\\python\\anaconda_base\\pytorch-tutorial\\wandb\\run-20211003_220334-ssx6elw8</code><br/><br/>\n",
       "            "
      ],
      "text/plain": [
       "<IPython.core.display.HTML object>"
      ]
     },
     "metadata": {},
     "output_type": "display_data"
    },
    {
     "name": "stdout",
     "output_type": "stream",
     "text": [
      "dataset size: 10000\n",
      "dataset samples shape: torch.Size([10000, 9])\n",
      "dataset classes shape: torch.Size([10000, 1])\n",
      "| Epoch: 0010 | Train Loss: 0.446 | Train Acc: 73.77% | Val. Loss: 0.442 | Val. Acc: 70.80% |\n",
      "| Epoch: 0020 | Train Loss: 0.439 | Train Acc: 74.72% | Val. Loss: 0.431 | Val. Acc: 73.17% |\n",
      "| Epoch: 0030 | Train Loss: 0.438 | Train Acc: 74.99% | Val. Loss: 0.431 | Val. Acc: 74.57% |\n",
      "| Epoch: 0040 | Train Loss: 0.440 | Train Acc: 74.58% | Val. Loss: 0.420 | Val. Acc: 74.35% |\n",
      "| Epoch: 0050 | Train Loss: 0.437 | Train Acc: 75.62% | Val. Loss: 0.425 | Val. Acc: 73.38% |\n",
      "| Epoch: 0060 | Train Loss: 0.439 | Train Acc: 75.07% | Val. Loss: 0.425 | Val. Acc: 74.57% |\n",
      "| Epoch: 0070 | Train Loss: 0.438 | Train Acc: 75.12% | Val. Loss: 0.422 | Val. Acc: 74.03% |\n",
      "| Epoch: 0080 | Train Loss: 0.438 | Train Acc: 75.23% | Val. Loss: 0.428 | Val. Acc: 73.92% |\n",
      "| Epoch: 0090 | Train Loss: 0.438 | Train Acc: 75.00% | Val. Loss: 0.433 | Val. Acc: 72.31% |\n",
      "| Epoch: 0100 | Train Loss: 0.439 | Train Acc: 75.10% | Val. Loss: 0.438 | Val. Acc: 74.14% |\n"
     ]
    },
    {
     "data": {
      "text/html": [
       "<br/>Waiting for W&B process to finish, PID 21408<br/>Program ended successfully."
      ],
      "text/plain": [
       "<IPython.core.display.HTML object>"
      ]
     },
     "metadata": {},
     "output_type": "display_data"
    },
    {
     "data": {
      "application/vnd.jupyter.widget-view+json": {
       "model_id": "fa572be8df9c4738b58044fcac6ac63b",
       "version_major": 2,
       "version_minor": 0
      },
      "text/plain": [
       "VBox(children=(Label(value=' 0.00MB of 0.00MB uploaded (0.00MB deduped)\\r'), FloatProgress(value=1.0, max=1.0)…"
      ]
     },
     "metadata": {},
     "output_type": "display_data"
    },
    {
     "data": {
      "text/html": [
       "Find user logs for this run at: <code>c:\\python\\anaconda_base\\pytorch-tutorial\\wandb\\run-20211003_220334-ssx6elw8\\logs\\debug.log</code>"
      ],
      "text/plain": [
       "<IPython.core.display.HTML object>"
      ]
     },
     "metadata": {},
     "output_type": "display_data"
    },
    {
     "data": {
      "text/html": [
       "Find internal logs for this run at: <code>c:\\python\\anaconda_base\\pytorch-tutorial\\wandb\\run-20211003_220334-ssx6elw8\\logs\\debug-internal.log</code>"
      ],
      "text/plain": [
       "<IPython.core.display.HTML object>"
      ]
     },
     "metadata": {},
     "output_type": "display_data"
    },
    {
     "data": {
      "text/html": [
       "<h3>Run summary:</h3><br/><style>\n",
       "    table.wandb td:nth-child(1) { padding: 0 10px; text-align: right }\n",
       "    </style><table class=\"wandb\">\n",
       "<tr><td>train_loss</td><td>0.43858</td></tr><tr><td>train_acc</td><td>0.75098</td></tr><tr><td>valid_loss</td><td>0.4379</td></tr><tr><td>valid_acc</td><td>0.74138</td></tr><tr><td>lr</td><td>0.005</td></tr><tr><td>epoch_time</td><td>0.18864</td></tr><tr><td>_runtime</td><td>30</td></tr><tr><td>_timestamp</td><td>1633291444</td></tr><tr><td>_step</td><td>99</td></tr><tr><td>accuracy</td><td>0.773</td></tr><tr><td>prec</td><td>0.45525</td></tr><tr><td>recall</td><td>0.57353</td></tr><tr><td>f1</td><td>0.50759</td></tr></table>"
      ],
      "text/plain": [
       "<IPython.core.display.HTML object>"
      ]
     },
     "metadata": {},
     "output_type": "display_data"
    },
    {
     "data": {
      "text/html": [
       "<h3>Run history:</h3><br/><style>\n",
       "    table.wandb td:nth-child(1) { padding: 0 10px; text-align: right }\n",
       "    </style><table class=\"wandb\">\n",
       "<tr><td>train_loss</td><td>█▄▃▂▂▁▂▁▁▁▁▁▁▁▁▁▁▁▁▁▁▁▁▁▁▁▁▁▁▁▁▁▁▁▁▁▁▁▁▁</td></tr><tr><td>train_acc</td><td>▁▆▇▇▇▇▇▇██▇█████████████████████████████</td></tr><tr><td>valid_loss</td><td>█▅▅▅▂▃▂▄▃▂▂▂▄▃▃▂▂▂▂▂▂▂▃▁▂▂▁▃▂▃▄▃▂▃▃▂▁▁▂▃</td></tr><tr><td>valid_acc</td><td>▁▆▅▂█▂▆▄▂▂▇█▃▄▅▇▃▆▆▇▃▆▄▇▅▇▆▇▅▅▃▆▂▆▅▃▇▆▄▅</td></tr><tr><td>lr</td><td>▁▁▁▁▁▁▁▁▁▁▁▁▁▁▁▁▁▁▁▁▁▁▁▁▁▁▁▁▁▁▁▁▁▁▁▁▁▁▁▁</td></tr><tr><td>epoch_time</td><td>▂▁▃▃▃▃▄▄▄▅▃▄▃█▃▃▃▄▃▃▄▂▃▄▃▄▃▂▁▁▂▂▂▄▂▁▂▂▂▁</td></tr><tr><td>_runtime</td><td>▁▁▁▁▂▂▂▂▃▃▃▃▃▄▄▄▄▅▅▅▅▅▅▅▆▆▆▆▇▇▇▇▇▇▇▇████</td></tr><tr><td>_timestamp</td><td>▁▁▁▁▂▂▂▂▃▃▃▃▃▄▄▄▄▅▅▅▅▅▅▅▆▆▆▆▇▇▇▇▇▇▇▇████</td></tr><tr><td>_step</td><td>▁▁▁▁▂▂▂▂▂▃▃▃▃▃▃▄▄▄▄▄▅▅▅▅▅▅▆▆▆▆▆▇▇▇▇▇▇███</td></tr></table><br/>"
      ],
      "text/plain": [
       "<IPython.core.display.HTML object>"
      ]
     },
     "metadata": {},
     "output_type": "display_data"
    },
    {
     "data": {
      "text/html": [
       "Synced 5 W&B file(s), 0 media file(s), 0 artifact file(s) and 0 other file(s)"
      ],
      "text/plain": [
       "<IPython.core.display.HTML object>"
      ]
     },
     "metadata": {},
     "output_type": "display_data"
    },
    {
     "data": {
      "text/html": [
       "\n",
       "                    <br/>Synced <strong style=\"color:#cdcd00\">firm-sweep-25</strong>: <a href=\"https://wandb.ai/teamtom/churn-class-imbalance-with-treshold01/runs/ssx6elw8\" target=\"_blank\">https://wandb.ai/teamtom/churn-class-imbalance-with-treshold01/runs/ssx6elw8</a><br/>\n",
       "                "
      ],
      "text/plain": [
       "<IPython.core.display.HTML object>"
      ]
     },
     "metadata": {},
     "output_type": "display_data"
    },
    {
     "name": "stderr",
     "output_type": "stream",
     "text": [
      "wandb: Agent Starting Run: jiea60pu with config:\n",
      "wandb: \tbatch_size: 32\n",
      "wandb: \tepochs: 100\n",
      "wandb: \tlearning_rate: 0.005\n",
      "wandb: \tthreshold: 0.2789473684210526\n",
      "wandb: wandb version 0.12.3 is available!  To upgrade, please run:\n",
      "wandb:  $ pip install wandb --upgrade\n"
     ]
    },
    {
     "data": {
      "text/html": [
       "\n",
       "                Tracking run with wandb version 0.10.31<br/>\n",
       "                Syncing run <strong style=\"color:#cdcd00\">vital-sweep-26</strong> to <a href=\"https://wandb.ai\" target=\"_blank\">Weights & Biases</a> <a href=\"https://docs.wandb.com/integrations/jupyter.html\" target=\"_blank\">(Documentation)</a>.<br/>\n",
       "                Project page: <a href=\"https://wandb.ai/teamtom/churn-class-imbalance-with-treshold01\" target=\"_blank\">https://wandb.ai/teamtom/churn-class-imbalance-with-treshold01</a><br/>\n",
       "                Sweep page: <a href=\"https://wandb.ai/teamtom/churn-class-imbalance-with-treshold01/sweeps/d22sfkpk\" target=\"_blank\">https://wandb.ai/teamtom/churn-class-imbalance-with-treshold01/sweeps/d22sfkpk</a><br/>\n",
       "Run page: <a href=\"https://wandb.ai/teamtom/churn-class-imbalance-with-treshold01/runs/jiea60pu\" target=\"_blank\">https://wandb.ai/teamtom/churn-class-imbalance-with-treshold01/runs/jiea60pu</a><br/>\n",
       "                Run data is saved locally in <code>c:\\python\\anaconda_base\\pytorch-tutorial\\wandb\\run-20211003_220409-jiea60pu</code><br/><br/>\n",
       "            "
      ],
      "text/plain": [
       "<IPython.core.display.HTML object>"
      ]
     },
     "metadata": {},
     "output_type": "display_data"
    },
    {
     "name": "stdout",
     "output_type": "stream",
     "text": [
      "dataset size: 10000\n",
      "dataset samples shape: torch.Size([10000, 9])\n",
      "dataset classes shape: torch.Size([10000, 1])\n",
      "| Epoch: 0010 | Train Loss: 0.446 | Train Acc: 74.77% | Val. Loss: 0.433 | Val. Acc: 76.40% |\n",
      "| Epoch: 0020 | Train Loss: 0.440 | Train Acc: 75.70% | Val. Loss: 0.427 | Val. Acc: 73.92% |\n",
      "| Epoch: 0030 | Train Loss: 0.442 | Train Acc: 75.65% | Val. Loss: 0.437 | Val. Acc: 75.22% |\n",
      "| Epoch: 0040 | Train Loss: 0.439 | Train Acc: 75.89% | Val. Loss: 0.429 | Val. Acc: 74.68% |\n",
      "| Epoch: 0050 | Train Loss: 0.438 | Train Acc: 76.18% | Val. Loss: 0.422 | Val. Acc: 75.65% |\n",
      "| Epoch: 0060 | Train Loss: 0.440 | Train Acc: 75.76% | Val. Loss: 0.431 | Val. Acc: 75.75% |\n",
      "| Epoch: 0070 | Train Loss: 0.440 | Train Acc: 75.95% | Val. Loss: 0.420 | Val. Acc: 75.11% |\n",
      "| Epoch: 0080 | Train Loss: 0.439 | Train Acc: 75.86% | Val. Loss: 0.416 | Val. Acc: 76.19% |\n",
      "| Epoch: 0090 | Train Loss: 0.439 | Train Acc: 76.06% | Val. Loss: 0.416 | Val. Acc: 75.97% |\n",
      "| Epoch: 0100 | Train Loss: 0.439 | Train Acc: 76.33% | Val. Loss: 0.437 | Val. Acc: 74.25% |\n"
     ]
    },
    {
     "data": {
      "text/html": [
       "<br/>Waiting for W&B process to finish, PID 15452<br/>Program ended successfully."
      ],
      "text/plain": [
       "<IPython.core.display.HTML object>"
      ]
     },
     "metadata": {},
     "output_type": "display_data"
    },
    {
     "data": {
      "application/vnd.jupyter.widget-view+json": {
       "model_id": "fea52c15a4394f5ab34126e3f920cb49",
       "version_major": 2,
       "version_minor": 0
      },
      "text/plain": [
       "VBox(children=(Label(value=' 0.00MB of 0.00MB uploaded (0.00MB deduped)\\r'), FloatProgress(value=1.0, max=1.0)…"
      ]
     },
     "metadata": {},
     "output_type": "display_data"
    },
    {
     "data": {
      "text/html": [
       "Find user logs for this run at: <code>c:\\python\\anaconda_base\\pytorch-tutorial\\wandb\\run-20211003_220409-jiea60pu\\logs\\debug.log</code>"
      ],
      "text/plain": [
       "<IPython.core.display.HTML object>"
      ]
     },
     "metadata": {},
     "output_type": "display_data"
    },
    {
     "data": {
      "text/html": [
       "Find internal logs for this run at: <code>c:\\python\\anaconda_base\\pytorch-tutorial\\wandb\\run-20211003_220409-jiea60pu\\logs\\debug-internal.log</code>"
      ],
      "text/plain": [
       "<IPython.core.display.HTML object>"
      ]
     },
     "metadata": {},
     "output_type": "display_data"
    },
    {
     "data": {
      "text/html": [
       "<h3>Run summary:</h3><br/><style>\n",
       "    table.wandb td:nth-child(1) { padding: 0 10px; text-align: right }\n",
       "    </style><table class=\"wandb\">\n",
       "<tr><td>train_loss</td><td>0.43882</td></tr><tr><td>train_acc</td><td>0.76329</td></tr><tr><td>valid_loss</td><td>0.43733</td></tr><tr><td>valid_acc</td><td>0.74246</td></tr><tr><td>lr</td><td>0.005</td></tr><tr><td>epoch_time</td><td>0.20347</td></tr><tr><td>_runtime</td><td>30</td></tr><tr><td>_timestamp</td><td>1633291479</td></tr><tr><td>_step</td><td>99</td></tr><tr><td>accuracy</td><td>0.763</td></tr><tr><td>prec</td><td>0.43956</td></tr><tr><td>recall</td><td>0.58824</td></tr><tr><td>f1</td><td>0.50314</td></tr></table>"
      ],
      "text/plain": [
       "<IPython.core.display.HTML object>"
      ]
     },
     "metadata": {},
     "output_type": "display_data"
    },
    {
     "data": {
      "text/html": [
       "<h3>Run history:</h3><br/><style>\n",
       "    table.wandb td:nth-child(1) { padding: 0 10px; text-align: right }\n",
       "    </style><table class=\"wandb\">\n",
       "<tr><td>train_loss</td><td>█▄▂▂▁▁▁▁▁▁▁▁▁▁▁▁▁▁▁▁▁▁▁▁▁▁▁▁▁▁▁▁▁▁▁▁▁▁▁▁</td></tr><tr><td>train_acc</td><td>▁▇▇▇████████████████████████████████████</td></tr><tr><td>valid_loss</td><td>█▆▄▃▂▃▃▁▁▂▂▂▁▂▂▃▃▁▅▂▃▁▃▂▂▃▂▁▃▂▁▂▂▁▃▃▂▂▁▃</td></tr><tr><td>valid_acc</td><td>▃▆█▄▁▃▅▆▆▆▅▆▆▅▆▅▄▆▂▆▅▆▁▃▁▃▆▄▄▅▆▄▅▅▄▄▅▆▄▃</td></tr><tr><td>lr</td><td>▁▁▁▁▁▁▁▁▁▁▁▁▁▁▁▁▁▁▁▁▁▁▁▁▁▁▁▁▁▁▁▁▁▁▁▁▁▁▁▁</td></tr><tr><td>epoch_time</td><td>▂▄▄▃▃█▆▇▆▄▄▄▄▄▄▅▄▄▄▄▄▄▂▄▃▆▅▆▄▂▂▃▂▄▂▂▂▁▂▁</td></tr><tr><td>_runtime</td><td>▁▁▁▁▂▂▂▃▃▃▃▃▃▃▄▄▄▄▅▅▅▅▅▅▅▆▆▆▇▇▇▇▇▇▇▇▇███</td></tr><tr><td>_timestamp</td><td>▁▁▁▁▂▂▂▃▃▃▃▃▃▃▄▄▄▄▅▅▅▅▅▅▅▆▆▆▇▇▇▇▇▇▇▇▇███</td></tr><tr><td>_step</td><td>▁▁▁▁▂▂▂▂▂▃▃▃▃▃▃▄▄▄▄▄▅▅▅▅▅▅▆▆▆▆▆▇▇▇▇▇▇███</td></tr></table><br/>"
      ],
      "text/plain": [
       "<IPython.core.display.HTML object>"
      ]
     },
     "metadata": {},
     "output_type": "display_data"
    },
    {
     "data": {
      "text/html": [
       "Synced 5 W&B file(s), 0 media file(s), 0 artifact file(s) and 0 other file(s)"
      ],
      "text/plain": [
       "<IPython.core.display.HTML object>"
      ]
     },
     "metadata": {},
     "output_type": "display_data"
    },
    {
     "data": {
      "text/html": [
       "\n",
       "                    <br/>Synced <strong style=\"color:#cdcd00\">vital-sweep-26</strong>: <a href=\"https://wandb.ai/teamtom/churn-class-imbalance-with-treshold01/runs/jiea60pu\" target=\"_blank\">https://wandb.ai/teamtom/churn-class-imbalance-with-treshold01/runs/jiea60pu</a><br/>\n",
       "                "
      ],
      "text/plain": [
       "<IPython.core.display.HTML object>"
      ]
     },
     "metadata": {},
     "output_type": "display_data"
    },
    {
     "name": "stderr",
     "output_type": "stream",
     "text": [
      "wandb: Agent Starting Run: 1l5g576s with config:\n",
      "wandb: \tbatch_size: 32\n",
      "wandb: \tepochs: 100\n",
      "wandb: \tlearning_rate: 0.005\n",
      "wandb: \tthreshold: 0.2947368421052632\n",
      "wandb: wandb version 0.12.3 is available!  To upgrade, please run:\n",
      "wandb:  $ pip install wandb --upgrade\n"
     ]
    },
    {
     "data": {
      "text/html": [
       "\n",
       "                Tracking run with wandb version 0.10.31<br/>\n",
       "                Syncing run <strong style=\"color:#cdcd00\">vital-sweep-27</strong> to <a href=\"https://wandb.ai\" target=\"_blank\">Weights & Biases</a> <a href=\"https://docs.wandb.com/integrations/jupyter.html\" target=\"_blank\">(Documentation)</a>.<br/>\n",
       "                Project page: <a href=\"https://wandb.ai/teamtom/churn-class-imbalance-with-treshold01\" target=\"_blank\">https://wandb.ai/teamtom/churn-class-imbalance-with-treshold01</a><br/>\n",
       "                Sweep page: <a href=\"https://wandb.ai/teamtom/churn-class-imbalance-with-treshold01/sweeps/d22sfkpk\" target=\"_blank\">https://wandb.ai/teamtom/churn-class-imbalance-with-treshold01/sweeps/d22sfkpk</a><br/>\n",
       "Run page: <a href=\"https://wandb.ai/teamtom/churn-class-imbalance-with-treshold01/runs/1l5g576s\" target=\"_blank\">https://wandb.ai/teamtom/churn-class-imbalance-with-treshold01/runs/1l5g576s</a><br/>\n",
       "                Run data is saved locally in <code>c:\\python\\anaconda_base\\pytorch-tutorial\\wandb\\run-20211003_220444-1l5g576s</code><br/><br/>\n",
       "            "
      ],
      "text/plain": [
       "<IPython.core.display.HTML object>"
      ]
     },
     "metadata": {},
     "output_type": "display_data"
    },
    {
     "name": "stdout",
     "output_type": "stream",
     "text": [
      "dataset size: 10000\n",
      "dataset samples shape: torch.Size([10000, 9])\n",
      "dataset classes shape: torch.Size([10000, 1])\n",
      "| Epoch: 0010 | Train Loss: 0.448 | Train Acc: 76.40% | Val. Loss: 0.445 | Val. Acc: 74.68% |\n",
      "| Epoch: 0020 | Train Loss: 0.439 | Train Acc: 76.67% | Val. Loss: 0.432 | Val. Acc: 75.65% |\n",
      "| Epoch: 0030 | Train Loss: 0.439 | Train Acc: 76.72% | Val. Loss: 0.426 | Val. Acc: 74.46% |\n",
      "| Epoch: 0040 | Train Loss: 0.439 | Train Acc: 76.93% | Val. Loss: 0.432 | Val. Acc: 75.22% |\n",
      "| Epoch: 0050 | Train Loss: 0.439 | Train Acc: 77.05% | Val. Loss: 0.423 | Val. Acc: 76.08% |\n",
      "| Epoch: 0060 | Train Loss: 0.438 | Train Acc: 77.01% | Val. Loss: 0.418 | Val. Acc: 75.32% |\n",
      "| Epoch: 0070 | Train Loss: 0.437 | Train Acc: 76.97% | Val. Loss: 0.436 | Val. Acc: 74.78% |\n",
      "| Epoch: 0080 | Train Loss: 0.437 | Train Acc: 77.24% | Val. Loss: 0.435 | Val. Acc: 75.00% |\n",
      "| Epoch: 0090 | Train Loss: 0.441 | Train Acc: 77.10% | Val. Loss: 0.428 | Val. Acc: 74.14% |\n",
      "| Epoch: 0100 | Train Loss: 0.438 | Train Acc: 77.47% | Val. Loss: 0.430 | Val. Acc: 75.11% |\n"
     ]
    },
    {
     "data": {
      "text/html": [
       "<br/>Waiting for W&B process to finish, PID 18236<br/>Program ended successfully."
      ],
      "text/plain": [
       "<IPython.core.display.HTML object>"
      ]
     },
     "metadata": {},
     "output_type": "display_data"
    },
    {
     "data": {
      "application/vnd.jupyter.widget-view+json": {
       "model_id": "ef1838d19c154ea598c1a392f84a12df",
       "version_major": 2,
       "version_minor": 0
      },
      "text/plain": [
       "VBox(children=(Label(value=' 0.00MB of 0.00MB uploaded (0.00MB deduped)\\r'), FloatProgress(value=1.0, max=1.0)…"
      ]
     },
     "metadata": {},
     "output_type": "display_data"
    },
    {
     "data": {
      "text/html": [
       "Find user logs for this run at: <code>c:\\python\\anaconda_base\\pytorch-tutorial\\wandb\\run-20211003_220444-1l5g576s\\logs\\debug.log</code>"
      ],
      "text/plain": [
       "<IPython.core.display.HTML object>"
      ]
     },
     "metadata": {},
     "output_type": "display_data"
    },
    {
     "data": {
      "text/html": [
       "Find internal logs for this run at: <code>c:\\python\\anaconda_base\\pytorch-tutorial\\wandb\\run-20211003_220444-1l5g576s\\logs\\debug-internal.log</code>"
      ],
      "text/plain": [
       "<IPython.core.display.HTML object>"
      ]
     },
     "metadata": {},
     "output_type": "display_data"
    },
    {
     "data": {
      "text/html": [
       "<h3>Run summary:</h3><br/><style>\n",
       "    table.wandb td:nth-child(1) { padding: 0 10px; text-align: right }\n",
       "    </style><table class=\"wandb\">\n",
       "<tr><td>train_loss</td><td>0.4381</td></tr><tr><td>train_acc</td><td>0.77473</td></tr><tr><td>valid_loss</td><td>0.42971</td></tr><tr><td>valid_acc</td><td>0.75108</td></tr><tr><td>lr</td><td>0.005</td></tr><tr><td>epoch_time</td><td>0.2457</td></tr><tr><td>_runtime</td><td>30</td></tr><tr><td>_timestamp</td><td>1633291514</td></tr><tr><td>_step</td><td>99</td></tr><tr><td>accuracy</td><td>0.775</td></tr><tr><td>prec</td><td>0.45749</td></tr><tr><td>recall</td><td>0.55392</td></tr><tr><td>f1</td><td>0.50111</td></tr></table>"
      ],
      "text/plain": [
       "<IPython.core.display.HTML object>"
      ]
     },
     "metadata": {},
     "output_type": "display_data"
    },
    {
     "data": {
      "text/html": [
       "<h3>Run history:</h3><br/><style>\n",
       "    table.wandb td:nth-child(1) { padding: 0 10px; text-align: right }\n",
       "    </style><table class=\"wandb\">\n",
       "<tr><td>train_loss</td><td>█▄▃▂▂▁▁▁▁▁▁▁▁▁▁▁▁▁▁▁▁▁▁▁▁▁▁▁▁▁▁▁▁▁▁▁▁▁▁▁</td></tr><tr><td>train_acc</td><td>▁▇▇▇▇█▇█████████████████████████████████</td></tr><tr><td>valid_loss</td><td>█▇▃▄▃▂▄▄▂▂▃▁▁▃▂▃▁▁▁▁▁▂▃▂▂▂▂▁▃▄▁▂▁▂▂▄▂▁▃▂</td></tr><tr><td>valid_acc</td><td>▃▄▇▂▃▄▆▅▅▇▂▄▄▄▇▄▇▅▅▆█▄▃▃▅▅▆▆▆▃▅▁▆▇▆▅▅▄▃▄</td></tr><tr><td>lr</td><td>▁▁▁▁▁▁▁▁▁▁▁▁▁▁▁▁▁▁▁▁▁▁▁▁▁▁▁▁▁▁▁▁▁▁▁▁▁▁▁▁</td></tr><tr><td>epoch_time</td><td>▅▇▄▄▅▄▄▄▅▅█▃▇▅▇▆▄▂▃▂▂▄▅▄▅▅▄▃▄▄▁▂▂▂▁▂▂▂▁▃</td></tr><tr><td>_runtime</td><td>▁▁▁▂▂▂▂▂▂▃▃▃▃▄▄▄▄▄▄▅▅▅▅▅▅▆▆▆▆▆▇▇▇▇▇▇▇███</td></tr><tr><td>_timestamp</td><td>▁▁▁▂▂▂▂▂▂▃▃▃▃▄▄▄▄▄▄▅▅▅▅▅▅▆▆▆▆▆▇▇▇▇▇▇▇███</td></tr><tr><td>_step</td><td>▁▁▁▁▂▂▂▂▂▃▃▃▃▃▃▄▄▄▄▄▅▅▅▅▅▅▆▆▆▆▆▇▇▇▇▇▇███</td></tr></table><br/>"
      ],
      "text/plain": [
       "<IPython.core.display.HTML object>"
      ]
     },
     "metadata": {},
     "output_type": "display_data"
    },
    {
     "data": {
      "text/html": [
       "Synced 5 W&B file(s), 0 media file(s), 0 artifact file(s) and 0 other file(s)"
      ],
      "text/plain": [
       "<IPython.core.display.HTML object>"
      ]
     },
     "metadata": {},
     "output_type": "display_data"
    },
    {
     "data": {
      "text/html": [
       "\n",
       "                    <br/>Synced <strong style=\"color:#cdcd00\">vital-sweep-27</strong>: <a href=\"https://wandb.ai/teamtom/churn-class-imbalance-with-treshold01/runs/1l5g576s\" target=\"_blank\">https://wandb.ai/teamtom/churn-class-imbalance-with-treshold01/runs/1l5g576s</a><br/>\n",
       "                "
      ],
      "text/plain": [
       "<IPython.core.display.HTML object>"
      ]
     },
     "metadata": {},
     "output_type": "display_data"
    },
    {
     "name": "stderr",
     "output_type": "stream",
     "text": [
      "wandb: Agent Starting Run: 4x9i0bth with config:\n",
      "wandb: \tbatch_size: 32\n",
      "wandb: \tepochs: 100\n",
      "wandb: \tlearning_rate: 0.005\n",
      "wandb: \tthreshold: 0.3105263157894737\n",
      "wandb: wandb version 0.12.3 is available!  To upgrade, please run:\n",
      "wandb:  $ pip install wandb --upgrade\n"
     ]
    },
    {
     "data": {
      "text/html": [
       "\n",
       "                Tracking run with wandb version 0.10.31<br/>\n",
       "                Syncing run <strong style=\"color:#cdcd00\">zesty-sweep-28</strong> to <a href=\"https://wandb.ai\" target=\"_blank\">Weights & Biases</a> <a href=\"https://docs.wandb.com/integrations/jupyter.html\" target=\"_blank\">(Documentation)</a>.<br/>\n",
       "                Project page: <a href=\"https://wandb.ai/teamtom/churn-class-imbalance-with-treshold01\" target=\"_blank\">https://wandb.ai/teamtom/churn-class-imbalance-with-treshold01</a><br/>\n",
       "                Sweep page: <a href=\"https://wandb.ai/teamtom/churn-class-imbalance-with-treshold01/sweeps/d22sfkpk\" target=\"_blank\">https://wandb.ai/teamtom/churn-class-imbalance-with-treshold01/sweeps/d22sfkpk</a><br/>\n",
       "Run page: <a href=\"https://wandb.ai/teamtom/churn-class-imbalance-with-treshold01/runs/4x9i0bth\" target=\"_blank\">https://wandb.ai/teamtom/churn-class-imbalance-with-treshold01/runs/4x9i0bth</a><br/>\n",
       "                Run data is saved locally in <code>c:\\python\\anaconda_base\\pytorch-tutorial\\wandb\\run-20211003_220518-4x9i0bth</code><br/><br/>\n",
       "            "
      ],
      "text/plain": [
       "<IPython.core.display.HTML object>"
      ]
     },
     "metadata": {},
     "output_type": "display_data"
    },
    {
     "name": "stdout",
     "output_type": "stream",
     "text": [
      "dataset size: 10000\n",
      "dataset samples shape: torch.Size([10000, 9])\n",
      "dataset classes shape: torch.Size([10000, 1])\n",
      "| Epoch: 0010 | Train Loss: 0.444 | Train Acc: 77.49% | Val. Loss: 0.427 | Val. Acc: 76.94% |\n",
      "| Epoch: 0020 | Train Loss: 0.439 | Train Acc: 77.62% | Val. Loss: 0.437 | Val. Acc: 76.29% |\n",
      "| Epoch: 0030 | Train Loss: 0.438 | Train Acc: 77.76% | Val. Loss: 0.420 | Val. Acc: 76.94% |\n",
      "| Epoch: 0040 | Train Loss: 0.437 | Train Acc: 77.98% | Val. Loss: 0.419 | Val. Acc: 76.83% |\n",
      "| Epoch: 0050 | Train Loss: 0.439 | Train Acc: 77.99% | Val. Loss: 0.423 | Val. Acc: 75.86% |\n",
      "| Epoch: 0060 | Train Loss: 0.438 | Train Acc: 77.89% | Val. Loss: 0.427 | Val. Acc: 78.23% |\n",
      "| Epoch: 0070 | Train Loss: 0.439 | Train Acc: 78.09% | Val. Loss: 0.437 | Val. Acc: 75.43% |\n",
      "| Epoch: 0080 | Train Loss: 0.438 | Train Acc: 77.93% | Val. Loss: 0.437 | Val. Acc: 75.43% |\n",
      "| Epoch: 0090 | Train Loss: 0.437 | Train Acc: 77.88% | Val. Loss: 0.440 | Val. Acc: 76.29% |\n",
      "| Epoch: 0100 | Train Loss: 0.439 | Train Acc: 77.97% | Val. Loss: 0.416 | Val. Acc: 78.12% |\n"
     ]
    },
    {
     "data": {
      "text/html": [
       "<br/>Waiting for W&B process to finish, PID 20308<br/>Program ended successfully."
      ],
      "text/plain": [
       "<IPython.core.display.HTML object>"
      ]
     },
     "metadata": {},
     "output_type": "display_data"
    },
    {
     "data": {
      "application/vnd.jupyter.widget-view+json": {
       "model_id": "8530811a0b7741a1b1f710696b26a117",
       "version_major": 2,
       "version_minor": 0
      },
      "text/plain": [
       "VBox(children=(Label(value=' 0.00MB of 0.00MB uploaded (0.00MB deduped)\\r'), FloatProgress(value=1.0, max=1.0)…"
      ]
     },
     "metadata": {},
     "output_type": "display_data"
    },
    {
     "data": {
      "text/html": [
       "Find user logs for this run at: <code>c:\\python\\anaconda_base\\pytorch-tutorial\\wandb\\run-20211003_220518-4x9i0bth\\logs\\debug.log</code>"
      ],
      "text/plain": [
       "<IPython.core.display.HTML object>"
      ]
     },
     "metadata": {},
     "output_type": "display_data"
    },
    {
     "data": {
      "text/html": [
       "Find internal logs for this run at: <code>c:\\python\\anaconda_base\\pytorch-tutorial\\wandb\\run-20211003_220518-4x9i0bth\\logs\\debug-internal.log</code>"
      ],
      "text/plain": [
       "<IPython.core.display.HTML object>"
      ]
     },
     "metadata": {},
     "output_type": "display_data"
    },
    {
     "data": {
      "text/html": [
       "<h3>Run summary:</h3><br/><style>\n",
       "    table.wandb td:nth-child(1) { padding: 0 10px; text-align: right }\n",
       "    </style><table class=\"wandb\">\n",
       "<tr><td>train_loss</td><td>0.43866</td></tr><tr><td>train_acc</td><td>0.77965</td></tr><tr><td>valid_loss</td><td>0.41596</td></tr><tr><td>valid_acc</td><td>0.78125</td></tr><tr><td>lr</td><td>0.005</td></tr><tr><td>epoch_time</td><td>0.21661</td></tr><tr><td>_runtime</td><td>30</td></tr><tr><td>_timestamp</td><td>1633291549</td></tr><tr><td>_step</td><td>99</td></tr><tr><td>accuracy</td><td>0.797</td></tr><tr><td>prec</td><td>0.50249</td></tr><tr><td>recall</td><td>0.4951</td></tr><tr><td>f1</td><td>0.49877</td></tr></table>"
      ],
      "text/plain": [
       "<IPython.core.display.HTML object>"
      ]
     },
     "metadata": {},
     "output_type": "display_data"
    },
    {
     "data": {
      "text/html": [
       "<h3>Run history:</h3><br/><style>\n",
       "    table.wandb td:nth-child(1) { padding: 0 10px; text-align: right }\n",
       "    </style><table class=\"wandb\">\n",
       "<tr><td>train_loss</td><td>█▄▃▂▂▁▁▁▁▁▁▁▁▁▁▁▁▁▁▁▁▁▁▁▁▁▁▁▁▁▁▁▁▁▁▁▁▁▁▁</td></tr><tr><td>train_acc</td><td>▁▇█████▇▇██▇▇▇██████▇██████████▇████████</td></tr><tr><td>valid_loss</td><td>█▆▂▄▂▄▃▂▃▃▃▃▃▃▂▃▂▃▁▂▁▃▂▁▃▃▂▁▁▂▄▆▂▃▁▂▃▂▃▁</td></tr><tr><td>valid_acc</td><td>▆▆▇▇▇▃▄▇▂▆▃▂▅▇▇▃▅▁▇▄▇▅▇▆▄▆▇██▆▇▅▆▄▇▃▁▅▄█</td></tr><tr><td>lr</td><td>▁▁▁▁▁▁▁▁▁▁▁▁▁▁▁▁▁▁▁▁▁▁▁▁▁▁▁▁▁▁▁▁▁▁▁▁▁▁▁▁</td></tr><tr><td>epoch_time</td><td>▄█▆▅▃▄▃▄▅▅▃▃▄▃▃▃▂▂▃▃▃▃▃▃▇▃▄▂▂▂▁▁▁▁▁▁▂▂▂▂</td></tr><tr><td>_runtime</td><td>▁▁▁▂▂▂▂▃▃▃▃▃▃▄▄▄▄▅▅▅▅▅▅▅▆▆▆▆▇▇▇▇▇▇▇▇▇▇██</td></tr><tr><td>_timestamp</td><td>▁▁▁▂▂▂▂▃▃▃▃▃▃▄▄▄▄▅▅▅▅▅▅▅▆▆▆▆▇▇▇▇▇▇▇▇▇▇██</td></tr><tr><td>_step</td><td>▁▁▁▁▂▂▂▂▂▃▃▃▃▃▃▄▄▄▄▄▅▅▅▅▅▅▆▆▆▆▆▇▇▇▇▇▇███</td></tr></table><br/>"
      ],
      "text/plain": [
       "<IPython.core.display.HTML object>"
      ]
     },
     "metadata": {},
     "output_type": "display_data"
    },
    {
     "data": {
      "text/html": [
       "Synced 5 W&B file(s), 0 media file(s), 0 artifact file(s) and 0 other file(s)"
      ],
      "text/plain": [
       "<IPython.core.display.HTML object>"
      ]
     },
     "metadata": {},
     "output_type": "display_data"
    },
    {
     "data": {
      "text/html": [
       "\n",
       "                    <br/>Synced <strong style=\"color:#cdcd00\">zesty-sweep-28</strong>: <a href=\"https://wandb.ai/teamtom/churn-class-imbalance-with-treshold01/runs/4x9i0bth\" target=\"_blank\">https://wandb.ai/teamtom/churn-class-imbalance-with-treshold01/runs/4x9i0bth</a><br/>\n",
       "                "
      ],
      "text/plain": [
       "<IPython.core.display.HTML object>"
      ]
     },
     "metadata": {},
     "output_type": "display_data"
    },
    {
     "name": "stderr",
     "output_type": "stream",
     "text": [
      "wandb: Agent Starting Run: tamtyxst with config:\n",
      "wandb: \tbatch_size: 32\n",
      "wandb: \tepochs: 100\n",
      "wandb: \tlearning_rate: 0.005\n",
      "wandb: \tthreshold: 0.3263157894736842\n",
      "wandb: wandb version 0.12.3 is available!  To upgrade, please run:\n",
      "wandb:  $ pip install wandb --upgrade\n"
     ]
    },
    {
     "data": {
      "text/html": [
       "\n",
       "                Tracking run with wandb version 0.10.31<br/>\n",
       "                Syncing run <strong style=\"color:#cdcd00\">dutiful-sweep-29</strong> to <a href=\"https://wandb.ai\" target=\"_blank\">Weights & Biases</a> <a href=\"https://docs.wandb.com/integrations/jupyter.html\" target=\"_blank\">(Documentation)</a>.<br/>\n",
       "                Project page: <a href=\"https://wandb.ai/teamtom/churn-class-imbalance-with-treshold01\" target=\"_blank\">https://wandb.ai/teamtom/churn-class-imbalance-with-treshold01</a><br/>\n",
       "                Sweep page: <a href=\"https://wandb.ai/teamtom/churn-class-imbalance-with-treshold01/sweeps/d22sfkpk\" target=\"_blank\">https://wandb.ai/teamtom/churn-class-imbalance-with-treshold01/sweeps/d22sfkpk</a><br/>\n",
       "Run page: <a href=\"https://wandb.ai/teamtom/churn-class-imbalance-with-treshold01/runs/tamtyxst\" target=\"_blank\">https://wandb.ai/teamtom/churn-class-imbalance-with-treshold01/runs/tamtyxst</a><br/>\n",
       "                Run data is saved locally in <code>c:\\python\\anaconda_base\\pytorch-tutorial\\wandb\\run-20211003_220553-tamtyxst</code><br/><br/>\n",
       "            "
      ],
      "text/plain": [
       "<IPython.core.display.HTML object>"
      ]
     },
     "metadata": {},
     "output_type": "display_data"
    },
    {
     "name": "stdout",
     "output_type": "stream",
     "text": [
      "dataset size: 10000\n",
      "dataset samples shape: torch.Size([10000, 9])\n",
      "dataset classes shape: torch.Size([10000, 1])\n",
      "| Epoch: 0010 | Train Loss: 0.446 | Train Acc: 78.28% | Val. Loss: 0.433 | Val. Acc: 78.88% |\n",
      "| Epoch: 0020 | Train Loss: 0.440 | Train Acc: 78.57% | Val. Loss: 0.421 | Val. Acc: 78.34% |\n",
      "| Epoch: 0030 | Train Loss: 0.438 | Train Acc: 78.60% | Val. Loss: 0.426 | Val. Acc: 77.48% |\n",
      "| Epoch: 0040 | Train Loss: 0.439 | Train Acc: 78.10% | Val. Loss: 0.434 | Val. Acc: 77.91% |\n",
      "| Epoch: 0050 | Train Loss: 0.438 | Train Acc: 78.49% | Val. Loss: 0.423 | Val. Acc: 77.37% |\n",
      "| Epoch: 0060 | Train Loss: 0.440 | Train Acc: 78.30% | Val. Loss: 0.423 | Val. Acc: 76.72% |\n",
      "| Epoch: 0070 | Train Loss: 0.438 | Train Acc: 78.69% | Val. Loss: 0.423 | Val. Acc: 77.80% |\n",
      "| Epoch: 0080 | Train Loss: 0.439 | Train Acc: 78.64% | Val. Loss: 0.427 | Val. Acc: 76.40% |\n",
      "| Epoch: 0090 | Train Loss: 0.437 | Train Acc: 78.32% | Val. Loss: 0.434 | Val. Acc: 78.02% |\n",
      "| Epoch: 0100 | Train Loss: 0.437 | Train Acc: 78.38% | Val. Loss: 0.440 | Val. Acc: 76.19% |\n"
     ]
    },
    {
     "data": {
      "text/html": [
       "<br/>Waiting for W&B process to finish, PID 5924<br/>Program ended successfully."
      ],
      "text/plain": [
       "<IPython.core.display.HTML object>"
      ]
     },
     "metadata": {},
     "output_type": "display_data"
    },
    {
     "data": {
      "application/vnd.jupyter.widget-view+json": {
       "model_id": "0a29dafc276d4b14b61f2b43bbbb1b56",
       "version_major": 2,
       "version_minor": 0
      },
      "text/plain": [
       "VBox(children=(Label(value=' 0.00MB of 0.00MB uploaded (0.00MB deduped)\\r'), FloatProgress(value=1.0, max=1.0)…"
      ]
     },
     "metadata": {},
     "output_type": "display_data"
    },
    {
     "data": {
      "text/html": [
       "Find user logs for this run at: <code>c:\\python\\anaconda_base\\pytorch-tutorial\\wandb\\run-20211003_220553-tamtyxst\\logs\\debug.log</code>"
      ],
      "text/plain": [
       "<IPython.core.display.HTML object>"
      ]
     },
     "metadata": {},
     "output_type": "display_data"
    },
    {
     "data": {
      "text/html": [
       "Find internal logs for this run at: <code>c:\\python\\anaconda_base\\pytorch-tutorial\\wandb\\run-20211003_220553-tamtyxst\\logs\\debug-internal.log</code>"
      ],
      "text/plain": [
       "<IPython.core.display.HTML object>"
      ]
     },
     "metadata": {},
     "output_type": "display_data"
    },
    {
     "data": {
      "text/html": [
       "<h3>Run summary:</h3><br/><style>\n",
       "    table.wandb td:nth-child(1) { padding: 0 10px; text-align: right }\n",
       "    </style><table class=\"wandb\">\n",
       "<tr><td>train_loss</td><td>0.43736</td></tr><tr><td>train_acc</td><td>0.78383</td></tr><tr><td>valid_loss</td><td>0.43995</td></tr><tr><td>valid_acc</td><td>0.76185</td></tr><tr><td>lr</td><td>0.005</td></tr><tr><td>epoch_time</td><td>0.32294</td></tr><tr><td>_runtime</td><td>29</td></tr><tr><td>_timestamp</td><td>1633291583</td></tr><tr><td>_step</td><td>99</td></tr><tr><td>accuracy</td><td>0.802</td></tr><tr><td>prec</td><td>0.51546</td></tr><tr><td>recall</td><td>0.4902</td></tr><tr><td>f1</td><td>0.50251</td></tr></table>"
      ],
      "text/plain": [
       "<IPython.core.display.HTML object>"
      ]
     },
     "metadata": {},
     "output_type": "display_data"
    },
    {
     "data": {
      "text/html": [
       "<h3>Run history:</h3><br/><style>\n",
       "    table.wandb td:nth-child(1) { padding: 0 10px; text-align: right }\n",
       "    </style><table class=\"wandb\">\n",
       "<tr><td>train_loss</td><td>█▄▃▂▂▂▁▁▁▁▁▁▁▁▁▁▁▁▁▁▁▁▁▁▁▁▁▁▁▁▁▁▁▁▁▁▁▁▁▁</td></tr><tr><td>train_acc</td><td>▁▆▇▇█▇▇▇▇▇█▇██▇█▇▇▇█▇█▇█▇██▇▇█▇████████▇</td></tr><tr><td>valid_loss</td><td>█▆▄▃▃▃▅▁▃▂▁▃▂▂▄▃▂▁▂▂▂▃▂▂▂▆▂▃▂▅▂▁▁▃▁▁▃▃▂▄</td></tr><tr><td>valid_acc</td><td>▂▆▇▇█▄▆▇▄▇▅▅▅▆▅▄▇█▆▄▅▂▇▅▄▁▅▄▇▆█▇▆▇█▆▅▃▅▂</td></tr><tr><td>lr</td><td>▁▁▁▁▁▁▁▁▁▁▁▁▁▁▁▁▁▁▁▁▁▁▁▁▁▁▁▁▁▁▁▁▁▁▁▁▁▁▁▁</td></tr><tr><td>epoch_time</td><td>▃▅▅▆▅▆▅▆▅▅█▄▅▅▆▅▄▂▄▁▂▄▃▅▆▅▅▆▅▅▂▂▂▂▁▂▂▁▁▆</td></tr><tr><td>_runtime</td><td>▁▁▂▂▂▂▂▂▃▃▃▃▃▄▄▄▄▄▄▅▅▅▅▅▅▆▆▆▆▆▇▇▇▇▇▇▇███</td></tr><tr><td>_timestamp</td><td>▁▁▂▂▂▂▂▂▃▃▃▃▃▄▄▄▄▄▄▅▅▅▅▅▅▆▆▆▆▆▇▇▇▇▇▇▇███</td></tr><tr><td>_step</td><td>▁▁▁▁▂▂▂▂▂▃▃▃▃▃▃▄▄▄▄▄▅▅▅▅▅▅▆▆▆▆▆▇▇▇▇▇▇███</td></tr></table><br/>"
      ],
      "text/plain": [
       "<IPython.core.display.HTML object>"
      ]
     },
     "metadata": {},
     "output_type": "display_data"
    },
    {
     "data": {
      "text/html": [
       "Synced 5 W&B file(s), 0 media file(s), 0 artifact file(s) and 0 other file(s)"
      ],
      "text/plain": [
       "<IPython.core.display.HTML object>"
      ]
     },
     "metadata": {},
     "output_type": "display_data"
    },
    {
     "data": {
      "text/html": [
       "\n",
       "                    <br/>Synced <strong style=\"color:#cdcd00\">dutiful-sweep-29</strong>: <a href=\"https://wandb.ai/teamtom/churn-class-imbalance-with-treshold01/runs/tamtyxst\" target=\"_blank\">https://wandb.ai/teamtom/churn-class-imbalance-with-treshold01/runs/tamtyxst</a><br/>\n",
       "                "
      ],
      "text/plain": [
       "<IPython.core.display.HTML object>"
      ]
     },
     "metadata": {},
     "output_type": "display_data"
    },
    {
     "name": "stderr",
     "output_type": "stream",
     "text": [
      "wandb: Agent Starting Run: 6ub1gee4 with config:\n",
      "wandb: \tbatch_size: 32\n",
      "wandb: \tepochs: 100\n",
      "wandb: \tlearning_rate: 0.005\n",
      "wandb: \tthreshold: 0.34210526315789475\n",
      "wandb: wandb version 0.12.3 is available!  To upgrade, please run:\n",
      "wandb:  $ pip install wandb --upgrade\n"
     ]
    },
    {
     "data": {
      "text/html": [
       "\n",
       "                Tracking run with wandb version 0.10.31<br/>\n",
       "                Syncing run <strong style=\"color:#cdcd00\">generous-sweep-30</strong> to <a href=\"https://wandb.ai\" target=\"_blank\">Weights & Biases</a> <a href=\"https://docs.wandb.com/integrations/jupyter.html\" target=\"_blank\">(Documentation)</a>.<br/>\n",
       "                Project page: <a href=\"https://wandb.ai/teamtom/churn-class-imbalance-with-treshold01\" target=\"_blank\">https://wandb.ai/teamtom/churn-class-imbalance-with-treshold01</a><br/>\n",
       "                Sweep page: <a href=\"https://wandb.ai/teamtom/churn-class-imbalance-with-treshold01/sweeps/d22sfkpk\" target=\"_blank\">https://wandb.ai/teamtom/churn-class-imbalance-with-treshold01/sweeps/d22sfkpk</a><br/>\n",
       "Run page: <a href=\"https://wandb.ai/teamtom/churn-class-imbalance-with-treshold01/runs/6ub1gee4\" target=\"_blank\">https://wandb.ai/teamtom/churn-class-imbalance-with-treshold01/runs/6ub1gee4</a><br/>\n",
       "                Run data is saved locally in <code>c:\\python\\anaconda_base\\pytorch-tutorial\\wandb\\run-20211003_220628-6ub1gee4</code><br/><br/>\n",
       "            "
      ],
      "text/plain": [
       "<IPython.core.display.HTML object>"
      ]
     },
     "metadata": {},
     "output_type": "display_data"
    },
    {
     "name": "stdout",
     "output_type": "stream",
     "text": [
      "dataset size: 10000\n",
      "dataset samples shape: torch.Size([10000, 9])\n",
      "dataset classes shape: torch.Size([10000, 1])\n",
      "| Epoch: 0010 | Train Loss: 0.444 | Train Acc: 79.32% | Val. Loss: 0.425 | Val. Acc: 81.14% |\n",
      "| Epoch: 0020 | Train Loss: 0.441 | Train Acc: 79.27% | Val. Loss: 0.426 | Val. Acc: 76.72% |\n",
      "| Epoch: 0030 | Train Loss: 0.437 | Train Acc: 79.05% | Val. Loss: 0.426 | Val. Acc: 78.45% |\n",
      "| Epoch: 0040 | Train Loss: 0.438 | Train Acc: 79.22% | Val. Loss: 0.433 | Val. Acc: 77.59% |\n",
      "| Epoch: 0050 | Train Loss: 0.439 | Train Acc: 78.73% | Val. Loss: 0.417 | Val. Acc: 79.74% |\n",
      "| Epoch: 0060 | Train Loss: 0.439 | Train Acc: 78.99% | Val. Loss: 0.415 | Val. Acc: 79.74% |\n",
      "| Epoch: 0070 | Train Loss: 0.439 | Train Acc: 79.12% | Val. Loss: 0.423 | Val. Acc: 77.80% |\n",
      "| Epoch: 0080 | Train Loss: 0.438 | Train Acc: 79.21% | Val. Loss: 0.428 | Val. Acc: 77.26% |\n",
      "| Epoch: 0090 | Train Loss: 0.437 | Train Acc: 79.33% | Val. Loss: 0.418 | Val. Acc: 78.66% |\n",
      "| Epoch: 0100 | Train Loss: 0.440 | Train Acc: 78.96% | Val. Loss: 0.421 | Val. Acc: 78.99% |\n"
     ]
    },
    {
     "data": {
      "text/html": [
       "<br/>Waiting for W&B process to finish, PID 12140<br/>Program ended successfully."
      ],
      "text/plain": [
       "<IPython.core.display.HTML object>"
      ]
     },
     "metadata": {},
     "output_type": "display_data"
    },
    {
     "data": {
      "application/vnd.jupyter.widget-view+json": {
       "model_id": "255c9f1359b44960b8d3825a18957474",
       "version_major": 2,
       "version_minor": 0
      },
      "text/plain": [
       "VBox(children=(Label(value=' 0.00MB of 0.00MB uploaded (0.00MB deduped)\\r'), FloatProgress(value=1.0, max=1.0)…"
      ]
     },
     "metadata": {},
     "output_type": "display_data"
    },
    {
     "data": {
      "text/html": [
       "Find user logs for this run at: <code>c:\\python\\anaconda_base\\pytorch-tutorial\\wandb\\run-20211003_220628-6ub1gee4\\logs\\debug.log</code>"
      ],
      "text/plain": [
       "<IPython.core.display.HTML object>"
      ]
     },
     "metadata": {},
     "output_type": "display_data"
    },
    {
     "data": {
      "text/html": [
       "Find internal logs for this run at: <code>c:\\python\\anaconda_base\\pytorch-tutorial\\wandb\\run-20211003_220628-6ub1gee4\\logs\\debug-internal.log</code>"
      ],
      "text/plain": [
       "<IPython.core.display.HTML object>"
      ]
     },
     "metadata": {},
     "output_type": "display_data"
    },
    {
     "data": {
      "text/html": [
       "<h3>Run summary:</h3><br/><style>\n",
       "    table.wandb td:nth-child(1) { padding: 0 10px; text-align: right }\n",
       "    </style><table class=\"wandb\">\n",
       "<tr><td>train_loss</td><td>0.44034</td></tr><tr><td>train_acc</td><td>0.78962</td></tr><tr><td>valid_loss</td><td>0.42116</td></tr><tr><td>valid_acc</td><td>0.78987</td></tr><tr><td>lr</td><td>0.005</td></tr><tr><td>epoch_time</td><td>0.21564</td></tr><tr><td>_runtime</td><td>30</td></tr><tr><td>_timestamp</td><td>1633291618</td></tr><tr><td>_step</td><td>99</td></tr><tr><td>accuracy</td><td>0.811</td></tr><tr><td>prec</td><td>0.54438</td></tr><tr><td>recall</td><td>0.45098</td></tr><tr><td>f1</td><td>0.4933</td></tr></table>"
      ],
      "text/plain": [
       "<IPython.core.display.HTML object>"
      ]
     },
     "metadata": {},
     "output_type": "display_data"
    },
    {
     "data": {
      "text/html": [
       "<h3>Run history:</h3><br/><style>\n",
       "    table.wandb td:nth-child(1) { padding: 0 10px; text-align: right }\n",
       "    </style><table class=\"wandb\">\n",
       "<tr><td>train_loss</td><td>█▄▃▂▂▁▁▁▁▁▁▁▁▁▁▁▁▁▁▁▁▁▁▁▁▁▁▁▁▁▁▁▁▁▁▁▁▁▁▁</td></tr><tr><td>train_acc</td><td>▁▇▇█▇▇▇▇▇▇▇▇▇▇▆▇▇▆█▇█▆▇▇▇▇▇▇█▆█▇▇▇▇▇▇▇▇▇</td></tr><tr><td>valid_loss</td><td>█▆▄▂▃▂▃▃▂▃▃▄▁▁▂▁▃▄▂▅▃▃▂▁▂▄▁▁▂▄▂▁▁▂▄▁▆▁▁▂</td></tr><tr><td>valid_acc</td><td>▇▃▆█▅▅▂▂▄▃▂▁▃▆▄▇▄▄▃▁▂▁▃▄▅▂▅▄▂▄▄▅▆▆▂▅▂▅▃▅</td></tr><tr><td>lr</td><td>▁▁▁▁▁▁▁▁▁▁▁▁▁▁▁▁▁▁▁▁▁▁▁▁▁▁▁▁▁▁▁▁▁▁▁▁▁▁▁▁</td></tr><tr><td>epoch_time</td><td>▅▅▄▅▆▆▇▄▆▄▆▆█▆▇▅▂▂▂▅▆▅▅▅▄▅▅▇▂▄▁▂▂▁▁▂▁▁▂▂</td></tr><tr><td>_runtime</td><td>▁▁▁▂▂▂▂▂▃▃▃▃▃▄▄▄▄▄▄▅▅▅▅▅▆▆▆▆▆▆▇▇▇▇▇▇▇▇██</td></tr><tr><td>_timestamp</td><td>▁▁▁▂▂▂▂▂▃▃▃▃▃▄▄▄▄▄▄▅▅▅▅▅▆▆▆▆▆▆▇▇▇▇▇▇▇▇██</td></tr><tr><td>_step</td><td>▁▁▁▁▂▂▂▂▂▃▃▃▃▃▃▄▄▄▄▄▅▅▅▅▅▅▆▆▆▆▆▇▇▇▇▇▇███</td></tr></table><br/>"
      ],
      "text/plain": [
       "<IPython.core.display.HTML object>"
      ]
     },
     "metadata": {},
     "output_type": "display_data"
    },
    {
     "data": {
      "text/html": [
       "Synced 5 W&B file(s), 0 media file(s), 0 artifact file(s) and 0 other file(s)"
      ],
      "text/plain": [
       "<IPython.core.display.HTML object>"
      ]
     },
     "metadata": {},
     "output_type": "display_data"
    },
    {
     "data": {
      "text/html": [
       "\n",
       "                    <br/>Synced <strong style=\"color:#cdcd00\">generous-sweep-30</strong>: <a href=\"https://wandb.ai/teamtom/churn-class-imbalance-with-treshold01/runs/6ub1gee4\" target=\"_blank\">https://wandb.ai/teamtom/churn-class-imbalance-with-treshold01/runs/6ub1gee4</a><br/>\n",
       "                "
      ],
      "text/plain": [
       "<IPython.core.display.HTML object>"
      ]
     },
     "metadata": {},
     "output_type": "display_data"
    },
    {
     "name": "stderr",
     "output_type": "stream",
     "text": [
      "wandb: Agent Starting Run: ajwhx9sp with config:\n",
      "wandb: \tbatch_size: 32\n",
      "wandb: \tepochs: 100\n",
      "wandb: \tlearning_rate: 0.005\n",
      "wandb: \tthreshold: 0.35789473684210527\n",
      "wandb: wandb version 0.12.3 is available!  To upgrade, please run:\n",
      "wandb:  $ pip install wandb --upgrade\n"
     ]
    },
    {
     "data": {
      "text/html": [
       "\n",
       "                Tracking run with wandb version 0.10.31<br/>\n",
       "                Syncing run <strong style=\"color:#cdcd00\">sage-sweep-31</strong> to <a href=\"https://wandb.ai\" target=\"_blank\">Weights & Biases</a> <a href=\"https://docs.wandb.com/integrations/jupyter.html\" target=\"_blank\">(Documentation)</a>.<br/>\n",
       "                Project page: <a href=\"https://wandb.ai/teamtom/churn-class-imbalance-with-treshold01\" target=\"_blank\">https://wandb.ai/teamtom/churn-class-imbalance-with-treshold01</a><br/>\n",
       "                Sweep page: <a href=\"https://wandb.ai/teamtom/churn-class-imbalance-with-treshold01/sweeps/d22sfkpk\" target=\"_blank\">https://wandb.ai/teamtom/churn-class-imbalance-with-treshold01/sweeps/d22sfkpk</a><br/>\n",
       "Run page: <a href=\"https://wandb.ai/teamtom/churn-class-imbalance-with-treshold01/runs/ajwhx9sp\" target=\"_blank\">https://wandb.ai/teamtom/churn-class-imbalance-with-treshold01/runs/ajwhx9sp</a><br/>\n",
       "                Run data is saved locally in <code>c:\\python\\anaconda_base\\pytorch-tutorial\\wandb\\run-20211003_220702-ajwhx9sp</code><br/><br/>\n",
       "            "
      ],
      "text/plain": [
       "<IPython.core.display.HTML object>"
      ]
     },
     "metadata": {},
     "output_type": "display_data"
    },
    {
     "name": "stdout",
     "output_type": "stream",
     "text": [
      "dataset size: 10000\n",
      "dataset samples shape: torch.Size([10000, 9])\n",
      "dataset classes shape: torch.Size([10000, 1])\n",
      "| Epoch: 0010 | Train Loss: 0.447 | Train Acc: 79.72% | Val. Loss: 0.443 | Val. Acc: 78.02% |\n",
      "| Epoch: 0020 | Train Loss: 0.441 | Train Acc: 79.45% | Val. Loss: 0.444 | Val. Acc: 78.77% |\n",
      "| Epoch: 0030 | Train Loss: 0.439 | Train Acc: 79.71% | Val. Loss: 0.440 | Val. Acc: 76.94% |\n",
      "| Epoch: 0040 | Train Loss: 0.438 | Train Acc: 79.64% | Val. Loss: 0.435 | Val. Acc: 78.02% |\n",
      "| Epoch: 0050 | Train Loss: 0.438 | Train Acc: 79.65% | Val. Loss: 0.418 | Val. Acc: 80.60% |\n",
      "| Epoch: 0060 | Train Loss: 0.437 | Train Acc: 79.29% | Val. Loss: 0.436 | Val. Acc: 79.63% |\n",
      "| Epoch: 0070 | Train Loss: 0.437 | Train Acc: 79.58% | Val. Loss: 0.418 | Val. Acc: 79.74% |\n",
      "| Epoch: 0080 | Train Loss: 0.439 | Train Acc: 79.59% | Val. Loss: 0.423 | Val. Acc: 78.12% |\n",
      "| Epoch: 0090 | Train Loss: 0.438 | Train Acc: 79.56% | Val. Loss: 0.426 | Val. Acc: 79.74% |\n",
      "| Epoch: 0100 | Train Loss: 0.438 | Train Acc: 79.61% | Val. Loss: 0.417 | Val. Acc: 79.53% |\n"
     ]
    },
    {
     "data": {
      "text/html": [
       "<br/>Waiting for W&B process to finish, PID 25724<br/>Program ended successfully."
      ],
      "text/plain": [
       "<IPython.core.display.HTML object>"
      ]
     },
     "metadata": {},
     "output_type": "display_data"
    },
    {
     "data": {
      "application/vnd.jupyter.widget-view+json": {
       "model_id": "242504264bc24e41b28d0b27853d77ac",
       "version_major": 2,
       "version_minor": 0
      },
      "text/plain": [
       "VBox(children=(Label(value=' 0.00MB of 0.00MB uploaded (0.00MB deduped)\\r'), FloatProgress(value=1.0, max=1.0)…"
      ]
     },
     "metadata": {},
     "output_type": "display_data"
    },
    {
     "data": {
      "text/html": [
       "Find user logs for this run at: <code>c:\\python\\anaconda_base\\pytorch-tutorial\\wandb\\run-20211003_220702-ajwhx9sp\\logs\\debug.log</code>"
      ],
      "text/plain": [
       "<IPython.core.display.HTML object>"
      ]
     },
     "metadata": {},
     "output_type": "display_data"
    },
    {
     "data": {
      "text/html": [
       "Find internal logs for this run at: <code>c:\\python\\anaconda_base\\pytorch-tutorial\\wandb\\run-20211003_220702-ajwhx9sp\\logs\\debug-internal.log</code>"
      ],
      "text/plain": [
       "<IPython.core.display.HTML object>"
      ]
     },
     "metadata": {},
     "output_type": "display_data"
    },
    {
     "data": {
      "text/html": [
       "<h3>Run summary:</h3><br/><style>\n",
       "    table.wandb td:nth-child(1) { padding: 0 10px; text-align: right }\n",
       "    </style><table class=\"wandb\">\n",
       "<tr><td>train_loss</td><td>0.43779</td></tr><tr><td>train_acc</td><td>0.79614</td></tr><tr><td>valid_loss</td><td>0.41696</td></tr><tr><td>valid_acc</td><td>0.79526</td></tr><tr><td>lr</td><td>0.005</td></tr><tr><td>epoch_time</td><td>0.21486</td></tr><tr><td>_runtime</td><td>28</td></tr><tr><td>_timestamp</td><td>1633291651</td></tr><tr><td>_step</td><td>99</td></tr><tr><td>accuracy</td><td>0.812</td></tr><tr><td>prec</td><td>0.54706</td></tr><tr><td>recall</td><td>0.45588</td></tr><tr><td>f1</td><td>0.49733</td></tr></table>"
      ],
      "text/plain": [
       "<IPython.core.display.HTML object>"
      ]
     },
     "metadata": {},
     "output_type": "display_data"
    },
    {
     "data": {
      "text/html": [
       "<h3>Run history:</h3><br/><style>\n",
       "    table.wandb td:nth-child(1) { padding: 0 10px; text-align: right }\n",
       "    </style><table class=\"wandb\">\n",
       "<tr><td>train_loss</td><td>█▃▂▂▂▁▁▁▁▁▁▁▁▁▁▁▁▁▁▁▁▁▁▁▁▁▁▁▁▁▁▁▁▁▁▁▁▁▁▁</td></tr><tr><td>train_acc</td><td>▁███████████████████████████████████████</td></tr><tr><td>valid_loss</td><td>█▆▄▃▃▄▂▂▂▁▅▃▁▁▂▂▃▁▂▃▂▂▂▂▂▁▁▃▁▂▃▃▂▂▂▁▂▁▂▁</td></tr><tr><td>valid_acc</td><td>▅▅▅▇▅▄▄▁▇▄▁▃▄▄▅▃▄▇▇▅▄▄▂▄▆▅▆▄▆▄▃▁▅▅▁▆█▆▅▅</td></tr><tr><td>lr</td><td>▁▁▁▁▁▁▁▁▁▁▁▁▁▁▁▁▁▁▁▁▁▁▁▁▁▁▁▁▁▁▁▁▁▁▁▁▁▁▁▁</td></tr><tr><td>epoch_time</td><td>▇▆▆▄█▆▁▁▂▅▆█▇▇█▆▆▇▆▆▅▄▇▆▆▇▅▃▃▃▃▃▂▃▃▃▄▃▅▂</td></tr><tr><td>_runtime</td><td>▁▁▁▂▂▂▂▂▂▃▃▃▃▃▄▄▄▄▄▅▅▅▅▅▆▆▆▆▆▆▇▇▇▇▇▇▇███</td></tr><tr><td>_timestamp</td><td>▁▁▁▂▂▂▂▂▂▃▃▃▃▃▄▄▄▄▄▅▅▅▅▅▆▆▆▆▆▆▇▇▇▇▇▇▇███</td></tr><tr><td>_step</td><td>▁▁▁▁▂▂▂▂▂▃▃▃▃▃▃▄▄▄▄▄▅▅▅▅▅▅▆▆▆▆▆▇▇▇▇▇▇███</td></tr></table><br/>"
      ],
      "text/plain": [
       "<IPython.core.display.HTML object>"
      ]
     },
     "metadata": {},
     "output_type": "display_data"
    },
    {
     "data": {
      "text/html": [
       "Synced 5 W&B file(s), 0 media file(s), 0 artifact file(s) and 0 other file(s)"
      ],
      "text/plain": [
       "<IPython.core.display.HTML object>"
      ]
     },
     "metadata": {},
     "output_type": "display_data"
    },
    {
     "data": {
      "text/html": [
       "\n",
       "                    <br/>Synced <strong style=\"color:#cdcd00\">sage-sweep-31</strong>: <a href=\"https://wandb.ai/teamtom/churn-class-imbalance-with-treshold01/runs/ajwhx9sp\" target=\"_blank\">https://wandb.ai/teamtom/churn-class-imbalance-with-treshold01/runs/ajwhx9sp</a><br/>\n",
       "                "
      ],
      "text/plain": [
       "<IPython.core.display.HTML object>"
      ]
     },
     "metadata": {},
     "output_type": "display_data"
    },
    {
     "name": "stderr",
     "output_type": "stream",
     "text": [
      "wandb: Agent Starting Run: aoi3t211 with config:\n",
      "wandb: \tbatch_size: 32\n",
      "wandb: \tepochs: 100\n",
      "wandb: \tlearning_rate: 0.005\n",
      "wandb: \tthreshold: 0.37368421052631584\n",
      "wandb: wandb version 0.12.3 is available!  To upgrade, please run:\n",
      "wandb:  $ pip install wandb --upgrade\n"
     ]
    },
    {
     "data": {
      "text/html": [
       "\n",
       "                Tracking run with wandb version 0.10.31<br/>\n",
       "                Syncing run <strong style=\"color:#cdcd00\">devout-sweep-32</strong> to <a href=\"https://wandb.ai\" target=\"_blank\">Weights & Biases</a> <a href=\"https://docs.wandb.com/integrations/jupyter.html\" target=\"_blank\">(Documentation)</a>.<br/>\n",
       "                Project page: <a href=\"https://wandb.ai/teamtom/churn-class-imbalance-with-treshold01\" target=\"_blank\">https://wandb.ai/teamtom/churn-class-imbalance-with-treshold01</a><br/>\n",
       "                Sweep page: <a href=\"https://wandb.ai/teamtom/churn-class-imbalance-with-treshold01/sweeps/d22sfkpk\" target=\"_blank\">https://wandb.ai/teamtom/churn-class-imbalance-with-treshold01/sweeps/d22sfkpk</a><br/>\n",
       "Run page: <a href=\"https://wandb.ai/teamtom/churn-class-imbalance-with-treshold01/runs/aoi3t211\" target=\"_blank\">https://wandb.ai/teamtom/churn-class-imbalance-with-treshold01/runs/aoi3t211</a><br/>\n",
       "                Run data is saved locally in <code>c:\\python\\anaconda_base\\pytorch-tutorial\\wandb\\run-20211003_220735-aoi3t211</code><br/><br/>\n",
       "            "
      ],
      "text/plain": [
       "<IPython.core.display.HTML object>"
      ]
     },
     "metadata": {},
     "output_type": "display_data"
    },
    {
     "name": "stdout",
     "output_type": "stream",
     "text": [
      "dataset size: 10000\n",
      "dataset samples shape: torch.Size([10000, 9])\n",
      "dataset classes shape: torch.Size([10000, 1])\n",
      "| Epoch: 0010 | Train Loss: 0.446 | Train Acc: 80.19% | Val. Loss: 0.430 | Val. Acc: 80.82% |\n",
      "| Epoch: 0020 | Train Loss: 0.440 | Train Acc: 80.01% | Val. Loss: 0.430 | Val. Acc: 80.50% |\n",
      "| Epoch: 0030 | Train Loss: 0.438 | Train Acc: 80.02% | Val. Loss: 0.427 | Val. Acc: 80.71% |\n",
      "| Epoch: 0040 | Train Loss: 0.439 | Train Acc: 79.87% | Val. Loss: 0.426 | Val. Acc: 79.09% |\n",
      "| Epoch: 0050 | Train Loss: 0.439 | Train Acc: 79.90% | Val. Loss: 0.422 | Val. Acc: 79.74% |\n",
      "| Epoch: 0060 | Train Loss: 0.439 | Train Acc: 79.76% | Val. Loss: 0.427 | Val. Acc: 79.74% |\n",
      "| Epoch: 0070 | Train Loss: 0.437 | Train Acc: 80.08% | Val. Loss: 0.421 | Val. Acc: 79.42% |\n",
      "| Epoch: 0080 | Train Loss: 0.440 | Train Acc: 79.91% | Val. Loss: 0.419 | Val. Acc: 80.17% |\n",
      "| Epoch: 0090 | Train Loss: 0.438 | Train Acc: 79.87% | Val. Loss: 0.417 | Val. Acc: 80.50% |\n",
      "| Epoch: 0100 | Train Loss: 0.441 | Train Acc: 79.74% | Val. Loss: 0.427 | Val. Acc: 79.85% |\n"
     ]
    },
    {
     "data": {
      "text/html": [
       "<br/>Waiting for W&B process to finish, PID 24856<br/>Program ended successfully."
      ],
      "text/plain": [
       "<IPython.core.display.HTML object>"
      ]
     },
     "metadata": {},
     "output_type": "display_data"
    },
    {
     "data": {
      "application/vnd.jupyter.widget-view+json": {
       "model_id": "e333b0b6ac404266bf4b5f229188f404",
       "version_major": 2,
       "version_minor": 0
      },
      "text/plain": [
       "VBox(children=(Label(value=' 0.00MB of 0.00MB uploaded (0.00MB deduped)\\r'), FloatProgress(value=1.0, max=1.0)…"
      ]
     },
     "metadata": {},
     "output_type": "display_data"
    },
    {
     "data": {
      "text/html": [
       "Find user logs for this run at: <code>c:\\python\\anaconda_base\\pytorch-tutorial\\wandb\\run-20211003_220735-aoi3t211\\logs\\debug.log</code>"
      ],
      "text/plain": [
       "<IPython.core.display.HTML object>"
      ]
     },
     "metadata": {},
     "output_type": "display_data"
    },
    {
     "data": {
      "text/html": [
       "Find internal logs for this run at: <code>c:\\python\\anaconda_base\\pytorch-tutorial\\wandb\\run-20211003_220735-aoi3t211\\logs\\debug-internal.log</code>"
      ],
      "text/plain": [
       "<IPython.core.display.HTML object>"
      ]
     },
     "metadata": {},
     "output_type": "display_data"
    },
    {
     "data": {
      "text/html": [
       "<h3>Run summary:</h3><br/><style>\n",
       "    table.wandb td:nth-child(1) { padding: 0 10px; text-align: right }\n",
       "    </style><table class=\"wandb\">\n",
       "<tr><td>train_loss</td><td>0.4412</td></tr><tr><td>train_acc</td><td>0.79737</td></tr><tr><td>valid_loss</td><td>0.4267</td></tr><tr><td>valid_acc</td><td>0.79849</td></tr><tr><td>lr</td><td>0.005</td></tr><tr><td>epoch_time</td><td>0.20365</td></tr><tr><td>_runtime</td><td>29</td></tr><tr><td>_timestamp</td><td>1633291685</td></tr><tr><td>_step</td><td>99</td></tr><tr><td>accuracy</td><td>0.816</td></tr><tr><td>prec</td><td>0.57692</td></tr><tr><td>recall</td><td>0.36765</td></tr><tr><td>f1</td><td>0.4491</td></tr></table>"
      ],
      "text/plain": [
       "<IPython.core.display.HTML object>"
      ]
     },
     "metadata": {},
     "output_type": "display_data"
    },
    {
     "data": {
      "text/html": [
       "<h3>Run history:</h3><br/><style>\n",
       "    table.wandb td:nth-child(1) { padding: 0 10px; text-align: right }\n",
       "    </style><table class=\"wandb\">\n",
       "<tr><td>train_loss</td><td>█▄▃▂▂▁▁▁▁▁▁▁▁▁▁▁▁▁▁▁▁▁▁▁▁▁▁▁▁▁▁▁▁▁▁▁▁▁▁▁</td></tr><tr><td>train_acc</td><td>▁██████▇█████▇██████▇██████████▇████▇██▇</td></tr><tr><td>valid_loss</td><td>█▅▄▃▃▃▃▃▄▁▁▂▁▃▁▃▁▁▁▃▁▂▁▂▁▃▂▁▃▁▂▁▂▃▂▂▁▂▃▂</td></tr><tr><td>valid_acc</td><td>▅▆▅█▇▇▂▄▁▇▆▇▆▅▇▂▅▆▅▆█▃▆▃▇▃▅▇▂▆▅▆█▅▄▅▆▅▆▅</td></tr><tr><td>lr</td><td>▁▁▁▁▁▁▁▁▁▁▁▁▁▁▁▁▁▁▁▁▁▁▁▁▁▁▁▁▁▁▁▁▁▁▁▁▁▁▁▁</td></tr><tr><td>epoch_time</td><td>▁▁▃▃▅▃▄█▅▄▃▃▄▄▅▄▄▅▃▄▄▄▄▃▃▅▅▄▂▂▁▂▂▂▇▁▂▁▁▁</td></tr><tr><td>_runtime</td><td>▁▁▁▂▂▂▂▂▃▃▃▃▃▄▄▄▄▄▄▅▅▅▅▅▆▆▆▆▆▆▇▇▇▇▇▇████</td></tr><tr><td>_timestamp</td><td>▁▁▁▂▂▂▂▂▃▃▃▃▃▄▄▄▄▄▄▅▅▅▅▅▆▆▆▆▆▆▇▇▇▇▇▇████</td></tr><tr><td>_step</td><td>▁▁▁▁▂▂▂▂▂▃▃▃▃▃▃▄▄▄▄▄▅▅▅▅▅▅▆▆▆▆▆▇▇▇▇▇▇███</td></tr></table><br/>"
      ],
      "text/plain": [
       "<IPython.core.display.HTML object>"
      ]
     },
     "metadata": {},
     "output_type": "display_data"
    },
    {
     "data": {
      "text/html": [
       "Synced 5 W&B file(s), 0 media file(s), 0 artifact file(s) and 0 other file(s)"
      ],
      "text/plain": [
       "<IPython.core.display.HTML object>"
      ]
     },
     "metadata": {},
     "output_type": "display_data"
    },
    {
     "data": {
      "text/html": [
       "\n",
       "                    <br/>Synced <strong style=\"color:#cdcd00\">devout-sweep-32</strong>: <a href=\"https://wandb.ai/teamtom/churn-class-imbalance-with-treshold01/runs/aoi3t211\" target=\"_blank\">https://wandb.ai/teamtom/churn-class-imbalance-with-treshold01/runs/aoi3t211</a><br/>\n",
       "                "
      ],
      "text/plain": [
       "<IPython.core.display.HTML object>"
      ]
     },
     "metadata": {},
     "output_type": "display_data"
    },
    {
     "name": "stderr",
     "output_type": "stream",
     "text": [
      "wandb: Agent Starting Run: zood9yv2 with config:\n",
      "wandb: \tbatch_size: 32\n",
      "wandb: \tepochs: 100\n",
      "wandb: \tlearning_rate: 0.005\n",
      "wandb: \tthreshold: 0.3894736842105263\n",
      "wandb: wandb version 0.12.3 is available!  To upgrade, please run:\n",
      "wandb:  $ pip install wandb --upgrade\n"
     ]
    },
    {
     "data": {
      "text/html": [
       "\n",
       "                Tracking run with wandb version 0.10.31<br/>\n",
       "                Syncing run <strong style=\"color:#cdcd00\">eternal-sweep-33</strong> to <a href=\"https://wandb.ai\" target=\"_blank\">Weights & Biases</a> <a href=\"https://docs.wandb.com/integrations/jupyter.html\" target=\"_blank\">(Documentation)</a>.<br/>\n",
       "                Project page: <a href=\"https://wandb.ai/teamtom/churn-class-imbalance-with-treshold01\" target=\"_blank\">https://wandb.ai/teamtom/churn-class-imbalance-with-treshold01</a><br/>\n",
       "                Sweep page: <a href=\"https://wandb.ai/teamtom/churn-class-imbalance-with-treshold01/sweeps/d22sfkpk\" target=\"_blank\">https://wandb.ai/teamtom/churn-class-imbalance-with-treshold01/sweeps/d22sfkpk</a><br/>\n",
       "Run page: <a href=\"https://wandb.ai/teamtom/churn-class-imbalance-with-treshold01/runs/zood9yv2\" target=\"_blank\">https://wandb.ai/teamtom/churn-class-imbalance-with-treshold01/runs/zood9yv2</a><br/>\n",
       "                Run data is saved locally in <code>c:\\python\\anaconda_base\\pytorch-tutorial\\wandb\\run-20211003_220810-zood9yv2</code><br/><br/>\n",
       "            "
      ],
      "text/plain": [
       "<IPython.core.display.HTML object>"
      ]
     },
     "metadata": {},
     "output_type": "display_data"
    },
    {
     "name": "stdout",
     "output_type": "stream",
     "text": [
      "dataset size: 10000\n",
      "dataset samples shape: torch.Size([10000, 9])\n",
      "dataset classes shape: torch.Size([10000, 1])\n",
      "| Epoch: 0010 | Train Loss: 0.446 | Train Acc: 80.40% | Val. Loss: 0.452 | Val. Acc: 80.17% |\n",
      "| Epoch: 0020 | Train Loss: 0.439 | Train Acc: 80.25% | Val. Loss: 0.426 | Val. Acc: 81.47% |\n",
      "| Epoch: 0030 | Train Loss: 0.438 | Train Acc: 80.09% | Val. Loss: 0.418 | Val. Acc: 81.03% |\n",
      "| Epoch: 0040 | Train Loss: 0.438 | Train Acc: 80.43% | Val. Loss: 0.417 | Val. Acc: 81.25% |\n",
      "| Epoch: 0050 | Train Loss: 0.440 | Train Acc: 80.09% | Val. Loss: 0.434 | Val. Acc: 79.63% |\n",
      "| Epoch: 0060 | Train Loss: 0.439 | Train Acc: 80.20% | Val. Loss: 0.439 | Val. Acc: 80.28% |\n",
      "| Epoch: 0070 | Train Loss: 0.437 | Train Acc: 80.27% | Val. Loss: 0.415 | Val. Acc: 81.03% |\n",
      "| Epoch: 0080 | Train Loss: 0.438 | Train Acc: 80.23% | Val. Loss: 0.422 | Val. Acc: 80.28% |\n",
      "| Epoch: 0090 | Train Loss: 0.439 | Train Acc: 80.31% | Val. Loss: 0.426 | Val. Acc: 79.63% |\n",
      "| Epoch: 0100 | Train Loss: 0.437 | Train Acc: 80.30% | Val. Loss: 0.427 | Val. Acc: 80.28% |\n"
     ]
    },
    {
     "data": {
      "text/html": [
       "<br/>Waiting for W&B process to finish, PID 25900<br/>Program ended successfully."
      ],
      "text/plain": [
       "<IPython.core.display.HTML object>"
      ]
     },
     "metadata": {},
     "output_type": "display_data"
    },
    {
     "data": {
      "application/vnd.jupyter.widget-view+json": {
       "model_id": "bfb15b97b7324b919dcdf65c9aeddc7b",
       "version_major": 2,
       "version_minor": 0
      },
      "text/plain": [
       "VBox(children=(Label(value=' 0.00MB of 0.00MB uploaded (0.00MB deduped)\\r'), FloatProgress(value=1.0, max=1.0)…"
      ]
     },
     "metadata": {},
     "output_type": "display_data"
    },
    {
     "data": {
      "text/html": [
       "Find user logs for this run at: <code>c:\\python\\anaconda_base\\pytorch-tutorial\\wandb\\run-20211003_220810-zood9yv2\\logs\\debug.log</code>"
      ],
      "text/plain": [
       "<IPython.core.display.HTML object>"
      ]
     },
     "metadata": {},
     "output_type": "display_data"
    },
    {
     "data": {
      "text/html": [
       "Find internal logs for this run at: <code>c:\\python\\anaconda_base\\pytorch-tutorial\\wandb\\run-20211003_220810-zood9yv2\\logs\\debug-internal.log</code>"
      ],
      "text/plain": [
       "<IPython.core.display.HTML object>"
      ]
     },
     "metadata": {},
     "output_type": "display_data"
    },
    {
     "data": {
      "text/html": [
       "<h3>Run summary:</h3><br/><style>\n",
       "    table.wandb td:nth-child(1) { padding: 0 10px; text-align: right }\n",
       "    </style><table class=\"wandb\">\n",
       "<tr><td>train_loss</td><td>0.43742</td></tr><tr><td>train_acc</td><td>0.80303</td></tr><tr><td>valid_loss</td><td>0.42657</td></tr><tr><td>valid_acc</td><td>0.8028</td></tr><tr><td>lr</td><td>0.005</td></tr><tr><td>epoch_time</td><td>0.24009</td></tr><tr><td>_runtime</td><td>29</td></tr><tr><td>_timestamp</td><td>1633291720</td></tr><tr><td>_step</td><td>99</td></tr><tr><td>accuracy</td><td>0.822</td></tr><tr><td>prec</td><td>0.61404</td></tr><tr><td>recall</td><td>0.34314</td></tr><tr><td>f1</td><td>0.44025</td></tr></table>"
      ],
      "text/plain": [
       "<IPython.core.display.HTML object>"
      ]
     },
     "metadata": {},
     "output_type": "display_data"
    },
    {
     "data": {
      "text/html": [
       "<h3>Run history:</h3><br/><style>\n",
       "    table.wandb td:nth-child(1) { padding: 0 10px; text-align: right }\n",
       "    </style><table class=\"wandb\">\n",
       "<tr><td>train_loss</td><td>█▄▂▂▂▁▁▁▁▁▁▁▁▁▁▁▁▁▁▁▁▁▁▁▁▁▁▁▁▁▁▁▁▁▁▁▁▁▁▁</td></tr><tr><td>train_acc</td><td>▁███████████████████████████████████████</td></tr><tr><td>valid_loss</td><td>█▆▄▃▃▂▂▁▂▂▂▁▃▂▂▁▁▂▂▂▁▃▁▂▁▃▅▂▁▃▂▂▁▃▂▂▂▂▄▂</td></tr><tr><td>valid_acc</td><td>▄▄▅▇▆█▄▆▇▆▅▆▅▆▄▇▆▅▃▅█▅▆▅▆▁▁▆▅▆▃▅▄▁▇▃▄▅▂▄</td></tr><tr><td>lr</td><td>▁▁▁▁▁▁▁▁▁▁▁▁▁▁▁▁▁▁▁▁▁▁▁▁▁▁▁▁▁▁▁▁▁▁▁▁▁▁▁▁</td></tr><tr><td>epoch_time</td><td>▁▁▄▄▃▃▄▄▅▄▄▃▃▄▄▃▃▄▄▃▄▃▃▄▅▄▃█▃▂▁▁▂▁▂▁▁▁▂▂</td></tr><tr><td>_runtime</td><td>▁▁▁▂▂▂▂▂▃▃▃▃▃▃▄▄▄▄▄▅▅▅▅▅▅▆▆▆▆▆▇▇▇▇▇▇▇▇██</td></tr><tr><td>_timestamp</td><td>▁▁▁▂▂▂▂▂▃▃▃▃▃▃▄▄▄▄▄▅▅▅▅▅▅▆▆▆▆▆▇▇▇▇▇▇▇▇██</td></tr><tr><td>_step</td><td>▁▁▁▁▂▂▂▂▂▃▃▃▃▃▃▄▄▄▄▄▅▅▅▅▅▅▆▆▆▆▆▇▇▇▇▇▇███</td></tr></table><br/>"
      ],
      "text/plain": [
       "<IPython.core.display.HTML object>"
      ]
     },
     "metadata": {},
     "output_type": "display_data"
    },
    {
     "data": {
      "text/html": [
       "Synced 5 W&B file(s), 0 media file(s), 0 artifact file(s) and 0 other file(s)"
      ],
      "text/plain": [
       "<IPython.core.display.HTML object>"
      ]
     },
     "metadata": {},
     "output_type": "display_data"
    },
    {
     "data": {
      "text/html": [
       "\n",
       "                    <br/>Synced <strong style=\"color:#cdcd00\">eternal-sweep-33</strong>: <a href=\"https://wandb.ai/teamtom/churn-class-imbalance-with-treshold01/runs/zood9yv2\" target=\"_blank\">https://wandb.ai/teamtom/churn-class-imbalance-with-treshold01/runs/zood9yv2</a><br/>\n",
       "                "
      ],
      "text/plain": [
       "<IPython.core.display.HTML object>"
      ]
     },
     "metadata": {},
     "output_type": "display_data"
    },
    {
     "name": "stderr",
     "output_type": "stream",
     "text": [
      "wandb: Agent Starting Run: w31gdzad with config:\n",
      "wandb: \tbatch_size: 32\n",
      "wandb: \tepochs: 100\n",
      "wandb: \tlearning_rate: 0.005\n",
      "wandb: \tthreshold: 0.4052631578947369\n",
      "wandb: wandb version 0.12.3 is available!  To upgrade, please run:\n",
      "wandb:  $ pip install wandb --upgrade\n"
     ]
    },
    {
     "data": {
      "text/html": [
       "\n",
       "                Tracking run with wandb version 0.10.31<br/>\n",
       "                Syncing run <strong style=\"color:#cdcd00\">magic-sweep-34</strong> to <a href=\"https://wandb.ai\" target=\"_blank\">Weights & Biases</a> <a href=\"https://docs.wandb.com/integrations/jupyter.html\" target=\"_blank\">(Documentation)</a>.<br/>\n",
       "                Project page: <a href=\"https://wandb.ai/teamtom/churn-class-imbalance-with-treshold01\" target=\"_blank\">https://wandb.ai/teamtom/churn-class-imbalance-with-treshold01</a><br/>\n",
       "                Sweep page: <a href=\"https://wandb.ai/teamtom/churn-class-imbalance-with-treshold01/sweeps/d22sfkpk\" target=\"_blank\">https://wandb.ai/teamtom/churn-class-imbalance-with-treshold01/sweeps/d22sfkpk</a><br/>\n",
       "Run page: <a href=\"https://wandb.ai/teamtom/churn-class-imbalance-with-treshold01/runs/w31gdzad\" target=\"_blank\">https://wandb.ai/teamtom/churn-class-imbalance-with-treshold01/runs/w31gdzad</a><br/>\n",
       "                Run data is saved locally in <code>c:\\python\\anaconda_base\\pytorch-tutorial\\wandb\\run-20211003_220845-w31gdzad</code><br/><br/>\n",
       "            "
      ],
      "text/plain": [
       "<IPython.core.display.HTML object>"
      ]
     },
     "metadata": {},
     "output_type": "display_data"
    },
    {
     "name": "stdout",
     "output_type": "stream",
     "text": [
      "dataset size: 10000\n",
      "dataset samples shape: torch.Size([10000, 9])\n",
      "dataset classes shape: torch.Size([10000, 1])\n",
      "| Epoch: 0010 | Train Loss: 0.446 | Train Acc: 80.34% | Val. Loss: 0.438 | Val. Acc: 81.47% |\n",
      "| Epoch: 0020 | Train Loss: 0.439 | Train Acc: 80.66% | Val. Loss: 0.425 | Val. Acc: 81.14% |\n",
      "| Epoch: 0030 | Train Loss: 0.439 | Train Acc: 80.47% | Val. Loss: 0.419 | Val. Acc: 81.14% |\n",
      "| Epoch: 0040 | Train Loss: 0.438 | Train Acc: 80.39% | Val. Loss: 0.418 | Val. Acc: 81.90% |\n",
      "| Epoch: 0050 | Train Loss: 0.439 | Train Acc: 80.44% | Val. Loss: 0.416 | Val. Acc: 81.25% |\n",
      "| Epoch: 0060 | Train Loss: 0.439 | Train Acc: 80.47% | Val. Loss: 0.424 | Val. Acc: 81.03% |\n",
      "| Epoch: 0070 | Train Loss: 0.438 | Train Acc: 80.68% | Val. Loss: 0.435 | Val. Acc: 79.53% |\n",
      "| Epoch: 0080 | Train Loss: 0.438 | Train Acc: 80.43% | Val. Loss: 0.429 | Val. Acc: 80.06% |\n",
      "| Epoch: 0090 | Train Loss: 0.438 | Train Acc: 80.34% | Val. Loss: 0.437 | Val. Acc: 79.20% |\n",
      "| Epoch: 0100 | Train Loss: 0.437 | Train Acc: 80.56% | Val. Loss: 0.423 | Val. Acc: 79.96% |\n"
     ]
    },
    {
     "data": {
      "text/html": [
       "<br/>Waiting for W&B process to finish, PID 17364<br/>Program ended successfully."
      ],
      "text/plain": [
       "<IPython.core.display.HTML object>"
      ]
     },
     "metadata": {},
     "output_type": "display_data"
    },
    {
     "data": {
      "application/vnd.jupyter.widget-view+json": {
       "model_id": "ed5975020eec4431bf3d6f50ee3cf2a0",
       "version_major": 2,
       "version_minor": 0
      },
      "text/plain": [
       "VBox(children=(Label(value=' 0.00MB of 0.00MB uploaded (0.00MB deduped)\\r'), FloatProgress(value=1.0, max=1.0)…"
      ]
     },
     "metadata": {},
     "output_type": "display_data"
    },
    {
     "data": {
      "text/html": [
       "Find user logs for this run at: <code>c:\\python\\anaconda_base\\pytorch-tutorial\\wandb\\run-20211003_220845-w31gdzad\\logs\\debug.log</code>"
      ],
      "text/plain": [
       "<IPython.core.display.HTML object>"
      ]
     },
     "metadata": {},
     "output_type": "display_data"
    },
    {
     "data": {
      "text/html": [
       "Find internal logs for this run at: <code>c:\\python\\anaconda_base\\pytorch-tutorial\\wandb\\run-20211003_220845-w31gdzad\\logs\\debug-internal.log</code>"
      ],
      "text/plain": [
       "<IPython.core.display.HTML object>"
      ]
     },
     "metadata": {},
     "output_type": "display_data"
    },
    {
     "data": {
      "text/html": [
       "<h3>Run summary:</h3><br/><style>\n",
       "    table.wandb td:nth-child(1) { padding: 0 10px; text-align: right }\n",
       "    </style><table class=\"wandb\">\n",
       "<tr><td>train_loss</td><td>0.4374</td></tr><tr><td>train_acc</td><td>0.80561</td></tr><tr><td>valid_loss</td><td>0.42267</td></tr><tr><td>valid_acc</td><td>0.79957</td></tr><tr><td>lr</td><td>0.005</td></tr><tr><td>epoch_time</td><td>0.22331</td></tr><tr><td>_runtime</td><td>28</td></tr><tr><td>_timestamp</td><td>1633291753</td></tr><tr><td>_step</td><td>99</td></tr><tr><td>accuracy</td><td>0.819</td></tr><tr><td>prec</td><td>0.5935</td></tr><tr><td>recall</td><td>0.35784</td></tr><tr><td>f1</td><td>0.44648</td></tr></table>"
      ],
      "text/plain": [
       "<IPython.core.display.HTML object>"
      ]
     },
     "metadata": {},
     "output_type": "display_data"
    },
    {
     "data": {
      "text/html": [
       "<h3>Run history:</h3><br/><style>\n",
       "    table.wandb td:nth-child(1) { padding: 0 10px; text-align: right }\n",
       "    </style><table class=\"wandb\">\n",
       "<tr><td>train_loss</td><td>█▄▃▂▂▂▁▁▁▁▁▁▁▁▁▁▁▁▁▁▁▁▁▁▁▁▁▁▁▁▁▁▁▁▁▁▁▁▁▁</td></tr><tr><td>train_acc</td><td>▁▇▇▇████▇█▇█▇▇█▇██▇█▇▇▇▇▇▇█▇▇▇███▇███▇██</td></tr><tr><td>valid_loss</td><td>█▅▅▄▃▂▃▂▂▂▃▂▂▄▄▂▂▁▂▃▂▂▃▄▂▃▁▄▃▁▂▁▃▃▂▄▃▄▂▂</td></tr><tr><td>valid_acc</td><td>▅▅▇▆▇█▇▅▆▆▅▇▅▅▄▇▆█▅▆▇▆▆▄▇▄▅▄▄▇▆▇▆▆▅▂▁▆▄▄</td></tr><tr><td>lr</td><td>▁▁▁▁▁▁▁▁▁▁▁▁▁▁▁▁▁▁▁▁▁▁▁▁▁▁▁▁▁▁▁▁▁▁▁▁▁▁▁▁</td></tr><tr><td>epoch_time</td><td>▄▄▄▄▅▄▃▄▇▃▄▅▄▅▄▄▅▁▃▁▄▂▂▄▃▄▄▄▂█▅▅▂▁▁▂▁▂▁▂</td></tr><tr><td>_runtime</td><td>▁▁▂▂▂▂▂▂▃▃▃▃▃▄▄▄▄▅▅▅▅▅▅▅▆▆▆▆▆▆▇▇▇▇▇▇████</td></tr><tr><td>_timestamp</td><td>▁▁▂▂▂▂▂▂▃▃▃▃▃▄▄▄▄▅▅▅▅▅▅▅▆▆▆▆▆▆▇▇▇▇▇▇████</td></tr><tr><td>_step</td><td>▁▁▁▁▂▂▂▂▂▃▃▃▃▃▃▄▄▄▄▄▅▅▅▅▅▅▆▆▆▆▆▇▇▇▇▇▇███</td></tr></table><br/>"
      ],
      "text/plain": [
       "<IPython.core.display.HTML object>"
      ]
     },
     "metadata": {},
     "output_type": "display_data"
    },
    {
     "data": {
      "text/html": [
       "Synced 5 W&B file(s), 0 media file(s), 0 artifact file(s) and 0 other file(s)"
      ],
      "text/plain": [
       "<IPython.core.display.HTML object>"
      ]
     },
     "metadata": {},
     "output_type": "display_data"
    },
    {
     "data": {
      "text/html": [
       "\n",
       "                    <br/>Synced <strong style=\"color:#cdcd00\">magic-sweep-34</strong>: <a href=\"https://wandb.ai/teamtom/churn-class-imbalance-with-treshold01/runs/w31gdzad\" target=\"_blank\">https://wandb.ai/teamtom/churn-class-imbalance-with-treshold01/runs/w31gdzad</a><br/>\n",
       "                "
      ],
      "text/plain": [
       "<IPython.core.display.HTML object>"
      ]
     },
     "metadata": {},
     "output_type": "display_data"
    },
    {
     "name": "stderr",
     "output_type": "stream",
     "text": [
      "wandb: Agent Starting Run: t6sb7q4p with config:\n",
      "wandb: \tbatch_size: 32\n",
      "wandb: \tepochs: 100\n",
      "wandb: \tlearning_rate: 0.005\n",
      "wandb: \tthreshold: 0.4210526315789474\n",
      "wandb: wandb version 0.12.3 is available!  To upgrade, please run:\n",
      "wandb:  $ pip install wandb --upgrade\n"
     ]
    },
    {
     "data": {
      "text/html": [
       "\n",
       "                Tracking run with wandb version 0.10.31<br/>\n",
       "                Syncing run <strong style=\"color:#cdcd00\">devoted-sweep-35</strong> to <a href=\"https://wandb.ai\" target=\"_blank\">Weights & Biases</a> <a href=\"https://docs.wandb.com/integrations/jupyter.html\" target=\"_blank\">(Documentation)</a>.<br/>\n",
       "                Project page: <a href=\"https://wandb.ai/teamtom/churn-class-imbalance-with-treshold01\" target=\"_blank\">https://wandb.ai/teamtom/churn-class-imbalance-with-treshold01</a><br/>\n",
       "                Sweep page: <a href=\"https://wandb.ai/teamtom/churn-class-imbalance-with-treshold01/sweeps/d22sfkpk\" target=\"_blank\">https://wandb.ai/teamtom/churn-class-imbalance-with-treshold01/sweeps/d22sfkpk</a><br/>\n",
       "Run page: <a href=\"https://wandb.ai/teamtom/churn-class-imbalance-with-treshold01/runs/t6sb7q4p\" target=\"_blank\">https://wandb.ai/teamtom/churn-class-imbalance-with-treshold01/runs/t6sb7q4p</a><br/>\n",
       "                Run data is saved locally in <code>c:\\python\\anaconda_base\\pytorch-tutorial\\wandb\\run-20211003_220918-t6sb7q4p</code><br/><br/>\n",
       "            "
      ],
      "text/plain": [
       "<IPython.core.display.HTML object>"
      ]
     },
     "metadata": {},
     "output_type": "display_data"
    },
    {
     "name": "stdout",
     "output_type": "stream",
     "text": [
      "dataset size: 10000\n",
      "dataset samples shape: torch.Size([10000, 9])\n",
      "dataset classes shape: torch.Size([10000, 1])\n",
      "| Epoch: 0010 | Train Loss: 0.446 | Train Acc: 80.72% | Val. Loss: 0.427 | Val. Acc: 82.33% |\n",
      "| Epoch: 0020 | Train Loss: 0.439 | Train Acc: 80.82% | Val. Loss: 0.421 | Val. Acc: 82.76% |\n",
      "| Epoch: 0030 | Train Loss: 0.439 | Train Acc: 80.59% | Val. Loss: 0.420 | Val. Acc: 82.65% |\n",
      "| Epoch: 0040 | Train Loss: 0.439 | Train Acc: 80.61% | Val. Loss: 0.424 | Val. Acc: 81.14% |\n",
      "| Epoch: 0050 | Train Loss: 0.438 | Train Acc: 80.67% | Val. Loss: 0.424 | Val. Acc: 80.28% |\n",
      "| Epoch: 0060 | Train Loss: 0.437 | Train Acc: 80.84% | Val. Loss: 0.420 | Val. Acc: 81.90% |\n",
      "| Epoch: 0070 | Train Loss: 0.439 | Train Acc: 80.36% | Val. Loss: 0.416 | Val. Acc: 82.22% |\n",
      "| Epoch: 0080 | Train Loss: 0.438 | Train Acc: 80.71% | Val. Loss: 0.417 | Val. Acc: 81.79% |\n",
      "| Epoch: 0090 | Train Loss: 0.438 | Train Acc: 80.81% | Val. Loss: 0.418 | Val. Acc: 82.22% |\n",
      "| Epoch: 0100 | Train Loss: 0.438 | Train Acc: 80.51% | Val. Loss: 0.418 | Val. Acc: 81.90% |\n"
     ]
    },
    {
     "data": {
      "text/html": [
       "<br/>Waiting for W&B process to finish, PID 11448<br/>Program ended successfully."
      ],
      "text/plain": [
       "<IPython.core.display.HTML object>"
      ]
     },
     "metadata": {},
     "output_type": "display_data"
    },
    {
     "data": {
      "application/vnd.jupyter.widget-view+json": {
       "model_id": "ef337759dd1e4f1c972995a54b7a2ddf",
       "version_major": 2,
       "version_minor": 0
      },
      "text/plain": [
       "VBox(children=(Label(value=' 0.00MB of 0.00MB uploaded (0.00MB deduped)\\r'), FloatProgress(value=1.0, max=1.0)…"
      ]
     },
     "metadata": {},
     "output_type": "display_data"
    },
    {
     "data": {
      "text/html": [
       "Find user logs for this run at: <code>c:\\python\\anaconda_base\\pytorch-tutorial\\wandb\\run-20211003_220918-t6sb7q4p\\logs\\debug.log</code>"
      ],
      "text/plain": [
       "<IPython.core.display.HTML object>"
      ]
     },
     "metadata": {},
     "output_type": "display_data"
    },
    {
     "data": {
      "text/html": [
       "Find internal logs for this run at: <code>c:\\python\\anaconda_base\\pytorch-tutorial\\wandb\\run-20211003_220918-t6sb7q4p\\logs\\debug-internal.log</code>"
      ],
      "text/plain": [
       "<IPython.core.display.HTML object>"
      ]
     },
     "metadata": {},
     "output_type": "display_data"
    },
    {
     "data": {
      "text/html": [
       "<h3>Run summary:</h3><br/><style>\n",
       "    table.wandb td:nth-child(1) { padding: 0 10px; text-align: right }\n",
       "    </style><table class=\"wandb\">\n",
       "<tr><td>train_loss</td><td>0.43794</td></tr><tr><td>train_acc</td><td>0.80512</td></tr><tr><td>valid_loss</td><td>0.41805</td></tr><tr><td>valid_acc</td><td>0.81897</td></tr><tr><td>lr</td><td>0.005</td></tr><tr><td>epoch_time</td><td>0.23752</td></tr><tr><td>_runtime</td><td>29</td></tr><tr><td>_timestamp</td><td>1633291788</td></tr><tr><td>_step</td><td>99</td></tr><tr><td>accuracy</td><td>0.812</td></tr><tr><td>prec</td><td>0.62121</td></tr><tr><td>recall</td><td>0.20098</td></tr><tr><td>f1</td><td>0.3037</td></tr></table>"
      ],
      "text/plain": [
       "<IPython.core.display.HTML object>"
      ]
     },
     "metadata": {},
     "output_type": "display_data"
    },
    {
     "data": {
      "text/html": [
       "<h3>Run history:</h3><br/><style>\n",
       "    table.wandb td:nth-child(1) { padding: 0 10px; text-align: right }\n",
       "    </style><table class=\"wandb\">\n",
       "<tr><td>train_loss</td><td>█▄▂▂▂▁▁▁▁▁▁▁▁▁▁▁▁▁▁▁▁▁▁▁▁▁▁▁▁▁▁▁▁▁▁▁▁▁▁▁</td></tr><tr><td>train_acc</td><td>▁▇██████████████████████████████████████</td></tr><tr><td>valid_loss</td><td>█▆▃▃▂▂▃▂▂▂▁▃▄▁▃▃▁▂▁▂▁▁▂▁▂▂▃▁▁▃▂▁▂▂▃▁▂▄▃▁</td></tr><tr><td>valid_acc</td><td>▃▁▆▇▆█▇██▆▆▅▄▇▅▃▇▅▆▆▅▆▃▇▆▅▂▆▆▃▅▆▆▅▄▇▆▅▅▆</td></tr><tr><td>lr</td><td>▁▁▁▁▁▁▁▁▁▁▁▁▁▁▁▁▁▁▁▁▁▁▁▁▁▁▁▁▁▁▁▁▁▁▁▁▁▁▁▁</td></tr><tr><td>epoch_time</td><td>▃▄▂▄▄▄▃▄▄▄▂▄▃█▄▃▅▁▁▂▅▄▄▄▄▄█▅▅▁▂▂▂▂▂▁▂▂▃▂</td></tr><tr><td>_runtime</td><td>▁▁▁▂▂▂▂▂▃▃▃▃▃▄▄▄▄▄▄▅▅▅▅▅▅▆▆▆▆▆▇▇▇▇▇▇▇███</td></tr><tr><td>_timestamp</td><td>▁▁▁▂▂▂▂▂▃▃▃▃▃▄▄▄▄▄▄▅▅▅▅▅▅▆▆▆▆▆▇▇▇▇▇▇▇███</td></tr><tr><td>_step</td><td>▁▁▁▁▂▂▂▂▂▃▃▃▃▃▃▄▄▄▄▄▅▅▅▅▅▅▆▆▆▆▆▇▇▇▇▇▇███</td></tr></table><br/>"
      ],
      "text/plain": [
       "<IPython.core.display.HTML object>"
      ]
     },
     "metadata": {},
     "output_type": "display_data"
    },
    {
     "data": {
      "text/html": [
       "Synced 5 W&B file(s), 0 media file(s), 0 artifact file(s) and 0 other file(s)"
      ],
      "text/plain": [
       "<IPython.core.display.HTML object>"
      ]
     },
     "metadata": {},
     "output_type": "display_data"
    },
    {
     "data": {
      "text/html": [
       "\n",
       "                    <br/>Synced <strong style=\"color:#cdcd00\">devoted-sweep-35</strong>: <a href=\"https://wandb.ai/teamtom/churn-class-imbalance-with-treshold01/runs/t6sb7q4p\" target=\"_blank\">https://wandb.ai/teamtom/churn-class-imbalance-with-treshold01/runs/t6sb7q4p</a><br/>\n",
       "                "
      ],
      "text/plain": [
       "<IPython.core.display.HTML object>"
      ]
     },
     "metadata": {},
     "output_type": "display_data"
    },
    {
     "name": "stderr",
     "output_type": "stream",
     "text": [
      "wandb: Agent Starting Run: ozajvx2n with config:\n",
      "wandb: \tbatch_size: 32\n",
      "wandb: \tepochs: 100\n",
      "wandb: \tlearning_rate: 0.005\n",
      "wandb: \tthreshold: 0.4368421052631579\n",
      "wandb: wandb version 0.12.3 is available!  To upgrade, please run:\n",
      "wandb:  $ pip install wandb --upgrade\n"
     ]
    },
    {
     "data": {
      "text/html": [
       "\n",
       "                Tracking run with wandb version 0.10.31<br/>\n",
       "                Syncing run <strong style=\"color:#cdcd00\">azure-sweep-36</strong> to <a href=\"https://wandb.ai\" target=\"_blank\">Weights & Biases</a> <a href=\"https://docs.wandb.com/integrations/jupyter.html\" target=\"_blank\">(Documentation)</a>.<br/>\n",
       "                Project page: <a href=\"https://wandb.ai/teamtom/churn-class-imbalance-with-treshold01\" target=\"_blank\">https://wandb.ai/teamtom/churn-class-imbalance-with-treshold01</a><br/>\n",
       "                Sweep page: <a href=\"https://wandb.ai/teamtom/churn-class-imbalance-with-treshold01/sweeps/d22sfkpk\" target=\"_blank\">https://wandb.ai/teamtom/churn-class-imbalance-with-treshold01/sweeps/d22sfkpk</a><br/>\n",
       "Run page: <a href=\"https://wandb.ai/teamtom/churn-class-imbalance-with-treshold01/runs/ozajvx2n\" target=\"_blank\">https://wandb.ai/teamtom/churn-class-imbalance-with-treshold01/runs/ozajvx2n</a><br/>\n",
       "                Run data is saved locally in <code>c:\\python\\anaconda_base\\pytorch-tutorial\\wandb\\run-20211003_220953-ozajvx2n</code><br/><br/>\n",
       "            "
      ],
      "text/plain": [
       "<IPython.core.display.HTML object>"
      ]
     },
     "metadata": {},
     "output_type": "display_data"
    },
    {
     "name": "stdout",
     "output_type": "stream",
     "text": [
      "dataset size: 10000\n",
      "dataset samples shape: torch.Size([10000, 9])\n",
      "dataset classes shape: torch.Size([10000, 1])\n",
      "| Epoch: 0010 | Train Loss: 0.446 | Train Acc: 80.94% | Val. Loss: 0.433 | Val. Acc: 81.90% |\n",
      "| Epoch: 0020 | Train Loss: 0.442 | Train Acc: 80.70% | Val. Loss: 0.442 | Val. Acc: 81.25% |\n",
      "| Epoch: 0030 | Train Loss: 0.438 | Train Acc: 80.76% | Val. Loss: 0.426 | Val. Acc: 82.11% |\n",
      "| Epoch: 0040 | Train Loss: 0.439 | Train Acc: 80.57% | Val. Loss: 0.417 | Val. Acc: 81.90% |\n",
      "| Epoch: 0050 | Train Loss: 0.441 | Train Acc: 80.57% | Val. Loss: 0.419 | Val. Acc: 81.90% |\n",
      "| Epoch: 0060 | Train Loss: 0.439 | Train Acc: 80.56% | Val. Loss: 0.423 | Val. Acc: 81.36% |\n",
      "| Epoch: 0070 | Train Loss: 0.439 | Train Acc: 80.45% | Val. Loss: 0.423 | Val. Acc: 82.00% |\n",
      "| Epoch: 0080 | Train Loss: 0.440 | Train Acc: 80.61% | Val. Loss: 0.432 | Val. Acc: 80.82% |\n",
      "| Epoch: 0090 | Train Loss: 0.439 | Train Acc: 80.51% | Val. Loss: 0.432 | Val. Acc: 80.50% |\n",
      "| Epoch: 0100 | Train Loss: 0.437 | Train Acc: 80.56% | Val. Loss: 0.431 | Val. Acc: 81.36% |\n"
     ]
    },
    {
     "data": {
      "text/html": [
       "<br/>Waiting for W&B process to finish, PID 19824<br/>Program ended successfully."
      ],
      "text/plain": [
       "<IPython.core.display.HTML object>"
      ]
     },
     "metadata": {},
     "output_type": "display_data"
    },
    {
     "data": {
      "application/vnd.jupyter.widget-view+json": {
       "model_id": "11b92c1f9da5446497ed5832c5c3a582",
       "version_major": 2,
       "version_minor": 0
      },
      "text/plain": [
       "VBox(children=(Label(value=' 0.00MB of 0.00MB uploaded (0.00MB deduped)\\r'), FloatProgress(value=1.0, max=1.0)…"
      ]
     },
     "metadata": {},
     "output_type": "display_data"
    },
    {
     "data": {
      "text/html": [
       "Find user logs for this run at: <code>c:\\python\\anaconda_base\\pytorch-tutorial\\wandb\\run-20211003_220953-ozajvx2n\\logs\\debug.log</code>"
      ],
      "text/plain": [
       "<IPython.core.display.HTML object>"
      ]
     },
     "metadata": {},
     "output_type": "display_data"
    },
    {
     "data": {
      "text/html": [
       "Find internal logs for this run at: <code>c:\\python\\anaconda_base\\pytorch-tutorial\\wandb\\run-20211003_220953-ozajvx2n\\logs\\debug-internal.log</code>"
      ],
      "text/plain": [
       "<IPython.core.display.HTML object>"
      ]
     },
     "metadata": {},
     "output_type": "display_data"
    },
    {
     "data": {
      "text/html": [
       "<h3>Run summary:</h3><br/><style>\n",
       "    table.wandb td:nth-child(1) { padding: 0 10px; text-align: right }\n",
       "    </style><table class=\"wandb\">\n",
       "<tr><td>train_loss</td><td>0.4375</td></tr><tr><td>train_acc</td><td>0.80561</td></tr><tr><td>valid_loss</td><td>0.43068</td></tr><tr><td>valid_acc</td><td>0.81358</td></tr><tr><td>lr</td><td>0.005</td></tr><tr><td>epoch_time</td><td>0.1761</td></tr><tr><td>_runtime</td><td>29</td></tr><tr><td>_timestamp</td><td>1633291822</td></tr><tr><td>_step</td><td>99</td></tr><tr><td>accuracy</td><td>0.817</td></tr><tr><td>prec</td><td>0.62651</td></tr><tr><td>recall</td><td>0.2549</td></tr><tr><td>f1</td><td>0.36237</td></tr></table>"
      ],
      "text/plain": [
       "<IPython.core.display.HTML object>"
      ]
     },
     "metadata": {},
     "output_type": "display_data"
    },
    {
     "data": {
      "text/html": [
       "<h3>Run history:</h3><br/><style>\n",
       "    table.wandb td:nth-child(1) { padding: 0 10px; text-align: right }\n",
       "    </style><table class=\"wandb\">\n",
       "<tr><td>train_loss</td><td>█▃▂▂▂▁▁▁▁▁▁▁▁▁▁▁▁▁▁▁▁▁▁▁▁▁▁▁▁▁▁▁▁▁▁▁▁▁▁▁</td></tr><tr><td>train_acc</td><td>▁▇██████████████████████████████████████</td></tr><tr><td>valid_loss</td><td>█▇▄▄▂▂▂▁▂▁▃▁▂▂▂▃▂▂▂▁▁▂▃▂▂▄▃▃▂▁▂▁▁▂▂▂▂▂▁▂</td></tr><tr><td>valid_acc</td><td>▄▁▅▅█▆▆███▅█▆▆▆▅▅▅▇▇▇▅▅▆▆▄▄▆▃▇▅▇▇▅▆▆▅▇▇▆</td></tr><tr><td>lr</td><td>▁▁▁▁▁▁▁▁▁▁▁▁▁▁▁▁▁▁▁▁▁▁▁▁▁▁▁▁▁▁▁▁▁▁▁▁▁▁▁▁</td></tr><tr><td>epoch_time</td><td>▄▆█▅▅▅▅▄▄▅▄▅▅▄▆▅▅▃▂▅▁▂▂▅▅▄▅▅▅▅▅▂▂▃▂▂▁▂▂▁</td></tr><tr><td>_runtime</td><td>▁▁▂▂▂▂▂▂▃▃▃▃▃▄▄▄▄▄▄▅▅▅▅▅▅▆▆▆▆▆▇▇▇▇▇▇▇▇██</td></tr><tr><td>_timestamp</td><td>▁▁▂▂▂▂▂▂▃▃▃▃▃▄▄▄▄▄▄▅▅▅▅▅▅▆▆▆▆▆▇▇▇▇▇▇▇▇██</td></tr><tr><td>_step</td><td>▁▁▁▁▂▂▂▂▂▃▃▃▃▃▃▄▄▄▄▄▅▅▅▅▅▅▆▆▆▆▆▇▇▇▇▇▇███</td></tr></table><br/>"
      ],
      "text/plain": [
       "<IPython.core.display.HTML object>"
      ]
     },
     "metadata": {},
     "output_type": "display_data"
    },
    {
     "data": {
      "text/html": [
       "Synced 5 W&B file(s), 0 media file(s), 0 artifact file(s) and 0 other file(s)"
      ],
      "text/plain": [
       "<IPython.core.display.HTML object>"
      ]
     },
     "metadata": {},
     "output_type": "display_data"
    },
    {
     "data": {
      "text/html": [
       "\n",
       "                    <br/>Synced <strong style=\"color:#cdcd00\">azure-sweep-36</strong>: <a href=\"https://wandb.ai/teamtom/churn-class-imbalance-with-treshold01/runs/ozajvx2n\" target=\"_blank\">https://wandb.ai/teamtom/churn-class-imbalance-with-treshold01/runs/ozajvx2n</a><br/>\n",
       "                "
      ],
      "text/plain": [
       "<IPython.core.display.HTML object>"
      ]
     },
     "metadata": {},
     "output_type": "display_data"
    },
    {
     "name": "stderr",
     "output_type": "stream",
     "text": [
      "wandb: Agent Starting Run: rraxt9mv with config:\n",
      "wandb: \tbatch_size: 32\n",
      "wandb: \tepochs: 100\n",
      "wandb: \tlearning_rate: 0.005\n",
      "wandb: \tthreshold: 0.4526315789473685\n",
      "wandb: wandb version 0.12.3 is available!  To upgrade, please run:\n",
      "wandb:  $ pip install wandb --upgrade\n"
     ]
    },
    {
     "data": {
      "text/html": [
       "\n",
       "                Tracking run with wandb version 0.10.31<br/>\n",
       "                Syncing run <strong style=\"color:#cdcd00\">colorful-sweep-37</strong> to <a href=\"https://wandb.ai\" target=\"_blank\">Weights & Biases</a> <a href=\"https://docs.wandb.com/integrations/jupyter.html\" target=\"_blank\">(Documentation)</a>.<br/>\n",
       "                Project page: <a href=\"https://wandb.ai/teamtom/churn-class-imbalance-with-treshold01\" target=\"_blank\">https://wandb.ai/teamtom/churn-class-imbalance-with-treshold01</a><br/>\n",
       "                Sweep page: <a href=\"https://wandb.ai/teamtom/churn-class-imbalance-with-treshold01/sweeps/d22sfkpk\" target=\"_blank\">https://wandb.ai/teamtom/churn-class-imbalance-with-treshold01/sweeps/d22sfkpk</a><br/>\n",
       "Run page: <a href=\"https://wandb.ai/teamtom/churn-class-imbalance-with-treshold01/runs/rraxt9mv\" target=\"_blank\">https://wandb.ai/teamtom/churn-class-imbalance-with-treshold01/runs/rraxt9mv</a><br/>\n",
       "                Run data is saved locally in <code>c:\\python\\anaconda_base\\pytorch-tutorial\\wandb\\run-20211003_221027-rraxt9mv</code><br/><br/>\n",
       "            "
      ],
      "text/plain": [
       "<IPython.core.display.HTML object>"
      ]
     },
     "metadata": {},
     "output_type": "display_data"
    },
    {
     "name": "stdout",
     "output_type": "stream",
     "text": [
      "dataset size: 10000\n",
      "dataset samples shape: torch.Size([10000, 9])\n",
      "dataset classes shape: torch.Size([10000, 1])\n",
      "| Epoch: 0010 | Train Loss: 0.444 | Train Acc: 80.73% | Val. Loss: 0.440 | Val. Acc: 81.57% |\n",
      "| Epoch: 0020 | Train Loss: 0.440 | Train Acc: 80.76% | Val. Loss: 0.425 | Val. Acc: 81.57% |\n",
      "| Epoch: 0030 | Train Loss: 0.440 | Train Acc: 80.73% | Val. Loss: 0.426 | Val. Acc: 81.90% |\n",
      "| Epoch: 0040 | Train Loss: 0.439 | Train Acc: 80.59% | Val. Loss: 0.418 | Val. Acc: 81.79% |\n",
      "| Epoch: 0050 | Train Loss: 0.438 | Train Acc: 80.47% | Val. Loss: 0.425 | Val. Acc: 81.25% |\n",
      "| Epoch: 0060 | Train Loss: 0.438 | Train Acc: 80.67% | Val. Loss: 0.419 | Val. Acc: 82.00% |\n",
      "| Epoch: 0070 | Train Loss: 0.438 | Train Acc: 80.54% | Val. Loss: 0.454 | Val. Acc: 80.71% |\n",
      "| Epoch: 0080 | Train Loss: 0.443 | Train Acc: 80.38% | Val. Loss: 0.419 | Val. Acc: 82.00% |\n",
      "| Epoch: 0090 | Train Loss: 0.438 | Train Acc: 80.47% | Val. Loss: 0.416 | Val. Acc: 82.00% |\n",
      "| Epoch: 0100 | Train Loss: 0.438 | Train Acc: 80.62% | Val. Loss: 0.417 | Val. Acc: 82.00% |\n"
     ]
    },
    {
     "data": {
      "text/html": [
       "<br/>Waiting for W&B process to finish, PID 24752<br/>Program ended successfully."
      ],
      "text/plain": [
       "<IPython.core.display.HTML object>"
      ]
     },
     "metadata": {},
     "output_type": "display_data"
    },
    {
     "data": {
      "application/vnd.jupyter.widget-view+json": {
       "model_id": "3757c80db8fe4fe09e017bd8bc9f373f",
       "version_major": 2,
       "version_minor": 0
      },
      "text/plain": [
       "VBox(children=(Label(value=' 0.00MB of 0.00MB uploaded (0.00MB deduped)\\r'), FloatProgress(value=1.0, max=1.0)…"
      ]
     },
     "metadata": {},
     "output_type": "display_data"
    },
    {
     "data": {
      "text/html": [
       "Find user logs for this run at: <code>c:\\python\\anaconda_base\\pytorch-tutorial\\wandb\\run-20211003_221027-rraxt9mv\\logs\\debug.log</code>"
      ],
      "text/plain": [
       "<IPython.core.display.HTML object>"
      ]
     },
     "metadata": {},
     "output_type": "display_data"
    },
    {
     "data": {
      "text/html": [
       "Find internal logs for this run at: <code>c:\\python\\anaconda_base\\pytorch-tutorial\\wandb\\run-20211003_221027-rraxt9mv\\logs\\debug-internal.log</code>"
      ],
      "text/plain": [
       "<IPython.core.display.HTML object>"
      ]
     },
     "metadata": {},
     "output_type": "display_data"
    },
    {
     "data": {
      "text/html": [
       "<h3>Run summary:</h3><br/><style>\n",
       "    table.wandb td:nth-child(1) { padding: 0 10px; text-align: right }\n",
       "    </style><table class=\"wandb\">\n",
       "<tr><td>train_loss</td><td>0.43848</td></tr><tr><td>train_acc</td><td>0.80623</td></tr><tr><td>valid_loss</td><td>0.4173</td></tr><tr><td>valid_acc</td><td>0.82004</td></tr><tr><td>lr</td><td>0.005</td></tr><tr><td>epoch_time</td><td>0.20635</td></tr><tr><td>_runtime</td><td>28</td></tr><tr><td>_timestamp</td><td>1633291856</td></tr><tr><td>_step</td><td>99</td></tr><tr><td>accuracy</td><td>0.816</td></tr><tr><td>prec</td><td>0.62195</td></tr><tr><td>recall</td><td>0.25</td></tr><tr><td>f1</td><td>0.35664</td></tr></table>"
      ],
      "text/plain": [
       "<IPython.core.display.HTML object>"
      ]
     },
     "metadata": {},
     "output_type": "display_data"
    },
    {
     "data": {
      "text/html": [
       "<h3>Run history:</h3><br/><style>\n",
       "    table.wandb td:nth-child(1) { padding: 0 10px; text-align: right }\n",
       "    </style><table class=\"wandb\">\n",
       "<tr><td>train_loss</td><td>█▄▃▂▂▁▁▁▁▁▁▁▁▁▁▁▁▁▁▁▁▁▁▁▁▁▁▁▁▁▁▁▁▁▁▁▁▁▁▁</td></tr><tr><td>train_acc</td><td>▁▃▇▇▇█▇▆▆█▇▆▆▆▇▆▆▄▅▆▆▆▆▆▆▆▆▅▇▆▅▅▆▅▅▆▅▇▆▆</td></tr><tr><td>valid_loss</td><td>█▅▄▄▂▃▃▂▃▂▄▂▁▄▃▂▄▄▁▂▃▃▁▁▄▃▁▂▂▂▁▂▁▃▄▂▃▁▂▁</td></tr><tr><td>valid_acc</td><td>▁▄▃▂▇▅▆▅▅▆▅▇▆▁▄▃▃▄▆▆▄▃▆█▄▄▆▄▆▄▆▅▅▄▂▃▄▆▄▆</td></tr><tr><td>lr</td><td>▁▁▁▁▁▁▁▁▁▁▁▁▁▁▁▁▁▁▁▁▁▁▁▁▁▁▁▁▁▁▁▁▁▁▁▁▁▁▁▁</td></tr><tr><td>epoch_time</td><td>█▄▃▃▃▄▄▅▄▃▃▄▃▄▄▄▃▂▁▂▂▄▄▃▄▃▄▄▃▄▁▂▂▃▂▂▂▁▁▂</td></tr><tr><td>_runtime</td><td>▁▁▁▂▂▂▂▂▃▃▃▃▃▄▄▄▄▅▅▅▅▅▅▅▆▆▆▆▆▇▇▇▇▇▇▇████</td></tr><tr><td>_timestamp</td><td>▁▁▁▂▂▂▂▂▃▃▃▃▃▄▄▄▄▅▅▅▅▅▅▅▆▆▆▆▆▇▇▇▇▇▇▇████</td></tr><tr><td>_step</td><td>▁▁▁▁▂▂▂▂▂▃▃▃▃▃▃▄▄▄▄▄▅▅▅▅▅▅▆▆▆▆▆▇▇▇▇▇▇███</td></tr></table><br/>"
      ],
      "text/plain": [
       "<IPython.core.display.HTML object>"
      ]
     },
     "metadata": {},
     "output_type": "display_data"
    },
    {
     "data": {
      "text/html": [
       "Synced 5 W&B file(s), 0 media file(s), 0 artifact file(s) and 0 other file(s)"
      ],
      "text/plain": [
       "<IPython.core.display.HTML object>"
      ]
     },
     "metadata": {},
     "output_type": "display_data"
    },
    {
     "data": {
      "text/html": [
       "\n",
       "                    <br/>Synced <strong style=\"color:#cdcd00\">colorful-sweep-37</strong>: <a href=\"https://wandb.ai/teamtom/churn-class-imbalance-with-treshold01/runs/rraxt9mv\" target=\"_blank\">https://wandb.ai/teamtom/churn-class-imbalance-with-treshold01/runs/rraxt9mv</a><br/>\n",
       "                "
      ],
      "text/plain": [
       "<IPython.core.display.HTML object>"
      ]
     },
     "metadata": {},
     "output_type": "display_data"
    },
    {
     "name": "stderr",
     "output_type": "stream",
     "text": [
      "wandb: Agent Starting Run: y5r8vhh7 with config:\n",
      "wandb: \tbatch_size: 32\n",
      "wandb: \tepochs: 100\n",
      "wandb: \tlearning_rate: 0.005\n",
      "wandb: \tthreshold: 0.46842105263157896\n",
      "wandb: wandb version 0.12.3 is available!  To upgrade, please run:\n",
      "wandb:  $ pip install wandb --upgrade\n"
     ]
    },
    {
     "data": {
      "text/html": [
       "\n",
       "                Tracking run with wandb version 0.10.31<br/>\n",
       "                Syncing run <strong style=\"color:#cdcd00\">dark-sweep-38</strong> to <a href=\"https://wandb.ai\" target=\"_blank\">Weights & Biases</a> <a href=\"https://docs.wandb.com/integrations/jupyter.html\" target=\"_blank\">(Documentation)</a>.<br/>\n",
       "                Project page: <a href=\"https://wandb.ai/teamtom/churn-class-imbalance-with-treshold01\" target=\"_blank\">https://wandb.ai/teamtom/churn-class-imbalance-with-treshold01</a><br/>\n",
       "                Sweep page: <a href=\"https://wandb.ai/teamtom/churn-class-imbalance-with-treshold01/sweeps/d22sfkpk\" target=\"_blank\">https://wandb.ai/teamtom/churn-class-imbalance-with-treshold01/sweeps/d22sfkpk</a><br/>\n",
       "Run page: <a href=\"https://wandb.ai/teamtom/churn-class-imbalance-with-treshold01/runs/y5r8vhh7\" target=\"_blank\">https://wandb.ai/teamtom/churn-class-imbalance-with-treshold01/runs/y5r8vhh7</a><br/>\n",
       "                Run data is saved locally in <code>c:\\python\\anaconda_base\\pytorch-tutorial\\wandb\\run-20211003_221101-y5r8vhh7</code><br/><br/>\n",
       "            "
      ],
      "text/plain": [
       "<IPython.core.display.HTML object>"
      ]
     },
     "metadata": {},
     "output_type": "display_data"
    },
    {
     "name": "stdout",
     "output_type": "stream",
     "text": [
      "dataset size: 10000\n",
      "dataset samples shape: torch.Size([10000, 9])\n",
      "dataset classes shape: torch.Size([10000, 1])\n",
      "| Epoch: 0010 | Train Loss: 0.445 | Train Acc: 80.89% | Val. Loss: 0.428 | Val. Acc: 82.44% |\n",
      "| Epoch: 0020 | Train Loss: 0.439 | Train Acc: 80.73% | Val. Loss: 0.430 | Val. Acc: 81.68% |\n",
      "| Epoch: 0030 | Train Loss: 0.438 | Train Acc: 80.67% | Val. Loss: 0.430 | Val. Acc: 81.36% |\n",
      "| Epoch: 0040 | Train Loss: 0.439 | Train Acc: 80.57% | Val. Loss: 0.417 | Val. Acc: 82.87% |\n",
      "| Epoch: 0050 | Train Loss: 0.437 | Train Acc: 80.73% | Val. Loss: 0.433 | Val. Acc: 81.47% |\n",
      "| Epoch: 0060 | Train Loss: 0.438 | Train Acc: 80.60% | Val. Loss: 0.440 | Val. Acc: 80.28% |\n",
      "| Epoch: 0070 | Train Loss: 0.437 | Train Acc: 80.52% | Val. Loss: 0.434 | Val. Acc: 81.68% |\n",
      "| Epoch: 0080 | Train Loss: 0.438 | Train Acc: 80.49% | Val. Loss: 0.435 | Val. Acc: 80.17% |\n",
      "| Epoch: 0090 | Train Loss: 0.438 | Train Acc: 80.68% | Val. Loss: 0.430 | Val. Acc: 81.36% |\n",
      "| Epoch: 0100 | Train Loss: 0.439 | Train Acc: 80.27% | Val. Loss: 0.433 | Val. Acc: 81.03% |\n"
     ]
    },
    {
     "data": {
      "text/html": [
       "<br/>Waiting for W&B process to finish, PID 2180<br/>Program ended successfully."
      ],
      "text/plain": [
       "<IPython.core.display.HTML object>"
      ]
     },
     "metadata": {},
     "output_type": "display_data"
    },
    {
     "data": {
      "application/vnd.jupyter.widget-view+json": {
       "model_id": "0660b2cd5ef24b39a60da4f6e4223acd",
       "version_major": 2,
       "version_minor": 0
      },
      "text/plain": [
       "VBox(children=(Label(value=' 0.00MB of 0.00MB uploaded (0.00MB deduped)\\r'), FloatProgress(value=1.0, max=1.0)…"
      ]
     },
     "metadata": {},
     "output_type": "display_data"
    },
    {
     "data": {
      "text/html": [
       "Find user logs for this run at: <code>c:\\python\\anaconda_base\\pytorch-tutorial\\wandb\\run-20211003_221101-y5r8vhh7\\logs\\debug.log</code>"
      ],
      "text/plain": [
       "<IPython.core.display.HTML object>"
      ]
     },
     "metadata": {},
     "output_type": "display_data"
    },
    {
     "data": {
      "text/html": [
       "Find internal logs for this run at: <code>c:\\python\\anaconda_base\\pytorch-tutorial\\wandb\\run-20211003_221101-y5r8vhh7\\logs\\debug-internal.log</code>"
      ],
      "text/plain": [
       "<IPython.core.display.HTML object>"
      ]
     },
     "metadata": {},
     "output_type": "display_data"
    },
    {
     "data": {
      "text/html": [
       "<h3>Run summary:</h3><br/><style>\n",
       "    table.wandb td:nth-child(1) { padding: 0 10px; text-align: right }\n",
       "    </style><table class=\"wandb\">\n",
       "<tr><td>train_loss</td><td>0.43884</td></tr><tr><td>train_acc</td><td>0.80266</td></tr><tr><td>valid_loss</td><td>0.43259</td></tr><tr><td>valid_acc</td><td>0.81034</td></tr><tr><td>lr</td><td>0.005</td></tr><tr><td>epoch_time</td><td>0.21556</td></tr><tr><td>_runtime</td><td>34</td></tr><tr><td>_timestamp</td><td>1633291896</td></tr><tr><td>_step</td><td>99</td></tr><tr><td>accuracy</td><td>0.812</td></tr><tr><td>prec</td><td>0.61765</td></tr><tr><td>recall</td><td>0.20588</td></tr><tr><td>f1</td><td>0.30882</td></tr></table>"
      ],
      "text/plain": [
       "<IPython.core.display.HTML object>"
      ]
     },
     "metadata": {},
     "output_type": "display_data"
    },
    {
     "data": {
      "text/html": [
       "<h3>Run history:</h3><br/><style>\n",
       "    table.wandb td:nth-child(1) { padding: 0 10px; text-align: right }\n",
       "    </style><table class=\"wandb\">\n",
       "<tr><td>train_loss</td><td>█▄▃▂▂▂▁▁▁▁▁▁▁▁▁▁▁▁▁▁▁▁▁▁▁▁▁▁▁▁▁▁▁▁▁▁▁▁▁▁</td></tr><tr><td>train_acc</td><td>▁▄████▇█▇██▇▇▇▆▆▆▇▇▇▆▇▆▅▆▆▇▆▆▇▆▇▅▆▆▆▆▆▆▅</td></tr><tr><td>valid_loss</td><td>██▄▄▂▂▃▁▃▂▂▄▃▂▂▃▄▂▃▁▂▂▁▃▂▅▄▄▂▁▁▂▂▃▃▃▁▃▃▃</td></tr><tr><td>valid_acc</td><td>▄▁▆▅▇█▆█▆▇▇▅▆▇▆▆▆▇▇▇▆▆▇▆▇▆▆▆▇▇▇▆▆▆▆▅▇▅▆▅</td></tr><tr><td>lr</td><td>▁▁▁▁▁▁▁▁▁▁▁▁▁▁▁▁▁▁▁▁▁▁▁▁▁▁▁▁▁▁▁▁▁▁▁▁▁▁▁▁</td></tr><tr><td>epoch_time</td><td>▃▃▃▃▃▃▃▃▂▂▂▂▃▃▃▃▃▁▂▂▂▃▃▅▂▅█▆▄▃▄▆▂▃▅▆█▂▂▁</td></tr><tr><td>_runtime</td><td>▁▁▁▁▂▂▂▂▂▃▃▃▃▃▃▃▄▄▄▄▄▄▅▅▅▅▆▆▆▆▆▆▇▇▇▇████</td></tr><tr><td>_timestamp</td><td>▁▁▁▁▂▂▂▂▂▃▃▃▃▃▃▃▄▄▄▄▄▄▅▅▅▅▆▆▆▆▆▆▇▇▇▇████</td></tr><tr><td>_step</td><td>▁▁▁▁▂▂▂▂▂▃▃▃▃▃▃▄▄▄▄▄▅▅▅▅▅▅▆▆▆▆▆▇▇▇▇▇▇███</td></tr></table><br/>"
      ],
      "text/plain": [
       "<IPython.core.display.HTML object>"
      ]
     },
     "metadata": {},
     "output_type": "display_data"
    },
    {
     "data": {
      "text/html": [
       "Synced 5 W&B file(s), 0 media file(s), 0 artifact file(s) and 0 other file(s)"
      ],
      "text/plain": [
       "<IPython.core.display.HTML object>"
      ]
     },
     "metadata": {},
     "output_type": "display_data"
    },
    {
     "data": {
      "text/html": [
       "\n",
       "                    <br/>Synced <strong style=\"color:#cdcd00\">dark-sweep-38</strong>: <a href=\"https://wandb.ai/teamtom/churn-class-imbalance-with-treshold01/runs/y5r8vhh7\" target=\"_blank\">https://wandb.ai/teamtom/churn-class-imbalance-with-treshold01/runs/y5r8vhh7</a><br/>\n",
       "                "
      ],
      "text/plain": [
       "<IPython.core.display.HTML object>"
      ]
     },
     "metadata": {},
     "output_type": "display_data"
    },
    {
     "name": "stderr",
     "output_type": "stream",
     "text": [
      "wandb: Agent Starting Run: w1frpqpo with config:\n",
      "wandb: \tbatch_size: 32\n",
      "wandb: \tepochs: 100\n",
      "wandb: \tlearning_rate: 0.005\n",
      "wandb: \tthreshold: 0.4842105263157895\n",
      "wandb: wandb version 0.12.3 is available!  To upgrade, please run:\n",
      "wandb:  $ pip install wandb --upgrade\n"
     ]
    },
    {
     "data": {
      "text/html": [
       "\n",
       "                Tracking run with wandb version 0.10.31<br/>\n",
       "                Syncing run <strong style=\"color:#cdcd00\">upbeat-sweep-39</strong> to <a href=\"https://wandb.ai\" target=\"_blank\">Weights & Biases</a> <a href=\"https://docs.wandb.com/integrations/jupyter.html\" target=\"_blank\">(Documentation)</a>.<br/>\n",
       "                Project page: <a href=\"https://wandb.ai/teamtom/churn-class-imbalance-with-treshold01\" target=\"_blank\">https://wandb.ai/teamtom/churn-class-imbalance-with-treshold01</a><br/>\n",
       "                Sweep page: <a href=\"https://wandb.ai/teamtom/churn-class-imbalance-with-treshold01/sweeps/d22sfkpk\" target=\"_blank\">https://wandb.ai/teamtom/churn-class-imbalance-with-treshold01/sweeps/d22sfkpk</a><br/>\n",
       "Run page: <a href=\"https://wandb.ai/teamtom/churn-class-imbalance-with-treshold01/runs/w1frpqpo\" target=\"_blank\">https://wandb.ai/teamtom/churn-class-imbalance-with-treshold01/runs/w1frpqpo</a><br/>\n",
       "                Run data is saved locally in <code>c:\\python\\anaconda_base\\pytorch-tutorial\\wandb\\run-20211003_221141-w1frpqpo</code><br/><br/>\n",
       "            "
      ],
      "text/plain": [
       "<IPython.core.display.HTML object>"
      ]
     },
     "metadata": {},
     "output_type": "display_data"
    },
    {
     "name": "stdout",
     "output_type": "stream",
     "text": [
      "dataset size: 10000\n",
      "dataset samples shape: torch.Size([10000, 9])\n",
      "dataset classes shape: torch.Size([10000, 1])\n",
      "| Epoch: 0010 | Train Loss: 0.444 | Train Acc: 80.98% | Val. Loss: 0.430 | Val. Acc: 81.68% |\n",
      "| Epoch: 0020 | Train Loss: 0.441 | Train Acc: 80.73% | Val. Loss: 0.422 | Val. Acc: 82.44% |\n",
      "| Epoch: 0030 | Train Loss: 0.438 | Train Acc: 80.65% | Val. Loss: 0.436 | Val. Acc: 81.14% |\n",
      "| Epoch: 0040 | Train Loss: 0.438 | Train Acc: 80.50% | Val. Loss: 0.421 | Val. Acc: 82.33% |\n",
      "| Epoch: 0050 | Train Loss: 0.438 | Train Acc: 80.47% | Val. Loss: 0.438 | Val. Acc: 81.14% |\n",
      "| Epoch: 0060 | Train Loss: 0.437 | Train Acc: 80.67% | Val. Loss: 0.423 | Val. Acc: 81.79% |\n",
      "| Epoch: 0070 | Train Loss: 0.438 | Train Acc: 80.57% | Val. Loss: 0.417 | Val. Acc: 82.22% |\n",
      "| Epoch: 0080 | Train Loss: 0.437 | Train Acc: 80.49% | Val. Loss: 0.417 | Val. Acc: 82.11% |\n",
      "| Epoch: 0090 | Train Loss: 0.438 | Train Acc: 80.49% | Val. Loss: 0.428 | Val. Acc: 80.93% |\n",
      "| Epoch: 0100 | Train Loss: 0.437 | Train Acc: 80.57% | Val. Loss: 0.423 | Val. Acc: 81.79% |\n"
     ]
    },
    {
     "data": {
      "text/html": [
       "<br/>Waiting for W&B process to finish, PID 23772<br/>Program ended successfully."
      ],
      "text/plain": [
       "<IPython.core.display.HTML object>"
      ]
     },
     "metadata": {},
     "output_type": "display_data"
    },
    {
     "data": {
      "application/vnd.jupyter.widget-view+json": {
       "model_id": "9cfa2d382a7b4ed5bc2ad63651707aa6",
       "version_major": 2,
       "version_minor": 0
      },
      "text/plain": [
       "VBox(children=(Label(value=' 0.00MB of 0.00MB uploaded (0.00MB deduped)\\r'), FloatProgress(value=1.0, max=1.0)…"
      ]
     },
     "metadata": {},
     "output_type": "display_data"
    },
    {
     "data": {
      "text/html": [
       "Find user logs for this run at: <code>c:\\python\\anaconda_base\\pytorch-tutorial\\wandb\\run-20211003_221141-w1frpqpo\\logs\\debug.log</code>"
      ],
      "text/plain": [
       "<IPython.core.display.HTML object>"
      ]
     },
     "metadata": {},
     "output_type": "display_data"
    },
    {
     "data": {
      "text/html": [
       "Find internal logs for this run at: <code>c:\\python\\anaconda_base\\pytorch-tutorial\\wandb\\run-20211003_221141-w1frpqpo\\logs\\debug-internal.log</code>"
      ],
      "text/plain": [
       "<IPython.core.display.HTML object>"
      ]
     },
     "metadata": {},
     "output_type": "display_data"
    },
    {
     "data": {
      "text/html": [
       "<h3>Run summary:</h3><br/><style>\n",
       "    table.wandb td:nth-child(1) { padding: 0 10px; text-align: right }\n",
       "    </style><table class=\"wandb\">\n",
       "<tr><td>train_loss</td><td>0.43735</td></tr><tr><td>train_acc</td><td>0.80573</td></tr><tr><td>valid_loss</td><td>0.42269</td></tr><tr><td>valid_acc</td><td>0.81789</td></tr><tr><td>lr</td><td>0.005</td></tr><tr><td>epoch_time</td><td>0.18566</td></tr><tr><td>_runtime</td><td>30</td></tr><tr><td>_timestamp</td><td>1633291931</td></tr><tr><td>_step</td><td>99</td></tr><tr><td>accuracy</td><td>0.816</td></tr><tr><td>prec</td><td>0.67241</td></tr><tr><td>recall</td><td>0.19118</td></tr><tr><td>f1</td><td>0.29771</td></tr></table>"
      ],
      "text/plain": [
       "<IPython.core.display.HTML object>"
      ]
     },
     "metadata": {},
     "output_type": "display_data"
    },
    {
     "data": {
      "text/html": [
       "<h3>Run history:</h3><br/><style>\n",
       "    table.wandb td:nth-child(1) { padding: 0 10px; text-align: right }\n",
       "    </style><table class=\"wandb\">\n",
       "<tr><td>train_loss</td><td>█▅▃▂▂▂▁▁▂▁▁▁▁▁▁▁▁▁▁▁▁▁▁▁▁▁▁▁▂▁▁▁▁▁▁▁▁▁▁▁</td></tr><tr><td>train_acc</td><td>▁▂▇██▇█▇▆▆█▆▆▆▆▆▅▅▅▅▅▅▆▇▅▆▆▅▄▅▅▅▆▆▆▅▅▅▆▆</td></tr><tr><td>valid_loss</td><td>█▄▅▃▂▂▂▂▄▃▂▁▄▂▁▃▂▂▂▂▂▁▁▄▃▃▂▂▂▁▂▁▃▄▂▃▃▁▄▂</td></tr><tr><td>valid_acc</td><td>▁▃▂▄▇▇▆▇▆▆▇█▅▆▇▆▇▆▆███▆▆▅▆▆▆▆█▆█▆▃▆▄▅▇▄▆</td></tr><tr><td>lr</td><td>▁▁▁▁▁▁▁▁▁▁▁▁▁▁▁▁▁▁▁▁▁▁▁▁▁▁▁▁▁▁▁▁▁▁▁▁▁▁▁▁</td></tr><tr><td>epoch_time</td><td>▅▄▄▃▄▄▃▂▁▂▂▄▃▂▄▄▄▄▄▄▃▄▅▄▄▄█▄▂▂▂▄▂▁▂▂▁▁▁▁</td></tr><tr><td>_runtime</td><td>▁▁▂▂▂▂▂▂▃▃▃▃▃▃▄▄▄▄▄▅▅▅▅▅▅▆▆▆▆▆▇▇▇▇▇▇▇███</td></tr><tr><td>_timestamp</td><td>▁▁▂▂▂▂▂▂▃▃▃▃▃▃▄▄▄▄▄▅▅▅▅▅▅▆▆▆▆▆▇▇▇▇▇▇▇███</td></tr><tr><td>_step</td><td>▁▁▁▁▂▂▂▂▂▃▃▃▃▃▃▄▄▄▄▄▅▅▅▅▅▅▆▆▆▆▆▇▇▇▇▇▇███</td></tr></table><br/>"
      ],
      "text/plain": [
       "<IPython.core.display.HTML object>"
      ]
     },
     "metadata": {},
     "output_type": "display_data"
    },
    {
     "data": {
      "text/html": [
       "Synced 5 W&B file(s), 0 media file(s), 0 artifact file(s) and 0 other file(s)"
      ],
      "text/plain": [
       "<IPython.core.display.HTML object>"
      ]
     },
     "metadata": {},
     "output_type": "display_data"
    },
    {
     "data": {
      "text/html": [
       "\n",
       "                    <br/>Synced <strong style=\"color:#cdcd00\">upbeat-sweep-39</strong>: <a href=\"https://wandb.ai/teamtom/churn-class-imbalance-with-treshold01/runs/w1frpqpo\" target=\"_blank\">https://wandb.ai/teamtom/churn-class-imbalance-with-treshold01/runs/w1frpqpo</a><br/>\n",
       "                "
      ],
      "text/plain": [
       "<IPython.core.display.HTML object>"
      ]
     },
     "metadata": {},
     "output_type": "display_data"
    },
    {
     "name": "stderr",
     "output_type": "stream",
     "text": [
      "wandb: Agent Starting Run: fjvt98jv with config:\n",
      "wandb: \tbatch_size: 32\n",
      "wandb: \tepochs: 100\n",
      "wandb: \tlearning_rate: 0.005\n",
      "wandb: \tthreshold: 0.5\n",
      "wandb: wandb version 0.12.3 is available!  To upgrade, please run:\n",
      "wandb:  $ pip install wandb --upgrade\n"
     ]
    },
    {
     "data": {
      "text/html": [
       "\n",
       "                Tracking run with wandb version 0.10.31<br/>\n",
       "                Syncing run <strong style=\"color:#cdcd00\">ethereal-sweep-40</strong> to <a href=\"https://wandb.ai\" target=\"_blank\">Weights & Biases</a> <a href=\"https://docs.wandb.com/integrations/jupyter.html\" target=\"_blank\">(Documentation)</a>.<br/>\n",
       "                Project page: <a href=\"https://wandb.ai/teamtom/churn-class-imbalance-with-treshold01\" target=\"_blank\">https://wandb.ai/teamtom/churn-class-imbalance-with-treshold01</a><br/>\n",
       "                Sweep page: <a href=\"https://wandb.ai/teamtom/churn-class-imbalance-with-treshold01/sweeps/d22sfkpk\" target=\"_blank\">https://wandb.ai/teamtom/churn-class-imbalance-with-treshold01/sweeps/d22sfkpk</a><br/>\n",
       "Run page: <a href=\"https://wandb.ai/teamtom/churn-class-imbalance-with-treshold01/runs/fjvt98jv\" target=\"_blank\">https://wandb.ai/teamtom/churn-class-imbalance-with-treshold01/runs/fjvt98jv</a><br/>\n",
       "                Run data is saved locally in <code>c:\\python\\anaconda_base\\pytorch-tutorial\\wandb\\run-20211003_221216-fjvt98jv</code><br/><br/>\n",
       "            "
      ],
      "text/plain": [
       "<IPython.core.display.HTML object>"
      ]
     },
     "metadata": {},
     "output_type": "display_data"
    },
    {
     "name": "stdout",
     "output_type": "stream",
     "text": [
      "dataset size: 10000\n",
      "dataset samples shape: torch.Size([10000, 9])\n",
      "dataset classes shape: torch.Size([10000, 1])\n",
      "| Epoch: 0010 | Train Loss: 0.447 | Train Acc: 80.66% | Val. Loss: 0.426 | Val. Acc: 81.57% |\n",
      "| Epoch: 0020 | Train Loss: 0.439 | Train Acc: 80.62% | Val. Loss: 0.423 | Val. Acc: 82.00% |\n",
      "| Epoch: 0030 | Train Loss: 0.441 | Train Acc: 80.35% | Val. Loss: 0.440 | Val. Acc: 81.79% |\n",
      "| Epoch: 0040 | Train Loss: 0.438 | Train Acc: 80.39% | Val. Loss: 0.425 | Val. Acc: 81.79% |\n",
      "| Epoch: 0050 | Train Loss: 0.437 | Train Acc: 80.52% | Val. Loss: 0.418 | Val. Acc: 82.65% |\n",
      "| Epoch: 0060 | Train Loss: 0.439 | Train Acc: 80.43% | Val. Loss: 0.438 | Val. Acc: 80.93% |\n",
      "| Epoch: 0070 | Train Loss: 0.439 | Train Acc: 80.35% | Val. Loss: 0.420 | Val. Acc: 82.22% |\n",
      "| Epoch: 0080 | Train Loss: 0.438 | Train Acc: 80.50% | Val. Loss: 0.425 | Val. Acc: 81.57% |\n",
      "| Epoch: 0090 | Train Loss: 0.438 | Train Acc: 80.28% | Val. Loss: 0.441 | Val. Acc: 80.60% |\n",
      "| Epoch: 0100 | Train Loss: 0.439 | Train Acc: 80.49% | Val. Loss: 0.423 | Val. Acc: 81.79% |\n"
     ]
    },
    {
     "data": {
      "text/html": [
       "<br/>Waiting for W&B process to finish, PID 23568<br/>Program ended successfully."
      ],
      "text/plain": [
       "<IPython.core.display.HTML object>"
      ]
     },
     "metadata": {},
     "output_type": "display_data"
    },
    {
     "data": {
      "application/vnd.jupyter.widget-view+json": {
       "model_id": "c133c49c156d4162b253ec2e26b4281f",
       "version_major": 2,
       "version_minor": 0
      },
      "text/plain": [
       "VBox(children=(Label(value=' 0.00MB of 0.00MB uploaded (0.00MB deduped)\\r'), FloatProgress(value=1.0, max=1.0)…"
      ]
     },
     "metadata": {},
     "output_type": "display_data"
    },
    {
     "data": {
      "text/html": [
       "Find user logs for this run at: <code>c:\\python\\anaconda_base\\pytorch-tutorial\\wandb\\run-20211003_221216-fjvt98jv\\logs\\debug.log</code>"
      ],
      "text/plain": [
       "<IPython.core.display.HTML object>"
      ]
     },
     "metadata": {},
     "output_type": "display_data"
    },
    {
     "data": {
      "text/html": [
       "Find internal logs for this run at: <code>c:\\python\\anaconda_base\\pytorch-tutorial\\wandb\\run-20211003_221216-fjvt98jv\\logs\\debug-internal.log</code>"
      ],
      "text/plain": [
       "<IPython.core.display.HTML object>"
      ]
     },
     "metadata": {},
     "output_type": "display_data"
    },
    {
     "data": {
      "text/html": [
       "<h3>Run summary:</h3><br/><style>\n",
       "    table.wandb td:nth-child(1) { padding: 0 10px; text-align: right }\n",
       "    </style><table class=\"wandb\">\n",
       "<tr><td>train_loss</td><td>0.43905</td></tr><tr><td>train_acc</td><td>0.80487</td></tr><tr><td>valid_loss</td><td>0.42255</td></tr><tr><td>valid_acc</td><td>0.81789</td></tr><tr><td>lr</td><td>0.005</td></tr><tr><td>epoch_time</td><td>0.22521</td></tr><tr><td>_runtime</td><td>29</td></tr><tr><td>_timestamp</td><td>1633291966</td></tr><tr><td>_step</td><td>99</td></tr><tr><td>accuracy</td><td>0.816</td></tr><tr><td>prec</td><td>0.67241</td></tr><tr><td>recall</td><td>0.19118</td></tr><tr><td>f1</td><td>0.29771</td></tr></table>"
      ],
      "text/plain": [
       "<IPython.core.display.HTML object>"
      ]
     },
     "metadata": {},
     "output_type": "display_data"
    },
    {
     "data": {
      "text/html": [
       "<h3>Run history:</h3><br/><style>\n",
       "    table.wandb td:nth-child(1) { padding: 0 10px; text-align: right }\n",
       "    </style><table class=\"wandb\">\n",
       "<tr><td>train_loss</td><td>█▄▃▂▂▁▁▁▁▁▁▁▁▁▁▁▁▁▁▁▁▁▁▁▁▁▁▁▁▁▁▁▁▁▁▁▁▁▁▁</td></tr><tr><td>train_acc</td><td>▁▃▇▇██▇▇▇▇▇▇▆▆▆▆▆▇▇▇▆▆▇▆▆▆▇▆▆▇▇▇▇▇▇▇▆▇▇▇</td></tr><tr><td>valid_loss</td><td>█▄▃▃▂▂▁▂▂▁▂▄▂▂▃▂▂▃▁▂▁▃▃▁▁▄▃▂▃▁▁▂▂▂▁▂▃▁▂▂</td></tr><tr><td>valid_acc</td><td>▁▃▃▆▇▇█▆▇▇▇▄▆▆▆█▆▆▇▆▇▆▆█▆▄▄▅▄██▄▆▆██▆█▇▆</td></tr><tr><td>lr</td><td>▁▁▁▁▁▁▁▁▁▁▁▁▁▁▁▁▁▁▁▁▁▁▁▁▁▁▁▁▁▁▁▁▁▁▁▁▁▁▁▁</td></tr><tr><td>epoch_time</td><td>▁▃▃▃▃▃▄▃▅▅▃▄▄▃▃▄▄█▄▄▄▃▄▄▅▄▇▄▂▂▁▂▁▂▁▁▁▂▂▂</td></tr><tr><td>_runtime</td><td>▁▁▁▂▂▂▂▂▃▃▃▃▃▃▄▄▄▄▄▅▅▅▅▅▆▆▆▆▆▆▇▇▇▇▇▇▇███</td></tr><tr><td>_timestamp</td><td>▁▁▁▂▂▂▂▂▃▃▃▃▃▃▄▄▄▄▄▅▅▅▅▅▆▆▆▆▆▆▇▇▇▇▇▇▇███</td></tr><tr><td>_step</td><td>▁▁▁▁▂▂▂▂▂▃▃▃▃▃▃▄▄▄▄▄▅▅▅▅▅▅▆▆▆▆▆▇▇▇▇▇▇███</td></tr></table><br/>"
      ],
      "text/plain": [
       "<IPython.core.display.HTML object>"
      ]
     },
     "metadata": {},
     "output_type": "display_data"
    },
    {
     "data": {
      "text/html": [
       "Synced 5 W&B file(s), 0 media file(s), 0 artifact file(s) and 0 other file(s)"
      ],
      "text/plain": [
       "<IPython.core.display.HTML object>"
      ]
     },
     "metadata": {},
     "output_type": "display_data"
    },
    {
     "data": {
      "text/html": [
       "\n",
       "                    <br/>Synced <strong style=\"color:#cdcd00\">ethereal-sweep-40</strong>: <a href=\"https://wandb.ai/teamtom/churn-class-imbalance-with-treshold01/runs/fjvt98jv\" target=\"_blank\">https://wandb.ai/teamtom/churn-class-imbalance-with-treshold01/runs/fjvt98jv</a><br/>\n",
       "                "
      ],
      "text/plain": [
       "<IPython.core.display.HTML object>"
      ]
     },
     "metadata": {},
     "output_type": "display_data"
    },
    {
     "name": "stderr",
     "output_type": "stream",
     "text": [
      "wandb: Agent Starting Run: 961u30e9 with config:\n",
      "wandb: \tbatch_size: 32\n",
      "wandb: \tepochs: 100\n",
      "wandb: \tlearning_rate: 0.001\n",
      "wandb: \tthreshold: 0.2\n",
      "wandb: wandb version 0.12.3 is available!  To upgrade, please run:\n",
      "wandb:  $ pip install wandb --upgrade\n"
     ]
    },
    {
     "data": {
      "text/html": [
       "\n",
       "                Tracking run with wandb version 0.10.31<br/>\n",
       "                Syncing run <strong style=\"color:#cdcd00\">misunderstood-sweep-41</strong> to <a href=\"https://wandb.ai\" target=\"_blank\">Weights & Biases</a> <a href=\"https://docs.wandb.com/integrations/jupyter.html\" target=\"_blank\">(Documentation)</a>.<br/>\n",
       "                Project page: <a href=\"https://wandb.ai/teamtom/churn-class-imbalance-with-treshold01\" target=\"_blank\">https://wandb.ai/teamtom/churn-class-imbalance-with-treshold01</a><br/>\n",
       "                Sweep page: <a href=\"https://wandb.ai/teamtom/churn-class-imbalance-with-treshold01/sweeps/d22sfkpk\" target=\"_blank\">https://wandb.ai/teamtom/churn-class-imbalance-with-treshold01/sweeps/d22sfkpk</a><br/>\n",
       "Run page: <a href=\"https://wandb.ai/teamtom/churn-class-imbalance-with-treshold01/runs/961u30e9\" target=\"_blank\">https://wandb.ai/teamtom/churn-class-imbalance-with-treshold01/runs/961u30e9</a><br/>\n",
       "                Run data is saved locally in <code>c:\\python\\anaconda_base\\pytorch-tutorial\\wandb\\run-20211003_221250-961u30e9</code><br/><br/>\n",
       "            "
      ],
      "text/plain": [
       "<IPython.core.display.HTML object>"
      ]
     },
     "metadata": {},
     "output_type": "display_data"
    },
    {
     "name": "stdout",
     "output_type": "stream",
     "text": [
      "dataset size: 10000\n",
      "dataset samples shape: torch.Size([10000, 9])\n",
      "dataset classes shape: torch.Size([10000, 1])\n",
      "| Epoch: 0010 | Train Loss: 0.471 | Train Acc: 59.79% | Val. Loss: 0.454 | Val. Acc: 59.91% |\n",
      "| Epoch: 0020 | Train Loss: 0.456 | Train Acc: 61.11% | Val. Loss: 0.450 | Val. Acc: 60.99% |\n",
      "| Epoch: 0030 | Train Loss: 0.449 | Train Acc: 63.29% | Val. Loss: 0.439 | Val. Acc: 62.18% |\n",
      "| Epoch: 0040 | Train Loss: 0.445 | Train Acc: 64.38% | Val. Loss: 0.442 | Val. Acc: 64.66% |\n",
      "| Epoch: 0050 | Train Loss: 0.442 | Train Acc: 65.28% | Val. Loss: 0.427 | Val. Acc: 66.49% |\n",
      "| Epoch: 0060 | Train Loss: 0.440 | Train Acc: 66.65% | Val. Loss: 0.439 | Val. Acc: 63.79% |\n",
      "| Epoch: 0070 | Train Loss: 0.441 | Train Acc: 66.66% | Val. Loss: 0.433 | Val. Acc: 65.95% |\n",
      "| Epoch: 0080 | Train Loss: 0.441 | Train Acc: 67.30% | Val. Loss: 0.435 | Val. Acc: 66.27% |\n",
      "| Epoch: 0090 | Train Loss: 0.438 | Train Acc: 67.31% | Val. Loss: 0.419 | Val. Acc: 68.86% |\n",
      "| Epoch: 0100 | Train Loss: 0.439 | Train Acc: 67.34% | Val. Loss: 0.423 | Val. Acc: 67.78% |\n"
     ]
    },
    {
     "data": {
      "text/html": [
       "<br/>Waiting for W&B process to finish, PID 3268<br/>Program ended successfully."
      ],
      "text/plain": [
       "<IPython.core.display.HTML object>"
      ]
     },
     "metadata": {},
     "output_type": "display_data"
    },
    {
     "data": {
      "application/vnd.jupyter.widget-view+json": {
       "model_id": "8ef9e2dd4a8c42ddb9b4bdfcbb8e7d12",
       "version_major": 2,
       "version_minor": 0
      },
      "text/plain": [
       "VBox(children=(Label(value=' 0.00MB of 0.00MB uploaded (0.00MB deduped)\\r'), FloatProgress(value=1.0, max=1.0)…"
      ]
     },
     "metadata": {},
     "output_type": "display_data"
    },
    {
     "data": {
      "text/html": [
       "Find user logs for this run at: <code>c:\\python\\anaconda_base\\pytorch-tutorial\\wandb\\run-20211003_221250-961u30e9\\logs\\debug.log</code>"
      ],
      "text/plain": [
       "<IPython.core.display.HTML object>"
      ]
     },
     "metadata": {},
     "output_type": "display_data"
    },
    {
     "data": {
      "text/html": [
       "Find internal logs for this run at: <code>c:\\python\\anaconda_base\\pytorch-tutorial\\wandb\\run-20211003_221250-961u30e9\\logs\\debug-internal.log</code>"
      ],
      "text/plain": [
       "<IPython.core.display.HTML object>"
      ]
     },
     "metadata": {},
     "output_type": "display_data"
    },
    {
     "data": {
      "text/html": [
       "<h3>Run summary:</h3><br/><style>\n",
       "    table.wandb td:nth-child(1) { padding: 0 10px; text-align: right }\n",
       "    </style><table class=\"wandb\">\n",
       "<tr><td>train_loss</td><td>0.43931</td></tr><tr><td>train_acc</td><td>0.67335</td></tr><tr><td>valid_loss</td><td>0.42315</td></tr><tr><td>valid_acc</td><td>0.6778</td></tr><tr><td>lr</td><td>0.001</td></tr><tr><td>epoch_time</td><td>0.1985</td></tr><tr><td>_runtime</td><td>29</td></tr><tr><td>_timestamp</td><td>1633292000</td></tr><tr><td>_step</td><td>99</td></tr><tr><td>accuracy</td><td>0.675</td></tr><tr><td>prec</td><td>0.3528</td></tr><tr><td>recall</td><td>0.71078</td></tr><tr><td>f1</td><td>0.47154</td></tr></table>"
      ],
      "text/plain": [
       "<IPython.core.display.HTML object>"
      ]
     },
     "metadata": {},
     "output_type": "display_data"
    },
    {
     "data": {
      "text/html": [
       "<h3>Run history:</h3><br/><style>\n",
       "    table.wandb td:nth-child(1) { padding: 0 10px; text-align: right }\n",
       "    </style><table class=\"wandb\">\n",
       "<tr><td>train_loss</td><td>█▅▄▄▃▃▃▂▂▂▂▂▂▂▂▁▁▁▁▁▁▁▁▁▁▁▁▁▁▁▁▁▁▁▁▁▁▁▁▁</td></tr><tr><td>train_acc</td><td>▁▆▇▇▇▇▇▇▇▇▇▇▇▇▇▇████████████████████████</td></tr><tr><td>valid_loss</td><td>█▆▅▅▄▃▄▄▅▃▂▂▃▄▃▂▂▂▃▂▃▂▁▂▂▁▂▂▁▁▁▂▃▂▂▂▁▂▁▁</td></tr><tr><td>valid_acc</td><td>▁▆▆▇▇▇▇▇▇▇▇▇▇▇▇▇█▇▇█▇███████▇███████████</td></tr><tr><td>lr</td><td>▁▁▁▁▁▁▁▁▁▁▁▁▁▁▁▁▁▁▁▁▁▁▁▁▁▁▁▁▁▁▁▁▁▁▁▁▁▁▁▁</td></tr><tr><td>epoch_time</td><td>▁▁▆▅▇▅▇▇▇▇█▅▆▆▆▆▇█▇▇▅▅▇▆▅█▆▇▇▅▆▂▂▂▂▂▂█▃▂</td></tr><tr><td>_runtime</td><td>▁▁▁▁▂▂▂▂▂▃▃▃▃▃▄▄▄▄▄▅▅▅▅▅▅▆▆▆▆▆▇▇▇▇▇▇▇███</td></tr><tr><td>_timestamp</td><td>▁▁▁▁▂▂▂▂▂▃▃▃▃▃▄▄▄▄▄▅▅▅▅▅▅▆▆▆▆▆▇▇▇▇▇▇▇███</td></tr><tr><td>_step</td><td>▁▁▁▁▂▂▂▂▂▃▃▃▃▃▃▄▄▄▄▄▅▅▅▅▅▅▆▆▆▆▆▇▇▇▇▇▇███</td></tr></table><br/>"
      ],
      "text/plain": [
       "<IPython.core.display.HTML object>"
      ]
     },
     "metadata": {},
     "output_type": "display_data"
    },
    {
     "data": {
      "text/html": [
       "Synced 5 W&B file(s), 0 media file(s), 0 artifact file(s) and 0 other file(s)"
      ],
      "text/plain": [
       "<IPython.core.display.HTML object>"
      ]
     },
     "metadata": {},
     "output_type": "display_data"
    },
    {
     "data": {
      "text/html": [
       "\n",
       "                    <br/>Synced <strong style=\"color:#cdcd00\">misunderstood-sweep-41</strong>: <a href=\"https://wandb.ai/teamtom/churn-class-imbalance-with-treshold01/runs/961u30e9\" target=\"_blank\">https://wandb.ai/teamtom/churn-class-imbalance-with-treshold01/runs/961u30e9</a><br/>\n",
       "                "
      ],
      "text/plain": [
       "<IPython.core.display.HTML object>"
      ]
     },
     "metadata": {},
     "output_type": "display_data"
    },
    {
     "name": "stderr",
     "output_type": "stream",
     "text": [
      "wandb: Agent Starting Run: 0gmw0894 with config:\n",
      "wandb: \tbatch_size: 32\n",
      "wandb: \tepochs: 100\n",
      "wandb: \tlearning_rate: 0.001\n",
      "wandb: \tthreshold: 0.21578947368421053\n",
      "wandb: wandb version 0.12.3 is available!  To upgrade, please run:\n",
      "wandb:  $ pip install wandb --upgrade\n"
     ]
    },
    {
     "data": {
      "text/html": [
       "\n",
       "                Tracking run with wandb version 0.10.31<br/>\n",
       "                Syncing run <strong style=\"color:#cdcd00\">divine-sweep-42</strong> to <a href=\"https://wandb.ai\" target=\"_blank\">Weights & Biases</a> <a href=\"https://docs.wandb.com/integrations/jupyter.html\" target=\"_blank\">(Documentation)</a>.<br/>\n",
       "                Project page: <a href=\"https://wandb.ai/teamtom/churn-class-imbalance-with-treshold01\" target=\"_blank\">https://wandb.ai/teamtom/churn-class-imbalance-with-treshold01</a><br/>\n",
       "                Sweep page: <a href=\"https://wandb.ai/teamtom/churn-class-imbalance-with-treshold01/sweeps/d22sfkpk\" target=\"_blank\">https://wandb.ai/teamtom/churn-class-imbalance-with-treshold01/sweeps/d22sfkpk</a><br/>\n",
       "Run page: <a href=\"https://wandb.ai/teamtom/churn-class-imbalance-with-treshold01/runs/0gmw0894\" target=\"_blank\">https://wandb.ai/teamtom/churn-class-imbalance-with-treshold01/runs/0gmw0894</a><br/>\n",
       "                Run data is saved locally in <code>c:\\python\\anaconda_base\\pytorch-tutorial\\wandb\\run-20211003_221324-0gmw0894</code><br/><br/>\n",
       "            "
      ],
      "text/plain": [
       "<IPython.core.display.HTML object>"
      ]
     },
     "metadata": {},
     "output_type": "display_data"
    },
    {
     "name": "stdout",
     "output_type": "stream",
     "text": [
      "dataset size: 10000\n",
      "dataset samples shape: torch.Size([10000, 9])\n",
      "dataset classes shape: torch.Size([10000, 1])\n",
      "| Epoch: 0010 | Train Loss: 0.471 | Train Acc: 64.41% | Val. Loss: 0.472 | Val. Acc: 63.25% |\n",
      "| Epoch: 0020 | Train Loss: 0.457 | Train Acc: 64.94% | Val. Loss: 0.451 | Val. Acc: 67.13% |\n",
      "| Epoch: 0030 | Train Loss: 0.449 | Train Acc: 66.42% | Val. Loss: 0.441 | Val. Acc: 67.24% |\n",
      "| Epoch: 0040 | Train Loss: 0.446 | Train Acc: 67.16% | Val. Loss: 0.435 | Val. Acc: 68.43% |\n",
      "| Epoch: 0050 | Train Loss: 0.444 | Train Acc: 67.78% | Val. Loss: 0.439 | Val. Acc: 68.32% |\n",
      "| Epoch: 0060 | Train Loss: 0.442 | Train Acc: 68.75% | Val. Loss: 0.435 | Val. Acc: 69.50% |\n",
      "| Epoch: 0070 | Train Loss: 0.440 | Train Acc: 68.58% | Val. Loss: 0.432 | Val. Acc: 68.53% |\n",
      "| Epoch: 0080 | Train Loss: 0.442 | Train Acc: 69.12% | Val. Loss: 0.425 | Val. Acc: 69.18% |\n",
      "| Epoch: 0090 | Train Loss: 0.439 | Train Acc: 69.40% | Val. Loss: 0.462 | Val. Acc: 68.97% |\n",
      "| Epoch: 0100 | Train Loss: 0.439 | Train Acc: 69.46% | Val. Loss: 0.422 | Val. Acc: 69.83% |\n"
     ]
    },
    {
     "data": {
      "text/html": [
       "<br/>Waiting for W&B process to finish, PID 20824<br/>Program ended successfully."
      ],
      "text/plain": [
       "<IPython.core.display.HTML object>"
      ]
     },
     "metadata": {},
     "output_type": "display_data"
    },
    {
     "data": {
      "application/vnd.jupyter.widget-view+json": {
       "model_id": "c3a0d234ded0436ab3b16ec4303a17af",
       "version_major": 2,
       "version_minor": 0
      },
      "text/plain": [
       "VBox(children=(Label(value=' 0.00MB of 0.00MB uploaded (0.00MB deduped)\\r'), FloatProgress(value=1.0, max=1.0)…"
      ]
     },
     "metadata": {},
     "output_type": "display_data"
    },
    {
     "data": {
      "text/html": [
       "Find user logs for this run at: <code>c:\\python\\anaconda_base\\pytorch-tutorial\\wandb\\run-20211003_221324-0gmw0894\\logs\\debug.log</code>"
      ],
      "text/plain": [
       "<IPython.core.display.HTML object>"
      ]
     },
     "metadata": {},
     "output_type": "display_data"
    },
    {
     "data": {
      "text/html": [
       "Find internal logs for this run at: <code>c:\\python\\anaconda_base\\pytorch-tutorial\\wandb\\run-20211003_221324-0gmw0894\\logs\\debug-internal.log</code>"
      ],
      "text/plain": [
       "<IPython.core.display.HTML object>"
      ]
     },
     "metadata": {},
     "output_type": "display_data"
    },
    {
     "data": {
      "text/html": [
       "<h3>Run summary:</h3><br/><style>\n",
       "    table.wandb td:nth-child(1) { padding: 0 10px; text-align: right }\n",
       "    </style><table class=\"wandb\">\n",
       "<tr><td>train_loss</td><td>0.43888</td></tr><tr><td>train_acc</td><td>0.69464</td></tr><tr><td>valid_loss</td><td>0.42199</td></tr><tr><td>valid_acc</td><td>0.69828</td></tr><tr><td>lr</td><td>0.001</td></tr><tr><td>epoch_time</td><td>0.19779</td></tr><tr><td>_runtime</td><td>28</td></tr><tr><td>_timestamp</td><td>1633292033</td></tr><tr><td>_step</td><td>99</td></tr><tr><td>accuracy</td><td>0.695</td></tr><tr><td>prec</td><td>0.36605</td></tr><tr><td>recall</td><td>0.67647</td></tr><tr><td>f1</td><td>0.47504</td></tr></table>"
      ],
      "text/plain": [
       "<IPython.core.display.HTML object>"
      ]
     },
     "metadata": {},
     "output_type": "display_data"
    },
    {
     "data": {
      "text/html": [
       "<h3>Run history:</h3><br/><style>\n",
       "    table.wandb td:nth-child(1) { padding: 0 10px; text-align: right }\n",
       "    </style><table class=\"wandb\">\n",
       "<tr><td>train_loss</td><td>█▄▄▃▃▃▂▂▂▂▂▂▂▂▂▁▁▁▁▁▁▁▁▁▁▁▁▁▁▁▁▁▁▁▁▁▁▁▁▁</td></tr><tr><td>train_acc</td><td>▁▆▇▇▇▇▇▇▇▇▇█▇███████████████████████████</td></tr><tr><td>valid_loss</td><td>█▆▅▄▃▄▃▃▃▃▄▂▂▂▂▂▂▂▂▂▄▂▁▁▁▁▃▁▂▁▁▁▂▂▁▁▂▁▂▁</td></tr><tr><td>valid_acc</td><td>▁▆▇▇▇▇▇▇▇▇▇▇█▇▇▇████████████████████████</td></tr><tr><td>lr</td><td>▁▁▁▁▁▁▁▁▁▁▁▁▁▁▁▁▁▁▁▁▁▁▁▁▁▁▁▁▁▁▁▁▁▁▁▁▁▁▁▁</td></tr><tr><td>epoch_time</td><td>▄▅▅▆▅▇▇▆▅▆▆▅▇▇▆█▇▃▄▄▂▇▇▆▅▆▇▇▇█▂▁▁▂▂▁▇▂▃▂</td></tr><tr><td>_runtime</td><td>▁▁▁▂▂▂▂▂▃▃▃▃▃▄▄▄▄▄▅▅▅▅▅▅▆▆▆▆▆▇▇▇▇▇▇▇████</td></tr><tr><td>_timestamp</td><td>▁▁▁▂▂▂▂▂▃▃▃▃▃▄▄▄▄▄▅▅▅▅▅▅▆▆▆▆▆▇▇▇▇▇▇▇████</td></tr><tr><td>_step</td><td>▁▁▁▁▂▂▂▂▂▃▃▃▃▃▃▄▄▄▄▄▅▅▅▅▅▅▆▆▆▆▆▇▇▇▇▇▇███</td></tr></table><br/>"
      ],
      "text/plain": [
       "<IPython.core.display.HTML object>"
      ]
     },
     "metadata": {},
     "output_type": "display_data"
    },
    {
     "data": {
      "text/html": [
       "Synced 5 W&B file(s), 0 media file(s), 0 artifact file(s) and 0 other file(s)"
      ],
      "text/plain": [
       "<IPython.core.display.HTML object>"
      ]
     },
     "metadata": {},
     "output_type": "display_data"
    },
    {
     "data": {
      "text/html": [
       "\n",
       "                    <br/>Synced <strong style=\"color:#cdcd00\">divine-sweep-42</strong>: <a href=\"https://wandb.ai/teamtom/churn-class-imbalance-with-treshold01/runs/0gmw0894\" target=\"_blank\">https://wandb.ai/teamtom/churn-class-imbalance-with-treshold01/runs/0gmw0894</a><br/>\n",
       "                "
      ],
      "text/plain": [
       "<IPython.core.display.HTML object>"
      ]
     },
     "metadata": {},
     "output_type": "display_data"
    },
    {
     "name": "stderr",
     "output_type": "stream",
     "text": [
      "wandb: Agent Starting Run: voacoizu with config:\n",
      "wandb: \tbatch_size: 32\n",
      "wandb: \tepochs: 100\n",
      "wandb: \tlearning_rate: 0.001\n",
      "wandb: \tthreshold: 0.23157894736842105\n",
      "wandb: wandb version 0.12.3 is available!  To upgrade, please run:\n",
      "wandb:  $ pip install wandb --upgrade\n"
     ]
    },
    {
     "data": {
      "text/html": [
       "\n",
       "                Tracking run with wandb version 0.10.31<br/>\n",
       "                Syncing run <strong style=\"color:#cdcd00\">charmed-sweep-43</strong> to <a href=\"https://wandb.ai\" target=\"_blank\">Weights & Biases</a> <a href=\"https://docs.wandb.com/integrations/jupyter.html\" target=\"_blank\">(Documentation)</a>.<br/>\n",
       "                Project page: <a href=\"https://wandb.ai/teamtom/churn-class-imbalance-with-treshold01\" target=\"_blank\">https://wandb.ai/teamtom/churn-class-imbalance-with-treshold01</a><br/>\n",
       "                Sweep page: <a href=\"https://wandb.ai/teamtom/churn-class-imbalance-with-treshold01/sweeps/d22sfkpk\" target=\"_blank\">https://wandb.ai/teamtom/churn-class-imbalance-with-treshold01/sweeps/d22sfkpk</a><br/>\n",
       "Run page: <a href=\"https://wandb.ai/teamtom/churn-class-imbalance-with-treshold01/runs/voacoizu\" target=\"_blank\">https://wandb.ai/teamtom/churn-class-imbalance-with-treshold01/runs/voacoizu</a><br/>\n",
       "                Run data is saved locally in <code>c:\\python\\anaconda_base\\pytorch-tutorial\\wandb\\run-20211003_221357-voacoizu</code><br/><br/>\n",
       "            "
      ],
      "text/plain": [
       "<IPython.core.display.HTML object>"
      ]
     },
     "metadata": {},
     "output_type": "display_data"
    },
    {
     "name": "stdout",
     "output_type": "stream",
     "text": [
      "dataset size: 10000\n",
      "dataset samples shape: torch.Size([10000, 9])\n",
      "dataset classes shape: torch.Size([10000, 1])\n",
      "| Epoch: 0010 | Train Loss: 0.474 | Train Acc: 67.38% | Val. Loss: 0.468 | Val. Acc: 68.64% |\n",
      "| Epoch: 0020 | Train Loss: 0.461 | Train Acc: 67.91% | Val. Loss: 0.451 | Val. Acc: 68.75% |\n",
      "| Epoch: 0030 | Train Loss: 0.452 | Train Acc: 68.98% | Val. Loss: 0.455 | Val. Acc: 69.18% |\n",
      "| Epoch: 0040 | Train Loss: 0.447 | Train Acc: 69.51% | Val. Loss: 0.437 | Val. Acc: 69.61% |\n",
      "| Epoch: 0050 | Train Loss: 0.447 | Train Acc: 70.32% | Val. Loss: 0.435 | Val. Acc: 71.01% |\n",
      "| Epoch: 0060 | Train Loss: 0.441 | Train Acc: 70.58% | Val. Loss: 0.439 | Val. Acc: 70.69% |\n",
      "| Epoch: 0070 | Train Loss: 0.441 | Train Acc: 71.41% | Val. Loss: 0.432 | Val. Acc: 69.83% |\n",
      "| Epoch: 0080 | Train Loss: 0.439 | Train Acc: 70.88% | Val. Loss: 0.433 | Val. Acc: 70.58% |\n",
      "| Epoch: 0090 | Train Loss: 0.439 | Train Acc: 71.52% | Val. Loss: 0.424 | Val. Acc: 71.23% |\n",
      "| Epoch: 0100 | Train Loss: 0.439 | Train Acc: 71.41% | Val. Loss: 0.425 | Val. Acc: 70.69% |\n"
     ]
    },
    {
     "data": {
      "text/html": [
       "<br/>Waiting for W&B process to finish, PID 25764<br/>Program ended successfully."
      ],
      "text/plain": [
       "<IPython.core.display.HTML object>"
      ]
     },
     "metadata": {},
     "output_type": "display_data"
    },
    {
     "data": {
      "application/vnd.jupyter.widget-view+json": {
       "model_id": "15eac17f837842c2ae5f6abd315ad18d",
       "version_major": 2,
       "version_minor": 0
      },
      "text/plain": [
       "VBox(children=(Label(value=' 0.00MB of 0.00MB uploaded (0.00MB deduped)\\r'), FloatProgress(value=1.0, max=1.0)…"
      ]
     },
     "metadata": {},
     "output_type": "display_data"
    },
    {
     "data": {
      "text/html": [
       "Find user logs for this run at: <code>c:\\python\\anaconda_base\\pytorch-tutorial\\wandb\\run-20211003_221357-voacoizu\\logs\\debug.log</code>"
      ],
      "text/plain": [
       "<IPython.core.display.HTML object>"
      ]
     },
     "metadata": {},
     "output_type": "display_data"
    },
    {
     "data": {
      "text/html": [
       "Find internal logs for this run at: <code>c:\\python\\anaconda_base\\pytorch-tutorial\\wandb\\run-20211003_221357-voacoizu\\logs\\debug-internal.log</code>"
      ],
      "text/plain": [
       "<IPython.core.display.HTML object>"
      ]
     },
     "metadata": {},
     "output_type": "display_data"
    },
    {
     "data": {
      "text/html": [
       "<h3>Run summary:</h3><br/><style>\n",
       "    table.wandb td:nth-child(1) { padding: 0 10px; text-align: right }\n",
       "    </style><table class=\"wandb\">\n",
       "<tr><td>train_loss</td><td>0.43854</td></tr><tr><td>train_acc</td><td>0.71407</td></tr><tr><td>valid_loss</td><td>0.42525</td></tr><tr><td>valid_acc</td><td>0.7069</td></tr><tr><td>lr</td><td>0.001</td></tr><tr><td>epoch_time</td><td>0.23455</td></tr><tr><td>_runtime</td><td>29</td></tr><tr><td>_timestamp</td><td>1633292067</td></tr><tr><td>_step</td><td>99</td></tr><tr><td>accuracy</td><td>0.723</td></tr><tr><td>prec</td><td>0.39233</td></tr><tr><td>recall</td><td>0.65196</td></tr><tr><td>f1</td><td>0.48987</td></tr></table>"
      ],
      "text/plain": [
       "<IPython.core.display.HTML object>"
      ]
     },
     "metadata": {},
     "output_type": "display_data"
    },
    {
     "data": {
      "text/html": [
       "<h3>Run history:</h3><br/><style>\n",
       "    table.wandb td:nth-child(1) { padding: 0 10px; text-align: right }\n",
       "    </style><table class=\"wandb\">\n",
       "<tr><td>train_loss</td><td>█▅▄▄▃▃▃▃▂▂▂▂▂▂▂▂▂▁▁▁▁▁▁▁▁▁▁▁▁▁▁▁▁▁▁▁▁▁▁▁</td></tr><tr><td>train_acc</td><td>▁▇▇▇▇▇▇▇▇▇█▇▇███████████████████████████</td></tr><tr><td>valid_loss</td><td>█▇▅▄▅▄▄▃▃▂▃▃▂▂▂▂▂▂▂▂▂▂▂▄▃▂▂▁▂▃▂▂▁▂▁▁▁▃▁▁</td></tr><tr><td>valid_acc</td><td>▁▆▇▇▇▇▇▇▇▇▇▇▇▇▇█▇█▇████▇▇▇▇██▇█▇██▇█▇███</td></tr><tr><td>lr</td><td>▁▁▁▁▁▁▁▁▁▁▁▁▁▁▁▁▁▁▁▁▁▁▁▁▁▁▁▁▁▁▁▁▁▁▁▁▁▁▁▁</td></tr><tr><td>epoch_time</td><td>▁▁▄▄▅▃▄█▆▅▄▅▅▅▄▃▅▅▆▄▅▃▅▄▄▅▅█▅▄▂▃▂▂▂▁▂▂▃▃</td></tr><tr><td>_runtime</td><td>▁▁▁▂▂▂▂▂▃▃▃▃▃▃▄▄▄▄▄▅▅▅▅▅▅▆▆▆▆▆▇▇▇▇▇▇▇▇██</td></tr><tr><td>_timestamp</td><td>▁▁▁▂▂▂▂▂▃▃▃▃▃▃▄▄▄▄▄▅▅▅▅▅▅▆▆▆▆▆▇▇▇▇▇▇▇▇██</td></tr><tr><td>_step</td><td>▁▁▁▁▂▂▂▂▂▃▃▃▃▃▃▄▄▄▄▄▅▅▅▅▅▅▆▆▆▆▆▇▇▇▇▇▇███</td></tr></table><br/>"
      ],
      "text/plain": [
       "<IPython.core.display.HTML object>"
      ]
     },
     "metadata": {},
     "output_type": "display_data"
    },
    {
     "data": {
      "text/html": [
       "Synced 5 W&B file(s), 0 media file(s), 0 artifact file(s) and 0 other file(s)"
      ],
      "text/plain": [
       "<IPython.core.display.HTML object>"
      ]
     },
     "metadata": {},
     "output_type": "display_data"
    },
    {
     "data": {
      "text/html": [
       "\n",
       "                    <br/>Synced <strong style=\"color:#cdcd00\">charmed-sweep-43</strong>: <a href=\"https://wandb.ai/teamtom/churn-class-imbalance-with-treshold01/runs/voacoizu\" target=\"_blank\">https://wandb.ai/teamtom/churn-class-imbalance-with-treshold01/runs/voacoizu</a><br/>\n",
       "                "
      ],
      "text/plain": [
       "<IPython.core.display.HTML object>"
      ]
     },
     "metadata": {},
     "output_type": "display_data"
    },
    {
     "name": "stderr",
     "output_type": "stream",
     "text": [
      "wandb: Agent Starting Run: fe0fgid1 with config:\n",
      "wandb: \tbatch_size: 32\n",
      "wandb: \tepochs: 100\n",
      "wandb: \tlearning_rate: 0.001\n",
      "wandb: \tthreshold: 0.2473684210526316\n",
      "wandb: wandb version 0.12.3 is available!  To upgrade, please run:\n",
      "wandb:  $ pip install wandb --upgrade\n"
     ]
    },
    {
     "data": {
      "text/html": [
       "\n",
       "                Tracking run with wandb version 0.10.31<br/>\n",
       "                Syncing run <strong style=\"color:#cdcd00\">devout-sweep-44</strong> to <a href=\"https://wandb.ai\" target=\"_blank\">Weights & Biases</a> <a href=\"https://docs.wandb.com/integrations/jupyter.html\" target=\"_blank\">(Documentation)</a>.<br/>\n",
       "                Project page: <a href=\"https://wandb.ai/teamtom/churn-class-imbalance-with-treshold01\" target=\"_blank\">https://wandb.ai/teamtom/churn-class-imbalance-with-treshold01</a><br/>\n",
       "                Sweep page: <a href=\"https://wandb.ai/teamtom/churn-class-imbalance-with-treshold01/sweeps/d22sfkpk\" target=\"_blank\">https://wandb.ai/teamtom/churn-class-imbalance-with-treshold01/sweeps/d22sfkpk</a><br/>\n",
       "Run page: <a href=\"https://wandb.ai/teamtom/churn-class-imbalance-with-treshold01/runs/fe0fgid1\" target=\"_blank\">https://wandb.ai/teamtom/churn-class-imbalance-with-treshold01/runs/fe0fgid1</a><br/>\n",
       "                Run data is saved locally in <code>c:\\python\\anaconda_base\\pytorch-tutorial\\wandb\\run-20211003_221432-fe0fgid1</code><br/><br/>\n",
       "            "
      ],
      "text/plain": [
       "<IPython.core.display.HTML object>"
      ]
     },
     "metadata": {},
     "output_type": "display_data"
    },
    {
     "name": "stdout",
     "output_type": "stream",
     "text": [
      "dataset size: 10000\n",
      "dataset samples shape: torch.Size([10000, 9])\n",
      "dataset classes shape: torch.Size([10000, 1])\n",
      "| Epoch: 0010 | Train Loss: 0.477 | Train Acc: 71.05% | Val. Loss: 0.462 | Val. Acc: 72.84% |\n",
      "| Epoch: 0020 | Train Loss: 0.462 | Train Acc: 71.16% | Val. Loss: 0.452 | Val. Acc: 71.44% |\n",
      "| Epoch: 0030 | Train Loss: 0.453 | Train Acc: 71.17% | Val. Loss: 0.433 | Val. Acc: 73.06% |\n",
      "| Epoch: 0040 | Train Loss: 0.447 | Train Acc: 71.89% | Val. Loss: 0.442 | Val. Acc: 72.74% |\n",
      "| Epoch: 0050 | Train Loss: 0.443 | Train Acc: 72.60% | Val. Loss: 0.426 | Val. Acc: 72.41% |\n",
      "| Epoch: 0060 | Train Loss: 0.443 | Train Acc: 72.87% | Val. Loss: 0.425 | Val. Acc: 70.69% |\n",
      "| Epoch: 0070 | Train Loss: 0.441 | Train Acc: 72.85% | Val. Loss: 0.430 | Val. Acc: 72.09% |\n",
      "| Epoch: 0080 | Train Loss: 0.439 | Train Acc: 73.07% | Val. Loss: 0.441 | Val. Acc: 71.66% |\n",
      "| Epoch: 0090 | Train Loss: 0.438 | Train Acc: 72.75% | Val. Loss: 0.422 | Val. Acc: 73.71% |\n",
      "| Epoch: 0100 | Train Loss: 0.438 | Train Acc: 73.23% | Val. Loss: 0.422 | Val. Acc: 72.95% |\n"
     ]
    },
    {
     "data": {
      "text/html": [
       "<br/>Waiting for W&B process to finish, PID 26076<br/>Program ended successfully."
      ],
      "text/plain": [
       "<IPython.core.display.HTML object>"
      ]
     },
     "metadata": {},
     "output_type": "display_data"
    },
    {
     "data": {
      "application/vnd.jupyter.widget-view+json": {
       "model_id": "6601fe558a43436588ce24f16651aa57",
       "version_major": 2,
       "version_minor": 0
      },
      "text/plain": [
       "VBox(children=(Label(value=' 0.00MB of 0.00MB uploaded (0.00MB deduped)\\r'), FloatProgress(value=1.0, max=1.0)…"
      ]
     },
     "metadata": {},
     "output_type": "display_data"
    },
    {
     "data": {
      "text/html": [
       "Find user logs for this run at: <code>c:\\python\\anaconda_base\\pytorch-tutorial\\wandb\\run-20211003_221432-fe0fgid1\\logs\\debug.log</code>"
      ],
      "text/plain": [
       "<IPython.core.display.HTML object>"
      ]
     },
     "metadata": {},
     "output_type": "display_data"
    },
    {
     "data": {
      "text/html": [
       "Find internal logs for this run at: <code>c:\\python\\anaconda_base\\pytorch-tutorial\\wandb\\run-20211003_221432-fe0fgid1\\logs\\debug-internal.log</code>"
      ],
      "text/plain": [
       "<IPython.core.display.HTML object>"
      ]
     },
     "metadata": {},
     "output_type": "display_data"
    },
    {
     "data": {
      "text/html": [
       "<h3>Run summary:</h3><br/><style>\n",
       "    table.wandb td:nth-child(1) { padding: 0 10px; text-align: right }\n",
       "    </style><table class=\"wandb\">\n",
       "<tr><td>train_loss</td><td>0.43849</td></tr><tr><td>train_acc</td><td>0.73228</td></tr><tr><td>valid_loss</td><td>0.42224</td></tr><tr><td>valid_acc</td><td>0.72953</td></tr><tr><td>lr</td><td>0.001</td></tr><tr><td>epoch_time</td><td>0.22523</td></tr><tr><td>_runtime</td><td>29</td></tr><tr><td>_timestamp</td><td>1633292102</td></tr><tr><td>_step</td><td>99</td></tr><tr><td>accuracy</td><td>0.741</td></tr><tr><td>prec</td><td>0.40984</td></tr><tr><td>recall</td><td>0.61275</td></tr><tr><td>f1</td><td>0.49116</td></tr></table>"
      ],
      "text/plain": [
       "<IPython.core.display.HTML object>"
      ]
     },
     "metadata": {},
     "output_type": "display_data"
    },
    {
     "data": {
      "text/html": [
       "<h3>Run history:</h3><br/><style>\n",
       "    table.wandb td:nth-child(1) { padding: 0 10px; text-align: right }\n",
       "    </style><table class=\"wandb\">\n",
       "<tr><td>train_loss</td><td>█▃▂▂▂▂▂▂▂▂▁▁▁▁▁▁▁▁▁▁▁▁▁▁▁▁▁▁▁▁▁▁▁▁▁▁▁▁▁▁</td></tr><tr><td>train_acc</td><td>▁▆██████████████████████████████████████</td></tr><tr><td>valid_loss</td><td>█▄▄▃▄▃▃▂▃▃▃▂▂▂▂▁▁▂▂▂▂▂▁▁▁▁▁▃▂▁▂▁▂▁▁▁▂▂▁▁</td></tr><tr><td>valid_acc</td><td>▁▇██████████████████████████████████████</td></tr><tr><td>lr</td><td>▁▁▁▁▁▁▁▁▁▁▁▁▁▁▁▁▁▁▁▁▁▁▁▁▁▁▁▁▁▁▁▁▁▁▁▁▁▁▁▁</td></tr><tr><td>epoch_time</td><td>▂▁▄▃▇▄▃▄▅▄▄▃█▄▄▄▃▅▄▄▅▄▅▄▄▄▄▅▄▂▃▂▂▂▂▂▃▂▂▂</td></tr><tr><td>_runtime</td><td>▁▁▁▂▂▂▂▂▂▃▃▃▃▃▄▄▄▄▄▅▅▅▅▅▅▆▆▆▆▆▇▇▇▇▇▇▇▇██</td></tr><tr><td>_timestamp</td><td>▁▁▁▂▂▂▂▂▂▃▃▃▃▃▄▄▄▄▄▅▅▅▅▅▅▆▆▆▆▆▇▇▇▇▇▇▇▇██</td></tr><tr><td>_step</td><td>▁▁▁▁▂▂▂▂▂▃▃▃▃▃▃▄▄▄▄▄▅▅▅▅▅▅▆▆▆▆▆▇▇▇▇▇▇███</td></tr></table><br/>"
      ],
      "text/plain": [
       "<IPython.core.display.HTML object>"
      ]
     },
     "metadata": {},
     "output_type": "display_data"
    },
    {
     "data": {
      "text/html": [
       "Synced 5 W&B file(s), 0 media file(s), 0 artifact file(s) and 0 other file(s)"
      ],
      "text/plain": [
       "<IPython.core.display.HTML object>"
      ]
     },
     "metadata": {},
     "output_type": "display_data"
    },
    {
     "data": {
      "text/html": [
       "\n",
       "                    <br/>Synced <strong style=\"color:#cdcd00\">devout-sweep-44</strong>: <a href=\"https://wandb.ai/teamtom/churn-class-imbalance-with-treshold01/runs/fe0fgid1\" target=\"_blank\">https://wandb.ai/teamtom/churn-class-imbalance-with-treshold01/runs/fe0fgid1</a><br/>\n",
       "                "
      ],
      "text/plain": [
       "<IPython.core.display.HTML object>"
      ]
     },
     "metadata": {},
     "output_type": "display_data"
    },
    {
     "name": "stderr",
     "output_type": "stream",
     "text": [
      "wandb: Agent Starting Run: fby2r0iq with config:\n",
      "wandb: \tbatch_size: 32\n",
      "wandb: \tepochs: 100\n",
      "wandb: \tlearning_rate: 0.001\n",
      "wandb: \tthreshold: 0.26315789473684215\n",
      "wandb: wandb version 0.12.3 is available!  To upgrade, please run:\n",
      "wandb:  $ pip install wandb --upgrade\n"
     ]
    },
    {
     "data": {
      "text/html": [
       "\n",
       "                Tracking run with wandb version 0.10.31<br/>\n",
       "                Syncing run <strong style=\"color:#cdcd00\">fancy-sweep-45</strong> to <a href=\"https://wandb.ai\" target=\"_blank\">Weights & Biases</a> <a href=\"https://docs.wandb.com/integrations/jupyter.html\" target=\"_blank\">(Documentation)</a>.<br/>\n",
       "                Project page: <a href=\"https://wandb.ai/teamtom/churn-class-imbalance-with-treshold01\" target=\"_blank\">https://wandb.ai/teamtom/churn-class-imbalance-with-treshold01</a><br/>\n",
       "                Sweep page: <a href=\"https://wandb.ai/teamtom/churn-class-imbalance-with-treshold01/sweeps/d22sfkpk\" target=\"_blank\">https://wandb.ai/teamtom/churn-class-imbalance-with-treshold01/sweeps/d22sfkpk</a><br/>\n",
       "Run page: <a href=\"https://wandb.ai/teamtom/churn-class-imbalance-with-treshold01/runs/fby2r0iq\" target=\"_blank\">https://wandb.ai/teamtom/churn-class-imbalance-with-treshold01/runs/fby2r0iq</a><br/>\n",
       "                Run data is saved locally in <code>c:\\python\\anaconda_base\\pytorch-tutorial\\wandb\\run-20211003_221506-fby2r0iq</code><br/><br/>\n",
       "            "
      ],
      "text/plain": [
       "<IPython.core.display.HTML object>"
      ]
     },
     "metadata": {},
     "output_type": "display_data"
    },
    {
     "name": "stdout",
     "output_type": "stream",
     "text": [
      "dataset size: 10000\n",
      "dataset samples shape: torch.Size([10000, 9])\n",
      "dataset classes shape: torch.Size([10000, 1])\n",
      "| Epoch: 0010 | Train Loss: 0.475 | Train Acc: 72.74% | Val. Loss: 0.465 | Val. Acc: 73.92% |\n",
      "| Epoch: 0020 | Train Loss: 0.460 | Train Acc: 73.31% | Val. Loss: 0.444 | Val. Acc: 74.35% |\n",
      "| Epoch: 0030 | Train Loss: 0.450 | Train Acc: 73.88% | Val. Loss: 0.436 | Val. Acc: 74.03% |\n",
      "| Epoch: 0040 | Train Loss: 0.447 | Train Acc: 73.97% | Val. Loss: 0.433 | Val. Acc: 73.60% |\n",
      "| Epoch: 0050 | Train Loss: 0.444 | Train Acc: 73.76% | Val. Loss: 0.439 | Val. Acc: 71.98% |\n",
      "| Epoch: 0060 | Train Loss: 0.441 | Train Acc: 73.56% | Val. Loss: 0.434 | Val. Acc: 74.03% |\n",
      "| Epoch: 0070 | Train Loss: 0.440 | Train Acc: 74.09% | Val. Loss: 0.423 | Val. Acc: 73.81% |\n",
      "| Epoch: 0080 | Train Loss: 0.440 | Train Acc: 74.24% | Val. Loss: 0.438 | Val. Acc: 73.06% |\n",
      "| Epoch: 0090 | Train Loss: 0.440 | Train Acc: 74.27% | Val. Loss: 0.440 | Val. Acc: 74.03% |\n",
      "| Epoch: 0100 | Train Loss: 0.439 | Train Acc: 74.94% | Val. Loss: 0.431 | Val. Acc: 75.11% |\n"
     ]
    },
    {
     "data": {
      "text/html": [
       "<br/>Waiting for W&B process to finish, PID 6312<br/>Program ended successfully."
      ],
      "text/plain": [
       "<IPython.core.display.HTML object>"
      ]
     },
     "metadata": {},
     "output_type": "display_data"
    },
    {
     "data": {
      "application/vnd.jupyter.widget-view+json": {
       "model_id": "add15b491f274c8286ac86d50159f24c",
       "version_major": 2,
       "version_minor": 0
      },
      "text/plain": [
       "VBox(children=(Label(value=' 0.00MB of 0.00MB uploaded (0.00MB deduped)\\r'), FloatProgress(value=1.0, max=1.0)…"
      ]
     },
     "metadata": {},
     "output_type": "display_data"
    },
    {
     "data": {
      "text/html": [
       "Find user logs for this run at: <code>c:\\python\\anaconda_base\\pytorch-tutorial\\wandb\\run-20211003_221506-fby2r0iq\\logs\\debug.log</code>"
      ],
      "text/plain": [
       "<IPython.core.display.HTML object>"
      ]
     },
     "metadata": {},
     "output_type": "display_data"
    },
    {
     "data": {
      "text/html": [
       "Find internal logs for this run at: <code>c:\\python\\anaconda_base\\pytorch-tutorial\\wandb\\run-20211003_221506-fby2r0iq\\logs\\debug-internal.log</code>"
      ],
      "text/plain": [
       "<IPython.core.display.HTML object>"
      ]
     },
     "metadata": {},
     "output_type": "display_data"
    },
    {
     "data": {
      "text/html": [
       "<h3>Run summary:</h3><br/><style>\n",
       "    table.wandb td:nth-child(1) { padding: 0 10px; text-align: right }\n",
       "    </style><table class=\"wandb\">\n",
       "<tr><td>train_loss</td><td>0.43885</td></tr><tr><td>train_acc</td><td>0.74938</td></tr><tr><td>valid_loss</td><td>0.43076</td></tr><tr><td>valid_acc</td><td>0.75108</td></tr><tr><td>lr</td><td>0.001</td></tr><tr><td>epoch_time</td><td>0.19719</td></tr><tr><td>_runtime</td><td>30</td></tr><tr><td>_timestamp</td><td>1633292137</td></tr><tr><td>_step</td><td>99</td></tr><tr><td>accuracy</td><td>0.759</td></tr><tr><td>prec</td><td>0.43223</td></tr><tr><td>recall</td><td>0.57843</td></tr><tr><td>f1</td><td>0.49476</td></tr></table>"
      ],
      "text/plain": [
       "<IPython.core.display.HTML object>"
      ]
     },
     "metadata": {},
     "output_type": "display_data"
    },
    {
     "data": {
      "text/html": [
       "<h3>Run history:</h3><br/><style>\n",
       "    table.wandb td:nth-child(1) { padding: 0 10px; text-align: right }\n",
       "    </style><table class=\"wandb\">\n",
       "<tr><td>train_loss</td><td>█▄▄▃▃▃▃▂▂▂▂▂▂▂▂▁▁▁▁▁▁▁▁▁▁▁▁▁▁▁▁▁▁▁▁▁▁▁▁▁</td></tr><tr><td>train_acc</td><td>▁▇██████████████████████████████████████</td></tr><tr><td>valid_loss</td><td>█▇▅▅▆▅▄▄▃▃▄▂▃▃▂▃▂▂▂▂▃▃▂▂▂▂▁▂▂▂▃▁▁▁▁▂▁▁▂▂</td></tr><tr><td>valid_acc</td><td>▁▇▇▇▇▇█▇▇█▇█▇▇▇▇▇▇▇▇▇▇▇▇▇▇▇▇▇█▇▇█▇█▇█▇██</td></tr><tr><td>lr</td><td>▁▁▁▁▁▁▁▁▁▁▁▁▁▁▁▁▁▁▁▁▁▁▁▁▁▁▁▁▁▁▁▁▁▁▁▁▁▁▁▁</td></tr><tr><td>epoch_time</td><td>▁▂▆▄▆▆▇▇█▅▆▇▆▅▆▅▇▆▇▇▆▅▆▆▆▆▇█▃▁▄▃▂▂▄▄▂▁▁▂</td></tr><tr><td>_runtime</td><td>▁▁▁▁▂▂▂▂▃▃▃▃▃▃▄▄▄▄▅▅▅▅▅▅▅▆▆▆▇▇▇▇▇▇▇▇▇▇██</td></tr><tr><td>_timestamp</td><td>▁▁▁▁▂▂▂▂▃▃▃▃▃▃▄▄▄▄▅▅▅▅▅▅▅▆▆▆▇▇▇▇▇▇▇▇▇▇██</td></tr><tr><td>_step</td><td>▁▁▁▁▂▂▂▂▂▃▃▃▃▃▃▄▄▄▄▄▅▅▅▅▅▅▆▆▆▆▆▇▇▇▇▇▇███</td></tr></table><br/>"
      ],
      "text/plain": [
       "<IPython.core.display.HTML object>"
      ]
     },
     "metadata": {},
     "output_type": "display_data"
    },
    {
     "data": {
      "text/html": [
       "Synced 5 W&B file(s), 0 media file(s), 0 artifact file(s) and 0 other file(s)"
      ],
      "text/plain": [
       "<IPython.core.display.HTML object>"
      ]
     },
     "metadata": {},
     "output_type": "display_data"
    },
    {
     "data": {
      "text/html": [
       "\n",
       "                    <br/>Synced <strong style=\"color:#cdcd00\">fancy-sweep-45</strong>: <a href=\"https://wandb.ai/teamtom/churn-class-imbalance-with-treshold01/runs/fby2r0iq\" target=\"_blank\">https://wandb.ai/teamtom/churn-class-imbalance-with-treshold01/runs/fby2r0iq</a><br/>\n",
       "                "
      ],
      "text/plain": [
       "<IPython.core.display.HTML object>"
      ]
     },
     "metadata": {},
     "output_type": "display_data"
    },
    {
     "name": "stderr",
     "output_type": "stream",
     "text": [
      "wandb: Agent Starting Run: r5c08qny with config:\n",
      "wandb: \tbatch_size: 32\n",
      "wandb: \tepochs: 100\n",
      "wandb: \tlearning_rate: 0.001\n",
      "wandb: \tthreshold: 0.2789473684210526\n",
      "wandb: wandb version 0.12.3 is available!  To upgrade, please run:\n",
      "wandb:  $ pip install wandb --upgrade\n"
     ]
    },
    {
     "data": {
      "text/html": [
       "\n",
       "                Tracking run with wandb version 0.10.31<br/>\n",
       "                Syncing run <strong style=\"color:#cdcd00\">sunny-sweep-46</strong> to <a href=\"https://wandb.ai\" target=\"_blank\">Weights & Biases</a> <a href=\"https://docs.wandb.com/integrations/jupyter.html\" target=\"_blank\">(Documentation)</a>.<br/>\n",
       "                Project page: <a href=\"https://wandb.ai/teamtom/churn-class-imbalance-with-treshold01\" target=\"_blank\">https://wandb.ai/teamtom/churn-class-imbalance-with-treshold01</a><br/>\n",
       "                Sweep page: <a href=\"https://wandb.ai/teamtom/churn-class-imbalance-with-treshold01/sweeps/d22sfkpk\" target=\"_blank\">https://wandb.ai/teamtom/churn-class-imbalance-with-treshold01/sweeps/d22sfkpk</a><br/>\n",
       "Run page: <a href=\"https://wandb.ai/teamtom/churn-class-imbalance-with-treshold01/runs/r5c08qny\" target=\"_blank\">https://wandb.ai/teamtom/churn-class-imbalance-with-treshold01/runs/r5c08qny</a><br/>\n",
       "                Run data is saved locally in <code>c:\\python\\anaconda_base\\pytorch-tutorial\\wandb\\run-20211003_221541-r5c08qny</code><br/><br/>\n",
       "            "
      ],
      "text/plain": [
       "<IPython.core.display.HTML object>"
      ]
     },
     "metadata": {},
     "output_type": "display_data"
    },
    {
     "name": "stdout",
     "output_type": "stream",
     "text": [
      "dataset size: 10000\n",
      "dataset samples shape: torch.Size([10000, 9])\n",
      "dataset classes shape: torch.Size([10000, 1])\n",
      "| Epoch: 0010 | Train Loss: 0.470 | Train Acc: 75.11% | Val. Loss: 0.469 | Val. Acc: 75.00% |\n",
      "| Epoch: 0020 | Train Loss: 0.455 | Train Acc: 75.62% | Val. Loss: 0.438 | Val. Acc: 76.40% |\n",
      "| Epoch: 0030 | Train Loss: 0.451 | Train Acc: 75.18% | Val. Loss: 0.433 | Val. Acc: 75.75% |\n",
      "| Epoch: 0040 | Train Loss: 0.447 | Train Acc: 74.69% | Val. Loss: 0.430 | Val. Acc: 74.25% |\n",
      "| Epoch: 0050 | Train Loss: 0.443 | Train Acc: 75.57% | Val. Loss: 0.425 | Val. Acc: 74.03% |\n",
      "| Epoch: 0060 | Train Loss: 0.443 | Train Acc: 75.44% | Val. Loss: 0.425 | Val. Acc: 74.57% |\n",
      "| Epoch: 0070 | Train Loss: 0.440 | Train Acc: 75.79% | Val. Loss: 0.419 | Val. Acc: 76.08% |\n",
      "| Epoch: 0080 | Train Loss: 0.441 | Train Acc: 75.46% | Val. Loss: 0.431 | Val. Acc: 75.54% |\n",
      "| Epoch: 0090 | Train Loss: 0.440 | Train Acc: 75.75% | Val. Loss: 0.424 | Val. Acc: 74.68% |\n",
      "| Epoch: 0100 | Train Loss: 0.438 | Train Acc: 75.70% | Val. Loss: 0.422 | Val. Acc: 75.32% |\n"
     ]
    },
    {
     "data": {
      "text/html": [
       "<br/>Waiting for W&B process to finish, PID 7496<br/>Program ended successfully."
      ],
      "text/plain": [
       "<IPython.core.display.HTML object>"
      ]
     },
     "metadata": {},
     "output_type": "display_data"
    },
    {
     "data": {
      "application/vnd.jupyter.widget-view+json": {
       "model_id": "d3ae7422c8fb45ce9924e3428f95bd8a",
       "version_major": 2,
       "version_minor": 0
      },
      "text/plain": [
       "VBox(children=(Label(value=' 0.00MB of 0.00MB uploaded (0.00MB deduped)\\r'), FloatProgress(value=1.0, max=1.0)…"
      ]
     },
     "metadata": {},
     "output_type": "display_data"
    },
    {
     "data": {
      "text/html": [
       "Find user logs for this run at: <code>c:\\python\\anaconda_base\\pytorch-tutorial\\wandb\\run-20211003_221541-r5c08qny\\logs\\debug.log</code>"
      ],
      "text/plain": [
       "<IPython.core.display.HTML object>"
      ]
     },
     "metadata": {},
     "output_type": "display_data"
    },
    {
     "data": {
      "text/html": [
       "Find internal logs for this run at: <code>c:\\python\\anaconda_base\\pytorch-tutorial\\wandb\\run-20211003_221541-r5c08qny\\logs\\debug-internal.log</code>"
      ],
      "text/plain": [
       "<IPython.core.display.HTML object>"
      ]
     },
     "metadata": {},
     "output_type": "display_data"
    },
    {
     "data": {
      "text/html": [
       "<h3>Run summary:</h3><br/><style>\n",
       "    table.wandb td:nth-child(1) { padding: 0 10px; text-align: right }\n",
       "    </style><table class=\"wandb\">\n",
       "<tr><td>train_loss</td><td>0.43808</td></tr><tr><td>train_acc</td><td>0.75701</td></tr><tr><td>valid_loss</td><td>0.42172</td></tr><tr><td>valid_acc</td><td>0.75323</td></tr><tr><td>lr</td><td>0.001</td></tr><tr><td>epoch_time</td><td>0.22211</td></tr><tr><td>_runtime</td><td>28</td></tr><tr><td>_timestamp</td><td>1633292170</td></tr><tr><td>_step</td><td>99</td></tr><tr><td>accuracy</td><td>0.778</td></tr><tr><td>prec</td><td>0.46341</td></tr><tr><td>recall</td><td>0.55882</td></tr><tr><td>f1</td><td>0.50667</td></tr></table>"
      ],
      "text/plain": [
       "<IPython.core.display.HTML object>"
      ]
     },
     "metadata": {},
     "output_type": "display_data"
    },
    {
     "data": {
      "text/html": [
       "<h3>Run history:</h3><br/><style>\n",
       "    table.wandb td:nth-child(1) { padding: 0 10px; text-align: right }\n",
       "    </style><table class=\"wandb\">\n",
       "<tr><td>train_loss</td><td>█▅▄▄▃▃▃▂▂▂▂▂▂▂▂▂▂▂▁▁▁▁▁▁▁▁▁▁▁▁▁▁▁▁▁▁▁▁▁▁</td></tr><tr><td>train_acc</td><td>▁███████████████████████████████████████</td></tr><tr><td>valid_loss</td><td>█▆▆▅▅▄▄▃▃▄▃▂▃▃▂▄▃▃▂▂▃▂▂▂▂▁▂▁▂▃▃▃▁▁▂▁▁▃▂▁</td></tr><tr><td>valid_acc</td><td>▁█▇▇▇█▇▇▇▇▇▇▅▅▆▅▆▅▅▆▆▆▆▅▇▇▇▇▇▆▆▆▇▇▇▇▇▅▇▆</td></tr><tr><td>lr</td><td>▁▁▁▁▁▁▁▁▁▁▁▁▁▁▁▁▁▁▁▁▁▁▁▁▁▁▁▁▁▁▁▁▁▁▁▁▁▁▁▁</td></tr><tr><td>epoch_time</td><td>▄▄▅▄▄▃▄█▄▅▄▄▄▅▅▅▄▃▃▂▂▄▄▄▃▅▄▄▅▄▁▂▂▂▂▂▁▂▂▂</td></tr><tr><td>_runtime</td><td>▁▁▁▂▂▂▂▂▃▃▃▃▃▄▄▄▄▄▅▅▅▅▅▅▆▆▆▆▆▇▇▇▇▇▇▇████</td></tr><tr><td>_timestamp</td><td>▁▁▁▂▂▂▂▂▃▃▃▃▃▄▄▄▄▄▅▅▅▅▅▅▆▆▆▆▆▇▇▇▇▇▇▇████</td></tr><tr><td>_step</td><td>▁▁▁▁▂▂▂▂▂▃▃▃▃▃▃▄▄▄▄▄▅▅▅▅▅▅▆▆▆▆▆▇▇▇▇▇▇███</td></tr></table><br/>"
      ],
      "text/plain": [
       "<IPython.core.display.HTML object>"
      ]
     },
     "metadata": {},
     "output_type": "display_data"
    },
    {
     "data": {
      "text/html": [
       "Synced 5 W&B file(s), 0 media file(s), 0 artifact file(s) and 0 other file(s)"
      ],
      "text/plain": [
       "<IPython.core.display.HTML object>"
      ]
     },
     "metadata": {},
     "output_type": "display_data"
    },
    {
     "data": {
      "text/html": [
       "\n",
       "                    <br/>Synced <strong style=\"color:#cdcd00\">sunny-sweep-46</strong>: <a href=\"https://wandb.ai/teamtom/churn-class-imbalance-with-treshold01/runs/r5c08qny\" target=\"_blank\">https://wandb.ai/teamtom/churn-class-imbalance-with-treshold01/runs/r5c08qny</a><br/>\n",
       "                "
      ],
      "text/plain": [
       "<IPython.core.display.HTML object>"
      ]
     },
     "metadata": {},
     "output_type": "display_data"
    },
    {
     "name": "stderr",
     "output_type": "stream",
     "text": [
      "wandb: Agent Starting Run: bcqcwcbi with config:\n",
      "wandb: \tbatch_size: 32\n",
      "wandb: \tepochs: 100\n",
      "wandb: \tlearning_rate: 0.001\n",
      "wandb: \tthreshold: 0.2947368421052632\n",
      "wandb: wandb version 0.12.3 is available!  To upgrade, please run:\n",
      "wandb:  $ pip install wandb --upgrade\n"
     ]
    },
    {
     "data": {
      "text/html": [
       "\n",
       "                Tracking run with wandb version 0.10.31<br/>\n",
       "                Syncing run <strong style=\"color:#cdcd00\">frosty-sweep-47</strong> to <a href=\"https://wandb.ai\" target=\"_blank\">Weights & Biases</a> <a href=\"https://docs.wandb.com/integrations/jupyter.html\" target=\"_blank\">(Documentation)</a>.<br/>\n",
       "                Project page: <a href=\"https://wandb.ai/teamtom/churn-class-imbalance-with-treshold01\" target=\"_blank\">https://wandb.ai/teamtom/churn-class-imbalance-with-treshold01</a><br/>\n",
       "                Sweep page: <a href=\"https://wandb.ai/teamtom/churn-class-imbalance-with-treshold01/sweeps/d22sfkpk\" target=\"_blank\">https://wandb.ai/teamtom/churn-class-imbalance-with-treshold01/sweeps/d22sfkpk</a><br/>\n",
       "Run page: <a href=\"https://wandb.ai/teamtom/churn-class-imbalance-with-treshold01/runs/bcqcwcbi\" target=\"_blank\">https://wandb.ai/teamtom/churn-class-imbalance-with-treshold01/runs/bcqcwcbi</a><br/>\n",
       "                Run data is saved locally in <code>c:\\python\\anaconda_base\\pytorch-tutorial\\wandb\\run-20211003_221614-bcqcwcbi</code><br/><br/>\n",
       "            "
      ],
      "text/plain": [
       "<IPython.core.display.HTML object>"
      ]
     },
     "metadata": {},
     "output_type": "display_data"
    },
    {
     "name": "stdout",
     "output_type": "stream",
     "text": [
      "dataset size: 10000\n",
      "dataset samples shape: torch.Size([10000, 9])\n",
      "dataset classes shape: torch.Size([10000, 1])\n",
      "| Epoch: 0010 | Train Loss: 0.479 | Train Acc: 74.94% | Val. Loss: 0.479 | Val. Acc: 74.57% |\n",
      "| Epoch: 0020 | Train Loss: 0.463 | Train Acc: 75.97% | Val. Loss: 0.445 | Val. Acc: 76.08% |\n",
      "| Epoch: 0030 | Train Loss: 0.455 | Train Acc: 76.41% | Val. Loss: 0.440 | Val. Acc: 76.94% |\n",
      "| Epoch: 0040 | Train Loss: 0.448 | Train Acc: 76.27% | Val. Loss: 0.437 | Val. Acc: 76.40% |\n",
      "| Epoch: 0050 | Train Loss: 0.444 | Train Acc: 76.32% | Val. Loss: 0.428 | Val. Acc: 75.86% |\n",
      "| Epoch: 0060 | Train Loss: 0.442 | Train Acc: 76.25% | Val. Loss: 0.439 | Val. Acc: 76.19% |\n",
      "| Epoch: 0070 | Train Loss: 0.441 | Train Acc: 76.43% | Val. Loss: 0.432 | Val. Acc: 76.62% |\n",
      "| Epoch: 0080 | Train Loss: 0.443 | Train Acc: 76.49% | Val. Loss: 0.430 | Val. Acc: 76.72% |\n",
      "| Epoch: 0090 | Train Loss: 0.439 | Train Acc: 76.86% | Val. Loss: 0.426 | Val. Acc: 75.43% |\n",
      "| Epoch: 0100 | Train Loss: 0.439 | Train Acc: 76.69% | Val. Loss: 0.423 | Val. Acc: 75.00% |\n"
     ]
    },
    {
     "data": {
      "text/html": [
       "<br/>Waiting for W&B process to finish, PID 23736<br/>Program ended successfully."
      ],
      "text/plain": [
       "<IPython.core.display.HTML object>"
      ]
     },
     "metadata": {},
     "output_type": "display_data"
    },
    {
     "data": {
      "application/vnd.jupyter.widget-view+json": {
       "model_id": "342b292d316a46398d98875c70551995",
       "version_major": 2,
       "version_minor": 0
      },
      "text/plain": [
       "VBox(children=(Label(value=' 0.00MB of 0.00MB uploaded (0.00MB deduped)\\r'), FloatProgress(value=1.0, max=1.0)…"
      ]
     },
     "metadata": {},
     "output_type": "display_data"
    },
    {
     "data": {
      "text/html": [
       "Find user logs for this run at: <code>c:\\python\\anaconda_base\\pytorch-tutorial\\wandb\\run-20211003_221614-bcqcwcbi\\logs\\debug.log</code>"
      ],
      "text/plain": [
       "<IPython.core.display.HTML object>"
      ]
     },
     "metadata": {},
     "output_type": "display_data"
    },
    {
     "data": {
      "text/html": [
       "Find internal logs for this run at: <code>c:\\python\\anaconda_base\\pytorch-tutorial\\wandb\\run-20211003_221614-bcqcwcbi\\logs\\debug-internal.log</code>"
      ],
      "text/plain": [
       "<IPython.core.display.HTML object>"
      ]
     },
     "metadata": {},
     "output_type": "display_data"
    },
    {
     "data": {
      "text/html": [
       "<h3>Run summary:</h3><br/><style>\n",
       "    table.wandb td:nth-child(1) { padding: 0 10px; text-align: right }\n",
       "    </style><table class=\"wandb\">\n",
       "<tr><td>train_loss</td><td>0.43925</td></tr><tr><td>train_acc</td><td>0.76686</td></tr><tr><td>valid_loss</td><td>0.42295</td></tr><tr><td>valid_acc</td><td>0.75</td></tr><tr><td>lr</td><td>0.001</td></tr><tr><td>epoch_time</td><td>0.26847</td></tr><tr><td>_runtime</td><td>31</td></tr><tr><td>_timestamp</td><td>1633292206</td></tr><tr><td>_step</td><td>99</td></tr><tr><td>accuracy</td><td>0.779</td></tr><tr><td>prec</td><td>0.46256</td></tr><tr><td>recall</td><td>0.51471</td></tr><tr><td>f1</td><td>0.48724</td></tr></table>"
      ],
      "text/plain": [
       "<IPython.core.display.HTML object>"
      ]
     },
     "metadata": {},
     "output_type": "display_data"
    },
    {
     "data": {
      "text/html": [
       "<h3>Run history:</h3><br/><style>\n",
       "    table.wandb td:nth-child(1) { padding: 0 10px; text-align: right }\n",
       "    </style><table class=\"wandb\">\n",
       "<tr><td>train_loss</td><td>█▄▃▃▃▂▂▂▂▂▂▂▂▂▁▁▁▁▁▁▁▁▁▁▁▁▁▁▁▁▁▁▁▁▁▁▁▁▁▁</td></tr><tr><td>train_acc</td><td>▁▇██████████████████████████████████████</td></tr><tr><td>valid_loss</td><td>█▅▅▄▃▄▃▃▃▃▂▂▂▃▂▂▁▁▂▂▁▂▂▁▁▂▂▁▂▁▂▁▁▂▁▂▂▁▂▁</td></tr><tr><td>valid_acc</td><td>▁▇▇▇█████▇██████████████▇▇███████▇▇▇███▇</td></tr><tr><td>lr</td><td>▁▁▁▁▁▁▁▁▁▁▁▁▁▁▁▁▁▁▁▁▁▁▁▁▁▁▁▁▁▁▁▁▁▁▁▁▁▁▁▁</td></tr><tr><td>epoch_time</td><td>▆▅▃▄▅▄▅█▃▃▃▄▃▄▆▂▄▃▄▄▃▄▄▅▄▄▄▃▃▂▂▂▂▁▂▁▂▁▂▃</td></tr><tr><td>_runtime</td><td>▁▁▁▁▂▂▂▃▃▃▃▃▃▃▄▄▄▄▅▅▅▅▅▅▅▆▆▆▆▇▇▇▇▇▇▇▇▇██</td></tr><tr><td>_timestamp</td><td>▁▁▁▁▂▂▂▃▃▃▃▃▃▃▄▄▄▄▅▅▅▅▅▅▅▆▆▆▆▇▇▇▇▇▇▇▇▇██</td></tr><tr><td>_step</td><td>▁▁▁▁▂▂▂▂▂▃▃▃▃▃▃▄▄▄▄▄▅▅▅▅▅▅▆▆▆▆▆▇▇▇▇▇▇███</td></tr></table><br/>"
      ],
      "text/plain": [
       "<IPython.core.display.HTML object>"
      ]
     },
     "metadata": {},
     "output_type": "display_data"
    },
    {
     "data": {
      "text/html": [
       "Synced 5 W&B file(s), 0 media file(s), 0 artifact file(s) and 0 other file(s)"
      ],
      "text/plain": [
       "<IPython.core.display.HTML object>"
      ]
     },
     "metadata": {},
     "output_type": "display_data"
    },
    {
     "data": {
      "text/html": [
       "\n",
       "                    <br/>Synced <strong style=\"color:#cdcd00\">frosty-sweep-47</strong>: <a href=\"https://wandb.ai/teamtom/churn-class-imbalance-with-treshold01/runs/bcqcwcbi\" target=\"_blank\">https://wandb.ai/teamtom/churn-class-imbalance-with-treshold01/runs/bcqcwcbi</a><br/>\n",
       "                "
      ],
      "text/plain": [
       "<IPython.core.display.HTML object>"
      ]
     },
     "metadata": {},
     "output_type": "display_data"
    },
    {
     "name": "stderr",
     "output_type": "stream",
     "text": [
      "wandb: Agent Starting Run: oyrzik0w with config:\n",
      "wandb: \tbatch_size: 32\n",
      "wandb: \tepochs: 100\n",
      "wandb: \tlearning_rate: 0.001\n",
      "wandb: \tthreshold: 0.3105263157894737\n",
      "wandb: wandb version 0.12.3 is available!  To upgrade, please run:\n",
      "wandb:  $ pip install wandb --upgrade\n"
     ]
    },
    {
     "data": {
      "text/html": [
       "\n",
       "                Tracking run with wandb version 0.10.31<br/>\n",
       "                Syncing run <strong style=\"color:#cdcd00\">stellar-sweep-48</strong> to <a href=\"https://wandb.ai\" target=\"_blank\">Weights & Biases</a> <a href=\"https://docs.wandb.com/integrations/jupyter.html\" target=\"_blank\">(Documentation)</a>.<br/>\n",
       "                Project page: <a href=\"https://wandb.ai/teamtom/churn-class-imbalance-with-treshold01\" target=\"_blank\">https://wandb.ai/teamtom/churn-class-imbalance-with-treshold01</a><br/>\n",
       "                Sweep page: <a href=\"https://wandb.ai/teamtom/churn-class-imbalance-with-treshold01/sweeps/d22sfkpk\" target=\"_blank\">https://wandb.ai/teamtom/churn-class-imbalance-with-treshold01/sweeps/d22sfkpk</a><br/>\n",
       "Run page: <a href=\"https://wandb.ai/teamtom/churn-class-imbalance-with-treshold01/runs/oyrzik0w\" target=\"_blank\">https://wandb.ai/teamtom/churn-class-imbalance-with-treshold01/runs/oyrzik0w</a><br/>\n",
       "                Run data is saved locally in <code>c:\\python\\anaconda_base\\pytorch-tutorial\\wandb\\run-20211003_221650-oyrzik0w</code><br/><br/>\n",
       "            "
      ],
      "text/plain": [
       "<IPython.core.display.HTML object>"
      ]
     },
     "metadata": {},
     "output_type": "display_data"
    },
    {
     "name": "stdout",
     "output_type": "stream",
     "text": [
      "dataset size: 10000\n",
      "dataset samples shape: torch.Size([10000, 9])\n",
      "dataset classes shape: torch.Size([10000, 1])\n",
      "| Epoch: 0010 | Train Loss: 0.472 | Train Acc: 77.81% | Val. Loss: 0.458 | Val. Acc: 78.88% |\n",
      "| Epoch: 0020 | Train Loss: 0.458 | Train Acc: 77.78% | Val. Loss: 0.440 | Val. Acc: 78.45% |\n",
      "| Epoch: 0030 | Train Loss: 0.450 | Train Acc: 77.66% | Val. Loss: 0.449 | Val. Acc: 77.48% |\n",
      "| Epoch: 0040 | Train Loss: 0.446 | Train Acc: 77.52% | Val. Loss: 0.428 | Val. Acc: 78.66% |\n",
      "| Epoch: 0050 | Train Loss: 0.443 | Train Acc: 77.19% | Val. Loss: 0.424 | Val. Acc: 77.26% |\n",
      "| Epoch: 0060 | Train Loss: 0.441 | Train Acc: 77.69% | Val. Loss: 0.424 | Val. Acc: 77.48% |\n",
      "| Epoch: 0070 | Train Loss: 0.442 | Train Acc: 76.99% | Val. Loss: 0.438 | Val. Acc: 77.05% |\n",
      "| Epoch: 0080 | Train Loss: 0.439 | Train Acc: 77.39% | Val. Loss: 0.422 | Val. Acc: 76.29% |\n",
      "| Epoch: 0090 | Train Loss: 0.439 | Train Acc: 77.31% | Val. Loss: 0.422 | Val. Acc: 76.94% |\n",
      "| Epoch: 0100 | Train Loss: 0.439 | Train Acc: 77.14% | Val. Loss: 0.438 | Val. Acc: 76.40% |\n"
     ]
    },
    {
     "data": {
      "text/html": [
       "<br/>Waiting for W&B process to finish, PID 25300<br/>Program ended successfully."
      ],
      "text/plain": [
       "<IPython.core.display.HTML object>"
      ]
     },
     "metadata": {},
     "output_type": "display_data"
    },
    {
     "data": {
      "application/vnd.jupyter.widget-view+json": {
       "model_id": "dfd35b6472484363a91f31acbd505417",
       "version_major": 2,
       "version_minor": 0
      },
      "text/plain": [
       "VBox(children=(Label(value=' 0.00MB of 0.00MB uploaded (0.00MB deduped)\\r'), FloatProgress(value=1.0, max=1.0)…"
      ]
     },
     "metadata": {},
     "output_type": "display_data"
    },
    {
     "data": {
      "text/html": [
       "Find user logs for this run at: <code>c:\\python\\anaconda_base\\pytorch-tutorial\\wandb\\run-20211003_221650-oyrzik0w\\logs\\debug.log</code>"
      ],
      "text/plain": [
       "<IPython.core.display.HTML object>"
      ]
     },
     "metadata": {},
     "output_type": "display_data"
    },
    {
     "data": {
      "text/html": [
       "Find internal logs for this run at: <code>c:\\python\\anaconda_base\\pytorch-tutorial\\wandb\\run-20211003_221650-oyrzik0w\\logs\\debug-internal.log</code>"
      ],
      "text/plain": [
       "<IPython.core.display.HTML object>"
      ]
     },
     "metadata": {},
     "output_type": "display_data"
    },
    {
     "data": {
      "text/html": [
       "<h3>Run summary:</h3><br/><style>\n",
       "    table.wandb td:nth-child(1) { padding: 0 10px; text-align: right }\n",
       "    </style><table class=\"wandb\">\n",
       "<tr><td>train_loss</td><td>0.43863</td></tr><tr><td>train_acc</td><td>0.77141</td></tr><tr><td>valid_loss</td><td>0.43806</td></tr><tr><td>valid_acc</td><td>0.76401</td></tr><tr><td>lr</td><td>0.001</td></tr><tr><td>epoch_time</td><td>0.29615</td></tr><tr><td>_runtime</td><td>32</td></tr><tr><td>_timestamp</td><td>1633292243</td></tr><tr><td>_step</td><td>99</td></tr><tr><td>accuracy</td><td>0.786</td></tr><tr><td>prec</td><td>0.47642</td></tr><tr><td>recall</td><td>0.4951</td></tr><tr><td>f1</td><td>0.48558</td></tr></table>"
      ],
      "text/plain": [
       "<IPython.core.display.HTML object>"
      ]
     },
     "metadata": {},
     "output_type": "display_data"
    },
    {
     "data": {
      "text/html": [
       "<h3>Run history:</h3><br/><style>\n",
       "    table.wandb td:nth-child(1) { padding: 0 10px; text-align: right }\n",
       "    </style><table class=\"wandb\">\n",
       "<tr><td>train_loss</td><td>█▄▃▃▃▂▂▂▂▂▂▂▂▂▂▁▁▁▁▁▁▁▁▁▁▁▁▁▁▁▁▁▁▁▁▁▁▁▁▁</td></tr><tr><td>train_acc</td><td>▁███████████████████████████████████████</td></tr><tr><td>valid_loss</td><td>█▆▅▅▄▅▃▃▂▂▂▂▃▄▃▂▂▂▁▂▂▁▃▂▂▁▁▁▂▁▁▂▁▂▁▁▁▁▁▂</td></tr><tr><td>valid_acc</td><td>▁▇█▇▇▇▇▇▇▇▇▇▇▆▇▇▇▇▇▇▇▇▆▇▆▇▇▇▆▇▇▇▇▆▇▇▇▇▇▇</td></tr><tr><td>lr</td><td>▁▁▁▁▁▁▁▁▁▁▁▁▁▁▁▁▁▁▁▁▁▁▁▁▁▁▁▁▁▁▁▁▁▁▁▁▁▁▁▁</td></tr><tr><td>epoch_time</td><td>▄▃▄▅▄▅▄▃▅▄▅▃▄▄▄▅▃▂▃▁▃▅▄▄▅▃▄▇▄▄▂█▁▃▁▁▂▁▁▄</td></tr><tr><td>_runtime</td><td>▁▁▁▁▂▂▂▂▃▃▃▃▃▄▄▄▄▄▄▅▅▅▅▅▅▆▆▆▆▆▇▇▇▇▇▇████</td></tr><tr><td>_timestamp</td><td>▁▁▁▁▂▂▂▂▃▃▃▃▃▄▄▄▄▄▄▅▅▅▅▅▅▆▆▆▆▆▇▇▇▇▇▇████</td></tr><tr><td>_step</td><td>▁▁▁▁▂▂▂▂▂▃▃▃▃▃▃▄▄▄▄▄▅▅▅▅▅▅▆▆▆▆▆▇▇▇▇▇▇███</td></tr></table><br/>"
      ],
      "text/plain": [
       "<IPython.core.display.HTML object>"
      ]
     },
     "metadata": {},
     "output_type": "display_data"
    },
    {
     "data": {
      "text/html": [
       "Synced 5 W&B file(s), 0 media file(s), 0 artifact file(s) and 0 other file(s)"
      ],
      "text/plain": [
       "<IPython.core.display.HTML object>"
      ]
     },
     "metadata": {},
     "output_type": "display_data"
    },
    {
     "data": {
      "text/html": [
       "\n",
       "                    <br/>Synced <strong style=\"color:#cdcd00\">stellar-sweep-48</strong>: <a href=\"https://wandb.ai/teamtom/churn-class-imbalance-with-treshold01/runs/oyrzik0w\" target=\"_blank\">https://wandb.ai/teamtom/churn-class-imbalance-with-treshold01/runs/oyrzik0w</a><br/>\n",
       "                "
      ],
      "text/plain": [
       "<IPython.core.display.HTML object>"
      ]
     },
     "metadata": {},
     "output_type": "display_data"
    },
    {
     "name": "stderr",
     "output_type": "stream",
     "text": [
      "wandb: Agent Starting Run: j7uu99wu with config:\n",
      "wandb: \tbatch_size: 32\n",
      "wandb: \tepochs: 100\n",
      "wandb: \tlearning_rate: 0.001\n",
      "wandb: \tthreshold: 0.3263157894736842\n",
      "wandb: wandb version 0.12.3 is available!  To upgrade, please run:\n",
      "wandb:  $ pip install wandb --upgrade\n"
     ]
    },
    {
     "data": {
      "text/html": [
       "\n",
       "                Tracking run with wandb version 0.10.31<br/>\n",
       "                Syncing run <strong style=\"color:#cdcd00\">youthful-sweep-49</strong> to <a href=\"https://wandb.ai\" target=\"_blank\">Weights & Biases</a> <a href=\"https://docs.wandb.com/integrations/jupyter.html\" target=\"_blank\">(Documentation)</a>.<br/>\n",
       "                Project page: <a href=\"https://wandb.ai/teamtom/churn-class-imbalance-with-treshold01\" target=\"_blank\">https://wandb.ai/teamtom/churn-class-imbalance-with-treshold01</a><br/>\n",
       "                Sweep page: <a href=\"https://wandb.ai/teamtom/churn-class-imbalance-with-treshold01/sweeps/d22sfkpk\" target=\"_blank\">https://wandb.ai/teamtom/churn-class-imbalance-with-treshold01/sweeps/d22sfkpk</a><br/>\n",
       "Run page: <a href=\"https://wandb.ai/teamtom/churn-class-imbalance-with-treshold01/runs/j7uu99wu\" target=\"_blank\">https://wandb.ai/teamtom/churn-class-imbalance-with-treshold01/runs/j7uu99wu</a><br/>\n",
       "                Run data is saved locally in <code>c:\\python\\anaconda_base\\pytorch-tutorial\\wandb\\run-20211003_221727-j7uu99wu</code><br/><br/>\n",
       "            "
      ],
      "text/plain": [
       "<IPython.core.display.HTML object>"
      ]
     },
     "metadata": {},
     "output_type": "display_data"
    },
    {
     "name": "stdout",
     "output_type": "stream",
     "text": [
      "dataset size: 10000\n",
      "dataset samples shape: torch.Size([10000, 9])\n",
      "dataset classes shape: torch.Size([10000, 1])\n",
      "| Epoch: 0010 | Train Loss: 0.471 | Train Acc: 78.53% | Val. Loss: 0.450 | Val. Acc: 79.85% |\n",
      "| Epoch: 0020 | Train Loss: 0.457 | Train Acc: 78.41% | Val. Loss: 0.453 | Val. Acc: 79.31% |\n",
      "| Epoch: 0030 | Train Loss: 0.449 | Train Acc: 78.43% | Val. Loss: 0.433 | Val. Acc: 78.23% |\n",
      "| Epoch: 0040 | Train Loss: 0.445 | Train Acc: 78.46% | Val. Loss: 0.447 | Val. Acc: 78.66% |\n",
      "| Epoch: 0050 | Train Loss: 0.442 | Train Acc: 78.26% | Val. Loss: 0.424 | Val. Acc: 79.96% |\n",
      "| Epoch: 0060 | Train Loss: 0.444 | Train Acc: 78.28% | Val. Loss: 0.429 | Val. Acc: 78.66% |\n",
      "| Epoch: 0070 | Train Loss: 0.440 | Train Acc: 78.26% | Val. Loss: 0.420 | Val. Acc: 78.45% |\n",
      "| Epoch: 0080 | Train Loss: 0.439 | Train Acc: 78.37% | Val. Loss: 0.427 | Val. Acc: 76.94% |\n",
      "| Epoch: 0090 | Train Loss: 0.439 | Train Acc: 78.32% | Val. Loss: 0.437 | Val. Acc: 77.16% |\n",
      "| Epoch: 0100 | Train Loss: 0.438 | Train Acc: 78.01% | Val. Loss: 0.422 | Val. Acc: 77.80% |\n"
     ]
    },
    {
     "data": {
      "text/html": [
       "<br/>Waiting for W&B process to finish, PID 15824<br/>Program ended successfully."
      ],
      "text/plain": [
       "<IPython.core.display.HTML object>"
      ]
     },
     "metadata": {},
     "output_type": "display_data"
    },
    {
     "data": {
      "application/vnd.jupyter.widget-view+json": {
       "model_id": "4753c7b4989642c4b61a7c108ae8ac70",
       "version_major": 2,
       "version_minor": 0
      },
      "text/plain": [
       "VBox(children=(Label(value=' 0.00MB of 0.00MB uploaded (0.00MB deduped)\\r'), FloatProgress(value=1.0, max=1.0)…"
      ]
     },
     "metadata": {},
     "output_type": "display_data"
    },
    {
     "data": {
      "text/html": [
       "Find user logs for this run at: <code>c:\\python\\anaconda_base\\pytorch-tutorial\\wandb\\run-20211003_221727-j7uu99wu\\logs\\debug.log</code>"
      ],
      "text/plain": [
       "<IPython.core.display.HTML object>"
      ]
     },
     "metadata": {},
     "output_type": "display_data"
    },
    {
     "data": {
      "text/html": [
       "Find internal logs for this run at: <code>c:\\python\\anaconda_base\\pytorch-tutorial\\wandb\\run-20211003_221727-j7uu99wu\\logs\\debug-internal.log</code>"
      ],
      "text/plain": [
       "<IPython.core.display.HTML object>"
      ]
     },
     "metadata": {},
     "output_type": "display_data"
    },
    {
     "data": {
      "text/html": [
       "<h3>Run summary:</h3><br/><style>\n",
       "    table.wandb td:nth-child(1) { padding: 0 10px; text-align: right }\n",
       "    </style><table class=\"wandb\">\n",
       "<tr><td>train_loss</td><td>0.43812</td></tr><tr><td>train_acc</td><td>0.78014</td></tr><tr><td>valid_loss</td><td>0.42164</td></tr><tr><td>valid_acc</td><td>0.77802</td></tr><tr><td>lr</td><td>0.001</td></tr><tr><td>epoch_time</td><td>0.22222</td></tr><tr><td>_runtime</td><td>30</td></tr><tr><td>_timestamp</td><td>1633292277</td></tr><tr><td>_step</td><td>99</td></tr><tr><td>accuracy</td><td>0.797</td></tr><tr><td>prec</td><td>0.50259</td></tr><tr><td>recall</td><td>0.47549</td></tr><tr><td>f1</td><td>0.48866</td></tr></table>"
      ],
      "text/plain": [
       "<IPython.core.display.HTML object>"
      ]
     },
     "metadata": {},
     "output_type": "display_data"
    },
    {
     "data": {
      "text/html": [
       "<h3>Run history:</h3><br/><style>\n",
       "    table.wandb td:nth-child(1) { padding: 0 10px; text-align: right }\n",
       "    </style><table class=\"wandb\">\n",
       "<tr><td>train_loss</td><td>█▅▄▄▃▃▃▃▃▂▂▂▂▂▂▂▂▂▁▁▁▁▁▁▁▁▁▁▁▁▁▁▁▁▁▁▁▁▁▁</td></tr><tr><td>train_acc</td><td>▁███▇▇▇▇▇▇▇▇▇▇▇▇▇▇▇▇▇▇▇▇▇▇▇▇▇▇▇▇▇▇▇▇▇▇▇▇</td></tr><tr><td>valid_loss</td><td>█▆▅▅▄▃▃▃▄▄▃▂▃▂▂▂▂▃▂▂▂▂▁▁▂▂▁▂▁▂▂▁▁▁▁▂▂▁▂▁</td></tr><tr><td>valid_acc</td><td>▇█▇▆▆▅▇█▇▇▇▆▇▆▇▆▆▅▃▅▄▃▄▅▅▂▂▃▅▅▃▃▃▅▆▃▃▂▁▄</td></tr><tr><td>lr</td><td>▁▁▁▁▁▁▁▁▁▁▁▁▁▁▁▁▁▁▁▁▁▁▁▁▁▁▁▁▁▁▁▁▁▁▁▁▁▁▁▁</td></tr><tr><td>epoch_time</td><td>▃▄▄▄▃█▄▄▃▄▃▅▄▃▄▄▃▄▄▂▃▄▃▃▄▃▄▄▄▂▁▁▂▂▁▁▁▁▄▂</td></tr><tr><td>_runtime</td><td>▁▁▁▂▂▂▂▂▃▃▃▃▃▄▄▄▄▄▅▅▅▅▅▅▆▆▆▆▆▇▇▇▇▇▇▇▇███</td></tr><tr><td>_timestamp</td><td>▁▁▁▂▂▂▂▂▃▃▃▃▃▄▄▄▄▄▅▅▅▅▅▅▆▆▆▆▆▇▇▇▇▇▇▇▇███</td></tr><tr><td>_step</td><td>▁▁▁▁▂▂▂▂▂▃▃▃▃▃▃▄▄▄▄▄▅▅▅▅▅▅▆▆▆▆▆▇▇▇▇▇▇███</td></tr></table><br/>"
      ],
      "text/plain": [
       "<IPython.core.display.HTML object>"
      ]
     },
     "metadata": {},
     "output_type": "display_data"
    },
    {
     "data": {
      "text/html": [
       "Synced 5 W&B file(s), 0 media file(s), 0 artifact file(s) and 0 other file(s)"
      ],
      "text/plain": [
       "<IPython.core.display.HTML object>"
      ]
     },
     "metadata": {},
     "output_type": "display_data"
    },
    {
     "data": {
      "text/html": [
       "\n",
       "                    <br/>Synced <strong style=\"color:#cdcd00\">youthful-sweep-49</strong>: <a href=\"https://wandb.ai/teamtom/churn-class-imbalance-with-treshold01/runs/j7uu99wu\" target=\"_blank\">https://wandb.ai/teamtom/churn-class-imbalance-with-treshold01/runs/j7uu99wu</a><br/>\n",
       "                "
      ],
      "text/plain": [
       "<IPython.core.display.HTML object>"
      ]
     },
     "metadata": {},
     "output_type": "display_data"
    },
    {
     "name": "stderr",
     "output_type": "stream",
     "text": [
      "wandb: Agent Starting Run: d4ng6nbn with config:\n",
      "wandb: \tbatch_size: 32\n",
      "wandb: \tepochs: 100\n",
      "wandb: \tlearning_rate: 0.001\n",
      "wandb: \tthreshold: 0.34210526315789475\n",
      "wandb: wandb version 0.12.3 is available!  To upgrade, please run:\n",
      "wandb:  $ pip install wandb --upgrade\n"
     ]
    },
    {
     "data": {
      "text/html": [
       "\n",
       "                Tracking run with wandb version 0.10.31<br/>\n",
       "                Syncing run <strong style=\"color:#cdcd00\">cerulean-sweep-50</strong> to <a href=\"https://wandb.ai\" target=\"_blank\">Weights & Biases</a> <a href=\"https://docs.wandb.com/integrations/jupyter.html\" target=\"_blank\">(Documentation)</a>.<br/>\n",
       "                Project page: <a href=\"https://wandb.ai/teamtom/churn-class-imbalance-with-treshold01\" target=\"_blank\">https://wandb.ai/teamtom/churn-class-imbalance-with-treshold01</a><br/>\n",
       "                Sweep page: <a href=\"https://wandb.ai/teamtom/churn-class-imbalance-with-treshold01/sweeps/d22sfkpk\" target=\"_blank\">https://wandb.ai/teamtom/churn-class-imbalance-with-treshold01/sweeps/d22sfkpk</a><br/>\n",
       "Run page: <a href=\"https://wandb.ai/teamtom/churn-class-imbalance-with-treshold01/runs/d4ng6nbn\" target=\"_blank\">https://wandb.ai/teamtom/churn-class-imbalance-with-treshold01/runs/d4ng6nbn</a><br/>\n",
       "                Run data is saved locally in <code>c:\\python\\anaconda_base\\pytorch-tutorial\\wandb\\run-20211003_221801-d4ng6nbn</code><br/><br/>\n",
       "            "
      ],
      "text/plain": [
       "<IPython.core.display.HTML object>"
      ]
     },
     "metadata": {},
     "output_type": "display_data"
    },
    {
     "name": "stdout",
     "output_type": "stream",
     "text": [
      "dataset size: 10000\n",
      "dataset samples shape: torch.Size([10000, 9])\n",
      "dataset classes shape: torch.Size([10000, 1])\n",
      "| Epoch: 0010 | Train Loss: 0.486 | Train Acc: 79.70% | Val. Loss: 0.481 | Val. Acc: 79.53% |\n",
      "| Epoch: 0020 | Train Loss: 0.467 | Train Acc: 78.84% | Val. Loss: 0.457 | Val. Acc: 79.42% |\n",
      "| Epoch: 0030 | Train Loss: 0.456 | Train Acc: 79.00% | Val. Loss: 0.455 | Val. Acc: 79.42% |\n",
      "| Epoch: 0040 | Train Loss: 0.450 | Train Acc: 79.05% | Val. Loss: 0.438 | Val. Acc: 79.74% |\n",
      "| Epoch: 0050 | Train Loss: 0.444 | Train Acc: 79.43% | Val. Loss: 0.429 | Val. Acc: 79.63% |\n",
      "| Epoch: 0060 | Train Loss: 0.443 | Train Acc: 79.13% | Val. Loss: 0.437 | Val. Acc: 79.53% |\n",
      "| Epoch: 0070 | Train Loss: 0.440 | Train Acc: 79.33% | Val. Loss: 0.449 | Val. Acc: 77.16% |\n",
      "| Epoch: 0080 | Train Loss: 0.440 | Train Acc: 79.04% | Val. Loss: 0.429 | Val. Acc: 78.23% |\n",
      "| Epoch: 0090 | Train Loss: 0.440 | Train Acc: 78.64% | Val. Loss: 0.430 | Val. Acc: 78.45% |\n",
      "| Epoch: 0100 | Train Loss: 0.440 | Train Acc: 78.76% | Val. Loss: 0.425 | Val. Acc: 78.88% |\n"
     ]
    },
    {
     "data": {
      "text/html": [
       "<br/>Waiting for W&B process to finish, PID 17092<br/>Program ended successfully."
      ],
      "text/plain": [
       "<IPython.core.display.HTML object>"
      ]
     },
     "metadata": {},
     "output_type": "display_data"
    },
    {
     "data": {
      "application/vnd.jupyter.widget-view+json": {
       "model_id": "bd48229d5fbc4b6695eb71c85dd3bc3a",
       "version_major": 2,
       "version_minor": 0
      },
      "text/plain": [
       "VBox(children=(Label(value=' 0.00MB of 0.00MB uploaded (0.00MB deduped)\\r'), FloatProgress(value=1.0, max=1.0)…"
      ]
     },
     "metadata": {},
     "output_type": "display_data"
    },
    {
     "data": {
      "text/html": [
       "Find user logs for this run at: <code>c:\\python\\anaconda_base\\pytorch-tutorial\\wandb\\run-20211003_221801-d4ng6nbn\\logs\\debug.log</code>"
      ],
      "text/plain": [
       "<IPython.core.display.HTML object>"
      ]
     },
     "metadata": {},
     "output_type": "display_data"
    },
    {
     "data": {
      "text/html": [
       "Find internal logs for this run at: <code>c:\\python\\anaconda_base\\pytorch-tutorial\\wandb\\run-20211003_221801-d4ng6nbn\\logs\\debug-internal.log</code>"
      ],
      "text/plain": [
       "<IPython.core.display.HTML object>"
      ]
     },
     "metadata": {},
     "output_type": "display_data"
    },
    {
     "data": {
      "text/html": [
       "<h3>Run summary:</h3><br/><style>\n",
       "    table.wandb td:nth-child(1) { padding: 0 10px; text-align: right }\n",
       "    </style><table class=\"wandb\">\n",
       "<tr><td>train_loss</td><td>0.4403</td></tr><tr><td>train_acc</td><td>0.78765</td></tr><tr><td>valid_loss</td><td>0.42519</td></tr><tr><td>valid_acc</td><td>0.78879</td></tr><tr><td>lr</td><td>0.001</td></tr><tr><td>epoch_time</td><td>0.29425</td></tr><tr><td>_runtime</td><td>30</td></tr><tr><td>_timestamp</td><td>1633292312</td></tr><tr><td>_step</td><td>99</td></tr><tr><td>accuracy</td><td>0.803</td></tr><tr><td>prec</td><td>0.52047</td></tr><tr><td>recall</td><td>0.43627</td></tr><tr><td>f1</td><td>0.47467</td></tr></table>"
      ],
      "text/plain": [
       "<IPython.core.display.HTML object>"
      ]
     },
     "metadata": {},
     "output_type": "display_data"
    },
    {
     "data": {
      "text/html": [
       "<h3>Run history:</h3><br/><style>\n",
       "    table.wandb td:nth-child(1) { padding: 0 10px; text-align: right }\n",
       "    </style><table class=\"wandb\">\n",
       "<tr><td>train_loss</td><td>█▃▂▂▂▂▂▂▂▁▁▁▁▁▁▁▁▁▁▁▁▁▁▁▁▁▁▁▁▁▁▁▁▁▁▁▁▁▁▁</td></tr><tr><td>train_acc</td><td>▁███████████████████████████████████████</td></tr><tr><td>valid_loss</td><td>█▅▃▃▃▃▂▂▂▂▂▂▂▂▂▂▁▁▂▂▁▂▁▁▂▁▁▁▁▁▁▁▁▁▁▁▁▁▁▁</td></tr><tr><td>valid_acc</td><td>▁███████████████████████████████████████</td></tr><tr><td>lr</td><td>▁▁▁▁▁▁▁▁▁▁▁▁▁▁▁▁▁▁▁▁▁▁▁▁▁▁▁▁▁▁▁▁▁▁▁▁▁▁▁▁</td></tr><tr><td>epoch_time</td><td>▅▃▃▃▄▄▅▅▁▁▄▃▃▄▅█▅▄▃▄▅▄▄▃▄▅▅▅▂▂▂▂▃▂▂▂▄▃▇▄</td></tr><tr><td>_runtime</td><td>▁▁▁▁▂▂▂▂▃▃▃▃▃▃▃▄▄▄▄▅▅▅▅▅▅▅▆▆▆▆▇▇▇▇▇▇▇▇██</td></tr><tr><td>_timestamp</td><td>▁▁▁▁▂▂▂▂▃▃▃▃▃▃▃▄▄▄▄▅▅▅▅▅▅▅▆▆▆▆▇▇▇▇▇▇▇▇██</td></tr><tr><td>_step</td><td>▁▁▁▁▂▂▂▂▂▃▃▃▃▃▃▄▄▄▄▄▅▅▅▅▅▅▆▆▆▆▆▇▇▇▇▇▇███</td></tr></table><br/>"
      ],
      "text/plain": [
       "<IPython.core.display.HTML object>"
      ]
     },
     "metadata": {},
     "output_type": "display_data"
    },
    {
     "data": {
      "text/html": [
       "Synced 5 W&B file(s), 0 media file(s), 0 artifact file(s) and 0 other file(s)"
      ],
      "text/plain": [
       "<IPython.core.display.HTML object>"
      ]
     },
     "metadata": {},
     "output_type": "display_data"
    },
    {
     "data": {
      "text/html": [
       "\n",
       "                    <br/>Synced <strong style=\"color:#cdcd00\">cerulean-sweep-50</strong>: <a href=\"https://wandb.ai/teamtom/churn-class-imbalance-with-treshold01/runs/d4ng6nbn\" target=\"_blank\">https://wandb.ai/teamtom/churn-class-imbalance-with-treshold01/runs/d4ng6nbn</a><br/>\n",
       "                "
      ],
      "text/plain": [
       "<IPython.core.display.HTML object>"
      ]
     },
     "metadata": {},
     "output_type": "display_data"
    },
    {
     "name": "stderr",
     "output_type": "stream",
     "text": [
      "wandb: Agent Starting Run: 8h1dwd20 with config:\n",
      "wandb: \tbatch_size: 32\n",
      "wandb: \tepochs: 100\n",
      "wandb: \tlearning_rate: 0.001\n",
      "wandb: \tthreshold: 0.35789473684210527\n",
      "wandb: wandb version 0.12.3 is available!  To upgrade, please run:\n",
      "wandb:  $ pip install wandb --upgrade\n"
     ]
    },
    {
     "data": {
      "text/html": [
       "\n",
       "                Tracking run with wandb version 0.10.31<br/>\n",
       "                Syncing run <strong style=\"color:#cdcd00\">swept-sweep-51</strong> to <a href=\"https://wandb.ai\" target=\"_blank\">Weights & Biases</a> <a href=\"https://docs.wandb.com/integrations/jupyter.html\" target=\"_blank\">(Documentation)</a>.<br/>\n",
       "                Project page: <a href=\"https://wandb.ai/teamtom/churn-class-imbalance-with-treshold01\" target=\"_blank\">https://wandb.ai/teamtom/churn-class-imbalance-with-treshold01</a><br/>\n",
       "                Sweep page: <a href=\"https://wandb.ai/teamtom/churn-class-imbalance-with-treshold01/sweeps/d22sfkpk\" target=\"_blank\">https://wandb.ai/teamtom/churn-class-imbalance-with-treshold01/sweeps/d22sfkpk</a><br/>\n",
       "Run page: <a href=\"https://wandb.ai/teamtom/churn-class-imbalance-with-treshold01/runs/8h1dwd20\" target=\"_blank\">https://wandb.ai/teamtom/churn-class-imbalance-with-treshold01/runs/8h1dwd20</a><br/>\n",
       "                Run data is saved locally in <code>c:\\python\\anaconda_base\\pytorch-tutorial\\wandb\\run-20211003_221836-8h1dwd20</code><br/><br/>\n",
       "            "
      ],
      "text/plain": [
       "<IPython.core.display.HTML object>"
      ]
     },
     "metadata": {},
     "output_type": "display_data"
    },
    {
     "name": "stdout",
     "output_type": "stream",
     "text": [
      "dataset size: 10000\n",
      "dataset samples shape: torch.Size([10000, 9])\n",
      "dataset classes shape: torch.Size([10000, 1])\n",
      "| Epoch: 0010 | Train Loss: 0.477 | Train Acc: 78.58% | Val. Loss: 0.468 | Val. Acc: 78.23% |\n",
      "| Epoch: 0020 | Train Loss: 0.463 | Train Acc: 78.92% | Val. Loss: 0.445 | Val. Acc: 78.88% |\n",
      "| Epoch: 0030 | Train Loss: 0.454 | Train Acc: 79.53% | Val. Loss: 0.448 | Val. Acc: 80.28% |\n",
      "| Epoch: 0040 | Train Loss: 0.448 | Train Acc: 79.66% | Val. Loss: 0.448 | Val. Acc: 79.85% |\n",
      "| Epoch: 0050 | Train Loss: 0.445 | Train Acc: 79.74% | Val. Loss: 0.427 | Val. Acc: 80.71% |\n",
      "| Epoch: 0060 | Train Loss: 0.442 | Train Acc: 79.91% | Val. Loss: 0.431 | Val. Acc: 79.96% |\n",
      "| Epoch: 0070 | Train Loss: 0.441 | Train Acc: 79.69% | Val. Loss: 0.427 | Val. Acc: 79.53% |\n",
      "| Epoch: 0080 | Train Loss: 0.441 | Train Acc: 79.72% | Val. Loss: 0.430 | Val. Acc: 79.31% |\n",
      "| Epoch: 0090 | Train Loss: 0.441 | Train Acc: 79.81% | Val. Loss: 0.419 | Val. Acc: 80.06% |\n",
      "| Epoch: 0100 | Train Loss: 0.438 | Train Acc: 79.65% | Val. Loss: 0.419 | Val. Acc: 80.06% |\n"
     ]
    },
    {
     "data": {
      "text/html": [
       "<br/>Waiting for W&B process to finish, PID 1408<br/>Program ended successfully."
      ],
      "text/plain": [
       "<IPython.core.display.HTML object>"
      ]
     },
     "metadata": {},
     "output_type": "display_data"
    },
    {
     "data": {
      "application/vnd.jupyter.widget-view+json": {
       "model_id": "3e56a28818a5464cb136e41ca9edf496",
       "version_major": 2,
       "version_minor": 0
      },
      "text/plain": [
       "VBox(children=(Label(value=' 0.00MB of 0.00MB uploaded (0.00MB deduped)\\r'), FloatProgress(value=1.0, max=1.0)…"
      ]
     },
     "metadata": {},
     "output_type": "display_data"
    },
    {
     "data": {
      "text/html": [
       "Find user logs for this run at: <code>c:\\python\\anaconda_base\\pytorch-tutorial\\wandb\\run-20211003_221836-8h1dwd20\\logs\\debug.log</code>"
      ],
      "text/plain": [
       "<IPython.core.display.HTML object>"
      ]
     },
     "metadata": {},
     "output_type": "display_data"
    },
    {
     "data": {
      "text/html": [
       "Find internal logs for this run at: <code>c:\\python\\anaconda_base\\pytorch-tutorial\\wandb\\run-20211003_221836-8h1dwd20\\logs\\debug-internal.log</code>"
      ],
      "text/plain": [
       "<IPython.core.display.HTML object>"
      ]
     },
     "metadata": {},
     "output_type": "display_data"
    },
    {
     "data": {
      "text/html": [
       "<h3>Run summary:</h3><br/><style>\n",
       "    table.wandb td:nth-child(1) { padding: 0 10px; text-align: right }\n",
       "    </style><table class=\"wandb\">\n",
       "<tr><td>train_loss</td><td>0.4384</td></tr><tr><td>train_acc</td><td>0.79651</td></tr><tr><td>valid_loss</td><td>0.41942</td></tr><tr><td>valid_acc</td><td>0.80065</td></tr><tr><td>lr</td><td>0.001</td></tr><tr><td>epoch_time</td><td>0.26178</td></tr><tr><td>_runtime</td><td>29</td></tr><tr><td>_timestamp</td><td>1633292346</td></tr><tr><td>_step</td><td>99</td></tr><tr><td>accuracy</td><td>0.807</td></tr><tr><td>prec</td><td>0.53691</td></tr><tr><td>recall</td><td>0.39216</td></tr><tr><td>f1</td><td>0.45326</td></tr></table>"
      ],
      "text/plain": [
       "<IPython.core.display.HTML object>"
      ]
     },
     "metadata": {},
     "output_type": "display_data"
    },
    {
     "data": {
      "text/html": [
       "<h3>Run history:</h3><br/><style>\n",
       "    table.wandb td:nth-child(1) { padding: 0 10px; text-align: right }\n",
       "    </style><table class=\"wandb\">\n",
       "<tr><td>train_loss</td><td>█▄▃▃▃▂▂▂▂▂▂▂▂▂▂▁▂▁▁▁▁▁▁▁▁▁▁▁▁▁▁▁▁▁▁▁▁▁▁▁</td></tr><tr><td>train_acc</td><td>▁███████████████████████████████████████</td></tr><tr><td>valid_loss</td><td>█▅▅▄▄▄▃▄▄▃▂▃▃▃▂▂▃▂▂▂▂▂▁▃▁▁▁▁▂▂▁▂▂▂▂▂▁▂▃▁</td></tr><tr><td>valid_acc</td><td>▁▇▇▇▆▇▇▆▇▇▇▇▇███▇████▇█▇███▇▇▇▇▇▇▇▇▇▇▇▆▇</td></tr><tr><td>lr</td><td>▁▁▁▁▁▁▁▁▁▁▁▁▁▁▁▁▁▁▁▁▁▁▁▁▁▁▁▁▁▁▁▁▁▁▁▁▁▁▁▁</td></tr><tr><td>epoch_time</td><td>▆▆▆▅▇▆██▅▆▆▇█▇▇▇▇▄▂▇▃▆▆▆▅▆▇▇▇█▄▃▁▂▃▂▄▄▅▅</td></tr><tr><td>_runtime</td><td>▁▁▂▂▂▂▂▂▃▃▃▃▃▄▄▄▄▄▄▅▅▅▅▅▅▆▆▆▆▆▇▇▇▇▇▇▇███</td></tr><tr><td>_timestamp</td><td>▁▁▂▂▂▂▂▂▃▃▃▃▃▄▄▄▄▄▄▅▅▅▅▅▅▆▆▆▆▆▇▇▇▇▇▇▇███</td></tr><tr><td>_step</td><td>▁▁▁▁▂▂▂▂▂▃▃▃▃▃▃▄▄▄▄▄▅▅▅▅▅▅▆▆▆▆▆▇▇▇▇▇▇███</td></tr></table><br/>"
      ],
      "text/plain": [
       "<IPython.core.display.HTML object>"
      ]
     },
     "metadata": {},
     "output_type": "display_data"
    },
    {
     "data": {
      "text/html": [
       "Synced 5 W&B file(s), 0 media file(s), 0 artifact file(s) and 0 other file(s)"
      ],
      "text/plain": [
       "<IPython.core.display.HTML object>"
      ]
     },
     "metadata": {},
     "output_type": "display_data"
    },
    {
     "data": {
      "text/html": [
       "\n",
       "                    <br/>Synced <strong style=\"color:#cdcd00\">swept-sweep-51</strong>: <a href=\"https://wandb.ai/teamtom/churn-class-imbalance-with-treshold01/runs/8h1dwd20\" target=\"_blank\">https://wandb.ai/teamtom/churn-class-imbalance-with-treshold01/runs/8h1dwd20</a><br/>\n",
       "                "
      ],
      "text/plain": [
       "<IPython.core.display.HTML object>"
      ]
     },
     "metadata": {},
     "output_type": "display_data"
    },
    {
     "name": "stderr",
     "output_type": "stream",
     "text": [
      "wandb: Agent Starting Run: qkwin588 with config:\n",
      "wandb: \tbatch_size: 32\n",
      "wandb: \tepochs: 100\n",
      "wandb: \tlearning_rate: 0.001\n",
      "wandb: \tthreshold: 0.37368421052631584\n",
      "wandb: wandb version 0.12.3 is available!  To upgrade, please run:\n",
      "wandb:  $ pip install wandb --upgrade\n"
     ]
    },
    {
     "data": {
      "text/html": [
       "\n",
       "                Tracking run with wandb version 0.10.31<br/>\n",
       "                Syncing run <strong style=\"color:#cdcd00\">different-sweep-52</strong> to <a href=\"https://wandb.ai\" target=\"_blank\">Weights & Biases</a> <a href=\"https://docs.wandb.com/integrations/jupyter.html\" target=\"_blank\">(Documentation)</a>.<br/>\n",
       "                Project page: <a href=\"https://wandb.ai/teamtom/churn-class-imbalance-with-treshold01\" target=\"_blank\">https://wandb.ai/teamtom/churn-class-imbalance-with-treshold01</a><br/>\n",
       "                Sweep page: <a href=\"https://wandb.ai/teamtom/churn-class-imbalance-with-treshold01/sweeps/d22sfkpk\" target=\"_blank\">https://wandb.ai/teamtom/churn-class-imbalance-with-treshold01/sweeps/d22sfkpk</a><br/>\n",
       "Run page: <a href=\"https://wandb.ai/teamtom/churn-class-imbalance-with-treshold01/runs/qkwin588\" target=\"_blank\">https://wandb.ai/teamtom/churn-class-imbalance-with-treshold01/runs/qkwin588</a><br/>\n",
       "                Run data is saved locally in <code>c:\\python\\anaconda_base\\pytorch-tutorial\\wandb\\run-20211003_221912-qkwin588</code><br/><br/>\n",
       "            "
      ],
      "text/plain": [
       "<IPython.core.display.HTML object>"
      ]
     },
     "metadata": {},
     "output_type": "display_data"
    },
    {
     "name": "stdout",
     "output_type": "stream",
     "text": [
      "dataset size: 10000\n",
      "dataset samples shape: torch.Size([10000, 9])\n",
      "dataset classes shape: torch.Size([10000, 1])\n",
      "| Epoch: 0010 | Train Loss: 0.471 | Train Acc: 80.51% | Val. Loss: 0.471 | Val. Acc: 79.96% |\n",
      "| Epoch: 0020 | Train Loss: 0.457 | Train Acc: 80.07% | Val. Loss: 0.444 | Val. Acc: 80.50% |\n",
      "| Epoch: 0030 | Train Loss: 0.451 | Train Acc: 80.17% | Val. Loss: 0.444 | Val. Acc: 80.50% |\n",
      "| Epoch: 0040 | Train Loss: 0.447 | Train Acc: 80.25% | Val. Loss: 0.429 | Val. Acc: 82.00% |\n",
      "| Epoch: 0050 | Train Loss: 0.443 | Train Acc: 80.14% | Val. Loss: 0.436 | Val. Acc: 80.50% |\n",
      "| Epoch: 0060 | Train Loss: 0.441 | Train Acc: 80.30% | Val. Loss: 0.427 | Val. Acc: 81.36% |\n",
      "| Epoch: 0070 | Train Loss: 0.440 | Train Acc: 80.02% | Val. Loss: 0.421 | Val. Acc: 81.36% |\n",
      "| Epoch: 0080 | Train Loss: 0.439 | Train Acc: 80.12% | Val. Loss: 0.439 | Val. Acc: 80.17% |\n",
      "| Epoch: 0090 | Train Loss: 0.439 | Train Acc: 79.96% | Val. Loss: 0.441 | Val. Acc: 79.63% |\n",
      "| Epoch: 0100 | Train Loss: 0.439 | Train Acc: 80.20% | Val. Loss: 0.434 | Val. Acc: 79.74% |\n"
     ]
    },
    {
     "data": {
      "text/html": [
       "<br/>Waiting for W&B process to finish, PID 11496<br/>Program ended successfully."
      ],
      "text/plain": [
       "<IPython.core.display.HTML object>"
      ]
     },
     "metadata": {},
     "output_type": "display_data"
    },
    {
     "data": {
      "application/vnd.jupyter.widget-view+json": {
       "model_id": "2edd48e393fd48ef98ba982558d404ce",
       "version_major": 2,
       "version_minor": 0
      },
      "text/plain": [
       "VBox(children=(Label(value=' 0.00MB of 0.00MB uploaded (0.00MB deduped)\\r'), FloatProgress(value=1.0, max=1.0)…"
      ]
     },
     "metadata": {},
     "output_type": "display_data"
    },
    {
     "data": {
      "text/html": [
       "Find user logs for this run at: <code>c:\\python\\anaconda_base\\pytorch-tutorial\\wandb\\run-20211003_221912-qkwin588\\logs\\debug.log</code>"
      ],
      "text/plain": [
       "<IPython.core.display.HTML object>"
      ]
     },
     "metadata": {},
     "output_type": "display_data"
    },
    {
     "data": {
      "text/html": [
       "Find internal logs for this run at: <code>c:\\python\\anaconda_base\\pytorch-tutorial\\wandb\\run-20211003_221912-qkwin588\\logs\\debug-internal.log</code>"
      ],
      "text/plain": [
       "<IPython.core.display.HTML object>"
      ]
     },
     "metadata": {},
     "output_type": "display_data"
    },
    {
     "data": {
      "text/html": [
       "<h3>Run summary:</h3><br/><style>\n",
       "    table.wandb td:nth-child(1) { padding: 0 10px; text-align: right }\n",
       "    </style><table class=\"wandb\">\n",
       "<tr><td>train_loss</td><td>0.43931</td></tr><tr><td>train_acc</td><td>0.80204</td></tr><tr><td>valid_loss</td><td>0.43359</td></tr><tr><td>valid_acc</td><td>0.79741</td></tr><tr><td>lr</td><td>0.001</td></tr><tr><td>epoch_time</td><td>0.19669</td></tr><tr><td>_runtime</td><td>29</td></tr><tr><td>_timestamp</td><td>1633292381</td></tr><tr><td>_step</td><td>99</td></tr><tr><td>accuracy</td><td>0.808</td></tr><tr><td>prec</td><td>0.54412</td></tr><tr><td>recall</td><td>0.36275</td></tr><tr><td>f1</td><td>0.43529</td></tr></table>"
      ],
      "text/plain": [
       "<IPython.core.display.HTML object>"
      ]
     },
     "metadata": {},
     "output_type": "display_data"
    },
    {
     "data": {
      "text/html": [
       "<h3>Run history:</h3><br/><style>\n",
       "    table.wandb td:nth-child(1) { padding: 0 10px; text-align: right }\n",
       "    </style><table class=\"wandb\">\n",
       "<tr><td>train_loss</td><td>█▄▃▃▃▂▂▂▂▂▂▂▂▂▁▁▁▁▁▁▁▁▁▁▁▁▁▁▁▁▁▁▁▁▁▁▁▁▁▁</td></tr><tr><td>train_acc</td><td>▁███████████████████████████████████████</td></tr><tr><td>valid_loss</td><td>█▆▆▅▅▃▃▃▂▃▃▃▃▄▂▂▂▂▁▁▂▁▃▂▂▂▁▁▁▁▁▂▁▁▁▂▁▂▁▂</td></tr><tr><td>valid_acc</td><td>▄▅▂▃▄█▇▇▇▆▅▄▄▅█▆▇▆█▇▆▇▅▆▄▆▇▆▆▆▆▄▃▆▆▁▆▄▅▄</td></tr><tr><td>lr</td><td>▁▁▁▁▁▁▁▁▁▁▁▁▁▁▁▁▁▁▁▁▁▁▁▁▁▁▁▁▁▁▁▁▁▁▁▁▁▁▁▁</td></tr><tr><td>epoch_time</td><td>▄▄▅▄▃█▁▂▂▃▄█▅▅▄▄▄▄▄▃▄▄▃▄▄▄▄▂▂▂▂▃▂▂▂▂▂▁▂▂</td></tr><tr><td>_runtime</td><td>▁▁▂▂▂▂▂▂▃▃▃▃▃▄▄▄▄▄▄▅▅▅▅▅▆▆▆▆▆▆▇▇▇▇▇▇████</td></tr><tr><td>_timestamp</td><td>▁▁▂▂▂▂▂▂▃▃▃▃▃▄▄▄▄▄▄▅▅▅▅▅▆▆▆▆▆▆▇▇▇▇▇▇████</td></tr><tr><td>_step</td><td>▁▁▁▁▂▂▂▂▂▃▃▃▃▃▃▄▄▄▄▄▅▅▅▅▅▅▆▆▆▆▆▇▇▇▇▇▇███</td></tr></table><br/>"
      ],
      "text/plain": [
       "<IPython.core.display.HTML object>"
      ]
     },
     "metadata": {},
     "output_type": "display_data"
    },
    {
     "data": {
      "text/html": [
       "Synced 5 W&B file(s), 0 media file(s), 0 artifact file(s) and 0 other file(s)"
      ],
      "text/plain": [
       "<IPython.core.display.HTML object>"
      ]
     },
     "metadata": {},
     "output_type": "display_data"
    },
    {
     "data": {
      "text/html": [
       "\n",
       "                    <br/>Synced <strong style=\"color:#cdcd00\">different-sweep-52</strong>: <a href=\"https://wandb.ai/teamtom/churn-class-imbalance-with-treshold01/runs/qkwin588\" target=\"_blank\">https://wandb.ai/teamtom/churn-class-imbalance-with-treshold01/runs/qkwin588</a><br/>\n",
       "                "
      ],
      "text/plain": [
       "<IPython.core.display.HTML object>"
      ]
     },
     "metadata": {},
     "output_type": "display_data"
    },
    {
     "name": "stderr",
     "output_type": "stream",
     "text": [
      "wandb: Agent Starting Run: wuazoff7 with config:\n",
      "wandb: \tbatch_size: 32\n",
      "wandb: \tepochs: 100\n",
      "wandb: \tlearning_rate: 0.001\n",
      "wandb: \tthreshold: 0.3894736842105263\n",
      "wandb: wandb version 0.12.3 is available!  To upgrade, please run:\n",
      "wandb:  $ pip install wandb --upgrade\n"
     ]
    },
    {
     "data": {
      "text/html": [
       "\n",
       "                Tracking run with wandb version 0.10.31<br/>\n",
       "                Syncing run <strong style=\"color:#cdcd00\">stellar-sweep-53</strong> to <a href=\"https://wandb.ai\" target=\"_blank\">Weights & Biases</a> <a href=\"https://docs.wandb.com/integrations/jupyter.html\" target=\"_blank\">(Documentation)</a>.<br/>\n",
       "                Project page: <a href=\"https://wandb.ai/teamtom/churn-class-imbalance-with-treshold01\" target=\"_blank\">https://wandb.ai/teamtom/churn-class-imbalance-with-treshold01</a><br/>\n",
       "                Sweep page: <a href=\"https://wandb.ai/teamtom/churn-class-imbalance-with-treshold01/sweeps/d22sfkpk\" target=\"_blank\">https://wandb.ai/teamtom/churn-class-imbalance-with-treshold01/sweeps/d22sfkpk</a><br/>\n",
       "Run page: <a href=\"https://wandb.ai/teamtom/churn-class-imbalance-with-treshold01/runs/wuazoff7\" target=\"_blank\">https://wandb.ai/teamtom/churn-class-imbalance-with-treshold01/runs/wuazoff7</a><br/>\n",
       "                Run data is saved locally in <code>c:\\python\\anaconda_base\\pytorch-tutorial\\wandb\\run-20211003_221946-wuazoff7</code><br/><br/>\n",
       "            "
      ],
      "text/plain": [
       "<IPython.core.display.HTML object>"
      ]
     },
     "metadata": {},
     "output_type": "display_data"
    },
    {
     "name": "stdout",
     "output_type": "stream",
     "text": [
      "dataset size: 10000\n",
      "dataset samples shape: torch.Size([10000, 9])\n",
      "dataset classes shape: torch.Size([10000, 1])\n",
      "| Epoch: 0010 | Train Loss: 0.475 | Train Acc: 79.96% | Val. Loss: 0.467 | Val. Acc: 79.96% |\n",
      "| Epoch: 0020 | Train Loss: 0.461 | Train Acc: 80.13% | Val. Loss: 0.441 | Val. Acc: 81.47% |\n",
      "| Epoch: 0030 | Train Loss: 0.451 | Train Acc: 80.38% | Val. Loss: 0.433 | Val. Acc: 81.68% |\n",
      "| Epoch: 0040 | Train Loss: 0.448 | Train Acc: 80.47% | Val. Loss: 0.437 | Val. Acc: 81.36% |\n",
      "| Epoch: 0050 | Train Loss: 0.443 | Train Acc: 80.51% | Val. Loss: 0.435 | Val. Acc: 82.11% |\n",
      "| Epoch: 0060 | Train Loss: 0.442 | Train Acc: 80.33% | Val. Loss: 0.451 | Val. Acc: 80.60% |\n",
      "| Epoch: 0070 | Train Loss: 0.441 | Train Acc: 80.27% | Val. Loss: 0.428 | Val. Acc: 81.25% |\n",
      "| Epoch: 0080 | Train Loss: 0.440 | Train Acc: 80.43% | Val. Loss: 0.424 | Val. Acc: 81.57% |\n",
      "| Epoch: 0090 | Train Loss: 0.438 | Train Acc: 80.46% | Val. Loss: 0.441 | Val. Acc: 80.39% |\n",
      "| Epoch: 0100 | Train Loss: 0.439 | Train Acc: 80.34% | Val. Loss: 0.424 | Val. Acc: 80.39% |\n"
     ]
    },
    {
     "data": {
      "text/html": [
       "<br/>Waiting for W&B process to finish, PID 13224<br/>Program ended successfully."
      ],
      "text/plain": [
       "<IPython.core.display.HTML object>"
      ]
     },
     "metadata": {},
     "output_type": "display_data"
    },
    {
     "data": {
      "application/vnd.jupyter.widget-view+json": {
       "model_id": "76444693b350452da34e667415e9ebe3",
       "version_major": 2,
       "version_minor": 0
      },
      "text/plain": [
       "VBox(children=(Label(value=' 0.00MB of 0.00MB uploaded (0.00MB deduped)\\r'), FloatProgress(value=1.0, max=1.0)…"
      ]
     },
     "metadata": {},
     "output_type": "display_data"
    },
    {
     "data": {
      "text/html": [
       "Find user logs for this run at: <code>c:\\python\\anaconda_base\\pytorch-tutorial\\wandb\\run-20211003_221946-wuazoff7\\logs\\debug.log</code>"
      ],
      "text/plain": [
       "<IPython.core.display.HTML object>"
      ]
     },
     "metadata": {},
     "output_type": "display_data"
    },
    {
     "data": {
      "text/html": [
       "Find internal logs for this run at: <code>c:\\python\\anaconda_base\\pytorch-tutorial\\wandb\\run-20211003_221946-wuazoff7\\logs\\debug-internal.log</code>"
      ],
      "text/plain": [
       "<IPython.core.display.HTML object>"
      ]
     },
     "metadata": {},
     "output_type": "display_data"
    },
    {
     "data": {
      "text/html": [
       "<h3>Run summary:</h3><br/><style>\n",
       "    table.wandb td:nth-child(1) { padding: 0 10px; text-align: right }\n",
       "    </style><table class=\"wandb\">\n",
       "<tr><td>train_loss</td><td>0.4386</td></tr><tr><td>train_acc</td><td>0.8034</td></tr><tr><td>valid_loss</td><td>0.42381</td></tr><tr><td>valid_acc</td><td>0.80388</td></tr><tr><td>lr</td><td>0.001</td></tr><tr><td>epoch_time</td><td>0.20302</td></tr><tr><td>_runtime</td><td>30</td></tr><tr><td>_timestamp</td><td>1633292417</td></tr><tr><td>_step</td><td>99</td></tr><tr><td>accuracy</td><td>0.815</td></tr><tr><td>prec</td><td>0.58261</td></tr><tr><td>recall</td><td>0.32843</td></tr><tr><td>f1</td><td>0.42006</td></tr></table>"
      ],
      "text/plain": [
       "<IPython.core.display.HTML object>"
      ]
     },
     "metadata": {},
     "output_type": "display_data"
    },
    {
     "data": {
      "text/html": [
       "<h3>Run history:</h3><br/><style>\n",
       "    table.wandb td:nth-child(1) { padding: 0 10px; text-align: right }\n",
       "    </style><table class=\"wandb\">\n",
       "<tr><td>train_loss</td><td>█▅▅▄▄▃▃▃▂▂▂▂▂▂▂▂▂▂▁▁▁▁▁▁▁▁▁▁▁▁▁▁▁▁▁▁▁▁▁▁</td></tr><tr><td>train_acc</td><td>▁▇▇▇████████████████████████████████████</td></tr><tr><td>valid_loss</td><td>█▅▆▅▃▄▄▄▃▄▃▃▄▂▂▃▃▂▃▃▃▂▂▂▂▃▃▁▄▂▂▁▂▁▁▁▁▁▁▁</td></tr><tr><td>valid_acc</td><td>▁▅▂▃▆▅▅▅▇▆▆▆▅▇▆▅▆▇▆▆▆█▇▅▇▅▄▇▅▆▅▇▆▇▆▆▆▆▆▅</td></tr><tr><td>lr</td><td>▁▁▁▁▁▁▁▁▁▁▁▁▁▁▁▁▁▁▁▁▁▁▁▁▁▁▁▁▁▁▁▁▁▁▁▁▁▁▁▁</td></tr><tr><td>epoch_time</td><td>▃▄▄▇▃▄▃▃▂▁▃▄▃█▃▄▄▅▄▄█▄▃▄▃▄▄▄▂▂▂█▂▂▁▁▃▁▁▁</td></tr><tr><td>_runtime</td><td>▁▁▁▁▂▂▂▂▃▃▃▃▃▃▃▄▄▄▄▅▅▅▅▅▅▆▆▆▆▇▇▇▇▇▇▇▇▇██</td></tr><tr><td>_timestamp</td><td>▁▁▁▁▂▂▂▂▃▃▃▃▃▃▃▄▄▄▄▅▅▅▅▅▅▆▆▆▆▇▇▇▇▇▇▇▇▇██</td></tr><tr><td>_step</td><td>▁▁▁▁▂▂▂▂▂▃▃▃▃▃▃▄▄▄▄▄▅▅▅▅▅▅▆▆▆▆▆▇▇▇▇▇▇███</td></tr></table><br/>"
      ],
      "text/plain": [
       "<IPython.core.display.HTML object>"
      ]
     },
     "metadata": {},
     "output_type": "display_data"
    },
    {
     "data": {
      "text/html": [
       "Synced 5 W&B file(s), 0 media file(s), 0 artifact file(s) and 0 other file(s)"
      ],
      "text/plain": [
       "<IPython.core.display.HTML object>"
      ]
     },
     "metadata": {},
     "output_type": "display_data"
    },
    {
     "data": {
      "text/html": [
       "\n",
       "                    <br/>Synced <strong style=\"color:#cdcd00\">stellar-sweep-53</strong>: <a href=\"https://wandb.ai/teamtom/churn-class-imbalance-with-treshold01/runs/wuazoff7\" target=\"_blank\">https://wandb.ai/teamtom/churn-class-imbalance-with-treshold01/runs/wuazoff7</a><br/>\n",
       "                "
      ],
      "text/plain": [
       "<IPython.core.display.HTML object>"
      ]
     },
     "metadata": {},
     "output_type": "display_data"
    },
    {
     "name": "stderr",
     "output_type": "stream",
     "text": [
      "wandb: Agent Starting Run: gtsh5nj4 with config:\n",
      "wandb: \tbatch_size: 32\n",
      "wandb: \tepochs: 100\n",
      "wandb: \tlearning_rate: 0.001\n",
      "wandb: \tthreshold: 0.4052631578947369\n",
      "wandb: wandb version 0.12.3 is available!  To upgrade, please run:\n",
      "wandb:  $ pip install wandb --upgrade\n"
     ]
    },
    {
     "data": {
      "text/html": [
       "\n",
       "                Tracking run with wandb version 0.10.31<br/>\n",
       "                Syncing run <strong style=\"color:#cdcd00\">vibrant-sweep-54</strong> to <a href=\"https://wandb.ai\" target=\"_blank\">Weights & Biases</a> <a href=\"https://docs.wandb.com/integrations/jupyter.html\" target=\"_blank\">(Documentation)</a>.<br/>\n",
       "                Project page: <a href=\"https://wandb.ai/teamtom/churn-class-imbalance-with-treshold01\" target=\"_blank\">https://wandb.ai/teamtom/churn-class-imbalance-with-treshold01</a><br/>\n",
       "                Sweep page: <a href=\"https://wandb.ai/teamtom/churn-class-imbalance-with-treshold01/sweeps/d22sfkpk\" target=\"_blank\">https://wandb.ai/teamtom/churn-class-imbalance-with-treshold01/sweeps/d22sfkpk</a><br/>\n",
       "Run page: <a href=\"https://wandb.ai/teamtom/churn-class-imbalance-with-treshold01/runs/gtsh5nj4\" target=\"_blank\">https://wandb.ai/teamtom/churn-class-imbalance-with-treshold01/runs/gtsh5nj4</a><br/>\n",
       "                Run data is saved locally in <code>c:\\python\\anaconda_base\\pytorch-tutorial\\wandb\\run-20211003_222022-gtsh5nj4</code><br/><br/>\n",
       "            "
      ],
      "text/plain": [
       "<IPython.core.display.HTML object>"
      ]
     },
     "metadata": {},
     "output_type": "display_data"
    },
    {
     "name": "stdout",
     "output_type": "stream",
     "text": [
      "dataset size: 10000\n",
      "dataset samples shape: torch.Size([10000, 9])\n",
      "dataset classes shape: torch.Size([10000, 1])\n",
      "| Epoch: 0010 | Train Loss: 0.475 | Train Acc: 80.14% | Val. Loss: 0.457 | Val. Acc: 79.53% |\n",
      "| Epoch: 0020 | Train Loss: 0.460 | Train Acc: 80.54% | Val. Loss: 0.441 | Val. Acc: 81.79% |\n",
      "| Epoch: 0030 | Train Loss: 0.452 | Train Acc: 80.60% | Val. Loss: 0.449 | Val. Acc: 80.60% |\n",
      "| Epoch: 0040 | Train Loss: 0.447 | Train Acc: 80.72% | Val. Loss: 0.448 | Val. Acc: 80.17% |\n",
      "| Epoch: 0050 | Train Loss: 0.446 | Train Acc: 80.51% | Val. Loss: 0.431 | Val. Acc: 81.68% |\n",
      "| Epoch: 0060 | Train Loss: 0.442 | Train Acc: 80.59% | Val. Loss: 0.431 | Val. Acc: 82.33% |\n",
      "| Epoch: 0070 | Train Loss: 0.441 | Train Acc: 80.61% | Val. Loss: 0.430 | Val. Acc: 81.47% |\n",
      "| Epoch: 0080 | Train Loss: 0.439 | Train Acc: 80.62% | Val. Loss: 0.430 | Val. Acc: 80.82% |\n",
      "| Epoch: 0090 | Train Loss: 0.440 | Train Acc: 80.56% | Val. Loss: 0.431 | Val. Acc: 81.79% |\n",
      "| Epoch: 0100 | Train Loss: 0.438 | Train Acc: 80.72% | Val. Loss: 0.425 | Val. Acc: 80.93% |\n"
     ]
    },
    {
     "data": {
      "text/html": [
       "<br/>Waiting for W&B process to finish, PID 2800<br/>Program ended successfully."
      ],
      "text/plain": [
       "<IPython.core.display.HTML object>"
      ]
     },
     "metadata": {},
     "output_type": "display_data"
    },
    {
     "data": {
      "application/vnd.jupyter.widget-view+json": {
       "model_id": "49a6c7e0d91b43b8bfbc811adfe4b778",
       "version_major": 2,
       "version_minor": 0
      },
      "text/plain": [
       "VBox(children=(Label(value=' 0.00MB of 0.00MB uploaded (0.00MB deduped)\\r'), FloatProgress(value=1.0, max=1.0)…"
      ]
     },
     "metadata": {},
     "output_type": "display_data"
    },
    {
     "data": {
      "text/html": [
       "Find user logs for this run at: <code>c:\\python\\anaconda_base\\pytorch-tutorial\\wandb\\run-20211003_222022-gtsh5nj4\\logs\\debug.log</code>"
      ],
      "text/plain": [
       "<IPython.core.display.HTML object>"
      ]
     },
     "metadata": {},
     "output_type": "display_data"
    },
    {
     "data": {
      "text/html": [
       "Find internal logs for this run at: <code>c:\\python\\anaconda_base\\pytorch-tutorial\\wandb\\run-20211003_222022-gtsh5nj4\\logs\\debug-internal.log</code>"
      ],
      "text/plain": [
       "<IPython.core.display.HTML object>"
      ]
     },
     "metadata": {},
     "output_type": "display_data"
    },
    {
     "data": {
      "text/html": [
       "<h3>Run summary:</h3><br/><style>\n",
       "    table.wandb td:nth-child(1) { padding: 0 10px; text-align: right }\n",
       "    </style><table class=\"wandb\">\n",
       "<tr><td>train_loss</td><td>0.43834</td></tr><tr><td>train_acc</td><td>0.80721</td></tr><tr><td>valid_loss</td><td>0.42547</td></tr><tr><td>valid_acc</td><td>0.80927</td></tr><tr><td>lr</td><td>0.001</td></tr><tr><td>epoch_time</td><td>0.18491</td></tr><tr><td>_runtime</td><td>29</td></tr><tr><td>_timestamp</td><td>1633292451</td></tr><tr><td>_step</td><td>99</td></tr><tr><td>accuracy</td><td>0.821</td></tr><tr><td>prec</td><td>0.61682</td></tr><tr><td>recall</td><td>0.32353</td></tr><tr><td>f1</td><td>0.42444</td></tr></table>"
      ],
      "text/plain": [
       "<IPython.core.display.HTML object>"
      ]
     },
     "metadata": {},
     "output_type": "display_data"
    },
    {
     "data": {
      "text/html": [
       "<h3>Run history:</h3><br/><style>\n",
       "    table.wandb td:nth-child(1) { padding: 0 10px; text-align: right }\n",
       "    </style><table class=\"wandb\">\n",
       "<tr><td>train_loss</td><td>█▄▃▃▃▂▂▂▂▂▂▂▂▁▂▁▁▁▁▁▁▁▁▁▁▁▁▁▁▁▁▁▁▁▁▁▁▁▁▁</td></tr><tr><td>train_acc</td><td>▁███████████████████████████████████████</td></tr><tr><td>valid_loss</td><td>█▇▆▄▄▆▃▄▃▃▃▂▃▂▃▂▄▂▃▂▁▁▂▃▁▁▂▃▂▂▁▂▁▁▁▁▂▁▂▁</td></tr><tr><td>valid_acc</td><td>▃▂▁▃▃▁▆▄▆▅▅▇▄▇▄▅▅▇▅▅▇█▆▅██▆▆▆▆▇▆▆▇▇▇▆▆▇▅</td></tr><tr><td>lr</td><td>▁▁▁▁▁▁▁▁▁▁▁▁▁▁▁▁▁▁▁▁▁▁▁▁▁▁▁▁▁▁▁▁▁▁▁▁▁▁▁▁</td></tr><tr><td>epoch_time</td><td>▃▃▃▄▃▃▃▃▂▃▄▃▃▃▄▃▄▃█▄▃▃▃▄▃▃▂▁▁▂▂▁▂▂▁▂▂▁▄▁</td></tr><tr><td>_runtime</td><td>▁▁▂▂▂▂▂▂▃▃▃▃▃▄▄▄▄▄▅▅▅▅▅▆▆▆▆▆▆▇▇▇▇▇▇▇████</td></tr><tr><td>_timestamp</td><td>▁▁▂▂▂▂▂▂▃▃▃▃▃▄▄▄▄▄▅▅▅▅▅▆▆▆▆▆▆▇▇▇▇▇▇▇████</td></tr><tr><td>_step</td><td>▁▁▁▁▂▂▂▂▂▃▃▃▃▃▃▄▄▄▄▄▅▅▅▅▅▅▆▆▆▆▆▇▇▇▇▇▇███</td></tr></table><br/>"
      ],
      "text/plain": [
       "<IPython.core.display.HTML object>"
      ]
     },
     "metadata": {},
     "output_type": "display_data"
    },
    {
     "data": {
      "text/html": [
       "Synced 5 W&B file(s), 0 media file(s), 0 artifact file(s) and 0 other file(s)"
      ],
      "text/plain": [
       "<IPython.core.display.HTML object>"
      ]
     },
     "metadata": {},
     "output_type": "display_data"
    },
    {
     "data": {
      "text/html": [
       "\n",
       "                    <br/>Synced <strong style=\"color:#cdcd00\">vibrant-sweep-54</strong>: <a href=\"https://wandb.ai/teamtom/churn-class-imbalance-with-treshold01/runs/gtsh5nj4\" target=\"_blank\">https://wandb.ai/teamtom/churn-class-imbalance-with-treshold01/runs/gtsh5nj4</a><br/>\n",
       "                "
      ],
      "text/plain": [
       "<IPython.core.display.HTML object>"
      ]
     },
     "metadata": {},
     "output_type": "display_data"
    },
    {
     "name": "stderr",
     "output_type": "stream",
     "text": [
      "wandb: Agent Starting Run: ei3xil0y with config:\n",
      "wandb: \tbatch_size: 32\n",
      "wandb: \tepochs: 100\n",
      "wandb: \tlearning_rate: 0.001\n",
      "wandb: \tthreshold: 0.4210526315789474\n",
      "wandb: wandb version 0.12.3 is available!  To upgrade, please run:\n",
      "wandb:  $ pip install wandb --upgrade\n"
     ]
    },
    {
     "data": {
      "text/html": [
       "\n",
       "                Tracking run with wandb version 0.10.31<br/>\n",
       "                Syncing run <strong style=\"color:#cdcd00\">silver-sweep-55</strong> to <a href=\"https://wandb.ai\" target=\"_blank\">Weights & Biases</a> <a href=\"https://docs.wandb.com/integrations/jupyter.html\" target=\"_blank\">(Documentation)</a>.<br/>\n",
       "                Project page: <a href=\"https://wandb.ai/teamtom/churn-class-imbalance-with-treshold01\" target=\"_blank\">https://wandb.ai/teamtom/churn-class-imbalance-with-treshold01</a><br/>\n",
       "                Sweep page: <a href=\"https://wandb.ai/teamtom/churn-class-imbalance-with-treshold01/sweeps/d22sfkpk\" target=\"_blank\">https://wandb.ai/teamtom/churn-class-imbalance-with-treshold01/sweeps/d22sfkpk</a><br/>\n",
       "Run page: <a href=\"https://wandb.ai/teamtom/churn-class-imbalance-with-treshold01/runs/ei3xil0y\" target=\"_blank\">https://wandb.ai/teamtom/churn-class-imbalance-with-treshold01/runs/ei3xil0y</a><br/>\n",
       "                Run data is saved locally in <code>c:\\python\\anaconda_base\\pytorch-tutorial\\wandb\\run-20211003_222055-ei3xil0y</code><br/><br/>\n",
       "            "
      ],
      "text/plain": [
       "<IPython.core.display.HTML object>"
      ]
     },
     "metadata": {},
     "output_type": "display_data"
    },
    {
     "name": "stdout",
     "output_type": "stream",
     "text": [
      "dataset size: 10000\n",
      "dataset samples shape: torch.Size([10000, 9])\n",
      "dataset classes shape: torch.Size([10000, 1])\n",
      "| Epoch: 0010 | Train Loss: 0.476 | Train Acc: 79.80% | Val. Loss: 0.455 | Val. Acc: 80.39% |\n",
      "| Epoch: 0020 | Train Loss: 0.460 | Train Acc: 80.71% | Val. Loss: 0.462 | Val. Acc: 80.17% |\n",
      "| Epoch: 0030 | Train Loss: 0.451 | Train Acc: 80.76% | Val. Loss: 0.435 | Val. Acc: 82.11% |\n",
      "| Epoch: 0040 | Train Loss: 0.447 | Train Acc: 80.75% | Val. Loss: 0.437 | Val. Acc: 81.68% |\n",
      "| Epoch: 0050 | Train Loss: 0.443 | Train Acc: 80.93% | Val. Loss: 0.433 | Val. Acc: 82.11% |\n",
      "| Epoch: 0060 | Train Loss: 0.441 | Train Acc: 80.92% | Val. Loss: 0.426 | Val. Acc: 82.33% |\n",
      "| Epoch: 0070 | Train Loss: 0.440 | Train Acc: 80.99% | Val. Loss: 0.437 | Val. Acc: 81.36% |\n",
      "| Epoch: 0080 | Train Loss: 0.439 | Train Acc: 80.91% | Val. Loss: 0.434 | Val. Acc: 82.00% |\n",
      "| Epoch: 0090 | Train Loss: 0.439 | Train Acc: 80.88% | Val. Loss: 0.427 | Val. Acc: 82.65% |\n",
      "| Epoch: 0100 | Train Loss: 0.439 | Train Acc: 80.57% | Val. Loss: 0.448 | Val. Acc: 81.36% |\n"
     ]
    },
    {
     "data": {
      "text/html": [
       "<br/>Waiting for W&B process to finish, PID 24336<br/>Program ended successfully."
      ],
      "text/plain": [
       "<IPython.core.display.HTML object>"
      ]
     },
     "metadata": {},
     "output_type": "display_data"
    },
    {
     "data": {
      "application/vnd.jupyter.widget-view+json": {
       "model_id": "fbca298c4a08498fa19a27100d4507d9",
       "version_major": 2,
       "version_minor": 0
      },
      "text/plain": [
       "VBox(children=(Label(value=' 0.00MB of 0.00MB uploaded (0.00MB deduped)\\r'), FloatProgress(value=1.0, max=1.0)…"
      ]
     },
     "metadata": {},
     "output_type": "display_data"
    },
    {
     "data": {
      "text/html": [
       "Find user logs for this run at: <code>c:\\python\\anaconda_base\\pytorch-tutorial\\wandb\\run-20211003_222055-ei3xil0y\\logs\\debug.log</code>"
      ],
      "text/plain": [
       "<IPython.core.display.HTML object>"
      ]
     },
     "metadata": {},
     "output_type": "display_data"
    },
    {
     "data": {
      "text/html": [
       "Find internal logs for this run at: <code>c:\\python\\anaconda_base\\pytorch-tutorial\\wandb\\run-20211003_222055-ei3xil0y\\logs\\debug-internal.log</code>"
      ],
      "text/plain": [
       "<IPython.core.display.HTML object>"
      ]
     },
     "metadata": {},
     "output_type": "display_data"
    },
    {
     "data": {
      "text/html": [
       "<h3>Run summary:</h3><br/><style>\n",
       "    table.wandb td:nth-child(1) { padding: 0 10px; text-align: right }\n",
       "    </style><table class=\"wandb\">\n",
       "<tr><td>train_loss</td><td>0.43891</td></tr><tr><td>train_acc</td><td>0.80573</td></tr><tr><td>valid_loss</td><td>0.44823</td></tr><tr><td>valid_acc</td><td>0.81358</td></tr><tr><td>lr</td><td>0.001</td></tr><tr><td>epoch_time</td><td>0.2702</td></tr><tr><td>_runtime</td><td>30</td></tr><tr><td>_timestamp</td><td>1633292485</td></tr><tr><td>_step</td><td>99</td></tr><tr><td>accuracy</td><td>0.815</td></tr><tr><td>prec</td><td>0.61176</td></tr><tr><td>recall</td><td>0.2549</td></tr><tr><td>f1</td><td>0.35986</td></tr></table>"
      ],
      "text/plain": [
       "<IPython.core.display.HTML object>"
      ]
     },
     "metadata": {},
     "output_type": "display_data"
    },
    {
     "data": {
      "text/html": [
       "<h3>Run history:</h3><br/><style>\n",
       "    table.wandb td:nth-child(1) { padding: 0 10px; text-align: right }\n",
       "    </style><table class=\"wandb\">\n",
       "<tr><td>train_loss</td><td>█▅▄▄▃▃▃▃▂▂▂▂▂▂▂▂▁▁▁▁▁▁▁▁▁▁▁▁▁▁▁▁▁▁▁▁▁▁▁▁</td></tr><tr><td>train_acc</td><td>▁▇▇▇▇▇██████████████████████████████████</td></tr><tr><td>valid_loss</td><td>█▆▅▅▅▄▄▄▃▃▄▂▂▂▂▂▂▂▃▃▂▁▂▂▂▁▂▂▁▂▃▂▂▁▂▂▂▁▂▃</td></tr><tr><td>valid_acc</td><td>▂▂▃▃▁▄▃▃▆▆▄▆▇▆▇▇▇▇▅▅▇▇█▇▆▇▇▆█▇▅▅▇▇▇▇▆▇▇▅</td></tr><tr><td>lr</td><td>▁▁▁▁▁▁▁▁▁▁▁▁▁▁▁▁▁▁▁▁▁▁▁▁▁▁▁▁▁▁▁▁▁▁▁▁▁▁▁▁</td></tr><tr><td>epoch_time</td><td>▄▄▄▄▅▅▄▆▄▅▅▅▆▅▅▅▅▄▂▆▃▄▄▄▆▄█▆▅▅▅▃▃▂▁▂▂▅▂▄</td></tr><tr><td>_runtime</td><td>▁▁▁▁▂▂▂▂▃▃▃▃▃▃▄▄▄▄▄▅▅▅▅▅▅▆▆▆▆▇▇▇▇▇▇▇▇▇██</td></tr><tr><td>_timestamp</td><td>▁▁▁▁▂▂▂▂▃▃▃▃▃▃▄▄▄▄▄▅▅▅▅▅▅▆▆▆▆▇▇▇▇▇▇▇▇▇██</td></tr><tr><td>_step</td><td>▁▁▁▁▂▂▂▂▂▃▃▃▃▃▃▄▄▄▄▄▅▅▅▅▅▅▆▆▆▆▆▇▇▇▇▇▇███</td></tr></table><br/>"
      ],
      "text/plain": [
       "<IPython.core.display.HTML object>"
      ]
     },
     "metadata": {},
     "output_type": "display_data"
    },
    {
     "data": {
      "text/html": [
       "Synced 5 W&B file(s), 0 media file(s), 0 artifact file(s) and 0 other file(s)"
      ],
      "text/plain": [
       "<IPython.core.display.HTML object>"
      ]
     },
     "metadata": {},
     "output_type": "display_data"
    },
    {
     "data": {
      "text/html": [
       "\n",
       "                    <br/>Synced <strong style=\"color:#cdcd00\">silver-sweep-55</strong>: <a href=\"https://wandb.ai/teamtom/churn-class-imbalance-with-treshold01/runs/ei3xil0y\" target=\"_blank\">https://wandb.ai/teamtom/churn-class-imbalance-with-treshold01/runs/ei3xil0y</a><br/>\n",
       "                "
      ],
      "text/plain": [
       "<IPython.core.display.HTML object>"
      ]
     },
     "metadata": {},
     "output_type": "display_data"
    },
    {
     "name": "stderr",
     "output_type": "stream",
     "text": [
      "wandb: Agent Starting Run: 7kkcafn3 with config:\n",
      "wandb: \tbatch_size: 32\n",
      "wandb: \tepochs: 100\n",
      "wandb: \tlearning_rate: 0.001\n",
      "wandb: \tthreshold: 0.4368421052631579\n",
      "wandb: wandb version 0.12.3 is available!  To upgrade, please run:\n",
      "wandb:  $ pip install wandb --upgrade\n"
     ]
    },
    {
     "data": {
      "text/html": [
       "\n",
       "                Tracking run with wandb version 0.10.31<br/>\n",
       "                Syncing run <strong style=\"color:#cdcd00\">major-sweep-56</strong> to <a href=\"https://wandb.ai\" target=\"_blank\">Weights & Biases</a> <a href=\"https://docs.wandb.com/integrations/jupyter.html\" target=\"_blank\">(Documentation)</a>.<br/>\n",
       "                Project page: <a href=\"https://wandb.ai/teamtom/churn-class-imbalance-with-treshold01\" target=\"_blank\">https://wandb.ai/teamtom/churn-class-imbalance-with-treshold01</a><br/>\n",
       "                Sweep page: <a href=\"https://wandb.ai/teamtom/churn-class-imbalance-with-treshold01/sweeps/d22sfkpk\" target=\"_blank\">https://wandb.ai/teamtom/churn-class-imbalance-with-treshold01/sweeps/d22sfkpk</a><br/>\n",
       "Run page: <a href=\"https://wandb.ai/teamtom/churn-class-imbalance-with-treshold01/runs/7kkcafn3\" target=\"_blank\">https://wandb.ai/teamtom/churn-class-imbalance-with-treshold01/runs/7kkcafn3</a><br/>\n",
       "                Run data is saved locally in <code>c:\\python\\anaconda_base\\pytorch-tutorial\\wandb\\run-20211003_222129-7kkcafn3</code><br/><br/>\n",
       "            "
      ],
      "text/plain": [
       "<IPython.core.display.HTML object>"
      ]
     },
     "metadata": {},
     "output_type": "display_data"
    },
    {
     "name": "stdout",
     "output_type": "stream",
     "text": [
      "dataset size: 10000\n",
      "dataset samples shape: torch.Size([10000, 9])\n",
      "dataset classes shape: torch.Size([10000, 1])\n",
      "| Epoch: 0010 | Train Loss: 0.474 | Train Acc: 79.93% | Val. Loss: 0.470 | Val. Acc: 79.63% |\n",
      "| Epoch: 0020 | Train Loss: 0.458 | Train Acc: 80.76% | Val. Loss: 0.441 | Val. Acc: 81.25% |\n",
      "| Epoch: 0030 | Train Loss: 0.450 | Train Acc: 80.95% | Val. Loss: 0.440 | Val. Acc: 81.25% |\n",
      "| Epoch: 0040 | Train Loss: 0.448 | Train Acc: 80.63% | Val. Loss: 0.441 | Val. Acc: 81.57% |\n",
      "| Epoch: 0050 | Train Loss: 0.445 | Train Acc: 80.52% | Val. Loss: 0.426 | Val. Acc: 82.65% |\n",
      "| Epoch: 0060 | Train Loss: 0.444 | Train Acc: 80.79% | Val. Loss: 0.424 | Val. Acc: 82.76% |\n",
      "| Epoch: 0070 | Train Loss: 0.442 | Train Acc: 80.81% | Val. Loss: 0.420 | Val. Acc: 82.65% |\n",
      "| Epoch: 0080 | Train Loss: 0.441 | Train Acc: 80.71% | Val. Loss: 0.424 | Val. Acc: 82.54% |\n",
      "| Epoch: 0090 | Train Loss: 0.439 | Train Acc: 80.83% | Val. Loss: 0.428 | Val. Acc: 82.11% |\n",
      "| Epoch: 0100 | Train Loss: 0.438 | Train Acc: 80.86% | Val. Loss: 0.420 | Val. Acc: 82.54% |\n"
     ]
    },
    {
     "data": {
      "text/html": [
       "<br/>Waiting for W&B process to finish, PID 5884<br/>Program ended successfully."
      ],
      "text/plain": [
       "<IPython.core.display.HTML object>"
      ]
     },
     "metadata": {},
     "output_type": "display_data"
    },
    {
     "data": {
      "application/vnd.jupyter.widget-view+json": {
       "model_id": "1f2c82f9fa55410ca57231385de6eb7d",
       "version_major": 2,
       "version_minor": 0
      },
      "text/plain": [
       "VBox(children=(Label(value=' 0.00MB of 0.00MB uploaded (0.00MB deduped)\\r'), FloatProgress(value=1.0, max=1.0)…"
      ]
     },
     "metadata": {},
     "output_type": "display_data"
    },
    {
     "data": {
      "text/html": [
       "Find user logs for this run at: <code>c:\\python\\anaconda_base\\pytorch-tutorial\\wandb\\run-20211003_222129-7kkcafn3\\logs\\debug.log</code>"
      ],
      "text/plain": [
       "<IPython.core.display.HTML object>"
      ]
     },
     "metadata": {},
     "output_type": "display_data"
    },
    {
     "data": {
      "text/html": [
       "Find internal logs for this run at: <code>c:\\python\\anaconda_base\\pytorch-tutorial\\wandb\\run-20211003_222129-7kkcafn3\\logs\\debug-internal.log</code>"
      ],
      "text/plain": [
       "<IPython.core.display.HTML object>"
      ]
     },
     "metadata": {},
     "output_type": "display_data"
    },
    {
     "data": {
      "text/html": [
       "<h3>Run summary:</h3><br/><style>\n",
       "    table.wandb td:nth-child(1) { padding: 0 10px; text-align: right }\n",
       "    </style><table class=\"wandb\">\n",
       "<tr><td>train_loss</td><td>0.43811</td></tr><tr><td>train_acc</td><td>0.80856</td></tr><tr><td>valid_loss</td><td>0.42019</td></tr><tr><td>valid_acc</td><td>0.82543</td></tr><tr><td>lr</td><td>0.001</td></tr><tr><td>epoch_time</td><td>0.22234</td></tr><tr><td>_runtime</td><td>30</td></tr><tr><td>_timestamp</td><td>1633292519</td></tr><tr><td>_step</td><td>99</td></tr><tr><td>accuracy</td><td>0.814</td></tr><tr><td>prec</td><td>0.61538</td></tr><tr><td>recall</td><td>0.23529</td></tr><tr><td>f1</td><td>0.34043</td></tr></table>"
      ],
      "text/plain": [
       "<IPython.core.display.HTML object>"
      ]
     },
     "metadata": {},
     "output_type": "display_data"
    },
    {
     "data": {
      "text/html": [
       "<h3>Run history:</h3><br/><style>\n",
       "    table.wandb td:nth-child(1) { padding: 0 10px; text-align: right }\n",
       "    </style><table class=\"wandb\">\n",
       "<tr><td>train_loss</td><td>█▄▃▃▃▂▂▂▂▂▂▂▂▂▁▁▁▁▁▁▁▁▁▁▁▁▁▁▁▁▁▁▁▁▁▁▁▁▁▁</td></tr><tr><td>train_acc</td><td>▁▇▇▇████████████████████████████████████</td></tr><tr><td>valid_loss</td><td>█▅▄▄▄▃▃▃▃▂▃▃▂▂▂▂▂▂▂▂▁▁▂▂▂▁▂▂▂▂▂▁▁▁▂▁▂▂▃▁</td></tr><tr><td>valid_acc</td><td>▁▄▄▄▂▂▄▂▄▇▆▆▆▇▇▆▇▇▅▆▇▆▆▇▆█▇▆▅▅▆███▇█▇▅▇█</td></tr><tr><td>lr</td><td>▁▁▁▁▁▁▁▁▁▁▁▁▁▁▁▁▁▁▁▁▁▁▁▁▁▁▁▁▁▁▁▁▁▁▁▁▁▁▁▁</td></tr><tr><td>epoch_time</td><td>▂▄▆▇█▅▆▇▇▆▆▅▇▆▆██▅▇█▇▅▄▆▇█▆▆▃▁▆▂▂▂▁▂▁▃▂▂</td></tr><tr><td>_runtime</td><td>▁▁▁▁▂▂▂▂▃▃▃▃▃▃▄▄▄▄▄▅▅▅▅▅▆▆▆▆▆▆▇▇▇▇▇▇▇▇██</td></tr><tr><td>_timestamp</td><td>▁▁▁▁▂▂▂▂▃▃▃▃▃▃▄▄▄▄▄▅▅▅▅▅▆▆▆▆▆▆▇▇▇▇▇▇▇▇██</td></tr><tr><td>_step</td><td>▁▁▁▁▂▂▂▂▂▃▃▃▃▃▃▄▄▄▄▄▅▅▅▅▅▅▆▆▆▆▆▇▇▇▇▇▇███</td></tr></table><br/>"
      ],
      "text/plain": [
       "<IPython.core.display.HTML object>"
      ]
     },
     "metadata": {},
     "output_type": "display_data"
    },
    {
     "data": {
      "text/html": [
       "Synced 5 W&B file(s), 0 media file(s), 0 artifact file(s) and 0 other file(s)"
      ],
      "text/plain": [
       "<IPython.core.display.HTML object>"
      ]
     },
     "metadata": {},
     "output_type": "display_data"
    },
    {
     "data": {
      "text/html": [
       "\n",
       "                    <br/>Synced <strong style=\"color:#cdcd00\">major-sweep-56</strong>: <a href=\"https://wandb.ai/teamtom/churn-class-imbalance-with-treshold01/runs/7kkcafn3\" target=\"_blank\">https://wandb.ai/teamtom/churn-class-imbalance-with-treshold01/runs/7kkcafn3</a><br/>\n",
       "                "
      ],
      "text/plain": [
       "<IPython.core.display.HTML object>"
      ]
     },
     "metadata": {},
     "output_type": "display_data"
    },
    {
     "name": "stderr",
     "output_type": "stream",
     "text": [
      "wandb: Agent Starting Run: vsjxzycn with config:\n",
      "wandb: \tbatch_size: 32\n",
      "wandb: \tepochs: 100\n",
      "wandb: \tlearning_rate: 0.001\n",
      "wandb: \tthreshold: 0.4526315789473685\n",
      "wandb: wandb version 0.12.3 is available!  To upgrade, please run:\n",
      "wandb:  $ pip install wandb --upgrade\n"
     ]
    },
    {
     "data": {
      "text/html": [
       "\n",
       "                Tracking run with wandb version 0.10.31<br/>\n",
       "                Syncing run <strong style=\"color:#cdcd00\">atomic-sweep-57</strong> to <a href=\"https://wandb.ai\" target=\"_blank\">Weights & Biases</a> <a href=\"https://docs.wandb.com/integrations/jupyter.html\" target=\"_blank\">(Documentation)</a>.<br/>\n",
       "                Project page: <a href=\"https://wandb.ai/teamtom/churn-class-imbalance-with-treshold01\" target=\"_blank\">https://wandb.ai/teamtom/churn-class-imbalance-with-treshold01</a><br/>\n",
       "                Sweep page: <a href=\"https://wandb.ai/teamtom/churn-class-imbalance-with-treshold01/sweeps/d22sfkpk\" target=\"_blank\">https://wandb.ai/teamtom/churn-class-imbalance-with-treshold01/sweeps/d22sfkpk</a><br/>\n",
       "Run page: <a href=\"https://wandb.ai/teamtom/churn-class-imbalance-with-treshold01/runs/vsjxzycn\" target=\"_blank\">https://wandb.ai/teamtom/churn-class-imbalance-with-treshold01/runs/vsjxzycn</a><br/>\n",
       "                Run data is saved locally in <code>c:\\python\\anaconda_base\\pytorch-tutorial\\wandb\\run-20211003_222203-vsjxzycn</code><br/><br/>\n",
       "            "
      ],
      "text/plain": [
       "<IPython.core.display.HTML object>"
      ]
     },
     "metadata": {},
     "output_type": "display_data"
    },
    {
     "name": "stdout",
     "output_type": "stream",
     "text": [
      "dataset size: 10000\n",
      "dataset samples shape: torch.Size([10000, 9])\n",
      "dataset classes shape: torch.Size([10000, 1])\n",
      "| Epoch: 0010 | Train Loss: 0.480 | Train Acc: 79.68% | Val. Loss: 0.470 | Val. Acc: 79.53% |\n",
      "| Epoch: 0020 | Train Loss: 0.464 | Train Acc: 80.57% | Val. Loss: 0.446 | Val. Acc: 80.71% |\n",
      "| Epoch: 0030 | Train Loss: 0.453 | Train Acc: 80.86% | Val. Loss: 0.435 | Val. Acc: 81.57% |\n",
      "| Epoch: 0040 | Train Loss: 0.449 | Train Acc: 80.77% | Val. Loss: 0.435 | Val. Acc: 81.79% |\n",
      "| Epoch: 0050 | Train Loss: 0.444 | Train Acc: 80.83% | Val. Loss: 0.433 | Val. Acc: 81.47% |\n",
      "| Epoch: 0060 | Train Loss: 0.444 | Train Acc: 80.61% | Val. Loss: 0.434 | Val. Acc: 81.47% |\n",
      "| Epoch: 0070 | Train Loss: 0.443 | Train Acc: 80.67% | Val. Loss: 0.429 | Val. Acc: 82.54% |\n",
      "| Epoch: 0080 | Train Loss: 0.439 | Train Acc: 80.86% | Val. Loss: 0.424 | Val. Acc: 82.33% |\n",
      "| Epoch: 0090 | Train Loss: 0.439 | Train Acc: 80.79% | Val. Loss: 0.425 | Val. Acc: 81.68% |\n",
      "| Epoch: 0100 | Train Loss: 0.441 | Train Acc: 80.79% | Val. Loss: 0.428 | Val. Acc: 81.68% |\n"
     ]
    },
    {
     "data": {
      "text/html": [
       "<br/>Waiting for W&B process to finish, PID 12716<br/>Program ended successfully."
      ],
      "text/plain": [
       "<IPython.core.display.HTML object>"
      ]
     },
     "metadata": {},
     "output_type": "display_data"
    },
    {
     "data": {
      "application/vnd.jupyter.widget-view+json": {
       "model_id": "dd5d32e10c3643dabd514141a68c7dc2",
       "version_major": 2,
       "version_minor": 0
      },
      "text/plain": [
       "VBox(children=(Label(value=' 0.00MB of 0.00MB uploaded (0.00MB deduped)\\r'), FloatProgress(value=1.0, max=1.0)…"
      ]
     },
     "metadata": {},
     "output_type": "display_data"
    },
    {
     "data": {
      "text/html": [
       "Find user logs for this run at: <code>c:\\python\\anaconda_base\\pytorch-tutorial\\wandb\\run-20211003_222203-vsjxzycn\\logs\\debug.log</code>"
      ],
      "text/plain": [
       "<IPython.core.display.HTML object>"
      ]
     },
     "metadata": {},
     "output_type": "display_data"
    },
    {
     "data": {
      "text/html": [
       "Find internal logs for this run at: <code>c:\\python\\anaconda_base\\pytorch-tutorial\\wandb\\run-20211003_222203-vsjxzycn\\logs\\debug-internal.log</code>"
      ],
      "text/plain": [
       "<IPython.core.display.HTML object>"
      ]
     },
     "metadata": {},
     "output_type": "display_data"
    },
    {
     "data": {
      "text/html": [
       "<h3>Run summary:</h3><br/><style>\n",
       "    table.wandb td:nth-child(1) { padding: 0 10px; text-align: right }\n",
       "    </style><table class=\"wandb\">\n",
       "<tr><td>train_loss</td><td>0.44078</td></tr><tr><td>train_acc</td><td>0.80795</td></tr><tr><td>valid_loss</td><td>0.4282</td></tr><tr><td>valid_acc</td><td>0.81681</td></tr><tr><td>lr</td><td>0.001</td></tr><tr><td>epoch_time</td><td>0.23861</td></tr><tr><td>_runtime</td><td>30</td></tr><tr><td>_timestamp</td><td>1633292553</td></tr><tr><td>_step</td><td>99</td></tr><tr><td>accuracy</td><td>0.815</td></tr><tr><td>prec</td><td>0.6338</td></tr><tr><td>recall</td><td>0.22059</td></tr><tr><td>f1</td><td>0.32727</td></tr></table>"
      ],
      "text/plain": [
       "<IPython.core.display.HTML object>"
      ]
     },
     "metadata": {},
     "output_type": "display_data"
    },
    {
     "data": {
      "text/html": [
       "<h3>Run history:</h3><br/><style>\n",
       "    table.wandb td:nth-child(1) { padding: 0 10px; text-align: right }\n",
       "    </style><table class=\"wandb\">\n",
       "<tr><td>train_loss</td><td>█▄▃▃▃▃▂▂▂▂▂▂▂▂▁▂▁▁▁▁▁▁▁▁▁▁▁▁▁▁▁▁▁▁▁▁▁▁▁▁</td></tr><tr><td>train_acc</td><td>▁▇▇▇▇▇██████████████████████████████████</td></tr><tr><td>valid_loss</td><td>█▅▅▄▄▃▃▃▃▃▂▄▃▂▃▂▂▂▂▂▁▁▂▁▂▂▂▁▁▂▂▂▁▁▁▂▃▂▁▂</td></tr><tr><td>valid_acc</td><td>▂▄▁▄▃▄▅▅▅▄▅▃▅▅▄▅▅▄▇██▇▅▇▆▇▆▇█▆▇▆██▆▅▂▆█▆</td></tr><tr><td>lr</td><td>▁▁▁▁▁▁▁▁▁▁▁▁▁▁▁▁▁▁▁▁▁▁▁▁▁▁▁▁▁▁▁▁▁▁▁▁▁▁▁▁</td></tr><tr><td>epoch_time</td><td>▁▁▄▄▄▄▄▄▄▄▄▃▄▄▄▅▄▄▅▅▆▄▅█▄▅▅▆▄▅▂▂▁▂▂▂▂▂▃▃</td></tr><tr><td>_runtime</td><td>▁▁▁▁▂▂▂▂▃▃▃▃▃▃▃▄▄▄▄▅▅▅▅▅▅▆▆▆▆▇▇▇▇▇▇▇▇▇██</td></tr><tr><td>_timestamp</td><td>▁▁▁▁▂▂▂▂▃▃▃▃▃▃▃▄▄▄▄▅▅▅▅▅▅▆▆▆▆▇▇▇▇▇▇▇▇▇██</td></tr><tr><td>_step</td><td>▁▁▁▁▂▂▂▂▂▃▃▃▃▃▃▄▄▄▄▄▅▅▅▅▅▅▆▆▆▆▆▇▇▇▇▇▇███</td></tr></table><br/>"
      ],
      "text/plain": [
       "<IPython.core.display.HTML object>"
      ]
     },
     "metadata": {},
     "output_type": "display_data"
    },
    {
     "data": {
      "text/html": [
       "Synced 5 W&B file(s), 0 media file(s), 0 artifact file(s) and 0 other file(s)"
      ],
      "text/plain": [
       "<IPython.core.display.HTML object>"
      ]
     },
     "metadata": {},
     "output_type": "display_data"
    },
    {
     "data": {
      "text/html": [
       "\n",
       "                    <br/>Synced <strong style=\"color:#cdcd00\">atomic-sweep-57</strong>: <a href=\"https://wandb.ai/teamtom/churn-class-imbalance-with-treshold01/runs/vsjxzycn\" target=\"_blank\">https://wandb.ai/teamtom/churn-class-imbalance-with-treshold01/runs/vsjxzycn</a><br/>\n",
       "                "
      ],
      "text/plain": [
       "<IPython.core.display.HTML object>"
      ]
     },
     "metadata": {},
     "output_type": "display_data"
    },
    {
     "name": "stderr",
     "output_type": "stream",
     "text": [
      "wandb: Agent Starting Run: ih4syal6 with config:\n",
      "wandb: \tbatch_size: 32\n",
      "wandb: \tepochs: 100\n",
      "wandb: \tlearning_rate: 0.001\n",
      "wandb: \tthreshold: 0.46842105263157896\n",
      "wandb: wandb version 0.12.3 is available!  To upgrade, please run:\n",
      "wandb:  $ pip install wandb --upgrade\n"
     ]
    },
    {
     "data": {
      "text/html": [
       "\n",
       "                Tracking run with wandb version 0.10.31<br/>\n",
       "                Syncing run <strong style=\"color:#cdcd00\">wise-sweep-58</strong> to <a href=\"https://wandb.ai\" target=\"_blank\">Weights & Biases</a> <a href=\"https://docs.wandb.com/integrations/jupyter.html\" target=\"_blank\">(Documentation)</a>.<br/>\n",
       "                Project page: <a href=\"https://wandb.ai/teamtom/churn-class-imbalance-with-treshold01\" target=\"_blank\">https://wandb.ai/teamtom/churn-class-imbalance-with-treshold01</a><br/>\n",
       "                Sweep page: <a href=\"https://wandb.ai/teamtom/churn-class-imbalance-with-treshold01/sweeps/d22sfkpk\" target=\"_blank\">https://wandb.ai/teamtom/churn-class-imbalance-with-treshold01/sweeps/d22sfkpk</a><br/>\n",
       "Run page: <a href=\"https://wandb.ai/teamtom/churn-class-imbalance-with-treshold01/runs/ih4syal6\" target=\"_blank\">https://wandb.ai/teamtom/churn-class-imbalance-with-treshold01/runs/ih4syal6</a><br/>\n",
       "                Run data is saved locally in <code>c:\\python\\anaconda_base\\pytorch-tutorial\\wandb\\run-20211003_222237-ih4syal6</code><br/><br/>\n",
       "            "
      ],
      "text/plain": [
       "<IPython.core.display.HTML object>"
      ]
     },
     "metadata": {},
     "output_type": "display_data"
    },
    {
     "name": "stdout",
     "output_type": "stream",
     "text": [
      "dataset size: 10000\n",
      "dataset samples shape: torch.Size([10000, 9])\n",
      "dataset classes shape: torch.Size([10000, 1])\n",
      "| Epoch: 0010 | Train Loss: 0.475 | Train Acc: 79.63% | Val. Loss: 0.463 | Val. Acc: 79.53% |\n",
      "| Epoch: 0020 | Train Loss: 0.460 | Train Acc: 80.47% | Val. Loss: 0.441 | Val. Acc: 81.25% |\n",
      "| Epoch: 0030 | Train Loss: 0.452 | Train Acc: 80.71% | Val. Loss: 0.431 | Val. Acc: 81.57% |\n",
      "| Epoch: 0040 | Train Loss: 0.445 | Train Acc: 80.97% | Val. Loss: 0.436 | Val. Acc: 80.93% |\n",
      "| Epoch: 0050 | Train Loss: 0.444 | Train Acc: 80.89% | Val. Loss: 0.427 | Val. Acc: 82.11% |\n",
      "| Epoch: 0060 | Train Loss: 0.443 | Train Acc: 80.75% | Val. Loss: 0.427 | Val. Acc: 82.44% |\n",
      "| Epoch: 0070 | Train Loss: 0.440 | Train Acc: 80.75% | Val. Loss: 0.436 | Val. Acc: 80.82% |\n",
      "| Epoch: 0080 | Train Loss: 0.440 | Train Acc: 80.68% | Val. Loss: 0.426 | Val. Acc: 81.57% |\n",
      "| Epoch: 0090 | Train Loss: 0.439 | Train Acc: 80.66% | Val. Loss: 0.428 | Val. Acc: 81.68% |\n",
      "| Epoch: 0100 | Train Loss: 0.438 | Train Acc: 80.78% | Val. Loss: 0.434 | Val. Acc: 81.57% |\n"
     ]
    },
    {
     "data": {
      "text/html": [
       "<br/>Waiting for W&B process to finish, PID 17344<br/>Program ended successfully."
      ],
      "text/plain": [
       "<IPython.core.display.HTML object>"
      ]
     },
     "metadata": {},
     "output_type": "display_data"
    },
    {
     "data": {
      "application/vnd.jupyter.widget-view+json": {
       "model_id": "14c415106abd4eec96714bf4f35abd99",
       "version_major": 2,
       "version_minor": 0
      },
      "text/plain": [
       "VBox(children=(Label(value=' 0.00MB of 0.00MB uploaded (0.00MB deduped)\\r'), FloatProgress(value=1.0, max=1.0)…"
      ]
     },
     "metadata": {},
     "output_type": "display_data"
    },
    {
     "data": {
      "text/html": [
       "Find user logs for this run at: <code>c:\\python\\anaconda_base\\pytorch-tutorial\\wandb\\run-20211003_222237-ih4syal6\\logs\\debug.log</code>"
      ],
      "text/plain": [
       "<IPython.core.display.HTML object>"
      ]
     },
     "metadata": {},
     "output_type": "display_data"
    },
    {
     "data": {
      "text/html": [
       "Find internal logs for this run at: <code>c:\\python\\anaconda_base\\pytorch-tutorial\\wandb\\run-20211003_222237-ih4syal6\\logs\\debug-internal.log</code>"
      ],
      "text/plain": [
       "<IPython.core.display.HTML object>"
      ]
     },
     "metadata": {},
     "output_type": "display_data"
    },
    {
     "data": {
      "text/html": [
       "<h3>Run summary:</h3><br/><style>\n",
       "    table.wandb td:nth-child(1) { padding: 0 10px; text-align: right }\n",
       "    </style><table class=\"wandb\">\n",
       "<tr><td>train_loss</td><td>0.43785</td></tr><tr><td>train_acc</td><td>0.80782</td></tr><tr><td>valid_loss</td><td>0.43426</td></tr><tr><td>valid_acc</td><td>0.81573</td></tr><tr><td>lr</td><td>0.001</td></tr><tr><td>epoch_time</td><td>0.18074</td></tr><tr><td>_runtime</td><td>29</td></tr><tr><td>_timestamp</td><td>1633292587</td></tr><tr><td>_step</td><td>99</td></tr><tr><td>accuracy</td><td>0.814</td></tr><tr><td>prec</td><td>0.64062</td></tr><tr><td>recall</td><td>0.20098</td></tr><tr><td>f1</td><td>0.30597</td></tr></table>"
      ],
      "text/plain": [
       "<IPython.core.display.HTML object>"
      ]
     },
     "metadata": {},
     "output_type": "display_data"
    },
    {
     "data": {
      "text/html": [
       "<h3>Run history:</h3><br/><style>\n",
       "    table.wandb td:nth-child(1) { padding: 0 10px; text-align: right }\n",
       "    </style><table class=\"wandb\">\n",
       "<tr><td>train_loss</td><td>█▃▃▃▂▂▂▂▂▂▂▂▂▁▁▁▁▁▁▁▁▁▁▁▁▁▁▁▁▁▁▁▁▁▁▁▁▁▁▁</td></tr><tr><td>train_acc</td><td>▁▇▇▇▇▇██████████████████████████████████</td></tr><tr><td>valid_loss</td><td>█▅▄▄▃▄▃▂▂▃▂▃▂▂▂▂▂▂▂▂▁▂▁▁▁▂▁▂▁▁▁▂▁▁▂▂▁▂▁▂</td></tr><tr><td>valid_acc</td><td>▂▅▃▃▃▁▄▆▅▄▇▅▆▅▅▇▇▇▆▇▆▆█▇▇▇█▇██▆▇██▇▇▇▆▇▇</td></tr><tr><td>lr</td><td>▁▁▁▁▁▁▁▁▁▁▁▁▁▁▁▁▁▁▁▁▁▁▁▁▁▁▁▁▁▁▁▁▁▁▁▁▁▁▁▁</td></tr><tr><td>epoch_time</td><td>▃▅▅▄▅▅▅█▄▅▄▅▄▅▅▄▅▄▄▅▄▃▃▅▅▅▅▂▂▂▁▁▃▁▂▂▃▂▁▁</td></tr><tr><td>_runtime</td><td>▁▁▁▂▂▂▂▂▃▃▃▃▃▄▄▄▄▄▄▅▅▅▅▅▆▆▆▆▆▆▇▇▇▇▇▇▇▇██</td></tr><tr><td>_timestamp</td><td>▁▁▁▂▂▂▂▂▃▃▃▃▃▄▄▄▄▄▄▅▅▅▅▅▆▆▆▆▆▆▇▇▇▇▇▇▇▇██</td></tr><tr><td>_step</td><td>▁▁▁▁▂▂▂▂▂▃▃▃▃▃▃▄▄▄▄▄▅▅▅▅▅▅▆▆▆▆▆▇▇▇▇▇▇███</td></tr></table><br/>"
      ],
      "text/plain": [
       "<IPython.core.display.HTML object>"
      ]
     },
     "metadata": {},
     "output_type": "display_data"
    },
    {
     "data": {
      "text/html": [
       "Synced 5 W&B file(s), 0 media file(s), 0 artifact file(s) and 0 other file(s)"
      ],
      "text/plain": [
       "<IPython.core.display.HTML object>"
      ]
     },
     "metadata": {},
     "output_type": "display_data"
    },
    {
     "data": {
      "text/html": [
       "\n",
       "                    <br/>Synced <strong style=\"color:#cdcd00\">wise-sweep-58</strong>: <a href=\"https://wandb.ai/teamtom/churn-class-imbalance-with-treshold01/runs/ih4syal6\" target=\"_blank\">https://wandb.ai/teamtom/churn-class-imbalance-with-treshold01/runs/ih4syal6</a><br/>\n",
       "                "
      ],
      "text/plain": [
       "<IPython.core.display.HTML object>"
      ]
     },
     "metadata": {},
     "output_type": "display_data"
    },
    {
     "name": "stderr",
     "output_type": "stream",
     "text": [
      "wandb: Agent Starting Run: 166bdvtk with config:\n",
      "wandb: \tbatch_size: 32\n",
      "wandb: \tepochs: 100\n",
      "wandb: \tlearning_rate: 0.001\n",
      "wandb: \tthreshold: 0.4842105263157895\n",
      "wandb: wandb version 0.12.3 is available!  To upgrade, please run:\n",
      "wandb:  $ pip install wandb --upgrade\n"
     ]
    },
    {
     "data": {
      "text/html": [
       "\n",
       "                Tracking run with wandb version 0.10.31<br/>\n",
       "                Syncing run <strong style=\"color:#cdcd00\">cosmic-sweep-59</strong> to <a href=\"https://wandb.ai\" target=\"_blank\">Weights & Biases</a> <a href=\"https://docs.wandb.com/integrations/jupyter.html\" target=\"_blank\">(Documentation)</a>.<br/>\n",
       "                Project page: <a href=\"https://wandb.ai/teamtom/churn-class-imbalance-with-treshold01\" target=\"_blank\">https://wandb.ai/teamtom/churn-class-imbalance-with-treshold01</a><br/>\n",
       "                Sweep page: <a href=\"https://wandb.ai/teamtom/churn-class-imbalance-with-treshold01/sweeps/d22sfkpk\" target=\"_blank\">https://wandb.ai/teamtom/churn-class-imbalance-with-treshold01/sweeps/d22sfkpk</a><br/>\n",
       "Run page: <a href=\"https://wandb.ai/teamtom/churn-class-imbalance-with-treshold01/runs/166bdvtk\" target=\"_blank\">https://wandb.ai/teamtom/churn-class-imbalance-with-treshold01/runs/166bdvtk</a><br/>\n",
       "                Run data is saved locally in <code>c:\\python\\anaconda_base\\pytorch-tutorial\\wandb\\run-20211003_222312-166bdvtk</code><br/><br/>\n",
       "            "
      ],
      "text/plain": [
       "<IPython.core.display.HTML object>"
      ]
     },
     "metadata": {},
     "output_type": "display_data"
    },
    {
     "name": "stdout",
     "output_type": "stream",
     "text": [
      "dataset size: 10000\n",
      "dataset samples shape: torch.Size([10000, 9])\n",
      "dataset classes shape: torch.Size([10000, 1])\n",
      "| Epoch: 0010 | Train Loss: 0.481 | Train Acc: 79.70% | Val. Loss: 0.467 | Val. Acc: 80.28% |\n",
      "| Epoch: 0020 | Train Loss: 0.464 | Train Acc: 80.25% | Val. Loss: 0.446 | Val. Acc: 80.50% |\n",
      "| Epoch: 0030 | Train Loss: 0.453 | Train Acc: 80.77% | Val. Loss: 0.436 | Val. Acc: 81.36% |\n",
      "| Epoch: 0040 | Train Loss: 0.448 | Train Acc: 80.97% | Val. Loss: 0.443 | Val. Acc: 80.93% |\n",
      "| Epoch: 0050 | Train Loss: 0.444 | Train Acc: 80.95% | Val. Loss: 0.427 | Val. Acc: 82.00% |\n",
      "| Epoch: 0060 | Train Loss: 0.442 | Train Acc: 80.95% | Val. Loss: 0.434 | Val. Acc: 81.57% |\n",
      "| Epoch: 0070 | Train Loss: 0.440 | Train Acc: 80.79% | Val. Loss: 0.449 | Val. Acc: 80.06% |\n",
      "| Epoch: 0080 | Train Loss: 0.441 | Train Acc: 80.70% | Val. Loss: 0.424 | Val. Acc: 82.54% |\n",
      "| Epoch: 0090 | Train Loss: 0.441 | Train Acc: 80.71% | Val. Loss: 0.428 | Val. Acc: 81.68% |\n",
      "| Epoch: 0100 | Train Loss: 0.438 | Train Acc: 80.70% | Val. Loss: 0.423 | Val. Acc: 82.44% |\n"
     ]
    },
    {
     "data": {
      "text/html": [
       "<br/>Waiting for W&B process to finish, PID 26156<br/>Program ended successfully."
      ],
      "text/plain": [
       "<IPython.core.display.HTML object>"
      ]
     },
     "metadata": {},
     "output_type": "display_data"
    },
    {
     "data": {
      "application/vnd.jupyter.widget-view+json": {
       "model_id": "a5a08398957843d695ffa25b799cdf25",
       "version_major": 2,
       "version_minor": 0
      },
      "text/plain": [
       "VBox(children=(Label(value=' 0.00MB of 0.00MB uploaded (0.00MB deduped)\\r'), FloatProgress(value=1.0, max=1.0)…"
      ]
     },
     "metadata": {},
     "output_type": "display_data"
    },
    {
     "data": {
      "text/html": [
       "Find user logs for this run at: <code>c:\\python\\anaconda_base\\pytorch-tutorial\\wandb\\run-20211003_222312-166bdvtk\\logs\\debug.log</code>"
      ],
      "text/plain": [
       "<IPython.core.display.HTML object>"
      ]
     },
     "metadata": {},
     "output_type": "display_data"
    },
    {
     "data": {
      "text/html": [
       "Find internal logs for this run at: <code>c:\\python\\anaconda_base\\pytorch-tutorial\\wandb\\run-20211003_222312-166bdvtk\\logs\\debug-internal.log</code>"
      ],
      "text/plain": [
       "<IPython.core.display.HTML object>"
      ]
     },
     "metadata": {},
     "output_type": "display_data"
    },
    {
     "data": {
      "text/html": [
       "<h3>Run summary:</h3><br/><style>\n",
       "    table.wandb td:nth-child(1) { padding: 0 10px; text-align: right }\n",
       "    </style><table class=\"wandb\">\n",
       "<tr><td>train_loss</td><td>0.43837</td></tr><tr><td>train_acc</td><td>0.80696</td></tr><tr><td>valid_loss</td><td>0.42263</td></tr><tr><td>valid_acc</td><td>0.82435</td></tr><tr><td>lr</td><td>0.001</td></tr><tr><td>epoch_time</td><td>0.21532</td></tr><tr><td>_runtime</td><td>29</td></tr><tr><td>_timestamp</td><td>1633292621</td></tr><tr><td>_step</td><td>99</td></tr><tr><td>accuracy</td><td>0.811</td></tr><tr><td>prec</td><td>0.63636</td></tr><tr><td>recall</td><td>0.17157</td></tr><tr><td>f1</td><td>0.27027</td></tr></table>"
      ],
      "text/plain": [
       "<IPython.core.display.HTML object>"
      ]
     },
     "metadata": {},
     "output_type": "display_data"
    },
    {
     "data": {
      "text/html": [
       "<h3>Run history:</h3><br/><style>\n",
       "    table.wandb td:nth-child(1) { padding: 0 10px; text-align: right }\n",
       "    </style><table class=\"wandb\">\n",
       "<tr><td>train_loss</td><td>█▄▃▃▃▂▂▂▂▂▂▂▂▂▂▁▁▁▁▁▁▁▁▁▁▁▁▁▁▁▁▁▁▁▁▁▁▁▁▁</td></tr><tr><td>train_acc</td><td>▁▇▇▇▇▇▇▇████████████████████████████████</td></tr><tr><td>valid_loss</td><td>█▆▅▄▃▃▃▃▃▃▃▃▂▂▂▂▂▂▂▁▃▂▁▂▁▂▁▂▁▁▁▂▁▂▃▂▁▂▁▁</td></tr><tr><td>valid_acc</td><td>▁▁▁▃▃▁▁▁▃▁▂▁▅▄▆▆▆▄▇▇▄██▆▇▆▇▆▇██▆█▆▁▆█▆██</td></tr><tr><td>lr</td><td>▁▁▁▁▁▁▁▁▁▁▁▁▁▁▁▁▁▁▁▁▁▁▁▁▁▁▁▁▁▁▁▁▁▁▁▁▁▁▁▁</td></tr><tr><td>epoch_time</td><td>▁▁▃▆▆▇▆▅██▇▇▅▆▆▇▇▆▆▇▇▅▇▆▅▅▇█▇█▃▁▃▂▂▃▁▂▃▃</td></tr><tr><td>_runtime</td><td>▁▁▁▂▂▂▂▂▃▃▃▃▃▄▄▄▄▄▄▅▅▅▅▅▅▆▆▆▆▆▇▇▇▇▇▇▇███</td></tr><tr><td>_timestamp</td><td>▁▁▁▂▂▂▂▂▃▃▃▃▃▄▄▄▄▄▄▅▅▅▅▅▅▆▆▆▆▆▇▇▇▇▇▇▇███</td></tr><tr><td>_step</td><td>▁▁▁▁▂▂▂▂▂▃▃▃▃▃▃▄▄▄▄▄▅▅▅▅▅▅▆▆▆▆▆▇▇▇▇▇▇███</td></tr></table><br/>"
      ],
      "text/plain": [
       "<IPython.core.display.HTML object>"
      ]
     },
     "metadata": {},
     "output_type": "display_data"
    },
    {
     "data": {
      "text/html": [
       "Synced 5 W&B file(s), 0 media file(s), 0 artifact file(s) and 0 other file(s)"
      ],
      "text/plain": [
       "<IPython.core.display.HTML object>"
      ]
     },
     "metadata": {},
     "output_type": "display_data"
    },
    {
     "data": {
      "text/html": [
       "\n",
       "                    <br/>Synced <strong style=\"color:#cdcd00\">cosmic-sweep-59</strong>: <a href=\"https://wandb.ai/teamtom/churn-class-imbalance-with-treshold01/runs/166bdvtk\" target=\"_blank\">https://wandb.ai/teamtom/churn-class-imbalance-with-treshold01/runs/166bdvtk</a><br/>\n",
       "                "
      ],
      "text/plain": [
       "<IPython.core.display.HTML object>"
      ]
     },
     "metadata": {},
     "output_type": "display_data"
    },
    {
     "name": "stderr",
     "output_type": "stream",
     "text": [
      "wandb: Agent Starting Run: oszpw96t with config:\n",
      "wandb: \tbatch_size: 32\n",
      "wandb: \tepochs: 100\n",
      "wandb: \tlearning_rate: 0.001\n",
      "wandb: \tthreshold: 0.5\n",
      "wandb: wandb version 0.12.3 is available!  To upgrade, please run:\n",
      "wandb:  $ pip install wandb --upgrade\n"
     ]
    },
    {
     "data": {
      "text/html": [
       "\n",
       "                Tracking run with wandb version 0.10.31<br/>\n",
       "                Syncing run <strong style=\"color:#cdcd00\">sweepy-sweep-60</strong> to <a href=\"https://wandb.ai\" target=\"_blank\">Weights & Biases</a> <a href=\"https://docs.wandb.com/integrations/jupyter.html\" target=\"_blank\">(Documentation)</a>.<br/>\n",
       "                Project page: <a href=\"https://wandb.ai/teamtom/churn-class-imbalance-with-treshold01\" target=\"_blank\">https://wandb.ai/teamtom/churn-class-imbalance-with-treshold01</a><br/>\n",
       "                Sweep page: <a href=\"https://wandb.ai/teamtom/churn-class-imbalance-with-treshold01/sweeps/d22sfkpk\" target=\"_blank\">https://wandb.ai/teamtom/churn-class-imbalance-with-treshold01/sweeps/d22sfkpk</a><br/>\n",
       "Run page: <a href=\"https://wandb.ai/teamtom/churn-class-imbalance-with-treshold01/runs/oszpw96t\" target=\"_blank\">https://wandb.ai/teamtom/churn-class-imbalance-with-treshold01/runs/oszpw96t</a><br/>\n",
       "                Run data is saved locally in <code>c:\\python\\anaconda_base\\pytorch-tutorial\\wandb\\run-20211003_222346-oszpw96t</code><br/><br/>\n",
       "            "
      ],
      "text/plain": [
       "<IPython.core.display.HTML object>"
      ]
     },
     "metadata": {},
     "output_type": "display_data"
    },
    {
     "name": "stdout",
     "output_type": "stream",
     "text": [
      "dataset size: 10000\n",
      "dataset samples shape: torch.Size([10000, 9])\n",
      "dataset classes shape: torch.Size([10000, 1])\n",
      "| Epoch: 0010 | Train Loss: 0.484 | Train Acc: 79.61% | Val. Loss: 0.477 | Val. Acc: 79.53% |\n",
      "| Epoch: 0020 | Train Loss: 0.465 | Train Acc: 79.88% | Val. Loss: 0.443 | Val. Acc: 80.50% |\n",
      "| Epoch: 0030 | Train Loss: 0.454 | Train Acc: 80.57% | Val. Loss: 0.436 | Val. Acc: 81.36% |\n",
      "| Epoch: 0040 | Train Loss: 0.448 | Train Acc: 80.67% | Val. Loss: 0.433 | Val. Acc: 81.03% |\n",
      "| Epoch: 0050 | Train Loss: 0.446 | Train Acc: 80.70% | Val. Loss: 0.426 | Val. Acc: 81.57% |\n",
      "| Epoch: 0060 | Train Loss: 0.442 | Train Acc: 80.86% | Val. Loss: 0.425 | Val. Acc: 82.00% |\n",
      "| Epoch: 0070 | Train Loss: 0.441 | Train Acc: 80.89% | Val. Loss: 0.427 | Val. Acc: 82.33% |\n",
      "| Epoch: 0080 | Train Loss: 0.441 | Train Acc: 80.70% | Val. Loss: 0.429 | Val. Acc: 82.22% |\n",
      "| Epoch: 0090 | Train Loss: 0.441 | Train Acc: 80.45% | Val. Loss: 0.434 | Val. Acc: 81.79% |\n",
      "| Epoch: 0100 | Train Loss: 0.438 | Train Acc: 80.66% | Val. Loss: 0.443 | Val. Acc: 82.00% |\n"
     ]
    },
    {
     "data": {
      "text/html": [
       "<br/>Waiting for W&B process to finish, PID 21956<br/>Program ended successfully."
      ],
      "text/plain": [
       "<IPython.core.display.HTML object>"
      ]
     },
     "metadata": {},
     "output_type": "display_data"
    },
    {
     "data": {
      "application/vnd.jupyter.widget-view+json": {
       "model_id": "6024c46cf100460a90a232a2d4dcca82",
       "version_major": 2,
       "version_minor": 0
      },
      "text/plain": [
       "VBox(children=(Label(value=' 0.00MB of 0.00MB uploaded (0.00MB deduped)\\r'), FloatProgress(value=1.0, max=1.0)…"
      ]
     },
     "metadata": {},
     "output_type": "display_data"
    },
    {
     "data": {
      "text/html": [
       "Find user logs for this run at: <code>c:\\python\\anaconda_base\\pytorch-tutorial\\wandb\\run-20211003_222346-oszpw96t\\logs\\debug.log</code>"
      ],
      "text/plain": [
       "<IPython.core.display.HTML object>"
      ]
     },
     "metadata": {},
     "output_type": "display_data"
    },
    {
     "data": {
      "text/html": [
       "Find internal logs for this run at: <code>c:\\python\\anaconda_base\\pytorch-tutorial\\wandb\\run-20211003_222346-oszpw96t\\logs\\debug-internal.log</code>"
      ],
      "text/plain": [
       "<IPython.core.display.HTML object>"
      ]
     },
     "metadata": {},
     "output_type": "display_data"
    },
    {
     "data": {
      "text/html": [
       "<h3>Run summary:</h3><br/><style>\n",
       "    table.wandb td:nth-child(1) { padding: 0 10px; text-align: right }\n",
       "    </style><table class=\"wandb\">\n",
       "<tr><td>train_loss</td><td>0.4381</td></tr><tr><td>train_acc</td><td>0.80659</td></tr><tr><td>valid_loss</td><td>0.44347</td></tr><tr><td>valid_acc</td><td>0.82004</td></tr><tr><td>lr</td><td>0.001</td></tr><tr><td>epoch_time</td><td>0.19824</td></tr><tr><td>_runtime</td><td>29</td></tr><tr><td>_timestamp</td><td>1633292655</td></tr><tr><td>_step</td><td>99</td></tr><tr><td>accuracy</td><td>0.819</td></tr><tr><td>prec</td><td>0.76744</td></tr><tr><td>recall</td><td>0.16176</td></tr><tr><td>f1</td><td>0.26721</td></tr></table>"
      ],
      "text/plain": [
       "<IPython.core.display.HTML object>"
      ]
     },
     "metadata": {},
     "output_type": "display_data"
    },
    {
     "data": {
      "text/html": [
       "<h3>Run history:</h3><br/><style>\n",
       "    table.wandb td:nth-child(1) { padding: 0 10px; text-align: right }\n",
       "    </style><table class=\"wandb\">\n",
       "<tr><td>train_loss</td><td>█▃▃▃▂▂▂▂▂▂▂▂▁▁▁▁▁▁▁▁▁▁▁▁▁▁▁▁▁▁▁▁▁▁▁▁▁▁▁▁</td></tr><tr><td>train_acc</td><td>▁███████████████████████████████████████</td></tr><tr><td>valid_loss</td><td>█▅▄▄▃▃▂▂▂▃▃▂▂▂▂▂▁▂▂▁▂▁▂▂▁▁▂▁▂▂▂▁▁▁▁▂▁▁▂▂</td></tr><tr><td>valid_acc</td><td>▁▃▄▃▄▄▄▄▅▃▄▄▆▅▆▅▇▄▄▆▅▅▅▅▇▇▆█▆▆▆█▇█▇▇██▅▇</td></tr><tr><td>lr</td><td>▁▁▁▁▁▁▁▁▁▁▁▁▁▁▁▁▁▁▁▁▁▁▁▁▁▁▁▁▁▁▁▁▁▁▁▁▁▁▁▁</td></tr><tr><td>epoch_time</td><td>▁▁▄▄▅▅▄▅▅▅▄▄▅▄▄▄▄▅▄█▄▅▄▄▅▅▅▅▅▃▂▂▂▂▂▂▃▂▂▂</td></tr><tr><td>_runtime</td><td>▁▁▁▂▂▂▂▂▃▃▃▃▃▄▄▄▄▄▄▅▅▅▅▅▆▆▆▆▆▇▇▇▇▇▇▇████</td></tr><tr><td>_timestamp</td><td>▁▁▁▂▂▂▂▂▃▃▃▃▃▄▄▄▄▄▄▅▅▅▅▅▆▆▆▆▆▇▇▇▇▇▇▇████</td></tr><tr><td>_step</td><td>▁▁▁▁▂▂▂▂▂▃▃▃▃▃▃▄▄▄▄▄▅▅▅▅▅▅▆▆▆▆▆▇▇▇▇▇▇███</td></tr></table><br/>"
      ],
      "text/plain": [
       "<IPython.core.display.HTML object>"
      ]
     },
     "metadata": {},
     "output_type": "display_data"
    },
    {
     "data": {
      "text/html": [
       "Synced 5 W&B file(s), 0 media file(s), 0 artifact file(s) and 0 other file(s)"
      ],
      "text/plain": [
       "<IPython.core.display.HTML object>"
      ]
     },
     "metadata": {},
     "output_type": "display_data"
    },
    {
     "data": {
      "text/html": [
       "\n",
       "                    <br/>Synced <strong style=\"color:#cdcd00\">sweepy-sweep-60</strong>: <a href=\"https://wandb.ai/teamtom/churn-class-imbalance-with-treshold01/runs/oszpw96t\" target=\"_blank\">https://wandb.ai/teamtom/churn-class-imbalance-with-treshold01/runs/oszpw96t</a><br/>\n",
       "                "
      ],
      "text/plain": [
       "<IPython.core.display.HTML object>"
      ]
     },
     "metadata": {},
     "output_type": "display_data"
    },
    {
     "name": "stderr",
     "output_type": "stream",
     "text": [
      "wandb: Agent Starting Run: mghj2cbc with config:\n",
      "wandb: \tbatch_size: 32\n",
      "wandb: \tepochs: 100\n",
      "wandb: \tlearning_rate: 0.0001\n",
      "wandb: \tthreshold: 0.2\n",
      "wandb: wandb version 0.12.3 is available!  To upgrade, please run:\n",
      "wandb:  $ pip install wandb --upgrade\n"
     ]
    },
    {
     "data": {
      "text/html": [
       "\n",
       "                Tracking run with wandb version 0.10.31<br/>\n",
       "                Syncing run <strong style=\"color:#cdcd00\">crisp-sweep-61</strong> to <a href=\"https://wandb.ai\" target=\"_blank\">Weights & Biases</a> <a href=\"https://docs.wandb.com/integrations/jupyter.html\" target=\"_blank\">(Documentation)</a>.<br/>\n",
       "                Project page: <a href=\"https://wandb.ai/teamtom/churn-class-imbalance-with-treshold01\" target=\"_blank\">https://wandb.ai/teamtom/churn-class-imbalance-with-treshold01</a><br/>\n",
       "                Sweep page: <a href=\"https://wandb.ai/teamtom/churn-class-imbalance-with-treshold01/sweeps/d22sfkpk\" target=\"_blank\">https://wandb.ai/teamtom/churn-class-imbalance-with-treshold01/sweeps/d22sfkpk</a><br/>\n",
       "Run page: <a href=\"https://wandb.ai/teamtom/churn-class-imbalance-with-treshold01/runs/mghj2cbc\" target=\"_blank\">https://wandb.ai/teamtom/churn-class-imbalance-with-treshold01/runs/mghj2cbc</a><br/>\n",
       "                Run data is saved locally in <code>c:\\python\\anaconda_base\\pytorch-tutorial\\wandb\\run-20211003_222420-mghj2cbc</code><br/><br/>\n",
       "            "
      ],
      "text/plain": [
       "<IPython.core.display.HTML object>"
      ]
     },
     "metadata": {},
     "output_type": "display_data"
    },
    {
     "name": "stdout",
     "output_type": "stream",
     "text": [
      "dataset size: 10000\n",
      "dataset samples shape: torch.Size([10000, 9])\n",
      "dataset classes shape: torch.Size([10000, 1])\n",
      "| Epoch: 0010 | Train Loss: 0.566 | Train Acc: 20.30% | Val. Loss: 0.563 | Val. Acc: 20.47% |\n",
      "| Epoch: 0020 | Train Loss: 0.510 | Train Acc: 34.29% | Val. Loss: 0.504 | Val. Acc: 33.51% |\n",
      "| Epoch: 0030 | Train Loss: 0.500 | Train Acc: 50.75% | Val. Loss: 0.489 | Val. Acc: 48.49% |\n",
      "| Epoch: 0040 | Train Loss: 0.492 | Train Acc: 54.65% | Val. Loss: 0.481 | Val. Acc: 52.69% |\n",
      "| Epoch: 0050 | Train Loss: 0.490 | Train Acc: 55.77% | Val. Loss: 0.476 | Val. Acc: 53.23% |\n",
      "| Epoch: 0060 | Train Loss: 0.482 | Train Acc: 56.96% | Val. Loss: 0.478 | Val. Acc: 56.14% |\n",
      "| Epoch: 0070 | Train Loss: 0.479 | Train Acc: 57.52% | Val. Loss: 0.466 | Val. Acc: 56.68% |\n",
      "| Epoch: 0080 | Train Loss: 0.479 | Train Acc: 58.53% | Val. Loss: 0.461 | Val. Acc: 57.65% |\n",
      "| Epoch: 0090 | Train Loss: 0.473 | Train Acc: 59.24% | Val. Loss: 0.460 | Val. Acc: 58.30% |\n",
      "| Epoch: 0100 | Train Loss: 0.471 | Train Acc: 59.31% | Val. Loss: 0.466 | Val. Acc: 59.27% |\n"
     ]
    },
    {
     "data": {
      "text/html": [
       "<br/>Waiting for W&B process to finish, PID 11156<br/>Program ended successfully."
      ],
      "text/plain": [
       "<IPython.core.display.HTML object>"
      ]
     },
     "metadata": {},
     "output_type": "display_data"
    },
    {
     "data": {
      "application/vnd.jupyter.widget-view+json": {
       "model_id": "17df31662a4f4e74aa9dd00572300bd0",
       "version_major": 2,
       "version_minor": 0
      },
      "text/plain": [
       "VBox(children=(Label(value=' 0.00MB of 0.00MB uploaded (0.00MB deduped)\\r'), FloatProgress(value=1.0, max=1.0)…"
      ]
     },
     "metadata": {},
     "output_type": "display_data"
    },
    {
     "data": {
      "text/html": [
       "Find user logs for this run at: <code>c:\\python\\anaconda_base\\pytorch-tutorial\\wandb\\run-20211003_222420-mghj2cbc\\logs\\debug.log</code>"
      ],
      "text/plain": [
       "<IPython.core.display.HTML object>"
      ]
     },
     "metadata": {},
     "output_type": "display_data"
    },
    {
     "data": {
      "text/html": [
       "Find internal logs for this run at: <code>c:\\python\\anaconda_base\\pytorch-tutorial\\wandb\\run-20211003_222420-mghj2cbc\\logs\\debug-internal.log</code>"
      ],
      "text/plain": [
       "<IPython.core.display.HTML object>"
      ]
     },
     "metadata": {},
     "output_type": "display_data"
    },
    {
     "data": {
      "text/html": [
       "<h3>Run summary:</h3><br/><style>\n",
       "    table.wandb td:nth-child(1) { padding: 0 10px; text-align: right }\n",
       "    </style><table class=\"wandb\">\n",
       "<tr><td>train_loss</td><td>0.47076</td></tr><tr><td>train_acc</td><td>0.59313</td></tr><tr><td>valid_loss</td><td>0.46555</td></tr><tr><td>valid_acc</td><td>0.59267</td></tr><tr><td>lr</td><td>0.0001</td></tr><tr><td>epoch_time</td><td>0.222</td></tr><tr><td>_runtime</td><td>28</td></tr><tr><td>_timestamp</td><td>1633292689</td></tr><tr><td>_step</td><td>99</td></tr><tr><td>accuracy</td><td>0.592</td></tr><tr><td>prec</td><td>0.2875</td></tr><tr><td>recall</td><td>0.67647</td></tr><tr><td>f1</td><td>0.40351</td></tr></table>"
      ],
      "text/plain": [
       "<IPython.core.display.HTML object>"
      ]
     },
     "metadata": {},
     "output_type": "display_data"
    },
    {
     "data": {
      "text/html": [
       "<h3>Run history:</h3><br/><style>\n",
       "    table.wandb td:nth-child(1) { padding: 0 10px; text-align: right }\n",
       "    </style><table class=\"wandb\">\n",
       "<tr><td>train_loss</td><td>█▆▄▄▃▂▂▂▂▂▂▂▂▂▁▁▁▁▁▁▁▁▁▁▁▁▁▁▁▁▁▁▁▁▁▁▁▁▁▁</td></tr><tr><td>train_acc</td><td>▁▁▁▁▁▁▂▂▄▅▆▆▇▇▇▇▇▇▇▇▇▇██████████████████</td></tr><tr><td>valid_loss</td><td>█▆▅▄▃▃▂▂▂▂▂▂▂▂▂▂▂▂▂▁▁▂▁▁▁▁▁▁▁▁▁▁▁▁▁▁▁▁▁▁</td></tr><tr><td>valid_acc</td><td>▁▁▁▁▁▁▂▃▄▅▆▆▆▇▇▇▇▇▇▇▇▇▇▇▇█▇▇████████████</td></tr><tr><td>lr</td><td>▁▁▁▁▁▁▁▁▁▁▁▁▁▁▁▁▁▁▁▁▁▁▁▁▁▁▁▁▁▁▁▁▁▁▁▁▁▁▁▁</td></tr><tr><td>epoch_time</td><td>▃▄▄▃▄▄▄▄▃▃▃▄▄▃▃▃▅▃▂▁▂▁▄▄▄▄▄▅▄█▄▃▂▂▂▃▂▁▂▂</td></tr><tr><td>_runtime</td><td>▁▁▁▂▂▂▂▂▂▃▃▃▃▃▄▄▄▄▄▅▅▅▅▅▅▆▆▆▆▆▇▇▇▇▇▇▇▇██</td></tr><tr><td>_timestamp</td><td>▁▁▁▂▂▂▂▂▂▃▃▃▃▃▄▄▄▄▄▅▅▅▅▅▅▆▆▆▆▆▇▇▇▇▇▇▇▇██</td></tr><tr><td>_step</td><td>▁▁▁▁▂▂▂▂▂▃▃▃▃▃▃▄▄▄▄▄▅▅▅▅▅▅▆▆▆▆▆▇▇▇▇▇▇███</td></tr></table><br/>"
      ],
      "text/plain": [
       "<IPython.core.display.HTML object>"
      ]
     },
     "metadata": {},
     "output_type": "display_data"
    },
    {
     "data": {
      "text/html": [
       "Synced 5 W&B file(s), 0 media file(s), 0 artifact file(s) and 0 other file(s)"
      ],
      "text/plain": [
       "<IPython.core.display.HTML object>"
      ]
     },
     "metadata": {},
     "output_type": "display_data"
    },
    {
     "data": {
      "text/html": [
       "\n",
       "                    <br/>Synced <strong style=\"color:#cdcd00\">crisp-sweep-61</strong>: <a href=\"https://wandb.ai/teamtom/churn-class-imbalance-with-treshold01/runs/mghj2cbc\" target=\"_blank\">https://wandb.ai/teamtom/churn-class-imbalance-with-treshold01/runs/mghj2cbc</a><br/>\n",
       "                "
      ],
      "text/plain": [
       "<IPython.core.display.HTML object>"
      ]
     },
     "metadata": {},
     "output_type": "display_data"
    },
    {
     "name": "stderr",
     "output_type": "stream",
     "text": [
      "wandb: Agent Starting Run: yxd163sj with config:\n",
      "wandb: \tbatch_size: 32\n",
      "wandb: \tepochs: 100\n",
      "wandb: \tlearning_rate: 0.0001\n",
      "wandb: \tthreshold: 0.21578947368421053\n",
      "wandb: wandb version 0.12.3 is available!  To upgrade, please run:\n",
      "wandb:  $ pip install wandb --upgrade\n"
     ]
    },
    {
     "data": {
      "text/html": [
       "\n",
       "                Tracking run with wandb version 0.10.31<br/>\n",
       "                Syncing run <strong style=\"color:#cdcd00\">polished-sweep-62</strong> to <a href=\"https://wandb.ai\" target=\"_blank\">Weights & Biases</a> <a href=\"https://docs.wandb.com/integrations/jupyter.html\" target=\"_blank\">(Documentation)</a>.<br/>\n",
       "                Project page: <a href=\"https://wandb.ai/teamtom/churn-class-imbalance-with-treshold01\" target=\"_blank\">https://wandb.ai/teamtom/churn-class-imbalance-with-treshold01</a><br/>\n",
       "                Sweep page: <a href=\"https://wandb.ai/teamtom/churn-class-imbalance-with-treshold01/sweeps/d22sfkpk\" target=\"_blank\">https://wandb.ai/teamtom/churn-class-imbalance-with-treshold01/sweeps/d22sfkpk</a><br/>\n",
       "Run page: <a href=\"https://wandb.ai/teamtom/churn-class-imbalance-with-treshold01/runs/yxd163sj\" target=\"_blank\">https://wandb.ai/teamtom/churn-class-imbalance-with-treshold01/runs/yxd163sj</a><br/>\n",
       "                Run data is saved locally in <code>c:\\python\\anaconda_base\\pytorch-tutorial\\wandb\\run-20211003_222454-yxd163sj</code><br/><br/>\n",
       "            "
      ],
      "text/plain": [
       "<IPython.core.display.HTML object>"
      ]
     },
     "metadata": {},
     "output_type": "display_data"
    },
    {
     "name": "stdout",
     "output_type": "stream",
     "text": [
      "dataset size: 10000\n",
      "dataset samples shape: torch.Size([10000, 9])\n",
      "dataset classes shape: torch.Size([10000, 1])\n",
      "| Epoch: 0010 | Train Loss: 0.546 | Train Acc: 20.47% | Val. Loss: 0.540 | Val. Acc: 20.47% |\n",
      "| Epoch: 0020 | Train Loss: 0.501 | Train Acc: 51.00% | Val. Loss: 0.498 | Val. Acc: 51.94% |\n",
      "| Epoch: 0030 | Train Loss: 0.495 | Train Acc: 59.82% | Val. Loss: 0.479 | Val. Acc: 58.51% |\n",
      "| Epoch: 0040 | Train Loss: 0.490 | Train Acc: 61.18% | Val. Loss: 0.494 | Val. Acc: 59.27% |\n",
      "| Epoch: 0050 | Train Loss: 0.486 | Train Acc: 62.27% | Val. Loss: 0.484 | Val. Acc: 61.42% |\n",
      "| Epoch: 0060 | Train Loss: 0.483 | Train Acc: 62.97% | Val. Loss: 0.477 | Val. Acc: 62.50% |\n",
      "| Epoch: 0070 | Train Loss: 0.480 | Train Acc: 62.98% | Val. Loss: 0.473 | Val. Acc: 63.04% |\n",
      "| Epoch: 0080 | Train Loss: 0.478 | Train Acc: 63.25% | Val. Loss: 0.477 | Val. Acc: 64.55% |\n",
      "| Epoch: 0090 | Train Loss: 0.477 | Train Acc: 63.98% | Val. Loss: 0.469 | Val. Acc: 63.69% |\n",
      "| Epoch: 0100 | Train Loss: 0.473 | Train Acc: 63.82% | Val. Loss: 0.459 | Val. Acc: 63.69% |\n"
     ]
    },
    {
     "data": {
      "text/html": [
       "<br/>Waiting for W&B process to finish, PID 25488<br/>Program ended successfully."
      ],
      "text/plain": [
       "<IPython.core.display.HTML object>"
      ]
     },
     "metadata": {},
     "output_type": "display_data"
    },
    {
     "data": {
      "application/vnd.jupyter.widget-view+json": {
       "model_id": "53a9ec194de14cfa8758fbbb57d4ccfe",
       "version_major": 2,
       "version_minor": 0
      },
      "text/plain": [
       "VBox(children=(Label(value=' 0.00MB of 0.00MB uploaded (0.00MB deduped)\\r'), FloatProgress(value=1.0, max=1.0)…"
      ]
     },
     "metadata": {},
     "output_type": "display_data"
    },
    {
     "data": {
      "text/html": [
       "Find user logs for this run at: <code>c:\\python\\anaconda_base\\pytorch-tutorial\\wandb\\run-20211003_222454-yxd163sj\\logs\\debug.log</code>"
      ],
      "text/plain": [
       "<IPython.core.display.HTML object>"
      ]
     },
     "metadata": {},
     "output_type": "display_data"
    },
    {
     "data": {
      "text/html": [
       "Find internal logs for this run at: <code>c:\\python\\anaconda_base\\pytorch-tutorial\\wandb\\run-20211003_222454-yxd163sj\\logs\\debug-internal.log</code>"
      ],
      "text/plain": [
       "<IPython.core.display.HTML object>"
      ]
     },
     "metadata": {},
     "output_type": "display_data"
    },
    {
     "data": {
      "text/html": [
       "<h3>Run summary:</h3><br/><style>\n",
       "    table.wandb td:nth-child(1) { padding: 0 10px; text-align: right }\n",
       "    </style><table class=\"wandb\">\n",
       "<tr><td>train_loss</td><td>0.4728</td></tr><tr><td>train_acc</td><td>0.63816</td></tr><tr><td>valid_loss</td><td>0.4593</td></tr><tr><td>valid_acc</td><td>0.63685</td></tr><tr><td>lr</td><td>0.0001</td></tr><tr><td>epoch_time</td><td>0.21439</td></tr><tr><td>_runtime</td><td>30</td></tr><tr><td>_timestamp</td><td>1633292724</td></tr><tr><td>_step</td><td>99</td></tr><tr><td>accuracy</td><td>0.638</td></tr><tr><td>prec</td><td>0.311</td></tr><tr><td>recall</td><td>0.63725</td></tr><tr><td>f1</td><td>0.41801</td></tr></table>"
      ],
      "text/plain": [
       "<IPython.core.display.HTML object>"
      ]
     },
     "metadata": {},
     "output_type": "display_data"
    },
    {
     "data": {
      "text/html": [
       "<h3>Run history:</h3><br/><style>\n",
       "    table.wandb td:nth-child(1) { padding: 0 10px; text-align: right }\n",
       "    </style><table class=\"wandb\">\n",
       "<tr><td>train_loss</td><td>█▆▄▃▃▂▂▂▂▂▂▂▂▂▁▁▁▁▁▁▁▁▁▁▁▁▁▁▁▁▁▁▁▁▁▁▁▁▁▁</td></tr><tr><td>train_acc</td><td>▁▁▁▁▁▁▄▅▆▇▇▇▇▇▇█████████████████████████</td></tr><tr><td>valid_loss</td><td>█▆▅▄▃▂▂▂▂▂▂▂▂▂▁▂▂▁▁▁▂▂▂▁▁▂▁▁▁▁▁▁▂▂▁▁▁▁▁▁</td></tr><tr><td>valid_acc</td><td>▁▁▁▁▁▂▄▅▆▆▇▇▇▇▇▇▇▇▇▇▇▇▇▇█▇▇██▇██████████</td></tr><tr><td>lr</td><td>▁▁▁▁▁▁▁▁▁▁▁▁▁▁▁▁▁▁▁▁▁▁▁▁▁▁▁▁▁▁▁▁▁▁▁▁▁▁▁▁</td></tr><tr><td>epoch_time</td><td>▃▅▄▃▄▄▅▃▄▄▄▄▄▄▅▄▇▆▆▅▅▄▅▅▃█▂▂▁▁▁▂▂▃▃▁▂▂▂▂</td></tr><tr><td>_runtime</td><td>▁▁▁▁▂▂▂▂▃▃▃▃▃▃▄▄▄▄▅▅▅▅▅▅▆▆▆▆▆▇▇▇▇▇▇▇▇▇██</td></tr><tr><td>_timestamp</td><td>▁▁▁▁▂▂▂▂▃▃▃▃▃▃▄▄▄▄▅▅▅▅▅▅▆▆▆▆▆▇▇▇▇▇▇▇▇▇██</td></tr><tr><td>_step</td><td>▁▁▁▁▂▂▂▂▂▃▃▃▃▃▃▄▄▄▄▄▅▅▅▅▅▅▆▆▆▆▆▇▇▇▇▇▇███</td></tr></table><br/>"
      ],
      "text/plain": [
       "<IPython.core.display.HTML object>"
      ]
     },
     "metadata": {},
     "output_type": "display_data"
    },
    {
     "data": {
      "text/html": [
       "Synced 5 W&B file(s), 0 media file(s), 0 artifact file(s) and 0 other file(s)"
      ],
      "text/plain": [
       "<IPython.core.display.HTML object>"
      ]
     },
     "metadata": {},
     "output_type": "display_data"
    },
    {
     "data": {
      "text/html": [
       "\n",
       "                    <br/>Synced <strong style=\"color:#cdcd00\">polished-sweep-62</strong>: <a href=\"https://wandb.ai/teamtom/churn-class-imbalance-with-treshold01/runs/yxd163sj\" target=\"_blank\">https://wandb.ai/teamtom/churn-class-imbalance-with-treshold01/runs/yxd163sj</a><br/>\n",
       "                "
      ],
      "text/plain": [
       "<IPython.core.display.HTML object>"
      ]
     },
     "metadata": {},
     "output_type": "display_data"
    },
    {
     "name": "stderr",
     "output_type": "stream",
     "text": [
      "wandb: Agent Starting Run: nfb86gp2 with config:\n",
      "wandb: \tbatch_size: 32\n",
      "wandb: \tepochs: 100\n",
      "wandb: \tlearning_rate: 0.0001\n",
      "wandb: \tthreshold: 0.23157894736842105\n",
      "wandb: wandb version 0.12.3 is available!  To upgrade, please run:\n",
      "wandb:  $ pip install wandb --upgrade\n"
     ]
    },
    {
     "data": {
      "text/html": [
       "\n",
       "                Tracking run with wandb version 0.10.31<br/>\n",
       "                Syncing run <strong style=\"color:#cdcd00\">good-sweep-63</strong> to <a href=\"https://wandb.ai\" target=\"_blank\">Weights & Biases</a> <a href=\"https://docs.wandb.com/integrations/jupyter.html\" target=\"_blank\">(Documentation)</a>.<br/>\n",
       "                Project page: <a href=\"https://wandb.ai/teamtom/churn-class-imbalance-with-treshold01\" target=\"_blank\">https://wandb.ai/teamtom/churn-class-imbalance-with-treshold01</a><br/>\n",
       "                Sweep page: <a href=\"https://wandb.ai/teamtom/churn-class-imbalance-with-treshold01/sweeps/d22sfkpk\" target=\"_blank\">https://wandb.ai/teamtom/churn-class-imbalance-with-treshold01/sweeps/d22sfkpk</a><br/>\n",
       "Run page: <a href=\"https://wandb.ai/teamtom/churn-class-imbalance-with-treshold01/runs/nfb86gp2\" target=\"_blank\">https://wandb.ai/teamtom/churn-class-imbalance-with-treshold01/runs/nfb86gp2</a><br/>\n",
       "                Run data is saved locally in <code>c:\\python\\anaconda_base\\pytorch-tutorial\\wandb\\run-20211003_222528-nfb86gp2</code><br/><br/>\n",
       "            "
      ],
      "text/plain": [
       "<IPython.core.display.HTML object>"
      ]
     },
     "metadata": {},
     "output_type": "display_data"
    },
    {
     "name": "stdout",
     "output_type": "stream",
     "text": [
      "dataset size: 10000\n",
      "dataset samples shape: torch.Size([10000, 9])\n",
      "dataset classes shape: torch.Size([10000, 1])\n",
      "| Epoch: 0010 | Train Loss: 0.548 | Train Acc: 20.30% | Val. Loss: 0.539 | Val. Acc: 19.72% |\n",
      "| Epoch: 0020 | Train Loss: 0.508 | Train Acc: 55.29% | Val. Loss: 0.509 | Val. Acc: 57.44% |\n",
      "| Epoch: 0030 | Train Loss: 0.501 | Train Acc: 68.54% | Val. Loss: 0.510 | Val. Acc: 68.53% |\n",
      "| Epoch: 0040 | Train Loss: 0.496 | Train Acc: 69.96% | Val. Loss: 0.501 | Val. Acc: 68.53% |\n",
      "| Epoch: 0050 | Train Loss: 0.488 | Train Acc: 70.47% | Val. Loss: 0.475 | Val. Acc: 71.01% |\n",
      "| Epoch: 0060 | Train Loss: 0.486 | Train Acc: 70.05% | Val. Loss: 0.469 | Val. Acc: 70.69% |\n",
      "| Epoch: 0070 | Train Loss: 0.481 | Train Acc: 70.14% | Val. Loss: 0.484 | Val. Acc: 69.40% |\n",
      "| Epoch: 0080 | Train Loss: 0.478 | Train Acc: 69.64% | Val. Loss: 0.470 | Val. Acc: 70.91% |\n",
      "| Epoch: 0090 | Train Loss: 0.475 | Train Acc: 69.40% | Val. Loss: 0.467 | Val. Acc: 70.15% |\n",
      "| Epoch: 0100 | Train Loss: 0.473 | Train Acc: 69.09% | Val. Loss: 0.457 | Val. Acc: 68.86% |\n"
     ]
    },
    {
     "data": {
      "text/html": [
       "<br/>Waiting for W&B process to finish, PID 12904<br/>Program ended successfully."
      ],
      "text/plain": [
       "<IPython.core.display.HTML object>"
      ]
     },
     "metadata": {},
     "output_type": "display_data"
    },
    {
     "data": {
      "application/vnd.jupyter.widget-view+json": {
       "model_id": "888056b73bda4c759ab2b55df089cbb3",
       "version_major": 2,
       "version_minor": 0
      },
      "text/plain": [
       "VBox(children=(Label(value=' 0.00MB of 0.00MB uploaded (0.00MB deduped)\\r'), FloatProgress(value=1.0, max=1.0)…"
      ]
     },
     "metadata": {},
     "output_type": "display_data"
    },
    {
     "data": {
      "text/html": [
       "Find user logs for this run at: <code>c:\\python\\anaconda_base\\pytorch-tutorial\\wandb\\run-20211003_222528-nfb86gp2\\logs\\debug.log</code>"
      ],
      "text/plain": [
       "<IPython.core.display.HTML object>"
      ]
     },
     "metadata": {},
     "output_type": "display_data"
    },
    {
     "data": {
      "text/html": [
       "Find internal logs for this run at: <code>c:\\python\\anaconda_base\\pytorch-tutorial\\wandb\\run-20211003_222528-nfb86gp2\\logs\\debug-internal.log</code>"
      ],
      "text/plain": [
       "<IPython.core.display.HTML object>"
      ]
     },
     "metadata": {},
     "output_type": "display_data"
    },
    {
     "data": {
      "text/html": [
       "<h3>Run summary:</h3><br/><style>\n",
       "    table.wandb td:nth-child(1) { padding: 0 10px; text-align: right }\n",
       "    </style><table class=\"wandb\">\n",
       "<tr><td>train_loss</td><td>0.47294</td></tr><tr><td>train_acc</td><td>0.69094</td></tr><tr><td>valid_loss</td><td>0.4568</td></tr><tr><td>valid_acc</td><td>0.68858</td></tr><tr><td>lr</td><td>0.0001</td></tr><tr><td>epoch_time</td><td>0.26371</td></tr><tr><td>_runtime</td><td>31</td></tr><tr><td>_timestamp</td><td>1633292759</td></tr><tr><td>_step</td><td>99</td></tr><tr><td>accuracy</td><td>0.69</td></tr><tr><td>prec</td><td>0.34503</td></tr><tr><td>recall</td><td>0.57843</td></tr><tr><td>f1</td><td>0.43223</td></tr></table>"
      ],
      "text/plain": [
       "<IPython.core.display.HTML object>"
      ]
     },
     "metadata": {},
     "output_type": "display_data"
    },
    {
     "data": {
      "text/html": [
       "<h3>Run history:</h3><br/><style>\n",
       "    table.wandb td:nth-child(1) { padding: 0 10px; text-align: right }\n",
       "    </style><table class=\"wandb\">\n",
       "<tr><td>train_loss</td><td>█▆▄▃▃▂▂▂▂▂▂▂▂▂▂▂▂▂▁▁▁▁▁▁▁▁▁▁▁▁▁▁▁▁▁▁▁▁▁▁</td></tr><tr><td>train_acc</td><td>▁▁▁▁▁▁▃▅▆▇▇█████████████████████████████</td></tr><tr><td>valid_loss</td><td>█▆▅▄▃▃▂▂▂▂▂▂▂▂▂▂▂▂▂▂▁▂▁▂▁▂▁▁▁▁▁▁▁▁▁▁▁▁▂▁</td></tr><tr><td>valid_acc</td><td>▁▁▁▁▁▁▃▅▆▇█████▇██████████████████████▇█</td></tr><tr><td>lr</td><td>▁▁▁▁▁▁▁▁▁▁▁▁▁▁▁▁▁▁▁▁▁▁▁▁▁▁▁▁▁▁▁▁▁▁▁▁▁▁▁▁</td></tr><tr><td>epoch_time</td><td>▅▄▃▃▄▄▄▄▄▅▄▄▃▅▄▃▅▂▃█▆▅▃▃▂▅▄▄▅▂▁▂▂▂▁▁▆▁▃▃</td></tr><tr><td>_runtime</td><td>▁▁▁▁▂▂▂▂▃▃▃▃▃▃▃▄▄▄▄▅▅▅▅▅▅▆▆▆▆▇▇▇▇▇▇▇▇▇██</td></tr><tr><td>_timestamp</td><td>▁▁▁▁▂▂▂▂▃▃▃▃▃▃▃▄▄▄▄▅▅▅▅▅▅▆▆▆▆▇▇▇▇▇▇▇▇▇██</td></tr><tr><td>_step</td><td>▁▁▁▁▂▂▂▂▂▃▃▃▃▃▃▄▄▄▄▄▅▅▅▅▅▅▆▆▆▆▆▇▇▇▇▇▇███</td></tr></table><br/>"
      ],
      "text/plain": [
       "<IPython.core.display.HTML object>"
      ]
     },
     "metadata": {},
     "output_type": "display_data"
    },
    {
     "data": {
      "text/html": [
       "Synced 5 W&B file(s), 0 media file(s), 0 artifact file(s) and 0 other file(s)"
      ],
      "text/plain": [
       "<IPython.core.display.HTML object>"
      ]
     },
     "metadata": {},
     "output_type": "display_data"
    },
    {
     "data": {
      "text/html": [
       "\n",
       "                    <br/>Synced <strong style=\"color:#cdcd00\">good-sweep-63</strong>: <a href=\"https://wandb.ai/teamtom/churn-class-imbalance-with-treshold01/runs/nfb86gp2\" target=\"_blank\">https://wandb.ai/teamtom/churn-class-imbalance-with-treshold01/runs/nfb86gp2</a><br/>\n",
       "                "
      ],
      "text/plain": [
       "<IPython.core.display.HTML object>"
      ]
     },
     "metadata": {},
     "output_type": "display_data"
    },
    {
     "name": "stderr",
     "output_type": "stream",
     "text": [
      "wandb: Agent Starting Run: mslm52k1 with config:\n",
      "wandb: \tbatch_size: 32\n",
      "wandb: \tepochs: 100\n",
      "wandb: \tlearning_rate: 0.0001\n",
      "wandb: \tthreshold: 0.2473684210526316\n",
      "wandb: wandb version 0.12.3 is available!  To upgrade, please run:\n",
      "wandb:  $ pip install wandb --upgrade\n"
     ]
    },
    {
     "data": {
      "text/html": [
       "\n",
       "                Tracking run with wandb version 0.10.31<br/>\n",
       "                Syncing run <strong style=\"color:#cdcd00\">lyric-sweep-64</strong> to <a href=\"https://wandb.ai\" target=\"_blank\">Weights & Biases</a> <a href=\"https://docs.wandb.com/integrations/jupyter.html\" target=\"_blank\">(Documentation)</a>.<br/>\n",
       "                Project page: <a href=\"https://wandb.ai/teamtom/churn-class-imbalance-with-treshold01\" target=\"_blank\">https://wandb.ai/teamtom/churn-class-imbalance-with-treshold01</a><br/>\n",
       "                Sweep page: <a href=\"https://wandb.ai/teamtom/churn-class-imbalance-with-treshold01/sweeps/d22sfkpk\" target=\"_blank\">https://wandb.ai/teamtom/churn-class-imbalance-with-treshold01/sweeps/d22sfkpk</a><br/>\n",
       "Run page: <a href=\"https://wandb.ai/teamtom/churn-class-imbalance-with-treshold01/runs/mslm52k1\" target=\"_blank\">https://wandb.ai/teamtom/churn-class-imbalance-with-treshold01/runs/mslm52k1</a><br/>\n",
       "                Run data is saved locally in <code>c:\\python\\anaconda_base\\pytorch-tutorial\\wandb\\run-20211003_222604-mslm52k1</code><br/><br/>\n",
       "            "
      ],
      "text/plain": [
       "<IPython.core.display.HTML object>"
      ]
     },
     "metadata": {},
     "output_type": "display_data"
    },
    {
     "name": "stdout",
     "output_type": "stream",
     "text": [
      "dataset size: 10000\n",
      "dataset samples shape: torch.Size([10000, 9])\n",
      "dataset classes shape: torch.Size([10000, 1])\n",
      "| Epoch: 0010 | Train Loss: 0.523 | Train Acc: 44.57% | Val. Loss: 0.518 | Val. Acc: 46.01% |\n",
      "| Epoch: 0020 | Train Loss: 0.505 | Train Acc: 64.36% | Val. Loss: 0.517 | Val. Acc: 63.47% |\n",
      "| Epoch: 0030 | Train Loss: 0.500 | Train Acc: 67.68% | Val. Loss: 0.500 | Val. Acc: 65.52% |\n",
      "| Epoch: 0040 | Train Loss: 0.494 | Train Acc: 67.62% | Val. Loss: 0.482 | Val. Acc: 66.38% |\n",
      "| Epoch: 0050 | Train Loss: 0.489 | Train Acc: 68.11% | Val. Loss: 0.487 | Val. Acc: 67.13% |\n",
      "| Epoch: 0060 | Train Loss: 0.487 | Train Acc: 68.04% | Val. Loss: 0.483 | Val. Acc: 68.43% |\n",
      "| Epoch: 0070 | Train Loss: 0.482 | Train Acc: 68.55% | Val. Loss: 0.469 | Val. Acc: 68.75% |\n",
      "| Epoch: 0080 | Train Loss: 0.480 | Train Acc: 68.69% | Val. Loss: 0.465 | Val. Acc: 69.29% |\n",
      "| Epoch: 0090 | Train Loss: 0.480 | Train Acc: 69.02% | Val. Loss: 0.462 | Val. Acc: 70.58% |\n",
      "| Epoch: 0100 | Train Loss: 0.476 | Train Acc: 69.21% | Val. Loss: 0.471 | Val. Acc: 69.83% |\n"
     ]
    },
    {
     "data": {
      "text/html": [
       "<br/>Waiting for W&B process to finish, PID 19872<br/>Program ended successfully."
      ],
      "text/plain": [
       "<IPython.core.display.HTML object>"
      ]
     },
     "metadata": {},
     "output_type": "display_data"
    },
    {
     "data": {
      "application/vnd.jupyter.widget-view+json": {
       "model_id": "08cbea7604494ad7b5e9a937a487a182",
       "version_major": 2,
       "version_minor": 0
      },
      "text/plain": [
       "VBox(children=(Label(value=' 0.00MB of 0.00MB uploaded (0.00MB deduped)\\r'), FloatProgress(value=1.0, max=1.0)…"
      ]
     },
     "metadata": {},
     "output_type": "display_data"
    },
    {
     "data": {
      "text/html": [
       "Find user logs for this run at: <code>c:\\python\\anaconda_base\\pytorch-tutorial\\wandb\\run-20211003_222604-mslm52k1\\logs\\debug.log</code>"
      ],
      "text/plain": [
       "<IPython.core.display.HTML object>"
      ]
     },
     "metadata": {},
     "output_type": "display_data"
    },
    {
     "data": {
      "text/html": [
       "Find internal logs for this run at: <code>c:\\python\\anaconda_base\\pytorch-tutorial\\wandb\\run-20211003_222604-mslm52k1\\logs\\debug-internal.log</code>"
      ],
      "text/plain": [
       "<IPython.core.display.HTML object>"
      ]
     },
     "metadata": {},
     "output_type": "display_data"
    },
    {
     "data": {
      "text/html": [
       "<h3>Run summary:</h3><br/><style>\n",
       "    table.wandb td:nth-child(1) { padding: 0 10px; text-align: right }\n",
       "    </style><table class=\"wandb\">\n",
       "<tr><td>train_loss</td><td>0.47619</td></tr><tr><td>train_acc</td><td>0.69205</td></tr><tr><td>valid_loss</td><td>0.47146</td></tr><tr><td>valid_acc</td><td>0.69828</td></tr><tr><td>lr</td><td>0.0001</td></tr><tr><td>epoch_time</td><td>0.22459</td></tr><tr><td>_runtime</td><td>29</td></tr><tr><td>_timestamp</td><td>1633292794</td></tr><tr><td>_step</td><td>99</td></tr><tr><td>accuracy</td><td>0.686</td></tr><tr><td>prec</td><td>0.32143</td></tr><tr><td>recall</td><td>0.48529</td></tr><tr><td>f1</td><td>0.38672</td></tr></table>"
      ],
      "text/plain": [
       "<IPython.core.display.HTML object>"
      ]
     },
     "metadata": {},
     "output_type": "display_data"
    },
    {
     "data": {
      "text/html": [
       "<h3>Run history:</h3><br/><style>\n",
       "    table.wandb td:nth-child(1) { padding: 0 10px; text-align: right }\n",
       "    </style><table class=\"wandb\">\n",
       "<tr><td>train_loss</td><td>█▆▄▄▃▃▃▂▂▂▂▂▂▂▂▂▂▂▂▂▂▂▂▂▁▁▁▁▁▁▁▁▁▁▁▁▁▁▁▁</td></tr><tr><td>train_acc</td><td>▁▁▂▃▅▆▇▇▇███████████████████████████████</td></tr><tr><td>valid_loss</td><td>█▆▅▄▃▄▃▃▂▃▂▃▂▂▂▂▂▂▂▂▂▂▂▂▂▁▁▂▁▂▂▁▃▁▁▂▁▁▁▁</td></tr><tr><td>valid_acc</td><td>▁▁▂▃▅▅▆▇▇▇▇▇▇▇▇▇▇▇▇▇██▇▇▇███████████████</td></tr><tr><td>lr</td><td>▁▁▁▁▁▁▁▁▁▁▁▁▁▁▁▁▁▁▁▁▁▁▁▁▁▁▁▁▁▁▁▁▁▁▁▁▁▁▁▁</td></tr><tr><td>epoch_time</td><td>▁▁▄▄▅▅▄▆▄▄▅▄▄▅▃▃▅▄▄▄▄▃▃▄▃▄█▄▄▃▁▂▂▂▂▂▂▂▃▂</td></tr><tr><td>_runtime</td><td>▁▁▁▁▂▂▂▂▂▃▃▃▃▄▄▄▄▄▄▅▅▅▅▅▅▆▆▆▆▆▇▇▇▇▇▇████</td></tr><tr><td>_timestamp</td><td>▁▁▁▁▂▂▂▂▂▃▃▃▃▄▄▄▄▄▄▅▅▅▅▅▅▆▆▆▆▆▇▇▇▇▇▇████</td></tr><tr><td>_step</td><td>▁▁▁▁▂▂▂▂▂▃▃▃▃▃▃▄▄▄▄▄▅▅▅▅▅▅▆▆▆▆▆▇▇▇▇▇▇███</td></tr></table><br/>"
      ],
      "text/plain": [
       "<IPython.core.display.HTML object>"
      ]
     },
     "metadata": {},
     "output_type": "display_data"
    },
    {
     "data": {
      "text/html": [
       "Synced 5 W&B file(s), 0 media file(s), 0 artifact file(s) and 0 other file(s)"
      ],
      "text/plain": [
       "<IPython.core.display.HTML object>"
      ]
     },
     "metadata": {},
     "output_type": "display_data"
    },
    {
     "data": {
      "text/html": [
       "\n",
       "                    <br/>Synced <strong style=\"color:#cdcd00\">lyric-sweep-64</strong>: <a href=\"https://wandb.ai/teamtom/churn-class-imbalance-with-treshold01/runs/mslm52k1\" target=\"_blank\">https://wandb.ai/teamtom/churn-class-imbalance-with-treshold01/runs/mslm52k1</a><br/>\n",
       "                "
      ],
      "text/plain": [
       "<IPython.core.display.HTML object>"
      ]
     },
     "metadata": {},
     "output_type": "display_data"
    },
    {
     "name": "stderr",
     "output_type": "stream",
     "text": [
      "wandb: Agent Starting Run: zp5qypqu with config:\n",
      "wandb: \tbatch_size: 32\n",
      "wandb: \tepochs: 100\n",
      "wandb: \tlearning_rate: 0.0001\n",
      "wandb: \tthreshold: 0.26315789473684215\n",
      "wandb: wandb version 0.12.3 is available!  To upgrade, please run:\n",
      "wandb:  $ pip install wandb --upgrade\n"
     ]
    },
    {
     "data": {
      "text/html": [
       "\n",
       "                Tracking run with wandb version 0.10.31<br/>\n",
       "                Syncing run <strong style=\"color:#cdcd00\">youthful-sweep-65</strong> to <a href=\"https://wandb.ai\" target=\"_blank\">Weights & Biases</a> <a href=\"https://docs.wandb.com/integrations/jupyter.html\" target=\"_blank\">(Documentation)</a>.<br/>\n",
       "                Project page: <a href=\"https://wandb.ai/teamtom/churn-class-imbalance-with-treshold01\" target=\"_blank\">https://wandb.ai/teamtom/churn-class-imbalance-with-treshold01</a><br/>\n",
       "                Sweep page: <a href=\"https://wandb.ai/teamtom/churn-class-imbalance-with-treshold01/sweeps/d22sfkpk\" target=\"_blank\">https://wandb.ai/teamtom/churn-class-imbalance-with-treshold01/sweeps/d22sfkpk</a><br/>\n",
       "Run page: <a href=\"https://wandb.ai/teamtom/churn-class-imbalance-with-treshold01/runs/zp5qypqu\" target=\"_blank\">https://wandb.ai/teamtom/churn-class-imbalance-with-treshold01/runs/zp5qypqu</a><br/>\n",
       "                Run data is saved locally in <code>c:\\python\\anaconda_base\\pytorch-tutorial\\wandb\\run-20211003_222639-zp5qypqu</code><br/><br/>\n",
       "            "
      ],
      "text/plain": [
       "<IPython.core.display.HTML object>"
      ]
     },
     "metadata": {},
     "output_type": "display_data"
    },
    {
     "name": "stdout",
     "output_type": "stream",
     "text": [
      "dataset size: 10000\n",
      "dataset samples shape: torch.Size([10000, 9])\n",
      "dataset classes shape: torch.Size([10000, 1])\n",
      "| Epoch: 0010 | Train Loss: 0.540 | Train Acc: 27.72% | Val. Loss: 0.527 | Val. Acc: 32.76% |\n",
      "| Epoch: 0020 | Train Loss: 0.505 | Train Acc: 67.03% | Val. Loss: 0.509 | Val. Acc: 68.86% |\n",
      "| Epoch: 0030 | Train Loss: 0.498 | Train Acc: 73.34% | Val. Loss: 0.492 | Val. Acc: 73.06% |\n",
      "| Epoch: 0040 | Train Loss: 0.493 | Train Acc: 73.56% | Val. Loss: 0.484 | Val. Acc: 74.46% |\n",
      "| Epoch: 0050 | Train Loss: 0.489 | Train Acc: 73.36% | Val. Loss: 0.479 | Val. Acc: 74.57% |\n",
      "| Epoch: 0060 | Train Loss: 0.484 | Train Acc: 72.92% | Val. Loss: 0.474 | Val. Acc: 74.46% |\n",
      "| Epoch: 0070 | Train Loss: 0.483 | Train Acc: 72.51% | Val. Loss: 0.490 | Val. Acc: 71.88% |\n",
      "| Epoch: 0080 | Train Loss: 0.478 | Train Acc: 72.71% | Val. Loss: 0.469 | Val. Acc: 74.03% |\n",
      "| Epoch: 0090 | Train Loss: 0.476 | Train Acc: 72.65% | Val. Loss: 0.470 | Val. Acc: 73.49% |\n",
      "| Epoch: 0100 | Train Loss: 0.475 | Train Acc: 72.80% | Val. Loss: 0.454 | Val. Acc: 74.57% |\n"
     ]
    },
    {
     "data": {
      "text/html": [
       "<br/>Waiting for W&B process to finish, PID 8828<br/>Program ended successfully."
      ],
      "text/plain": [
       "<IPython.core.display.HTML object>"
      ]
     },
     "metadata": {},
     "output_type": "display_data"
    },
    {
     "data": {
      "application/vnd.jupyter.widget-view+json": {
       "model_id": "2b8a61573c984ea485c0c4591ebe607b",
       "version_major": 2,
       "version_minor": 0
      },
      "text/plain": [
       "VBox(children=(Label(value=' 0.00MB of 0.00MB uploaded (0.00MB deduped)\\r'), FloatProgress(value=1.0, max=1.0)…"
      ]
     },
     "metadata": {},
     "output_type": "display_data"
    },
    {
     "data": {
      "text/html": [
       "Find user logs for this run at: <code>c:\\python\\anaconda_base\\pytorch-tutorial\\wandb\\run-20211003_222639-zp5qypqu\\logs\\debug.log</code>"
      ],
      "text/plain": [
       "<IPython.core.display.HTML object>"
      ]
     },
     "metadata": {},
     "output_type": "display_data"
    },
    {
     "data": {
      "text/html": [
       "Find internal logs for this run at: <code>c:\\python\\anaconda_base\\pytorch-tutorial\\wandb\\run-20211003_222639-zp5qypqu\\logs\\debug-internal.log</code>"
      ],
      "text/plain": [
       "<IPython.core.display.HTML object>"
      ]
     },
     "metadata": {},
     "output_type": "display_data"
    },
    {
     "data": {
      "text/html": [
       "<h3>Run summary:</h3><br/><style>\n",
       "    table.wandb td:nth-child(1) { padding: 0 10px; text-align: right }\n",
       "    </style><table class=\"wandb\">\n",
       "<tr><td>train_loss</td><td>0.47473</td></tr><tr><td>train_acc</td><td>0.72798</td></tr><tr><td>valid_loss</td><td>0.45447</td></tr><tr><td>valid_acc</td><td>0.74569</td></tr><tr><td>lr</td><td>0.0001</td></tr><tr><td>epoch_time</td><td>0.19298</td></tr><tr><td>_runtime</td><td>30</td></tr><tr><td>_timestamp</td><td>1633292830</td></tr><tr><td>_step</td><td>99</td></tr><tr><td>accuracy</td><td>0.733</td></tr><tr><td>prec</td><td>0.37037</td></tr><tr><td>recall</td><td>0.44118</td></tr><tr><td>f1</td><td>0.40268</td></tr></table>"
      ],
      "text/plain": [
       "<IPython.core.display.HTML object>"
      ]
     },
     "metadata": {},
     "output_type": "display_data"
    },
    {
     "data": {
      "text/html": [
       "<h3>Run history:</h3><br/><style>\n",
       "    table.wandb td:nth-child(1) { padding: 0 10px; text-align: right }\n",
       "    </style><table class=\"wandb\">\n",
       "<tr><td>train_loss</td><td>█▆▄▃▃▂▂▂▂▂▂▂▂▂▂▂▂▁▁▁▁▁▁▁▁▁▁▁▁▁▁▁▁▁▁▁▁▁▁▁</td></tr><tr><td>train_acc</td><td>▁▁▁▁▃▅▆▇▇███████████████████████████████</td></tr><tr><td>valid_loss</td><td>█▆▅▄▃▃▂▂▃▂▂▂▂▂▂▂▂▂▂▂▂▂▂▁▂▂▁▁▁▂▂▂▁▁▁▁▁▁▁▁</td></tr><tr><td>valid_acc</td><td>▁▁▁▁▄▅▆▇▇██▇████████████████████████████</td></tr><tr><td>lr</td><td>▁▁▁▁▁▁▁▁▁▁▁▁▁▁▁▁▁▁▁▁▁▁▁▁▁▁▁▁▁▁▁▁▁▁▁▁▁▁▁▁</td></tr><tr><td>epoch_time</td><td>▄▄▄▄█▅▄▄▄▃▃▅▄▄▄▅▆▂▂▃▃▄▄▄▄▃▄▄▄▃▃▂▂▃▂▄▂▁▄▁</td></tr><tr><td>_runtime</td><td>▁▁▁▁▂▂▂▂▃▃▃▃▃▃▃▄▄▄▄▅▅▅▅▅▅▅▆▆▆▆▇▇▇▇▇▇▇▇██</td></tr><tr><td>_timestamp</td><td>▁▁▁▁▂▂▂▂▃▃▃▃▃▃▃▄▄▄▄▅▅▅▅▅▅▅▆▆▆▆▇▇▇▇▇▇▇▇██</td></tr><tr><td>_step</td><td>▁▁▁▁▂▂▂▂▂▃▃▃▃▃▃▄▄▄▄▄▅▅▅▅▅▅▆▆▆▆▆▇▇▇▇▇▇███</td></tr></table><br/>"
      ],
      "text/plain": [
       "<IPython.core.display.HTML object>"
      ]
     },
     "metadata": {},
     "output_type": "display_data"
    },
    {
     "data": {
      "text/html": [
       "Synced 5 W&B file(s), 0 media file(s), 0 artifact file(s) and 0 other file(s)"
      ],
      "text/plain": [
       "<IPython.core.display.HTML object>"
      ]
     },
     "metadata": {},
     "output_type": "display_data"
    },
    {
     "data": {
      "text/html": [
       "\n",
       "                    <br/>Synced <strong style=\"color:#cdcd00\">youthful-sweep-65</strong>: <a href=\"https://wandb.ai/teamtom/churn-class-imbalance-with-treshold01/runs/zp5qypqu\" target=\"_blank\">https://wandb.ai/teamtom/churn-class-imbalance-with-treshold01/runs/zp5qypqu</a><br/>\n",
       "                "
      ],
      "text/plain": [
       "<IPython.core.display.HTML object>"
      ]
     },
     "metadata": {},
     "output_type": "display_data"
    },
    {
     "name": "stderr",
     "output_type": "stream",
     "text": [
      "wandb: Agent Starting Run: c55gml14 with config:\n",
      "wandb: \tbatch_size: 32\n",
      "wandb: \tepochs: 100\n",
      "wandb: \tlearning_rate: 0.0001\n",
      "wandb: \tthreshold: 0.2789473684210526\n",
      "wandb: wandb version 0.12.3 is available!  To upgrade, please run:\n",
      "wandb:  $ pip install wandb --upgrade\n"
     ]
    },
    {
     "data": {
      "text/html": [
       "\n",
       "                Tracking run with wandb version 0.10.31<br/>\n",
       "                Syncing run <strong style=\"color:#cdcd00\">bright-sweep-66</strong> to <a href=\"https://wandb.ai\" target=\"_blank\">Weights & Biases</a> <a href=\"https://docs.wandb.com/integrations/jupyter.html\" target=\"_blank\">(Documentation)</a>.<br/>\n",
       "                Project page: <a href=\"https://wandb.ai/teamtom/churn-class-imbalance-with-treshold01\" target=\"_blank\">https://wandb.ai/teamtom/churn-class-imbalance-with-treshold01</a><br/>\n",
       "                Sweep page: <a href=\"https://wandb.ai/teamtom/churn-class-imbalance-with-treshold01/sweeps/d22sfkpk\" target=\"_blank\">https://wandb.ai/teamtom/churn-class-imbalance-with-treshold01/sweeps/d22sfkpk</a><br/>\n",
       "Run page: <a href=\"https://wandb.ai/teamtom/churn-class-imbalance-with-treshold01/runs/c55gml14\" target=\"_blank\">https://wandb.ai/teamtom/churn-class-imbalance-with-treshold01/runs/c55gml14</a><br/>\n",
       "                Run data is saved locally in <code>c:\\python\\anaconda_base\\pytorch-tutorial\\wandb\\run-20211003_222715-c55gml14</code><br/><br/>\n",
       "            "
      ],
      "text/plain": [
       "<IPython.core.display.HTML object>"
      ]
     },
     "metadata": {},
     "output_type": "display_data"
    },
    {
     "name": "stdout",
     "output_type": "stream",
     "text": [
      "dataset size: 10000\n",
      "dataset samples shape: torch.Size([10000, 9])\n",
      "dataset classes shape: torch.Size([10000, 1])\n",
      "| Epoch: 0010 | Train Loss: 0.522 | Train Acc: 50.04% | Val. Loss: 0.515 | Val. Acc: 52.37% |\n",
      "| Epoch: 0020 | Train Loss: 0.499 | Train Acc: 70.41% | Val. Loss: 0.488 | Val. Acc: 70.37% |\n",
      "| Epoch: 0030 | Train Loss: 0.497 | Train Acc: 72.63% | Val. Loss: 0.488 | Val. Acc: 72.31% |\n",
      "| Epoch: 0040 | Train Loss: 0.490 | Train Acc: 73.02% | Val. Loss: 0.483 | Val. Acc: 73.06% |\n",
      "| Epoch: 0050 | Train Loss: 0.487 | Train Acc: 72.85% | Val. Loss: 0.483 | Val. Acc: 71.98% |\n",
      "| Epoch: 0060 | Train Loss: 0.484 | Train Acc: 72.71% | Val. Loss: 0.471 | Val. Acc: 72.31% |\n",
      "| Epoch: 0070 | Train Loss: 0.481 | Train Acc: 72.70% | Val. Loss: 0.466 | Val. Acc: 72.95% |\n",
      "| Epoch: 0080 | Train Loss: 0.478 | Train Acc: 72.93% | Val. Loss: 0.472 | Val. Acc: 73.17% |\n",
      "| Epoch: 0090 | Train Loss: 0.475 | Train Acc: 73.14% | Val. Loss: 0.458 | Val. Acc: 73.81% |\n",
      "| Epoch: 0100 | Train Loss: 0.473 | Train Acc: 73.25% | Val. Loss: 0.460 | Val. Acc: 73.06% |\n"
     ]
    },
    {
     "data": {
      "text/html": [
       "<br/>Waiting for W&B process to finish, PID 22236<br/>Program ended successfully."
      ],
      "text/plain": [
       "<IPython.core.display.HTML object>"
      ]
     },
     "metadata": {},
     "output_type": "display_data"
    },
    {
     "data": {
      "application/vnd.jupyter.widget-view+json": {
       "model_id": "d1351492a5434fd488b61b6b284eb238",
       "version_major": 2,
       "version_minor": 0
      },
      "text/plain": [
       "VBox(children=(Label(value=' 0.00MB of 0.00MB uploaded (0.00MB deduped)\\r'), FloatProgress(value=1.0, max=1.0)…"
      ]
     },
     "metadata": {},
     "output_type": "display_data"
    },
    {
     "data": {
      "text/html": [
       "Find user logs for this run at: <code>c:\\python\\anaconda_base\\pytorch-tutorial\\wandb\\run-20211003_222715-c55gml14\\logs\\debug.log</code>"
      ],
      "text/plain": [
       "<IPython.core.display.HTML object>"
      ]
     },
     "metadata": {},
     "output_type": "display_data"
    },
    {
     "data": {
      "text/html": [
       "Find internal logs for this run at: <code>c:\\python\\anaconda_base\\pytorch-tutorial\\wandb\\run-20211003_222715-c55gml14\\logs\\debug-internal.log</code>"
      ],
      "text/plain": [
       "<IPython.core.display.HTML object>"
      ]
     },
     "metadata": {},
     "output_type": "display_data"
    },
    {
     "data": {
      "text/html": [
       "<h3>Run summary:</h3><br/><style>\n",
       "    table.wandb td:nth-child(1) { padding: 0 10px; text-align: right }\n",
       "    </style><table class=\"wandb\">\n",
       "<tr><td>train_loss</td><td>0.47302</td></tr><tr><td>train_acc</td><td>0.73253</td></tr><tr><td>valid_loss</td><td>0.45987</td></tr><tr><td>valid_acc</td><td>0.7306</td></tr><tr><td>lr</td><td>0.0001</td></tr><tr><td>epoch_time</td><td>0.19</td></tr><tr><td>_runtime</td><td>29</td></tr><tr><td>_timestamp</td><td>1633292864</td></tr><tr><td>_step</td><td>99</td></tr><tr><td>accuracy</td><td>0.734</td></tr><tr><td>prec</td><td>0.36522</td></tr><tr><td>recall</td><td>0.41176</td></tr><tr><td>f1</td><td>0.3871</td></tr></table>"
      ],
      "text/plain": [
       "<IPython.core.display.HTML object>"
      ]
     },
     "metadata": {},
     "output_type": "display_data"
    },
    {
     "data": {
      "text/html": [
       "<h3>Run history:</h3><br/><style>\n",
       "    table.wandb td:nth-child(1) { padding: 0 10px; text-align: right }\n",
       "    </style><table class=\"wandb\">\n",
       "<tr><td>train_loss</td><td>█▆▄▃▃▂▂▂▂▂▂▂▂▂▂▂▂▂▂▂▁▁▁▁▁▁▁▁▁▁▁▁▁▁▁▁▁▁▁▁</td></tr><tr><td>train_acc</td><td>▁▁▂▄▆▆▇▇████████████████████████████████</td></tr><tr><td>valid_loss</td><td>█▆▄▃▃▃▂▂▂▂▂▂▂▂▂▂▂▂▂▂▂▂▂▁▂▁▂▁▁▁▁▁▂▂▁▁▁▁▁▁</td></tr><tr><td>valid_acc</td><td>▁▁▂▄▆▆▇▇████████████████████████████████</td></tr><tr><td>lr</td><td>▁▁▁▁▁▁▁▁▁▁▁▁▁▁▁▁▁▁▁▁▁▁▁▁▁▁▁▁▁▁▁▁▁▁▁▁▁▁▁▁</td></tr><tr><td>epoch_time</td><td>▃▃▃▃█▄▂▂▁▁▃▃▃▃▃▃▃▃▃▃▃▃▃▃▆▄▃▄▂▁▁▂▂▂▁▁▂▁▁▁</td></tr><tr><td>_runtime</td><td>▁▁▂▂▂▂▂▃▃▃▃▃▃▄▄▄▄▄▄▅▅▅▅▅▆▆▆▆▆▇▇▇▇▇▇▇████</td></tr><tr><td>_timestamp</td><td>▁▁▂▂▂▂▂▃▃▃▃▃▃▄▄▄▄▄▄▅▅▅▅▅▆▆▆▆▆▇▇▇▇▇▇▇████</td></tr><tr><td>_step</td><td>▁▁▁▁▂▂▂▂▂▃▃▃▃▃▃▄▄▄▄▄▅▅▅▅▅▅▆▆▆▆▆▇▇▇▇▇▇███</td></tr></table><br/>"
      ],
      "text/plain": [
       "<IPython.core.display.HTML object>"
      ]
     },
     "metadata": {},
     "output_type": "display_data"
    },
    {
     "data": {
      "text/html": [
       "Synced 5 W&B file(s), 0 media file(s), 0 artifact file(s) and 0 other file(s)"
      ],
      "text/plain": [
       "<IPython.core.display.HTML object>"
      ]
     },
     "metadata": {},
     "output_type": "display_data"
    },
    {
     "data": {
      "text/html": [
       "\n",
       "                    <br/>Synced <strong style=\"color:#cdcd00\">bright-sweep-66</strong>: <a href=\"https://wandb.ai/teamtom/churn-class-imbalance-with-treshold01/runs/c55gml14\" target=\"_blank\">https://wandb.ai/teamtom/churn-class-imbalance-with-treshold01/runs/c55gml14</a><br/>\n",
       "                "
      ],
      "text/plain": [
       "<IPython.core.display.HTML object>"
      ]
     },
     "metadata": {},
     "output_type": "display_data"
    },
    {
     "name": "stderr",
     "output_type": "stream",
     "text": [
      "wandb: Agent Starting Run: b63ztpml with config:\n",
      "wandb: \tbatch_size: 32\n",
      "wandb: \tepochs: 100\n",
      "wandb: \tlearning_rate: 0.0001\n",
      "wandb: \tthreshold: 0.2947368421052632\n",
      "wandb: wandb version 0.12.3 is available!  To upgrade, please run:\n",
      "wandb:  $ pip install wandb --upgrade\n"
     ]
    },
    {
     "data": {
      "text/html": [
       "\n",
       "                Tracking run with wandb version 0.10.31<br/>\n",
       "                Syncing run <strong style=\"color:#cdcd00\">crimson-sweep-67</strong> to <a href=\"https://wandb.ai\" target=\"_blank\">Weights & Biases</a> <a href=\"https://docs.wandb.com/integrations/jupyter.html\" target=\"_blank\">(Documentation)</a>.<br/>\n",
       "                Project page: <a href=\"https://wandb.ai/teamtom/churn-class-imbalance-with-treshold01\" target=\"_blank\">https://wandb.ai/teamtom/churn-class-imbalance-with-treshold01</a><br/>\n",
       "                Sweep page: <a href=\"https://wandb.ai/teamtom/churn-class-imbalance-with-treshold01/sweeps/d22sfkpk\" target=\"_blank\">https://wandb.ai/teamtom/churn-class-imbalance-with-treshold01/sweeps/d22sfkpk</a><br/>\n",
       "Run page: <a href=\"https://wandb.ai/teamtom/churn-class-imbalance-with-treshold01/runs/b63ztpml\" target=\"_blank\">https://wandb.ai/teamtom/churn-class-imbalance-with-treshold01/runs/b63ztpml</a><br/>\n",
       "                Run data is saved locally in <code>c:\\python\\anaconda_base\\pytorch-tutorial\\wandb\\run-20211003_222750-b63ztpml</code><br/><br/>\n",
       "            "
      ],
      "text/plain": [
       "<IPython.core.display.HTML object>"
      ]
     },
     "metadata": {},
     "output_type": "display_data"
    },
    {
     "name": "stdout",
     "output_type": "stream",
     "text": [
      "dataset size: 10000\n",
      "dataset samples shape: torch.Size([10000, 9])\n",
      "dataset classes shape: torch.Size([10000, 1])\n",
      "| Epoch: 0010 | Train Loss: 0.504 | Train Acc: 73.99% | Val. Loss: 0.505 | Val. Acc: 72.95% |\n",
      "| Epoch: 0020 | Train Loss: 0.494 | Train Acc: 77.77% | Val. Loss: 0.504 | Val. Acc: 75.75% |\n",
      "| Epoch: 0030 | Train Loss: 0.487 | Train Acc: 78.43% | Val. Loss: 0.486 | Val. Acc: 76.51% |\n",
      "| Epoch: 0040 | Train Loss: 0.484 | Train Acc: 77.97% | Val. Loss: 0.487 | Val. Acc: 76.72% |\n",
      "| Epoch: 0050 | Train Loss: 0.479 | Train Acc: 77.84% | Val. Loss: 0.490 | Val. Acc: 76.51% |\n",
      "| Epoch: 0060 | Train Loss: 0.480 | Train Acc: 77.56% | Val. Loss: 0.472 | Val. Acc: 77.69% |\n",
      "| Epoch: 0070 | Train Loss: 0.475 | Train Acc: 77.29% | Val. Loss: 0.466 | Val. Acc: 77.48% |\n",
      "| Epoch: 0080 | Train Loss: 0.472 | Train Acc: 76.92% | Val. Loss: 0.482 | Val. Acc: 75.97% |\n",
      "| Epoch: 0090 | Train Loss: 0.469 | Train Acc: 76.72% | Val. Loss: 0.476 | Val. Acc: 75.43% |\n",
      "| Epoch: 0100 | Train Loss: 0.468 | Train Acc: 76.59% | Val. Loss: 0.468 | Val. Acc: 76.40% |\n"
     ]
    },
    {
     "data": {
      "text/html": [
       "<br/>Waiting for W&B process to finish, PID 18112<br/>Program ended successfully."
      ],
      "text/plain": [
       "<IPython.core.display.HTML object>"
      ]
     },
     "metadata": {},
     "output_type": "display_data"
    },
    {
     "data": {
      "application/vnd.jupyter.widget-view+json": {
       "model_id": "4bc2a67059214ac2ab7b55f4b1b31497",
       "version_major": 2,
       "version_minor": 0
      },
      "text/plain": [
       "VBox(children=(Label(value=' 0.00MB of 0.00MB uploaded (0.00MB deduped)\\r'), FloatProgress(value=1.0, max=1.0)…"
      ]
     },
     "metadata": {},
     "output_type": "display_data"
    },
    {
     "data": {
      "text/html": [
       "Find user logs for this run at: <code>c:\\python\\anaconda_base\\pytorch-tutorial\\wandb\\run-20211003_222750-b63ztpml\\logs\\debug.log</code>"
      ],
      "text/plain": [
       "<IPython.core.display.HTML object>"
      ]
     },
     "metadata": {},
     "output_type": "display_data"
    },
    {
     "data": {
      "text/html": [
       "Find internal logs for this run at: <code>c:\\python\\anaconda_base\\pytorch-tutorial\\wandb\\run-20211003_222750-b63ztpml\\logs\\debug-internal.log</code>"
      ],
      "text/plain": [
       "<IPython.core.display.HTML object>"
      ]
     },
     "metadata": {},
     "output_type": "display_data"
    },
    {
     "data": {
      "text/html": [
       "<h3>Run summary:</h3><br/><style>\n",
       "    table.wandb td:nth-child(1) { padding: 0 10px; text-align: right }\n",
       "    </style><table class=\"wandb\">\n",
       "<tr><td>train_loss</td><td>0.46805</td></tr><tr><td>train_acc</td><td>0.76587</td></tr><tr><td>valid_loss</td><td>0.46821</td></tr><tr><td>valid_acc</td><td>0.76401</td></tr><tr><td>lr</td><td>0.0001</td></tr><tr><td>epoch_time</td><td>0.23496</td></tr><tr><td>_runtime</td><td>29</td></tr><tr><td>_timestamp</td><td>1633292899</td></tr><tr><td>_step</td><td>99</td></tr><tr><td>accuracy</td><td>0.782</td></tr><tr><td>prec</td><td>0.4593</td></tr><tr><td>recall</td><td>0.38725</td></tr><tr><td>f1</td><td>0.42021</td></tr></table>"
      ],
      "text/plain": [
       "<IPython.core.display.HTML object>"
      ]
     },
     "metadata": {},
     "output_type": "display_data"
    },
    {
     "data": {
      "text/html": [
       "<h3>Run history:</h3><br/><style>\n",
       "    table.wandb td:nth-child(1) { padding: 0 10px; text-align: right }\n",
       "    </style><table class=\"wandb\">\n",
       "<tr><td>train_loss</td><td>█▆▄▄▃▃▃▃▃▃▂▂▂▂▂▂▂▂▂▂▂▂▂▂▂▂▂▂▁▁▁▁▁▁▁▁▁▁▁▁</td></tr><tr><td>train_acc</td><td>▁▂▆▇████████████████████████████████████</td></tr><tr><td>valid_loss</td><td>█▆▅▄▅▃▄▃▃▃▂▂▃▃▃▂▂▂▂▂▂▂▂▂▂▁▂▁▂▂▁▁▁▁▂▁▁▁▂▂</td></tr><tr><td>valid_acc</td><td>▁▃▆▇▇███████████████████████████████████</td></tr><tr><td>lr</td><td>▁▁▁▁▁▁▁▁▁▁▁▁▁▁▁▁▁▁▁▁▁▁▁▁▁▁▁▁▁▁▁▁▁▁▁▁▁▁▁▁</td></tr><tr><td>epoch_time</td><td>▆▅▃▄█▄▅▄▅▅▅▄▅▄▃▅▄▅▆▅▅▅▆▆▅▅▂▁▃▄▂▃▆▁▂▁▃▃▃▃</td></tr><tr><td>_runtime</td><td>▁▁▁▂▂▂▂▂▃▃▃▃▃▃▄▄▄▄▄▅▅▅▅▅▆▆▆▆▆▆▇▇▇▇▇▇▇▇██</td></tr><tr><td>_timestamp</td><td>▁▁▁▂▂▂▂▂▃▃▃▃▃▃▄▄▄▄▄▅▅▅▅▅▆▆▆▆▆▆▇▇▇▇▇▇▇▇██</td></tr><tr><td>_step</td><td>▁▁▁▁▂▂▂▂▂▃▃▃▃▃▃▄▄▄▄▄▅▅▅▅▅▅▆▆▆▆▆▇▇▇▇▇▇███</td></tr></table><br/>"
      ],
      "text/plain": [
       "<IPython.core.display.HTML object>"
      ]
     },
     "metadata": {},
     "output_type": "display_data"
    },
    {
     "data": {
      "text/html": [
       "Synced 5 W&B file(s), 0 media file(s), 0 artifact file(s) and 0 other file(s)"
      ],
      "text/plain": [
       "<IPython.core.display.HTML object>"
      ]
     },
     "metadata": {},
     "output_type": "display_data"
    },
    {
     "data": {
      "text/html": [
       "\n",
       "                    <br/>Synced <strong style=\"color:#cdcd00\">crimson-sweep-67</strong>: <a href=\"https://wandb.ai/teamtom/churn-class-imbalance-with-treshold01/runs/b63ztpml\" target=\"_blank\">https://wandb.ai/teamtom/churn-class-imbalance-with-treshold01/runs/b63ztpml</a><br/>\n",
       "                "
      ],
      "text/plain": [
       "<IPython.core.display.HTML object>"
      ]
     },
     "metadata": {},
     "output_type": "display_data"
    },
    {
     "name": "stderr",
     "output_type": "stream",
     "text": [
      "wandb: Agent Starting Run: y2x5jz8w with config:\n",
      "wandb: \tbatch_size: 32\n",
      "wandb: \tepochs: 100\n",
      "wandb: \tlearning_rate: 0.0001\n",
      "wandb: \tthreshold: 0.3105263157894737\n",
      "wandb: wandb version 0.12.3 is available!  To upgrade, please run:\n",
      "wandb:  $ pip install wandb --upgrade\n"
     ]
    },
    {
     "data": {
      "text/html": [
       "\n",
       "                Tracking run with wandb version 0.10.31<br/>\n",
       "                Syncing run <strong style=\"color:#cdcd00\">effortless-sweep-68</strong> to <a href=\"https://wandb.ai\" target=\"_blank\">Weights & Biases</a> <a href=\"https://docs.wandb.com/integrations/jupyter.html\" target=\"_blank\">(Documentation)</a>.<br/>\n",
       "                Project page: <a href=\"https://wandb.ai/teamtom/churn-class-imbalance-with-treshold01\" target=\"_blank\">https://wandb.ai/teamtom/churn-class-imbalance-with-treshold01</a><br/>\n",
       "                Sweep page: <a href=\"https://wandb.ai/teamtom/churn-class-imbalance-with-treshold01/sweeps/d22sfkpk\" target=\"_blank\">https://wandb.ai/teamtom/churn-class-imbalance-with-treshold01/sweeps/d22sfkpk</a><br/>\n",
       "Run page: <a href=\"https://wandb.ai/teamtom/churn-class-imbalance-with-treshold01/runs/y2x5jz8w\" target=\"_blank\">https://wandb.ai/teamtom/churn-class-imbalance-with-treshold01/runs/y2x5jz8w</a><br/>\n",
       "                Run data is saved locally in <code>c:\\python\\anaconda_base\\pytorch-tutorial\\wandb\\run-20211003_222824-y2x5jz8w</code><br/><br/>\n",
       "            "
      ],
      "text/plain": [
       "<IPython.core.display.HTML object>"
      ]
     },
     "metadata": {},
     "output_type": "display_data"
    },
    {
     "name": "stdout",
     "output_type": "stream",
     "text": [
      "dataset size: 10000\n",
      "dataset samples shape: torch.Size([10000, 9])\n",
      "dataset classes shape: torch.Size([10000, 1])\n",
      "| Epoch: 0010 | Train Loss: 0.512 | Train Acc: 64.80% | Val. Loss: 0.509 | Val. Acc: 66.16% |\n",
      "| Epoch: 0020 | Train Loss: 0.489 | Train Acc: 76.13% | Val. Loss: 0.481 | Val. Acc: 76.62% |\n",
      "| Epoch: 0030 | Train Loss: 0.483 | Train Acc: 77.65% | Val. Loss: 0.466 | Val. Acc: 78.02% |\n",
      "| Epoch: 0040 | Train Loss: 0.482 | Train Acc: 77.44% | Val. Loss: 0.463 | Val. Acc: 78.02% |\n",
      "| Epoch: 0050 | Train Loss: 0.478 | Train Acc: 77.18% | Val. Loss: 0.473 | Val. Acc: 76.51% |\n",
      "| Epoch: 0060 | Train Loss: 0.475 | Train Acc: 77.18% | Val. Loss: 0.458 | Val. Acc: 78.23% |\n",
      "| Epoch: 0070 | Train Loss: 0.474 | Train Acc: 77.10% | Val. Loss: 0.474 | Val. Acc: 77.59% |\n",
      "| Epoch: 0080 | Train Loss: 0.473 | Train Acc: 77.18% | Val. Loss: 0.466 | Val. Acc: 76.40% |\n",
      "| Epoch: 0090 | Train Loss: 0.469 | Train Acc: 77.21% | Val. Loss: 0.452 | Val. Acc: 77.80% |\n",
      "| Epoch: 0100 | Train Loss: 0.467 | Train Acc: 77.24% | Val. Loss: 0.456 | Val. Acc: 77.05% |\n"
     ]
    },
    {
     "data": {
      "text/html": [
       "<br/>Waiting for W&B process to finish, PID 7792<br/>Program ended successfully."
      ],
      "text/plain": [
       "<IPython.core.display.HTML object>"
      ]
     },
     "metadata": {},
     "output_type": "display_data"
    },
    {
     "data": {
      "application/vnd.jupyter.widget-view+json": {
       "model_id": "a9219ebdb33341ff9482c9861c6ab694",
       "version_major": 2,
       "version_minor": 0
      },
      "text/plain": [
       "VBox(children=(Label(value=' 0.00MB of 0.00MB uploaded (0.00MB deduped)\\r'), FloatProgress(value=1.0, max=1.0)…"
      ]
     },
     "metadata": {},
     "output_type": "display_data"
    },
    {
     "data": {
      "text/html": [
       "Find user logs for this run at: <code>c:\\python\\anaconda_base\\pytorch-tutorial\\wandb\\run-20211003_222824-y2x5jz8w\\logs\\debug.log</code>"
      ],
      "text/plain": [
       "<IPython.core.display.HTML object>"
      ]
     },
     "metadata": {},
     "output_type": "display_data"
    },
    {
     "data": {
      "text/html": [
       "Find internal logs for this run at: <code>c:\\python\\anaconda_base\\pytorch-tutorial\\wandb\\run-20211003_222824-y2x5jz8w\\logs\\debug-internal.log</code>"
      ],
      "text/plain": [
       "<IPython.core.display.HTML object>"
      ]
     },
     "metadata": {},
     "output_type": "display_data"
    },
    {
     "data": {
      "text/html": [
       "<h3>Run summary:</h3><br/><style>\n",
       "    table.wandb td:nth-child(1) { padding: 0 10px; text-align: right }\n",
       "    </style><table class=\"wandb\">\n",
       "<tr><td>train_loss</td><td>0.46709</td></tr><tr><td>train_acc</td><td>0.77239</td></tr><tr><td>valid_loss</td><td>0.45645</td></tr><tr><td>valid_acc</td><td>0.77047</td></tr><tr><td>lr</td><td>0.0001</td></tr><tr><td>epoch_time</td><td>0.18599</td></tr><tr><td>_runtime</td><td>31</td></tr><tr><td>_timestamp</td><td>1633292936</td></tr><tr><td>_step</td><td>99</td></tr><tr><td>accuracy</td><td>0.787</td></tr><tr><td>prec</td><td>0.46897</td></tr><tr><td>recall</td><td>0.33333</td></tr><tr><td>f1</td><td>0.38968</td></tr></table>"
      ],
      "text/plain": [
       "<IPython.core.display.HTML object>"
      ]
     },
     "metadata": {},
     "output_type": "display_data"
    },
    {
     "data": {
      "text/html": [
       "<h3>Run history:</h3><br/><style>\n",
       "    table.wandb td:nth-child(1) { padding: 0 10px; text-align: right }\n",
       "    </style><table class=\"wandb\">\n",
       "<tr><td>train_loss</td><td>█▆▄▃▂▂▂▂▂▂▂▂▂▂▁▁▁▁▁▁▁▁▁▁▁▁▁▁▁▁▁▁▁▁▁▁▁▁▁▁</td></tr><tr><td>train_acc</td><td>▁▁▃▄▇▇▇█████████████████████████████████</td></tr><tr><td>valid_loss</td><td>█▆▄▄▂▃▂▂▂▃▂▂▂▂▂▂▂▁▁▂▂▂▁▂▂▂▁▂▁▂▂▂▁▁▁▂▂▁▁▁</td></tr><tr><td>valid_acc</td><td>▁▁▄▅▇▇██████████████████████████████████</td></tr><tr><td>lr</td><td>▁▁▁▁▁▁▁▁▁▁▁▁▁▁▁▁▁▁▁▁▁▁▁▁▁▁▁▁▁▁▁▁▁▁▁▁▁▁▁▁</td></tr><tr><td>epoch_time</td><td>█▇▆▅▆▇▇▆▆▇▆▇▅▂▄▇▇▅▆▅▅▇▆▆▄▃▂▇▇▄▂▂▃▁▂▃▃▂▂▂</td></tr><tr><td>_runtime</td><td>▁▁▁▂▂▂▂▂▃▃▃▃▃▄▄▄▄▄▅▅▅▅▅▆▆▆▆▆▆▇▇▇▇▇▇▇████</td></tr><tr><td>_timestamp</td><td>▁▁▁▂▂▂▂▂▃▃▃▃▃▄▄▄▄▄▅▅▅▅▅▆▆▆▆▆▆▇▇▇▇▇▇▇████</td></tr><tr><td>_step</td><td>▁▁▁▁▂▂▂▂▂▃▃▃▃▃▃▄▄▄▄▄▅▅▅▅▅▅▆▆▆▆▆▇▇▇▇▇▇███</td></tr></table><br/>"
      ],
      "text/plain": [
       "<IPython.core.display.HTML object>"
      ]
     },
     "metadata": {},
     "output_type": "display_data"
    },
    {
     "data": {
      "text/html": [
       "Synced 5 W&B file(s), 0 media file(s), 0 artifact file(s) and 0 other file(s)"
      ],
      "text/plain": [
       "<IPython.core.display.HTML object>"
      ]
     },
     "metadata": {},
     "output_type": "display_data"
    },
    {
     "data": {
      "text/html": [
       "\n",
       "                    <br/>Synced <strong style=\"color:#cdcd00\">effortless-sweep-68</strong>: <a href=\"https://wandb.ai/teamtom/churn-class-imbalance-with-treshold01/runs/y2x5jz8w\" target=\"_blank\">https://wandb.ai/teamtom/churn-class-imbalance-with-treshold01/runs/y2x5jz8w</a><br/>\n",
       "                "
      ],
      "text/plain": [
       "<IPython.core.display.HTML object>"
      ]
     },
     "metadata": {},
     "output_type": "display_data"
    },
    {
     "name": "stderr",
     "output_type": "stream",
     "text": [
      "wandb: Agent Starting Run: pgep1ves with config:\n",
      "wandb: \tbatch_size: 32\n",
      "wandb: \tepochs: 100\n",
      "wandb: \tlearning_rate: 0.0001\n",
      "wandb: \tthreshold: 0.3263157894736842\n",
      "wandb: wandb version 0.12.3 is available!  To upgrade, please run:\n",
      "wandb:  $ pip install wandb --upgrade\n"
     ]
    },
    {
     "data": {
      "text/html": [
       "\n",
       "                Tracking run with wandb version 0.10.31<br/>\n",
       "                Syncing run <strong style=\"color:#cdcd00\">ancient-sweep-69</strong> to <a href=\"https://wandb.ai\" target=\"_blank\">Weights & Biases</a> <a href=\"https://docs.wandb.com/integrations/jupyter.html\" target=\"_blank\">(Documentation)</a>.<br/>\n",
       "                Project page: <a href=\"https://wandb.ai/teamtom/churn-class-imbalance-with-treshold01\" target=\"_blank\">https://wandb.ai/teamtom/churn-class-imbalance-with-treshold01</a><br/>\n",
       "                Sweep page: <a href=\"https://wandb.ai/teamtom/churn-class-imbalance-with-treshold01/sweeps/d22sfkpk\" target=\"_blank\">https://wandb.ai/teamtom/churn-class-imbalance-with-treshold01/sweeps/d22sfkpk</a><br/>\n",
       "Run page: <a href=\"https://wandb.ai/teamtom/churn-class-imbalance-with-treshold01/runs/pgep1ves\" target=\"_blank\">https://wandb.ai/teamtom/churn-class-imbalance-with-treshold01/runs/pgep1ves</a><br/>\n",
       "                Run data is saved locally in <code>c:\\python\\anaconda_base\\pytorch-tutorial\\wandb\\run-20211003_222903-pgep1ves</code><br/><br/>\n",
       "            "
      ],
      "text/plain": [
       "<IPython.core.display.HTML object>"
      ]
     },
     "metadata": {},
     "output_type": "display_data"
    },
    {
     "name": "stdout",
     "output_type": "stream",
     "text": [
      "dataset size: 10000\n",
      "dataset samples shape: torch.Size([10000, 9])\n",
      "dataset classes shape: torch.Size([10000, 1])\n",
      "| Epoch: 0010 | Train Loss: 0.615 | Train Acc: 20.51% | Val. Loss: 0.606 | Val. Acc: 21.01% |\n",
      "| Epoch: 0020 | Train Loss: 0.512 | Train Acc: 71.63% | Val. Loss: 0.509 | Val. Acc: 71.34% |\n",
      "| Epoch: 0030 | Train Loss: 0.499 | Train Acc: 78.00% | Val. Loss: 0.515 | Val. Acc: 76.51% |\n",
      "| Epoch: 0040 | Train Loss: 0.495 | Train Acc: 77.95% | Val. Loss: 0.479 | Val. Acc: 78.77% |\n",
      "| Epoch: 0050 | Train Loss: 0.489 | Train Acc: 77.97% | Val. Loss: 0.474 | Val. Acc: 78.02% |\n",
      "| Epoch: 0060 | Train Loss: 0.486 | Train Acc: 77.83% | Val. Loss: 0.471 | Val. Acc: 78.56% |\n",
      "| Epoch: 0070 | Train Loss: 0.484 | Train Acc: 77.67% | Val. Loss: 0.467 | Val. Acc: 77.80% |\n",
      "| Epoch: 0080 | Train Loss: 0.483 | Train Acc: 77.60% | Val. Loss: 0.474 | Val. Acc: 77.37% |\n",
      "| Epoch: 0090 | Train Loss: 0.480 | Train Acc: 77.47% | Val. Loss: 0.487 | Val. Acc: 76.62% |\n",
      "| Epoch: 0100 | Train Loss: 0.477 | Train Acc: 77.36% | Val. Loss: 0.460 | Val. Acc: 77.80% |\n"
     ]
    },
    {
     "data": {
      "text/html": [
       "<br/>Waiting for W&B process to finish, PID 24828<br/>Program ended successfully."
      ],
      "text/plain": [
       "<IPython.core.display.HTML object>"
      ]
     },
     "metadata": {},
     "output_type": "display_data"
    },
    {
     "data": {
      "application/vnd.jupyter.widget-view+json": {
       "model_id": "ae6d521e5229415591ac5f3ed0661b55",
       "version_major": 2,
       "version_minor": 0
      },
      "text/plain": [
       "VBox(children=(Label(value=' 0.00MB of 0.00MB uploaded (0.00MB deduped)\\r'), FloatProgress(value=1.0, max=1.0)…"
      ]
     },
     "metadata": {},
     "output_type": "display_data"
    },
    {
     "data": {
      "text/html": [
       "Find user logs for this run at: <code>c:\\python\\anaconda_base\\pytorch-tutorial\\wandb\\run-20211003_222903-pgep1ves\\logs\\debug.log</code>"
      ],
      "text/plain": [
       "<IPython.core.display.HTML object>"
      ]
     },
     "metadata": {},
     "output_type": "display_data"
    },
    {
     "data": {
      "text/html": [
       "Find internal logs for this run at: <code>c:\\python\\anaconda_base\\pytorch-tutorial\\wandb\\run-20211003_222903-pgep1ves\\logs\\debug-internal.log</code>"
      ],
      "text/plain": [
       "<IPython.core.display.HTML object>"
      ]
     },
     "metadata": {},
     "output_type": "display_data"
    },
    {
     "data": {
      "text/html": [
       "<h3>Run summary:</h3><br/><style>\n",
       "    table.wandb td:nth-child(1) { padding: 0 10px; text-align: right }\n",
       "    </style><table class=\"wandb\">\n",
       "<tr><td>train_loss</td><td>0.47715</td></tr><tr><td>train_acc</td><td>0.77362</td></tr><tr><td>valid_loss</td><td>0.45978</td></tr><tr><td>valid_acc</td><td>0.77802</td></tr><tr><td>lr</td><td>0.0001</td></tr><tr><td>epoch_time</td><td>0.22645</td></tr><tr><td>_runtime</td><td>32</td></tr><tr><td>_timestamp</td><td>1633292975</td></tr><tr><td>_step</td><td>99</td></tr><tr><td>accuracy</td><td>0.787</td></tr><tr><td>prec</td><td>0.46087</td></tr><tr><td>recall</td><td>0.2598</td></tr><tr><td>f1</td><td>0.33229</td></tr></table>"
      ],
      "text/plain": [
       "<IPython.core.display.HTML object>"
      ]
     },
     "metadata": {},
     "output_type": "display_data"
    },
    {
     "data": {
      "text/html": [
       "<h3>Run history:</h3><br/><style>\n",
       "    table.wandb td:nth-child(1) { padding: 0 10px; text-align: right }\n",
       "    </style><table class=\"wandb\">\n",
       "<tr><td>train_loss</td><td>█▆▅▄▃▂▂▂▁▁▁▁▁▁▁▁▁▁▁▁▁▁▁▁▁▁▁▁▁▁▁▁▁▁▁▁▁▁▁▁</td></tr><tr><td>train_acc</td><td>▁▁▁▁▁▃▆▇▇███████████████████████████████</td></tr><tr><td>valid_loss</td><td>█▆▅▄▃▃▂▂▂▂▁▁▂▁▁▁▁▁▁▁▁▁▁▁▁▁▁▁▁▁▁▁▁▁▁▁▁▁▁▁</td></tr><tr><td>valid_acc</td><td>▁▁▁▁▁▃▆▆▇▇██████████████████████████████</td></tr><tr><td>lr</td><td>▁▁▁▁▁▁▁▁▁▁▁▁▁▁▁▁▁▁▁▁▁▁▁▁▁▁▁▁▁▁▁▁▁▁▁▁▁▁▁▁</td></tr><tr><td>epoch_time</td><td>▅▆▆▅▆▇▆█▄▅▄▅▆▆▇▅▆▆▅▄▇▆▇▆▇▆▁▂▃▃▃▂▂█▄▂▄▃▄▃</td></tr><tr><td>_runtime</td><td>▁▁▁▁▂▂▂▂▃▃▃▃▃▃▃▄▄▄▅▅▅▅▅▅▅▆▆▆▆▆▇▇▇▇▇▇▇███</td></tr><tr><td>_timestamp</td><td>▁▁▁▁▂▂▂▂▃▃▃▃▃▃▃▄▄▄▅▅▅▅▅▅▅▆▆▆▆▆▇▇▇▇▇▇▇███</td></tr><tr><td>_step</td><td>▁▁▁▁▂▂▂▂▂▃▃▃▃▃▃▄▄▄▄▄▅▅▅▅▅▅▆▆▆▆▆▇▇▇▇▇▇███</td></tr></table><br/>"
      ],
      "text/plain": [
       "<IPython.core.display.HTML object>"
      ]
     },
     "metadata": {},
     "output_type": "display_data"
    },
    {
     "data": {
      "text/html": [
       "Synced 5 W&B file(s), 0 media file(s), 0 artifact file(s) and 0 other file(s)"
      ],
      "text/plain": [
       "<IPython.core.display.HTML object>"
      ]
     },
     "metadata": {},
     "output_type": "display_data"
    },
    {
     "data": {
      "text/html": [
       "\n",
       "                    <br/>Synced <strong style=\"color:#cdcd00\">ancient-sweep-69</strong>: <a href=\"https://wandb.ai/teamtom/churn-class-imbalance-with-treshold01/runs/pgep1ves\" target=\"_blank\">https://wandb.ai/teamtom/churn-class-imbalance-with-treshold01/runs/pgep1ves</a><br/>\n",
       "                "
      ],
      "text/plain": [
       "<IPython.core.display.HTML object>"
      ]
     },
     "metadata": {},
     "output_type": "display_data"
    },
    {
     "name": "stderr",
     "output_type": "stream",
     "text": [
      "wandb: Agent Starting Run: s7zapatq with config:\n",
      "wandb: \tbatch_size: 32\n",
      "wandb: \tepochs: 100\n",
      "wandb: \tlearning_rate: 0.0001\n",
      "wandb: \tthreshold: 0.34210526315789475\n",
      "wandb: wandb version 0.12.3 is available!  To upgrade, please run:\n",
      "wandb:  $ pip install wandb --upgrade\n"
     ]
    },
    {
     "data": {
      "text/html": [
       "\n",
       "                Tracking run with wandb version 0.10.31<br/>\n",
       "                Syncing run <strong style=\"color:#cdcd00\">zany-sweep-70</strong> to <a href=\"https://wandb.ai\" target=\"_blank\">Weights & Biases</a> <a href=\"https://docs.wandb.com/integrations/jupyter.html\" target=\"_blank\">(Documentation)</a>.<br/>\n",
       "                Project page: <a href=\"https://wandb.ai/teamtom/churn-class-imbalance-with-treshold01\" target=\"_blank\">https://wandb.ai/teamtom/churn-class-imbalance-with-treshold01</a><br/>\n",
       "                Sweep page: <a href=\"https://wandb.ai/teamtom/churn-class-imbalance-with-treshold01/sweeps/d22sfkpk\" target=\"_blank\">https://wandb.ai/teamtom/churn-class-imbalance-with-treshold01/sweeps/d22sfkpk</a><br/>\n",
       "Run page: <a href=\"https://wandb.ai/teamtom/churn-class-imbalance-with-treshold01/runs/s7zapatq\" target=\"_blank\">https://wandb.ai/teamtom/churn-class-imbalance-with-treshold01/runs/s7zapatq</a><br/>\n",
       "                Run data is saved locally in <code>c:\\python\\anaconda_base\\pytorch-tutorial\\wandb\\run-20211003_222940-s7zapatq</code><br/><br/>\n",
       "            "
      ],
      "text/plain": [
       "<IPython.core.display.HTML object>"
      ]
     },
     "metadata": {},
     "output_type": "display_data"
    },
    {
     "name": "stdout",
     "output_type": "stream",
     "text": [
      "dataset size: 10000\n",
      "dataset samples shape: torch.Size([10000, 9])\n",
      "dataset classes shape: torch.Size([10000, 1])\n",
      "| Epoch: 0010 | Train Loss: 0.505 | Train Acc: 73.30% | Val. Loss: 0.493 | Val. Acc: 74.03% |\n",
      "| Epoch: 0020 | Train Loss: 0.493 | Train Acc: 77.94% | Val. Loss: 0.503 | Val. Acc: 75.54% |\n",
      "| Epoch: 0030 | Train Loss: 0.488 | Train Acc: 78.31% | Val. Loss: 0.484 | Val. Acc: 77.16% |\n",
      "| Epoch: 0040 | Train Loss: 0.483 | Train Acc: 78.44% | Val. Loss: 0.475 | Val. Acc: 77.48% |\n",
      "| Epoch: 0050 | Train Loss: 0.481 | Train Acc: 78.59% | Val. Loss: 0.466 | Val. Acc: 78.02% |\n",
      "| Epoch: 0060 | Train Loss: 0.480 | Train Acc: 78.88% | Val. Loss: 0.470 | Val. Acc: 77.59% |\n",
      "| Epoch: 0070 | Train Loss: 0.474 | Train Acc: 79.28% | Val. Loss: 0.467 | Val. Acc: 78.99% |\n",
      "| Epoch: 0080 | Train Loss: 0.473 | Train Acc: 79.33% | Val. Loss: 0.457 | Val. Acc: 80.17% |\n",
      "| Epoch: 0090 | Train Loss: 0.472 | Train Acc: 79.29% | Val. Loss: 0.461 | Val. Acc: 79.20% |\n",
      "| Epoch: 0100 | Train Loss: 0.468 | Train Acc: 79.38% | Val. Loss: 0.459 | Val. Acc: 79.31% |\n"
     ]
    },
    {
     "data": {
      "text/html": [
       "<br/>Waiting for W&B process to finish, PID 23728<br/>Program ended successfully."
      ],
      "text/plain": [
       "<IPython.core.display.HTML object>"
      ]
     },
     "metadata": {},
     "output_type": "display_data"
    },
    {
     "data": {
      "application/vnd.jupyter.widget-view+json": {
       "model_id": "bfecb433d5e94db598da29cb631f8a0d",
       "version_major": 2,
       "version_minor": 0
      },
      "text/plain": [
       "VBox(children=(Label(value=' 0.00MB of 0.00MB uploaded (0.00MB deduped)\\r'), FloatProgress(value=1.0, max=1.0)…"
      ]
     },
     "metadata": {},
     "output_type": "display_data"
    },
    {
     "data": {
      "text/html": [
       "Find user logs for this run at: <code>c:\\python\\anaconda_base\\pytorch-tutorial\\wandb\\run-20211003_222940-s7zapatq\\logs\\debug.log</code>"
      ],
      "text/plain": [
       "<IPython.core.display.HTML object>"
      ]
     },
     "metadata": {},
     "output_type": "display_data"
    },
    {
     "data": {
      "text/html": [
       "Find internal logs for this run at: <code>c:\\python\\anaconda_base\\pytorch-tutorial\\wandb\\run-20211003_222940-s7zapatq\\logs\\debug-internal.log</code>"
      ],
      "text/plain": [
       "<IPython.core.display.HTML object>"
      ]
     },
     "metadata": {},
     "output_type": "display_data"
    },
    {
     "data": {
      "text/html": [
       "<h3>Run summary:</h3><br/><style>\n",
       "    table.wandb td:nth-child(1) { padding: 0 10px; text-align: right }\n",
       "    </style><table class=\"wandb\">\n",
       "<tr><td>train_loss</td><td>0.46795</td></tr><tr><td>train_acc</td><td>0.7938</td></tr><tr><td>valid_loss</td><td>0.45915</td></tr><tr><td>valid_acc</td><td>0.7931</td></tr><tr><td>lr</td><td>0.0001</td></tr><tr><td>epoch_time</td><td>0.20153</td></tr><tr><td>_runtime</td><td>31</td></tr><tr><td>_timestamp</td><td>1633293012</td></tr><tr><td>_step</td><td>99</td></tr><tr><td>accuracy</td><td>0.797</td></tr><tr><td>prec</td><td>0.50602</td></tr><tr><td>recall</td><td>0.20588</td></tr><tr><td>f1</td><td>0.29268</td></tr></table>"
      ],
      "text/plain": [
       "<IPython.core.display.HTML object>"
      ]
     },
     "metadata": {},
     "output_type": "display_data"
    },
    {
     "data": {
      "text/html": [
       "<h3>Run history:</h3><br/><style>\n",
       "    table.wandb td:nth-child(1) { padding: 0 10px; text-align: right }\n",
       "    </style><table class=\"wandb\">\n",
       "<tr><td>train_loss</td><td>█▆▄▃▃▃▂▂▂▂▂▂▂▂▂▂▂▂▂▂▂▂▂▂▂▁▁▁▁▁▁▁▁▁▁▁▁▁▁▁</td></tr><tr><td>train_acc</td><td>▁▃▇▇▇▇██████████████████████████████████</td></tr><tr><td>valid_loss</td><td>█▆▄▄▄▄▄▄▅▂▃▂▂▄▃▂▂▃▂▂▂▂▂▂▂▂▂▂▃▁▂▂▂▁▂▁▁▁▂▁</td></tr><tr><td>valid_acc</td><td>▁▃▇▇▇▇▇▇▇████▇▇██▇████▇█████████████████</td></tr><tr><td>lr</td><td>▁▁▁▁▁▁▁▁▁▁▁▁▁▁▁▁▁▁▁▁▁▁▁▁▁▁▁▁▁▁▁▁▁▁▁▁▁▁▁▁</td></tr><tr><td>epoch_time</td><td>▁▂▄▄█▄▃▃▄▃▃▃▃▃▄▃▄█▄▃▃▅▆▅▅▅▇▃▁▁▁▁▂▂▂▁▁▂▁▁</td></tr><tr><td>_runtime</td><td>▁▁▁▁▂▂▂▂▃▃▃▃▃▄▄▄▄▄▄▅▅▅▅▆▆▆▆▆▇▇▇▇▇▇▇█████</td></tr><tr><td>_timestamp</td><td>▁▁▁▁▂▂▂▂▃▃▃▃▃▄▄▄▄▄▄▅▅▅▅▆▆▆▆▆▇▇▇▇▇▇▇█████</td></tr><tr><td>_step</td><td>▁▁▁▁▂▂▂▂▂▃▃▃▃▃▃▄▄▄▄▄▅▅▅▅▅▅▆▆▆▆▆▇▇▇▇▇▇███</td></tr></table><br/>"
      ],
      "text/plain": [
       "<IPython.core.display.HTML object>"
      ]
     },
     "metadata": {},
     "output_type": "display_data"
    },
    {
     "data": {
      "text/html": [
       "Synced 5 W&B file(s), 0 media file(s), 0 artifact file(s) and 0 other file(s)"
      ],
      "text/plain": [
       "<IPython.core.display.HTML object>"
      ]
     },
     "metadata": {},
     "output_type": "display_data"
    },
    {
     "data": {
      "text/html": [
       "\n",
       "                    <br/>Synced <strong style=\"color:#cdcd00\">zany-sweep-70</strong>: <a href=\"https://wandb.ai/teamtom/churn-class-imbalance-with-treshold01/runs/s7zapatq\" target=\"_blank\">https://wandb.ai/teamtom/churn-class-imbalance-with-treshold01/runs/s7zapatq</a><br/>\n",
       "                "
      ],
      "text/plain": [
       "<IPython.core.display.HTML object>"
      ]
     },
     "metadata": {},
     "output_type": "display_data"
    },
    {
     "name": "stderr",
     "output_type": "stream",
     "text": [
      "wandb: Agent Starting Run: n8kojptj with config:\n",
      "wandb: \tbatch_size: 32\n",
      "wandb: \tepochs: 100\n",
      "wandb: \tlearning_rate: 0.0001\n",
      "wandb: \tthreshold: 0.35789473684210527\n",
      "wandb: wandb version 0.12.3 is available!  To upgrade, please run:\n",
      "wandb:  $ pip install wandb --upgrade\n"
     ]
    },
    {
     "data": {
      "text/html": [
       "\n",
       "                Tracking run with wandb version 0.10.31<br/>\n",
       "                Syncing run <strong style=\"color:#cdcd00\">apricot-sweep-71</strong> to <a href=\"https://wandb.ai\" target=\"_blank\">Weights & Biases</a> <a href=\"https://docs.wandb.com/integrations/jupyter.html\" target=\"_blank\">(Documentation)</a>.<br/>\n",
       "                Project page: <a href=\"https://wandb.ai/teamtom/churn-class-imbalance-with-treshold01\" target=\"_blank\">https://wandb.ai/teamtom/churn-class-imbalance-with-treshold01</a><br/>\n",
       "                Sweep page: <a href=\"https://wandb.ai/teamtom/churn-class-imbalance-with-treshold01/sweeps/d22sfkpk\" target=\"_blank\">https://wandb.ai/teamtom/churn-class-imbalance-with-treshold01/sweeps/d22sfkpk</a><br/>\n",
       "Run page: <a href=\"https://wandb.ai/teamtom/churn-class-imbalance-with-treshold01/runs/n8kojptj\" target=\"_blank\">https://wandb.ai/teamtom/churn-class-imbalance-with-treshold01/runs/n8kojptj</a><br/>\n",
       "                Run data is saved locally in <code>c:\\python\\anaconda_base\\pytorch-tutorial\\wandb\\run-20211003_223016-n8kojptj</code><br/><br/>\n",
       "            "
      ],
      "text/plain": [
       "<IPython.core.display.HTML object>"
      ]
     },
     "metadata": {},
     "output_type": "display_data"
    },
    {
     "name": "stdout",
     "output_type": "stream",
     "text": [
      "dataset size: 10000\n",
      "dataset samples shape: torch.Size([10000, 9])\n",
      "dataset classes shape: torch.Size([10000, 1])\n",
      "| Epoch: 0010 | Train Loss: 0.542 | Train Acc: 69.51% | Val. Loss: 0.531 | Val. Acc: 72.09% |\n",
      "| Epoch: 0020 | Train Loss: 0.502 | Train Acc: 79.66% | Val. Loss: 0.490 | Val. Acc: 80.17% |\n",
      "| Epoch: 0030 | Train Loss: 0.495 | Train Acc: 79.70% | Val. Loss: 0.481 | Val. Acc: 80.28% |\n",
      "| Epoch: 0040 | Train Loss: 0.490 | Train Acc: 79.71% | Val. Loss: 0.493 | Val. Acc: 78.77% |\n",
      "| Epoch: 0050 | Train Loss: 0.487 | Train Acc: 79.66% | Val. Loss: 0.481 | Val. Acc: 79.20% |\n",
      "| Epoch: 0060 | Train Loss: 0.483 | Train Acc: 79.71% | Val. Loss: 0.491 | Val. Acc: 78.45% |\n",
      "| Epoch: 0070 | Train Loss: 0.481 | Train Acc: 79.81% | Val. Loss: 0.464 | Val. Acc: 79.63% |\n",
      "| Epoch: 0080 | Train Loss: 0.478 | Train Acc: 80.03% | Val. Loss: 0.461 | Val. Acc: 79.96% |\n",
      "| Epoch: 0090 | Train Loss: 0.475 | Train Acc: 80.12% | Val. Loss: 0.465 | Val. Acc: 79.53% |\n",
      "| Epoch: 0100 | Train Loss: 0.473 | Train Acc: 80.12% | Val. Loss: 0.456 | Val. Acc: 81.03% |\n"
     ]
    },
    {
     "data": {
      "text/html": [
       "<br/>Waiting for W&B process to finish, PID 24824<br/>Program ended successfully."
      ],
      "text/plain": [
       "<IPython.core.display.HTML object>"
      ]
     },
     "metadata": {},
     "output_type": "display_data"
    },
    {
     "data": {
      "application/vnd.jupyter.widget-view+json": {
       "model_id": "60a76a691dc34988b6e7cf36dec1e811",
       "version_major": 2,
       "version_minor": 0
      },
      "text/plain": [
       "VBox(children=(Label(value=' 0.00MB of 0.00MB uploaded (0.00MB deduped)\\r'), FloatProgress(value=1.0, max=1.0)…"
      ]
     },
     "metadata": {},
     "output_type": "display_data"
    },
    {
     "data": {
      "text/html": [
       "Find user logs for this run at: <code>c:\\python\\anaconda_base\\pytorch-tutorial\\wandb\\run-20211003_223016-n8kojptj\\logs\\debug.log</code>"
      ],
      "text/plain": [
       "<IPython.core.display.HTML object>"
      ]
     },
     "metadata": {},
     "output_type": "display_data"
    },
    {
     "data": {
      "text/html": [
       "Find internal logs for this run at: <code>c:\\python\\anaconda_base\\pytorch-tutorial\\wandb\\run-20211003_223016-n8kojptj\\logs\\debug-internal.log</code>"
      ],
      "text/plain": [
       "<IPython.core.display.HTML object>"
      ]
     },
     "metadata": {},
     "output_type": "display_data"
    },
    {
     "data": {
      "text/html": [
       "<h3>Run summary:</h3><br/><style>\n",
       "    table.wandb td:nth-child(1) { padding: 0 10px; text-align: right }\n",
       "    </style><table class=\"wandb\">\n",
       "<tr><td>train_loss</td><td>0.47287</td></tr><tr><td>train_acc</td><td>0.80118</td></tr><tr><td>valid_loss</td><td>0.45618</td></tr><tr><td>valid_acc</td><td>0.81034</td></tr><tr><td>lr</td><td>0.0001</td></tr><tr><td>epoch_time</td><td>0.2862</td></tr><tr><td>_runtime</td><td>29</td></tr><tr><td>_timestamp</td><td>1633293046</td></tr><tr><td>_step</td><td>99</td></tr><tr><td>accuracy</td><td>0.798</td></tr><tr><td>prec</td><td>0.52083</td></tr><tr><td>recall</td><td>0.12255</td></tr><tr><td>f1</td><td>0.19841</td></tr></table>"
      ],
      "text/plain": [
       "<IPython.core.display.HTML object>"
      ]
     },
     "metadata": {},
     "output_type": "display_data"
    },
    {
     "data": {
      "text/html": [
       "<h3>Run history:</h3><br/><style>\n",
       "    table.wandb td:nth-child(1) { padding: 0 10px; text-align: right }\n",
       "    </style><table class=\"wandb\">\n",
       "<tr><td>train_loss</td><td>█▆▄▃▃▂▂▂▂▂▂▂▂▂▂▁▁▁▁▁▁▁▁▁▁▁▁▁▁▁▁▁▁▁▁▁▁▁▁▁</td></tr><tr><td>train_acc</td><td>▁▁▁▄▇███████████████████████████████████</td></tr><tr><td>valid_loss</td><td>█▆▄▄▃▃▂▃▂▂▂▂▂▂▂▂▁▂▁▂▁▂▂▂▁▁▁▁▂▁▂▁▂▁▁▁▁▁▁▁</td></tr><tr><td>valid_acc</td><td>▁▁▂▅▇███████████████████████████████████</td></tr><tr><td>lr</td><td>▁▁▁▁▁▁▁▁▁▁▁▁▁▁▁▁▁▁▁▁▁▁▁▁▁▁▁▁▁▁▁▁▁▁▁▁▁▁▁▁</td></tr><tr><td>epoch_time</td><td>▄▄▃▂▄▄▃▄▄▅▅▃▄▄▅▃▄▂▁▁▂▃▃█▄▃▄▃▄▃▂▂▁▁▁▁▁▁▃▃</td></tr><tr><td>_runtime</td><td>▁▁▁▂▂▂▂▂▃▃▃▃▃▄▄▄▄▄▄▅▅▅▅▅▅▆▆▆▆▆▇▇▇▇▇▇▇███</td></tr><tr><td>_timestamp</td><td>▁▁▁▂▂▂▂▂▃▃▃▃▃▄▄▄▄▄▄▅▅▅▅▅▅▆▆▆▆▆▇▇▇▇▇▇▇███</td></tr><tr><td>_step</td><td>▁▁▁▁▂▂▂▂▂▃▃▃▃▃▃▄▄▄▄▄▅▅▅▅▅▅▆▆▆▆▆▇▇▇▇▇▇███</td></tr></table><br/>"
      ],
      "text/plain": [
       "<IPython.core.display.HTML object>"
      ]
     },
     "metadata": {},
     "output_type": "display_data"
    },
    {
     "data": {
      "text/html": [
       "Synced 5 W&B file(s), 0 media file(s), 0 artifact file(s) and 0 other file(s)"
      ],
      "text/plain": [
       "<IPython.core.display.HTML object>"
      ]
     },
     "metadata": {},
     "output_type": "display_data"
    },
    {
     "data": {
      "text/html": [
       "\n",
       "                    <br/>Synced <strong style=\"color:#cdcd00\">apricot-sweep-71</strong>: <a href=\"https://wandb.ai/teamtom/churn-class-imbalance-with-treshold01/runs/n8kojptj\" target=\"_blank\">https://wandb.ai/teamtom/churn-class-imbalance-with-treshold01/runs/n8kojptj</a><br/>\n",
       "                "
      ],
      "text/plain": [
       "<IPython.core.display.HTML object>"
      ]
     },
     "metadata": {},
     "output_type": "display_data"
    },
    {
     "name": "stderr",
     "output_type": "stream",
     "text": [
      "wandb: Agent Starting Run: 7l8jtnro with config:\n",
      "wandb: \tbatch_size: 32\n",
      "wandb: \tepochs: 100\n",
      "wandb: \tlearning_rate: 0.0001\n",
      "wandb: \tthreshold: 0.37368421052631584\n",
      "wandb: wandb version 0.12.3 is available!  To upgrade, please run:\n",
      "wandb:  $ pip install wandb --upgrade\n"
     ]
    },
    {
     "data": {
      "text/html": [
       "\n",
       "                Tracking run with wandb version 0.10.31<br/>\n",
       "                Syncing run <strong style=\"color:#cdcd00\">graceful-sweep-72</strong> to <a href=\"https://wandb.ai\" target=\"_blank\">Weights & Biases</a> <a href=\"https://docs.wandb.com/integrations/jupyter.html\" target=\"_blank\">(Documentation)</a>.<br/>\n",
       "                Project page: <a href=\"https://wandb.ai/teamtom/churn-class-imbalance-with-treshold01\" target=\"_blank\">https://wandb.ai/teamtom/churn-class-imbalance-with-treshold01</a><br/>\n",
       "                Sweep page: <a href=\"https://wandb.ai/teamtom/churn-class-imbalance-with-treshold01/sweeps/d22sfkpk\" target=\"_blank\">https://wandb.ai/teamtom/churn-class-imbalance-with-treshold01/sweeps/d22sfkpk</a><br/>\n",
       "Run page: <a href=\"https://wandb.ai/teamtom/churn-class-imbalance-with-treshold01/runs/7l8jtnro\" target=\"_blank\">https://wandb.ai/teamtom/churn-class-imbalance-with-treshold01/runs/7l8jtnro</a><br/>\n",
       "                Run data is saved locally in <code>c:\\python\\anaconda_base\\pytorch-tutorial\\wandb\\run-20211003_223051-7l8jtnro</code><br/><br/>\n",
       "            "
      ],
      "text/plain": [
       "<IPython.core.display.HTML object>"
      ]
     },
     "metadata": {},
     "output_type": "display_data"
    },
    {
     "name": "stdout",
     "output_type": "stream",
     "text": [
      "dataset size: 10000\n",
      "dataset samples shape: torch.Size([10000, 9])\n",
      "dataset classes shape: torch.Size([10000, 1])\n",
      "| Epoch: 0010 | Train Loss: 0.536 | Train Acc: 74.91% | Val. Loss: 0.537 | Val. Acc: 73.92% |\n",
      "| Epoch: 0020 | Train Loss: 0.501 | Train Acc: 79.61% | Val. Loss: 0.498 | Val. Acc: 79.53% |\n",
      "| Epoch: 0030 | Train Loss: 0.495 | Train Acc: 79.61% | Val. Loss: 0.493 | Val. Acc: 79.53% |\n",
      "| Epoch: 0040 | Train Loss: 0.492 | Train Acc: 79.52% | Val. Loss: 0.476 | Val. Acc: 80.28% |\n",
      "| Epoch: 0050 | Train Loss: 0.486 | Train Acc: 79.69% | Val. Loss: 0.473 | Val. Acc: 80.17% |\n",
      "| Epoch: 0060 | Train Loss: 0.483 | Train Acc: 79.75% | Val. Loss: 0.467 | Val. Acc: 80.06% |\n",
      "| Epoch: 0070 | Train Loss: 0.481 | Train Acc: 79.63% | Val. Loss: 0.472 | Val. Acc: 79.20% |\n",
      "| Epoch: 0080 | Train Loss: 0.477 | Train Acc: 79.82% | Val. Loss: 0.472 | Val. Acc: 79.09% |\n",
      "| Epoch: 0090 | Train Loss: 0.476 | Train Acc: 79.98% | Val. Loss: 0.459 | Val. Acc: 79.96% |\n",
      "| Epoch: 0100 | Train Loss: 0.473 | Train Acc: 80.17% | Val. Loss: 0.457 | Val. Acc: 80.06% |\n"
     ]
    },
    {
     "data": {
      "text/html": [
       "<br/>Waiting for W&B process to finish, PID 21164<br/>Program ended successfully."
      ],
      "text/plain": [
       "<IPython.core.display.HTML object>"
      ]
     },
     "metadata": {},
     "output_type": "display_data"
    },
    {
     "data": {
      "application/vnd.jupyter.widget-view+json": {
       "model_id": "595d5c284915495e9314bdcd20bb1c08",
       "version_major": 2,
       "version_minor": 0
      },
      "text/plain": [
       "VBox(children=(Label(value=' 0.00MB of 0.00MB uploaded (0.00MB deduped)\\r'), FloatProgress(value=1.0, max=1.0)…"
      ]
     },
     "metadata": {},
     "output_type": "display_data"
    },
    {
     "data": {
      "text/html": [
       "Find user logs for this run at: <code>c:\\python\\anaconda_base\\pytorch-tutorial\\wandb\\run-20211003_223051-7l8jtnro\\logs\\debug.log</code>"
      ],
      "text/plain": [
       "<IPython.core.display.HTML object>"
      ]
     },
     "metadata": {},
     "output_type": "display_data"
    },
    {
     "data": {
      "text/html": [
       "Find internal logs for this run at: <code>c:\\python\\anaconda_base\\pytorch-tutorial\\wandb\\run-20211003_223051-7l8jtnro\\logs\\debug-internal.log</code>"
      ],
      "text/plain": [
       "<IPython.core.display.HTML object>"
      ]
     },
     "metadata": {},
     "output_type": "display_data"
    },
    {
     "data": {
      "text/html": [
       "<h3>Run summary:</h3><br/><style>\n",
       "    table.wandb td:nth-child(1) { padding: 0 10px; text-align: right }\n",
       "    </style><table class=\"wandb\">\n",
       "<tr><td>train_loss</td><td>0.47296</td></tr><tr><td>train_acc</td><td>0.80167</td></tr><tr><td>valid_loss</td><td>0.45687</td></tr><tr><td>valid_acc</td><td>0.80065</td></tr><tr><td>lr</td><td>0.0001</td></tr><tr><td>epoch_time</td><td>0.19002</td></tr><tr><td>_runtime</td><td>31</td></tr><tr><td>_timestamp</td><td>1633293083</td></tr><tr><td>_step</td><td>99</td></tr><tr><td>accuracy</td><td>0.797</td></tr><tr><td>prec</td><td>0.51613</td></tr><tr><td>recall</td><td>0.07843</td></tr><tr><td>f1</td><td>0.13617</td></tr></table>"
      ],
      "text/plain": [
       "<IPython.core.display.HTML object>"
      ]
     },
     "metadata": {},
     "output_type": "display_data"
    },
    {
     "data": {
      "text/html": [
       "<h3>Run history:</h3><br/><style>\n",
       "    table.wandb td:nth-child(1) { padding: 0 10px; text-align: right }\n",
       "    </style><table class=\"wandb\">\n",
       "<tr><td>train_loss</td><td>█▆▄▃▃▂▂▂▂▂▂▂▂▂▂▂▂▁▁▁▁▁▁▁▁▁▁▁▁▁▁▁▁▁▁▁▁▁▁▁</td></tr><tr><td>train_acc</td><td>▁▁▃▆████████████████████████████████████</td></tr><tr><td>valid_loss</td><td>█▆▄▄▃▂▃▂▂▂▂▂▂▂▂▂▂▁▂▂▂▂▂▂▂▂▂▁▂▁▁▁▁▁▂▂▁▁▁▁</td></tr><tr><td>valid_acc</td><td>▁▁▄▇▇███████████████████████████████████</td></tr><tr><td>lr</td><td>▁▁▁▁▁▁▁▁▁▁▁▁▁▁▁▁▁▁▁▁▁▁▁▁▁▁▁▁▁▁▁▁▁▁▁▁▁▁▁▁</td></tr><tr><td>epoch_time</td><td>▃▅▄▆▄▅▄▅▆▄▃▆▆█▇▅▆▄▂▇▆▇▅▅▅▅▅▅▂▃▂▂▂▃▂▂▃▃▅▁</td></tr><tr><td>_runtime</td><td>▁▁▁▁▂▂▂▂▂▃▃▃▃▃▄▄▄▄▄▅▅▅▅▅▆▆▆▆▆▇▇▇▇▇▇▇████</td></tr><tr><td>_timestamp</td><td>▁▁▁▁▂▂▂▂▂▃▃▃▃▃▄▄▄▄▄▅▅▅▅▅▆▆▆▆▆▇▇▇▇▇▇▇████</td></tr><tr><td>_step</td><td>▁▁▁▁▂▂▂▂▂▃▃▃▃▃▃▄▄▄▄▄▅▅▅▅▅▅▆▆▆▆▆▇▇▇▇▇▇███</td></tr></table><br/>"
      ],
      "text/plain": [
       "<IPython.core.display.HTML object>"
      ]
     },
     "metadata": {},
     "output_type": "display_data"
    },
    {
     "data": {
      "text/html": [
       "Synced 5 W&B file(s), 0 media file(s), 0 artifact file(s) and 0 other file(s)"
      ],
      "text/plain": [
       "<IPython.core.display.HTML object>"
      ]
     },
     "metadata": {},
     "output_type": "display_data"
    },
    {
     "data": {
      "text/html": [
       "\n",
       "                    <br/>Synced <strong style=\"color:#cdcd00\">graceful-sweep-72</strong>: <a href=\"https://wandb.ai/teamtom/churn-class-imbalance-with-treshold01/runs/7l8jtnro\" target=\"_blank\">https://wandb.ai/teamtom/churn-class-imbalance-with-treshold01/runs/7l8jtnro</a><br/>\n",
       "                "
      ],
      "text/plain": [
       "<IPython.core.display.HTML object>"
      ]
     },
     "metadata": {},
     "output_type": "display_data"
    },
    {
     "name": "stderr",
     "output_type": "stream",
     "text": [
      "wandb: Agent Starting Run: uhorm08p with config:\n",
      "wandb: \tbatch_size: 32\n",
      "wandb: \tepochs: 100\n",
      "wandb: \tlearning_rate: 0.0001\n",
      "wandb: \tthreshold: 0.3894736842105263\n",
      "wandb: wandb version 0.12.3 is available!  To upgrade, please run:\n",
      "wandb:  $ pip install wandb --upgrade\n"
     ]
    },
    {
     "data": {
      "text/html": [
       "\n",
       "                Tracking run with wandb version 0.10.31<br/>\n",
       "                Syncing run <strong style=\"color:#cdcd00\">proud-sweep-73</strong> to <a href=\"https://wandb.ai\" target=\"_blank\">Weights & Biases</a> <a href=\"https://docs.wandb.com/integrations/jupyter.html\" target=\"_blank\">(Documentation)</a>.<br/>\n",
       "                Project page: <a href=\"https://wandb.ai/teamtom/churn-class-imbalance-with-treshold01\" target=\"_blank\">https://wandb.ai/teamtom/churn-class-imbalance-with-treshold01</a><br/>\n",
       "                Sweep page: <a href=\"https://wandb.ai/teamtom/churn-class-imbalance-with-treshold01/sweeps/d22sfkpk\" target=\"_blank\">https://wandb.ai/teamtom/churn-class-imbalance-with-treshold01/sweeps/d22sfkpk</a><br/>\n",
       "Run page: <a href=\"https://wandb.ai/teamtom/churn-class-imbalance-with-treshold01/runs/uhorm08p\" target=\"_blank\">https://wandb.ai/teamtom/churn-class-imbalance-with-treshold01/runs/uhorm08p</a><br/>\n",
       "                Run data is saved locally in <code>c:\\python\\anaconda_base\\pytorch-tutorial\\wandb\\run-20211003_223127-uhorm08p</code><br/><br/>\n",
       "            "
      ],
      "text/plain": [
       "<IPython.core.display.HTML object>"
      ]
     },
     "metadata": {},
     "output_type": "display_data"
    },
    {
     "name": "stdout",
     "output_type": "stream",
     "text": [
      "dataset size: 10000\n",
      "dataset samples shape: torch.Size([10000, 9])\n",
      "dataset classes shape: torch.Size([10000, 1])\n",
      "| Epoch: 0010 | Train Loss: 0.499 | Train Acc: 79.69% | Val. Loss: 0.496 | Val. Acc: 79.63% |\n",
      "| Epoch: 0020 | Train Loss: 0.493 | Train Acc: 79.70% | Val. Loss: 0.492 | Val. Acc: 79.53% |\n",
      "| Epoch: 0030 | Train Loss: 0.489 | Train Acc: 79.70% | Val. Loss: 0.482 | Val. Acc: 79.53% |\n",
      "| Epoch: 0040 | Train Loss: 0.487 | Train Acc: 79.53% | Val. Loss: 0.472 | Val. Acc: 80.28% |\n",
      "| Epoch: 0050 | Train Loss: 0.483 | Train Acc: 79.66% | Val. Loss: 0.476 | Val. Acc: 79.53% |\n",
      "| Epoch: 0060 | Train Loss: 0.479 | Train Acc: 79.75% | Val. Loss: 0.475 | Val. Acc: 79.63% |\n",
      "| Epoch: 0070 | Train Loss: 0.477 | Train Acc: 80.01% | Val. Loss: 0.462 | Val. Acc: 80.39% |\n",
      "| Epoch: 0080 | Train Loss: 0.476 | Train Acc: 80.17% | Val. Loss: 0.476 | Val. Acc: 79.09% |\n",
      "| Epoch: 0090 | Train Loss: 0.472 | Train Acc: 80.51% | Val. Loss: 0.461 | Val. Acc: 79.74% |\n",
      "| Epoch: 0100 | Train Loss: 0.471 | Train Acc: 80.51% | Val. Loss: 0.454 | Val. Acc: 80.82% |\n"
     ]
    },
    {
     "data": {
      "text/html": [
       "<br/>Waiting for W&B process to finish, PID 4696<br/>Program ended successfully."
      ],
      "text/plain": [
       "<IPython.core.display.HTML object>"
      ]
     },
     "metadata": {},
     "output_type": "display_data"
    },
    {
     "data": {
      "application/vnd.jupyter.widget-view+json": {
       "model_id": "c0ca002f58754a82a06621caf91b7e6a",
       "version_major": 2,
       "version_minor": 0
      },
      "text/plain": [
       "VBox(children=(Label(value=' 0.00MB of 0.00MB uploaded (0.00MB deduped)\\r'), FloatProgress(value=1.0, max=1.0)…"
      ]
     },
     "metadata": {},
     "output_type": "display_data"
    },
    {
     "data": {
      "text/html": [
       "Find user logs for this run at: <code>c:\\python\\anaconda_base\\pytorch-tutorial\\wandb\\run-20211003_223127-uhorm08p\\logs\\debug.log</code>"
      ],
      "text/plain": [
       "<IPython.core.display.HTML object>"
      ]
     },
     "metadata": {},
     "output_type": "display_data"
    },
    {
     "data": {
      "text/html": [
       "Find internal logs for this run at: <code>c:\\python\\anaconda_base\\pytorch-tutorial\\wandb\\run-20211003_223127-uhorm08p\\logs\\debug-internal.log</code>"
      ],
      "text/plain": [
       "<IPython.core.display.HTML object>"
      ]
     },
     "metadata": {},
     "output_type": "display_data"
    },
    {
     "data": {
      "text/html": [
       "<h3>Run summary:</h3><br/><style>\n",
       "    table.wandb td:nth-child(1) { padding: 0 10px; text-align: right }\n",
       "    </style><table class=\"wandb\">\n",
       "<tr><td>train_loss</td><td>0.47105</td></tr><tr><td>train_acc</td><td>0.80512</td></tr><tr><td>valid_loss</td><td>0.45414</td></tr><tr><td>valid_acc</td><td>0.80819</td></tr><tr><td>lr</td><td>0.0001</td></tr><tr><td>epoch_time</td><td>0.22153</td></tr><tr><td>_runtime</td><td>30</td></tr><tr><td>_timestamp</td><td>1633293118</td></tr><tr><td>_step</td><td>99</td></tr><tr><td>accuracy</td><td>0.799</td></tr><tr><td>prec</td><td>0.55556</td></tr><tr><td>recall</td><td>0.07353</td></tr><tr><td>f1</td><td>0.12987</td></tr></table>"
      ],
      "text/plain": [
       "<IPython.core.display.HTML object>"
      ]
     },
     "metadata": {},
     "output_type": "display_data"
    },
    {
     "data": {
      "text/html": [
       "<h3>Run history:</h3><br/><style>\n",
       "    table.wandb td:nth-child(1) { padding: 0 10px; text-align: right }\n",
       "    </style><table class=\"wandb\">\n",
       "<tr><td>train_loss</td><td>█▆▄▄▄▃▃▃▃▃▃▃▃▃▃▂▂▂▂▂▂▂▂▂▂▂▂▂▂▂▁▂▁▁▁▁▁▁▁▁</td></tr><tr><td>train_acc</td><td>▁▅▇▇▇▇▇▇▇▇▇▇▇▇▇▇▇▇▇▇▇▇▇▇▇███████████████</td></tr><tr><td>valid_loss</td><td>█▆▆▅▄▄▃▃▃▄▃▃▃▃▄▃▃▃▃▃▂▂▃▃▃▂▂▂▂▂▃▂▂▂▂▁▂▂▁▁</td></tr><tr><td>valid_acc</td><td>▁▅▇▇▇████▇▇██▇▆█▇▇▆▇██▇▇▇████▇▇▇▇▇▇█▇███</td></tr><tr><td>lr</td><td>▁▁▁▁▁▁▁▁▁▁▁▁▁▁▁▁▁▁▁▁▁▁▁▁▁▁▁▁▁▁▁▁▁▁▁▁▁▁▁▁</td></tr><tr><td>epoch_time</td><td>▄▃▄▄▄▄▅█▄▄▃▃▄▅▄▄▄▂▁▃▂▄▄▆▃▅▅▄▃▅▃▅▃▂▂▁▂▁▁▂</td></tr><tr><td>_runtime</td><td>▁▁▁▁▂▂▂▂▃▃▃▃▃▃▃▄▄▄▄▅▅▅▅▅▅▅▆▆▆▆▇▇▇▇▇▇▇███</td></tr><tr><td>_timestamp</td><td>▁▁▁▁▂▂▂▂▃▃▃▃▃▃▃▄▄▄▄▅▅▅▅▅▅▅▆▆▆▆▇▇▇▇▇▇▇███</td></tr><tr><td>_step</td><td>▁▁▁▁▂▂▂▂▂▃▃▃▃▃▃▄▄▄▄▄▅▅▅▅▅▅▆▆▆▆▆▇▇▇▇▇▇███</td></tr></table><br/>"
      ],
      "text/plain": [
       "<IPython.core.display.HTML object>"
      ]
     },
     "metadata": {},
     "output_type": "display_data"
    },
    {
     "data": {
      "text/html": [
       "Synced 5 W&B file(s), 0 media file(s), 0 artifact file(s) and 0 other file(s)"
      ],
      "text/plain": [
       "<IPython.core.display.HTML object>"
      ]
     },
     "metadata": {},
     "output_type": "display_data"
    },
    {
     "data": {
      "text/html": [
       "\n",
       "                    <br/>Synced <strong style=\"color:#cdcd00\">proud-sweep-73</strong>: <a href=\"https://wandb.ai/teamtom/churn-class-imbalance-with-treshold01/runs/uhorm08p\" target=\"_blank\">https://wandb.ai/teamtom/churn-class-imbalance-with-treshold01/runs/uhorm08p</a><br/>\n",
       "                "
      ],
      "text/plain": [
       "<IPython.core.display.HTML object>"
      ]
     },
     "metadata": {},
     "output_type": "display_data"
    },
    {
     "name": "stderr",
     "output_type": "stream",
     "text": [
      "wandb: Agent Starting Run: yqg7bcoq with config:\n",
      "wandb: \tbatch_size: 32\n",
      "wandb: \tepochs: 100\n",
      "wandb: \tlearning_rate: 0.0001\n",
      "wandb: \tthreshold: 0.4052631578947369\n",
      "wandb: wandb version 0.12.3 is available!  To upgrade, please run:\n",
      "wandb:  $ pip install wandb --upgrade\n"
     ]
    },
    {
     "data": {
      "text/html": [
       "\n",
       "                Tracking run with wandb version 0.10.31<br/>\n",
       "                Syncing run <strong style=\"color:#cdcd00\">bright-sweep-74</strong> to <a href=\"https://wandb.ai\" target=\"_blank\">Weights & Biases</a> <a href=\"https://docs.wandb.com/integrations/jupyter.html\" target=\"_blank\">(Documentation)</a>.<br/>\n",
       "                Project page: <a href=\"https://wandb.ai/teamtom/churn-class-imbalance-with-treshold01\" target=\"_blank\">https://wandb.ai/teamtom/churn-class-imbalance-with-treshold01</a><br/>\n",
       "                Sweep page: <a href=\"https://wandb.ai/teamtom/churn-class-imbalance-with-treshold01/sweeps/d22sfkpk\" target=\"_blank\">https://wandb.ai/teamtom/churn-class-imbalance-with-treshold01/sweeps/d22sfkpk</a><br/>\n",
       "Run page: <a href=\"https://wandb.ai/teamtom/churn-class-imbalance-with-treshold01/runs/yqg7bcoq\" target=\"_blank\">https://wandb.ai/teamtom/churn-class-imbalance-with-treshold01/runs/yqg7bcoq</a><br/>\n",
       "                Run data is saved locally in <code>c:\\python\\anaconda_base\\pytorch-tutorial\\wandb\\run-20211003_223202-yqg7bcoq</code><br/><br/>\n",
       "            "
      ],
      "text/plain": [
       "<IPython.core.display.HTML object>"
      ]
     },
     "metadata": {},
     "output_type": "display_data"
    },
    {
     "name": "stdout",
     "output_type": "stream",
     "text": [
      "dataset size: 10000\n",
      "dataset samples shape: torch.Size([10000, 9])\n",
      "dataset classes shape: torch.Size([10000, 1])\n",
      "| Epoch: 0010 | Train Loss: 0.516 | Train Acc: 79.60% | Val. Loss: 0.511 | Val. Acc: 79.53% |\n",
      "| Epoch: 0020 | Train Loss: 0.496 | Train Acc: 79.70% | Val. Loss: 0.497 | Val. Acc: 78.77% |\n",
      "| Epoch: 0030 | Train Loss: 0.491 | Train Acc: 79.61% | Val. Loss: 0.486 | Val. Acc: 79.53% |\n",
      "| Epoch: 0040 | Train Loss: 0.487 | Train Acc: 79.63% | Val. Loss: 0.470 | Val. Acc: 80.28% |\n",
      "| Epoch: 0050 | Train Loss: 0.484 | Train Acc: 79.64% | Val. Loss: 0.485 | Val. Acc: 78.77% |\n",
      "| Epoch: 0060 | Train Loss: 0.481 | Train Acc: 79.59% | Val. Loss: 0.480 | Val. Acc: 78.77% |\n",
      "| Epoch: 0070 | Train Loss: 0.476 | Train Acc: 79.90% | Val. Loss: 0.468 | Val. Acc: 79.53% |\n",
      "| Epoch: 0080 | Train Loss: 0.475 | Train Acc: 79.93% | Val. Loss: 0.466 | Val. Acc: 79.74% |\n",
      "| Epoch: 0090 | Train Loss: 0.473 | Train Acc: 80.14% | Val. Loss: 0.492 | Val. Acc: 78.45% |\n",
      "| Epoch: 0100 | Train Loss: 0.470 | Train Acc: 80.35% | Val. Loss: 0.451 | Val. Acc: 80.71% |\n"
     ]
    },
    {
     "data": {
      "text/html": [
       "<br/>Waiting for W&B process to finish, PID 24872<br/>Program ended successfully."
      ],
      "text/plain": [
       "<IPython.core.display.HTML object>"
      ]
     },
     "metadata": {},
     "output_type": "display_data"
    },
    {
     "data": {
      "application/vnd.jupyter.widget-view+json": {
       "model_id": "bebb73268910469cabf78e0161e4f99a",
       "version_major": 2,
       "version_minor": 0
      },
      "text/plain": [
       "VBox(children=(Label(value=' 0.00MB of 0.00MB uploaded (0.00MB deduped)\\r'), FloatProgress(value=1.0, max=1.0)…"
      ]
     },
     "metadata": {},
     "output_type": "display_data"
    },
    {
     "data": {
      "text/html": [
       "Find user logs for this run at: <code>c:\\python\\anaconda_base\\pytorch-tutorial\\wandb\\run-20211003_223202-yqg7bcoq\\logs\\debug.log</code>"
      ],
      "text/plain": [
       "<IPython.core.display.HTML object>"
      ]
     },
     "metadata": {},
     "output_type": "display_data"
    },
    {
     "data": {
      "text/html": [
       "Find internal logs for this run at: <code>c:\\python\\anaconda_base\\pytorch-tutorial\\wandb\\run-20211003_223202-yqg7bcoq\\logs\\debug-internal.log</code>"
      ],
      "text/plain": [
       "<IPython.core.display.HTML object>"
      ]
     },
     "metadata": {},
     "output_type": "display_data"
    },
    {
     "data": {
      "text/html": [
       "<h3>Run summary:</h3><br/><style>\n",
       "    table.wandb td:nth-child(1) { padding: 0 10px; text-align: right }\n",
       "    </style><table class=\"wandb\">\n",
       "<tr><td>train_loss</td><td>0.47017</td></tr><tr><td>train_acc</td><td>0.80352</td></tr><tr><td>valid_loss</td><td>0.45119</td></tr><tr><td>valid_acc</td><td>0.80711</td></tr><tr><td>lr</td><td>0.0001</td></tr><tr><td>epoch_time</td><td>0.20611</td></tr><tr><td>_runtime</td><td>32</td></tr><tr><td>_timestamp</td><td>1633293155</td></tr><tr><td>_step</td><td>99</td></tr><tr><td>accuracy</td><td>0.801</td></tr><tr><td>prec</td><td>0.64706</td></tr><tr><td>recall</td><td>0.05392</td></tr><tr><td>f1</td><td>0.09955</td></tr></table>"
      ],
      "text/plain": [
       "<IPython.core.display.HTML object>"
      ]
     },
     "metadata": {},
     "output_type": "display_data"
    },
    {
     "data": {
      "text/html": [
       "<h3>Run history:</h3><br/><style>\n",
       "    table.wandb td:nth-child(1) { padding: 0 10px; text-align: right }\n",
       "    </style><table class=\"wandb\">\n",
       "<tr><td>train_loss</td><td>█▆▄▃▃▂▂▂▂▂▂▂▂▂▂▂▂▂▂▁▁▁▁▁▁▁▁▁▁▁▁▁▁▁▁▁▁▁▁▁</td></tr><tr><td>train_acc</td><td>▁▄▇█████████████████████████████████████</td></tr><tr><td>valid_loss</td><td>█▆▄▄▃▃▂▃▂▂▂▂▂▂▃▂▂▂▂▂▂▂▂▂▂▁▁▁▂▂▂▂▁▁▁▁▁▁▁▁</td></tr><tr><td>valid_acc</td><td>▁▅██████████████████████████████████████</td></tr><tr><td>lr</td><td>▁▁▁▁▁▁▁▁▁▁▁▁▁▁▁▁▁▁▁▁▁▁▁▁▁▁▁▁▁▁▁▁▁▁▁▁▁▁▁▁</td></tr><tr><td>epoch_time</td><td>▇▅▄▆▄▄▆▅▃▅▅▃▅▆▅▆▆▂▂▃▄▅▄▄▄▄█▄▄▁▁▂▂▂▂▂▂▅▁▂</td></tr><tr><td>_runtime</td><td>▁▁▁▁▂▂▂▂▂▃▃▃▃▄▄▄▄▄▅▅▅▅▅▅▆▆▆▆▇▇▇▇▇▇▇▇████</td></tr><tr><td>_timestamp</td><td>▁▁▁▁▂▂▂▂▂▃▃▃▃▄▄▄▄▄▅▅▅▅▅▅▆▆▆▆▇▇▇▇▇▇▇▇████</td></tr><tr><td>_step</td><td>▁▁▁▁▂▂▂▂▂▃▃▃▃▃▃▄▄▄▄▄▅▅▅▅▅▅▆▆▆▆▆▇▇▇▇▇▇███</td></tr></table><br/>"
      ],
      "text/plain": [
       "<IPython.core.display.HTML object>"
      ]
     },
     "metadata": {},
     "output_type": "display_data"
    },
    {
     "data": {
      "text/html": [
       "Synced 5 W&B file(s), 0 media file(s), 0 artifact file(s) and 0 other file(s)"
      ],
      "text/plain": [
       "<IPython.core.display.HTML object>"
      ]
     },
     "metadata": {},
     "output_type": "display_data"
    },
    {
     "data": {
      "text/html": [
       "\n",
       "                    <br/>Synced <strong style=\"color:#cdcd00\">bright-sweep-74</strong>: <a href=\"https://wandb.ai/teamtom/churn-class-imbalance-with-treshold01/runs/yqg7bcoq\" target=\"_blank\">https://wandb.ai/teamtom/churn-class-imbalance-with-treshold01/runs/yqg7bcoq</a><br/>\n",
       "                "
      ],
      "text/plain": [
       "<IPython.core.display.HTML object>"
      ]
     },
     "metadata": {},
     "output_type": "display_data"
    },
    {
     "name": "stderr",
     "output_type": "stream",
     "text": [
      "wandb: Agent Starting Run: 1en7op7v with config:\n",
      "wandb: \tbatch_size: 32\n",
      "wandb: \tepochs: 100\n",
      "wandb: \tlearning_rate: 0.0001\n",
      "wandb: \tthreshold: 0.4210526315789474\n",
      "wandb: wandb version 0.12.3 is available!  To upgrade, please run:\n",
      "wandb:  $ pip install wandb --upgrade\n"
     ]
    },
    {
     "data": {
      "text/html": [
       "\n",
       "                Tracking run with wandb version 0.10.31<br/>\n",
       "                Syncing run <strong style=\"color:#cdcd00\">fast-sweep-75</strong> to <a href=\"https://wandb.ai\" target=\"_blank\">Weights & Biases</a> <a href=\"https://docs.wandb.com/integrations/jupyter.html\" target=\"_blank\">(Documentation)</a>.<br/>\n",
       "                Project page: <a href=\"https://wandb.ai/teamtom/churn-class-imbalance-with-treshold01\" target=\"_blank\">https://wandb.ai/teamtom/churn-class-imbalance-with-treshold01</a><br/>\n",
       "                Sweep page: <a href=\"https://wandb.ai/teamtom/churn-class-imbalance-with-treshold01/sweeps/d22sfkpk\" target=\"_blank\">https://wandb.ai/teamtom/churn-class-imbalance-with-treshold01/sweeps/d22sfkpk</a><br/>\n",
       "Run page: <a href=\"https://wandb.ai/teamtom/churn-class-imbalance-with-treshold01/runs/1en7op7v\" target=\"_blank\">https://wandb.ai/teamtom/churn-class-imbalance-with-treshold01/runs/1en7op7v</a><br/>\n",
       "                Run data is saved locally in <code>c:\\python\\anaconda_base\\pytorch-tutorial\\wandb\\run-20211003_223240-1en7op7v</code><br/><br/>\n",
       "            "
      ],
      "text/plain": [
       "<IPython.core.display.HTML object>"
      ]
     },
     "metadata": {},
     "output_type": "display_data"
    },
    {
     "name": "stdout",
     "output_type": "stream",
     "text": [
      "dataset size: 10000\n",
      "dataset samples shape: torch.Size([10000, 9])\n",
      "dataset classes shape: torch.Size([10000, 1])\n",
      "| Epoch: 0010 | Train Loss: 0.527 | Train Acc: 75.62% | Val. Loss: 0.517 | Val. Acc: 75.43% |\n",
      "| Epoch: 0020 | Train Loss: 0.499 | Train Acc: 79.44% | Val. Loss: 0.492 | Val. Acc: 79.42% |\n",
      "| Epoch: 0030 | Train Loss: 0.491 | Train Acc: 79.63% | Val. Loss: 0.483 | Val. Acc: 79.53% |\n",
      "| Epoch: 0040 | Train Loss: 0.486 | Train Acc: 79.80% | Val. Loss: 0.477 | Val. Acc: 79.42% |\n",
      "| Epoch: 0050 | Train Loss: 0.484 | Train Acc: 79.81% | Val. Loss: 0.465 | Val. Acc: 80.28% |\n",
      "| Epoch: 0060 | Train Loss: 0.482 | Train Acc: 79.87% | Val. Loss: 0.483 | Val. Acc: 78.88% |\n",
      "| Epoch: 0070 | Train Loss: 0.478 | Train Acc: 79.82% | Val. Loss: 0.472 | Val. Acc: 79.42% |\n",
      "| Epoch: 0080 | Train Loss: 0.475 | Train Acc: 79.90% | Val. Loss: 0.472 | Val. Acc: 79.42% |\n",
      "| Epoch: 0090 | Train Loss: 0.473 | Train Acc: 80.06% | Val. Loss: 0.455 | Val. Acc: 80.17% |\n",
      "| Epoch: 0100 | Train Loss: 0.471 | Train Acc: 80.19% | Val. Loss: 0.458 | Val. Acc: 79.53% |\n"
     ]
    },
    {
     "data": {
      "text/html": [
       "<br/>Waiting for W&B process to finish, PID 6132<br/>Program ended successfully."
      ],
      "text/plain": [
       "<IPython.core.display.HTML object>"
      ]
     },
     "metadata": {},
     "output_type": "display_data"
    },
    {
     "data": {
      "application/vnd.jupyter.widget-view+json": {
       "model_id": "fb55959e2e084a7c81b60f12b01fd748",
       "version_major": 2,
       "version_minor": 0
      },
      "text/plain": [
       "VBox(children=(Label(value=' 0.00MB of 0.00MB uploaded (0.00MB deduped)\\r'), FloatProgress(value=1.0, max=1.0)…"
      ]
     },
     "metadata": {},
     "output_type": "display_data"
    },
    {
     "data": {
      "text/html": [
       "Find user logs for this run at: <code>c:\\python\\anaconda_base\\pytorch-tutorial\\wandb\\run-20211003_223240-1en7op7v\\logs\\debug.log</code>"
      ],
      "text/plain": [
       "<IPython.core.display.HTML object>"
      ]
     },
     "metadata": {},
     "output_type": "display_data"
    },
    {
     "data": {
      "text/html": [
       "Find internal logs for this run at: <code>c:\\python\\anaconda_base\\pytorch-tutorial\\wandb\\run-20211003_223240-1en7op7v\\logs\\debug-internal.log</code>"
      ],
      "text/plain": [
       "<IPython.core.display.HTML object>"
      ]
     },
     "metadata": {},
     "output_type": "display_data"
    },
    {
     "data": {
      "text/html": [
       "<h3>Run summary:</h3><br/><style>\n",
       "    table.wandb td:nth-child(1) { padding: 0 10px; text-align: right }\n",
       "    </style><table class=\"wandb\">\n",
       "<tr><td>train_loss</td><td>0.47065</td></tr><tr><td>train_acc</td><td>0.80192</td></tr><tr><td>valid_loss</td><td>0.45847</td></tr><tr><td>valid_acc</td><td>0.79526</td></tr><tr><td>lr</td><td>0.0001</td></tr><tr><td>epoch_time</td><td>0.28924</td></tr><tr><td>_runtime</td><td>31</td></tr><tr><td>_timestamp</td><td>1633293191</td></tr><tr><td>_step</td><td>99</td></tr><tr><td>accuracy</td><td>0.8</td></tr><tr><td>prec</td><td>0.61111</td></tr><tr><td>recall</td><td>0.05392</td></tr><tr><td>f1</td><td>0.0991</td></tr></table>"
      ],
      "text/plain": [
       "<IPython.core.display.HTML object>"
      ]
     },
     "metadata": {},
     "output_type": "display_data"
    },
    {
     "data": {
      "text/html": [
       "<h3>Run history:</h3><br/><style>\n",
       "    table.wandb td:nth-child(1) { padding: 0 10px; text-align: right }\n",
       "    </style><table class=\"wandb\">\n",
       "<tr><td>train_loss</td><td>█▆▄▃▃▂▂▂▂▂▂▂▂▂▂▁▁▁▁▁▁▁▁▁▁▁▁▁▁▁▁▁▁▁▁▁▁▁▁▁</td></tr><tr><td>train_acc</td><td>▁▃▆▇████████████████████████████████████</td></tr><tr><td>valid_loss</td><td>█▆▄▃▃▂▂▂▂▂▂▂▂▂▂▂▂▂▁▁▂▁▁▁▁▁▁▂▁▁▁▂▂▁▂▁▁▁▁▁</td></tr><tr><td>valid_acc</td><td>▁▄▇▇████████████████████████████████████</td></tr><tr><td>lr</td><td>▁▁▁▁▁▁▁▁▁▁▁▁▁▁▁▁▁▁▁▁▁▁▁▁▁▁▁▁▁▁▁▁▁▁▁▁▁▁▁▁</td></tr><tr><td>epoch_time</td><td>▂▃▆▄▅▅▅▆▆▅▅▆▆▅▅▆▇▆▅▄▆▅▆▅▅▅▅▆▆▇█▁▃▂▃▂▂▂▅▅</td></tr><tr><td>_runtime</td><td>▁▁▁▁▁▂▂▂▂▃▃▃▃▃▃▄▄▄▄▅▅▅▅▅▅▅▆▆▆▇▇▇▇▇▇▇▇▇██</td></tr><tr><td>_timestamp</td><td>▁▁▁▁▁▂▂▂▂▃▃▃▃▃▃▄▄▄▄▅▅▅▅▅▅▅▆▆▆▇▇▇▇▇▇▇▇▇██</td></tr><tr><td>_step</td><td>▁▁▁▁▂▂▂▂▂▃▃▃▃▃▃▄▄▄▄▄▅▅▅▅▅▅▆▆▆▆▆▇▇▇▇▇▇███</td></tr></table><br/>"
      ],
      "text/plain": [
       "<IPython.core.display.HTML object>"
      ]
     },
     "metadata": {},
     "output_type": "display_data"
    },
    {
     "data": {
      "text/html": [
       "Synced 5 W&B file(s), 0 media file(s), 0 artifact file(s) and 0 other file(s)"
      ],
      "text/plain": [
       "<IPython.core.display.HTML object>"
      ]
     },
     "metadata": {},
     "output_type": "display_data"
    },
    {
     "data": {
      "text/html": [
       "\n",
       "                    <br/>Synced <strong style=\"color:#cdcd00\">fast-sweep-75</strong>: <a href=\"https://wandb.ai/teamtom/churn-class-imbalance-with-treshold01/runs/1en7op7v\" target=\"_blank\">https://wandb.ai/teamtom/churn-class-imbalance-with-treshold01/runs/1en7op7v</a><br/>\n",
       "                "
      ],
      "text/plain": [
       "<IPython.core.display.HTML object>"
      ]
     },
     "metadata": {},
     "output_type": "display_data"
    },
    {
     "name": "stderr",
     "output_type": "stream",
     "text": [
      "wandb: Agent Starting Run: y9r0s8rn with config:\n",
      "wandb: \tbatch_size: 32\n",
      "wandb: \tepochs: 100\n",
      "wandb: \tlearning_rate: 0.0001\n",
      "wandb: \tthreshold: 0.4368421052631579\n",
      "wandb: wandb version 0.12.3 is available!  To upgrade, please run:\n",
      "wandb:  $ pip install wandb --upgrade\n"
     ]
    },
    {
     "data": {
      "text/html": [
       "\n",
       "                Tracking run with wandb version 0.10.31<br/>\n",
       "                Syncing run <strong style=\"color:#cdcd00\">fearless-sweep-76</strong> to <a href=\"https://wandb.ai\" target=\"_blank\">Weights & Biases</a> <a href=\"https://docs.wandb.com/integrations/jupyter.html\" target=\"_blank\">(Documentation)</a>.<br/>\n",
       "                Project page: <a href=\"https://wandb.ai/teamtom/churn-class-imbalance-with-treshold01\" target=\"_blank\">https://wandb.ai/teamtom/churn-class-imbalance-with-treshold01</a><br/>\n",
       "                Sweep page: <a href=\"https://wandb.ai/teamtom/churn-class-imbalance-with-treshold01/sweeps/d22sfkpk\" target=\"_blank\">https://wandb.ai/teamtom/churn-class-imbalance-with-treshold01/sweeps/d22sfkpk</a><br/>\n",
       "Run page: <a href=\"https://wandb.ai/teamtom/churn-class-imbalance-with-treshold01/runs/y9r0s8rn\" target=\"_blank\">https://wandb.ai/teamtom/churn-class-imbalance-with-treshold01/runs/y9r0s8rn</a><br/>\n",
       "                Run data is saved locally in <code>c:\\python\\anaconda_base\\pytorch-tutorial\\wandb\\run-20211003_223315-y9r0s8rn</code><br/><br/>\n",
       "            "
      ],
      "text/plain": [
       "<IPython.core.display.HTML object>"
      ]
     },
     "metadata": {},
     "output_type": "display_data"
    },
    {
     "name": "stdout",
     "output_type": "stream",
     "text": [
      "dataset size: 10000\n",
      "dataset samples shape: torch.Size([10000, 9])\n",
      "dataset classes shape: torch.Size([10000, 1])\n",
      "| Epoch: 0010 | Train Loss: 0.537 | Train Acc: 79.70% | Val. Loss: 0.539 | Val. Acc: 78.77% |\n",
      "| Epoch: 0020 | Train Loss: 0.502 | Train Acc: 79.70% | Val. Loss: 0.498 | Val. Acc: 79.53% |\n",
      "| Epoch: 0030 | Train Loss: 0.499 | Train Acc: 79.44% | Val. Loss: 0.493 | Val. Acc: 79.53% |\n",
      "| Epoch: 0040 | Train Loss: 0.491 | Train Acc: 79.70% | Val. Loss: 0.486 | Val. Acc: 79.53% |\n",
      "| Epoch: 0050 | Train Loss: 0.489 | Train Acc: 79.61% | Val. Loss: 0.473 | Val. Acc: 80.28% |\n",
      "| Epoch: 0060 | Train Loss: 0.484 | Train Acc: 79.70% | Val. Loss: 0.475 | Val. Acc: 79.53% |\n",
      "| Epoch: 0070 | Train Loss: 0.481 | Train Acc: 79.70% | Val. Loss: 0.494 | Val. Acc: 77.26% |\n",
      "| Epoch: 0080 | Train Loss: 0.479 | Train Acc: 79.61% | Val. Loss: 0.470 | Val. Acc: 79.53% |\n",
      "| Epoch: 0090 | Train Loss: 0.476 | Train Acc: 79.71% | Val. Loss: 0.493 | Val. Acc: 78.02% |\n",
      "| Epoch: 0100 | Train Loss: 0.475 | Train Acc: 79.70% | Val. Loss: 0.488 | Val. Acc: 78.02% |\n"
     ]
    },
    {
     "name": "stderr",
     "output_type": "stream",
     "text": [
      "C:\\Users\\teamt\\AppData\\Roaming\\Python\\Python38\\site-packages\\sklearn\\metrics\\_classification.py:1221: UndefinedMetricWarning: Precision is ill-defined and being set to 0.0 due to no predicted samples. Use `zero_division` parameter to control this behavior.\n",
      "  _warn_prf(average, modifier, msg_start, len(result))\n"
     ]
    },
    {
     "data": {
      "text/html": [
       "<br/>Waiting for W&B process to finish, PID 25904<br/>Program ended successfully."
      ],
      "text/plain": [
       "<IPython.core.display.HTML object>"
      ]
     },
     "metadata": {},
     "output_type": "display_data"
    },
    {
     "data": {
      "application/vnd.jupyter.widget-view+json": {
       "model_id": "7c6f7ae10fed473facecd212f4e56bf2",
       "version_major": 2,
       "version_minor": 0
      },
      "text/plain": [
       "VBox(children=(Label(value=' 0.00MB of 0.00MB uploaded (0.00MB deduped)\\r'), FloatProgress(value=1.0, max=1.0)…"
      ]
     },
     "metadata": {},
     "output_type": "display_data"
    },
    {
     "data": {
      "text/html": [
       "Find user logs for this run at: <code>c:\\python\\anaconda_base\\pytorch-tutorial\\wandb\\run-20211003_223315-y9r0s8rn\\logs\\debug.log</code>"
      ],
      "text/plain": [
       "<IPython.core.display.HTML object>"
      ]
     },
     "metadata": {},
     "output_type": "display_data"
    },
    {
     "data": {
      "text/html": [
       "Find internal logs for this run at: <code>c:\\python\\anaconda_base\\pytorch-tutorial\\wandb\\run-20211003_223315-y9r0s8rn\\logs\\debug-internal.log</code>"
      ],
      "text/plain": [
       "<IPython.core.display.HTML object>"
      ]
     },
     "metadata": {},
     "output_type": "display_data"
    },
    {
     "data": {
      "text/html": [
       "<h3>Run summary:</h3><br/><style>\n",
       "    table.wandb td:nth-child(1) { padding: 0 10px; text-align: right }\n",
       "    </style><table class=\"wandb\">\n",
       "<tr><td>train_loss</td><td>0.47459</td></tr><tr><td>train_acc</td><td>0.797</td></tr><tr><td>valid_loss</td><td>0.48812</td></tr><tr><td>valid_acc</td><td>0.78017</td></tr><tr><td>lr</td><td>0.0001</td></tr><tr><td>epoch_time</td><td>0.20333</td></tr><tr><td>_runtime</td><td>30</td></tr><tr><td>_timestamp</td><td>1633293226</td></tr><tr><td>_step</td><td>99</td></tr><tr><td>accuracy</td><td>0.796</td></tr><tr><td>prec</td><td>0.0</td></tr><tr><td>recall</td><td>0.0</td></tr><tr><td>f1</td><td>0.0</td></tr></table>"
      ],
      "text/plain": [
       "<IPython.core.display.HTML object>"
      ]
     },
     "metadata": {},
     "output_type": "display_data"
    },
    {
     "data": {
      "text/html": [
       "<h3>Run history:</h3><br/><style>\n",
       "    table.wandb td:nth-child(1) { padding: 0 10px; text-align: right }\n",
       "    </style><table class=\"wandb\">\n",
       "<tr><td>train_loss</td><td>█▆▄▃▃▂▂▂▂▂▂▂▂▂▁▁▁▁▁▁▁▁▁▁▁▁▁▁▁▁▁▁▁▁▁▁▁▁▁▁</td></tr><tr><td>train_acc</td><td>▁▂▇█████████████████████████████████████</td></tr><tr><td>valid_loss</td><td>█▆▅▄▃▃▂▂▂▂▂▂▂▂▂▂▂▂▂▂▁▁▁▂▂▂▂▂▂▁▁▂▁▁▂▁▁▁▁▂</td></tr><tr><td>valid_acc</td><td>▁▃▇█████████████████████████████████████</td></tr><tr><td>lr</td><td>▁▁▁▁▁▁▁▁▁▁▁▁▁▁▁▁▁▁▁▁▁▁▁▁▁▁▁▁▁▁▁▁▁▁▁▁▁▁▁▁</td></tr><tr><td>epoch_time</td><td>▁▅▄▃▂▃▄▄▄█▄▄▄▃▄▄▄▃▃▄▃▄▃▇▃▃▄▄▄▆▁▂▂▂▂▁▁▂▅▂</td></tr><tr><td>_runtime</td><td>▁▁▁▁▂▂▂▂▃▃▃▃▃▃▃▄▄▄▄▅▅▅▅▅▅▆▆▆▆▇▇▇▇▇▇▇▇▇██</td></tr><tr><td>_timestamp</td><td>▁▁▁▁▂▂▂▂▃▃▃▃▃▃▃▄▄▄▄▅▅▅▅▅▅▆▆▆▆▇▇▇▇▇▇▇▇▇██</td></tr><tr><td>_step</td><td>▁▁▁▁▂▂▂▂▂▃▃▃▃▃▃▄▄▄▄▄▅▅▅▅▅▅▆▆▆▆▆▇▇▇▇▇▇███</td></tr></table><br/>"
      ],
      "text/plain": [
       "<IPython.core.display.HTML object>"
      ]
     },
     "metadata": {},
     "output_type": "display_data"
    },
    {
     "data": {
      "text/html": [
       "Synced 5 W&B file(s), 0 media file(s), 0 artifact file(s) and 0 other file(s)"
      ],
      "text/plain": [
       "<IPython.core.display.HTML object>"
      ]
     },
     "metadata": {},
     "output_type": "display_data"
    },
    {
     "data": {
      "text/html": [
       "\n",
       "                    <br/>Synced <strong style=\"color:#cdcd00\">fearless-sweep-76</strong>: <a href=\"https://wandb.ai/teamtom/churn-class-imbalance-with-treshold01/runs/y9r0s8rn\" target=\"_blank\">https://wandb.ai/teamtom/churn-class-imbalance-with-treshold01/runs/y9r0s8rn</a><br/>\n",
       "                "
      ],
      "text/plain": [
       "<IPython.core.display.HTML object>"
      ]
     },
     "metadata": {},
     "output_type": "display_data"
    },
    {
     "name": "stderr",
     "output_type": "stream",
     "text": [
      "wandb: Agent Starting Run: h4d27uqs with config:\n",
      "wandb: \tbatch_size: 32\n",
      "wandb: \tepochs: 100\n",
      "wandb: \tlearning_rate: 0.0001\n",
      "wandb: \tthreshold: 0.4526315789473685\n",
      "wandb: wandb version 0.12.3 is available!  To upgrade, please run:\n",
      "wandb:  $ pip install wandb --upgrade\n"
     ]
    },
    {
     "data": {
      "text/html": [
       "\n",
       "                Tracking run with wandb version 0.10.31<br/>\n",
       "                Syncing run <strong style=\"color:#cdcd00\">radiant-sweep-77</strong> to <a href=\"https://wandb.ai\" target=\"_blank\">Weights & Biases</a> <a href=\"https://docs.wandb.com/integrations/jupyter.html\" target=\"_blank\">(Documentation)</a>.<br/>\n",
       "                Project page: <a href=\"https://wandb.ai/teamtom/churn-class-imbalance-with-treshold01\" target=\"_blank\">https://wandb.ai/teamtom/churn-class-imbalance-with-treshold01</a><br/>\n",
       "                Sweep page: <a href=\"https://wandb.ai/teamtom/churn-class-imbalance-with-treshold01/sweeps/d22sfkpk\" target=\"_blank\">https://wandb.ai/teamtom/churn-class-imbalance-with-treshold01/sweeps/d22sfkpk</a><br/>\n",
       "Run page: <a href=\"https://wandb.ai/teamtom/churn-class-imbalance-with-treshold01/runs/h4d27uqs\" target=\"_blank\">https://wandb.ai/teamtom/churn-class-imbalance-with-treshold01/runs/h4d27uqs</a><br/>\n",
       "                Run data is saved locally in <code>c:\\python\\anaconda_base\\pytorch-tutorial\\wandb\\run-20211003_223350-h4d27uqs</code><br/><br/>\n",
       "            "
      ],
      "text/plain": [
       "<IPython.core.display.HTML object>"
      ]
     },
     "metadata": {},
     "output_type": "display_data"
    },
    {
     "name": "stdout",
     "output_type": "stream",
     "text": [
      "dataset size: 10000\n",
      "dataset samples shape: torch.Size([10000, 9])\n",
      "dataset classes shape: torch.Size([10000, 1])\n",
      "| Epoch: 0010 | Train Loss: 0.516 | Train Acc: 79.24% | Val. Loss: 0.512 | Val. Acc: 78.88% |\n",
      "| Epoch: 0020 | Train Loss: 0.492 | Train Acc: 79.45% | Val. Loss: 0.473 | Val. Acc: 80.28% |\n",
      "| Epoch: 0030 | Train Loss: 0.488 | Train Acc: 79.45% | Val. Loss: 0.469 | Val. Acc: 80.28% |\n",
      "| Epoch: 0040 | Train Loss: 0.483 | Train Acc: 79.63% | Val. Loss: 0.474 | Val. Acc: 79.53% |\n",
      "| Epoch: 0050 | Train Loss: 0.479 | Train Acc: 79.77% | Val. Loss: 0.477 | Val. Acc: 79.53% |\n",
      "| Epoch: 0060 | Train Loss: 0.478 | Train Acc: 79.77% | Val. Loss: 0.469 | Val. Acc: 79.53% |\n",
      "| Epoch: 0070 | Train Loss: 0.477 | Train Acc: 79.75% | Val. Loss: 0.476 | Val. Acc: 78.77% |\n",
      "| Epoch: 0080 | Train Loss: 0.473 | Train Acc: 80.06% | Val. Loss: 0.472 | Val. Acc: 79.53% |\n",
      "| Epoch: 0090 | Train Loss: 0.475 | Train Acc: 79.91% | Val. Loss: 0.473 | Val. Acc: 79.63% |\n",
      "| Epoch: 0100 | Train Loss: 0.469 | Train Acc: 80.28% | Val. Loss: 0.460 | Val. Acc: 79.42% |\n"
     ]
    },
    {
     "data": {
      "text/html": [
       "<br/>Waiting for W&B process to finish, PID 25948<br/>Program ended successfully."
      ],
      "text/plain": [
       "<IPython.core.display.HTML object>"
      ]
     },
     "metadata": {},
     "output_type": "display_data"
    },
    {
     "data": {
      "application/vnd.jupyter.widget-view+json": {
       "model_id": "cef23f666c7d43ceb628be44d1994528",
       "version_major": 2,
       "version_minor": 0
      },
      "text/plain": [
       "VBox(children=(Label(value=' 0.00MB of 0.00MB uploaded (0.00MB deduped)\\r'), FloatProgress(value=1.0, max=1.0)…"
      ]
     },
     "metadata": {},
     "output_type": "display_data"
    },
    {
     "data": {
      "text/html": [
       "Find user logs for this run at: <code>c:\\python\\anaconda_base\\pytorch-tutorial\\wandb\\run-20211003_223350-h4d27uqs\\logs\\debug.log</code>"
      ],
      "text/plain": [
       "<IPython.core.display.HTML object>"
      ]
     },
     "metadata": {},
     "output_type": "display_data"
    },
    {
     "data": {
      "text/html": [
       "Find internal logs for this run at: <code>c:\\python\\anaconda_base\\pytorch-tutorial\\wandb\\run-20211003_223350-h4d27uqs\\logs\\debug-internal.log</code>"
      ],
      "text/plain": [
       "<IPython.core.display.HTML object>"
      ]
     },
     "metadata": {},
     "output_type": "display_data"
    },
    {
     "data": {
      "text/html": [
       "<h3>Run summary:</h3><br/><style>\n",
       "    table.wandb td:nth-child(1) { padding: 0 10px; text-align: right }\n",
       "    </style><table class=\"wandb\">\n",
       "<tr><td>train_loss</td><td>0.46948</td></tr><tr><td>train_acc</td><td>0.80278</td></tr><tr><td>valid_loss</td><td>0.46045</td></tr><tr><td>valid_acc</td><td>0.79418</td></tr><tr><td>lr</td><td>0.0001</td></tr><tr><td>epoch_time</td><td>0.32347</td></tr><tr><td>_runtime</td><td>29</td></tr><tr><td>_timestamp</td><td>1633293259</td></tr><tr><td>_step</td><td>99</td></tr><tr><td>accuracy</td><td>0.797</td></tr><tr><td>prec</td><td>0.6</td></tr><tr><td>recall</td><td>0.01471</td></tr><tr><td>f1</td><td>0.02871</td></tr></table>"
      ],
      "text/plain": [
       "<IPython.core.display.HTML object>"
      ]
     },
     "metadata": {},
     "output_type": "display_data"
    },
    {
     "data": {
      "text/html": [
       "<h3>Run history:</h3><br/><style>\n",
       "    table.wandb td:nth-child(1) { padding: 0 10px; text-align: right }\n",
       "    </style><table class=\"wandb\">\n",
       "<tr><td>train_loss</td><td>█▆▄▃▂▂▂▂▂▂▂▂▁▁▁▁▁▁▁▁▁▁▁▁▁▁▁▁▁▁▁▁▁▁▁▁▁▁▁▁</td></tr><tr><td>train_acc</td><td>▁▅▇█████████████████████████████████████</td></tr><tr><td>valid_loss</td><td>█▆▄▃▃▂▂▂▂▂▂▂▁▂▁▂▁▁▂▁▁▂▂▁▁▁▁▂▁▁▂▁▁▁▁▁▁▁▁▁</td></tr><tr><td>valid_acc</td><td>▁▄▇█▇███████████████████████████████████</td></tr><tr><td>lr</td><td>▁▁▁▁▁▁▁▁▁▁▁▁▁▁▁▁▁▁▁▁▁▁▁▁▁▁▁▁▁▁▁▁▁▁▁▁▁▁▁▁</td></tr><tr><td>epoch_time</td><td>▂▅▆▅▅▆█▇▆▆▇▆▆▄▇▅▇▅▆▆▄▆▆▆▆▅▆▆▄█▁▂▃▃▃▂▃▅▂█</td></tr><tr><td>_runtime</td><td>▁▁▁▂▂▂▂▂▃▃▃▃▃▃▄▄▄▄▄▅▅▅▅▅▅▆▆▆▆▆▇▇▇▇▇▇▇▇██</td></tr><tr><td>_timestamp</td><td>▁▁▁▂▂▂▂▂▃▃▃▃▃▃▄▄▄▄▄▅▅▅▅▅▅▆▆▆▆▆▇▇▇▇▇▇▇▇██</td></tr><tr><td>_step</td><td>▁▁▁▁▂▂▂▂▂▃▃▃▃▃▃▄▄▄▄▄▅▅▅▅▅▅▆▆▆▆▆▇▇▇▇▇▇███</td></tr></table><br/>"
      ],
      "text/plain": [
       "<IPython.core.display.HTML object>"
      ]
     },
     "metadata": {},
     "output_type": "display_data"
    },
    {
     "data": {
      "text/html": [
       "Synced 5 W&B file(s), 0 media file(s), 0 artifact file(s) and 0 other file(s)"
      ],
      "text/plain": [
       "<IPython.core.display.HTML object>"
      ]
     },
     "metadata": {},
     "output_type": "display_data"
    },
    {
     "data": {
      "text/html": [
       "\n",
       "                    <br/>Synced <strong style=\"color:#cdcd00\">radiant-sweep-77</strong>: <a href=\"https://wandb.ai/teamtom/churn-class-imbalance-with-treshold01/runs/h4d27uqs\" target=\"_blank\">https://wandb.ai/teamtom/churn-class-imbalance-with-treshold01/runs/h4d27uqs</a><br/>\n",
       "                "
      ],
      "text/plain": [
       "<IPython.core.display.HTML object>"
      ]
     },
     "metadata": {},
     "output_type": "display_data"
    },
    {
     "name": "stderr",
     "output_type": "stream",
     "text": [
      "wandb: Agent Starting Run: 55w6je56 with config:\n",
      "wandb: \tbatch_size: 32\n",
      "wandb: \tepochs: 100\n",
      "wandb: \tlearning_rate: 0.0001\n",
      "wandb: \tthreshold: 0.46842105263157896\n",
      "wandb: wandb version 0.12.3 is available!  To upgrade, please run:\n",
      "wandb:  $ pip install wandb --upgrade\n"
     ]
    },
    {
     "data": {
      "text/html": [
       "\n",
       "                Tracking run with wandb version 0.10.31<br/>\n",
       "                Syncing run <strong style=\"color:#cdcd00\">divine-sweep-78</strong> to <a href=\"https://wandb.ai\" target=\"_blank\">Weights & Biases</a> <a href=\"https://docs.wandb.com/integrations/jupyter.html\" target=\"_blank\">(Documentation)</a>.<br/>\n",
       "                Project page: <a href=\"https://wandb.ai/teamtom/churn-class-imbalance-with-treshold01\" target=\"_blank\">https://wandb.ai/teamtom/churn-class-imbalance-with-treshold01</a><br/>\n",
       "                Sweep page: <a href=\"https://wandb.ai/teamtom/churn-class-imbalance-with-treshold01/sweeps/d22sfkpk\" target=\"_blank\">https://wandb.ai/teamtom/churn-class-imbalance-with-treshold01/sweeps/d22sfkpk</a><br/>\n",
       "Run page: <a href=\"https://wandb.ai/teamtom/churn-class-imbalance-with-treshold01/runs/55w6je56\" target=\"_blank\">https://wandb.ai/teamtom/churn-class-imbalance-with-treshold01/runs/55w6je56</a><br/>\n",
       "                Run data is saved locally in <code>c:\\python\\anaconda_base\\pytorch-tutorial\\wandb\\run-20211003_223424-55w6je56</code><br/><br/>\n",
       "            "
      ],
      "text/plain": [
       "<IPython.core.display.HTML object>"
      ]
     },
     "metadata": {},
     "output_type": "display_data"
    },
    {
     "name": "stdout",
     "output_type": "stream",
     "text": [
      "dataset size: 10000\n",
      "dataset samples shape: torch.Size([10000, 9])\n",
      "dataset classes shape: torch.Size([10000, 1])\n",
      "| Epoch: 0010 | Train Loss: 0.542 | Train Acc: 79.70% | Val. Loss: 0.533 | Val. Acc: 80.28% |\n",
      "| Epoch: 0020 | Train Loss: 0.502 | Train Acc: 79.61% | Val. Loss: 0.498 | Val. Acc: 79.53% |\n",
      "| Epoch: 0030 | Train Loss: 0.494 | Train Acc: 79.70% | Val. Loss: 0.496 | Val. Acc: 78.77% |\n",
      "| Epoch: 0040 | Train Loss: 0.490 | Train Acc: 79.70% | Val. Loss: 0.475 | Val. Acc: 80.28% |\n",
      "| Epoch: 0050 | Train Loss: 0.486 | Train Acc: 79.70% | Val. Loss: 0.472 | Val. Acc: 80.28% |\n",
      "| Epoch: 0060 | Train Loss: 0.483 | Train Acc: 79.70% | Val. Loss: 0.469 | Val. Acc: 80.28% |\n",
      "| Epoch: 0070 | Train Loss: 0.481 | Train Acc: 79.61% | Val. Loss: 0.480 | Val. Acc: 78.77% |\n",
      "| Epoch: 0080 | Train Loss: 0.477 | Train Acc: 79.70% | Val. Loss: 0.473 | Val. Acc: 79.53% |\n",
      "| Epoch: 0090 | Train Loss: 0.475 | Train Acc: 79.74% | Val. Loss: 0.476 | Val. Acc: 78.77% |\n",
      "| Epoch: 0100 | Train Loss: 0.474 | Train Acc: 79.68% | Val. Loss: 0.471 | Val. Acc: 78.77% |\n"
     ]
    },
    {
     "name": "stderr",
     "output_type": "stream",
     "text": [
      "C:\\Users\\teamt\\AppData\\Roaming\\Python\\Python38\\site-packages\\sklearn\\metrics\\_classification.py:1221: UndefinedMetricWarning: Precision is ill-defined and being set to 0.0 due to no predicted samples. Use `zero_division` parameter to control this behavior.\n",
      "  _warn_prf(average, modifier, msg_start, len(result))\n"
     ]
    },
    {
     "data": {
      "text/html": [
       "<br/>Waiting for W&B process to finish, PID 25664<br/>Program ended successfully."
      ],
      "text/plain": [
       "<IPython.core.display.HTML object>"
      ]
     },
     "metadata": {},
     "output_type": "display_data"
    },
    {
     "data": {
      "application/vnd.jupyter.widget-view+json": {
       "model_id": "9e90b3764db84dcb92b0bb41fe232a57",
       "version_major": 2,
       "version_minor": 0
      },
      "text/plain": [
       "VBox(children=(Label(value=' 0.00MB of 0.00MB uploaded (0.00MB deduped)\\r'), FloatProgress(value=1.0, max=1.0)…"
      ]
     },
     "metadata": {},
     "output_type": "display_data"
    },
    {
     "data": {
      "text/html": [
       "Find user logs for this run at: <code>c:\\python\\anaconda_base\\pytorch-tutorial\\wandb\\run-20211003_223424-55w6je56\\logs\\debug.log</code>"
      ],
      "text/plain": [
       "<IPython.core.display.HTML object>"
      ]
     },
     "metadata": {},
     "output_type": "display_data"
    },
    {
     "data": {
      "text/html": [
       "Find internal logs for this run at: <code>c:\\python\\anaconda_base\\pytorch-tutorial\\wandb\\run-20211003_223424-55w6je56\\logs\\debug-internal.log</code>"
      ],
      "text/plain": [
       "<IPython.core.display.HTML object>"
      ]
     },
     "metadata": {},
     "output_type": "display_data"
    },
    {
     "data": {
      "text/html": [
       "<h3>Run summary:</h3><br/><style>\n",
       "    table.wandb td:nth-child(1) { padding: 0 10px; text-align: right }\n",
       "    </style><table class=\"wandb\">\n",
       "<tr><td>train_loss</td><td>0.47368</td></tr><tr><td>train_acc</td><td>0.79675</td></tr><tr><td>valid_loss</td><td>0.47142</td></tr><tr><td>valid_acc</td><td>0.78772</td></tr><tr><td>lr</td><td>0.0001</td></tr><tr><td>epoch_time</td><td>0.33263</td></tr><tr><td>_runtime</td><td>39</td></tr><tr><td>_timestamp</td><td>1633293303</td></tr><tr><td>_step</td><td>99</td></tr><tr><td>accuracy</td><td>0.796</td></tr><tr><td>prec</td><td>0.0</td></tr><tr><td>recall</td><td>0.0</td></tr><tr><td>f1</td><td>0.0</td></tr></table>"
      ],
      "text/plain": [
       "<IPython.core.display.HTML object>"
      ]
     },
     "metadata": {},
     "output_type": "display_data"
    },
    {
     "data": {
      "text/html": [
       "<h3>Run history:</h3><br/><style>\n",
       "    table.wandb td:nth-child(1) { padding: 0 10px; text-align: right }\n",
       "    </style><table class=\"wandb\">\n",
       "<tr><td>train_loss</td><td>█▆▄▃▃▂▂▂▂▂▂▂▂▁▁▁▁▁▁▁▁▁▁▁▁▁▁▁▁▁▁▁▁▁▁▁▁▁▁▁</td></tr><tr><td>train_acc</td><td>▁▃██████████████████████████████████████</td></tr><tr><td>valid_loss</td><td>█▆▄▄▃▃▂▂▂▂▂▂▂▂▂▂▂▂▁▂▁▁▁▁▁▂▁▁▁▁▂▁▁▁▁▁▁▁▁▁</td></tr><tr><td>valid_acc</td><td>▁▅██████████████████████████████████████</td></tr><tr><td>lr</td><td>▁▁▁▁▁▁▁▁▁▁▁▁▁▁▁▁▁▁▁▁▁▁▁▁▁▁▁▁▁▁▁▁▁▁▁▁▁▁▁▁</td></tr><tr><td>epoch_time</td><td>▂▃▂▂▃▂▂▂▃▂▁▂▄▃▄▄▃▃█▄▄▃▅▅▃▂▂▃▇▅▂▁▃▂▃▂▂▂▅▂</td></tr><tr><td>_runtime</td><td>▁▁▁▂▂▂▂▂▂▂▃▃▃▃▃▄▄▄▄▄▅▅▅▅▅▆▆▆▆▆▆▇▇▇▇▇▇███</td></tr><tr><td>_timestamp</td><td>▁▁▁▂▂▂▂▂▂▂▃▃▃▃▃▄▄▄▄▄▅▅▅▅▅▆▆▆▆▆▆▇▇▇▇▇▇███</td></tr><tr><td>_step</td><td>▁▁▁▁▂▂▂▂▂▃▃▃▃▃▃▄▄▄▄▄▅▅▅▅▅▅▆▆▆▆▆▇▇▇▇▇▇███</td></tr></table><br/>"
      ],
      "text/plain": [
       "<IPython.core.display.HTML object>"
      ]
     },
     "metadata": {},
     "output_type": "display_data"
    },
    {
     "data": {
      "text/html": [
       "Synced 5 W&B file(s), 0 media file(s), 0 artifact file(s) and 0 other file(s)"
      ],
      "text/plain": [
       "<IPython.core.display.HTML object>"
      ]
     },
     "metadata": {},
     "output_type": "display_data"
    },
    {
     "data": {
      "text/html": [
       "\n",
       "                    <br/>Synced <strong style=\"color:#cdcd00\">divine-sweep-78</strong>: <a href=\"https://wandb.ai/teamtom/churn-class-imbalance-with-treshold01/runs/55w6je56\" target=\"_blank\">https://wandb.ai/teamtom/churn-class-imbalance-with-treshold01/runs/55w6je56</a><br/>\n",
       "                "
      ],
      "text/plain": [
       "<IPython.core.display.HTML object>"
      ]
     },
     "metadata": {},
     "output_type": "display_data"
    },
    {
     "name": "stderr",
     "output_type": "stream",
     "text": [
      "wandb: Agent Starting Run: pxqzmgu5 with config:\n",
      "wandb: \tbatch_size: 32\n",
      "wandb: \tepochs: 100\n",
      "wandb: \tlearning_rate: 0.0001\n",
      "wandb: \tthreshold: 0.4842105263157895\n",
      "wandb: wandb version 0.12.3 is available!  To upgrade, please run:\n",
      "wandb:  $ pip install wandb --upgrade\n"
     ]
    },
    {
     "data": {
      "text/html": [
       "\n",
       "                Tracking run with wandb version 0.10.31<br/>\n",
       "                Syncing run <strong style=\"color:#cdcd00\">dainty-sweep-79</strong> to <a href=\"https://wandb.ai\" target=\"_blank\">Weights & Biases</a> <a href=\"https://docs.wandb.com/integrations/jupyter.html\" target=\"_blank\">(Documentation)</a>.<br/>\n",
       "                Project page: <a href=\"https://wandb.ai/teamtom/churn-class-imbalance-with-treshold01\" target=\"_blank\">https://wandb.ai/teamtom/churn-class-imbalance-with-treshold01</a><br/>\n",
       "                Sweep page: <a href=\"https://wandb.ai/teamtom/churn-class-imbalance-with-treshold01/sweeps/d22sfkpk\" target=\"_blank\">https://wandb.ai/teamtom/churn-class-imbalance-with-treshold01/sweeps/d22sfkpk</a><br/>\n",
       "Run page: <a href=\"https://wandb.ai/teamtom/churn-class-imbalance-with-treshold01/runs/pxqzmgu5\" target=\"_blank\">https://wandb.ai/teamtom/churn-class-imbalance-with-treshold01/runs/pxqzmgu5</a><br/>\n",
       "                Run data is saved locally in <code>c:\\python\\anaconda_base\\pytorch-tutorial\\wandb\\run-20211003_223507-pxqzmgu5</code><br/><br/>\n",
       "            "
      ],
      "text/plain": [
       "<IPython.core.display.HTML object>"
      ]
     },
     "metadata": {},
     "output_type": "display_data"
    },
    {
     "name": "stdout",
     "output_type": "stream",
     "text": [
      "dataset size: 10000\n",
      "dataset samples shape: torch.Size([10000, 9])\n",
      "dataset classes shape: torch.Size([10000, 1])\n",
      "| Epoch: 0010 | Train Loss: 0.546 | Train Acc: 78.24% | Val. Loss: 0.542 | Val. Acc: 78.02% |\n",
      "| Epoch: 0020 | Train Loss: 0.497 | Train Acc: 79.70% | Val. Loss: 0.486 | Val. Acc: 80.28% |\n",
      "| Epoch: 0030 | Train Loss: 0.491 | Train Acc: 79.61% | Val. Loss: 0.478 | Val. Acc: 80.28% |\n",
      "| Epoch: 0040 | Train Loss: 0.486 | Train Acc: 79.70% | Val. Loss: 0.487 | Val. Acc: 79.53% |\n",
      "| Epoch: 0050 | Train Loss: 0.483 | Train Acc: 79.64% | Val. Loss: 0.480 | Val. Acc: 79.53% |\n",
      "| Epoch: 0060 | Train Loss: 0.480 | Train Acc: 79.65% | Val. Loss: 0.465 | Val. Acc: 80.28% |\n",
      "| Epoch: 0070 | Train Loss: 0.476 | Train Acc: 79.77% | Val. Loss: 0.461 | Val. Acc: 80.28% |\n",
      "| Epoch: 0080 | Train Loss: 0.475 | Train Acc: 79.81% | Val. Loss: 0.468 | Val. Acc: 79.53% |\n",
      "| Epoch: 0090 | Train Loss: 0.472 | Train Acc: 79.87% | Val. Loss: 0.475 | Val. Acc: 78.77% |\n",
      "| Epoch: 0100 | Train Loss: 0.472 | Train Acc: 79.85% | Val. Loss: 0.465 | Val. Acc: 79.63% |\n"
     ]
    },
    {
     "data": {
      "text/html": [
       "<br/>Waiting for W&B process to finish, PID 25848<br/>Program ended successfully."
      ],
      "text/plain": [
       "<IPython.core.display.HTML object>"
      ]
     },
     "metadata": {},
     "output_type": "display_data"
    },
    {
     "data": {
      "application/vnd.jupyter.widget-view+json": {
       "model_id": "31e7fbf541b54a2689c1fb790213b168",
       "version_major": 2,
       "version_minor": 0
      },
      "text/plain": [
       "VBox(children=(Label(value=' 0.00MB of 0.00MB uploaded (0.00MB deduped)\\r'), FloatProgress(value=1.0, max=1.0)…"
      ]
     },
     "metadata": {},
     "output_type": "display_data"
    },
    {
     "data": {
      "text/html": [
       "Find user logs for this run at: <code>c:\\python\\anaconda_base\\pytorch-tutorial\\wandb\\run-20211003_223507-pxqzmgu5\\logs\\debug.log</code>"
      ],
      "text/plain": [
       "<IPython.core.display.HTML object>"
      ]
     },
     "metadata": {},
     "output_type": "display_data"
    },
    {
     "data": {
      "text/html": [
       "Find internal logs for this run at: <code>c:\\python\\anaconda_base\\pytorch-tutorial\\wandb\\run-20211003_223507-pxqzmgu5\\logs\\debug-internal.log</code>"
      ],
      "text/plain": [
       "<IPython.core.display.HTML object>"
      ]
     },
     "metadata": {},
     "output_type": "display_data"
    },
    {
     "data": {
      "text/html": [
       "<h3>Run summary:</h3><br/><style>\n",
       "    table.wandb td:nth-child(1) { padding: 0 10px; text-align: right }\n",
       "    </style><table class=\"wandb\">\n",
       "<tr><td>train_loss</td><td>0.47203</td></tr><tr><td>train_acc</td><td>0.79847</td></tr><tr><td>valid_loss</td><td>0.46466</td></tr><tr><td>valid_acc</td><td>0.79634</td></tr><tr><td>lr</td><td>0.0001</td></tr><tr><td>epoch_time</td><td>0.30304</td></tr><tr><td>_runtime</td><td>36</td></tr><tr><td>_timestamp</td><td>1633293344</td></tr><tr><td>_step</td><td>99</td></tr><tr><td>accuracy</td><td>0.795</td></tr><tr><td>prec</td><td>0.33333</td></tr><tr><td>recall</td><td>0.0049</td></tr><tr><td>f1</td><td>0.00966</td></tr></table>"
      ],
      "text/plain": [
       "<IPython.core.display.HTML object>"
      ]
     },
     "metadata": {},
     "output_type": "display_data"
    },
    {
     "data": {
      "text/html": [
       "<h3>Run history:</h3><br/><style>\n",
       "    table.wandb td:nth-child(1) { padding: 0 10px; text-align: right }\n",
       "    </style><table class=\"wandb\">\n",
       "<tr><td>train_loss</td><td>█▆▄▃▃▂▂▂▂▂▂▁▁▁▁▁▁▁▁▁▁▁▁▁▁▁▁▁▁▁▁▁▁▁▁▁▁▁▁▁</td></tr><tr><td>train_acc</td><td>▁▄▇▇████████████████████████████████████</td></tr><tr><td>valid_loss</td><td>█▆▄▄▃▂▂▂▂▂▂▂▂▂▂▂▂▂▁▂▁▁▁▁▁▁▂▁▁▁▁▁▁▁▁▁▁▁▁▁</td></tr><tr><td>valid_acc</td><td>▁▄▇▇████████████████████████████████████</td></tr><tr><td>lr</td><td>▁▁▁▁▁▁▁▁▁▁▁▁▁▁▁▁▁▁▁▁▁▁▁▁▁▁▁▁▁▁▁▁▁▁▁▁▁▁▁▁</td></tr><tr><td>epoch_time</td><td>▂▂▂▂▁▅▂▂▃▆▂▄▃▄▃▃▃▅▅▂▂▁▃▅▃▃▃▅▇▆▂▁▂▂█▃▃▅▂▂</td></tr><tr><td>_runtime</td><td>▁▁▁▁▂▂▂▂▂▂▃▃▃▃▃▄▄▄▄▄▅▅▅▅▅▅▆▆▆▆▆▇▇▇▇▇▇███</td></tr><tr><td>_timestamp</td><td>▁▁▁▁▂▂▂▂▂▂▃▃▃▃▃▄▄▄▄▄▅▅▅▅▅▅▆▆▆▆▆▇▇▇▇▇▇███</td></tr><tr><td>_step</td><td>▁▁▁▁▂▂▂▂▂▃▃▃▃▃▃▄▄▄▄▄▅▅▅▅▅▅▆▆▆▆▆▇▇▇▇▇▇███</td></tr></table><br/>"
      ],
      "text/plain": [
       "<IPython.core.display.HTML object>"
      ]
     },
     "metadata": {},
     "output_type": "display_data"
    },
    {
     "data": {
      "text/html": [
       "Synced 5 W&B file(s), 0 media file(s), 0 artifact file(s) and 0 other file(s)"
      ],
      "text/plain": [
       "<IPython.core.display.HTML object>"
      ]
     },
     "metadata": {},
     "output_type": "display_data"
    },
    {
     "data": {
      "text/html": [
       "\n",
       "                    <br/>Synced <strong style=\"color:#cdcd00\">dainty-sweep-79</strong>: <a href=\"https://wandb.ai/teamtom/churn-class-imbalance-with-treshold01/runs/pxqzmgu5\" target=\"_blank\">https://wandb.ai/teamtom/churn-class-imbalance-with-treshold01/runs/pxqzmgu5</a><br/>\n",
       "                "
      ],
      "text/plain": [
       "<IPython.core.display.HTML object>"
      ]
     },
     "metadata": {},
     "output_type": "display_data"
    },
    {
     "name": "stderr",
     "output_type": "stream",
     "text": [
      "wandb: Agent Starting Run: hk5drwm4 with config:\n",
      "wandb: \tbatch_size: 32\n",
      "wandb: \tepochs: 100\n",
      "wandb: \tlearning_rate: 0.0001\n",
      "wandb: \tthreshold: 0.5\n",
      "wandb: wandb version 0.12.3 is available!  To upgrade, please run:\n",
      "wandb:  $ pip install wandb --upgrade\n"
     ]
    },
    {
     "data": {
      "text/html": [
       "\n",
       "                Tracking run with wandb version 0.10.31<br/>\n",
       "                Syncing run <strong style=\"color:#cdcd00\">astral-sweep-80</strong> to <a href=\"https://wandb.ai\" target=\"_blank\">Weights & Biases</a> <a href=\"https://docs.wandb.com/integrations/jupyter.html\" target=\"_blank\">(Documentation)</a>.<br/>\n",
       "                Project page: <a href=\"https://wandb.ai/teamtom/churn-class-imbalance-with-treshold01\" target=\"_blank\">https://wandb.ai/teamtom/churn-class-imbalance-with-treshold01</a><br/>\n",
       "                Sweep page: <a href=\"https://wandb.ai/teamtom/churn-class-imbalance-with-treshold01/sweeps/d22sfkpk\" target=\"_blank\">https://wandb.ai/teamtom/churn-class-imbalance-with-treshold01/sweeps/d22sfkpk</a><br/>\n",
       "Run page: <a href=\"https://wandb.ai/teamtom/churn-class-imbalance-with-treshold01/runs/hk5drwm4\" target=\"_blank\">https://wandb.ai/teamtom/churn-class-imbalance-with-treshold01/runs/hk5drwm4</a><br/>\n",
       "                Run data is saved locally in <code>c:\\python\\anaconda_base\\pytorch-tutorial\\wandb\\run-20211003_223548-hk5drwm4</code><br/><br/>\n",
       "            "
      ],
      "text/plain": [
       "<IPython.core.display.HTML object>"
      ]
     },
     "metadata": {},
     "output_type": "display_data"
    },
    {
     "name": "stdout",
     "output_type": "stream",
     "text": [
      "dataset size: 10000\n",
      "dataset samples shape: torch.Size([10000, 9])\n",
      "dataset classes shape: torch.Size([10000, 1])\n",
      "| Epoch: 0010 | Train Loss: 0.529 | Train Acc: 79.40% | Val. Loss: 0.517 | Val. Acc: 79.85% |\n",
      "| Epoch: 0020 | Train Loss: 0.498 | Train Acc: 79.70% | Val. Loss: 0.484 | Val. Acc: 80.28% |\n",
      "| Epoch: 0030 | Train Loss: 0.494 | Train Acc: 79.70% | Val. Loss: 0.489 | Val. Acc: 79.53% |\n",
      "| Epoch: 0040 | Train Loss: 0.492 | Train Acc: 79.61% | Val. Loss: 0.483 | Val. Acc: 79.53% |\n",
      "| Epoch: 0050 | Train Loss: 0.488 | Train Acc: 79.61% | Val. Loss: 0.471 | Val. Acc: 80.28% |\n",
      "| Epoch: 0060 | Train Loss: 0.485 | Train Acc: 79.70% | Val. Loss: 0.481 | Val. Acc: 78.77% |\n",
      "| Epoch: 0070 | Train Loss: 0.482 | Train Acc: 79.70% | Val. Loss: 0.467 | Val. Acc: 80.28% |\n",
      "| Epoch: 0080 | Train Loss: 0.481 | Train Acc: 79.61% | Val. Loss: 0.472 | Val. Acc: 79.53% |\n",
      "| Epoch: 0090 | Train Loss: 0.479 | Train Acc: 79.64% | Val. Loss: 0.461 | Val. Acc: 80.28% |\n",
      "| Epoch: 0100 | Train Loss: 0.476 | Train Acc: 79.74% | Val. Loss: 0.471 | Val. Acc: 78.77% |\n"
     ]
    },
    {
     "name": "stderr",
     "output_type": "stream",
     "text": [
      "C:\\Users\\teamt\\AppData\\Roaming\\Python\\Python38\\site-packages\\sklearn\\metrics\\_classification.py:1221: UndefinedMetricWarning: Precision is ill-defined and being set to 0.0 due to no predicted samples. Use `zero_division` parameter to control this behavior.\n",
      "  _warn_prf(average, modifier, msg_start, len(result))\n"
     ]
    },
    {
     "data": {
      "text/html": [
       "<br/>Waiting for W&B process to finish, PID 9672<br/>Program ended successfully."
      ],
      "text/plain": [
       "<IPython.core.display.HTML object>"
      ]
     },
     "metadata": {},
     "output_type": "display_data"
    },
    {
     "data": {
      "application/vnd.jupyter.widget-view+json": {
       "model_id": "4fef239a16a3472e986916d3adc9a614",
       "version_major": 2,
       "version_minor": 0
      },
      "text/plain": [
       "VBox(children=(Label(value=' 0.00MB of 0.00MB uploaded (0.00MB deduped)\\r'), FloatProgress(value=1.0, max=1.0)…"
      ]
     },
     "metadata": {},
     "output_type": "display_data"
    },
    {
     "data": {
      "text/html": [
       "Find user logs for this run at: <code>c:\\python\\anaconda_base\\pytorch-tutorial\\wandb\\run-20211003_223548-hk5drwm4\\logs\\debug.log</code>"
      ],
      "text/plain": [
       "<IPython.core.display.HTML object>"
      ]
     },
     "metadata": {},
     "output_type": "display_data"
    },
    {
     "data": {
      "text/html": [
       "Find internal logs for this run at: <code>c:\\python\\anaconda_base\\pytorch-tutorial\\wandb\\run-20211003_223548-hk5drwm4\\logs\\debug-internal.log</code>"
      ],
      "text/plain": [
       "<IPython.core.display.HTML object>"
      ]
     },
     "metadata": {},
     "output_type": "display_data"
    },
    {
     "data": {
      "text/html": [
       "<h3>Run summary:</h3><br/><style>\n",
       "    table.wandb td:nth-child(1) { padding: 0 10px; text-align: right }\n",
       "    </style><table class=\"wandb\">\n",
       "<tr><td>train_loss</td><td>0.4758</td></tr><tr><td>train_acc</td><td>0.79737</td></tr><tr><td>valid_loss</td><td>0.47137</td></tr><tr><td>valid_acc</td><td>0.78772</td></tr><tr><td>lr</td><td>0.0001</td></tr><tr><td>epoch_time</td><td>0.21328</td></tr><tr><td>_runtime</td><td>30</td></tr><tr><td>_timestamp</td><td>1633293379</td></tr><tr><td>_step</td><td>99</td></tr><tr><td>accuracy</td><td>0.796</td></tr><tr><td>prec</td><td>0.0</td></tr><tr><td>recall</td><td>0.0</td></tr><tr><td>f1</td><td>0.0</td></tr></table>"
      ],
      "text/plain": [
       "<IPython.core.display.HTML object>"
      ]
     },
     "metadata": {},
     "output_type": "display_data"
    },
    {
     "data": {
      "text/html": [
       "<h3>Run history:</h3><br/><style>\n",
       "    table.wandb td:nth-child(1) { padding: 0 10px; text-align: right }\n",
       "    </style><table class=\"wandb\">\n",
       "<tr><td>train_loss</td><td>█▆▄▃▂▂▂▂▂▂▂▂▂▂▂▁▁▁▁▁▁▁▁▁▁▁▁▁▁▁▁▁▁▁▁▁▁▁▁▁</td></tr><tr><td>train_acc</td><td>▁▅▇█████████████████████████████████████</td></tr><tr><td>valid_loss</td><td>█▆▄▃▃▂▂▂▂▂▂▂▂▁▂▁▂▂▁▂▁▂▂▁▂▁▁▂▂▁▁▁▁▁▁▁▁▂▁▁</td></tr><tr><td>valid_acc</td><td>▁▅▇██████▇██████████████████████████████</td></tr><tr><td>lr</td><td>▁▁▁▁▁▁▁▁▁▁▁▁▁▁▁▁▁▁▁▁▁▁▁▁▁▁▁▁▁▁▁▁▁▁▁▁▁▁▁▁</td></tr><tr><td>epoch_time</td><td>▁▄▂▃▃▃▃▃▃▃▃▃▃▃▄▃▃▃▃▄▃▃▄▄▃▃█▃▄▄▂▁▂▂▂▁▂▂▂▂</td></tr><tr><td>_runtime</td><td>▁▁▁▁▂▂▂▂▂▃▃▃▃▃▃▄▄▄▄▅▅▅▅▅▅▅▆▆▆▇▇▇▇▇▇▇▇▇██</td></tr><tr><td>_timestamp</td><td>▁▁▁▁▂▂▂▂▂▃▃▃▃▃▃▄▄▄▄▅▅▅▅▅▅▅▆▆▆▇▇▇▇▇▇▇▇▇██</td></tr><tr><td>_step</td><td>▁▁▁▁▂▂▂▂▂▃▃▃▃▃▃▄▄▄▄▄▅▅▅▅▅▅▆▆▆▆▆▇▇▇▇▇▇███</td></tr></table><br/>"
      ],
      "text/plain": [
       "<IPython.core.display.HTML object>"
      ]
     },
     "metadata": {},
     "output_type": "display_data"
    },
    {
     "data": {
      "text/html": [
       "Synced 5 W&B file(s), 0 media file(s), 0 artifact file(s) and 0 other file(s)"
      ],
      "text/plain": [
       "<IPython.core.display.HTML object>"
      ]
     },
     "metadata": {},
     "output_type": "display_data"
    },
    {
     "data": {
      "text/html": [
       "\n",
       "                    <br/>Synced <strong style=\"color:#cdcd00\">astral-sweep-80</strong>: <a href=\"https://wandb.ai/teamtom/churn-class-imbalance-with-treshold01/runs/hk5drwm4\" target=\"_blank\">https://wandb.ai/teamtom/churn-class-imbalance-with-treshold01/runs/hk5drwm4</a><br/>\n",
       "                "
      ],
      "text/plain": [
       "<IPython.core.display.HTML object>"
      ]
     },
     "metadata": {},
     "output_type": "display_data"
    },
    {
     "name": "stderr",
     "output_type": "stream",
     "text": [
      "wandb: Sweep Agent: Waiting for job.\n",
      "wandb: Sweep Agent: Exiting.\n"
     ]
    }
   ],
   "source": [
    "wandb.agent(sweep_id, sweep_me)"
   ]
  }
 ],
 "metadata": {
  "kernelspec": {
   "display_name": "main",
   "language": "python",
   "name": "main"
  },
  "language_info": {
   "codemirror_mode": {
    "name": "ipython",
    "version": 3
   },
   "file_extension": ".py",
   "mimetype": "text/x-python",
   "name": "python",
   "nbconvert_exporter": "python",
   "pygments_lexer": "ipython3",
   "version": "3.8.8"
  }
 },
 "nbformat": 4,
 "nbformat_minor": 4
}
